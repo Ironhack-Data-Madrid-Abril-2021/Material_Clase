{
 "cells": [
  {
   "cell_type": "markdown",
   "metadata": {},
   "source": [
    "# 3.2 - Automatización"
   ]
  },
  {
   "cell_type": "markdown",
   "metadata": {},
   "source": [
    "**Librerias**"
   ]
  },
  {
   "cell_type": "code",
   "execution_count": 1,
   "metadata": {},
   "outputs": [],
   "source": [
    "from selenium import webdriver\n",
    "\n",
    "import time\n",
    "\n",
    "import getpass  # texto oculto, passwords\n",
    "\n",
    "import os # libreria sistema\n",
    "\n",
    "from zipfile import ZipFile # manejos de archivos zip\n",
    "\n",
    "import pandas as pd"
   ]
  },
  {
   "cell_type": "markdown",
   "metadata": {},
   "source": [
    "### Opciones del driver\n",
    "\n",
    "https://peter.sh/experiments/chromium-command-line-switches/\n"
   ]
  },
  {
   "cell_type": "code",
   "execution_count": 2,
   "metadata": {},
   "outputs": [],
   "source": [
    "from selenium.webdriver.chrome.options import Options"
   ]
  },
  {
   "cell_type": "code",
   "execution_count": 11,
   "metadata": {},
   "outputs": [],
   "source": [
    "# opciones del driver\n",
    "\n",
    "\n",
    "opciones=Options()\n",
    "\n",
    "opciones.add_experimental_option('excludeSwitches', ['enable-automation'])\n",
    "opciones.add_experimental_option('useAutomationExtension', False) # me ocultan como robot\n",
    "\n",
    "opciones.headless=False    # si True, no sale la ventana del browser\n",
    "\n",
    "opciones.add_argument('--start-maximized') # empezar maximizado\n",
    "\n",
    "#opciones.add_argument('user-data-dir=selenium') # guarda las cookies\n",
    "\n",
    "opciones.add_argument('driver/adblock.crx')  # adblocker"
   ]
  },
  {
   "cell_type": "markdown",
   "metadata": {},
   "source": [
    "### Creando usuario random\n",
    "\n",
    "https://pypi.org/project/fake-useragent/"
   ]
  },
  {
   "cell_type": "code",
   "execution_count": null,
   "metadata": {},
   "outputs": [],
   "source": [
    "!pip install fake_useragent  # usuario ficticio"
   ]
  },
  {
   "cell_type": "code",
   "execution_count": null,
   "metadata": {},
   "outputs": [],
   "source": [
    "from fake_useragent import UserAgent\n",
    "\n",
    "usuario=UserAgent().random\n",
    "\n",
    "opciones.add_argument(f'user-agent={usuario}')"
   ]
  },
  {
   "cell_type": "markdown",
   "metadata": {},
   "source": [
    "### Ejemplo Cuevana\n",
    "\n",
    "https://www1.cuevana3.video/"
   ]
  },
  {
   "cell_type": "code",
   "execution_count": 8,
   "metadata": {},
   "outputs": [],
   "source": [
    "from selenium.webdriver.common.by import By\n",
    "from selenium.webdriver.support.ui import WebDriverWait\n",
    "from selenium.webdriver.support import expected_conditions as EC\n",
    "from selenium.webdriver import ActionChains as AC"
   ]
  },
  {
   "cell_type": "code",
   "execution_count": 9,
   "metadata": {},
   "outputs": [],
   "source": [
    "url='https://www1.cuevana3.video/'"
   ]
  },
  {
   "cell_type": "code",
   "execution_count": null,
   "metadata": {},
   "outputs": [],
   "source": [
    "driver=webdriver.Chrome(PATH, options=opciones)\n",
    "driver.get(url)\n",
    "    \n",
    "time.sleep(5)\n",
    "\n",
    "\n",
    "buscar=driver.find_element_by_xpath('//*[@id=\"keysss\"]')\n",
    "\n",
    "buscar.send_keys('final space')\n",
    "buscar.submit()\n",
    "\n",
    "\n",
    "primer_resultado=driver.find_element_by_xpath('//*[@id=\"aa-wp\"]/div/div/main/section/ul/li/div/a/div/figure/img')\n",
    "primer_resultado.click()\n",
    "\n",
    "\n",
    "temporadas=driver.find_element_by_xpath('//*[@id=\"select-season\"]')\n",
    "temporadas.click()\n",
    "\n",
    "chooser=WebDriverWait(temporadas, 5).until(EC.element_to_be_clickable((By.XPATH, '//*[contains(text(),'+'\"'+f'Temporada {1}'+'\"'+')]')))\n",
    "chooser.click()\n",
    "\n",
    "capitulos=driver.find_element_by_xpath(f'//*[@id=\"season-{1}\"]')\n",
    "\n",
    "capitulos=capitulos.find_elements_by_tag_name('li')\n",
    "time.sleep(1)\n",
    "\n",
    "# desde aqui capitulos \n",
    "capitulos[-1].click()\n",
    "\n",
    "#while 1:\n",
    "\n",
    "time.sleep(1)\n",
    "\n",
    "try:\n",
    "    idioma=driver.find_element_by_xpath('//*[@id=\"top-single\"]/div[1]/ul')\n",
    "    idioma=WebDriverWait(idioma, 2).until(EC.element_to_be_clickable((By.XPATH, '//*[contains(text(),'+'\"'+'Subtitulado '+'\"'+')]')))\n",
    "    idioma.click()\n",
    "\n",
    "    idioma=driver.find_element_by_xpath('//*[@id=\"top-single\"]/div[1]/ul/li[2]/div[2]/ul')\n",
    "    idioma.click()\n",
    "except:\n",
    "    print('no hay subtitulado..')\n",
    "\n",
    "\n",
    "video=driver.find_element_by_xpath('//*[@id=\"top-single\"]/div[1]/div[2]/div/div/div/div/iframe')\n",
    "video.click()\n",
    "\n",
    "video_url=video.get_attribute('src')\n",
    "\n",
    "\n",
    "driver.get(video_url)\n",
    "time.sleep(2)\n",
    "\n",
    "# depende del video player\n",
    "play=driver.find_element_by_xpath('//*[@id=\"myVideo\"]/div[2]/div[12]/div[1]/div/div/div[2]/div')\n",
    "play.click()\n",
    "\n",
    "\n",
    "pantalla_completa=driver.find_element_by_xpath('//*[@id=\"myVideo\"]/div[2]/div[12]/div[4]/div[2]/div[15]')\n",
    "pantalla_completa.click()\n",
    "\n",
    "tiempo_cap=0\n",
    "\n",
    "time.sleep(1)\n",
    "\n",
    "while 1:\n",
    "    tiempo_cap=driver.find_element_by_class_name('jw-icon.jw-icon-inline.jw-text.jw-reset.jw-text-countdown').get_attribute('innerText') \n",
    "    if tiempo_cap=='00:00':\n",
    "        break\n",
    "\n",
    "video=driver.find_element_by_xpath('//*[@id=\"myVideo\"]/div[2]/div[4]/video')\n",
    "\n",
    "AC(driver).double_click(video).perform()\n",
    "\n",
    "driver.back()\n",
    "\n",
    "siguiente=driver.find_element_by_xpath('//*[@id=\"top-single\"]/div[1]/div[3]/a[3]')\n",
    "siguiente.click()"
   ]
  },
  {
   "cell_type": "code",
   "execution_count": null,
   "metadata": {},
   "outputs": [],
   "source": []
  }
 ],
 "metadata": {
  "finalized": {
   "timestamp": 1618416077763,
   "trusted": true
  },
  "kernelspec": {
   "display_name": "Python 3",
   "language": "python",
   "name": "python3"
  },
  "language_info": {
   "codemirror_mode": {
    "name": "ipython",
    "version": 3
   },
   "file_extension": ".py",
   "mimetype": "text/x-python",
   "name": "python",
   "nbconvert_exporter": "python",
   "pygments_lexer": "ipython3",
   "version": "3.8.3"
  },
  "varInspector": {
   "cols": {
    "lenName": 16,
    "lenType": 16,
    "lenVar": 40
   },
   "kernels_config": {
    "python": {
     "delete_cmd_postfix": "",
     "delete_cmd_prefix": "del ",
     "library": "var_list.py",
     "varRefreshCmd": "print(var_dic_list())"
    },
    "r": {
     "delete_cmd_postfix": ") ",
     "delete_cmd_prefix": "rm(",
     "library": "var_list.r",
     "varRefreshCmd": "cat(var_dic_list()) "
    }
   },
   "types_to_exclude": [
    "module",
    "function",
    "builtin_function_or_method",
    "instance",
    "_Feature"
   ],
   "window_display": false
  }
 },
 "nbformat": 4,
 "nbformat_minor": 4
}
