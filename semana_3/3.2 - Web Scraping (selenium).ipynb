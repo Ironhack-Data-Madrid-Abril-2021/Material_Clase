{
 "cells": [
  {
   "cell_type": "markdown",
   "metadata": {},
   "source": [
    "# 3.1 - Web Scraping (selenium)\n",
    "\n",
    "**[Documentación](https://selenium-python.readthedocs.io/)**\n"
   ]
  },
  {
   "cell_type": "code",
   "execution_count": null,
   "metadata": {},
   "outputs": [],
   "source": [
    "!pip install selenium"
   ]
  },
  {
   "cell_type": "code",
   "execution_count": 1,
   "metadata": {},
   "outputs": [],
   "source": [
    "from selenium import webdriver"
   ]
  },
  {
   "cell_type": "code",
   "execution_count": null,
   "metadata": {},
   "outputs": [],
   "source": [
    "# prueba conexion con google\n",
    "\n",
    "webdriver.Chrome('driver/chromedriver_mac').get('https://www.google.es')"
   ]
  },
  {
   "cell_type": "markdown",
   "metadata": {},
   "source": [
    "**Si no has descargado el driver para Google, o el geckodriver para Firefox, puedes manejarlo para Chrome con esta librería.**"
   ]
  },
  {
   "cell_type": "code",
   "execution_count": null,
   "metadata": {},
   "outputs": [],
   "source": [
    "!pip install webdriver-manager"
   ]
  },
  {
   "cell_type": "code",
   "execution_count": null,
   "metadata": {},
   "outputs": [],
   "source": [
    "from webdriver_manager.chrome import ChromeDriverManager"
   ]
  },
  {
   "cell_type": "code",
   "execution_count": null,
   "metadata": {},
   "outputs": [],
   "source": [
    "webdriver.Chrome(ChromeDriverManager().install()).get('https://www.google.es')"
   ]
  },
  {
   "cell_type": "markdown",
   "metadata": {},
   "source": [
    "### Realizando una búsqueda en Google\n",
    "\n",
    "Importamos `time` para el manejo de los tiempos dentro del código. Haremos una búsqueda en Google y extraeremos los enlaces de los resultados."
   ]
  },
  {
   "cell_type": "code",
   "execution_count": 2,
   "metadata": {},
   "outputs": [],
   "source": [
    "import time"
   ]
  },
  {
   "cell_type": "code",
   "execution_count": 3,
   "metadata": {},
   "outputs": [],
   "source": [
    "PATH='driver/chromedriver_mac'\n",
    "\n",
    "url='https://www.google.es/search?q='"
   ]
  },
  {
   "cell_type": "code",
   "execution_count": 4,
   "metadata": {},
   "outputs": [],
   "source": [
    "busqueda='machine+learning+python'"
   ]
  },
  {
   "cell_type": "code",
   "execution_count": 6,
   "metadata": {},
   "outputs": [
    {
     "data": {
      "text/plain": [
       "['https://www.google.es/search?q=machine+learning+python&source=lnms&tbm=isch&sa=X&ved=2ahUKEwi7ua67_sPwAhWCY8AKHSzmDDEQ_AUoAnoECAEQBA',\n",
       " 'https://www.google.es/search?q=machine+learning+python&source=lnms&tbm=bks&sa=X&ved=2ahUKEwi7ua67_sPwAhWCY8AKHSzmDDEQ_AUoA3oECAEQBQ',\n",
       " 'https://www.google.es/search?q=machine+learning+python&source=lnms&tbm=nws&sa=X&ved=2ahUKEwi7ua67_sPwAhWCY8AKHSzmDDEQ_AUoBHoECAEQBg',\n",
       " 'https://www.google.es/preferences',\n",
       " 'https://training.solidq.com/es/course/curso-machine-learning-python/',\n",
       " 'https://www.google.es/aclk?sa=l&ai=DChcSEwj85LS7_sPwAhWfgFAGHV9nCMIYABADGgJkZw&ae=2&sig=AOD64_0mSoULeQjcuTKdQiBtQWLik1jMjA&q=&ved=2ahUKEwi7ua67_sPwAhWCY8AKHSzmDDEQqyQoAHoECAQQEQ&adurl=',\n",
       " 'https://www.google.es/aclk?sa=l&ai=DChcSEwj85LS7_sPwAhWfgFAGHV9nCMIYABAFGgJkZw&ae=2&sig=AOD64_1mVbFueKLzziHaevSCSbG2girhvw&q=&ved=2ahUKEwi7ua67_sPwAhWCY8AKHSzmDDEQqyQoAXoECAQQEg&adurl=',\n",
       " 'https://www.udemy.com/course/machine-learning-course-with-python/',\n",
       " 'https://www.google.es/aclk?sa=l&ai=DChcSEwj85LS7_sPwAhWfgFAGHV9nCMIYABAEGgJkZw&ae=2&sig=AOD64_3EWpV8uz3_oL2Hscjc7B06X8He5w&q=&ved=2ahUKEwi7ua67_sPwAhWCY8AKHSzmDDEQpigoAHoECAIQEw&adurl=',\n",
       " 'https://www.google.es/aclk?sa=l&ai=DChcSEwj85LS7_sPwAhWfgFAGHV9nCMIYABAGGgJkZw&ae=2&sig=AOD64_1TU9A1RrAsnJ_OUvaDud-rAtKtnA&q=&ved=2ahUKEwi7ua67_sPwAhWCY8AKHSzmDDEQpigoAXoECAIQFA&adurl=']"
      ]
     },
     "metadata": {},
     "output_type": "display_data"
    }
   ],
   "source": [
    "driver=webdriver.Chrome(PATH)\n",
    "\n",
    "driver.get(url + busqueda)\n",
    "\n",
    "time.sleep(2)  # para 2 segundos para que cargue la pagina\n",
    "\n",
    "display([a.get_attribute('href') for a in driver.find_elements_by_tag_name('a')][10:20])\n",
    "\n",
    "driver.quit()"
   ]
  },
  {
   "cell_type": "markdown",
   "metadata": {},
   "source": [
    "Con dos páginas, navegando por Google."
   ]
  },
  {
   "cell_type": "code",
   "execution_count": 10,
   "metadata": {},
   "outputs": [
    {
     "name": "stdout",
     "output_type": "stream",
     "text": [
      "126\n",
      "309\n"
     ]
    }
   ],
   "source": [
    "driver=webdriver.Chrome(PATH)\n",
    "\n",
    "driver.get(url + busqueda)\n",
    "\n",
    "time.sleep(2) \n",
    "\n",
    "driver.find_element_by_xpath('//*[@id=\"L2AGLb\"]').click()      # representa el boton de aceptar cookies\n",
    "\n",
    "resultados=[a.get_attribute('href') for a in driver.find_elements_by_tag_name('a')]   # links pag 1\n",
    "\n",
    "print(len(resultados))\n",
    "\n",
    "driver.find_element_by_xpath('//*[@id=\"pnnext\"]/span[2]').click()  # representa el boton de siguiente\n",
    "\n",
    "resultados+=[a.get_attribute('href') for a in driver.find_elements_by_tag_name('a')]   # se añaden links pag 2\n",
    "\n",
    "print(len(resultados))\n",
    "\n",
    "driver.quit()"
   ]
  },
  {
   "cell_type": "markdown",
   "metadata": {},
   "source": [
    "### Ejemplo ciberataques\n",
    "\n",
    "https://threatbutt.com/map/"
   ]
  },
  {
   "cell_type": "code",
   "execution_count": 11,
   "metadata": {},
   "outputs": [],
   "source": [
    "url='https://threatbutt.com/map/'"
   ]
  },
  {
   "cell_type": "code",
   "execution_count": 14,
   "metadata": {},
   "outputs": [
    {
     "data": {
      "text/plain": [
       "\"gbr (30.84.29.26) uses EXTRABACON against usa (67.88.51.1) -- it didn't work so good\""
      ]
     },
     "execution_count": 14,
     "metadata": {},
     "output_type": "execute_result"
    }
   ],
   "source": [
    "driver=webdriver.Chrome(PATH)\n",
    "\n",
    "driver.get(url)\n",
    "\n",
    "time.sleep(3) \n",
    "\n",
    "tabla=driver.find_element_by_id('attackdiv')\n",
    "\n",
    "fila=tabla.text.split('\\n')[-1]\n",
    "\n",
    "driver.quit()\n",
    "\n",
    "fila"
   ]
  },
  {
   "cell_type": "markdown",
   "metadata": {},
   "source": [
    "Extracción continua"
   ]
  },
  {
   "cell_type": "code",
   "execution_count": 15,
   "metadata": {},
   "outputs": [
    {
     "data": {
      "text/plain": [
       "[\"irl (9.43.12.189) uses UNEXPECTED LITIGATION! against bra (238.148.193.98) -- NSA tells us we can't tell you if it worked\",\n",
       " \"kor (250.177.7.177) uses an attack for which we don't yet have a marketing-worthy name against isr (46.32.125.67) -- It's good for business!\",\n",
       " \"usa (166.120.53.124) uses EULA Violation! against usa (74.25.87.171) -- IT'S CYBER POMPEII !\",\n",
       " \"chn (254.226.81.107) uses 4Chan against kor (27.215.203.87) -- IT'S CYBER POMPEII !\",\n",
       " \"chn (254.226.81.107) uses 4Chan against kor (27.215.203.87) -- IT'S CYBER POMPEII !\"]"
      ]
     },
     "execution_count": 15,
     "metadata": {},
     "output_type": "execute_result"
    }
   ],
   "source": [
    "driver=webdriver.Chrome(PATH)\n",
    "\n",
    "driver.get(url)\n",
    "\n",
    "time.sleep(3) \n",
    "\n",
    "resultados=[]\n",
    "\n",
    "cuenta=0\n",
    "\n",
    "while cuenta<20:\n",
    "    time.sleep(1)\n",
    "\n",
    "    tabla=driver.find_element_by_id('attackdiv')\n",
    "\n",
    "    fila=tabla.text.split('\\n')[-1]\n",
    "    \n",
    "    resultados.append(fila)\n",
    "    \n",
    "    cuenta+=1\n",
    "\n",
    "driver.quit()\n",
    "\n",
    "resultados[:5]"
   ]
  },
  {
   "cell_type": "markdown",
   "metadata": {},
   "source": [
    "### Ejemplo ESPN\n",
    "\n",
    "https://www.espn.com/soccer/competitions"
   ]
  },
  {
   "cell_type": "code",
   "execution_count": 16,
   "metadata": {},
   "outputs": [],
   "source": [
    "url='https://www.espn.com/soccer/competitions'"
   ]
  },
  {
   "cell_type": "code",
   "execution_count": 19,
   "metadata": {},
   "outputs": [
    {
     "data": {
      "text/plain": [
       "['RK', 'NAME', 'P', 'YC', 'RC', 'PTS']"
      ]
     },
     "execution_count": 19,
     "metadata": {},
     "output_type": "execute_result"
    }
   ],
   "source": [
    "driver=webdriver.Chrome(PATH)\n",
    "driver.get(url)\n",
    "\n",
    "time.sleep(3) \n",
    "\n",
    "\n",
    "# seleciona por xpath, como na mezcla de css selector y id, son unicos\n",
    "aceptar=driver.find_element_by_xpath('//*[@id=\"onetrust-accept-btn-handler\"]')  # acepta cookies\n",
    "aceptar.click()\n",
    "\n",
    "time.sleep(2)\n",
    "\n",
    "# selecciona los equipos de la liga, por la posicion en el html\n",
    "equipos=driver.find_element_by_css_selector('#fittPageContainer > div.page-container.cf > div > div > div > div:nth-child(3) > div:nth-child(1) > div > div:nth-child(5) > div > section > div > div > span:nth-child(2) > a')\n",
    "equipos.click()\n",
    "\n",
    "time.sleep(2)\n",
    "\n",
    "bilbo_stats=driver.find_element_by_xpath('//*[@id=\"fittPageContainer\"]/div[3]/div/div/div[1]/div[2]/div[1]/div/div[2]/div/section/div/div/span[2]/a')\n",
    "bilbo_stats.click()\n",
    "\n",
    "time.sleep(2)\n",
    "\n",
    "disciplina=driver.find_element_by_xpath('//*[@id=\"fittPageContainer\"]/div[2]/div[5]/div/div/section/div/div[2]/nav/ul/li[2]/a')\n",
    "disciplina.click()\n",
    "\n",
    "time.sleep(1)\n",
    "\n",
    "cabeceras=driver.find_element_by_tag_name('thead')\n",
    "\n",
    "cabeceras=[c.text for c in cabeceras.find_elements_by_tag_name('th')]\n",
    "\n",
    "\n",
    "tabla=driver.find_element_by_tag_name('tbody')\n",
    "\n",
    "filas=tabla.find_elements_by_tag_name('tr')\n",
    "\n",
    "'''\n",
    "datos=[]\n",
    "\n",
    "for f in filas:\n",
    "    datos.append([e.text for e in f.find_elements_by_tag_name('td')])\n",
    "'''\n",
    "\n",
    "datos=[[e.text for e in f.find_elements_by_tag_name('td')] for f in filas]\n",
    "\n",
    "\n",
    "driver.quit()\n",
    "\n",
    "\n",
    "cabeceras\n"
   ]
  },
  {
   "cell_type": "code",
   "execution_count": 20,
   "metadata": {},
   "outputs": [
    {
     "data": {
      "text/html": [
       "<div>\n",
       "<style scoped>\n",
       "    .dataframe tbody tr th:only-of-type {\n",
       "        vertical-align: middle;\n",
       "    }\n",
       "\n",
       "    .dataframe tbody tr th {\n",
       "        vertical-align: top;\n",
       "    }\n",
       "\n",
       "    .dataframe thead th {\n",
       "        text-align: right;\n",
       "    }\n",
       "</style>\n",
       "<table border=\"1\" class=\"dataframe\">\n",
       "  <thead>\n",
       "    <tr style=\"text-align: right;\">\n",
       "      <th></th>\n",
       "      <th>RK</th>\n",
       "      <th>NAME</th>\n",
       "      <th>P</th>\n",
       "      <th>YC</th>\n",
       "      <th>RC</th>\n",
       "      <th>PTS</th>\n",
       "    </tr>\n",
       "  </thead>\n",
       "  <tbody>\n",
       "    <tr>\n",
       "      <th>0</th>\n",
       "      <td>1</td>\n",
       "      <td>Iñigo Martínez</td>\n",
       "      <td>26</td>\n",
       "      <td>8</td>\n",
       "      <td>1</td>\n",
       "      <td>11</td>\n",
       "    </tr>\n",
       "    <tr>\n",
       "      <th>1</th>\n",
       "      <td>2</td>\n",
       "      <td>Raúl García</td>\n",
       "      <td>32</td>\n",
       "      <td>5</td>\n",
       "      <td>1</td>\n",
       "      <td>8</td>\n",
       "    </tr>\n",
       "    <tr>\n",
       "      <th>2</th>\n",
       "      <td></td>\n",
       "      <td>Dani García</td>\n",
       "      <td>26</td>\n",
       "      <td>8</td>\n",
       "      <td>0</td>\n",
       "      <td>8</td>\n",
       "    </tr>\n",
       "    <tr>\n",
       "      <th>3</th>\n",
       "      <td>4</td>\n",
       "      <td>Mikel Vesga</td>\n",
       "      <td>27</td>\n",
       "      <td>7</td>\n",
       "      <td>0</td>\n",
       "      <td>7</td>\n",
       "    </tr>\n",
       "    <tr>\n",
       "      <th>4</th>\n",
       "      <td>5</td>\n",
       "      <td>Unai Vencedor</td>\n",
       "      <td>25</td>\n",
       "      <td>6</td>\n",
       "      <td>0</td>\n",
       "      <td>6</td>\n",
       "    </tr>\n",
       "    <tr>\n",
       "      <th>5</th>\n",
       "      <td></td>\n",
       "      <td>Unai López</td>\n",
       "      <td>23</td>\n",
       "      <td>6</td>\n",
       "      <td>0</td>\n",
       "      <td>6</td>\n",
       "    </tr>\n",
       "    <tr>\n",
       "      <th>6</th>\n",
       "      <td></td>\n",
       "      <td>Unai Núñez</td>\n",
       "      <td>23</td>\n",
       "      <td>6</td>\n",
       "      <td>0</td>\n",
       "      <td>6</td>\n",
       "    </tr>\n",
       "    <tr>\n",
       "      <th>7</th>\n",
       "      <td></td>\n",
       "      <td>Yeray</td>\n",
       "      <td>21</td>\n",
       "      <td>6</td>\n",
       "      <td>0</td>\n",
       "      <td>6</td>\n",
       "    </tr>\n",
       "    <tr>\n",
       "      <th>8</th>\n",
       "      <td>9</td>\n",
       "      <td>Ander Capa</td>\n",
       "      <td>28</td>\n",
       "      <td>5</td>\n",
       "      <td>0</td>\n",
       "      <td>5</td>\n",
       "    </tr>\n",
       "    <tr>\n",
       "      <th>9</th>\n",
       "      <td>10</td>\n",
       "      <td>Álex Berenguer</td>\n",
       "      <td>32</td>\n",
       "      <td>3</td>\n",
       "      <td>0</td>\n",
       "      <td>3</td>\n",
       "    </tr>\n",
       "    <tr>\n",
       "      <th>10</th>\n",
       "      <td></td>\n",
       "      <td>Jon Morcillo</td>\n",
       "      <td>28</td>\n",
       "      <td>3</td>\n",
       "      <td>0</td>\n",
       "      <td>3</td>\n",
       "    </tr>\n",
       "    <tr>\n",
       "      <th>11</th>\n",
       "      <td></td>\n",
       "      <td>Yuri Berchiche</td>\n",
       "      <td>23</td>\n",
       "      <td>3</td>\n",
       "      <td>0</td>\n",
       "      <td>3</td>\n",
       "    </tr>\n",
       "    <tr>\n",
       "      <th>12</th>\n",
       "      <td>13</td>\n",
       "      <td>Oihan Sancet</td>\n",
       "      <td>21</td>\n",
       "      <td>2</td>\n",
       "      <td>0</td>\n",
       "      <td>2</td>\n",
       "    </tr>\n",
       "    <tr>\n",
       "      <th>13</th>\n",
       "      <td></td>\n",
       "      <td>Óscar de Marcos</td>\n",
       "      <td>22</td>\n",
       "      <td>2</td>\n",
       "      <td>0</td>\n",
       "      <td>2</td>\n",
       "    </tr>\n",
       "    <tr>\n",
       "      <th>14</th>\n",
       "      <td>15</td>\n",
       "      <td>Iñigo Lekue</td>\n",
       "      <td>17</td>\n",
       "      <td>1</td>\n",
       "      <td>0</td>\n",
       "      <td>1</td>\n",
       "    </tr>\n",
       "    <tr>\n",
       "      <th>15</th>\n",
       "      <td></td>\n",
       "      <td>Unai Simón</td>\n",
       "      <td>35</td>\n",
       "      <td>1</td>\n",
       "      <td>0</td>\n",
       "      <td>1</td>\n",
       "    </tr>\n",
       "    <tr>\n",
       "      <th>16</th>\n",
       "      <td>17</td>\n",
       "      <td>Oier Zarraga</td>\n",
       "      <td>5</td>\n",
       "      <td>0</td>\n",
       "      <td>0</td>\n",
       "      <td>0</td>\n",
       "    </tr>\n",
       "    <tr>\n",
       "      <th>17</th>\n",
       "      <td></td>\n",
       "      <td>Beñat Prados</td>\n",
       "      <td>0</td>\n",
       "      <td>0</td>\n",
       "      <td>0</td>\n",
       "      <td>0</td>\n",
       "    </tr>\n",
       "    <tr>\n",
       "      <th>18</th>\n",
       "      <td></td>\n",
       "      <td>Ibai Gómez</td>\n",
       "      <td>10</td>\n",
       "      <td>0</td>\n",
       "      <td>0</td>\n",
       "      <td>0</td>\n",
       "    </tr>\n",
       "    <tr>\n",
       "      <th>19</th>\n",
       "      <td></td>\n",
       "      <td>Julen Bernaola</td>\n",
       "      <td>0</td>\n",
       "      <td>0</td>\n",
       "      <td>0</td>\n",
       "      <td>0</td>\n",
       "    </tr>\n",
       "    <tr>\n",
       "      <th>20</th>\n",
       "      <td></td>\n",
       "      <td>Aitor Paredes</td>\n",
       "      <td>0</td>\n",
       "      <td>0</td>\n",
       "      <td>0</td>\n",
       "      <td>0</td>\n",
       "    </tr>\n",
       "    <tr>\n",
       "      <th>21</th>\n",
       "      <td></td>\n",
       "      <td>Peru Nolaskoain</td>\n",
       "      <td>0</td>\n",
       "      <td>0</td>\n",
       "      <td>0</td>\n",
       "      <td>0</td>\n",
       "    </tr>\n",
       "    <tr>\n",
       "      <th>22</th>\n",
       "      <td></td>\n",
       "      <td>Mikel Balenziaga</td>\n",
       "      <td>20</td>\n",
       "      <td>0</td>\n",
       "      <td>0</td>\n",
       "      <td>0</td>\n",
       "    </tr>\n",
       "    <tr>\n",
       "      <th>23</th>\n",
       "      <td></td>\n",
       "      <td>Iago Herrerín</td>\n",
       "      <td>0</td>\n",
       "      <td>0</td>\n",
       "      <td>0</td>\n",
       "      <td>0</td>\n",
       "    </tr>\n",
       "    <tr>\n",
       "      <th>24</th>\n",
       "      <td></td>\n",
       "      <td>Jokin Ezkieta</td>\n",
       "      <td>0</td>\n",
       "      <td>0</td>\n",
       "      <td>0</td>\n",
       "      <td>0</td>\n",
       "    </tr>\n",
       "  </tbody>\n",
       "</table>\n",
       "</div>"
      ],
      "text/plain": [
       "    RK              NAME   P YC RC PTS\n",
       "0    1    Iñigo Martínez  26  8  1  11\n",
       "1    2       Raúl García  32  5  1   8\n",
       "2            Dani García  26  8  0   8\n",
       "3    4       Mikel Vesga  27  7  0   7\n",
       "4    5     Unai Vencedor  25  6  0   6\n",
       "5             Unai López  23  6  0   6\n",
       "6             Unai Núñez  23  6  0   6\n",
       "7                  Yeray  21  6  0   6\n",
       "8    9        Ander Capa  28  5  0   5\n",
       "9   10    Álex Berenguer  32  3  0   3\n",
       "10          Jon Morcillo  28  3  0   3\n",
       "11        Yuri Berchiche  23  3  0   3\n",
       "12  13      Oihan Sancet  21  2  0   2\n",
       "13       Óscar de Marcos  22  2  0   2\n",
       "14  15       Iñigo Lekue  17  1  0   1\n",
       "15            Unai Simón  35  1  0   1\n",
       "16  17      Oier Zarraga   5  0  0   0\n",
       "17          Beñat Prados   0  0  0   0\n",
       "18            Ibai Gómez  10  0  0   0\n",
       "19        Julen Bernaola   0  0  0   0\n",
       "20         Aitor Paredes   0  0  0   0\n",
       "21       Peru Nolaskoain   0  0  0   0\n",
       "22      Mikel Balenziaga  20  0  0   0\n",
       "23         Iago Herrerín   0  0  0   0\n",
       "24         Jokin Ezkieta   0  0  0   0"
      ]
     },
     "execution_count": 20,
     "metadata": {},
     "output_type": "execute_result"
    }
   ],
   "source": [
    "import pandas as pd\n",
    "\n",
    "pd.DataFrame(datos, columns=cabeceras)"
   ]
  },
  {
   "cell_type": "code",
   "execution_count": null,
   "metadata": {},
   "outputs": [],
   "source": []
  }
 ],
 "metadata": {
  "kernelspec": {
   "display_name": "Python 3",
   "language": "python",
   "name": "python3"
  },
  "language_info": {
   "codemirror_mode": {
    "name": "ipython",
    "version": 3
   },
   "file_extension": ".py",
   "mimetype": "text/x-python",
   "name": "python",
   "nbconvert_exporter": "python",
   "pygments_lexer": "ipython3",
   "version": "3.8.3"
  },
  "varInspector": {
   "cols": {
    "lenName": 16,
    "lenType": 16,
    "lenVar": 40
   },
   "kernels_config": {
    "python": {
     "delete_cmd_postfix": "",
     "delete_cmd_prefix": "del ",
     "library": "var_list.py",
     "varRefreshCmd": "print(var_dic_list())"
    },
    "r": {
     "delete_cmd_postfix": ") ",
     "delete_cmd_prefix": "rm(",
     "library": "var_list.r",
     "varRefreshCmd": "cat(var_dic_list()) "
    }
   },
   "types_to_exclude": [
    "module",
    "function",
    "builtin_function_or_method",
    "instance",
    "_Feature"
   ],
   "window_display": false
  }
 },
 "nbformat": 4,
 "nbformat_minor": 4
}
