{
 "cells": [
  {
   "cell_type": "markdown",
   "metadata": {},
   "source": [
    "## 2.4 - Scrap , funciones e importacion"
   ]
  },
  {
   "cell_type": "code",
   "execution_count": null,
   "metadata": {},
   "outputs": [],
   "source": [
    "import requests as req\n",
    "from bs4 import BeautifulSoup as bs\n",
    "\n",
    "import pandas as pd\n",
    "import datetime"
   ]
  },
  {
   "cell_type": "code",
   "execution_count": null,
   "metadata": {},
   "outputs": [],
   "source": [
    "url='https://coinmarketcap.com/currencies/bitcoin/historical-data/'"
   ]
  },
  {
   "cell_type": "code",
   "execution_count": null,
   "metadata": {},
   "outputs": [],
   "source": [
    "df=pd.read_csv('../data/bth_price.csv')\n",
    "\n",
    "df.head()"
   ]
  },
  {
   "cell_type": "code",
   "execution_count": null,
   "metadata": {},
   "outputs": [],
   "source": [
    "def scrap_data():\n",
    "    \n",
    "    url='https://coinmarketcap.com/currencies/bitcoin/historical-data/'\n",
    "    \n",
    "    df=pd.read_csv('../data/bth_price.csv')\n",
    "\n",
    "    html=req.get(url, 'html.parser').content\n",
    "\n",
    "    soup=bs(html)\n",
    "\n",
    "    bitcoin_price=soup.find('div', class_='priceValue___11gHJ').text\n",
    "\n",
    "    bitcoin_price_var=soup.find('span', class_='sc-15yy2pl-0 gEePkg').text\n",
    "\n",
    "    bit_eth_price=soup.find('p', class_='esfl2f-0 kqzSsi').text.split('H')[0]+'H'\n",
    "\n",
    "    bit_eth_price_var=soup.find('p', class_='esfl2f-0 kqzSsi').text.split('H')[1]\n",
    "\n",
    "\n",
    "\n",
    "    dictio={'bitcoin_price': bitcoin_price,\n",
    "           'bitcoin_price_var': bitcoin_price_var,\n",
    "           'bit_eth_price': bit_eth_price,\n",
    "           'bit_eth_price_var': bit_eth_price_var,\n",
    "           'datetime': datetime.datetime.now()}\n",
    "\n",
    "\n",
    "    df=df.append(pd.DataFrame(dictio, index=[0]), ignore_index=True)\n",
    "\n",
    "    df.to_csv('../data/bth_price.csv', index=False)\n",
    "\n",
    "    return df.shape"
   ]
  },
  {
   "cell_type": "code",
   "execution_count": null,
   "metadata": {},
   "outputs": [],
   "source": [
    "scrap_data()"
   ]
  },
  {
   "cell_type": "code",
   "execution_count": null,
   "metadata": {},
   "outputs": [],
   "source": [
    "def clean_data():\n",
    "\n",
    "    df=pd.read_csv('../data/bth_price.csv')\n",
    "\n",
    "    try:\n",
    "\n",
    "        df.bitcoin_price=df.bitcoin_price.apply(lambda x: float(x.replace('$', '').replace(',', '')))\n",
    "\n",
    "        df.bitcoin_price_var=df.bitcoin_price_var.apply(lambda x: float(x.replace('%', '')))\n",
    "\n",
    "        df.bit_eth_price=df.bit_eth_price.apply(lambda x: float(x.replace('ETH', '')))\n",
    "\n",
    "        df.bit_eth_price_var=df.bit_eth_price_var.apply(lambda x: float(x.replace('%', '')))\n",
    "\n",
    "    except:\n",
    "        print('Data ya esta limpia')\n",
    "\n",
    "    df=df.dropna()\n",
    "    df.to_csv('../data/bth_price.csv', index=False)\n",
    "\n",
    "    return df.shape"
   ]
  },
  {
   "cell_type": "code",
   "execution_count": null,
   "metadata": {},
   "outputs": [],
   "source": [
    "clean_data()"
   ]
  },
  {
   "cell_type": "markdown",
   "metadata": {},
   "source": [
    "### Importar archivo"
   ]
  },
  {
   "cell_type": "code",
   "execution_count": 1,
   "metadata": {},
   "outputs": [],
   "source": [
    "from src.funciones import *"
   ]
  },
  {
   "cell_type": "code",
   "execution_count": 2,
   "metadata": {},
   "outputs": [
    {
     "name": "stdout",
     "output_type": "stream",
     "text": [
      "Data ya esta limpia\n"
     ]
    },
    {
     "data": {
      "text/plain": [
       "(437, 5)"
      ]
     },
     "execution_count": 2,
     "metadata": {},
     "output_type": "execute_result"
    }
   ],
   "source": [
    "clean_data()"
   ]
  },
  {
   "cell_type": "code",
   "execution_count": 3,
   "metadata": {},
   "outputs": [
    {
     "name": "stderr",
     "output_type": "stream",
     "text": [
      "2021-06-15 12:20:43,258 [81321] WARNING  py.warnings:109: [JupyterRequire] /home/iudh/Material_Clase/semana_8/src/funciones.py:18: UserWarning: No parser was explicitly specified, so I'm using the best available HTML parser for this system (\"lxml\"). This usually isn't a problem, but if you run this code on another system, or in a different virtual environment, it may use a different parser and behave differently.\n",
      "\n",
      "The code that caused this warning is on line 18 of the file /home/iudh/Material_Clase/semana_8/src/funciones.py. To get rid of this warning, pass the additional argument 'features=\"lxml\"' to the BeautifulSoup constructor.\n",
      "\n",
      "  soup=bs(html)\n",
      "\n"
     ]
    },
    {
     "data": {
      "text/plain": [
       "(438, 5)"
      ]
     },
     "execution_count": 3,
     "metadata": {},
     "output_type": "execute_result"
    }
   ],
   "source": [
    "scrap_data()"
   ]
  },
  {
   "cell_type": "code",
   "execution_count": 4,
   "metadata": {},
   "outputs": [
    {
     "data": {
      "text/plain": [
       "(438, 5)"
      ]
     },
     "execution_count": 4,
     "metadata": {},
     "output_type": "execute_result"
    }
   ],
   "source": [
    "clean_data()"
   ]
  },
  {
   "cell_type": "code",
   "execution_count": null,
   "metadata": {},
   "outputs": [],
   "source": []
  }
 ],
 "metadata": {
  "kernelspec": {
   "display_name": "Python 3",
   "language": "python",
   "name": "python3"
  },
  "language_info": {
   "codemirror_mode": {
    "name": "ipython",
    "version": 3
   },
   "file_extension": ".py",
   "mimetype": "text/x-python",
   "name": "python",
   "nbconvert_exporter": "python",
   "pygments_lexer": "ipython3",
   "version": "3.8.3"
  }
 },
 "nbformat": 4,
 "nbformat_minor": 4
}
