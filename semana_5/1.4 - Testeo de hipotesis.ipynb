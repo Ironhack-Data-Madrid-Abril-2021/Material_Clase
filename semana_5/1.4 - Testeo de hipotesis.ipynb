{
 "cells": [
  {
   "cell_type": "markdown",
   "metadata": {},
   "source": [
    "# 1.4 - Testeo de hipotesis\n",
    "\n",
    "##### Recordatorio\n",
    "\n",
    "+ Población => Todos los elementos (normalmente desconocido)\n",
    "+ Muestra => Subconjunto de la población"
   ]
  },
  {
   "cell_type": "markdown",
   "metadata": {},
   "source": [
    "# Tamaño de la muestra\n",
    "\n",
    "https://es.wikipedia.org/wiki/Tama%C3%B1o_de_la_muestra"
   ]
  },
  {
   "cell_type": "markdown",
   "metadata": {},
   "source": [
    "# Hipótesis"
   ]
  },
  {
   "cell_type": "markdown",
   "metadata": {},
   "source": [
    "+ **H0**\n",
    "\n",
    "Hipótesis nula. (H0). H0 es el status quo, el mainstream, la hipótesis a vencer por el investigador.\n",
    "\n",
    "\n",
    "+ **H1**\n",
    "\n",
    "Hipótesis alternativa. (H1). H1 es la nueva hipótesis, la del investigador."
   ]
  },
  {
   "cell_type": "markdown",
   "metadata": {},
   "source": [
    "# Tipos de tests"
   ]
  },
  {
   "cell_type": "markdown",
   "metadata": {},
   "source": [
    "**1)** (one-side)\n",
    "\n",
    "$$H0: \\mu \\geq k$$\n",
    "$$H1: \\mu < k$$"
   ]
  },
  {
   "cell_type": "markdown",
   "metadata": {},
   "source": [
    "**2)** (one-side)\n",
    "\n",
    "$$H0: \\mu \\leq k$$\n",
    "$$H1: \\mu > k$$"
   ]
  },
  {
   "cell_type": "markdown",
   "metadata": {},
   "source": [
    "**3)** (two-side)\n",
    "\n",
    "$$H0: \\mu = k$$\n",
    "$$H1: \\mu ≠ k$$"
   ]
  },
  {
   "cell_type": "markdown",
   "metadata": {},
   "source": [
    "# Suposiciones para el testeo"
   ]
  },
  {
   "cell_type": "markdown",
   "metadata": {},
   "source": [
    "**1)**\n",
    "\n",
    "Observaciones independientes. (Para evitar sesgos)"
   ]
  },
  {
   "cell_type": "markdown",
   "metadata": {},
   "source": [
    "**2)**\n",
    "\n",
    "Normalidad de los datos. ($N(\\mu, \\sigma)$)\n",
    "\n",
    "Teorema Central del Limite"
   ]
  },
  {
   "cell_type": "markdown",
   "metadata": {},
   "source": [
    "**3)**\n",
    "\n",
    "Tamaño adecuado de la muestra. (30)"
   ]
  },
  {
   "cell_type": "markdown",
   "metadata": {},
   "source": [
    "**4)**\n",
    "\n",
    "Para usar la $N(\\mu, \\sigma)$, debemos conocer $\\sigma$ (desviacion estandar de la poblacion).Si $\\sigma$ es desconocida, se usa la t-Student para el testeo de hipotesis, lo que implica usar s (desviacion estandar muestral, n-1)."
   ]
  },
  {
   "cell_type": "markdown",
   "metadata": {},
   "source": [
    "# Test (estadistico)"
   ]
  },
  {
   "cell_type": "markdown",
   "metadata": {},
   "source": [
    "+ $N(\\mu, \\sigma)$ , $Z-test$\n",
    "\n",
    "$$z=\\frac{\\bar{x} - \\mu}{\\frac{\\sigma}{\\sqrt{n}}}$$\n",
    "\n",
    "donde:\n",
    "+ $\\bar{x}$ es la media muestral\n",
    "+ $\\mu$ es la media poblacional\n",
    "+ $\\sigma$ es la std poblacional\n",
    "+ $\\sqrt{n}$ es la raiz de n=tamaño de la muestra\n",
    "+ $\\frac{\\sigma}{\\sqrt{n}}$ se le llama error estandar"
   ]
  },
  {
   "cell_type": "markdown",
   "metadata": {},
   "source": [
    "+ t-Student , $t-test$\n",
    "\n",
    "$$t=\\frac{\\bar{x} - \\mu}{\\frac{s}{\\sqrt{n}}}$$\n",
    "\n",
    "donde:\n",
    "+ $\\bar{x}$ es la media muestral\n",
    "+ $\\mu$ es la media poblacional\n",
    "+ $s$ es la std muestral\n",
    "+ $\\sqrt{n}$ es la raiz de n=tamaño de la muestra\n",
    "+ $\\frac{s}{\\sqrt{n}}$ se le llama error estandar muestral"
   ]
  },
  {
   "cell_type": "markdown",
   "metadata": {},
   "source": [
    "# P-value"
   ]
  },
  {
   "cell_type": "markdown",
   "metadata": {},
   "source": [
    "**p-value** = es la probabilidad correspondiente al estadistico de ser posible bajo H0."
   ]
  },
  {
   "cell_type": "markdown",
   "metadata": {},
   "source": [
    "$$pvalue > umbral => H0$$\n",
    "$$pvalue < umbral => H1$$"
   ]
  },
  {
   "cell_type": "markdown",
   "metadata": {},
   "source": [
    "El umbral esta determinado por el intervalo de confianza."
   ]
  },
  {
   "cell_type": "code",
   "execution_count": 1,
   "metadata": {},
   "outputs": [],
   "source": [
    "import matplotlib.pyplot as plt\n",
    "from scipy.stats import norm"
   ]
  },
  {
   "cell_type": "code",
   "execution_count": 2,
   "metadata": {},
   "outputs": [],
   "source": [
    "x=[i*.1 for i in range(-60, 60)]\n",
    "\n",
    "y1=[norm.pdf(x, -2, 1) for x in x]\n",
    "y2=[norm.pdf(x, 2, 1) for x in x]"
   ]
  },
  {
   "cell_type": "code",
   "execution_count": 3,
   "metadata": {},
   "outputs": [
    {
     "data": {
      "image/png": "[encoded data removed]",
      "text/plain": [
       "<Figure size 720x360 with 1 Axes>"
      ]
     },
     "metadata": {
      "needs_background": "light"
     },
     "output_type": "display_data"
    }
   ],
   "source": [
    "%matplotlib inline\n",
    "\n",
    "plt.figure(figsize=(10, 5))\n",
    "plt.plot(x, y1)\n",
    "plt.plot(-2, max(y1)+.02, marker='$H1$', color='red', ms=20)\n",
    "plt.plot(x, y2)\n",
    "plt.plot(2, max(y2)+.02, marker='$H0$', color='blue', ms=20)\n",
    "\n",
    "plt.quiver(1.5, 0.1, -1, -0.6, color='r', scale=10)  # para pintar una flecha\n",
    "\n",
    "for i in range(49, 74):\n",
    "    if y1[i]<=y2[i]:\n",
    "        plt.bar(x[i], y1[i], width=0.1, color='r')\n",
    "    else:\n",
    "        plt.bar(x[i], y2[i], width=0.1, color='y')\n",
    "        \n",
    "plt.plot([0,0], [0, 0.5], color='r')\n",
    "plt.title('H1: mu<k , H0: mu>=k', fontsize=18);"
   ]
  },
  {
   "cell_type": "code",
   "execution_count": 4,
   "metadata": {},
   "outputs": [
    {
     "data": {
      "image/png": "[encoded data removed]",
      "text/plain": [
       "<Figure size 720x360 with 1 Axes>"
      ]
     },
     "metadata": {
      "needs_background": "light"
     },
     "output_type": "display_data"
    }
   ],
   "source": [
    "plt.figure(figsize=(10, 5))\n",
    "plt.plot(x, y1)\n",
    "plt.plot(-2, max(y1)+.02, marker='$H0$', color='red', ms=20)\n",
    "plt.plot(x, y2)\n",
    "plt.plot(2, max(y2)+.02, marker='$H1$', color='blue', ms=20)\n",
    "\n",
    "plt.quiver(1.5, 0.1, -1, -0.6, color='r', scale=10)  # para pintar una flecha\n",
    "\n",
    "for i in range(74):\n",
    "    if y1[i]>y2[i]:\n",
    "        plt.bar(x[i], y1[i], width=0.1, color='r')\n",
    "        plt.bar(x[i], y2[i], width=0.1, color='y')\n",
    "        \n",
    "plt.plot([0,0], [0, 0.5], color='r')\n",
    "plt.title('H1: mu>k , H0: mu<=k', fontsize=18);"
   ]
  },
  {
   "cell_type": "code",
   "execution_count": 5,
   "metadata": {},
   "outputs": [
    {
     "data": {
      "image/png": "[encoded data removed]",
      "text/plain": [
       "<Figure size 720x360 with 1 Axes>"
      ]
     },
     "metadata": {
      "needs_background": "light"
     },
     "output_type": "display_data"
    }
   ],
   "source": [
    "y1=[norm.pdf(x, -.5, 1) for x in x]\n",
    "y2=[norm.pdf(x, .5, 1) for x in x]\n",
    "\n",
    "plt.figure(figsize=(10, 5))\n",
    "plt.plot(x, y1)\n",
    "plt.plot(-2, max(y1)+.02, marker='$H0$', color='red', ms=20)\n",
    "plt.plot(x, y2)\n",
    "plt.plot(2, max(y2)+.02, marker='$H1$', color='blue', ms=20)\n",
    "\n",
    "plt.quiver(1.5, 0.08, 1, -0.6, color='y', scale=20)  # para pintar una flecha\n",
    "plt.quiver(-1.5, 0.09, -1, -0.6, color='y', scale=20)\n",
    "\n",
    "for i in range(85, 100):\n",
    "    if y1[i]<=y2[i]:\n",
    "        plt.bar(x[i], y2[i], width=0.1, color='r')\n",
    "\n",
    "for i in range(37):\n",
    "    if y1[i]>=y2[i]:\n",
    "        plt.bar(x[i], y1[i], width=0.1, color='r')\n",
    "        \n",
    "plt.plot([0,0], [0, 0.5], color='r')\n",
    "plt.title('H1: mu≠k , H0: mu=k', fontsize=18);"
   ]
  },
  {
   "cell_type": "markdown",
   "metadata": {},
   "source": [
    "# Ejemplo estudio farmaceutico"
   ]
  },
  {
   "cell_type": "markdown",
   "metadata": {},
   "source": [
    "Supongamos que una compañia farmaceutica crea un medicamento para manejar la diabetes.\n",
    "\n",
    "Se sabe que cualquier nivel de hemoglobina A1c por debajo del 5,7% es considerado normal.\n",
    "La compañia realiza un estudio de un nuevo medicamento con 100 voluntarios.\n",
    "\n",
    "+ Hipotesis:\n",
    "$$H0: \\mu \\geq 5.7$$\n",
    "$$H1: \\mu < 5.7$$\n",
    "\n",
    "\n",
    "Los resultados del estudio son $\\bar{x}=5.1$, $s=1.6$\n",
    "\n",
    "\n",
    "¿La prueba es suficiente para rechazar H0?"
   ]
  },
  {
   "cell_type": "code",
   "execution_count": 6,
   "metadata": {},
   "outputs": [],
   "source": [
    "import numpy as np\n",
    "from scipy.stats import t"
   ]
  },
  {
   "cell_type": "code",
   "execution_count": 7,
   "metadata": {},
   "outputs": [],
   "source": [
    "# A mano\n",
    "\n",
    "mu=5.7\n",
    "\n",
    "mu_hat=5.1     # media del estudio\n",
    "std_hat=1.6    # std del estudio\n",
    "\n",
    "n=100"
   ]
  },
  {
   "cell_type": "code",
   "execution_count": 8,
   "metadata": {},
   "outputs": [
    {
     "data": {
      "text/plain": [
       "-3.750000000000003"
      ]
     },
     "execution_count": 8,
     "metadata": {},
     "output_type": "execute_result"
    }
   ],
   "source": [
    "t_test=(mu_hat-mu)/(std_hat/np.sqrt(n))\n",
    "\n",
    "t_test"
   ]
  },
  {
   "cell_type": "code",
   "execution_count": 9,
   "metadata": {},
   "outputs": [
    {
     "data": {
      "text/plain": [
       "99"
      ]
     },
     "execution_count": 9,
     "metadata": {},
     "output_type": "execute_result"
    }
   ],
   "source": [
    "dof=n-1   # grados de libertad\n",
    "\n",
    "dof"
   ]
  },
  {
   "cell_type": "code",
   "execution_count": 10,
   "metadata": {},
   "outputs": [],
   "source": [
    "#help(t)"
   ]
  },
  {
   "cell_type": "code",
   "execution_count": 11,
   "metadata": {},
   "outputs": [
    {
     "data": {
      "text/plain": [
       "0.0001489332089038242"
      ]
     },
     "execution_count": 11,
     "metadata": {},
     "output_type": "execute_result"
    }
   ],
   "source": [
    "p_value=t(df=dof).cdf(t_test)\n",
    "\n",
    "p_value"
   ]
  },
  {
   "cell_type": "code",
   "execution_count": 12,
   "metadata": {},
   "outputs": [],
   "source": [
    "# lo mismo, bueno casi....scipy\n",
    "\n",
    "from scipy.stats import ttest_1samp"
   ]
  },
  {
   "cell_type": "code",
   "execution_count": 13,
   "metadata": {},
   "outputs": [],
   "source": [
    "pacientes=np.random.normal(5.1, 1.6, 100)"
   ]
  },
  {
   "cell_type": "code",
   "execution_count": 14,
   "metadata": {},
   "outputs": [
    {
     "data": {
      "text/plain": [
       "-1.7646626349190653"
      ]
     },
     "execution_count": 14,
     "metadata": {},
     "output_type": "execute_result"
    }
   ],
   "source": [
    "test=ttest_1samp(pacientes, 5.7)\n",
    "\n",
    "test.statistic"
   ]
  },
  {
   "cell_type": "code",
   "execution_count": 15,
   "metadata": {},
   "outputs": [
    {
     "data": {
      "text/plain": [
       "0.08070454401860244"
      ]
     },
     "execution_count": 15,
     "metadata": {},
     "output_type": "execute_result"
    }
   ],
   "source": [
    "test.pvalue"
   ]
  },
  {
   "cell_type": "markdown",
   "metadata": {},
   "source": [
    "**Conclusion:**\n",
    "\n",
    "Si buscamos un intervalo de confianza del 99,99%, entonces $umbral=0.001$\n",
    "\n",
    "El pvalor obtenido es menor que el umbral, por lo tanto podemos rechazar H0."
   ]
  },
  {
   "cell_type": "markdown",
   "metadata": {},
   "source": [
    "# Ejemplo Altura\n",
    "\n",
    "Estudio media altura humana, 100 individuos.\n",
    "\n",
    "+ Hipotesis:\n",
    "$$H0: \\mu \\leq 1.7$$\n",
    "$$H1: \\mu > 1.7$$\n",
    "\n",
    "\n",
    "Los resultados del estudio son $\\bar{x}=1.72$, $s=0.2$\n",
    "\n",
    "\n",
    "¿La prueba es suficiente para rechazar H0?"
   ]
  },
  {
   "cell_type": "code",
   "execution_count": 16,
   "metadata": {},
   "outputs": [
    {
     "data": {
      "text/plain": [
       "0.15987423706965065"
      ]
     },
     "execution_count": 16,
     "metadata": {},
     "output_type": "execute_result"
    }
   ],
   "source": [
    "# A mano\n",
    "\n",
    "t_test=(1.72-1.7)/(0.2/np.sqrt(100))\n",
    "\n",
    "p_value=1-t(df=99).cdf(t_test)\n",
    "\n",
    "p_value"
   ]
  },
  {
   "cell_type": "code",
   "execution_count": 17,
   "metadata": {},
   "outputs": [
    {
     "data": {
      "text/plain": [
       "1.7844394845512725"
      ]
     },
     "execution_count": 17,
     "metadata": {},
     "output_type": "execute_result"
    }
   ],
   "source": [
    "# scipy\n",
    "\n",
    "test=ttest_1samp(np.random.normal(1.72, 0.2, 100), 1.7)\n",
    "\n",
    "test.statistic"
   ]
  },
  {
   "cell_type": "code",
   "execution_count": 18,
   "metadata": {},
   "outputs": [
    {
     "data": {
      "text/plain": [
       "0.07741555504883156"
      ]
     },
     "execution_count": 18,
     "metadata": {},
     "output_type": "execute_result"
    }
   ],
   "source": [
    "test.pvalue"
   ]
  },
  {
   "cell_type": "markdown",
   "metadata": {},
   "source": [
    "**Conclusion**\n",
    "\n",
    "Si buscamos un intervalo de confianza del 95%, entonces $umbral=0.05$\n",
    "\n",
    "El pvalor obtenido es mayor que el umbral, por lo tanto no podemos rechazar H0.\n",
    "\n",
    "**OJO**\n",
    "\n",
    "Si buscamos un intervalo de confianza del 80%, entonces $umbral=0.2$\n",
    "\n",
    "El pvalor obtenido es menor que el umbral, por lo tanto podemos rechazar H0."
   ]
  },
  {
   "cell_type": "markdown",
   "metadata": {},
   "source": [
    "# Z-test  \n",
    "\n",
    "$N(\\mu, \\sigma)$\n",
    "\n",
    "supongamos $\\sigma=0.25$ , std de la poblacion"
   ]
  },
  {
   "cell_type": "code",
   "execution_count": 19,
   "metadata": {},
   "outputs": [
    {
     "name": "stdout",
     "output_type": "stream",
     "text": [
      "-0.8905030631595179 0.3731958243670871\n"
     ]
    }
   ],
   "source": [
    "from statsmodels.stats import weightstats as w\n",
    "\n",
    "z_score, p_value=w.ztest(np.random.normal(1.72, 0.25, 100), value=1.7)\n",
    "print (z_score, p_value)"
   ]
  },
  {
   "cell_type": "markdown",
   "metadata": {},
   "source": [
    "# Testeo de hipótesis con 2 muestras\n",
    "\n",
    "Ya no se estudia una muestra frente a la poblacion, sino que se comparan dos muestras entre si.\n",
    "\n",
    "En primer lugar, se considera la diferencia de medias:\n",
    "\n",
    "$$\\mu=\\mu_1 - \\mu_2$$"
   ]
  },
  {
   "cell_type": "markdown",
   "metadata": {},
   "source": [
    "El tipo de test cambia:\n",
    "\n",
    "**1)** \n",
    "\n",
    "$$H0: \\mu \\geq 0$$\n",
    "$$H1: \\mu < 0$$\n",
    "    \n",
    "    \n",
    "**2)** \n",
    "\n",
    "$$H0: \\mu \\leq 0$$\n",
    "$$H1: \\mu > 0$$\n",
    "    \n",
    "    \n",
    "**3)** \n",
    "\n",
    "$$H0: \\mu = 0$$\n",
    "$$H1: \\mu ≠ 0$$"
   ]
  },
  {
   "cell_type": "markdown",
   "metadata": {},
   "source": [
    "Por otro lado hay que considerar la independencia de las muestras.\n",
    "\n",
    "Si son dependientes (matched pairs), entonces se usa el t-test:"
   ]
  },
  {
   "cell_type": "markdown",
   "metadata": {},
   "source": [
    "+ Welch's t-test\n",
    "\n",
    "\n",
    "$$t=\\frac{\\bar{x_1} - \\bar{x_2}}{\\sqrt{\\frac{s_1^2}{n_1^2}+\\frac{s_2^2}{n_2^2}}}$$"
   ]
  },
  {
   "cell_type": "code",
   "execution_count": 20,
   "metadata": {},
   "outputs": [],
   "source": [
    "import pandas as pd\n",
    "from scipy.stats import ttest_ind, ttest_rel"
   ]
  },
  {
   "cell_type": "markdown",
   "metadata": {},
   "source": [
    "**Hipotesis**\n",
    "\n",
    "$H0: \\mu=0$    (media de las diferencias), (no hay diferencia significativa entre las muestras)\n",
    "\n",
    "$H1: \\mu≠0$   (existe una diferencia significativa entre las muestras)"
   ]
  },
  {
   "cell_type": "code",
   "execution_count": 21,
   "metadata": {},
   "outputs": [
    {
     "data": {
      "text/html": [
       "<div>\n",
       "<style scoped>\n",
       "    .dataframe tbody tr th:only-of-type {\n",
       "        vertical-align: middle;\n",
       "    }\n",
       "\n",
       "    .dataframe tbody tr th {\n",
       "        vertical-align: top;\n",
       "    }\n",
       "\n",
       "    .dataframe thead th {\n",
       "        text-align: right;\n",
       "    }\n",
       "</style>\n",
       "<table border=\"1\" class=\"dataframe\">\n",
       "  <thead>\n",
       "    <tr style=\"text-align: right;\">\n",
       "      <th></th>\n",
       "      <th>before</th>\n",
       "      <th>after</th>\n",
       "    </tr>\n",
       "  </thead>\n",
       "  <tbody>\n",
       "    <tr>\n",
       "      <th>0</th>\n",
       "      <td>136.713072</td>\n",
       "      <td>92.432965</td>\n",
       "    </tr>\n",
       "    <tr>\n",
       "      <th>1</th>\n",
       "      <td>134.735618</td>\n",
       "      <td>105.022643</td>\n",
       "    </tr>\n",
       "    <tr>\n",
       "      <th>2</th>\n",
       "      <td>127.529115</td>\n",
       "      <td>82.242766</td>\n",
       "    </tr>\n",
       "    <tr>\n",
       "      <th>3</th>\n",
       "      <td>144.527126</td>\n",
       "      <td>93.607172</td>\n",
       "    </tr>\n",
       "    <tr>\n",
       "      <th>4</th>\n",
       "      <td>124.214720</td>\n",
       "      <td>103.212223</td>\n",
       "    </tr>\n",
       "  </tbody>\n",
       "</table>\n",
       "</div>"
      ],
      "text/plain": [
       "       before       after\n",
       "0  136.713072   92.432965\n",
       "1  134.735618  105.022643\n",
       "2  127.529115   82.242766\n",
       "3  144.527126   93.607172\n",
       "4  124.214720  103.212223"
      ]
     },
     "execution_count": 21,
     "metadata": {},
     "output_type": "execute_result"
    }
   ],
   "source": [
    "b_pres=pd.read_csv('../data/blood_pressure 2.csv')\n",
    "\n",
    "b_pres.head()"
   ]
  },
  {
   "cell_type": "code",
   "execution_count": 22,
   "metadata": {},
   "outputs": [
    {
     "data": {
      "text/plain": [
       "Ttest_relResult(statistic=27.29184176756024, pvalue=7.303035069607835e-48)"
      ]
     },
     "execution_count": 22,
     "metadata": {},
     "output_type": "execute_result"
    }
   ],
   "source": [
    "ttest_rel(b_pres.before, b_pres.after)"
   ]
  },
  {
   "cell_type": "code",
   "execution_count": 23,
   "metadata": {},
   "outputs": [
    {
     "data": {
      "text/plain": [
       "Ttest_1sampResult(statistic=27.29184176756024, pvalue=7.303035069607835e-48)"
      ]
     },
     "execution_count": 23,
     "metadata": {},
     "output_type": "execute_result"
    }
   ],
   "source": [
    "ttest_1samp(b_pres.before-b_pres.after, 0)"
   ]
  },
  {
   "cell_type": "markdown",
   "metadata": {},
   "source": [
    "**Conclusion**\n",
    "\n",
    "El p_Value tiende a cero. Podemos rechazar H0."
   ]
  },
  {
   "cell_type": "markdown",
   "metadata": {},
   "source": [
    "### independencia"
   ]
  },
  {
   "cell_type": "code",
   "execution_count": 24,
   "metadata": {},
   "outputs": [
    {
     "data": {
      "text/html": [
       "<div>\n",
       "<style scoped>\n",
       "    .dataframe tbody tr th:only-of-type {\n",
       "        vertical-align: middle;\n",
       "    }\n",
       "\n",
       "    .dataframe tbody tr th {\n",
       "        vertical-align: top;\n",
       "    }\n",
       "\n",
       "    .dataframe thead th {\n",
       "        text-align: right;\n",
       "    }\n",
       "</style>\n",
       "<table border=\"1\" class=\"dataframe\">\n",
       "  <thead>\n",
       "    <tr style=\"text-align: right;\">\n",
       "      <th></th>\n",
       "      <th>a</th>\n",
       "      <th>b</th>\n",
       "    </tr>\n",
       "  </thead>\n",
       "  <tbody>\n",
       "    <tr>\n",
       "      <th>0</th>\n",
       "      <td>0.27</td>\n",
       "      <td>13.61</td>\n",
       "    </tr>\n",
       "    <tr>\n",
       "      <th>1</th>\n",
       "      <td>6.08</td>\n",
       "      <td>21.53</td>\n",
       "    </tr>\n",
       "    <tr>\n",
       "      <th>2</th>\n",
       "      <td>13.74</td>\n",
       "      <td>9.23</td>\n",
       "    </tr>\n",
       "    <tr>\n",
       "      <th>3</th>\n",
       "      <td>9.70</td>\n",
       "      <td>5.36</td>\n",
       "    </tr>\n",
       "    <tr>\n",
       "      <th>4</th>\n",
       "      <td>7.00</td>\n",
       "      <td>12.90</td>\n",
       "    </tr>\n",
       "  </tbody>\n",
       "</table>\n",
       "</div>"
      ],
      "text/plain": [
       "       a      b\n",
       "0   0.27  13.61\n",
       "1   6.08  21.53\n",
       "2  13.74   9.23\n",
       "3   9.70   5.36\n",
       "4   7.00  12.90"
      ]
     },
     "execution_count": 24,
     "metadata": {},
     "output_type": "execute_result"
    }
   ],
   "source": [
    "ab_test=pd.read_csv('../data/ab_test.csv')\n",
    "\n",
    "ab_test.head()"
   ]
  },
  {
   "cell_type": "code",
   "execution_count": 25,
   "metadata": {},
   "outputs": [
    {
     "data": {
      "text/plain": [
       "Ttest_indResult(statistic=-2.637533181209767, pvalue=0.009713140852447347)"
      ]
     },
     "execution_count": 25,
     "metadata": {},
     "output_type": "execute_result"
    }
   ],
   "source": [
    "ttest_ind(ab_test.a, ab_test.b)"
   ]
  },
  {
   "cell_type": "code",
   "execution_count": 26,
   "metadata": {},
   "outputs": [
    {
     "data": {
      "text/plain": [
       "Ttest_indResult(statistic=-2.637533181209767, pvalue=0.009713140852447347)"
      ]
     },
     "execution_count": 26,
     "metadata": {},
     "output_type": "execute_result"
    }
   ],
   "source": [
    "ttest_ind(ab_test.a, ab_test.b, equal_var=True)"
   ]
  },
  {
   "cell_type": "code",
   "execution_count": 27,
   "metadata": {},
   "outputs": [
    {
     "data": {
      "text/plain": [
       "Ttest_indResult(statistic=0.0, pvalue=1.0)"
      ]
     },
     "execution_count": 27,
     "metadata": {},
     "output_type": "execute_result"
    }
   ],
   "source": [
    "ttest_ind(ab_test.a, ab_test.a)"
   ]
  },
  {
   "cell_type": "markdown",
   "metadata": {},
   "source": [
    "**Test de independencia**\n",
    "\n",
    "+ H0 : Completa dependencia (son lo mismo)\n",
    "+ H1 : son independientes\n",
    "\n",
    "\n",
    "**Conclusion**\n",
    "\n",
    "Son independientes, el pvalor es menor que el umbral, por lo que podemos rechazar H0.\n",
    "Al ser independientes, ya no se usa el t-test, se usa el z-test."
   ]
  },
  {
   "cell_type": "code",
   "execution_count": 28,
   "metadata": {},
   "outputs": [
    {
     "name": "stdout",
     "output_type": "stream",
     "text": [
      "-2.637533181209767 0.008351145504323936\n"
     ]
    }
   ],
   "source": [
    "z_score, p_value=w.ztest(ab_test.a, ab_test.b,\n",
    "                         value=0, \n",
    "                         alternative='two-sided',\n",
    "                         usevar='pooled',\n",
    "                         ddof=1)\n",
    "\n",
    "print (z_score, p_value)"
   ]
  },
  {
   "cell_type": "markdown",
   "metadata": {},
   "source": [
    "**Conclusion**\n",
    "\n",
    "El p_value es menor que el umbral, dependiendo del intervalo de confianza, pero siendo asi podemos rechazar H0, y decir que existe una diferencia significativa entre ambas muestras, una pagina web funciona mejor que otra."
   ]
  },
  {
   "cell_type": "code",
   "execution_count": null,
   "metadata": {},
   "outputs": [],
   "source": []
  }
 ],
 "metadata": {
  "kernelspec": {
   "display_name": "Python 3",
   "language": "python",
   "name": "python3"
  },
  "language_info": {
   "codemirror_mode": {
    "name": "ipython",
    "version": 3
   },
   "file_extension": ".py",
   "mimetype": "text/x-python",
   "name": "python",
   "nbconvert_exporter": "python",
   "pygments_lexer": "ipython3",
   "version": "3.7.10"
  },
  "varInspector": {
   "cols": {
    "lenName": 16,
    "lenType": 16,
    "lenVar": 40
   },
   "kernels_config": {
    "python": {
     "delete_cmd_postfix": "",
     "delete_cmd_prefix": "del ",
     "library": "var_list.py",
     "varRefreshCmd": "print(var_dic_list())"
    },
    "r": {
     "delete_cmd_postfix": ") ",
     "delete_cmd_prefix": "rm(",
     "library": "var_list.r",
     "varRefreshCmd": "cat(var_dic_list()) "
    }
   },
   "types_to_exclude": [
    "module",
    "function",
    "builtin_function_or_method",
    "instance",
    "_Feature"
   ],
   "window_display": false
  }
 },
 "nbformat": 4,
 "nbformat_minor": 2
}
