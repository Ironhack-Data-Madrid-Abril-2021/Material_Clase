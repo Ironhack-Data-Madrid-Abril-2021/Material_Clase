{
 "cells": [
  {
   "cell_type": "markdown",
   "metadata": {},
   "source": [
    "# 3.1 - Más Modelos"
   ]
  },
  {
   "cell_type": "code",
   "execution_count": 1,
   "metadata": {},
   "outputs": [],
   "source": [
    "import pandas as pd\n",
    "from sklearn.datasets import load_diabetes, load_wine\n",
    "from sklearn.model_selection import train_test_split as tts"
   ]
  },
  {
   "cell_type": "code",
   "execution_count": 2,
   "metadata": {},
   "outputs": [
    {
     "data": {
      "text/html": [
       "<div>\n",
       "<style scoped>\n",
       "    .dataframe tbody tr th:only-of-type {\n",
       "        vertical-align: middle;\n",
       "    }\n",
       "\n",
       "    .dataframe tbody tr th {\n",
       "        vertical-align: top;\n",
       "    }\n",
       "\n",
       "    .dataframe thead th {\n",
       "        text-align: right;\n",
       "    }\n",
       "</style>\n",
       "<table border=\"1\" class=\"dataframe\">\n",
       "  <thead>\n",
       "    <tr style=\"text-align: right;\">\n",
       "      <th></th>\n",
       "      <th>age</th>\n",
       "      <th>sex</th>\n",
       "      <th>bmi</th>\n",
       "      <th>bp</th>\n",
       "      <th>s1</th>\n",
       "      <th>s2</th>\n",
       "      <th>s3</th>\n",
       "      <th>s4</th>\n",
       "      <th>s5</th>\n",
       "      <th>s6</th>\n",
       "      <th>target</th>\n",
       "    </tr>\n",
       "  </thead>\n",
       "  <tbody>\n",
       "    <tr>\n",
       "      <th>0</th>\n",
       "      <td>0.038076</td>\n",
       "      <td>0.050680</td>\n",
       "      <td>0.061696</td>\n",
       "      <td>0.021872</td>\n",
       "      <td>-0.044223</td>\n",
       "      <td>-0.034821</td>\n",
       "      <td>-0.043401</td>\n",
       "      <td>-0.002592</td>\n",
       "      <td>0.019908</td>\n",
       "      <td>-0.017646</td>\n",
       "      <td>151.0</td>\n",
       "    </tr>\n",
       "    <tr>\n",
       "      <th>1</th>\n",
       "      <td>-0.001882</td>\n",
       "      <td>-0.044642</td>\n",
       "      <td>-0.051474</td>\n",
       "      <td>-0.026328</td>\n",
       "      <td>-0.008449</td>\n",
       "      <td>-0.019163</td>\n",
       "      <td>0.074412</td>\n",
       "      <td>-0.039493</td>\n",
       "      <td>-0.068330</td>\n",
       "      <td>-0.092204</td>\n",
       "      <td>75.0</td>\n",
       "    </tr>\n",
       "    <tr>\n",
       "      <th>2</th>\n",
       "      <td>0.085299</td>\n",
       "      <td>0.050680</td>\n",
       "      <td>0.044451</td>\n",
       "      <td>-0.005671</td>\n",
       "      <td>-0.045599</td>\n",
       "      <td>-0.034194</td>\n",
       "      <td>-0.032356</td>\n",
       "      <td>-0.002592</td>\n",
       "      <td>0.002864</td>\n",
       "      <td>-0.025930</td>\n",
       "      <td>141.0</td>\n",
       "    </tr>\n",
       "    <tr>\n",
       "      <th>3</th>\n",
       "      <td>-0.089063</td>\n",
       "      <td>-0.044642</td>\n",
       "      <td>-0.011595</td>\n",
       "      <td>-0.036656</td>\n",
       "      <td>0.012191</td>\n",
       "      <td>0.024991</td>\n",
       "      <td>-0.036038</td>\n",
       "      <td>0.034309</td>\n",
       "      <td>0.022692</td>\n",
       "      <td>-0.009362</td>\n",
       "      <td>206.0</td>\n",
       "    </tr>\n",
       "    <tr>\n",
       "      <th>4</th>\n",
       "      <td>0.005383</td>\n",
       "      <td>-0.044642</td>\n",
       "      <td>-0.036385</td>\n",
       "      <td>0.021872</td>\n",
       "      <td>0.003935</td>\n",
       "      <td>0.015596</td>\n",
       "      <td>0.008142</td>\n",
       "      <td>-0.002592</td>\n",
       "      <td>-0.031991</td>\n",
       "      <td>-0.046641</td>\n",
       "      <td>135.0</td>\n",
       "    </tr>\n",
       "  </tbody>\n",
       "</table>\n",
       "</div>"
      ],
      "text/plain": [
       "        age       sex       bmi        bp        s1        s2        s3  \\\n",
       "0  0.038076  0.050680  0.061696  0.021872 -0.044223 -0.034821 -0.043401   \n",
       "1 -0.001882 -0.044642 -0.051474 -0.026328 -0.008449 -0.019163  0.074412   \n",
       "2  0.085299  0.050680  0.044451 -0.005671 -0.045599 -0.034194 -0.032356   \n",
       "3 -0.089063 -0.044642 -0.011595 -0.036656  0.012191  0.024991 -0.036038   \n",
       "4  0.005383 -0.044642 -0.036385  0.021872  0.003935  0.015596  0.008142   \n",
       "\n",
       "         s4        s5        s6  target  \n",
       "0 -0.002592  0.019908 -0.017646   151.0  \n",
       "1 -0.039493 -0.068330 -0.092204    75.0  \n",
       "2 -0.002592  0.002864 -0.025930   141.0  \n",
       "3  0.034309  0.022692 -0.009362   206.0  \n",
       "4 -0.002592 -0.031991 -0.046641   135.0  "
      ]
     },
     "execution_count": 2,
     "metadata": {},
     "output_type": "execute_result"
    }
   ],
   "source": [
    "diabetes=pd.DataFrame(load_diabetes().data, columns=load_diabetes().feature_names)\n",
    "diabetes['target']=load_diabetes().target\n",
    "\n",
    "diabetes.head()"
   ]
  },
  {
   "cell_type": "code",
   "execution_count": 88,
   "metadata": {},
   "outputs": [
    {
     "data": {
      "text/plain": [
       "'.. _diabetes_dataset:\\n\\nDiabetes dataset\\n----------------\\n\\nTen baseline variables, age, sex, body mass index, average blood\\npressure, and six blood serum measurements were obtained for each of n =\\n442 diabetes patients, as well as the response of interest, a\\nquantitative measure of disease progression one year after baseline.\\n\\n**Data Set Characteristics:**\\n\\n  :Number of Instances: 442\\n\\n  :Number of Attributes: First 10 columns are numeric predictive values\\n\\n  :Target: Column 11 is a quantitative measure of disease progression one year after baseline\\n\\n  :Attribute Information:\\n      - age     age in years\\n      - sex\\n      - bmi     body mass index\\n      - bp      average blood pressure\\n      - s1      tc, T-Cells (a type of white blood cells)\\n      - s2      ldl, low-density lipoproteins\\n      - s3      hdl, high-density lipoproteins\\n      - s4      tch, thyroid stimulating hormone\\n      - s5      ltg, lamotrigine\\n      - s6      glu, blood sugar level\\n\\nNote: Each of these 10 feature variables have been mean centered and scaled by the standard deviation times `n_samples` (i.e. the sum of squares of each column totals 1).\\n\\nSource URL:\\nhttps://www4.stat.ncsu.edu/~boos/var.select/diabetes.html\\n\\nFor more information see:\\nBradley Efron, Trevor Hastie, Iain Johnstone and Robert Tibshirani (2004) \"Least Angle Regression,\" Annals of Statistics (with discussion), 407-499.\\n(https://web.stanford.edu/~hastie/Papers/LARS/LeastAngle_2002.pdf)'"
      ]
     },
     "execution_count": 88,
     "metadata": {},
     "output_type": "execute_result"
    }
   ],
   "source": [
    "load_diabetes()['DESCR']"
   ]
  },
  {
   "cell_type": "code",
   "execution_count": 3,
   "metadata": {},
   "outputs": [
    {
     "data": {
      "text/plain": [
       "array([0, 1, 2])"
      ]
     },
     "execution_count": 3,
     "metadata": {},
     "output_type": "execute_result"
    }
   ],
   "source": [
    "wine=pd.DataFrame(load_wine().data, columns=load_wine().feature_names)\n",
    "wine['target']=load_wine().target\n",
    "\n",
    "wine.target.unique()"
   ]
  },
  {
   "cell_type": "code",
   "execution_count": 85,
   "metadata": {},
   "outputs": [
    {
     "data": {
      "text/html": [
       "<div>\n",
       "<style scoped>\n",
       "    .dataframe tbody tr th:only-of-type {\n",
       "        vertical-align: middle;\n",
       "    }\n",
       "\n",
       "    .dataframe tbody tr th {\n",
       "        vertical-align: top;\n",
       "    }\n",
       "\n",
       "    .dataframe thead th {\n",
       "        text-align: right;\n",
       "    }\n",
       "</style>\n",
       "<table border=\"1\" class=\"dataframe\">\n",
       "  <thead>\n",
       "    <tr style=\"text-align: right;\">\n",
       "      <th></th>\n",
       "      <th>alcohol</th>\n",
       "      <th>malic_acid</th>\n",
       "      <th>ash</th>\n",
       "      <th>alcalinity_of_ash</th>\n",
       "      <th>magnesium</th>\n",
       "      <th>total_phenols</th>\n",
       "      <th>flavanoids</th>\n",
       "      <th>nonflavanoid_phenols</th>\n",
       "      <th>proanthocyanins</th>\n",
       "      <th>color_intensity</th>\n",
       "      <th>hue</th>\n",
       "      <th>od280/od315_of_diluted_wines</th>\n",
       "      <th>proline</th>\n",
       "      <th>target</th>\n",
       "    </tr>\n",
       "  </thead>\n",
       "  <tbody>\n",
       "    <tr>\n",
       "      <th>0</th>\n",
       "      <td>14.23</td>\n",
       "      <td>1.71</td>\n",
       "      <td>2.43</td>\n",
       "      <td>15.6</td>\n",
       "      <td>127.0</td>\n",
       "      <td>2.80</td>\n",
       "      <td>3.06</td>\n",
       "      <td>0.28</td>\n",
       "      <td>2.29</td>\n",
       "      <td>5.64</td>\n",
       "      <td>1.04</td>\n",
       "      <td>3.92</td>\n",
       "      <td>1065.0</td>\n",
       "      <td>0</td>\n",
       "    </tr>\n",
       "    <tr>\n",
       "      <th>1</th>\n",
       "      <td>13.20</td>\n",
       "      <td>1.78</td>\n",
       "      <td>2.14</td>\n",
       "      <td>11.2</td>\n",
       "      <td>100.0</td>\n",
       "      <td>2.65</td>\n",
       "      <td>2.76</td>\n",
       "      <td>0.26</td>\n",
       "      <td>1.28</td>\n",
       "      <td>4.38</td>\n",
       "      <td>1.05</td>\n",
       "      <td>3.40</td>\n",
       "      <td>1050.0</td>\n",
       "      <td>0</td>\n",
       "    </tr>\n",
       "    <tr>\n",
       "      <th>2</th>\n",
       "      <td>13.16</td>\n",
       "      <td>2.36</td>\n",
       "      <td>2.67</td>\n",
       "      <td>18.6</td>\n",
       "      <td>101.0</td>\n",
       "      <td>2.80</td>\n",
       "      <td>3.24</td>\n",
       "      <td>0.30</td>\n",
       "      <td>2.81</td>\n",
       "      <td>5.68</td>\n",
       "      <td>1.03</td>\n",
       "      <td>3.17</td>\n",
       "      <td>1185.0</td>\n",
       "      <td>0</td>\n",
       "    </tr>\n",
       "    <tr>\n",
       "      <th>3</th>\n",
       "      <td>14.37</td>\n",
       "      <td>1.95</td>\n",
       "      <td>2.50</td>\n",
       "      <td>16.8</td>\n",
       "      <td>113.0</td>\n",
       "      <td>3.85</td>\n",
       "      <td>3.49</td>\n",
       "      <td>0.24</td>\n",
       "      <td>2.18</td>\n",
       "      <td>7.80</td>\n",
       "      <td>0.86</td>\n",
       "      <td>3.45</td>\n",
       "      <td>1480.0</td>\n",
       "      <td>0</td>\n",
       "    </tr>\n",
       "    <tr>\n",
       "      <th>4</th>\n",
       "      <td>13.24</td>\n",
       "      <td>2.59</td>\n",
       "      <td>2.87</td>\n",
       "      <td>21.0</td>\n",
       "      <td>118.0</td>\n",
       "      <td>2.80</td>\n",
       "      <td>2.69</td>\n",
       "      <td>0.39</td>\n",
       "      <td>1.82</td>\n",
       "      <td>4.32</td>\n",
       "      <td>1.04</td>\n",
       "      <td>2.93</td>\n",
       "      <td>735.0</td>\n",
       "      <td>0</td>\n",
       "    </tr>\n",
       "  </tbody>\n",
       "</table>\n",
       "</div>"
      ],
      "text/plain": [
       "   alcohol  malic_acid   ash  alcalinity_of_ash  magnesium  total_phenols  \\\n",
       "0    14.23        1.71  2.43               15.6      127.0           2.80   \n",
       "1    13.20        1.78  2.14               11.2      100.0           2.65   \n",
       "2    13.16        2.36  2.67               18.6      101.0           2.80   \n",
       "3    14.37        1.95  2.50               16.8      113.0           3.85   \n",
       "4    13.24        2.59  2.87               21.0      118.0           2.80   \n",
       "\n",
       "   flavanoids  nonflavanoid_phenols  proanthocyanins  color_intensity   hue  \\\n",
       "0        3.06                  0.28             2.29             5.64  1.04   \n",
       "1        2.76                  0.26             1.28             4.38  1.05   \n",
       "2        3.24                  0.30             2.81             5.68  1.03   \n",
       "3        3.49                  0.24             2.18             7.80  0.86   \n",
       "4        2.69                  0.39             1.82             4.32  1.04   \n",
       "\n",
       "   od280/od315_of_diluted_wines  proline  target  \n",
       "0                          3.92   1065.0       0  \n",
       "1                          3.40   1050.0       0  \n",
       "2                          3.17   1185.0       0  \n",
       "3                          3.45   1480.0       0  \n",
       "4                          2.93    735.0       0  "
      ]
     },
     "execution_count": 85,
     "metadata": {},
     "output_type": "execute_result"
    }
   ],
   "source": [
    "wine.head()"
   ]
  },
  {
   "cell_type": "code",
   "execution_count": 89,
   "metadata": {},
   "outputs": [
    {
     "data": {
      "text/plain": [
       "'.. _wine_dataset:\\n\\nWine recognition dataset\\n------------------------\\n\\n**Data Set Characteristics:**\\n\\n    :Number of Instances: 178 (50 in each of three classes)\\n    :Number of Attributes: 13 numeric, predictive attributes and the class\\n    :Attribute Information:\\n \\t\\t- Alcohol\\n \\t\\t- Malic acid\\n \\t\\t- Ash\\n\\t\\t- Alcalinity of ash  \\n \\t\\t- Magnesium\\n\\t\\t- Total phenols\\n \\t\\t- Flavanoids\\n \\t\\t- Nonflavanoid phenols\\n \\t\\t- Proanthocyanins\\n\\t\\t- Color intensity\\n \\t\\t- Hue\\n \\t\\t- OD280/OD315 of diluted wines\\n \\t\\t- Proline\\n\\n    - class:\\n            - class_0\\n            - class_1\\n            - class_2\\n\\t\\t\\n    :Summary Statistics:\\n    \\n    ============================= ==== ===== ======= =====\\n                                   Min   Max   Mean     SD\\n    ============================= ==== ===== ======= =====\\n    Alcohol:                      11.0  14.8    13.0   0.8\\n    Malic Acid:                   0.74  5.80    2.34  1.12\\n    Ash:                          1.36  3.23    2.36  0.27\\n    Alcalinity of Ash:            10.6  30.0    19.5   3.3\\n    Magnesium:                    70.0 162.0    99.7  14.3\\n    Total Phenols:                0.98  3.88    2.29  0.63\\n    Flavanoids:                   0.34  5.08    2.03  1.00\\n    Nonflavanoid Phenols:         0.13  0.66    0.36  0.12\\n    Proanthocyanins:              0.41  3.58    1.59  0.57\\n    Colour Intensity:              1.3  13.0     5.1   2.3\\n    Hue:                          0.48  1.71    0.96  0.23\\n    OD280/OD315 of diluted wines: 1.27  4.00    2.61  0.71\\n    Proline:                       278  1680     746   315\\n    ============================= ==== ===== ======= =====\\n\\n    :Missing Attribute Values: None\\n    :Class Distribution: class_0 (59), class_1 (71), class_2 (48)\\n    :Creator: R.A. Fisher\\n    :Donor: Michael Marshall (MARSHALL%PLU@io.arc.nasa.gov)\\n    :Date: July, 1988\\n\\nThis is a copy of UCI ML Wine recognition datasets.\\nhttps://archive.ics.uci.edu/ml/machine-learning-databases/wine/wine.data\\n\\nThe data is the results of a chemical analysis of wines grown in the same\\nregion in Italy by three different cultivators. There are thirteen different\\nmeasurements taken for different constituents found in the three types of\\nwine.\\n\\nOriginal Owners: \\n\\nForina, M. et al, PARVUS - \\nAn Extendible Package for Data Exploration, Classification and Correlation. \\nInstitute of Pharmaceutical and Food Analysis and Technologies,\\nVia Brigata Salerno, 16147 Genoa, Italy.\\n\\nCitation:\\n\\nLichman, M. (2013). UCI Machine Learning Repository\\n[https://archive.ics.uci.edu/ml]. Irvine, CA: University of California,\\nSchool of Information and Computer Science. \\n\\n.. topic:: References\\n\\n  (1) S. Aeberhard, D. Coomans and O. de Vel, \\n  Comparison of Classifiers in High Dimensional Settings, \\n  Tech. Rep. no. 92-02, (1992), Dept. of Computer Science and Dept. of  \\n  Mathematics and Statistics, James Cook University of North Queensland. \\n  (Also submitted to Technometrics). \\n\\n  The data was used with many others for comparing various \\n  classifiers. The classes are separable, though only RDA \\n  has achieved 100% correct classification. \\n  (RDA : 100%, QDA 99.4%, LDA 98.9%, 1NN 96.1% (z-transformed data)) \\n  (All results using the leave-one-out technique) \\n\\n  (2) S. Aeberhard, D. Coomans and O. de Vel, \\n  \"THE CLASSIFICATION PERFORMANCE OF RDA\" \\n  Tech. Rep. no. 92-01, (1992), Dept. of Computer Science and Dept. of \\n  Mathematics and Statistics, James Cook University of North Queensland. \\n  (Also submitted to Journal of Chemometrics).\\n'"
      ]
     },
     "execution_count": 89,
     "metadata": {},
     "output_type": "execute_result"
    }
   ],
   "source": [
    "load_wine()['DESCR']"
   ]
  },
  {
   "cell_type": "code",
   "execution_count": 92,
   "metadata": {},
   "outputs": [
    {
     "data": {
      "text/plain": [
       "(178, 14)"
      ]
     },
     "execution_count": 92,
     "metadata": {},
     "output_type": "execute_result"
    }
   ],
   "source": [
    "wine.shape"
   ]
  },
  {
   "cell_type": "code",
   "execution_count": 4,
   "metadata": {},
   "outputs": [],
   "source": [
    "X_train_d, X_test_d, y_train_d, y_test_d = tts(diabetes.drop('target', axis=1), diabetes.target)"
   ]
  },
  {
   "cell_type": "code",
   "execution_count": 5,
   "metadata": {},
   "outputs": [],
   "source": [
    "X_train_v, X_test_v, y_train_v, y_test_v = tts(wine.drop('target', axis=1), wine.target)"
   ]
  },
  {
   "cell_type": "markdown",
   "metadata": {},
   "source": [
    "# Gradiente Descendente Estocástico SGD\n",
    "\n",
    "![grad1](images/grad1.png)\n",
    "\n",
    "![grad2](images/grad2.jpg)"
   ]
  },
  {
   "cell_type": "markdown",
   "metadata": {},
   "source": [
    "Es una derivación numérica. Lo estocástico viene de la elección de la muestra, en vez de coger todos los datos solo coge uno. Reduce el costo computacional. Sirve como regresor o como clasificador."
   ]
  },
  {
   "cell_type": "markdown",
   "metadata": {},
   "source": [
    "##### SGDR"
   ]
  },
  {
   "cell_type": "code",
   "execution_count": 6,
   "metadata": {},
   "outputs": [],
   "source": [
    "from sklearn.linear_model import SGDRegressor as SGDR"
   ]
  },
  {
   "cell_type": "code",
   "execution_count": 7,
   "metadata": {},
   "outputs": [
    {
     "name": "stdout",
     "output_type": "stream",
     "text": [
      "train R2: 0.46147456129450903 -- test R2: 0.5819703306095951\n"
     ]
    }
   ],
   "source": [
    "sgdr=SGDR(max_iter=8000)\n",
    "\n",
    "sgdr.fit(X_train_d, y_train_d)\n",
    "\n",
    "train_score=sgdr.score(X_train_d, y_train_d) #R2\n",
    "test_score=sgdr.score(X_test_d, y_test_d)\n",
    "\n",
    "print ('train R2:',train_score, '-- test R2:', test_score)"
   ]
  },
  {
   "cell_type": "code",
   "execution_count": 91,
   "metadata": {},
   "outputs": [],
   "source": [
    "#help(sgdr)"
   ]
  },
  {
   "cell_type": "markdown",
   "metadata": {},
   "source": [
    "##### SGDC"
   ]
  },
  {
   "cell_type": "code",
   "execution_count": 9,
   "metadata": {},
   "outputs": [],
   "source": [
    "from sklearn.linear_model import SGDClassifier as SGDC"
   ]
  },
  {
   "cell_type": "code",
   "execution_count": 10,
   "metadata": {},
   "outputs": [
    {
     "name": "stdout",
     "output_type": "stream",
     "text": [
      "train Acc: 0.44360902255639095 -- test Acc: 0.4444444444444444\n"
     ]
    }
   ],
   "source": [
    "sgdc=SGDC(max_iter=8000)\n",
    "\n",
    "sgdc.fit(X_train_v, y_train_v)\n",
    "\n",
    "train_score=sgdc.score(X_train_v, y_train_v) # Accuracy\n",
    "test_score=sgdc.score(X_test_v, y_test_v)\n",
    "\n",
    "print ('train Acc:',train_score, '-- test Acc:', test_score)"
   ]
  },
  {
   "cell_type": "code",
   "execution_count": 11,
   "metadata": {},
   "outputs": [
    {
     "data": {
      "text/plain": [
       "SGDClassifier(max_iter=8000)"
      ]
     },
     "execution_count": 11,
     "metadata": {},
     "output_type": "execute_result"
    }
   ],
   "source": [
    "sgdc"
   ]
  },
  {
   "cell_type": "markdown",
   "metadata": {},
   "source": [
    "# Naive Bayes\n",
    "\n",
    "$$P(clase|data)= \\frac{P(data|clase)·P(clase)}{P(data)}$$"
   ]
  },
  {
   "cell_type": "markdown",
   "metadata": {},
   "source": [
    "+ P(data|clase) es $N(\\mu, \\sigma)$ (datos normalizados)\n",
    "\n",
    "+ P(clase) es el a priori \n",
    "\n",
    "+ P(data) no se calcula\n",
    "\n",
    "+ P(clase|data) el a posteriori, lo que se busca"
   ]
  },
  {
   "cell_type": "markdown",
   "metadata": {},
   "source": [
    "Lo de Naive viene de la suposición de independencia condicional entre predictores, lo cuál no suele ser verdad.\n",
    "\n",
    "\n",
    "$$\\hat{y}=argmax [P(y) \\prod_{i=1}^{n} P(x_i|y)]$$"
   ]
  },
  {
   "cell_type": "markdown",
   "metadata": {},
   "source": [
    "### GNB (Gaussian Naive Bayes)"
   ]
  },
  {
   "cell_type": "code",
   "execution_count": 12,
   "metadata": {},
   "outputs": [
    {
     "name": "stdout",
     "output_type": "stream",
     "text": [
      "train Acc: 0.9774436090225563 -- test Acc: 0.9777777777777777\n"
     ]
    }
   ],
   "source": [
    "from sklearn.naive_bayes import GaussianNB as GNB\n",
    "\n",
    "gnb=GNB()\n",
    "\n",
    "gnb.fit(X_train_v, y_train_v)\n",
    "\n",
    "train_score=gnb.score(X_train_v, y_train_v) # Accuracy\n",
    "test_score=gnb.score(X_test_v, y_test_v)\n",
    "\n",
    "print ('train Acc:',train_score, '-- test Acc:', test_score)"
   ]
  },
  {
   "cell_type": "code",
   "execution_count": 13,
   "metadata": {},
   "outputs": [
    {
     "data": {
      "text/plain": [
       "GaussianNB()"
      ]
     },
     "execution_count": 13,
     "metadata": {},
     "output_type": "execute_result"
    }
   ],
   "source": [
    "gnb"
   ]
  },
  {
   "cell_type": "markdown",
   "metadata": {},
   "source": [
    "### MNB (Multinomial Naive Bayes)"
   ]
  },
  {
   "cell_type": "code",
   "execution_count": 14,
   "metadata": {},
   "outputs": [
    {
     "name": "stdout",
     "output_type": "stream",
     "text": [
      "train Acc: 0.849624060150376 -- test Acc: 0.8444444444444444\n"
     ]
    }
   ],
   "source": [
    "from sklearn.naive_bayes import MultinomialNB as MNB\n",
    "\n",
    "mnb=MNB()\n",
    "\n",
    "mnb.fit(X_train_v, y_train_v)\n",
    "\n",
    "train_score=mnb.score(X_train_v, y_train_v) # Accuracy\n",
    "test_score=mnb.score(X_test_v, y_test_v)\n",
    "\n",
    "print ('train Acc:',train_score, '-- test Acc:', test_score)"
   ]
  },
  {
   "cell_type": "code",
   "execution_count": 15,
   "metadata": {},
   "outputs": [
    {
     "data": {
      "text/plain": [
       "MultinomialNB()"
      ]
     },
     "execution_count": 15,
     "metadata": {},
     "output_type": "execute_result"
    }
   ],
   "source": [
    "mnb"
   ]
  },
  {
   "cell_type": "markdown",
   "metadata": {},
   "source": [
    "### CNB (Complement Naive Bayes)"
   ]
  },
  {
   "cell_type": "code",
   "execution_count": 16,
   "metadata": {},
   "outputs": [
    {
     "name": "stdout",
     "output_type": "stream",
     "text": [
      "train Acc: 0.6390977443609023 -- test Acc: 0.7333333333333333\n"
     ]
    }
   ],
   "source": [
    "from sklearn.naive_bayes import ComplementNB as CNB\n",
    "\n",
    "cnb=CNB()\n",
    "\n",
    "cnb.fit(X_train_v, y_train_v)\n",
    "\n",
    "train_score=cnb.score(X_train_v, y_train_v) # Accuracy\n",
    "test_score=cnb.score(X_test_v, y_test_v)\n",
    "\n",
    "print ('train Acc:',train_score, '-- test Acc:', test_score)"
   ]
  },
  {
   "cell_type": "code",
   "execution_count": 17,
   "metadata": {},
   "outputs": [
    {
     "data": {
      "text/plain": [
       "ComplementNB()"
      ]
     },
     "execution_count": 17,
     "metadata": {},
     "output_type": "execute_result"
    }
   ],
   "source": [
    "cnb"
   ]
  },
  {
   "cell_type": "markdown",
   "metadata": {},
   "source": [
    "### BNB (Bernoulli Naive Bayes)"
   ]
  },
  {
   "cell_type": "code",
   "execution_count": 18,
   "metadata": {},
   "outputs": [
    {
     "name": "stdout",
     "output_type": "stream",
     "text": [
      "train Acc: 0.40601503759398494 -- test Acc: 0.37777777777777777\n"
     ]
    }
   ],
   "source": [
    "from sklearn.naive_bayes import BernoulliNB as BNB\n",
    "\n",
    "bnb=BNB()\n",
    "\n",
    "bnb.fit(X_train_v, y_train_v)\n",
    "\n",
    "train_score=bnb.score(X_train_v, y_train_v) # Accuracy\n",
    "test_score=bnb.score(X_test_v, y_test_v)\n",
    "\n",
    "print ('train Acc:',train_score, '-- test Acc:', test_score)"
   ]
  },
  {
   "cell_type": "code",
   "execution_count": 19,
   "metadata": {},
   "outputs": [
    {
     "data": {
      "text/plain": [
       "BernoulliNB()"
      ]
     },
     "execution_count": 19,
     "metadata": {},
     "output_type": "execute_result"
    }
   ],
   "source": [
    "bnb"
   ]
  },
  {
   "cell_type": "markdown",
   "metadata": {},
   "source": [
    "# K-Nearest Neighbors\n",
    "\n",
    "![knn](images/knn.png)"
   ]
  },
  {
   "cell_type": "markdown",
   "metadata": {},
   "source": [
    "Este modelo se basa en al idea de vecindario, según sea lo que rodea al nuevo dato, así se clasificará.\n",
    "\n",
    "Básicamente se trata de calcular las distancias (euclídea o L1 normalmente) entre los datos, para asignar el valor (etiqueta) al nuevo dato según sean sus vecinos.\n",
    "\n",
    "Se suele tomar $k$ como un número impar para poder tomar una decisión en caso de empate."
   ]
  },
  {
   "cell_type": "markdown",
   "metadata": {},
   "source": [
    "#### KNNR"
   ]
  },
  {
   "cell_type": "code",
   "execution_count": 20,
   "metadata": {},
   "outputs": [],
   "source": [
    "from sklearn.neighbors import KNeighborsRegressor as KNNR"
   ]
  },
  {
   "cell_type": "code",
   "execution_count": 21,
   "metadata": {},
   "outputs": [
    {
     "name": "stdout",
     "output_type": "stream",
     "text": [
      "train R2: 0.5230921038078431 -- test R2: 0.5603196516268978\n"
     ]
    }
   ],
   "source": [
    "knnr=KNNR(n_neighbors=7)\n",
    "knnr.fit(X_train_d, y_train_d)\n",
    "\n",
    "train_score=knnr.score(X_train_d, y_train_d) #R2\n",
    "test_score=knnr.score(X_test_d, y_test_d)\n",
    "\n",
    "print ('train R2:',train_score, '-- test R2:', test_score)"
   ]
  },
  {
   "cell_type": "code",
   "execution_count": 22,
   "metadata": {},
   "outputs": [
    {
     "data": {
      "text/plain": [
       "KNeighborsRegressor(n_neighbors=7)"
      ]
     },
     "execution_count": 22,
     "metadata": {},
     "output_type": "execute_result"
    }
   ],
   "source": [
    "knnr"
   ]
  },
  {
   "cell_type": "markdown",
   "metadata": {},
   "source": [
    "#### KNNC"
   ]
  },
  {
   "cell_type": "code",
   "execution_count": 23,
   "metadata": {},
   "outputs": [],
   "source": [
    "from sklearn.neighbors import KNeighborsClassifier as KNNC"
   ]
  },
  {
   "cell_type": "code",
   "execution_count": 24,
   "metadata": {},
   "outputs": [
    {
     "name": "stdout",
     "output_type": "stream",
     "text": [
      "train Acc: 0.7518796992481203 -- test Acc: 0.7333333333333333\n"
     ]
    }
   ],
   "source": [
    "knnc=KNNC(n_neighbors=5, metric='euclidean')\n",
    "knnc.fit(X_train_v, y_train_v)\n",
    "\n",
    "train_score=knnc.score(X_train_v, y_train_v) #R2\n",
    "test_score=knnc.score(X_test_v, y_test_v)\n",
    "\n",
    "print ('train Acc:',train_score, '-- test Acc:', test_score)"
   ]
  },
  {
   "cell_type": "code",
   "execution_count": 25,
   "metadata": {},
   "outputs": [
    {
     "data": {
      "text/plain": [
       "KNeighborsClassifier(metric='euclidean')"
      ]
     },
     "execution_count": 25,
     "metadata": {},
     "output_type": "execute_result"
    }
   ],
   "source": [
    "knnc"
   ]
  },
  {
   "cell_type": "markdown",
   "metadata": {},
   "source": [
    "# Ensemble Models\n",
    "\n",
    "\n",
    "### Bagging  -  Boosting\n",
    "\n",
    "\n",
    "![boost](images/boost.png)"
   ]
  },
  {
   "cell_type": "code",
   "execution_count": 26,
   "metadata": {},
   "outputs": [
    {
     "data": {
      "text/plain": [
       "array([0, 0, 0, 0, 0, 0, 0, 0, 0, 0, 0, 0, 0, 0, 0, 0, 0, 0, 0, 0, 0, 0,\n",
       "       0, 0, 0, 0, 0, 0, 0, 0, 0, 0, 0, 0, 0, 0, 0, 0, 0, 0, 0, 0, 0, 0,\n",
       "       0])"
      ]
     },
     "execution_count": 26,
     "metadata": {},
     "output_type": "execute_result"
    }
   ],
   "source": [
    "# ejemplo\n",
    "\n",
    "knnc=KNNC(n_neighbors=5, metric='euclidean')\n",
    "knnc.fit(X_train_v, y_train_v)\n",
    "y_pred=knnc.predict(X_test_v)\n",
    "\n",
    "knnc2=KNNC(n_neighbors=5, metric='euclidean')\n",
    "knnc2.fit([y_pred for i in range(45)], y_test_v)\n",
    "\n",
    "knnc2.predict([y_pred for i in range(45)])"
   ]
  },
  {
   "cell_type": "markdown",
   "metadata": {},
   "source": [
    "#### Gradient Boost Regressor"
   ]
  },
  {
   "cell_type": "code",
   "execution_count": 27,
   "metadata": {},
   "outputs": [],
   "source": [
    "from sklearn.ensemble import GradientBoostingRegressor as GBR"
   ]
  },
  {
   "cell_type": "code",
   "execution_count": 28,
   "metadata": {},
   "outputs": [
    {
     "name": "stdout",
     "output_type": "stream",
     "text": [
      "train R2: 0.8479878859907537 -- test R2: 0.4892945543285575\n"
     ]
    }
   ],
   "source": [
    "gbr=GBR()\n",
    "gbr.fit(X_train_d, y_train_d)\n",
    "\n",
    "train_score=gbr.score(X_train_d, y_train_d) #R2\n",
    "test_score=gbr.score(X_test_d, y_test_d)\n",
    "\n",
    "print ('train R2:',train_score, '-- test R2:', test_score)"
   ]
  },
  {
   "cell_type": "code",
   "execution_count": 29,
   "metadata": {},
   "outputs": [
    {
     "data": {
      "text/plain": [
       "GradientBoostingRegressor()"
      ]
     },
     "execution_count": 29,
     "metadata": {},
     "output_type": "execute_result"
    }
   ],
   "source": [
    "gbr"
   ]
  },
  {
   "cell_type": "markdown",
   "metadata": {},
   "source": [
    "#### Gradient Boost Classifier"
   ]
  },
  {
   "cell_type": "code",
   "execution_count": 30,
   "metadata": {},
   "outputs": [],
   "source": [
    "from sklearn.ensemble import GradientBoostingClassifier as GBC"
   ]
  },
  {
   "cell_type": "code",
   "execution_count": 31,
   "metadata": {},
   "outputs": [
    {
     "name": "stdout",
     "output_type": "stream",
     "text": [
      "train Acc: 1.0 -- test Acc: 0.8666666666666667\n"
     ]
    }
   ],
   "source": [
    "gbc=GBC()\n",
    "gbc.fit(X_train_v, y_train_v)\n",
    "\n",
    "train_score=gbc.score(X_train_v, y_train_v) #R2\n",
    "test_score=gbc.score(X_test_v, y_test_v)\n",
    "\n",
    "print ('train Acc:',train_score, '-- test Acc:', test_score)"
   ]
  },
  {
   "cell_type": "markdown",
   "metadata": {},
   "source": [
    "## Extreme Gradient Boosting"
   ]
  },
  {
   "cell_type": "code",
   "execution_count": 32,
   "metadata": {},
   "outputs": [],
   "source": [
    "# !pip3 install xgboost"
   ]
  },
  {
   "cell_type": "markdown",
   "metadata": {},
   "source": [
    "#### XGBR"
   ]
  },
  {
   "cell_type": "code",
   "execution_count": 33,
   "metadata": {},
   "outputs": [
    {
     "name": "stdout",
     "output_type": "stream",
     "text": [
      "train R2: 0.9999990107411307 -- test R2: 0.41813385927362023\n"
     ]
    }
   ],
   "source": [
    "from xgboost import XGBRegressor as XGBR\n",
    "\n",
    "xgbr=XGBR()\n",
    "xgbr.fit(X_train_d, y_train_d)\n",
    "\n",
    "train_score=xgbr.score(X_train_d, y_train_d) #R2\n",
    "test_score=xgbr.score(X_test_d, y_test_d)\n",
    "\n",
    "print ('train R2:',train_score, '-- test R2:', test_score)"
   ]
  },
  {
   "cell_type": "code",
   "execution_count": 34,
   "metadata": {},
   "outputs": [
    {
     "data": {
      "text/plain": [
       "XGBRegressor(base_score=0.5, booster='gbtree', colsample_bylevel=1,\n",
       "             colsample_bynode=1, colsample_bytree=1, gamma=0, gpu_id=-1,\n",
       "             importance_type='gain', interaction_constraints='',\n",
       "             learning_rate=0.300000012, max_delta_step=0, max_depth=6,\n",
       "             min_child_weight=1, missing=nan, monotone_constraints='()',\n",
       "             n_estimators=100, n_jobs=0, num_parallel_tree=1, random_state=0,\n",
       "             reg_alpha=0, reg_lambda=1, scale_pos_weight=1, subsample=1,\n",
       "             tree_method='exact', validate_parameters=1, verbosity=None)"
      ]
     },
     "execution_count": 34,
     "metadata": {},
     "output_type": "execute_result"
    }
   ],
   "source": [
    "xgbr"
   ]
  },
  {
   "cell_type": "markdown",
   "metadata": {},
   "source": [
    "#### XGBC"
   ]
  },
  {
   "cell_type": "code",
   "execution_count": 35,
   "metadata": {},
   "outputs": [
    {
     "name": "stdout",
     "output_type": "stream",
     "text": [
      "train Acc: 1.0 -- test Acc: 0.9555555555555556\n"
     ]
    }
   ],
   "source": [
    "from xgboost import XGBClassifier as XGBC\n",
    "\n",
    "xgbc=XGBC()\n",
    "xgbc.fit(X_train_v, y_train_v)\n",
    "\n",
    "train_score=xgbc.score(X_train_v, y_train_v) \n",
    "test_score=xgbc.score(X_test_v, y_test_v)\n",
    "\n",
    "print ('train Acc:',train_score, '-- test Acc:', test_score)"
   ]
  },
  {
   "cell_type": "markdown",
   "metadata": {},
   "source": [
    "### Catboost"
   ]
  },
  {
   "cell_type": "markdown",
   "metadata": {},
   "source": [
    "##### CTR"
   ]
  },
  {
   "cell_type": "code",
   "execution_count": 36,
   "metadata": {},
   "outputs": [
    {
     "name": "stdout",
     "output_type": "stream",
     "text": [
      "train R2: 0.9836901100880479 -- test R2: 0.5160257695075116\n"
     ]
    }
   ],
   "source": [
    "from catboost import CatBoostRegressor as CTR\n",
    "\n",
    "ctr=CTR(verbose=0)\n",
    "ctr.fit(X_train_d, y_train_d)\n",
    "\n",
    "train_score=ctr.score(X_train_d, y_train_d) #R2\n",
    "test_score=ctr.score(X_test_d, y_test_d)\n",
    "\n",
    "print ('train R2:',train_score, '-- test R2:', test_score)"
   ]
  },
  {
   "cell_type": "code",
   "execution_count": 37,
   "metadata": {},
   "outputs": [
    {
     "data": {
      "text/plain": [
       "<catboost.core.CatBoostRegressor at 0x147e57650>"
      ]
     },
     "execution_count": 37,
     "metadata": {},
     "output_type": "execute_result"
    }
   ],
   "source": [
    "ctr  # sus hiperparametros en https://catboost.ai/"
   ]
  },
  {
   "cell_type": "markdown",
   "metadata": {},
   "source": [
    "##### CTC"
   ]
  },
  {
   "cell_type": "code",
   "execution_count": 38,
   "metadata": {},
   "outputs": [
    {
     "name": "stdout",
     "output_type": "stream",
     "text": [
      "train Acc: 1.0 -- test Acc: 0.9555555555555556\n"
     ]
    }
   ],
   "source": [
    "from catboost import CatBoostClassifier as CTC\n",
    "\n",
    "ctc=CTC(verbose=0)\n",
    "ctc.fit(X_train_v, y_train_v)\n",
    "\n",
    "train_score=ctc.score(X_train_v, y_train_v) \n",
    "test_score=ctc.score(X_test_v, y_test_v)\n",
    "\n",
    "print ('train Acc:',train_score, '-- test Acc:', test_score)"
   ]
  },
  {
   "cell_type": "markdown",
   "metadata": {},
   "source": [
    "## LightGBM"
   ]
  },
  {
   "cell_type": "code",
   "execution_count": 39,
   "metadata": {},
   "outputs": [],
   "source": [
    "#!pip3 install lightgbm"
   ]
  },
  {
   "cell_type": "markdown",
   "metadata": {},
   "source": [
    "#### LGBR"
   ]
  },
  {
   "cell_type": "code",
   "execution_count": 40,
   "metadata": {},
   "outputs": [
    {
     "name": "stdout",
     "output_type": "stream",
     "text": [
      "train R2: 0.9144974996105945 -- test R2: 0.49520177032320123\n"
     ]
    }
   ],
   "source": [
    "from lightgbm import LGBMRegressor as LGBMR\n",
    "\n",
    "lgbmr=LGBMR()\n",
    "lgbmr.fit(X_train_d, y_train_d)\n",
    "\n",
    "train_score=lgbmr.score(X_train_d, y_train_d) #R2\n",
    "test_score=lgbmr.score(X_test_d, y_test_d)\n",
    "\n",
    "print ('train R2:',train_score, '-- test R2:', test_score)"
   ]
  },
  {
   "cell_type": "code",
   "execution_count": 41,
   "metadata": {},
   "outputs": [
    {
     "data": {
      "text/plain": [
       "LGBMRegressor()"
      ]
     },
     "execution_count": 41,
     "metadata": {},
     "output_type": "execute_result"
    }
   ],
   "source": [
    "lgbmr"
   ]
  },
  {
   "cell_type": "markdown",
   "metadata": {},
   "source": [
    "#### LGBC"
   ]
  },
  {
   "cell_type": "code",
   "execution_count": 42,
   "metadata": {},
   "outputs": [
    {
     "name": "stdout",
     "output_type": "stream",
     "text": [
      "[LightGBM] [Warning] No further splits with positive gain, best gain: -inf\n",
      "[LightGBM] [Warning] No further splits with positive gain, best gain: -inf\n",
      "[LightGBM] [Warning] No further splits with positive gain, best gain: -inf\n",
      "[LightGBM] [Warning] No further splits with positive gain, best gain: -inf\n",
      "[LightGBM] [Warning] No further splits with positive gain, best gain: -inf\n",
      "[LightGBM] [Warning] No further splits with positive gain, best gain: -inf\n",
      "[LightGBM] [Warning] No further splits with positive gain, best gain: -inf\n",
      "[LightGBM] [Warning] No further splits with positive gain, best gain: -inf\n",
      "[LightGBM] [Warning] No further splits with positive gain, best gain: -inf\n",
      "[LightGBM] [Warning] No further splits with positive gain, best gain: -inf\n",
      "[LightGBM] [Warning] No further splits with positive gain, best gain: -inf\n",
      "[LightGBM] [Warning] No further splits with positive gain, best gain: -inf\n",
      "[LightGBM] [Warning] No further splits with positive gain, best gain: -inf\n",
      "[LightGBM] [Warning] No further splits with positive gain, best gain: -inf\n",
      "[LightGBM] [Warning] No further splits with positive gain, best gain: -inf\n",
      "[LightGBM] [Warning] No further splits with positive gain, best gain: -inf\n",
      "[LightGBM] [Warning] No further splits with positive gain, best gain: -inf\n",
      "[LightGBM] [Warning] No further splits with positive gain, best gain: -inf\n",
      "[LightGBM] [Warning] No further splits with positive gain, best gain: -inf\n",
      "[LightGBM] [Warning] No further splits with positive gain, best gain: -inf\n",
      "[LightGBM] [Warning] No further splits with positive gain, best gain: -inf\n",
      "[LightGBM] [Warning] No further splits with positive gain, best gain: -inf\n",
      "[LightGBM] [Warning] No further splits with positive gain, best gain: -inf\n",
      "[LightGBM] [Warning] No further splits with positive gain, best gain: -inf\n",
      "[LightGBM] [Warning] No further splits with positive gain, best gain: -inf\n",
      "[LightGBM] [Warning] No further splits with positive gain, best gain: -inf\n",
      "[LightGBM] [Warning] No further splits with positive gain, best gain: -inf\n",
      "[LightGBM] [Warning] No further splits with positive gain, best gain: -inf\n",
      "[LightGBM] [Warning] No further splits with positive gain, best gain: -inf\n",
      "[LightGBM] [Warning] No further splits with positive gain, best gain: -inf\n",
      "[LightGBM] [Warning] No further splits with positive gain, best gain: -inf\n",
      "[LightGBM] [Warning] No further splits with positive gain, best gain: -inf\n",
      "[LightGBM] [Warning] No further splits with positive gain, best gain: -inf\n",
      "[LightGBM] [Warning] No further splits with positive gain, best gain: -inf\n",
      "[LightGBM] [Warning] No further splits with positive gain, best gain: -inf\n",
      "[LightGBM] [Warning] No further splits with positive gain, best gain: -inf\n",
      "[LightGBM] [Warning] No further splits with positive gain, best gain: -inf\n",
      "[LightGBM] [Warning] No further splits with positive gain, best gain: -inf\n",
      "[LightGBM] [Warning] No further splits with positive gain, best gain: -inf\n",
      "[LightGBM] [Warning] No further splits with positive gain, best gain: -inf\n",
      "[LightGBM] [Warning] No further splits with positive gain, best gain: -inf\n",
      "[LightGBM] [Warning] No further splits with positive gain, best gain: -inf\n",
      "[LightGBM] [Warning] No further splits with positive gain, best gain: -inf\n",
      "[LightGBM] [Warning] No further splits with positive gain, best gain: -inf\n",
      "[LightGBM] [Warning] No further splits with positive gain, best gain: -inf\n",
      "[LightGBM] [Warning] No further splits with positive gain, best gain: -inf\n",
      "[LightGBM] [Warning] No further splits with positive gain, best gain: -inf\n",
      "[LightGBM] [Warning] No further splits with positive gain, best gain: -inf\n",
      "[LightGBM] [Warning] No further splits with positive gain, best gain: -inf\n",
      "[LightGBM] [Warning] No further splits with positive gain, best gain: -inf\n",
      "[LightGBM] [Warning] No further splits with positive gain, best gain: -inf\n",
      "[LightGBM] [Warning] No further splits with positive gain, best gain: -inf\n",
      "[LightGBM] [Warning] No further splits with positive gain, best gain: -inf\n",
      "[LightGBM] [Warning] No further splits with positive gain, best gain: -inf\n",
      "[LightGBM] [Warning] No further splits with positive gain, best gain: -inf\n",
      "[LightGBM] [Warning] No further splits with positive gain, best gain: -inf\n",
      "[LightGBM] [Warning] No further splits with positive gain, best gain: -inf\n",
      "[LightGBM] [Warning] No further splits with positive gain, best gain: -inf\n",
      "[LightGBM] [Warning] No further splits with positive gain, best gain: -inf\n",
      "[LightGBM] [Warning] No further splits with positive gain, best gain: -inf\n",
      "[LightGBM] [Warning] No further splits with positive gain, best gain: -inf\n",
      "[LightGBM] [Warning] No further splits with positive gain, best gain: -inf\n",
      "[LightGBM] [Warning] No further splits with positive gain, best gain: -inf\n",
      "[LightGBM] [Warning] No further splits with positive gain, best gain: -inf\n",
      "[LightGBM] [Warning] No further splits with positive gain, best gain: -inf\n",
      "[LightGBM] [Warning] No further splits with positive gain, best gain: -inf\n",
      "[LightGBM] [Warning] No further splits with positive gain, best gain: -inf\n",
      "[LightGBM] [Warning] No further splits with positive gain, best gain: -inf\n",
      "[LightGBM] [Warning] No further splits with positive gain, best gain: -inf\n",
      "[LightGBM] [Warning] No further splits with positive gain, best gain: -inf\n",
      "[LightGBM] [Warning] No further splits with positive gain, best gain: -inf\n",
      "[LightGBM] [Warning] No further splits with positive gain, best gain: -inf\n",
      "[LightGBM] [Warning] No further splits with positive gain, best gain: -inf\n",
      "[LightGBM] [Warning] No further splits with positive gain, best gain: -inf\n",
      "[LightGBM] [Warning] No further splits with positive gain, best gain: -inf\n",
      "[LightGBM] [Warning] No further splits with positive gain, best gain: -inf\n",
      "[LightGBM] [Warning] No further splits with positive gain, best gain: -inf\n",
      "[LightGBM] [Warning] No further splits with positive gain, best gain: -inf\n",
      "[LightGBM] [Warning] No further splits with positive gain, best gain: -inf\n",
      "[LightGBM] [Warning] No further splits with positive gain, best gain: -inf\n",
      "[LightGBM] [Warning] No further splits with positive gain, best gain: -inf\n",
      "[LightGBM] [Warning] No further splits with positive gain, best gain: -inf\n",
      "[LightGBM] [Warning] No further splits with positive gain, best gain: -inf\n",
      "[LightGBM] [Warning] No further splits with positive gain, best gain: -inf\n",
      "[LightGBM] [Warning] No further splits with positive gain, best gain: -inf\n",
      "[LightGBM] [Warning] No further splits with positive gain, best gain: -inf\n",
      "[LightGBM] [Warning] No further splits with positive gain, best gain: -inf\n",
      "[LightGBM] [Warning] No further splits with positive gain, best gain: -inf\n",
      "[LightGBM] [Warning] No further splits with positive gain, best gain: -inf\n",
      "[LightGBM] [Warning] No further splits with positive gain, best gain: -inf\n",
      "[LightGBM] [Warning] No further splits with positive gain, best gain: -inf\n",
      "[LightGBM] [Warning] No further splits with positive gain, best gain: -inf\n",
      "[LightGBM] [Warning] No further splits with positive gain, best gain: -inf\n",
      "[LightGBM] [Warning] No further splits with positive gain, best gain: -inf\n",
      "[LightGBM] [Warning] No further splits with positive gain, best gain: -inf\n",
      "[LightGBM] [Warning] No further splits with positive gain, best gain: -inf\n",
      "[LightGBM] [Warning] No further splits with positive gain, best gain: -inf\n",
      "[LightGBM] [Warning] No further splits with positive gain, best gain: -inf\n",
      "[LightGBM] [Warning] No further splits with positive gain, best gain: -inf\n",
      "[LightGBM] [Warning] No further splits with positive gain, best gain: -inf\n",
      "[LightGBM] [Warning] No further splits with positive gain, best gain: -inf\n",
      "[LightGBM] [Warning] No further splits with positive gain, best gain: -inf\n",
      "[LightGBM] [Warning] No further splits with positive gain, best gain: -inf\n",
      "[LightGBM] [Warning] No further splits with positive gain, best gain: -inf\n",
      "[LightGBM] [Warning] No further splits with positive gain, best gain: -inf\n",
      "[LightGBM] [Warning] No further splits with positive gain, best gain: -inf\n",
      "[LightGBM] [Warning] No further splits with positive gain, best gain: -inf\n",
      "[LightGBM] [Warning] No further splits with positive gain, best gain: -inf\n",
      "[LightGBM] [Warning] No further splits with positive gain, best gain: -inf\n",
      "[LightGBM] [Warning] No further splits with positive gain, best gain: -inf\n",
      "[LightGBM] [Warning] No further splits with positive gain, best gain: -inf\n",
      "[LightGBM] [Warning] No further splits with positive gain, best gain: -inf\n",
      "[LightGBM] [Warning] No further splits with positive gain, best gain: -inf\n",
      "[LightGBM] [Warning] No further splits with positive gain, best gain: -inf\n",
      "[LightGBM] [Warning] No further splits with positive gain, best gain: -inf\n",
      "[LightGBM] [Warning] No further splits with positive gain, best gain: -inf\n",
      "[LightGBM] [Warning] No further splits with positive gain, best gain: -inf\n",
      "[LightGBM] [Warning] No further splits with positive gain, best gain: -inf\n",
      "[LightGBM] [Warning] No further splits with positive gain, best gain: -inf\n",
      "[LightGBM] [Warning] No further splits with positive gain, best gain: -inf\n",
      "[LightGBM] [Warning] No further splits with positive gain, best gain: -inf\n",
      "[LightGBM] [Warning] No further splits with positive gain, best gain: -inf\n",
      "[LightGBM] [Warning] No further splits with positive gain, best gain: -inf\n",
      "[LightGBM] [Warning] No further splits with positive gain, best gain: -inf\n",
      "[LightGBM] [Warning] No further splits with positive gain, best gain: -inf\n",
      "[LightGBM] [Warning] No further splits with positive gain, best gain: -inf\n",
      "[LightGBM] [Warning] No further splits with positive gain, best gain: -inf\n",
      "[LightGBM] [Warning] No further splits with positive gain, best gain: -inf\n",
      "[LightGBM] [Warning] No further splits with positive gain, best gain: -inf\n",
      "[LightGBM] [Warning] No further splits with positive gain, best gain: -inf\n",
      "[LightGBM] [Warning] No further splits with positive gain, best gain: -inf\n",
      "[LightGBM] [Warning] No further splits with positive gain, best gain: -inf\n",
      "[LightGBM] [Warning] No further splits with positive gain, best gain: -inf\n",
      "[LightGBM] [Warning] No further splits with positive gain, best gain: -inf\n",
      "[LightGBM] [Warning] No further splits with positive gain, best gain: -inf\n",
      "[LightGBM] [Warning] No further splits with positive gain, best gain: -inf\n",
      "[LightGBM] [Warning] No further splits with positive gain, best gain: -inf\n",
      "[LightGBM] [Warning] No further splits with positive gain, best gain: -inf\n",
      "[LightGBM] [Warning] No further splits with positive gain, best gain: -inf\n",
      "[LightGBM] [Warning] No further splits with positive gain, best gain: -inf\n",
      "[LightGBM] [Warning] No further splits with positive gain, best gain: -inf\n",
      "[LightGBM] [Warning] No further splits with positive gain, best gain: -inf\n",
      "[LightGBM] [Warning] No further splits with positive gain, best gain: -inf\n",
      "[LightGBM] [Warning] No further splits with positive gain, best gain: -inf\n",
      "[LightGBM] [Warning] No further splits with positive gain, best gain: -inf\n",
      "[LightGBM] [Warning] No further splits with positive gain, best gain: -inf\n",
      "[LightGBM] [Warning] No further splits with positive gain, best gain: -inf\n",
      "[LightGBM] [Warning] No further splits with positive gain, best gain: -inf\n",
      "[LightGBM] [Warning] No further splits with positive gain, best gain: -inf\n",
      "[LightGBM] [Warning] No further splits with positive gain, best gain: -inf\n",
      "[LightGBM] [Warning] No further splits with positive gain, best gain: -inf\n",
      "[LightGBM] [Warning] No further splits with positive gain, best gain: -inf\n",
      "[LightGBM] [Warning] No further splits with positive gain, best gain: -inf\n",
      "[LightGBM] [Warning] No further splits with positive gain, best gain: -inf\n",
      "[LightGBM] [Warning] No further splits with positive gain, best gain: -inf\n",
      "[LightGBM] [Warning] No further splits with positive gain, best gain: -inf\n",
      "[LightGBM] [Warning] No further splits with positive gain, best gain: -inf\n",
      "[LightGBM] [Warning] No further splits with positive gain, best gain: -inf\n",
      "[LightGBM] [Warning] No further splits with positive gain, best gain: -inf\n",
      "[LightGBM] [Warning] No further splits with positive gain, best gain: -inf\n",
      "[LightGBM] [Warning] No further splits with positive gain, best gain: -inf\n",
      "[LightGBM] [Warning] No further splits with positive gain, best gain: -inf\n",
      "[LightGBM] [Warning] No further splits with positive gain, best gain: -inf\n",
      "[LightGBM] [Warning] No further splits with positive gain, best gain: -inf\n",
      "[LightGBM] [Warning] No further splits with positive gain, best gain: -inf\n",
      "[LightGBM] [Warning] No further splits with positive gain, best gain: -inf\n",
      "[LightGBM] [Warning] No further splits with positive gain, best gain: -inf\n",
      "[LightGBM] [Warning] No further splits with positive gain, best gain: -inf\n",
      "[LightGBM] [Warning] No further splits with positive gain, best gain: -inf\n",
      "[LightGBM] [Warning] No further splits with positive gain, best gain: -inf\n",
      "[LightGBM] [Warning] No further splits with positive gain, best gain: -inf\n",
      "[LightGBM] [Warning] No further splits with positive gain, best gain: -inf\n",
      "[LightGBM] [Warning] No further splits with positive gain, best gain: -inf\n",
      "[LightGBM] [Warning] No further splits with positive gain, best gain: -inf\n",
      "[LightGBM] [Warning] No further splits with positive gain, best gain: -inf\n",
      "[LightGBM] [Warning] No further splits with positive gain, best gain: -inf\n",
      "[LightGBM] [Warning] No further splits with positive gain, best gain: -inf\n",
      "[LightGBM] [Warning] No further splits with positive gain, best gain: -inf\n",
      "[LightGBM] [Warning] No further splits with positive gain, best gain: -inf\n",
      "[LightGBM] [Warning] No further splits with positive gain, best gain: -inf\n",
      "[LightGBM] [Warning] No further splits with positive gain, best gain: -inf\n",
      "[LightGBM] [Warning] No further splits with positive gain, best gain: -inf\n",
      "[LightGBM] [Warning] No further splits with positive gain, best gain: -inf\n",
      "[LightGBM] [Warning] No further splits with positive gain, best gain: -inf\n",
      "[LightGBM] [Warning] No further splits with positive gain, best gain: -inf\n",
      "[LightGBM] [Warning] No further splits with positive gain, best gain: -inf\n",
      "[LightGBM] [Warning] No further splits with positive gain, best gain: -inf\n",
      "[LightGBM] [Warning] No further splits with positive gain, best gain: -inf\n",
      "[LightGBM] [Warning] No further splits with positive gain, best gain: -inf\n",
      "[LightGBM] [Warning] No further splits with positive gain, best gain: -inf\n",
      "[LightGBM] [Warning] No further splits with positive gain, best gain: -inf\n",
      "[LightGBM] [Warning] No further splits with positive gain, best gain: -inf\n",
      "[LightGBM] [Warning] No further splits with positive gain, best gain: -inf\n",
      "[LightGBM] [Warning] No further splits with positive gain, best gain: -inf\n",
      "[LightGBM] [Warning] No further splits with positive gain, best gain: -inf\n",
      "[LightGBM] [Warning] No further splits with positive gain, best gain: -inf\n",
      "[LightGBM] [Warning] No further splits with positive gain, best gain: -inf\n",
      "[LightGBM] [Warning] No further splits with positive gain, best gain: -inf\n",
      "[LightGBM] [Warning] No further splits with positive gain, best gain: -inf\n",
      "[LightGBM] [Warning] No further splits with positive gain, best gain: -inf\n",
      "[LightGBM] [Warning] No further splits with positive gain, best gain: -inf\n",
      "[LightGBM] [Warning] No further splits with positive gain, best gain: -inf\n",
      "[LightGBM] [Warning] No further splits with positive gain, best gain: -inf\n",
      "[LightGBM] [Warning] No further splits with positive gain, best gain: -inf\n",
      "[LightGBM] [Warning] No further splits with positive gain, best gain: -inf\n",
      "[LightGBM] [Warning] No further splits with positive gain, best gain: -inf\n",
      "[LightGBM] [Warning] No further splits with positive gain, best gain: -inf\n",
      "[LightGBM] [Warning] No further splits with positive gain, best gain: -inf\n",
      "[LightGBM] [Warning] No further splits with positive gain, best gain: -inf\n",
      "[LightGBM] [Warning] No further splits with positive gain, best gain: -inf\n",
      "[LightGBM] [Warning] No further splits with positive gain, best gain: -inf\n",
      "[LightGBM] [Warning] No further splits with positive gain, best gain: -inf\n",
      "[LightGBM] [Warning] No further splits with positive gain, best gain: -inf\n",
      "[LightGBM] [Warning] No further splits with positive gain, best gain: -inf\n",
      "[LightGBM] [Warning] No further splits with positive gain, best gain: -inf\n",
      "[LightGBM] [Warning] No further splits with positive gain, best gain: -inf\n",
      "[LightGBM] [Warning] No further splits with positive gain, best gain: -inf\n",
      "[LightGBM] [Warning] No further splits with positive gain, best gain: -inf\n",
      "[LightGBM] [Warning] No further splits with positive gain, best gain: -inf\n",
      "[LightGBM] [Warning] No further splits with positive gain, best gain: -inf\n",
      "[LightGBM] [Warning] No further splits with positive gain, best gain: -inf\n",
      "[LightGBM] [Warning] No further splits with positive gain, best gain: -inf\n",
      "[LightGBM] [Warning] No further splits with positive gain, best gain: -inf\n",
      "[LightGBM] [Warning] No further splits with positive gain, best gain: -inf\n",
      "[LightGBM] [Warning] No further splits with positive gain, best gain: -inf\n",
      "[LightGBM] [Warning] No further splits with positive gain, best gain: -inf\n",
      "[LightGBM] [Warning] No further splits with positive gain, best gain: -inf\n",
      "[LightGBM] [Warning] No further splits with positive gain, best gain: -inf\n",
      "[LightGBM] [Warning] No further splits with positive gain, best gain: -inf\n",
      "[LightGBM] [Warning] No further splits with positive gain, best gain: -inf\n",
      "[LightGBM] [Warning] No further splits with positive gain, best gain: -inf\n",
      "[LightGBM] [Warning] No further splits with positive gain, best gain: -inf\n",
      "[LightGBM] [Warning] No further splits with positive gain, best gain: -inf\n",
      "[LightGBM] [Warning] No further splits with positive gain, best gain: -inf\n",
      "[LightGBM] [Warning] No further splits with positive gain, best gain: -inf\n",
      "[LightGBM] [Warning] No further splits with positive gain, best gain: -inf\n",
      "[LightGBM] [Warning] No further splits with positive gain, best gain: -inf\n",
      "[LightGBM] [Warning] No further splits with positive gain, best gain: -inf\n",
      "[LightGBM] [Warning] No further splits with positive gain, best gain: -inf\n",
      "[LightGBM] [Warning] No further splits with positive gain, best gain: -inf\n",
      "[LightGBM] [Warning] No further splits with positive gain, best gain: -inf\n",
      "[LightGBM] [Warning] No further splits with positive gain, best gain: -inf\n",
      "[LightGBM] [Warning] No further splits with positive gain, best gain: -inf\n",
      "[LightGBM] [Warning] No further splits with positive gain, best gain: -inf\n",
      "[LightGBM] [Warning] No further splits with positive gain, best gain: -inf\n",
      "[LightGBM] [Warning] No further splits with positive gain, best gain: -inf\n",
      "[LightGBM] [Warning] No further splits with positive gain, best gain: -inf\n",
      "[LightGBM] [Warning] No further splits with positive gain, best gain: -inf\n",
      "[LightGBM] [Warning] No further splits with positive gain, best gain: -inf\n",
      "[LightGBM] [Warning] No further splits with positive gain, best gain: -inf\n",
      "[LightGBM] [Warning] No further splits with positive gain, best gain: -inf\n",
      "[LightGBM] [Warning] No further splits with positive gain, best gain: -inf\n",
      "[LightGBM] [Warning] No further splits with positive gain, best gain: -inf\n",
      "[LightGBM] [Warning] No further splits with positive gain, best gain: -inf\n",
      "[LightGBM] [Warning] No further splits with positive gain, best gain: -inf\n",
      "[LightGBM] [Warning] No further splits with positive gain, best gain: -inf\n",
      "[LightGBM] [Warning] No further splits with positive gain, best gain: -inf\n",
      "[LightGBM] [Warning] No further splits with positive gain, best gain: -inf\n",
      "[LightGBM] [Warning] No further splits with positive gain, best gain: -inf\n",
      "[LightGBM] [Warning] No further splits with positive gain, best gain: -inf\n",
      "[LightGBM] [Warning] No further splits with positive gain, best gain: -inf\n",
      "[LightGBM] [Warning] No further splits with positive gain, best gain: -inf\n",
      "[LightGBM] [Warning] No further splits with positive gain, best gain: -inf\n",
      "[LightGBM] [Warning] No further splits with positive gain, best gain: -inf\n",
      "[LightGBM] [Warning] No further splits with positive gain, best gain: -inf\n",
      "[LightGBM] [Warning] No further splits with positive gain, best gain: -inf\n",
      "[LightGBM] [Warning] No further splits with positive gain, best gain: -inf\n",
      "[LightGBM] [Warning] No further splits with positive gain, best gain: -inf\n",
      "[LightGBM] [Warning] No further splits with positive gain, best gain: -inf\n",
      "[LightGBM] [Warning] No further splits with positive gain, best gain: -inf\n",
      "[LightGBM] [Warning] No further splits with positive gain, best gain: -inf\n",
      "[LightGBM] [Warning] No further splits with positive gain, best gain: -inf\n",
      "[LightGBM] [Warning] No further splits with positive gain, best gain: -inf\n",
      "[LightGBM] [Warning] No further splits with positive gain, best gain: -inf\n",
      "[LightGBM] [Warning] No further splits with positive gain, best gain: -inf\n",
      "[LightGBM] [Warning] No further splits with positive gain, best gain: -inf\n",
      "[LightGBM] [Warning] No further splits with positive gain, best gain: -inf\n",
      "[LightGBM] [Warning] No further splits with positive gain, best gain: -inf\n",
      "[LightGBM] [Warning] No further splits with positive gain, best gain: -inf\n",
      "[LightGBM] [Warning] No further splits with positive gain, best gain: -inf\n",
      "[LightGBM] [Warning] No further splits with positive gain, best gain: -inf\n",
      "[LightGBM] [Warning] No further splits with positive gain, best gain: -inf\n",
      "[LightGBM] [Warning] No further splits with positive gain, best gain: -inf\n",
      "[LightGBM] [Warning] No further splits with positive gain, best gain: -inf\n",
      "[LightGBM] [Warning] No further splits with positive gain, best gain: -inf\n",
      "[LightGBM] [Warning] No further splits with positive gain, best gain: -inf\n",
      "[LightGBM] [Warning] No further splits with positive gain, best gain: -inf\n",
      "[LightGBM] [Warning] No further splits with positive gain, best gain: -inf\n",
      "[LightGBM] [Warning] No further splits with positive gain, best gain: -inf\n",
      "[LightGBM] [Warning] No further splits with positive gain, best gain: -inf\n",
      "[LightGBM] [Warning] No further splits with positive gain, best gain: -inf\n",
      "[LightGBM] [Warning] No further splits with positive gain, best gain: -inf\n",
      "[LightGBM] [Warning] No further splits with positive gain, best gain: -inf\n",
      "[LightGBM] [Warning] No further splits with positive gain, best gain: -inf\n",
      "[LightGBM] [Warning] No further splits with positive gain, best gain: -inf\n",
      "[LightGBM] [Warning] No further splits with positive gain, best gain: -inf\n",
      "[LightGBM] [Warning] No further splits with positive gain, best gain: -inf\n",
      "[LightGBM] [Warning] No further splits with positive gain, best gain: -inf\n",
      "[LightGBM] [Warning] No further splits with positive gain, best gain: -inf\n",
      "[LightGBM] [Warning] No further splits with positive gain, best gain: -inf\n",
      "train Acc: 1.0 -- test Acc: 0.9333333333333333\n"
     ]
    }
   ],
   "source": [
    "from lightgbm import LGBMClassifier as LGBMC\n",
    "\n",
    "lgbmc=LGBMC(verbose=0, force_col_wise=True)\n",
    "lgbmc.fit(X_train_v, y_train_v)\n",
    "\n",
    "train_score=lgbmc.score(X_train_v, y_train_v) \n",
    "test_score=lgbmc.score(X_test_v, y_test_v)\n",
    "\n",
    "print ('train Acc:',train_score, '-- test Acc:', test_score)"
   ]
  },
  {
   "cell_type": "code",
   "execution_count": 43,
   "metadata": {},
   "outputs": [
    {
     "data": {
      "text/plain": [
       "LGBMClassifier(force_col_wise=True, verbose=0)"
      ]
     },
     "execution_count": 43,
     "metadata": {},
     "output_type": "execute_result"
    }
   ],
   "source": [
    "lgbmc"
   ]
  },
  {
   "cell_type": "markdown",
   "metadata": {},
   "source": [
    "# PyCaret\n",
    "\n",
    "https://pycaret.org/tutorial/\n",
    "\n",
    "https://colab.research.google.com/drive/1GqQ3XAIzg4krBbnOpKyeRqT0qBQhdwYL#scrollTo=lUvE187JEQm3"
   ]
  },
  {
   "cell_type": "code",
   "execution_count": 44,
   "metadata": {},
   "outputs": [
    {
     "data": {
      "text/html": [
       "<div>\n",
       "<style scoped>\n",
       "    .dataframe tbody tr th:only-of-type {\n",
       "        vertical-align: middle;\n",
       "    }\n",
       "\n",
       "    .dataframe tbody tr th {\n",
       "        vertical-align: top;\n",
       "    }\n",
       "\n",
       "    .dataframe thead th {\n",
       "        text-align: right;\n",
       "    }\n",
       "</style>\n",
       "<table border=\"1\" class=\"dataframe\">\n",
       "  <thead>\n",
       "    <tr style=\"text-align: right;\">\n",
       "      <th></th>\n",
       "      <th>LIMIT_BAL</th>\n",
       "      <th>SEX</th>\n",
       "      <th>EDUCATION</th>\n",
       "      <th>MARRIAGE</th>\n",
       "      <th>AGE</th>\n",
       "      <th>PAY_1</th>\n",
       "      <th>PAY_2</th>\n",
       "      <th>PAY_3</th>\n",
       "      <th>PAY_4</th>\n",
       "      <th>PAY_5</th>\n",
       "      <th>...</th>\n",
       "      <th>BILL_AMT4</th>\n",
       "      <th>BILL_AMT5</th>\n",
       "      <th>BILL_AMT6</th>\n",
       "      <th>PAY_AMT1</th>\n",
       "      <th>PAY_AMT2</th>\n",
       "      <th>PAY_AMT3</th>\n",
       "      <th>PAY_AMT4</th>\n",
       "      <th>PAY_AMT5</th>\n",
       "      <th>PAY_AMT6</th>\n",
       "      <th>default</th>\n",
       "    </tr>\n",
       "  </thead>\n",
       "  <tbody>\n",
       "    <tr>\n",
       "      <th>0</th>\n",
       "      <td>20000</td>\n",
       "      <td>2</td>\n",
       "      <td>2</td>\n",
       "      <td>1</td>\n",
       "      <td>24</td>\n",
       "      <td>2</td>\n",
       "      <td>2</td>\n",
       "      <td>-1</td>\n",
       "      <td>-1</td>\n",
       "      <td>-2</td>\n",
       "      <td>...</td>\n",
       "      <td>0.0</td>\n",
       "      <td>0.0</td>\n",
       "      <td>0.0</td>\n",
       "      <td>0.0</td>\n",
       "      <td>689.0</td>\n",
       "      <td>0.0</td>\n",
       "      <td>0.0</td>\n",
       "      <td>0.0</td>\n",
       "      <td>0.0</td>\n",
       "      <td>1</td>\n",
       "    </tr>\n",
       "    <tr>\n",
       "      <th>1</th>\n",
       "      <td>90000</td>\n",
       "      <td>2</td>\n",
       "      <td>2</td>\n",
       "      <td>2</td>\n",
       "      <td>34</td>\n",
       "      <td>0</td>\n",
       "      <td>0</td>\n",
       "      <td>0</td>\n",
       "      <td>0</td>\n",
       "      <td>0</td>\n",
       "      <td>...</td>\n",
       "      <td>14331.0</td>\n",
       "      <td>14948.0</td>\n",
       "      <td>15549.0</td>\n",
       "      <td>1518.0</td>\n",
       "      <td>1500.0</td>\n",
       "      <td>1000.0</td>\n",
       "      <td>1000.0</td>\n",
       "      <td>1000.0</td>\n",
       "      <td>5000.0</td>\n",
       "      <td>0</td>\n",
       "    </tr>\n",
       "    <tr>\n",
       "      <th>2</th>\n",
       "      <td>50000</td>\n",
       "      <td>2</td>\n",
       "      <td>2</td>\n",
       "      <td>1</td>\n",
       "      <td>37</td>\n",
       "      <td>0</td>\n",
       "      <td>0</td>\n",
       "      <td>0</td>\n",
       "      <td>0</td>\n",
       "      <td>0</td>\n",
       "      <td>...</td>\n",
       "      <td>28314.0</td>\n",
       "      <td>28959.0</td>\n",
       "      <td>29547.0</td>\n",
       "      <td>2000.0</td>\n",
       "      <td>2019.0</td>\n",
       "      <td>1200.0</td>\n",
       "      <td>1100.0</td>\n",
       "      <td>1069.0</td>\n",
       "      <td>1000.0</td>\n",
       "      <td>0</td>\n",
       "    </tr>\n",
       "    <tr>\n",
       "      <th>3</th>\n",
       "      <td>50000</td>\n",
       "      <td>1</td>\n",
       "      <td>2</td>\n",
       "      <td>1</td>\n",
       "      <td>57</td>\n",
       "      <td>-1</td>\n",
       "      <td>0</td>\n",
       "      <td>-1</td>\n",
       "      <td>0</td>\n",
       "      <td>0</td>\n",
       "      <td>...</td>\n",
       "      <td>20940.0</td>\n",
       "      <td>19146.0</td>\n",
       "      <td>19131.0</td>\n",
       "      <td>2000.0</td>\n",
       "      <td>36681.0</td>\n",
       "      <td>10000.0</td>\n",
       "      <td>9000.0</td>\n",
       "      <td>689.0</td>\n",
       "      <td>679.0</td>\n",
       "      <td>0</td>\n",
       "    </tr>\n",
       "    <tr>\n",
       "      <th>4</th>\n",
       "      <td>50000</td>\n",
       "      <td>1</td>\n",
       "      <td>1</td>\n",
       "      <td>2</td>\n",
       "      <td>37</td>\n",
       "      <td>0</td>\n",
       "      <td>0</td>\n",
       "      <td>0</td>\n",
       "      <td>0</td>\n",
       "      <td>0</td>\n",
       "      <td>...</td>\n",
       "      <td>19394.0</td>\n",
       "      <td>19619.0</td>\n",
       "      <td>20024.0</td>\n",
       "      <td>2500.0</td>\n",
       "      <td>1815.0</td>\n",
       "      <td>657.0</td>\n",
       "      <td>1000.0</td>\n",
       "      <td>1000.0</td>\n",
       "      <td>800.0</td>\n",
       "      <td>0</td>\n",
       "    </tr>\n",
       "  </tbody>\n",
       "</table>\n",
       "<p>5 rows × 24 columns</p>\n",
       "</div>"
      ],
      "text/plain": [
       "   LIMIT_BAL  SEX  EDUCATION  MARRIAGE  AGE  PAY_1  PAY_2  PAY_3  PAY_4  \\\n",
       "0      20000    2          2         1   24      2      2     -1     -1   \n",
       "1      90000    2          2         2   34      0      0      0      0   \n",
       "2      50000    2          2         1   37      0      0      0      0   \n",
       "3      50000    1          2         1   57     -1      0     -1      0   \n",
       "4      50000    1          1         2   37      0      0      0      0   \n",
       "\n",
       "   PAY_5  ...  BILL_AMT4  BILL_AMT5  BILL_AMT6  PAY_AMT1  PAY_AMT2  PAY_AMT3  \\\n",
       "0     -2  ...        0.0        0.0        0.0       0.0     689.0       0.0   \n",
       "1      0  ...    14331.0    14948.0    15549.0    1518.0    1500.0    1000.0   \n",
       "2      0  ...    28314.0    28959.0    29547.0    2000.0    2019.0    1200.0   \n",
       "3      0  ...    20940.0    19146.0    19131.0    2000.0   36681.0   10000.0   \n",
       "4      0  ...    19394.0    19619.0    20024.0    2500.0    1815.0     657.0   \n",
       "\n",
       "   PAY_AMT4  PAY_AMT5  PAY_AMT6  default  \n",
       "0       0.0       0.0       0.0        1  \n",
       "1    1000.0    1000.0    5000.0        0  \n",
       "2    1100.0    1069.0    1000.0        0  \n",
       "3    9000.0     689.0     679.0        0  \n",
       "4    1000.0    1000.0     800.0        0  \n",
       "\n",
       "[5 rows x 24 columns]"
      ]
     },
     "metadata": {},
     "output_type": "display_data"
    }
   ],
   "source": [
    "#!pip install pycaret\n",
    "\n",
    "from pycaret.datasets import get_data\n",
    "dataset=get_data('credit')"
   ]
  },
  {
   "cell_type": "code",
   "execution_count": 45,
   "metadata": {},
   "outputs": [
    {
     "data": {
      "text/plain": [
       "(24000, 24)"
      ]
     },
     "execution_count": 45,
     "metadata": {},
     "output_type": "execute_result"
    }
   ],
   "source": [
    "dataset.shape"
   ]
  },
  {
   "cell_type": "code",
   "execution_count": 46,
   "metadata": {},
   "outputs": [
    {
     "name": "stdout",
     "output_type": "stream",
     "text": [
      "Data for Modeling: (22800, 24)\n",
      "Unseen Data For Predictions: (1200, 24)\n"
     ]
    }
   ],
   "source": [
    "data = dataset.sample(frac=0.95, random_state=786).reset_index(drop=True)\n",
    "data_unseen = dataset.drop(data.index).reset_index(drop=True)\n",
    "\n",
    "print('Data for Modeling: ' + str(data.shape))\n",
    "print('Unseen Data For Predictions: ' + str(data_unseen.shape))"
   ]
  },
  {
   "cell_type": "code",
   "execution_count": 47,
   "metadata": {},
   "outputs": [],
   "source": [
    "from pycaret.classification import *"
   ]
  },
  {
   "cell_type": "code",
   "execution_count": 48,
   "metadata": {},
   "outputs": [
    {
     "data": {
      "text/html": [
       "<style  type=\"text/css\" >\n",
       "</style><table id=\"T_49edb_\" ><thead>    <tr>        <th class=\"blank level0\" ></th>        <th class=\"col_heading level0 col0\" >Description</th>        <th class=\"col_heading level0 col1\" >Value</th>    </tr></thead><tbody>\n",
       "                <tr>\n",
       "                        <th id=\"T_49edb_level0_row0\" class=\"row_heading level0 row0\" >0</th>\n",
       "                        <td id=\"T_49edb_row0_col0\" class=\"data row0 col0\" >session_id</td>\n",
       "                        <td id=\"T_49edb_row0_col1\" class=\"data row0 col1\" >123</td>\n",
       "            </tr>\n",
       "            <tr>\n",
       "                        <th id=\"T_49edb_level0_row1\" class=\"row_heading level0 row1\" >1</th>\n",
       "                        <td id=\"T_49edb_row1_col0\" class=\"data row1 col0\" >Target</td>\n",
       "                        <td id=\"T_49edb_row1_col1\" class=\"data row1 col1\" >default</td>\n",
       "            </tr>\n",
       "            <tr>\n",
       "                        <th id=\"T_49edb_level0_row2\" class=\"row_heading level0 row2\" >2</th>\n",
       "                        <td id=\"T_49edb_row2_col0\" class=\"data row2 col0\" >Target Type</td>\n",
       "                        <td id=\"T_49edb_row2_col1\" class=\"data row2 col1\" >Binary</td>\n",
       "            </tr>\n",
       "            <tr>\n",
       "                        <th id=\"T_49edb_level0_row3\" class=\"row_heading level0 row3\" >3</th>\n",
       "                        <td id=\"T_49edb_row3_col0\" class=\"data row3 col0\" >Label Encoded</td>\n",
       "                        <td id=\"T_49edb_row3_col1\" class=\"data row3 col1\" >0: 0, 1: 1</td>\n",
       "            </tr>\n",
       "            <tr>\n",
       "                        <th id=\"T_49edb_level0_row4\" class=\"row_heading level0 row4\" >4</th>\n",
       "                        <td id=\"T_49edb_row4_col0\" class=\"data row4 col0\" >Original Data</td>\n",
       "                        <td id=\"T_49edb_row4_col1\" class=\"data row4 col1\" >(22800, 24)</td>\n",
       "            </tr>\n",
       "            <tr>\n",
       "                        <th id=\"T_49edb_level0_row5\" class=\"row_heading level0 row5\" >5</th>\n",
       "                        <td id=\"T_49edb_row5_col0\" class=\"data row5 col0\" >Missing Values</td>\n",
       "                        <td id=\"T_49edb_row5_col1\" class=\"data row5 col1\" >False</td>\n",
       "            </tr>\n",
       "            <tr>\n",
       "                        <th id=\"T_49edb_level0_row6\" class=\"row_heading level0 row6\" >6</th>\n",
       "                        <td id=\"T_49edb_row6_col0\" class=\"data row6 col0\" >Numeric Features</td>\n",
       "                        <td id=\"T_49edb_row6_col1\" class=\"data row6 col1\" >14</td>\n",
       "            </tr>\n",
       "            <tr>\n",
       "                        <th id=\"T_49edb_level0_row7\" class=\"row_heading level0 row7\" >7</th>\n",
       "                        <td id=\"T_49edb_row7_col0\" class=\"data row7 col0\" >Categorical Features</td>\n",
       "                        <td id=\"T_49edb_row7_col1\" class=\"data row7 col1\" >9</td>\n",
       "            </tr>\n",
       "            <tr>\n",
       "                        <th id=\"T_49edb_level0_row8\" class=\"row_heading level0 row8\" >8</th>\n",
       "                        <td id=\"T_49edb_row8_col0\" class=\"data row8 col0\" >Ordinal Features</td>\n",
       "                        <td id=\"T_49edb_row8_col1\" class=\"data row8 col1\" >False</td>\n",
       "            </tr>\n",
       "            <tr>\n",
       "                        <th id=\"T_49edb_level0_row9\" class=\"row_heading level0 row9\" >9</th>\n",
       "                        <td id=\"T_49edb_row9_col0\" class=\"data row9 col0\" >High Cardinality Features</td>\n",
       "                        <td id=\"T_49edb_row9_col1\" class=\"data row9 col1\" >False</td>\n",
       "            </tr>\n",
       "            <tr>\n",
       "                        <th id=\"T_49edb_level0_row10\" class=\"row_heading level0 row10\" >10</th>\n",
       "                        <td id=\"T_49edb_row10_col0\" class=\"data row10 col0\" >High Cardinality Method</td>\n",
       "                        <td id=\"T_49edb_row10_col1\" class=\"data row10 col1\" >None</td>\n",
       "            </tr>\n",
       "            <tr>\n",
       "                        <th id=\"T_49edb_level0_row11\" class=\"row_heading level0 row11\" >11</th>\n",
       "                        <td id=\"T_49edb_row11_col0\" class=\"data row11 col0\" >Transformed Train Set</td>\n",
       "                        <td id=\"T_49edb_row11_col1\" class=\"data row11 col1\" >(15959, 88)</td>\n",
       "            </tr>\n",
       "            <tr>\n",
       "                        <th id=\"T_49edb_level0_row12\" class=\"row_heading level0 row12\" >12</th>\n",
       "                        <td id=\"T_49edb_row12_col0\" class=\"data row12 col0\" >Transformed Test Set</td>\n",
       "                        <td id=\"T_49edb_row12_col1\" class=\"data row12 col1\" >(6841, 88)</td>\n",
       "            </tr>\n",
       "            <tr>\n",
       "                        <th id=\"T_49edb_level0_row13\" class=\"row_heading level0 row13\" >13</th>\n",
       "                        <td id=\"T_49edb_row13_col0\" class=\"data row13 col0\" >Shuffle Train-Test</td>\n",
       "                        <td id=\"T_49edb_row13_col1\" class=\"data row13 col1\" >True</td>\n",
       "            </tr>\n",
       "            <tr>\n",
       "                        <th id=\"T_49edb_level0_row14\" class=\"row_heading level0 row14\" >14</th>\n",
       "                        <td id=\"T_49edb_row14_col0\" class=\"data row14 col0\" >Stratify Train-Test</td>\n",
       "                        <td id=\"T_49edb_row14_col1\" class=\"data row14 col1\" >False</td>\n",
       "            </tr>\n",
       "            <tr>\n",
       "                        <th id=\"T_49edb_level0_row15\" class=\"row_heading level0 row15\" >15</th>\n",
       "                        <td id=\"T_49edb_row15_col0\" class=\"data row15 col0\" >Fold Generator</td>\n",
       "                        <td id=\"T_49edb_row15_col1\" class=\"data row15 col1\" >StratifiedKFold</td>\n",
       "            </tr>\n",
       "            <tr>\n",
       "                        <th id=\"T_49edb_level0_row16\" class=\"row_heading level0 row16\" >16</th>\n",
       "                        <td id=\"T_49edb_row16_col0\" class=\"data row16 col0\" >Fold Number</td>\n",
       "                        <td id=\"T_49edb_row16_col1\" class=\"data row16 col1\" >10</td>\n",
       "            </tr>\n",
       "            <tr>\n",
       "                        <th id=\"T_49edb_level0_row17\" class=\"row_heading level0 row17\" >17</th>\n",
       "                        <td id=\"T_49edb_row17_col0\" class=\"data row17 col0\" >CPU Jobs</td>\n",
       "                        <td id=\"T_49edb_row17_col1\" class=\"data row17 col1\" >-1</td>\n",
       "            </tr>\n",
       "            <tr>\n",
       "                        <th id=\"T_49edb_level0_row18\" class=\"row_heading level0 row18\" >18</th>\n",
       "                        <td id=\"T_49edb_row18_col0\" class=\"data row18 col0\" >Use GPU</td>\n",
       "                        <td id=\"T_49edb_row18_col1\" class=\"data row18 col1\" >False</td>\n",
       "            </tr>\n",
       "            <tr>\n",
       "                        <th id=\"T_49edb_level0_row19\" class=\"row_heading level0 row19\" >19</th>\n",
       "                        <td id=\"T_49edb_row19_col0\" class=\"data row19 col0\" >Log Experiment</td>\n",
       "                        <td id=\"T_49edb_row19_col1\" class=\"data row19 col1\" >False</td>\n",
       "            </tr>\n",
       "            <tr>\n",
       "                        <th id=\"T_49edb_level0_row20\" class=\"row_heading level0 row20\" >20</th>\n",
       "                        <td id=\"T_49edb_row20_col0\" class=\"data row20 col0\" >Experiment Name</td>\n",
       "                        <td id=\"T_49edb_row20_col1\" class=\"data row20 col1\" >clf-default-name</td>\n",
       "            </tr>\n",
       "            <tr>\n",
       "                        <th id=\"T_49edb_level0_row21\" class=\"row_heading level0 row21\" >21</th>\n",
       "                        <td id=\"T_49edb_row21_col0\" class=\"data row21 col0\" >USI</td>\n",
       "                        <td id=\"T_49edb_row21_col1\" class=\"data row21 col1\" >e8fa</td>\n",
       "            </tr>\n",
       "            <tr>\n",
       "                        <th id=\"T_49edb_level0_row22\" class=\"row_heading level0 row22\" >22</th>\n",
       "                        <td id=\"T_49edb_row22_col0\" class=\"data row22 col0\" >Imputation Type</td>\n",
       "                        <td id=\"T_49edb_row22_col1\" class=\"data row22 col1\" >simple</td>\n",
       "            </tr>\n",
       "            <tr>\n",
       "                        <th id=\"T_49edb_level0_row23\" class=\"row_heading level0 row23\" >23</th>\n",
       "                        <td id=\"T_49edb_row23_col0\" class=\"data row23 col0\" >Iterative Imputation Iteration</td>\n",
       "                        <td id=\"T_49edb_row23_col1\" class=\"data row23 col1\" >None</td>\n",
       "            </tr>\n",
       "            <tr>\n",
       "                        <th id=\"T_49edb_level0_row24\" class=\"row_heading level0 row24\" >24</th>\n",
       "                        <td id=\"T_49edb_row24_col0\" class=\"data row24 col0\" >Numeric Imputer</td>\n",
       "                        <td id=\"T_49edb_row24_col1\" class=\"data row24 col1\" >mean</td>\n",
       "            </tr>\n",
       "            <tr>\n",
       "                        <th id=\"T_49edb_level0_row25\" class=\"row_heading level0 row25\" >25</th>\n",
       "                        <td id=\"T_49edb_row25_col0\" class=\"data row25 col0\" >Iterative Imputation Numeric Model</td>\n",
       "                        <td id=\"T_49edb_row25_col1\" class=\"data row25 col1\" >None</td>\n",
       "            </tr>\n",
       "            <tr>\n",
       "                        <th id=\"T_49edb_level0_row26\" class=\"row_heading level0 row26\" >26</th>\n",
       "                        <td id=\"T_49edb_row26_col0\" class=\"data row26 col0\" >Categorical Imputer</td>\n",
       "                        <td id=\"T_49edb_row26_col1\" class=\"data row26 col1\" >constant</td>\n",
       "            </tr>\n",
       "            <tr>\n",
       "                        <th id=\"T_49edb_level0_row27\" class=\"row_heading level0 row27\" >27</th>\n",
       "                        <td id=\"T_49edb_row27_col0\" class=\"data row27 col0\" >Iterative Imputation Categorical Model</td>\n",
       "                        <td id=\"T_49edb_row27_col1\" class=\"data row27 col1\" >None</td>\n",
       "            </tr>\n",
       "            <tr>\n",
       "                        <th id=\"T_49edb_level0_row28\" class=\"row_heading level0 row28\" >28</th>\n",
       "                        <td id=\"T_49edb_row28_col0\" class=\"data row28 col0\" >Unknown Categoricals Handling</td>\n",
       "                        <td id=\"T_49edb_row28_col1\" class=\"data row28 col1\" >least_frequent</td>\n",
       "            </tr>\n",
       "            <tr>\n",
       "                        <th id=\"T_49edb_level0_row29\" class=\"row_heading level0 row29\" >29</th>\n",
       "                        <td id=\"T_49edb_row29_col0\" class=\"data row29 col0\" >Normalize</td>\n",
       "                        <td id=\"T_49edb_row29_col1\" class=\"data row29 col1\" >False</td>\n",
       "            </tr>\n",
       "            <tr>\n",
       "                        <th id=\"T_49edb_level0_row30\" class=\"row_heading level0 row30\" >30</th>\n",
       "                        <td id=\"T_49edb_row30_col0\" class=\"data row30 col0\" >Normalize Method</td>\n",
       "                        <td id=\"T_49edb_row30_col1\" class=\"data row30 col1\" >None</td>\n",
       "            </tr>\n",
       "            <tr>\n",
       "                        <th id=\"T_49edb_level0_row31\" class=\"row_heading level0 row31\" >31</th>\n",
       "                        <td id=\"T_49edb_row31_col0\" class=\"data row31 col0\" >Transformation</td>\n",
       "                        <td id=\"T_49edb_row31_col1\" class=\"data row31 col1\" >False</td>\n",
       "            </tr>\n",
       "            <tr>\n",
       "                        <th id=\"T_49edb_level0_row32\" class=\"row_heading level0 row32\" >32</th>\n",
       "                        <td id=\"T_49edb_row32_col0\" class=\"data row32 col0\" >Transformation Method</td>\n",
       "                        <td id=\"T_49edb_row32_col1\" class=\"data row32 col1\" >None</td>\n",
       "            </tr>\n",
       "            <tr>\n",
       "                        <th id=\"T_49edb_level0_row33\" class=\"row_heading level0 row33\" >33</th>\n",
       "                        <td id=\"T_49edb_row33_col0\" class=\"data row33 col0\" >PCA</td>\n",
       "                        <td id=\"T_49edb_row33_col1\" class=\"data row33 col1\" >False</td>\n",
       "            </tr>\n",
       "            <tr>\n",
       "                        <th id=\"T_49edb_level0_row34\" class=\"row_heading level0 row34\" >34</th>\n",
       "                        <td id=\"T_49edb_row34_col0\" class=\"data row34 col0\" >PCA Method</td>\n",
       "                        <td id=\"T_49edb_row34_col1\" class=\"data row34 col1\" >None</td>\n",
       "            </tr>\n",
       "            <tr>\n",
       "                        <th id=\"T_49edb_level0_row35\" class=\"row_heading level0 row35\" >35</th>\n",
       "                        <td id=\"T_49edb_row35_col0\" class=\"data row35 col0\" >PCA Components</td>\n",
       "                        <td id=\"T_49edb_row35_col1\" class=\"data row35 col1\" >None</td>\n",
       "            </tr>\n",
       "            <tr>\n",
       "                        <th id=\"T_49edb_level0_row36\" class=\"row_heading level0 row36\" >36</th>\n",
       "                        <td id=\"T_49edb_row36_col0\" class=\"data row36 col0\" >Ignore Low Variance</td>\n",
       "                        <td id=\"T_49edb_row36_col1\" class=\"data row36 col1\" >False</td>\n",
       "            </tr>\n",
       "            <tr>\n",
       "                        <th id=\"T_49edb_level0_row37\" class=\"row_heading level0 row37\" >37</th>\n",
       "                        <td id=\"T_49edb_row37_col0\" class=\"data row37 col0\" >Combine Rare Levels</td>\n",
       "                        <td id=\"T_49edb_row37_col1\" class=\"data row37 col1\" >False</td>\n",
       "            </tr>\n",
       "            <tr>\n",
       "                        <th id=\"T_49edb_level0_row38\" class=\"row_heading level0 row38\" >38</th>\n",
       "                        <td id=\"T_49edb_row38_col0\" class=\"data row38 col0\" >Rare Level Threshold</td>\n",
       "                        <td id=\"T_49edb_row38_col1\" class=\"data row38 col1\" >None</td>\n",
       "            </tr>\n",
       "            <tr>\n",
       "                        <th id=\"T_49edb_level0_row39\" class=\"row_heading level0 row39\" >39</th>\n",
       "                        <td id=\"T_49edb_row39_col0\" class=\"data row39 col0\" >Numeric Binning</td>\n",
       "                        <td id=\"T_49edb_row39_col1\" class=\"data row39 col1\" >False</td>\n",
       "            </tr>\n",
       "            <tr>\n",
       "                        <th id=\"T_49edb_level0_row40\" class=\"row_heading level0 row40\" >40</th>\n",
       "                        <td id=\"T_49edb_row40_col0\" class=\"data row40 col0\" >Remove Outliers</td>\n",
       "                        <td id=\"T_49edb_row40_col1\" class=\"data row40 col1\" >False</td>\n",
       "            </tr>\n",
       "            <tr>\n",
       "                        <th id=\"T_49edb_level0_row41\" class=\"row_heading level0 row41\" >41</th>\n",
       "                        <td id=\"T_49edb_row41_col0\" class=\"data row41 col0\" >Outliers Threshold</td>\n",
       "                        <td id=\"T_49edb_row41_col1\" class=\"data row41 col1\" >None</td>\n",
       "            </tr>\n",
       "            <tr>\n",
       "                        <th id=\"T_49edb_level0_row42\" class=\"row_heading level0 row42\" >42</th>\n",
       "                        <td id=\"T_49edb_row42_col0\" class=\"data row42 col0\" >Remove Multicollinearity</td>\n",
       "                        <td id=\"T_49edb_row42_col1\" class=\"data row42 col1\" >False</td>\n",
       "            </tr>\n",
       "            <tr>\n",
       "                        <th id=\"T_49edb_level0_row43\" class=\"row_heading level0 row43\" >43</th>\n",
       "                        <td id=\"T_49edb_row43_col0\" class=\"data row43 col0\" >Multicollinearity Threshold</td>\n",
       "                        <td id=\"T_49edb_row43_col1\" class=\"data row43 col1\" >None</td>\n",
       "            </tr>\n",
       "            <tr>\n",
       "                        <th id=\"T_49edb_level0_row44\" class=\"row_heading level0 row44\" >44</th>\n",
       "                        <td id=\"T_49edb_row44_col0\" class=\"data row44 col0\" >Clustering</td>\n",
       "                        <td id=\"T_49edb_row44_col1\" class=\"data row44 col1\" >False</td>\n",
       "            </tr>\n",
       "            <tr>\n",
       "                        <th id=\"T_49edb_level0_row45\" class=\"row_heading level0 row45\" >45</th>\n",
       "                        <td id=\"T_49edb_row45_col0\" class=\"data row45 col0\" >Clustering Iteration</td>\n",
       "                        <td id=\"T_49edb_row45_col1\" class=\"data row45 col1\" >None</td>\n",
       "            </tr>\n",
       "            <tr>\n",
       "                        <th id=\"T_49edb_level0_row46\" class=\"row_heading level0 row46\" >46</th>\n",
       "                        <td id=\"T_49edb_row46_col0\" class=\"data row46 col0\" >Polynomial Features</td>\n",
       "                        <td id=\"T_49edb_row46_col1\" class=\"data row46 col1\" >False</td>\n",
       "            </tr>\n",
       "            <tr>\n",
       "                        <th id=\"T_49edb_level0_row47\" class=\"row_heading level0 row47\" >47</th>\n",
       "                        <td id=\"T_49edb_row47_col0\" class=\"data row47 col0\" >Polynomial Degree</td>\n",
       "                        <td id=\"T_49edb_row47_col1\" class=\"data row47 col1\" >None</td>\n",
       "            </tr>\n",
       "            <tr>\n",
       "                        <th id=\"T_49edb_level0_row48\" class=\"row_heading level0 row48\" >48</th>\n",
       "                        <td id=\"T_49edb_row48_col0\" class=\"data row48 col0\" >Trignometry Features</td>\n",
       "                        <td id=\"T_49edb_row48_col1\" class=\"data row48 col1\" >False</td>\n",
       "            </tr>\n",
       "            <tr>\n",
       "                        <th id=\"T_49edb_level0_row49\" class=\"row_heading level0 row49\" >49</th>\n",
       "                        <td id=\"T_49edb_row49_col0\" class=\"data row49 col0\" >Polynomial Threshold</td>\n",
       "                        <td id=\"T_49edb_row49_col1\" class=\"data row49 col1\" >None</td>\n",
       "            </tr>\n",
       "            <tr>\n",
       "                        <th id=\"T_49edb_level0_row50\" class=\"row_heading level0 row50\" >50</th>\n",
       "                        <td id=\"T_49edb_row50_col0\" class=\"data row50 col0\" >Group Features</td>\n",
       "                        <td id=\"T_49edb_row50_col1\" class=\"data row50 col1\" >False</td>\n",
       "            </tr>\n",
       "            <tr>\n",
       "                        <th id=\"T_49edb_level0_row51\" class=\"row_heading level0 row51\" >51</th>\n",
       "                        <td id=\"T_49edb_row51_col0\" class=\"data row51 col0\" >Feature Selection</td>\n",
       "                        <td id=\"T_49edb_row51_col1\" class=\"data row51 col1\" >False</td>\n",
       "            </tr>\n",
       "            <tr>\n",
       "                        <th id=\"T_49edb_level0_row52\" class=\"row_heading level0 row52\" >52</th>\n",
       "                        <td id=\"T_49edb_row52_col0\" class=\"data row52 col0\" >Features Selection Threshold</td>\n",
       "                        <td id=\"T_49edb_row52_col1\" class=\"data row52 col1\" >None</td>\n",
       "            </tr>\n",
       "            <tr>\n",
       "                        <th id=\"T_49edb_level0_row53\" class=\"row_heading level0 row53\" >53</th>\n",
       "                        <td id=\"T_49edb_row53_col0\" class=\"data row53 col0\" >Feature Interaction</td>\n",
       "                        <td id=\"T_49edb_row53_col1\" class=\"data row53 col1\" >False</td>\n",
       "            </tr>\n",
       "            <tr>\n",
       "                        <th id=\"T_49edb_level0_row54\" class=\"row_heading level0 row54\" >54</th>\n",
       "                        <td id=\"T_49edb_row54_col0\" class=\"data row54 col0\" >Feature Ratio</td>\n",
       "                        <td id=\"T_49edb_row54_col1\" class=\"data row54 col1\" >False</td>\n",
       "            </tr>\n",
       "            <tr>\n",
       "                        <th id=\"T_49edb_level0_row55\" class=\"row_heading level0 row55\" >55</th>\n",
       "                        <td id=\"T_49edb_row55_col0\" class=\"data row55 col0\" >Interaction Threshold</td>\n",
       "                        <td id=\"T_49edb_row55_col1\" class=\"data row55 col1\" >None</td>\n",
       "            </tr>\n",
       "            <tr>\n",
       "                        <th id=\"T_49edb_level0_row56\" class=\"row_heading level0 row56\" >56</th>\n",
       "                        <td id=\"T_49edb_row56_col0\" class=\"data row56 col0\" >Fix Imbalance</td>\n",
       "                        <td id=\"T_49edb_row56_col1\" class=\"data row56 col1\" >False</td>\n",
       "            </tr>\n",
       "            <tr>\n",
       "                        <th id=\"T_49edb_level0_row57\" class=\"row_heading level0 row57\" >57</th>\n",
       "                        <td id=\"T_49edb_row57_col0\" class=\"data row57 col0\" >Fix Imbalance Method</td>\n",
       "                        <td id=\"T_49edb_row57_col1\" class=\"data row57 col1\" >SMOTE</td>\n",
       "            </tr>\n",
       "    </tbody></table>"
      ],
      "text/plain": [
       "<pandas.io.formats.style.Styler at 0x1535e1fd0>"
      ]
     },
     "metadata": {},
     "output_type": "display_data"
    }
   ],
   "source": [
    "exp_clf101=setup(data=data, target='default', session_id=123) "
   ]
  },
  {
   "cell_type": "code",
   "execution_count": 49,
   "metadata": {},
   "outputs": [
    {
     "data": {
      "text/html": [
       "<style  type=\"text/css\" >\n",
       "    #T_065f1_ th {\n",
       "          text-align: left;\n",
       "    }#T_065f1_row0_col0,#T_065f1_row0_col2,#T_065f1_row0_col3,#T_065f1_row0_col5,#T_065f1_row0_col6,#T_065f1_row0_col7,#T_065f1_row1_col0,#T_065f1_row1_col1,#T_065f1_row1_col2,#T_065f1_row1_col3,#T_065f1_row1_col4,#T_065f1_row2_col0,#T_065f1_row2_col1,#T_065f1_row2_col3,#T_065f1_row2_col4,#T_065f1_row2_col5,#T_065f1_row2_col6,#T_065f1_row2_col7,#T_065f1_row3_col0,#T_065f1_row3_col1,#T_065f1_row3_col2,#T_065f1_row3_col3,#T_065f1_row3_col4,#T_065f1_row3_col5,#T_065f1_row3_col6,#T_065f1_row3_col7,#T_065f1_row4_col0,#T_065f1_row4_col1,#T_065f1_row4_col2,#T_065f1_row4_col3,#T_065f1_row4_col4,#T_065f1_row4_col5,#T_065f1_row4_col6,#T_065f1_row4_col7,#T_065f1_row5_col0,#T_065f1_row5_col1,#T_065f1_row5_col2,#T_065f1_row5_col3,#T_065f1_row5_col4,#T_065f1_row5_col5,#T_065f1_row5_col6,#T_065f1_row5_col7,#T_065f1_row6_col0,#T_065f1_row6_col1,#T_065f1_row6_col2,#T_065f1_row6_col3,#T_065f1_row6_col4,#T_065f1_row6_col5,#T_065f1_row6_col6,#T_065f1_row6_col7,#T_065f1_row7_col0,#T_065f1_row7_col1,#T_065f1_row7_col2,#T_065f1_row7_col3,#T_065f1_row7_col4,#T_065f1_row7_col5,#T_065f1_row7_col6,#T_065f1_row7_col7,#T_065f1_row8_col0,#T_065f1_row8_col1,#T_065f1_row8_col2,#T_065f1_row8_col3,#T_065f1_row8_col4,#T_065f1_row8_col5,#T_065f1_row8_col6,#T_065f1_row8_col7,#T_065f1_row9_col0,#T_065f1_row9_col1,#T_065f1_row9_col2,#T_065f1_row9_col3,#T_065f1_row9_col4,#T_065f1_row9_col5,#T_065f1_row9_col6,#T_065f1_row9_col7,#T_065f1_row10_col0,#T_065f1_row10_col1,#T_065f1_row10_col2,#T_065f1_row10_col3,#T_065f1_row10_col4,#T_065f1_row10_col5,#T_065f1_row10_col6,#T_065f1_row10_col7,#T_065f1_row11_col0,#T_065f1_row11_col1,#T_065f1_row11_col2,#T_065f1_row11_col3,#T_065f1_row11_col4,#T_065f1_row11_col5,#T_065f1_row11_col6,#T_065f1_row11_col7,#T_065f1_row12_col0,#T_065f1_row12_col1,#T_065f1_row12_col2,#T_065f1_row12_col3,#T_065f1_row12_col4,#T_065f1_row12_col5,#T_065f1_row12_col6,#T_065f1_row12_col7,#T_065f1_row13_col0,#T_065f1_row13_col1,#T_065f1_row13_col2,#T_065f1_row13_col3,#T_065f1_row13_col4,#T_065f1_row13_col5,#T_065f1_row13_col6,#T_065f1_row13_col7,#T_065f1_row14_col0,#T_065f1_row14_col1,#T_065f1_row14_col2,#T_065f1_row14_col4,#T_065f1_row14_col5,#T_065f1_row14_col6,#T_065f1_row14_col7{\n",
       "            text-align:  left;\n",
       "            text-align:  left;\n",
       "        }#T_065f1_row0_col1,#T_065f1_row0_col4,#T_065f1_row1_col5,#T_065f1_row1_col6,#T_065f1_row1_col7,#T_065f1_row2_col2,#T_065f1_row14_col3{\n",
       "            text-align:  left;\n",
       "            text-align:  left;\n",
       "            background-color:  yellow;\n",
       "        }#T_065f1_row0_col8,#T_065f1_row1_col8,#T_065f1_row2_col8,#T_065f1_row3_col8,#T_065f1_row4_col8,#T_065f1_row5_col8,#T_065f1_row6_col8,#T_065f1_row7_col8,#T_065f1_row8_col8,#T_065f1_row9_col8,#T_065f1_row10_col8,#T_065f1_row11_col8,#T_065f1_row12_col8,#T_065f1_row13_col8{\n",
       "            text-align:  left;\n",
       "            text-align:  left;\n",
       "            background-color:  lightgrey;\n",
       "        }#T_065f1_row14_col8{\n",
       "            text-align:  left;\n",
       "            text-align:  left;\n",
       "            background-color:  yellow;\n",
       "            background-color:  lightgrey;\n",
       "        }</style><table id=\"T_065f1_\" ><thead>    <tr>        <th class=\"blank level0\" ></th>        <th class=\"col_heading level0 col0\" >Model</th>        <th class=\"col_heading level0 col1\" >Accuracy</th>        <th class=\"col_heading level0 col2\" >AUC</th>        <th class=\"col_heading level0 col3\" >Recall</th>        <th class=\"col_heading level0 col4\" >Prec.</th>        <th class=\"col_heading level0 col5\" >F1</th>        <th class=\"col_heading level0 col6\" >Kappa</th>        <th class=\"col_heading level0 col7\" >MCC</th>        <th class=\"col_heading level0 col8\" >TT (Sec)</th>    </tr></thead><tbody>\n",
       "                <tr>\n",
       "                        <th id=\"T_065f1_level0_row0\" class=\"row_heading level0 row0\" >ridge</th>\n",
       "                        <td id=\"T_065f1_row0_col0\" class=\"data row0 col0\" >Ridge Classifier</td>\n",
       "                        <td id=\"T_065f1_row0_col1\" class=\"data row0 col1\" >0.8254</td>\n",
       "                        <td id=\"T_065f1_row0_col2\" class=\"data row0 col2\" >0.0000</td>\n",
       "                        <td id=\"T_065f1_row0_col3\" class=\"data row0 col3\" >0.3637</td>\n",
       "                        <td id=\"T_065f1_row0_col4\" class=\"data row0 col4\" >0.6913</td>\n",
       "                        <td id=\"T_065f1_row0_col5\" class=\"data row0 col5\" >0.4764</td>\n",
       "                        <td id=\"T_065f1_row0_col6\" class=\"data row0 col6\" >0.3836</td>\n",
       "                        <td id=\"T_065f1_row0_col7\" class=\"data row0 col7\" >0.4122</td>\n",
       "                        <td id=\"T_065f1_row0_col8\" class=\"data row0 col8\" >0.0920</td>\n",
       "            </tr>\n",
       "            <tr>\n",
       "                        <th id=\"T_065f1_level0_row1\" class=\"row_heading level0 row1\" >lda</th>\n",
       "                        <td id=\"T_065f1_row1_col0\" class=\"data row1 col0\" >Linear Discriminant Analysis</td>\n",
       "                        <td id=\"T_065f1_row1_col1\" class=\"data row1 col1\" >0.8247</td>\n",
       "                        <td id=\"T_065f1_row1_col2\" class=\"data row1 col2\" >0.7634</td>\n",
       "                        <td id=\"T_065f1_row1_col3\" class=\"data row1 col3\" >0.3755</td>\n",
       "                        <td id=\"T_065f1_row1_col4\" class=\"data row1 col4\" >0.6794</td>\n",
       "                        <td id=\"T_065f1_row1_col5\" class=\"data row1 col5\" >0.4835</td>\n",
       "                        <td id=\"T_065f1_row1_col6\" class=\"data row1 col6\" >0.3884</td>\n",
       "                        <td id=\"T_065f1_row1_col7\" class=\"data row1 col7\" >0.4132</td>\n",
       "                        <td id=\"T_065f1_row1_col8\" class=\"data row1 col8\" >0.2600</td>\n",
       "            </tr>\n",
       "            <tr>\n",
       "                        <th id=\"T_065f1_level0_row2\" class=\"row_heading level0 row2\" >gbc</th>\n",
       "                        <td id=\"T_065f1_row2_col0\" class=\"data row2 col0\" >Gradient Boosting Classifier</td>\n",
       "                        <td id=\"T_065f1_row2_col1\" class=\"data row2 col1\" >0.8226</td>\n",
       "                        <td id=\"T_065f1_row2_col2\" class=\"data row2 col2\" >0.7789</td>\n",
       "                        <td id=\"T_065f1_row2_col3\" class=\"data row2 col3\" >0.3551</td>\n",
       "                        <td id=\"T_065f1_row2_col4\" class=\"data row2 col4\" >0.6806</td>\n",
       "                        <td id=\"T_065f1_row2_col5\" class=\"data row2 col5\" >0.4664</td>\n",
       "                        <td id=\"T_065f1_row2_col6\" class=\"data row2 col6\" >0.3725</td>\n",
       "                        <td id=\"T_065f1_row2_col7\" class=\"data row2 col7\" >0.4010</td>\n",
       "                        <td id=\"T_065f1_row2_col8\" class=\"data row2 col8\" >1.9420</td>\n",
       "            </tr>\n",
       "            <tr>\n",
       "                        <th id=\"T_065f1_level0_row3\" class=\"row_heading level0 row3\" >ada</th>\n",
       "                        <td id=\"T_065f1_row3_col0\" class=\"data row3 col0\" >Ada Boost Classifier</td>\n",
       "                        <td id=\"T_065f1_row3_col1\" class=\"data row3 col1\" >0.8221</td>\n",
       "                        <td id=\"T_065f1_row3_col2\" class=\"data row3 col2\" >0.7697</td>\n",
       "                        <td id=\"T_065f1_row3_col3\" class=\"data row3 col3\" >0.3505</td>\n",
       "                        <td id=\"T_065f1_row3_col4\" class=\"data row3 col4\" >0.6811</td>\n",
       "                        <td id=\"T_065f1_row3_col5\" class=\"data row3 col5\" >0.4626</td>\n",
       "                        <td id=\"T_065f1_row3_col6\" class=\"data row3 col6\" >0.3690</td>\n",
       "                        <td id=\"T_065f1_row3_col7\" class=\"data row3 col7\" >0.3983</td>\n",
       "                        <td id=\"T_065f1_row3_col8\" class=\"data row3 col8\" >0.5310</td>\n",
       "            </tr>\n",
       "            <tr>\n",
       "                        <th id=\"T_065f1_level0_row4\" class=\"row_heading level0 row4\" >catboost</th>\n",
       "                        <td id=\"T_065f1_row4_col0\" class=\"data row4 col0\" >CatBoost Classifier</td>\n",
       "                        <td id=\"T_065f1_row4_col1\" class=\"data row4 col1\" >0.8215</td>\n",
       "                        <td id=\"T_065f1_row4_col2\" class=\"data row4 col2\" >0.7760</td>\n",
       "                        <td id=\"T_065f1_row4_col3\" class=\"data row4 col3\" >0.3657</td>\n",
       "                        <td id=\"T_065f1_row4_col4\" class=\"data row4 col4\" >0.6678</td>\n",
       "                        <td id=\"T_065f1_row4_col5\" class=\"data row4 col5\" >0.4724</td>\n",
       "                        <td id=\"T_065f1_row4_col6\" class=\"data row4 col6\" >0.3759</td>\n",
       "                        <td id=\"T_065f1_row4_col7\" class=\"data row4 col7\" >0.4007</td>\n",
       "                        <td id=\"T_065f1_row4_col8\" class=\"data row4 col8\" >9.5550</td>\n",
       "            </tr>\n",
       "            <tr>\n",
       "                        <th id=\"T_065f1_level0_row5\" class=\"row_heading level0 row5\" >lightgbm</th>\n",
       "                        <td id=\"T_065f1_row5_col0\" class=\"data row5 col0\" >Light Gradient Boosting Machine</td>\n",
       "                        <td id=\"T_065f1_row5_col1\" class=\"data row5 col1\" >0.8210</td>\n",
       "                        <td id=\"T_065f1_row5_col2\" class=\"data row5 col2\" >0.7750</td>\n",
       "                        <td id=\"T_065f1_row5_col3\" class=\"data row5 col3\" >0.3609</td>\n",
       "                        <td id=\"T_065f1_row5_col4\" class=\"data row5 col4\" >0.6679</td>\n",
       "                        <td id=\"T_065f1_row5_col5\" class=\"data row5 col5\" >0.4683</td>\n",
       "                        <td id=\"T_065f1_row5_col6\" class=\"data row5 col6\" >0.3721</td>\n",
       "                        <td id=\"T_065f1_row5_col7\" class=\"data row5 col7\" >0.3977</td>\n",
       "                        <td id=\"T_065f1_row5_col8\" class=\"data row5 col8\" >0.1720</td>\n",
       "            </tr>\n",
       "            <tr>\n",
       "                        <th id=\"T_065f1_level0_row6\" class=\"row_heading level0 row6\" >rf</th>\n",
       "                        <td id=\"T_065f1_row6_col0\" class=\"data row6 col0\" >Random Forest Classifier</td>\n",
       "                        <td id=\"T_065f1_row6_col1\" class=\"data row6 col1\" >0.8199</td>\n",
       "                        <td id=\"T_065f1_row6_col2\" class=\"data row6 col2\" >0.7598</td>\n",
       "                        <td id=\"T_065f1_row6_col3\" class=\"data row6 col3\" >0.3663</td>\n",
       "                        <td id=\"T_065f1_row6_col4\" class=\"data row6 col4\" >0.6601</td>\n",
       "                        <td id=\"T_065f1_row6_col5\" class=\"data row6 col5\" >0.4707</td>\n",
       "                        <td id=\"T_065f1_row6_col6\" class=\"data row6 col6\" >0.3727</td>\n",
       "                        <td id=\"T_065f1_row6_col7\" class=\"data row6 col7\" >0.3965</td>\n",
       "                        <td id=\"T_065f1_row6_col8\" class=\"data row6 col8\" >1.0740</td>\n",
       "            </tr>\n",
       "            <tr>\n",
       "                        <th id=\"T_065f1_level0_row7\" class=\"row_heading level0 row7\" >xgboost</th>\n",
       "                        <td id=\"T_065f1_row7_col0\" class=\"data row7 col0\" >Extreme Gradient Boosting</td>\n",
       "                        <td id=\"T_065f1_row7_col1\" class=\"data row7 col1\" >0.8160</td>\n",
       "                        <td id=\"T_065f1_row7_col2\" class=\"data row7 col2\" >0.7561</td>\n",
       "                        <td id=\"T_065f1_row7_col3\" class=\"data row7 col3\" >0.3629</td>\n",
       "                        <td id=\"T_065f1_row7_col4\" class=\"data row7 col4\" >0.6391</td>\n",
       "                        <td id=\"T_065f1_row7_col5\" class=\"data row7 col5\" >0.4626</td>\n",
       "                        <td id=\"T_065f1_row7_col6\" class=\"data row7 col6\" >0.3617</td>\n",
       "                        <td id=\"T_065f1_row7_col7\" class=\"data row7 col7\" >0.3829</td>\n",
       "                        <td id=\"T_065f1_row7_col8\" class=\"data row7 col8\" >2.3290</td>\n",
       "            </tr>\n",
       "            <tr>\n",
       "                        <th id=\"T_065f1_level0_row8\" class=\"row_heading level0 row8\" >et</th>\n",
       "                        <td id=\"T_065f1_row8_col0\" class=\"data row8 col0\" >Extra Trees Classifier</td>\n",
       "                        <td id=\"T_065f1_row8_col1\" class=\"data row8 col1\" >0.8092</td>\n",
       "                        <td id=\"T_065f1_row8_col2\" class=\"data row8 col2\" >0.7377</td>\n",
       "                        <td id=\"T_065f1_row8_col3\" class=\"data row8 col3\" >0.3677</td>\n",
       "                        <td id=\"T_065f1_row8_col4\" class=\"data row8 col4\" >0.6047</td>\n",
       "                        <td id=\"T_065f1_row8_col5\" class=\"data row8 col5\" >0.4571</td>\n",
       "                        <td id=\"T_065f1_row8_col6\" class=\"data row8 col6\" >0.3497</td>\n",
       "                        <td id=\"T_065f1_row8_col7\" class=\"data row8 col7\" >0.3657</td>\n",
       "                        <td id=\"T_065f1_row8_col8\" class=\"data row8 col8\" >0.9130</td>\n",
       "            </tr>\n",
       "            <tr>\n",
       "                        <th id=\"T_065f1_level0_row9\" class=\"row_heading level0 row9\" >lr</th>\n",
       "                        <td id=\"T_065f1_row9_col0\" class=\"data row9 col0\" >Logistic Regression</td>\n",
       "                        <td id=\"T_065f1_row9_col1\" class=\"data row9 col1\" >0.7814</td>\n",
       "                        <td id=\"T_065f1_row9_col2\" class=\"data row9 col2\" >0.6410</td>\n",
       "                        <td id=\"T_065f1_row9_col3\" class=\"data row9 col3\" >0.0003</td>\n",
       "                        <td id=\"T_065f1_row9_col4\" class=\"data row9 col4\" >0.1000</td>\n",
       "                        <td id=\"T_065f1_row9_col5\" class=\"data row9 col5\" >0.0006</td>\n",
       "                        <td id=\"T_065f1_row9_col6\" class=\"data row9 col6\" >0.0003</td>\n",
       "                        <td id=\"T_065f1_row9_col7\" class=\"data row9 col7\" >0.0034</td>\n",
       "                        <td id=\"T_065f1_row9_col8\" class=\"data row9 col8\" >0.5240</td>\n",
       "            </tr>\n",
       "            <tr>\n",
       "                        <th id=\"T_065f1_level0_row10\" class=\"row_heading level0 row10\" >knn</th>\n",
       "                        <td id=\"T_065f1_row10_col0\" class=\"data row10 col0\" >K Neighbors Classifier</td>\n",
       "                        <td id=\"T_065f1_row10_col1\" class=\"data row10 col1\" >0.7547</td>\n",
       "                        <td id=\"T_065f1_row10_col2\" class=\"data row10 col2\" >0.5939</td>\n",
       "                        <td id=\"T_065f1_row10_col3\" class=\"data row10 col3\" >0.1763</td>\n",
       "                        <td id=\"T_065f1_row10_col4\" class=\"data row10 col4\" >0.3719</td>\n",
       "                        <td id=\"T_065f1_row10_col5\" class=\"data row10 col5\" >0.2388</td>\n",
       "                        <td id=\"T_065f1_row10_col6\" class=\"data row10 col6\" >0.1145</td>\n",
       "                        <td id=\"T_065f1_row10_col7\" class=\"data row10 col7\" >0.1259</td>\n",
       "                        <td id=\"T_065f1_row10_col8\" class=\"data row10 col8\" >0.3170</td>\n",
       "            </tr>\n",
       "            <tr>\n",
       "                        <th id=\"T_065f1_level0_row11\" class=\"row_heading level0 row11\" >dt</th>\n",
       "                        <td id=\"T_065f1_row11_col0\" class=\"data row11 col0\" >Decision Tree Classifier</td>\n",
       "                        <td id=\"T_065f1_row11_col1\" class=\"data row11 col1\" >0.7293</td>\n",
       "                        <td id=\"T_065f1_row11_col2\" class=\"data row11 col2\" >0.6147</td>\n",
       "                        <td id=\"T_065f1_row11_col3\" class=\"data row11 col3\" >0.4104</td>\n",
       "                        <td id=\"T_065f1_row11_col4\" class=\"data row11 col4\" >0.3878</td>\n",
       "                        <td id=\"T_065f1_row11_col5\" class=\"data row11 col5\" >0.3986</td>\n",
       "                        <td id=\"T_065f1_row11_col6\" class=\"data row11 col6\" >0.2242</td>\n",
       "                        <td id=\"T_065f1_row11_col7\" class=\"data row11 col7\" >0.2245</td>\n",
       "                        <td id=\"T_065f1_row11_col8\" class=\"data row11 col8\" >0.1740</td>\n",
       "            </tr>\n",
       "            <tr>\n",
       "                        <th id=\"T_065f1_level0_row12\" class=\"row_heading level0 row12\" >svm</th>\n",
       "                        <td id=\"T_065f1_row12_col0\" class=\"data row12 col0\" >SVM - Linear Kernel</td>\n",
       "                        <td id=\"T_065f1_row12_col1\" class=\"data row12 col1\" >0.7277</td>\n",
       "                        <td id=\"T_065f1_row12_col2\" class=\"data row12 col2\" >0.0000</td>\n",
       "                        <td id=\"T_065f1_row12_col3\" class=\"data row12 col3\" >0.1017</td>\n",
       "                        <td id=\"T_065f1_row12_col4\" class=\"data row12 col4\" >0.1671</td>\n",
       "                        <td id=\"T_065f1_row12_col5\" class=\"data row12 col5\" >0.0984</td>\n",
       "                        <td id=\"T_065f1_row12_col6\" class=\"data row12 col6\" >0.0067</td>\n",
       "                        <td id=\"T_065f1_row12_col7\" class=\"data row12 col7\" >0.0075</td>\n",
       "                        <td id=\"T_065f1_row12_col8\" class=\"data row12 col8\" >0.2090</td>\n",
       "            </tr>\n",
       "            <tr>\n",
       "                        <th id=\"T_065f1_level0_row13\" class=\"row_heading level0 row13\" >qda</th>\n",
       "                        <td id=\"T_065f1_row13_col0\" class=\"data row13 col0\" >Quadratic Discriminant Analysis</td>\n",
       "                        <td id=\"T_065f1_row13_col1\" class=\"data row13 col1\" >0.4840</td>\n",
       "                        <td id=\"T_065f1_row13_col2\" class=\"data row13 col2\" >0.5313</td>\n",
       "                        <td id=\"T_065f1_row13_col3\" class=\"data row13 col3\" >0.6153</td>\n",
       "                        <td id=\"T_065f1_row13_col4\" class=\"data row13 col4\" >0.2398</td>\n",
       "                        <td id=\"T_065f1_row13_col5\" class=\"data row13 col5\" >0.3414</td>\n",
       "                        <td id=\"T_065f1_row13_col6\" class=\"data row13 col6\" >0.0420</td>\n",
       "                        <td id=\"T_065f1_row13_col7\" class=\"data row13 col7\" >0.0540</td>\n",
       "                        <td id=\"T_065f1_row13_col8\" class=\"data row13 col8\" >0.1900</td>\n",
       "            </tr>\n",
       "            <tr>\n",
       "                        <th id=\"T_065f1_level0_row14\" class=\"row_heading level0 row14\" >nb</th>\n",
       "                        <td id=\"T_065f1_row14_col0\" class=\"data row14 col0\" >Naive Bayes</td>\n",
       "                        <td id=\"T_065f1_row14_col1\" class=\"data row14 col1\" >0.3760</td>\n",
       "                        <td id=\"T_065f1_row14_col2\" class=\"data row14 col2\" >0.6442</td>\n",
       "                        <td id=\"T_065f1_row14_col3\" class=\"data row14 col3\" >0.8845</td>\n",
       "                        <td id=\"T_065f1_row14_col4\" class=\"data row14 col4\" >0.2441</td>\n",
       "                        <td id=\"T_065f1_row14_col5\" class=\"data row14 col5\" >0.3826</td>\n",
       "                        <td id=\"T_065f1_row14_col6\" class=\"data row14 col6\" >0.0608</td>\n",
       "                        <td id=\"T_065f1_row14_col7\" class=\"data row14 col7\" >0.1207</td>\n",
       "                        <td id=\"T_065f1_row14_col8\" class=\"data row14 col8\" >0.0650</td>\n",
       "            </tr>\n",
       "    </tbody></table>"
      ],
      "text/plain": [
       "<pandas.io.formats.style.Styler at 0x1531cb990>"
      ]
     },
     "metadata": {},
     "output_type": "display_data"
    },
    {
     "data": {
      "text/plain": [
       "RidgeClassifier(alpha=1.0, class_weight=None, copy_X=True, fit_intercept=True,\n",
       "                max_iter=None, normalize=False, random_state=123, solver='auto',\n",
       "                tol=0.001)"
      ]
     },
     "execution_count": 49,
     "metadata": {},
     "output_type": "execute_result"
    }
   ],
   "source": [
    "compare_models()"
   ]
  },
  {
   "cell_type": "code",
   "execution_count": 50,
   "metadata": {
    "scrolled": false
   },
   "outputs": [
    {
     "data": {
      "text/html": [
       "<style  type=\"text/css\" >\n",
       "#T_85ccb_row10_col0,#T_85ccb_row10_col1,#T_85ccb_row10_col2,#T_85ccb_row10_col3,#T_85ccb_row10_col4,#T_85ccb_row10_col5,#T_85ccb_row10_col6{\n",
       "            background:  yellow;\n",
       "        }</style><table id=\"T_85ccb_\" ><thead>    <tr>        <th class=\"blank level0\" ></th>        <th class=\"col_heading level0 col0\" >Accuracy</th>        <th class=\"col_heading level0 col1\" >AUC</th>        <th class=\"col_heading level0 col2\" >Recall</th>        <th class=\"col_heading level0 col3\" >Prec.</th>        <th class=\"col_heading level0 col4\" >F1</th>        <th class=\"col_heading level0 col5\" >Kappa</th>        <th class=\"col_heading level0 col6\" >MCC</th>    </tr></thead><tbody>\n",
       "                <tr>\n",
       "                        <th id=\"T_85ccb_level0_row0\" class=\"row_heading level0 row0\" >0</th>\n",
       "                        <td id=\"T_85ccb_row0_col0\" class=\"data row0 col0\" >0.7343</td>\n",
       "                        <td id=\"T_85ccb_row0_col1\" class=\"data row0 col1\" >0.6257</td>\n",
       "                        <td id=\"T_85ccb_row0_col2\" class=\"data row0 col2\" >0.4327</td>\n",
       "                        <td id=\"T_85ccb_row0_col3\" class=\"data row0 col3\" >0.4005</td>\n",
       "                        <td id=\"T_85ccb_row0_col4\" class=\"data row0 col4\" >0.4160</td>\n",
       "                        <td id=\"T_85ccb_row0_col5\" class=\"data row0 col5\" >0.2444</td>\n",
       "                        <td id=\"T_85ccb_row0_col6\" class=\"data row0 col6\" >0.2447</td>\n",
       "            </tr>\n",
       "            <tr>\n",
       "                        <th id=\"T_85ccb_level0_row1\" class=\"row_heading level0 row1\" >1</th>\n",
       "                        <td id=\"T_85ccb_row1_col0\" class=\"data row1 col0\" >0.7325</td>\n",
       "                        <td id=\"T_85ccb_row1_col1\" class=\"data row1 col1\" >0.6277</td>\n",
       "                        <td id=\"T_85ccb_row1_col2\" class=\"data row1 col2\" >0.4384</td>\n",
       "                        <td id=\"T_85ccb_row1_col3\" class=\"data row1 col3\" >0.3984</td>\n",
       "                        <td id=\"T_85ccb_row1_col4\" class=\"data row1 col4\" >0.4175</td>\n",
       "                        <td id=\"T_85ccb_row1_col5\" class=\"data row1 col5\" >0.2443</td>\n",
       "                        <td id=\"T_85ccb_row1_col6\" class=\"data row1 col6\" >0.2448</td>\n",
       "            </tr>\n",
       "            <tr>\n",
       "                        <th id=\"T_85ccb_level0_row2\" class=\"row_heading level0 row2\" >2</th>\n",
       "                        <td id=\"T_85ccb_row2_col0\" class=\"data row2 col0\" >0.7431</td>\n",
       "                        <td id=\"T_85ccb_row2_col1\" class=\"data row2 col1\" >0.6282</td>\n",
       "                        <td id=\"T_85ccb_row2_col2\" class=\"data row2 col2\" >0.4241</td>\n",
       "                        <td id=\"T_85ccb_row2_col3\" class=\"data row2 col3\" >0.4146</td>\n",
       "                        <td id=\"T_85ccb_row2_col4\" class=\"data row2 col4\" >0.4193</td>\n",
       "                        <td id=\"T_85ccb_row2_col5\" class=\"data row2 col5\" >0.2544</td>\n",
       "                        <td id=\"T_85ccb_row2_col6\" class=\"data row2 col6\" >0.2544</td>\n",
       "            </tr>\n",
       "            <tr>\n",
       "                        <th id=\"T_85ccb_level0_row3\" class=\"row_heading level0 row3\" >3</th>\n",
       "                        <td id=\"T_85ccb_row3_col0\" class=\"data row3 col0\" >0.7274</td>\n",
       "                        <td id=\"T_85ccb_row3_col1\" class=\"data row3 col1\" >0.6151</td>\n",
       "                        <td id=\"T_85ccb_row3_col2\" class=\"data row3 col2\" >0.4155</td>\n",
       "                        <td id=\"T_85ccb_row3_col3\" class=\"data row3 col3\" >0.3856</td>\n",
       "                        <td id=\"T_85ccb_row3_col4\" class=\"data row3 col4\" >0.4000</td>\n",
       "                        <td id=\"T_85ccb_row3_col5\" class=\"data row3 col5\" >0.2240</td>\n",
       "                        <td id=\"T_85ccb_row3_col6\" class=\"data row3 col6\" >0.2242</td>\n",
       "            </tr>\n",
       "            <tr>\n",
       "                        <th id=\"T_85ccb_level0_row4\" class=\"row_heading level0 row4\" >4</th>\n",
       "                        <td id=\"T_85ccb_row4_col0\" class=\"data row4 col0\" >0.7187</td>\n",
       "                        <td id=\"T_85ccb_row4_col1\" class=\"data row4 col1\" >0.6054</td>\n",
       "                        <td id=\"T_85ccb_row4_col2\" class=\"data row4 col2\" >0.4040</td>\n",
       "                        <td id=\"T_85ccb_row4_col3\" class=\"data row4 col3\" >0.3691</td>\n",
       "                        <td id=\"T_85ccb_row4_col4\" class=\"data row4 col4\" >0.3858</td>\n",
       "                        <td id=\"T_85ccb_row4_col5\" class=\"data row4 col5\" >0.2038</td>\n",
       "                        <td id=\"T_85ccb_row4_col6\" class=\"data row4 col6\" >0.2042</td>\n",
       "            </tr>\n",
       "            <tr>\n",
       "                        <th id=\"T_85ccb_level0_row5\" class=\"row_heading level0 row5\" >5</th>\n",
       "                        <td id=\"T_85ccb_row5_col0\" class=\"data row5 col0\" >0.7187</td>\n",
       "                        <td id=\"T_85ccb_row5_col1\" class=\"data row5 col1\" >0.6014</td>\n",
       "                        <td id=\"T_85ccb_row5_col2\" class=\"data row5 col2\" >0.3897</td>\n",
       "                        <td id=\"T_85ccb_row5_col3\" class=\"data row5 col3\" >0.3656</td>\n",
       "                        <td id=\"T_85ccb_row5_col4\" class=\"data row5 col4\" >0.3773</td>\n",
       "                        <td id=\"T_85ccb_row5_col5\" class=\"data row5 col5\" >0.1958</td>\n",
       "                        <td id=\"T_85ccb_row5_col6\" class=\"data row5 col6\" >0.1960</td>\n",
       "            </tr>\n",
       "            <tr>\n",
       "                        <th id=\"T_85ccb_level0_row6\" class=\"row_heading level0 row6\" >6</th>\n",
       "                        <td id=\"T_85ccb_row6_col0\" class=\"data row6 col0\" >0.7206</td>\n",
       "                        <td id=\"T_85ccb_row6_col1\" class=\"data row6 col1\" >0.6128</td>\n",
       "                        <td id=\"T_85ccb_row6_col2\" class=\"data row6 col2\" >0.4212</td>\n",
       "                        <td id=\"T_85ccb_row6_col3\" class=\"data row6 col3\" >0.3760</td>\n",
       "                        <td id=\"T_85ccb_row6_col4\" class=\"data row6 col4\" >0.3973</td>\n",
       "                        <td id=\"T_85ccb_row6_col5\" class=\"data row6 col5\" >0.2162</td>\n",
       "                        <td id=\"T_85ccb_row6_col6\" class=\"data row6 col6\" >0.2168</td>\n",
       "            </tr>\n",
       "            <tr>\n",
       "                        <th id=\"T_85ccb_level0_row7\" class=\"row_heading level0 row7\" >7</th>\n",
       "                        <td id=\"T_85ccb_row7_col0\" class=\"data row7 col0\" >0.7331</td>\n",
       "                        <td id=\"T_85ccb_row7_col1\" class=\"data row7 col1\" >0.5986</td>\n",
       "                        <td id=\"T_85ccb_row7_col2\" class=\"data row7 col2\" >0.3610</td>\n",
       "                        <td id=\"T_85ccb_row7_col3\" class=\"data row7 col3\" >0.3830</td>\n",
       "                        <td id=\"T_85ccb_row7_col4\" class=\"data row7 col4\" >0.3717</td>\n",
       "                        <td id=\"T_85ccb_row7_col5\" class=\"data row7 col5\" >0.2024</td>\n",
       "                        <td id=\"T_85ccb_row7_col6\" class=\"data row7 col6\" >0.2026</td>\n",
       "            </tr>\n",
       "            <tr>\n",
       "                        <th id=\"T_85ccb_level0_row8\" class=\"row_heading level0 row8\" >8</th>\n",
       "                        <td id=\"T_85ccb_row8_col0\" class=\"data row8 col0\" >0.7206</td>\n",
       "                        <td id=\"T_85ccb_row8_col1\" class=\"data row8 col1\" >0.6045</td>\n",
       "                        <td id=\"T_85ccb_row8_col2\" class=\"data row8 col2\" >0.3983</td>\n",
       "                        <td id=\"T_85ccb_row8_col3\" class=\"data row8 col3\" >0.3707</td>\n",
       "                        <td id=\"T_85ccb_row8_col4\" class=\"data row8 col4\" >0.3840</td>\n",
       "                        <td id=\"T_85ccb_row8_col5\" class=\"data row8 col5\" >0.2036</td>\n",
       "                        <td id=\"T_85ccb_row8_col6\" class=\"data row8 col6\" >0.2038</td>\n",
       "            </tr>\n",
       "            <tr>\n",
       "                        <th id=\"T_85ccb_level0_row9\" class=\"row_heading level0 row9\" >9</th>\n",
       "                        <td id=\"T_85ccb_row9_col0\" class=\"data row9 col0\" >0.7442</td>\n",
       "                        <td id=\"T_85ccb_row9_col1\" class=\"data row9 col1\" >0.6272</td>\n",
       "                        <td id=\"T_85ccb_row9_col2\" class=\"data row9 col2\" >0.4195</td>\n",
       "                        <td id=\"T_85ccb_row9_col3\" class=\"data row9 col3\" >0.4148</td>\n",
       "                        <td id=\"T_85ccb_row9_col4\" class=\"data row9 col4\" >0.4171</td>\n",
       "                        <td id=\"T_85ccb_row9_col5\" class=\"data row9 col5\" >0.2533</td>\n",
       "                        <td id=\"T_85ccb_row9_col6\" class=\"data row9 col6\" >0.2533</td>\n",
       "            </tr>\n",
       "            <tr>\n",
       "                        <th id=\"T_85ccb_level0_row10\" class=\"row_heading level0 row10\" >Mean</th>\n",
       "                        <td id=\"T_85ccb_row10_col0\" class=\"data row10 col0\" >0.7293</td>\n",
       "                        <td id=\"T_85ccb_row10_col1\" class=\"data row10 col1\" >0.6147</td>\n",
       "                        <td id=\"T_85ccb_row10_col2\" class=\"data row10 col2\" >0.4104</td>\n",
       "                        <td id=\"T_85ccb_row10_col3\" class=\"data row10 col3\" >0.3878</td>\n",
       "                        <td id=\"T_85ccb_row10_col4\" class=\"data row10 col4\" >0.3986</td>\n",
       "                        <td id=\"T_85ccb_row10_col5\" class=\"data row10 col5\" >0.2242</td>\n",
       "                        <td id=\"T_85ccb_row10_col6\" class=\"data row10 col6\" >0.2245</td>\n",
       "            </tr>\n",
       "            <tr>\n",
       "                        <th id=\"T_85ccb_level0_row11\" class=\"row_heading level0 row11\" >SD</th>\n",
       "                        <td id=\"T_85ccb_row11_col0\" class=\"data row11 col0\" >0.0092</td>\n",
       "                        <td id=\"T_85ccb_row11_col1\" class=\"data row11 col1\" >0.0112</td>\n",
       "                        <td id=\"T_85ccb_row11_col2\" class=\"data row11 col2\" >0.0218</td>\n",
       "                        <td id=\"T_85ccb_row11_col3\" class=\"data row11 col3\" >0.0174</td>\n",
       "                        <td id=\"T_85ccb_row11_col4\" class=\"data row11 col4\" >0.0173</td>\n",
       "                        <td id=\"T_85ccb_row11_col5\" class=\"data row11 col5\" >0.0218</td>\n",
       "                        <td id=\"T_85ccb_row11_col6\" class=\"data row11 col6\" >0.0218</td>\n",
       "            </tr>\n",
       "    </tbody></table>"
      ],
      "text/plain": [
       "<pandas.io.formats.style.Styler at 0x153f8b5d0>"
      ]
     },
     "metadata": {},
     "output_type": "display_data"
    },
    {
     "name": "stdout",
     "output_type": "stream",
     "text": [
      "DecisionTreeClassifier(ccp_alpha=0.0, class_weight=None, criterion='gini',\n",
      "                       max_depth=None, max_features=None, max_leaf_nodes=None,\n",
      "                       min_impurity_decrease=0.0, min_impurity_split=None,\n",
      "                       min_samples_leaf=1, min_samples_split=2,\n",
      "                       min_weight_fraction_leaf=0.0, presort='deprecated',\n",
      "                       random_state=123, splitter='best')\n"
     ]
    }
   ],
   "source": [
    "dt=create_model('dt')\n",
    "print (dt)"
   ]
  },
  {
   "cell_type": "code",
   "execution_count": 51,
   "metadata": {},
   "outputs": [
    {
     "data": {
      "text/html": [
       "<style  type=\"text/css\" >\n",
       "#T_08aa7_row10_col0,#T_08aa7_row10_col1,#T_08aa7_row10_col2,#T_08aa7_row10_col3,#T_08aa7_row10_col4,#T_08aa7_row10_col5,#T_08aa7_row10_col6{\n",
       "            background:  yellow;\n",
       "        }</style><table id=\"T_08aa7_\" ><thead>    <tr>        <th class=\"blank level0\" ></th>        <th class=\"col_heading level0 col0\" >Accuracy</th>        <th class=\"col_heading level0 col1\" >AUC</th>        <th class=\"col_heading level0 col2\" >Recall</th>        <th class=\"col_heading level0 col3\" >Prec.</th>        <th class=\"col_heading level0 col4\" >F1</th>        <th class=\"col_heading level0 col5\" >Kappa</th>        <th class=\"col_heading level0 col6\" >MCC</th>    </tr></thead><tbody>\n",
       "                <tr>\n",
       "                        <th id=\"T_08aa7_level0_row0\" class=\"row_heading level0 row0\" >0</th>\n",
       "                        <td id=\"T_08aa7_row0_col0\" class=\"data row0 col0\" >0.7469</td>\n",
       "                        <td id=\"T_08aa7_row0_col1\" class=\"data row0 col1\" >0.6020</td>\n",
       "                        <td id=\"T_08aa7_row0_col2\" class=\"data row0 col2\" >0.1920</td>\n",
       "                        <td id=\"T_08aa7_row0_col3\" class=\"data row0 col3\" >0.3545</td>\n",
       "                        <td id=\"T_08aa7_row0_col4\" class=\"data row0 col4\" >0.2491</td>\n",
       "                        <td id=\"T_08aa7_row0_col5\" class=\"data row0 col5\" >0.1128</td>\n",
       "                        <td id=\"T_08aa7_row0_col6\" class=\"data row0 col6\" >0.1204</td>\n",
       "            </tr>\n",
       "            <tr>\n",
       "                        <th id=\"T_08aa7_level0_row1\" class=\"row_heading level0 row1\" >1</th>\n",
       "                        <td id=\"T_08aa7_row1_col0\" class=\"data row1 col0\" >0.7550</td>\n",
       "                        <td id=\"T_08aa7_row1_col1\" class=\"data row1 col1\" >0.5894</td>\n",
       "                        <td id=\"T_08aa7_row1_col2\" class=\"data row1 col2\" >0.2092</td>\n",
       "                        <td id=\"T_08aa7_row1_col3\" class=\"data row1 col3\" >0.3883</td>\n",
       "                        <td id=\"T_08aa7_row1_col4\" class=\"data row1 col4\" >0.2719</td>\n",
       "                        <td id=\"T_08aa7_row1_col5\" class=\"data row1 col5\" >0.1402</td>\n",
       "                        <td id=\"T_08aa7_row1_col6\" class=\"data row1 col6\" >0.1500</td>\n",
       "            </tr>\n",
       "            <tr>\n",
       "                        <th id=\"T_08aa7_level0_row2\" class=\"row_heading level0 row2\" >2</th>\n",
       "                        <td id=\"T_08aa7_row2_col0\" class=\"data row2 col0\" >0.7506</td>\n",
       "                        <td id=\"T_08aa7_row2_col1\" class=\"data row2 col1\" >0.5883</td>\n",
       "                        <td id=\"T_08aa7_row2_col2\" class=\"data row2 col2\" >0.1576</td>\n",
       "                        <td id=\"T_08aa7_row2_col3\" class=\"data row2 col3\" >0.3459</td>\n",
       "                        <td id=\"T_08aa7_row2_col4\" class=\"data row2 col4\" >0.2165</td>\n",
       "                        <td id=\"T_08aa7_row2_col5\" class=\"data row2 col5\" >0.0923</td>\n",
       "                        <td id=\"T_08aa7_row2_col6\" class=\"data row2 col6\" >0.1024</td>\n",
       "            </tr>\n",
       "            <tr>\n",
       "                        <th id=\"T_08aa7_level0_row3\" class=\"row_heading level0 row3\" >3</th>\n",
       "                        <td id=\"T_08aa7_row3_col0\" class=\"data row3 col0\" >0.7419</td>\n",
       "                        <td id=\"T_08aa7_row3_col1\" class=\"data row3 col1\" >0.5818</td>\n",
       "                        <td id=\"T_08aa7_row3_col2\" class=\"data row3 col2\" >0.1519</td>\n",
       "                        <td id=\"T_08aa7_row3_col3\" class=\"data row3 col3\" >0.3136</td>\n",
       "                        <td id=\"T_08aa7_row3_col4\" class=\"data row3 col4\" >0.2046</td>\n",
       "                        <td id=\"T_08aa7_row3_col5\" class=\"data row3 col5\" >0.0723</td>\n",
       "                        <td id=\"T_08aa7_row3_col6\" class=\"data row3 col6\" >0.0790</td>\n",
       "            </tr>\n",
       "            <tr>\n",
       "                        <th id=\"T_08aa7_level0_row4\" class=\"row_heading level0 row4\" >4</th>\n",
       "                        <td id=\"T_08aa7_row4_col0\" class=\"data row4 col0\" >0.7563</td>\n",
       "                        <td id=\"T_08aa7_row4_col1\" class=\"data row4 col1\" >0.5908</td>\n",
       "                        <td id=\"T_08aa7_row4_col2\" class=\"data row4 col2\" >0.1490</td>\n",
       "                        <td id=\"T_08aa7_row4_col3\" class=\"data row4 col3\" >0.3611</td>\n",
       "                        <td id=\"T_08aa7_row4_col4\" class=\"data row4 col4\" >0.2110</td>\n",
       "                        <td id=\"T_08aa7_row4_col5\" class=\"data row4 col5\" >0.0954</td>\n",
       "                        <td id=\"T_08aa7_row4_col6\" class=\"data row4 col6\" >0.1085</td>\n",
       "            </tr>\n",
       "            <tr>\n",
       "                        <th id=\"T_08aa7_level0_row5\" class=\"row_heading level0 row5\" >5</th>\n",
       "                        <td id=\"T_08aa7_row5_col0\" class=\"data row5 col0\" >0.7550</td>\n",
       "                        <td id=\"T_08aa7_row5_col1\" class=\"data row5 col1\" >0.5997</td>\n",
       "                        <td id=\"T_08aa7_row5_col2\" class=\"data row5 col2\" >0.1748</td>\n",
       "                        <td id=\"T_08aa7_row5_col3\" class=\"data row5 col3\" >0.3720</td>\n",
       "                        <td id=\"T_08aa7_row5_col4\" class=\"data row5 col4\" >0.2378</td>\n",
       "                        <td id=\"T_08aa7_row5_col5\" class=\"data row5 col5\" >0.1139</td>\n",
       "                        <td id=\"T_08aa7_row5_col6\" class=\"data row5 col6\" >0.1255</td>\n",
       "            </tr>\n",
       "            <tr>\n",
       "                        <th id=\"T_08aa7_level0_row6\" class=\"row_heading level0 row6\" >6</th>\n",
       "                        <td id=\"T_08aa7_row6_col0\" class=\"data row6 col0\" >0.7638</td>\n",
       "                        <td id=\"T_08aa7_row6_col1\" class=\"data row6 col1\" >0.5890</td>\n",
       "                        <td id=\"T_08aa7_row6_col2\" class=\"data row6 col2\" >0.1891</td>\n",
       "                        <td id=\"T_08aa7_row6_col3\" class=\"data row6 col3\" >0.4125</td>\n",
       "                        <td id=\"T_08aa7_row6_col4\" class=\"data row6 col4\" >0.2593</td>\n",
       "                        <td id=\"T_08aa7_row6_col5\" class=\"data row6 col5\" >0.1413</td>\n",
       "                        <td id=\"T_08aa7_row6_col6\" class=\"data row6 col6\" >0.1565</td>\n",
       "            </tr>\n",
       "            <tr>\n",
       "                        <th id=\"T_08aa7_level0_row7\" class=\"row_heading level0 row7\" >7</th>\n",
       "                        <td id=\"T_08aa7_row7_col0\" class=\"data row7 col0\" >0.7613</td>\n",
       "                        <td id=\"T_08aa7_row7_col1\" class=\"data row7 col1\" >0.6240</td>\n",
       "                        <td id=\"T_08aa7_row7_col2\" class=\"data row7 col2\" >0.1633</td>\n",
       "                        <td id=\"T_08aa7_row7_col3\" class=\"data row7 col3\" >0.3904</td>\n",
       "                        <td id=\"T_08aa7_row7_col4\" class=\"data row7 col4\" >0.2303</td>\n",
       "                        <td id=\"T_08aa7_row7_col5\" class=\"data row7 col5\" >0.1163</td>\n",
       "                        <td id=\"T_08aa7_row7_col6\" class=\"data row7 col6\" >0.1318</td>\n",
       "            </tr>\n",
       "            <tr>\n",
       "                        <th id=\"T_08aa7_level0_row8\" class=\"row_heading level0 row8\" >8</th>\n",
       "                        <td id=\"T_08aa7_row8_col0\" class=\"data row8 col0\" >0.7619</td>\n",
       "                        <td id=\"T_08aa7_row8_col1\" class=\"data row8 col1\" >0.5988</td>\n",
       "                        <td id=\"T_08aa7_row8_col2\" class=\"data row8 col2\" >0.1862</td>\n",
       "                        <td id=\"T_08aa7_row8_col3\" class=\"data row8 col3\" >0.4037</td>\n",
       "                        <td id=\"T_08aa7_row8_col4\" class=\"data row8 col4\" >0.2549</td>\n",
       "                        <td id=\"T_08aa7_row8_col5\" class=\"data row8 col5\" >0.1356</td>\n",
       "                        <td id=\"T_08aa7_row8_col6\" class=\"data row8 col6\" >0.1500</td>\n",
       "            </tr>\n",
       "            <tr>\n",
       "                        <th id=\"T_08aa7_level0_row9\" class=\"row_heading level0 row9\" >9</th>\n",
       "                        <td id=\"T_08aa7_row9_col0\" class=\"data row9 col0\" >0.7549</td>\n",
       "                        <td id=\"T_08aa7_row9_col1\" class=\"data row9 col1\" >0.5756</td>\n",
       "                        <td id=\"T_08aa7_row9_col2\" class=\"data row9 col2\" >0.1897</td>\n",
       "                        <td id=\"T_08aa7_row9_col3\" class=\"data row9 col3\" >0.3771</td>\n",
       "                        <td id=\"T_08aa7_row9_col4\" class=\"data row9 col4\" >0.2524</td>\n",
       "                        <td id=\"T_08aa7_row9_col5\" class=\"data row9 col5\" >0.1246</td>\n",
       "                        <td id=\"T_08aa7_row9_col6\" class=\"data row9 col6\" >0.1351</td>\n",
       "            </tr>\n",
       "            <tr>\n",
       "                        <th id=\"T_08aa7_level0_row10\" class=\"row_heading level0 row10\" >Mean</th>\n",
       "                        <td id=\"T_08aa7_row10_col0\" class=\"data row10 col0\" >0.7547</td>\n",
       "                        <td id=\"T_08aa7_row10_col1\" class=\"data row10 col1\" >0.5939</td>\n",
       "                        <td id=\"T_08aa7_row10_col2\" class=\"data row10 col2\" >0.1763</td>\n",
       "                        <td id=\"T_08aa7_row10_col3\" class=\"data row10 col3\" >0.3719</td>\n",
       "                        <td id=\"T_08aa7_row10_col4\" class=\"data row10 col4\" >0.2388</td>\n",
       "                        <td id=\"T_08aa7_row10_col5\" class=\"data row10 col5\" >0.1145</td>\n",
       "                        <td id=\"T_08aa7_row10_col6\" class=\"data row10 col6\" >0.1259</td>\n",
       "            </tr>\n",
       "            <tr>\n",
       "                        <th id=\"T_08aa7_level0_row11\" class=\"row_heading level0 row11\" >SD</th>\n",
       "                        <td id=\"T_08aa7_row11_col0\" class=\"data row11 col0\" >0.0065</td>\n",
       "                        <td id=\"T_08aa7_row11_col1\" class=\"data row11 col1\" >0.0126</td>\n",
       "                        <td id=\"T_08aa7_row11_col2\" class=\"data row11 col2\" >0.0191</td>\n",
       "                        <td id=\"T_08aa7_row11_col3\" class=\"data row11 col3\" >0.0279</td>\n",
       "                        <td id=\"T_08aa7_row11_col4\" class=\"data row11 col4\" >0.0214</td>\n",
       "                        <td id=\"T_08aa7_row11_col5\" class=\"data row11 col5\" >0.0214</td>\n",
       "                        <td id=\"T_08aa7_row11_col6\" class=\"data row11 col6\" >0.0230</td>\n",
       "            </tr>\n",
       "    </tbody></table>"
      ],
      "text/plain": [
       "<pandas.io.formats.style.Styler at 0x15331cad0>"
      ]
     },
     "metadata": {},
     "output_type": "display_data"
    }
   ],
   "source": [
    "knn=create_model('knn')"
   ]
  },
  {
   "cell_type": "code",
   "execution_count": 52,
   "metadata": {},
   "outputs": [
    {
     "data": {
      "text/html": [
       "<style  type=\"text/css\" >\n",
       "#T_2adfc_row10_col0,#T_2adfc_row10_col1,#T_2adfc_row10_col2,#T_2adfc_row10_col3,#T_2adfc_row10_col4,#T_2adfc_row10_col5,#T_2adfc_row10_col6{\n",
       "            background:  yellow;\n",
       "        }</style><table id=\"T_2adfc_\" ><thead>    <tr>        <th class=\"blank level0\" ></th>        <th class=\"col_heading level0 col0\" >Accuracy</th>        <th class=\"col_heading level0 col1\" >AUC</th>        <th class=\"col_heading level0 col2\" >Recall</th>        <th class=\"col_heading level0 col3\" >Prec.</th>        <th class=\"col_heading level0 col4\" >F1</th>        <th class=\"col_heading level0 col5\" >Kappa</th>        <th class=\"col_heading level0 col6\" >MCC</th>    </tr></thead><tbody>\n",
       "                <tr>\n",
       "                        <th id=\"T_2adfc_level0_row0\" class=\"row_heading level0 row0\" >0</th>\n",
       "                        <td id=\"T_2adfc_row0_col0\" class=\"data row0 col0\" >0.8133</td>\n",
       "                        <td id=\"T_2adfc_row0_col1\" class=\"data row0 col1\" >0.7673</td>\n",
       "                        <td id=\"T_2adfc_row0_col2\" class=\"data row0 col2\" >0.3610</td>\n",
       "                        <td id=\"T_2adfc_row0_col3\" class=\"data row0 col3\" >0.6269</td>\n",
       "                        <td id=\"T_2adfc_row0_col4\" class=\"data row0 col4\" >0.4582</td>\n",
       "                        <td id=\"T_2adfc_row0_col5\" class=\"data row0 col5\" >0.3551</td>\n",
       "                        <td id=\"T_2adfc_row0_col6\" class=\"data row0 col6\" >0.3749</td>\n",
       "            </tr>\n",
       "            <tr>\n",
       "                        <th id=\"T_2adfc_level0_row1\" class=\"row_heading level0 row1\" >1</th>\n",
       "                        <td id=\"T_2adfc_row1_col0\" class=\"data row1 col0\" >0.8239</td>\n",
       "                        <td id=\"T_2adfc_row1_col1\" class=\"data row1 col1\" >0.7615</td>\n",
       "                        <td id=\"T_2adfc_row1_col2\" class=\"data row1 col2\" >0.3782</td>\n",
       "                        <td id=\"T_2adfc_row1_col3\" class=\"data row1 col3\" >0.6735</td>\n",
       "                        <td id=\"T_2adfc_row1_col4\" class=\"data row1 col4\" >0.4844</td>\n",
       "                        <td id=\"T_2adfc_row1_col5\" class=\"data row1 col5\" >0.3882</td>\n",
       "                        <td id=\"T_2adfc_row1_col6\" class=\"data row1 col6\" >0.4117</td>\n",
       "            </tr>\n",
       "            <tr>\n",
       "                        <th id=\"T_2adfc_level0_row2\" class=\"row_heading level0 row2\" >2</th>\n",
       "                        <td id=\"T_2adfc_row2_col0\" class=\"data row2 col0\" >0.8258</td>\n",
       "                        <td id=\"T_2adfc_row2_col1\" class=\"data row2 col1\" >0.7708</td>\n",
       "                        <td id=\"T_2adfc_row2_col2\" class=\"data row2 col2\" >0.3467</td>\n",
       "                        <td id=\"T_2adfc_row2_col3\" class=\"data row2 col3\" >0.7076</td>\n",
       "                        <td id=\"T_2adfc_row2_col4\" class=\"data row2 col4\" >0.4654</td>\n",
       "                        <td id=\"T_2adfc_row2_col5\" class=\"data row2 col5\" >0.3756</td>\n",
       "                        <td id=\"T_2adfc_row2_col6\" class=\"data row2 col6\" >0.4098</td>\n",
       "            </tr>\n",
       "            <tr>\n",
       "                        <th id=\"T_2adfc_level0_row3\" class=\"row_heading level0 row3\" >3</th>\n",
       "                        <td id=\"T_2adfc_row3_col0\" class=\"data row3 col0\" >0.8177</td>\n",
       "                        <td id=\"T_2adfc_row3_col1\" class=\"data row3 col1\" >0.7605</td>\n",
       "                        <td id=\"T_2adfc_row3_col2\" class=\"data row3 col2\" >0.3725</td>\n",
       "                        <td id=\"T_2adfc_row3_col3\" class=\"data row3 col3\" >0.6436</td>\n",
       "                        <td id=\"T_2adfc_row3_col4\" class=\"data row3 col4\" >0.4719</td>\n",
       "                        <td id=\"T_2adfc_row3_col5\" class=\"data row3 col5\" >0.3710</td>\n",
       "                        <td id=\"T_2adfc_row3_col6\" class=\"data row3 col6\" >0.3913</td>\n",
       "            </tr>\n",
       "            <tr>\n",
       "                        <th id=\"T_2adfc_level0_row4\" class=\"row_heading level0 row4\" >4</th>\n",
       "                        <td id=\"T_2adfc_row4_col0\" class=\"data row4 col0\" >0.8208</td>\n",
       "                        <td id=\"T_2adfc_row4_col1\" class=\"data row4 col1\" >0.7642</td>\n",
       "                        <td id=\"T_2adfc_row4_col2\" class=\"data row4 col2\" >0.3725</td>\n",
       "                        <td id=\"T_2adfc_row4_col3\" class=\"data row4 col3\" >0.6599</td>\n",
       "                        <td id=\"T_2adfc_row4_col4\" class=\"data row4 col4\" >0.4762</td>\n",
       "                        <td id=\"T_2adfc_row4_col5\" class=\"data row4 col5\" >0.3780</td>\n",
       "                        <td id=\"T_2adfc_row4_col6\" class=\"data row4 col6\" >0.4006</td>\n",
       "            </tr>\n",
       "            <tr>\n",
       "                        <th id=\"T_2adfc_level0_row5\" class=\"row_heading level0 row5\" >5</th>\n",
       "                        <td id=\"T_2adfc_row5_col0\" class=\"data row5 col0\" >0.8283</td>\n",
       "                        <td id=\"T_2adfc_row5_col1\" class=\"data row5 col1\" >0.7638</td>\n",
       "                        <td id=\"T_2adfc_row5_col2\" class=\"data row5 col2\" >0.3954</td>\n",
       "                        <td id=\"T_2adfc_row5_col3\" class=\"data row5 col3\" >0.6866</td>\n",
       "                        <td id=\"T_2adfc_row5_col4\" class=\"data row5 col4\" >0.5018</td>\n",
       "                        <td id=\"T_2adfc_row5_col5\" class=\"data row5 col5\" >0.4070</td>\n",
       "                        <td id=\"T_2adfc_row5_col6\" class=\"data row5 col6\" >0.4297</td>\n",
       "            </tr>\n",
       "            <tr>\n",
       "                        <th id=\"T_2adfc_level0_row6\" class=\"row_heading level0 row6\" >6</th>\n",
       "                        <td id=\"T_2adfc_row6_col0\" class=\"data row6 col0\" >0.8127</td>\n",
       "                        <td id=\"T_2adfc_row6_col1\" class=\"data row6 col1\" >0.7647</td>\n",
       "                        <td id=\"T_2adfc_row6_col2\" class=\"data row6 col2\" >0.3582</td>\n",
       "                        <td id=\"T_2adfc_row6_col3\" class=\"data row6 col3\" >0.6250</td>\n",
       "                        <td id=\"T_2adfc_row6_col4\" class=\"data row6 col4\" >0.4554</td>\n",
       "                        <td id=\"T_2adfc_row6_col5\" class=\"data row6 col5\" >0.3522</td>\n",
       "                        <td id=\"T_2adfc_row6_col6\" class=\"data row6 col6\" >0.3721</td>\n",
       "            </tr>\n",
       "            <tr>\n",
       "                        <th id=\"T_2adfc_level0_row7\" class=\"row_heading level0 row7\" >7</th>\n",
       "                        <td id=\"T_2adfc_row7_col0\" class=\"data row7 col0\" >0.8283</td>\n",
       "                        <td id=\"T_2adfc_row7_col1\" class=\"data row7 col1\" >0.7390</td>\n",
       "                        <td id=\"T_2adfc_row7_col2\" class=\"data row7 col2\" >0.3553</td>\n",
       "                        <td id=\"T_2adfc_row7_col3\" class=\"data row7 col3\" >0.7168</td>\n",
       "                        <td id=\"T_2adfc_row7_col4\" class=\"data row7 col4\" >0.4751</td>\n",
       "                        <td id=\"T_2adfc_row7_col5\" class=\"data row7 col5\" >0.3861</td>\n",
       "                        <td id=\"T_2adfc_row7_col6\" class=\"data row7 col6\" >0.4202</td>\n",
       "            </tr>\n",
       "            <tr>\n",
       "                        <th id=\"T_2adfc_level0_row8\" class=\"row_heading level0 row8\" >8</th>\n",
       "                        <td id=\"T_2adfc_row8_col0\" class=\"data row8 col0\" >0.8108</td>\n",
       "                        <td id=\"T_2adfc_row8_col1\" class=\"data row8 col1\" >0.7496</td>\n",
       "                        <td id=\"T_2adfc_row8_col2\" class=\"data row8 col2\" >0.3610</td>\n",
       "                        <td id=\"T_2adfc_row8_col3\" class=\"data row8 col3\" >0.6146</td>\n",
       "                        <td id=\"T_2adfc_row8_col4\" class=\"data row8 col4\" >0.4549</td>\n",
       "                        <td id=\"T_2adfc_row8_col5\" class=\"data row8 col5\" >0.3496</td>\n",
       "                        <td id=\"T_2adfc_row8_col6\" class=\"data row8 col6\" >0.3678</td>\n",
       "            </tr>\n",
       "            <tr>\n",
       "                        <th id=\"T_2adfc_level0_row9\" class=\"row_heading level0 row9\" >9</th>\n",
       "                        <td id=\"T_2adfc_row9_col0\" class=\"data row9 col0\" >0.8176</td>\n",
       "                        <td id=\"T_2adfc_row9_col1\" class=\"data row9 col1\" >0.7565</td>\n",
       "                        <td id=\"T_2adfc_row9_col2\" class=\"data row9 col2\" >0.3621</td>\n",
       "                        <td id=\"T_2adfc_row9_col3\" class=\"data row9 col3\" >0.6462</td>\n",
       "                        <td id=\"T_2adfc_row9_col4\" class=\"data row9 col4\" >0.4641</td>\n",
       "                        <td id=\"T_2adfc_row9_col5\" class=\"data row9 col5\" >0.3645</td>\n",
       "                        <td id=\"T_2adfc_row9_col6\" class=\"data row9 col6\" >0.3867</td>\n",
       "            </tr>\n",
       "            <tr>\n",
       "                        <th id=\"T_2adfc_level0_row10\" class=\"row_heading level0 row10\" >Mean</th>\n",
       "                        <td id=\"T_2adfc_row10_col0\" class=\"data row10 col0\" >0.8199</td>\n",
       "                        <td id=\"T_2adfc_row10_col1\" class=\"data row10 col1\" >0.7598</td>\n",
       "                        <td id=\"T_2adfc_row10_col2\" class=\"data row10 col2\" >0.3663</td>\n",
       "                        <td id=\"T_2adfc_row10_col3\" class=\"data row10 col3\" >0.6601</td>\n",
       "                        <td id=\"T_2adfc_row10_col4\" class=\"data row10 col4\" >0.4707</td>\n",
       "                        <td id=\"T_2adfc_row10_col5\" class=\"data row10 col5\" >0.3727</td>\n",
       "                        <td id=\"T_2adfc_row10_col6\" class=\"data row10 col6\" >0.3965</td>\n",
       "            </tr>\n",
       "            <tr>\n",
       "                        <th id=\"T_2adfc_level0_row11\" class=\"row_heading level0 row11\" >SD</th>\n",
       "                        <td id=\"T_2adfc_row11_col0\" class=\"data row11 col0\" >0.0062</td>\n",
       "                        <td id=\"T_2adfc_row11_col1\" class=\"data row11 col1\" >0.0089</td>\n",
       "                        <td id=\"T_2adfc_row11_col2\" class=\"data row11 col2\" >0.0131</td>\n",
       "                        <td id=\"T_2adfc_row11_col3\" class=\"data row11 col3\" >0.0335</td>\n",
       "                        <td id=\"T_2adfc_row11_col4\" class=\"data row11 col4\" >0.0139</td>\n",
       "                        <td id=\"T_2adfc_row11_col5\" class=\"data row11 col5\" >0.0172</td>\n",
       "                        <td id=\"T_2adfc_row11_col6\" class=\"data row11 col6\" >0.0202</td>\n",
       "            </tr>\n",
       "    </tbody></table>"
      ],
      "text/plain": [
       "<pandas.io.formats.style.Styler at 0x153f8ab10>"
      ]
     },
     "metadata": {},
     "output_type": "display_data"
    }
   ],
   "source": [
    "rf=create_model('rf')"
   ]
  },
  {
   "cell_type": "code",
   "execution_count": 53,
   "metadata": {},
   "outputs": [
    {
     "data": {
      "image/png": "[encoded data removed]",
      "text/plain": [
       "<Figure size 800x550 with 1 Axes>"
      ]
     },
     "metadata": {},
     "output_type": "display_data"
    }
   ],
   "source": [
    "plot_model(rf, plot='auc')"
   ]
  },
  {
   "cell_type": "code",
   "execution_count": 54,
   "metadata": {},
   "outputs": [
    {
     "data": {
      "image/png": "[encoded data removed]",
      "text/plain": [
       "<Figure size 800x550 with 1 Axes>"
      ]
     },
     "metadata": {},
     "output_type": "display_data"
    }
   ],
   "source": [
    "plot_model(rf, plot='pr')"
   ]
  },
  {
   "cell_type": "code",
   "execution_count": 55,
   "metadata": {},
   "outputs": [
    {
     "data": {
      "image/png": "[encoded data removed]",
      "text/plain": [
       "<Figure size 800x500 with 1 Axes>"
      ]
     },
     "metadata": {},
     "output_type": "display_data"
    }
   ],
   "source": [
    "plot_model(rf, plot='feature')"
   ]
  },
  {
   "cell_type": "code",
   "execution_count": 56,
   "metadata": {},
   "outputs": [
    {
     "data": {
      "image/png": "[encoded data removed]",
      "text/plain": [
       "<Figure size 800x550 with 1 Axes>"
      ]
     },
     "metadata": {},
     "output_type": "display_data"
    }
   ],
   "source": [
    "plot_model(rf, plot='confusion_matrix')"
   ]
  },
  {
   "cell_type": "code",
   "execution_count": 57,
   "metadata": {},
   "outputs": [
    {
     "data": {
      "text/html": [
       "<style  type=\"text/css\" >\n",
       "</style><table id=\"T_74848_\" ><thead>    <tr>        <th class=\"blank level0\" ></th>        <th class=\"col_heading level0 col0\" >Model</th>        <th class=\"col_heading level0 col1\" >Accuracy</th>        <th class=\"col_heading level0 col2\" >AUC</th>        <th class=\"col_heading level0 col3\" >Recall</th>        <th class=\"col_heading level0 col4\" >Prec.</th>        <th class=\"col_heading level0 col5\" >F1</th>        <th class=\"col_heading level0 col6\" >Kappa</th>        <th class=\"col_heading level0 col7\" >MCC</th>    </tr></thead><tbody>\n",
       "                <tr>\n",
       "                        <th id=\"T_74848_level0_row0\" class=\"row_heading level0 row0\" >0</th>\n",
       "                        <td id=\"T_74848_row0_col0\" class=\"data row0 col0\" >Random Forest Classifier</td>\n",
       "                        <td id=\"T_74848_row0_col1\" class=\"data row0 col1\" >0.8079</td>\n",
       "                        <td id=\"T_74848_row0_col2\" class=\"data row0 col2\" >0.7546</td>\n",
       "                        <td id=\"T_74848_row0_col3\" class=\"data row0 col3\" >0.3398</td>\n",
       "                        <td id=\"T_74848_row0_col4\" class=\"data row0 col4\" >0.6471</td>\n",
       "                        <td id=\"T_74848_row0_col5\" class=\"data row0 col5\" >0.4456</td>\n",
       "                        <td id=\"T_74848_row0_col6\" class=\"data row0 col6\" >0.3428</td>\n",
       "                        <td id=\"T_74848_row0_col7\" class=\"data row0 col7\" >0.3688</td>\n",
       "            </tr>\n",
       "    </tbody></table>"
      ],
      "text/plain": [
       "<pandas.io.formats.style.Styler at 0x154505490>"
      ]
     },
     "metadata": {},
     "output_type": "display_data"
    }
   ],
   "source": [
    "predict_model(rf);"
   ]
  },
  {
   "cell_type": "code",
   "execution_count": 58,
   "metadata": {},
   "outputs": [
    {
     "name": "stdout",
     "output_type": "stream",
     "text": [
      "RandomForestClassifier(bootstrap=True, ccp_alpha=0.0, class_weight=None,\n",
      "                       criterion='gini', max_depth=None, max_features='auto',\n",
      "                       max_leaf_nodes=None, max_samples=None,\n",
      "                       min_impurity_decrease=0.0, min_impurity_split=None,\n",
      "                       min_samples_leaf=1, min_samples_split=2,\n",
      "                       min_weight_fraction_leaf=0.0, n_estimators=100,\n",
      "                       n_jobs=-1, oob_score=False, random_state=123, verbose=0,\n",
      "                       warm_start=False)\n"
     ]
    }
   ],
   "source": [
    "final_rf=finalize_model(rf)\n",
    "print(final_rf)"
   ]
  },
  {
   "cell_type": "code",
   "execution_count": 59,
   "metadata": {},
   "outputs": [
    {
     "data": {
      "text/html": [
       "<style  type=\"text/css\" >\n",
       "</style><table id=\"T_ba621_\" ><thead>    <tr>        <th class=\"blank level0\" ></th>        <th class=\"col_heading level0 col0\" >Model</th>        <th class=\"col_heading level0 col1\" >Accuracy</th>        <th class=\"col_heading level0 col2\" >AUC</th>        <th class=\"col_heading level0 col3\" >Recall</th>        <th class=\"col_heading level0 col4\" >Prec.</th>        <th class=\"col_heading level0 col5\" >F1</th>        <th class=\"col_heading level0 col6\" >Kappa</th>        <th class=\"col_heading level0 col7\" >MCC</th>    </tr></thead><tbody>\n",
       "                <tr>\n",
       "                        <th id=\"T_ba621_level0_row0\" class=\"row_heading level0 row0\" >0</th>\n",
       "                        <td id=\"T_ba621_row0_col0\" class=\"data row0 col0\" >Random Forest Classifier</td>\n",
       "                        <td id=\"T_ba621_row0_col1\" class=\"data row0 col1\" >0.9999</td>\n",
       "                        <td id=\"T_ba621_row0_col2\" class=\"data row0 col2\" >1.0000</td>\n",
       "                        <td id=\"T_ba621_row0_col3\" class=\"data row0 col3\" >1.0000</td>\n",
       "                        <td id=\"T_ba621_row0_col4\" class=\"data row0 col4\" >0.9994</td>\n",
       "                        <td id=\"T_ba621_row0_col5\" class=\"data row0 col5\" >0.9997</td>\n",
       "                        <td id=\"T_ba621_row0_col6\" class=\"data row0 col6\" >0.9996</td>\n",
       "                        <td id=\"T_ba621_row0_col7\" class=\"data row0 col7\" >0.9996</td>\n",
       "            </tr>\n",
       "    </tbody></table>"
      ],
      "text/plain": [
       "<pandas.io.formats.style.Styler at 0x1545053d0>"
      ]
     },
     "metadata": {},
     "output_type": "display_data"
    }
   ],
   "source": [
    "predict_model(final_rf);"
   ]
  },
  {
   "cell_type": "markdown",
   "metadata": {},
   "source": [
    "# H2o\n",
    "\n",
    "\n",
    "https://www.h2o.ai/"
   ]
  },
  {
   "cell_type": "code",
   "execution_count": 60,
   "metadata": {},
   "outputs": [],
   "source": [
    "import h2o\n",
    "from h2o.automl import H2OAutoML"
   ]
  },
  {
   "cell_type": "code",
   "execution_count": 61,
   "metadata": {},
   "outputs": [
    {
     "name": "stdout",
     "output_type": "stream",
     "text": [
      "Checking whether there is an H2O instance running at http://localhost:54321 ..... not found.\n",
      "Attempting to start a local H2O server...\n",
      "  Java Version: openjdk version \"13.0.2\" 2020-01-14; OpenJDK Runtime Environment (build 13.0.2+8); OpenJDK 64-Bit Server VM (build 13.0.2+8, mixed mode, sharing)\n",
      "  Starting server from /Users/iudh/opt/anaconda3/envs/clase/lib/python3.7/site-packages/h2o/backend/bin/h2o.jar\n",
      "  Ice root: /var/folders/y9/lz0yy5197f1dn588ng33yw240000gn/T/tmpe4ed9o4r\n",
      "  JVM stdout: /var/folders/y9/lz0yy5197f1dn588ng33yw240000gn/T/tmpe4ed9o4r/h2o_iudh_started_from_python.out\n",
      "  JVM stderr: /var/folders/y9/lz0yy5197f1dn588ng33yw240000gn/T/tmpe4ed9o4r/h2o_iudh_started_from_python.err\n",
      "  Server is running at http://127.0.0.1:54321\n",
      "Connecting to H2O server at http://127.0.0.1:54321 ... successful.\n",
      "Warning: Your H2O cluster version is too old (8 months and 4 days)! Please download and install the latest version from http://h2o.ai/download/\n"
     ]
    },
    {
     "data": {
      "text/html": [
       "<div style=\"overflow:auto\"><table style=\"width:50%\"><tr><td>H2O_cluster_uptime:</td>\n",
       "<td>07 secs</td></tr>\n",
       "<tr><td>H2O_cluster_timezone:</td>\n",
       "<td>Europe/Madrid</td></tr>\n",
       "<tr><td>H2O_data_parsing_timezone:</td>\n",
       "<td>UTC</td></tr>\n",
       "<tr><td>H2O_cluster_version:</td>\n",
       "<td>3.30.1.3</td></tr>\n",
       "<tr><td>H2O_cluster_version_age:</td>\n",
       "<td>8 months and 4 days !!!</td></tr>\n",
       "<tr><td>H2O_cluster_name:</td>\n",
       "<td>H2O_from_python_iudh_q22z2o</td></tr>\n",
       "<tr><td>H2O_cluster_total_nodes:</td>\n",
       "<td>1</td></tr>\n",
       "<tr><td>H2O_cluster_free_memory:</td>\n",
       "<td>2 Gb</td></tr>\n",
       "<tr><td>H2O_cluster_total_cores:</td>\n",
       "<td>0</td></tr>\n",
       "<tr><td>H2O_cluster_allowed_cores:</td>\n",
       "<td>0</td></tr>\n",
       "<tr><td>H2O_cluster_status:</td>\n",
       "<td>accepting new members, healthy</td></tr>\n",
       "<tr><td>H2O_connection_url:</td>\n",
       "<td>http://127.0.0.1:54321</td></tr>\n",
       "<tr><td>H2O_connection_proxy:</td>\n",
       "<td>{\"http\": null, \"https\": null}</td></tr>\n",
       "<tr><td>H2O_internal_security:</td>\n",
       "<td>False</td></tr>\n",
       "<tr><td>H2O_API_Extensions:</td>\n",
       "<td>Amazon S3, XGBoost, Algos, AutoML, Core V3, TargetEncoder, Core V4</td></tr>\n",
       "<tr><td>Python_version:</td>\n",
       "<td>3.7.10 final</td></tr></table></div>"
      ],
      "text/plain": [
       "--------------------------  ------------------------------------------------------------------\n",
       "H2O_cluster_uptime:         07 secs\n",
       "H2O_cluster_timezone:       Europe/Madrid\n",
       "H2O_data_parsing_timezone:  UTC\n",
       "H2O_cluster_version:        3.30.1.3\n",
       "H2O_cluster_version_age:    8 months and 4 days !!!\n",
       "H2O_cluster_name:           H2O_from_python_iudh_q22z2o\n",
       "H2O_cluster_total_nodes:    1\n",
       "H2O_cluster_free_memory:    2 Gb\n",
       "H2O_cluster_total_cores:    0\n",
       "H2O_cluster_allowed_cores:  0\n",
       "H2O_cluster_status:         accepting new members, healthy\n",
       "H2O_connection_url:         http://127.0.0.1:54321\n",
       "H2O_connection_proxy:       {\"http\": null, \"https\": null}\n",
       "H2O_internal_security:      False\n",
       "H2O_API_Extensions:         Amazon S3, XGBoost, Algos, AutoML, Core V3, TargetEncoder, Core V4\n",
       "Python_version:             3.7.10 final\n",
       "--------------------------  ------------------------------------------------------------------"
      ]
     },
     "metadata": {},
     "output_type": "display_data"
    }
   ],
   "source": [
    "h2o.init()"
   ]
  },
  {
   "cell_type": "code",
   "execution_count": 62,
   "metadata": {},
   "outputs": [
    {
     "name": "stdout",
     "output_type": "stream",
     "text": [
      "Parse progress: |█████████████████████████████████████████████████████████| 100%\n",
      "Parse progress: |█████████████████████████████████████████████████████████| 100%\n"
     ]
    }
   ],
   "source": [
    "url='https://s3.amazonaws.com/erin-data/higgs/'\n",
    "\n",
    "\n",
    "# parsear datos a h2o\n",
    "train=h2o.import_file(url + 'higgs_train_10k.csv')\n",
    "test=h2o.import_file(url + 'higgs_test_5k.csv')\n",
    "\n",
    "\n",
    "X=train.columns\n",
    "y='response'\n",
    "X.remove(y)"
   ]
  },
  {
   "cell_type": "code",
   "execution_count": 63,
   "metadata": {},
   "outputs": [],
   "source": [
    "# factor para clasificacion binaria\n",
    "\n",
    "train[y]=train[y].asfactor()\n",
    "test[y]=test[y].asfactor()"
   ]
  },
  {
   "cell_type": "code",
   "execution_count": 64,
   "metadata": {},
   "outputs": [
    {
     "name": "stdout",
     "output_type": "stream",
     "text": [
      "AutoML progress: |████████████████████████████████████████████████████████| 100%\n"
     ]
    }
   ],
   "source": [
    "# 20 modelos\n",
    "\n",
    "aml=H2OAutoML(max_models=20, seed=1)\n",
    "aml.train(x=X, y=y, training_frame=train)"
   ]
  },
  {
   "cell_type": "code",
   "execution_count": 65,
   "metadata": {},
   "outputs": [
    {
     "data": {
      "text/html": [
       "<table>\n",
       "<thead>\n",
       "<tr><th>model_id                                           </th><th style=\"text-align: right;\">     auc</th><th style=\"text-align: right;\">  logloss</th><th style=\"text-align: right;\">   aucpr</th><th style=\"text-align: right;\">  mean_per_class_error</th><th style=\"text-align: right;\">    rmse</th><th style=\"text-align: right;\">     mse</th></tr>\n",
       "</thead>\n",
       "<tbody>\n",
       "<tr><td>StackedEnsemble_AllModels_AutoML_20210602_085448   </td><td style=\"text-align: right;\">0.790244</td><td style=\"text-align: right;\"> 0.551224</td><td style=\"text-align: right;\">0.806975</td><td style=\"text-align: right;\">              0.323583</td><td style=\"text-align: right;\">0.43199 </td><td style=\"text-align: right;\">0.186616</td></tr>\n",
       "<tr><td>StackedEnsemble_BestOfFamily_AutoML_20210602_085448</td><td style=\"text-align: right;\">0.789429</td><td style=\"text-align: right;\"> 0.551713</td><td style=\"text-align: right;\">0.806112</td><td style=\"text-align: right;\">              0.324623</td><td style=\"text-align: right;\">0.432301</td><td style=\"text-align: right;\">0.186885</td></tr>\n",
       "<tr><td>GBM_5_AutoML_20210602_085448                       </td><td style=\"text-align: right;\">0.78219 </td><td style=\"text-align: right;\"> 0.558353</td><td style=\"text-align: right;\">0.801738</td><td style=\"text-align: right;\">              0.319658</td><td style=\"text-align: right;\">0.435512</td><td style=\"text-align: right;\">0.18967 </td></tr>\n",
       "<tr><td>GBM_2_AutoML_20210602_085448                       </td><td style=\"text-align: right;\">0.777673</td><td style=\"text-align: right;\"> 0.562514</td><td style=\"text-align: right;\">0.796364</td><td style=\"text-align: right;\">              0.334056</td><td style=\"text-align: right;\">0.437583</td><td style=\"text-align: right;\">0.191479</td></tr>\n",
       "<tr><td>GBM_1_AutoML_20210602_085448                       </td><td style=\"text-align: right;\">0.777294</td><td style=\"text-align: right;\"> 0.562744</td><td style=\"text-align: right;\">0.799184</td><td style=\"text-align: right;\">              0.356261</td><td style=\"text-align: right;\">0.437727</td><td style=\"text-align: right;\">0.191605</td></tr>\n",
       "<tr><td>XGBoost_grid__1_AutoML_20210602_085448_model_4     </td><td style=\"text-align: right;\">0.776534</td><td style=\"text-align: right;\"> 0.563596</td><td style=\"text-align: right;\">0.794202</td><td style=\"text-align: right;\">              0.330288</td><td style=\"text-align: right;\">0.438362</td><td style=\"text-align: right;\">0.192161</td></tr>\n",
       "<tr><td>GBM_3_AutoML_20210602_085448                       </td><td style=\"text-align: right;\">0.775488</td><td style=\"text-align: right;\"> 0.564794</td><td style=\"text-align: right;\">0.794892</td><td style=\"text-align: right;\">              0.327971</td><td style=\"text-align: right;\">0.438722</td><td style=\"text-align: right;\">0.192477</td></tr>\n",
       "<tr><td>GBM_grid__1_AutoML_20210602_085448_model_1         </td><td style=\"text-align: right;\">0.772926</td><td style=\"text-align: right;\"> 0.568181</td><td style=\"text-align: right;\">0.791195</td><td style=\"text-align: right;\">              0.322808</td><td style=\"text-align: right;\">0.439997</td><td style=\"text-align: right;\">0.193598</td></tr>\n",
       "<tr><td>GBM_4_AutoML_20210602_085448                       </td><td style=\"text-align: right;\">0.77248 </td><td style=\"text-align: right;\"> 0.569483</td><td style=\"text-align: right;\">0.792582</td><td style=\"text-align: right;\">              0.336913</td><td style=\"text-align: right;\">0.440873</td><td style=\"text-align: right;\">0.194369</td></tr>\n",
       "<tr><td>GBM_grid__1_AutoML_20210602_085448_model_2         </td><td style=\"text-align: right;\">0.77049 </td><td style=\"text-align: right;\"> 0.569351</td><td style=\"text-align: right;\">0.788633</td><td style=\"text-align: right;\">              0.369523</td><td style=\"text-align: right;\">0.440822</td><td style=\"text-align: right;\">0.194324</td></tr>\n",
       "<tr><td>XGBoost_grid__1_AutoML_20210602_085448_model_3     </td><td style=\"text-align: right;\">0.769738</td><td style=\"text-align: right;\"> 0.571827</td><td style=\"text-align: right;\">0.785422</td><td style=\"text-align: right;\">              0.32197 </td><td style=\"text-align: right;\">0.441706</td><td style=\"text-align: right;\">0.195105</td></tr>\n",
       "<tr><td>XGBoost_3_AutoML_20210602_085448                   </td><td style=\"text-align: right;\">0.768127</td><td style=\"text-align: right;\"> 0.57436 </td><td style=\"text-align: right;\">0.782995</td><td style=\"text-align: right;\">              0.335105</td><td style=\"text-align: right;\">0.442727</td><td style=\"text-align: right;\">0.196007</td></tr>\n",
       "<tr><td>DRF_1_AutoML_20210602_085448                       </td><td style=\"text-align: right;\">0.764975</td><td style=\"text-align: right;\"> 0.5801  </td><td style=\"text-align: right;\">0.782338</td><td style=\"text-align: right;\">              0.336001</td><td style=\"text-align: right;\">0.445222</td><td style=\"text-align: right;\">0.198222</td></tr>\n",
       "<tr><td>XRT_1_AutoML_20210602_085448                       </td><td style=\"text-align: right;\">0.759957</td><td style=\"text-align: right;\"> 0.585158</td><td style=\"text-align: right;\">0.777041</td><td style=\"text-align: right;\">              0.338976</td><td style=\"text-align: right;\">0.447598</td><td style=\"text-align: right;\">0.200344</td></tr>\n",
       "<tr><td>XGBoost_grid__1_AutoML_20210602_085448_model_1     </td><td style=\"text-align: right;\">0.757123</td><td style=\"text-align: right;\"> 0.587004</td><td style=\"text-align: right;\">0.774279</td><td style=\"text-align: right;\">              0.356078</td><td style=\"text-align: right;\">0.448513</td><td style=\"text-align: right;\">0.201164</td></tr>\n",
       "<tr><td>XGBoost_2_AutoML_20210602_085448                   </td><td style=\"text-align: right;\">0.752636</td><td style=\"text-align: right;\"> 0.610423</td><td style=\"text-align: right;\">0.769253</td><td style=\"text-align: right;\">              0.35251 </td><td style=\"text-align: right;\">0.455602</td><td style=\"text-align: right;\">0.207573</td></tr>\n",
       "<tr><td>XGBoost_1_AutoML_20210602_085448                   </td><td style=\"text-align: right;\">0.750647</td><td style=\"text-align: right;\"> 0.615297</td><td style=\"text-align: right;\">0.76689 </td><td style=\"text-align: right;\">              0.34039 </td><td style=\"text-align: right;\">0.457074</td><td style=\"text-align: right;\">0.208917</td></tr>\n",
       "<tr><td>DeepLearning_grid__2_AutoML_20210602_085448_model_1</td><td style=\"text-align: right;\">0.740277</td><td style=\"text-align: right;\"> 0.597616</td><td style=\"text-align: right;\">0.75198 </td><td style=\"text-align: right;\">              0.369189</td><td style=\"text-align: right;\">0.45348 </td><td style=\"text-align: right;\">0.205644</td></tr>\n",
       "<tr><td>XGBoost_grid__1_AutoML_20210602_085448_model_2     </td><td style=\"text-align: right;\">0.736374</td><td style=\"text-align: right;\"> 0.799925</td><td style=\"text-align: right;\">0.74721 </td><td style=\"text-align: right;\">              0.382213</td><td style=\"text-align: right;\">0.48995 </td><td style=\"text-align: right;\">0.240051</td></tr>\n",
       "<tr><td>DeepLearning_1_AutoML_20210602_085448              </td><td style=\"text-align: right;\">0.710492</td><td style=\"text-align: right;\"> 0.6234  </td><td style=\"text-align: right;\">0.713585</td><td style=\"text-align: right;\">              0.377405</td><td style=\"text-align: right;\">0.464807</td><td style=\"text-align: right;\">0.216046</td></tr>\n",
       "<tr><td>DeepLearning_grid__1_AutoML_20210602_085448_model_1</td><td style=\"text-align: right;\">0.697482</td><td style=\"text-align: right;\"> 0.651731</td><td style=\"text-align: right;\">0.700849</td><td style=\"text-align: right;\">              0.39362 </td><td style=\"text-align: right;\">0.472764</td><td style=\"text-align: right;\">0.223506</td></tr>\n",
       "<tr><td>GLM_1_AutoML_20210602_085448                       </td><td style=\"text-align: right;\">0.682648</td><td style=\"text-align: right;\"> 0.63852 </td><td style=\"text-align: right;\">0.680715</td><td style=\"text-align: right;\">              0.397234</td><td style=\"text-align: right;\">0.472683</td><td style=\"text-align: right;\">0.223429</td></tr>\n",
       "</tbody>\n",
       "</table>"
      ]
     },
     "metadata": {},
     "output_type": "display_data"
    },
    {
     "data": {
      "text/plain": []
     },
     "execution_count": 65,
     "metadata": {},
     "output_type": "execute_result"
    }
   ],
   "source": [
    "lb=aml.leaderboard\n",
    "\n",
    "lb.head(rows=lb.nrows)"
   ]
  },
  {
   "cell_type": "code",
   "execution_count": 66,
   "metadata": {
    "scrolled": false
   },
   "outputs": [
    {
     "name": "stdout",
     "output_type": "stream",
     "text": [
      "Model Details\n",
      "=============\n",
      "H2OStackedEnsembleEstimator :  Stacked Ensemble\n",
      "Model Key:  StackedEnsemble_AllModels_AutoML_20210602_085448\n",
      "\n",
      "No model summary for this model\n",
      "\n",
      "ModelMetricsBinomialGLM: stackedensemble\n",
      "** Reported on train data. **\n",
      "\n",
      "MSE: 0.0862754200160706\n",
      "RMSE: 0.2937267778328537\n",
      "LogLoss: 0.31797581079099957\n",
      "Null degrees of freedom: 9999\n",
      "Residual degrees of freedom: 9985\n",
      "Null deviance: 13828.113387424273\n",
      "Residual deviance: 6359.516215819991\n",
      "AIC: 6389.516215819991\n",
      "AUC: 0.9791912848626068\n",
      "AUCPR: 0.9814609314783465\n",
      "Gini: 0.9583825697252135\n",
      "\n",
      "Confusion Matrix (Act/Pred) for max f1 @ threshold = 0.48300087219034105: \n"
     ]
    },
    {
     "data": {
      "text/html": [
       "<div>\n",
       "<style scoped>\n",
       "    .dataframe tbody tr th:only-of-type {\n",
       "        vertical-align: middle;\n",
       "    }\n",
       "\n",
       "    .dataframe tbody tr th {\n",
       "        vertical-align: top;\n",
       "    }\n",
       "\n",
       "    .dataframe thead th {\n",
       "        text-align: right;\n",
       "    }\n",
       "</style>\n",
       "<table border=\"1\" class=\"dataframe\">\n",
       "  <thead>\n",
       "    <tr style=\"text-align: right;\">\n",
       "      <th></th>\n",
       "      <th></th>\n",
       "      <th>0</th>\n",
       "      <th>1</th>\n",
       "      <th>Error</th>\n",
       "      <th>Rate</th>\n",
       "    </tr>\n",
       "  </thead>\n",
       "  <tbody>\n",
       "    <tr>\n",
       "      <th>0</th>\n",
       "      <td>0</td>\n",
       "      <td>4235.0</td>\n",
       "      <td>470.0</td>\n",
       "      <td>0.0999</td>\n",
       "      <td>(470.0/4705.0)</td>\n",
       "    </tr>\n",
       "    <tr>\n",
       "      <th>1</th>\n",
       "      <td>1</td>\n",
       "      <td>320.0</td>\n",
       "      <td>4975.0</td>\n",
       "      <td>0.0604</td>\n",
       "      <td>(320.0/5295.0)</td>\n",
       "    </tr>\n",
       "    <tr>\n",
       "      <th>2</th>\n",
       "      <td>Total</td>\n",
       "      <td>4555.0</td>\n",
       "      <td>5445.0</td>\n",
       "      <td>0.079</td>\n",
       "      <td>(790.0/10000.0)</td>\n",
       "    </tr>\n",
       "  </tbody>\n",
       "</table>\n",
       "</div>"
      ],
      "text/plain": [
       "               0       1   Error              Rate\n",
       "0      0  4235.0   470.0  0.0999    (470.0/4705.0)\n",
       "1      1   320.0  4975.0  0.0604    (320.0/5295.0)\n",
       "2  Total  4555.0  5445.0   0.079   (790.0/10000.0)"
      ]
     },
     "metadata": {},
     "output_type": "display_data"
    },
    {
     "name": "stdout",
     "output_type": "stream",
     "text": [
      "\n",
      "Maximum Metrics: Maximum metrics at their respective thresholds\n"
     ]
    },
    {
     "data": {
      "text/html": [
       "<div>\n",
       "<style scoped>\n",
       "    .dataframe tbody tr th:only-of-type {\n",
       "        vertical-align: middle;\n",
       "    }\n",
       "\n",
       "    .dataframe tbody tr th {\n",
       "        vertical-align: top;\n",
       "    }\n",
       "\n",
       "    .dataframe thead th {\n",
       "        text-align: right;\n",
       "    }\n",
       "</style>\n",
       "<table border=\"1\" class=\"dataframe\">\n",
       "  <thead>\n",
       "    <tr style=\"text-align: right;\">\n",
       "      <th></th>\n",
       "      <th>metric</th>\n",
       "      <th>threshold</th>\n",
       "      <th>value</th>\n",
       "      <th>idx</th>\n",
       "    </tr>\n",
       "  </thead>\n",
       "  <tbody>\n",
       "    <tr>\n",
       "      <th>0</th>\n",
       "      <td>max f1</td>\n",
       "      <td>0.483001</td>\n",
       "      <td>0.926443</td>\n",
       "      <td>207.0</td>\n",
       "    </tr>\n",
       "    <tr>\n",
       "      <th>1</th>\n",
       "      <td>max f2</td>\n",
       "      <td>0.367151</td>\n",
       "      <td>0.953415</td>\n",
       "      <td>252.0</td>\n",
       "    </tr>\n",
       "    <tr>\n",
       "      <th>2</th>\n",
       "      <td>max f0point5</td>\n",
       "      <td>0.585706</td>\n",
       "      <td>0.938886</td>\n",
       "      <td>168.0</td>\n",
       "    </tr>\n",
       "    <tr>\n",
       "      <th>3</th>\n",
       "      <td>max accuracy</td>\n",
       "      <td>0.506963</td>\n",
       "      <td>0.921200</td>\n",
       "      <td>198.0</td>\n",
       "    </tr>\n",
       "    <tr>\n",
       "      <th>4</th>\n",
       "      <td>max precision</td>\n",
       "      <td>0.943971</td>\n",
       "      <td>1.000000</td>\n",
       "      <td>0.0</td>\n",
       "    </tr>\n",
       "    <tr>\n",
       "      <th>5</th>\n",
       "      <td>max recall</td>\n",
       "      <td>0.219194</td>\n",
       "      <td>1.000000</td>\n",
       "      <td>318.0</td>\n",
       "    </tr>\n",
       "    <tr>\n",
       "      <th>6</th>\n",
       "      <td>max specificity</td>\n",
       "      <td>0.943971</td>\n",
       "      <td>1.000000</td>\n",
       "      <td>0.0</td>\n",
       "    </tr>\n",
       "    <tr>\n",
       "      <th>7</th>\n",
       "      <td>max absolute_mcc</td>\n",
       "      <td>0.506963</td>\n",
       "      <td>0.841870</td>\n",
       "      <td>198.0</td>\n",
       "    </tr>\n",
       "    <tr>\n",
       "      <th>8</th>\n",
       "      <td>max min_per_class_accuracy</td>\n",
       "      <td>0.511966</td>\n",
       "      <td>0.920298</td>\n",
       "      <td>196.0</td>\n",
       "    </tr>\n",
       "    <tr>\n",
       "      <th>9</th>\n",
       "      <td>max mean_per_class_accuracy</td>\n",
       "      <td>0.506963</td>\n",
       "      <td>0.920984</td>\n",
       "      <td>198.0</td>\n",
       "    </tr>\n",
       "    <tr>\n",
       "      <th>10</th>\n",
       "      <td>max tns</td>\n",
       "      <td>0.943971</td>\n",
       "      <td>4705.000000</td>\n",
       "      <td>0.0</td>\n",
       "    </tr>\n",
       "    <tr>\n",
       "      <th>11</th>\n",
       "      <td>max fns</td>\n",
       "      <td>0.943971</td>\n",
       "      <td>5290.000000</td>\n",
       "      <td>0.0</td>\n",
       "    </tr>\n",
       "    <tr>\n",
       "      <th>12</th>\n",
       "      <td>max fps</td>\n",
       "      <td>0.052689</td>\n",
       "      <td>4705.000000</td>\n",
       "      <td>399.0</td>\n",
       "    </tr>\n",
       "    <tr>\n",
       "      <th>13</th>\n",
       "      <td>max tps</td>\n",
       "      <td>0.219194</td>\n",
       "      <td>5295.000000</td>\n",
       "      <td>318.0</td>\n",
       "    </tr>\n",
       "    <tr>\n",
       "      <th>14</th>\n",
       "      <td>max tnr</td>\n",
       "      <td>0.943971</td>\n",
       "      <td>1.000000</td>\n",
       "      <td>0.0</td>\n",
       "    </tr>\n",
       "    <tr>\n",
       "      <th>15</th>\n",
       "      <td>max fnr</td>\n",
       "      <td>0.943971</td>\n",
       "      <td>0.999056</td>\n",
       "      <td>0.0</td>\n",
       "    </tr>\n",
       "    <tr>\n",
       "      <th>16</th>\n",
       "      <td>max fpr</td>\n",
       "      <td>0.052689</td>\n",
       "      <td>1.000000</td>\n",
       "      <td>399.0</td>\n",
       "    </tr>\n",
       "    <tr>\n",
       "      <th>17</th>\n",
       "      <td>max tpr</td>\n",
       "      <td>0.219194</td>\n",
       "      <td>1.000000</td>\n",
       "      <td>318.0</td>\n",
       "    </tr>\n",
       "  </tbody>\n",
       "</table>\n",
       "</div>"
      ],
      "text/plain": [
       "                         metric  threshold        value    idx\n",
       "0                        max f1   0.483001     0.926443  207.0\n",
       "1                        max f2   0.367151     0.953415  252.0\n",
       "2                  max f0point5   0.585706     0.938886  168.0\n",
       "3                  max accuracy   0.506963     0.921200  198.0\n",
       "4                 max precision   0.943971     1.000000    0.0\n",
       "5                    max recall   0.219194     1.000000  318.0\n",
       "6               max specificity   0.943971     1.000000    0.0\n",
       "7              max absolute_mcc   0.506963     0.841870  198.0\n",
       "8    max min_per_class_accuracy   0.511966     0.920298  196.0\n",
       "9   max mean_per_class_accuracy   0.506963     0.920984  198.0\n",
       "10                      max tns   0.943971  4705.000000    0.0\n",
       "11                      max fns   0.943971  5290.000000    0.0\n",
       "12                      max fps   0.052689  4705.000000  399.0\n",
       "13                      max tps   0.219194  5295.000000  318.0\n",
       "14                      max tnr   0.943971     1.000000    0.0\n",
       "15                      max fnr   0.943971     0.999056    0.0\n",
       "16                      max fpr   0.052689     1.000000  399.0\n",
       "17                      max tpr   0.219194     1.000000  318.0"
      ]
     },
     "metadata": {},
     "output_type": "display_data"
    },
    {
     "name": "stdout",
     "output_type": "stream",
     "text": [
      "\n",
      "Gains/Lift Table: Avg response rate: 52,95 %, avg score: 52,03 %\n"
     ]
    },
    {
     "data": {
      "text/html": [
       "<div>\n",
       "<style scoped>\n",
       "    .dataframe tbody tr th:only-of-type {\n",
       "        vertical-align: middle;\n",
       "    }\n",
       "\n",
       "    .dataframe tbody tr th {\n",
       "        vertical-align: top;\n",
       "    }\n",
       "\n",
       "    .dataframe thead th {\n",
       "        text-align: right;\n",
       "    }\n",
       "</style>\n",
       "<table border=\"1\" class=\"dataframe\">\n",
       "  <thead>\n",
       "    <tr style=\"text-align: right;\">\n",
       "      <th></th>\n",
       "      <th>group</th>\n",
       "      <th>cumulative_data_fraction</th>\n",
       "      <th>lower_threshold</th>\n",
       "      <th>lift</th>\n",
       "      <th>cumulative_lift</th>\n",
       "      <th>response_rate</th>\n",
       "      <th>score</th>\n",
       "      <th>cumulative_response_rate</th>\n",
       "      <th>cumulative_score</th>\n",
       "      <th>capture_rate</th>\n",
       "      <th>cumulative_capture_rate</th>\n",
       "      <th>gain</th>\n",
       "      <th>cumulative_gain</th>\n",
       "      <th>kolmogorov_smirnov</th>\n",
       "    </tr>\n",
       "  </thead>\n",
       "  <tbody>\n",
       "    <tr>\n",
       "      <th>0</th>\n",
       "      <td>1</td>\n",
       "      <td>0.01</td>\n",
       "      <td>0.923595</td>\n",
       "      <td>1.888574</td>\n",
       "      <td>1.888574</td>\n",
       "      <td>1.000</td>\n",
       "      <td>0.930600</td>\n",
       "      <td>1.000000</td>\n",
       "      <td>0.930600</td>\n",
       "      <td>0.018886</td>\n",
       "      <td>0.018886</td>\n",
       "      <td>88.857413</td>\n",
       "      <td>88.857413</td>\n",
       "      <td>0.018886</td>\n",
       "    </tr>\n",
       "    <tr>\n",
       "      <th>1</th>\n",
       "      <td>2</td>\n",
       "      <td>0.02</td>\n",
       "      <td>0.916553</td>\n",
       "      <td>1.888574</td>\n",
       "      <td>1.888574</td>\n",
       "      <td>1.000</td>\n",
       "      <td>0.919929</td>\n",
       "      <td>1.000000</td>\n",
       "      <td>0.925264</td>\n",
       "      <td>0.018886</td>\n",
       "      <td>0.037771</td>\n",
       "      <td>88.857413</td>\n",
       "      <td>88.857413</td>\n",
       "      <td>0.037771</td>\n",
       "    </tr>\n",
       "    <tr>\n",
       "      <th>2</th>\n",
       "      <td>3</td>\n",
       "      <td>0.03</td>\n",
       "      <td>0.911360</td>\n",
       "      <td>1.888574</td>\n",
       "      <td>1.888574</td>\n",
       "      <td>1.000</td>\n",
       "      <td>0.914022</td>\n",
       "      <td>1.000000</td>\n",
       "      <td>0.921517</td>\n",
       "      <td>0.018886</td>\n",
       "      <td>0.056657</td>\n",
       "      <td>88.857413</td>\n",
       "      <td>88.857413</td>\n",
       "      <td>0.056657</td>\n",
       "    </tr>\n",
       "    <tr>\n",
       "      <th>3</th>\n",
       "      <td>4</td>\n",
       "      <td>0.04</td>\n",
       "      <td>0.906142</td>\n",
       "      <td>1.888574</td>\n",
       "      <td>1.888574</td>\n",
       "      <td>1.000</td>\n",
       "      <td>0.908410</td>\n",
       "      <td>1.000000</td>\n",
       "      <td>0.918240</td>\n",
       "      <td>0.018886</td>\n",
       "      <td>0.075543</td>\n",
       "      <td>88.857413</td>\n",
       "      <td>88.857413</td>\n",
       "      <td>0.075543</td>\n",
       "    </tr>\n",
       "    <tr>\n",
       "      <th>4</th>\n",
       "      <td>5</td>\n",
       "      <td>0.05</td>\n",
       "      <td>0.901839</td>\n",
       "      <td>1.888574</td>\n",
       "      <td>1.888574</td>\n",
       "      <td>1.000</td>\n",
       "      <td>0.904092</td>\n",
       "      <td>1.000000</td>\n",
       "      <td>0.915410</td>\n",
       "      <td>0.018886</td>\n",
       "      <td>0.094429</td>\n",
       "      <td>88.857413</td>\n",
       "      <td>88.857413</td>\n",
       "      <td>0.094429</td>\n",
       "    </tr>\n",
       "    <tr>\n",
       "      <th>5</th>\n",
       "      <td>6</td>\n",
       "      <td>0.10</td>\n",
       "      <td>0.880081</td>\n",
       "      <td>1.888574</td>\n",
       "      <td>1.888574</td>\n",
       "      <td>1.000</td>\n",
       "      <td>0.891377</td>\n",
       "      <td>1.000000</td>\n",
       "      <td>0.903393</td>\n",
       "      <td>0.094429</td>\n",
       "      <td>0.188857</td>\n",
       "      <td>88.857413</td>\n",
       "      <td>88.857413</td>\n",
       "      <td>0.188857</td>\n",
       "    </tr>\n",
       "    <tr>\n",
       "      <th>6</th>\n",
       "      <td>7</td>\n",
       "      <td>0.15</td>\n",
       "      <td>0.856779</td>\n",
       "      <td>1.888574</td>\n",
       "      <td>1.888574</td>\n",
       "      <td>1.000</td>\n",
       "      <td>0.869029</td>\n",
       "      <td>1.000000</td>\n",
       "      <td>0.891939</td>\n",
       "      <td>0.094429</td>\n",
       "      <td>0.283286</td>\n",
       "      <td>88.857413</td>\n",
       "      <td>88.857413</td>\n",
       "      <td>0.283286</td>\n",
       "    </tr>\n",
       "    <tr>\n",
       "      <th>7</th>\n",
       "      <td>8</td>\n",
       "      <td>0.20</td>\n",
       "      <td>0.831935</td>\n",
       "      <td>1.888574</td>\n",
       "      <td>1.888574</td>\n",
       "      <td>1.000</td>\n",
       "      <td>0.844569</td>\n",
       "      <td>1.000000</td>\n",
       "      <td>0.880096</td>\n",
       "      <td>0.094429</td>\n",
       "      <td>0.377715</td>\n",
       "      <td>88.857413</td>\n",
       "      <td>88.857413</td>\n",
       "      <td>0.377715</td>\n",
       "    </tr>\n",
       "    <tr>\n",
       "      <th>8</th>\n",
       "      <td>9</td>\n",
       "      <td>0.30</td>\n",
       "      <td>0.762401</td>\n",
       "      <td>1.862134</td>\n",
       "      <td>1.879761</td>\n",
       "      <td>0.986</td>\n",
       "      <td>0.799150</td>\n",
       "      <td>0.995333</td>\n",
       "      <td>0.853114</td>\n",
       "      <td>0.186213</td>\n",
       "      <td>0.563928</td>\n",
       "      <td>86.213409</td>\n",
       "      <td>87.976078</td>\n",
       "      <td>0.560953</td>\n",
       "    </tr>\n",
       "    <tr>\n",
       "      <th>9</th>\n",
       "      <td>10</td>\n",
       "      <td>0.40</td>\n",
       "      <td>0.670473</td>\n",
       "      <td>1.773371</td>\n",
       "      <td>1.853163</td>\n",
       "      <td>0.939</td>\n",
       "      <td>0.719392</td>\n",
       "      <td>0.981250</td>\n",
       "      <td>0.819684</td>\n",
       "      <td>0.177337</td>\n",
       "      <td>0.741265</td>\n",
       "      <td>77.337110</td>\n",
       "      <td>85.316336</td>\n",
       "      <td>0.725325</td>\n",
       "    </tr>\n",
       "    <tr>\n",
       "      <th>10</th>\n",
       "      <td>11</td>\n",
       "      <td>0.50</td>\n",
       "      <td>0.546995</td>\n",
       "      <td>1.507082</td>\n",
       "      <td>1.783947</td>\n",
       "      <td>0.798</td>\n",
       "      <td>0.610859</td>\n",
       "      <td>0.944600</td>\n",
       "      <td>0.777919</td>\n",
       "      <td>0.150708</td>\n",
       "      <td>0.891974</td>\n",
       "      <td>50.708215</td>\n",
       "      <td>78.394712</td>\n",
       "      <td>0.833100</td>\n",
       "    </tr>\n",
       "    <tr>\n",
       "      <th>11</th>\n",
       "      <td>12</td>\n",
       "      <td>0.60</td>\n",
       "      <td>0.399843</td>\n",
       "      <td>0.842304</td>\n",
       "      <td>1.627007</td>\n",
       "      <td>0.446</td>\n",
       "      <td>0.473206</td>\n",
       "      <td>0.861500</td>\n",
       "      <td>0.727133</td>\n",
       "      <td>0.084230</td>\n",
       "      <td>0.976204</td>\n",
       "      <td>-15.769594</td>\n",
       "      <td>62.700661</td>\n",
       "      <td>0.799583</td>\n",
       "    </tr>\n",
       "    <tr>\n",
       "      <th>12</th>\n",
       "      <td>13</td>\n",
       "      <td>0.70</td>\n",
       "      <td>0.278277</td>\n",
       "      <td>0.209632</td>\n",
       "      <td>1.424524</td>\n",
       "      <td>0.111</td>\n",
       "      <td>0.336218</td>\n",
       "      <td>0.754286</td>\n",
       "      <td>0.671288</td>\n",
       "      <td>0.020963</td>\n",
       "      <td>0.997167</td>\n",
       "      <td>-79.036827</td>\n",
       "      <td>42.452448</td>\n",
       "      <td>0.631599</td>\n",
       "    </tr>\n",
       "    <tr>\n",
       "      <th>13</th>\n",
       "      <td>14</td>\n",
       "      <td>0.80</td>\n",
       "      <td>0.199466</td>\n",
       "      <td>0.028329</td>\n",
       "      <td>1.250000</td>\n",
       "      <td>0.015</td>\n",
       "      <td>0.235742</td>\n",
       "      <td>0.661875</td>\n",
       "      <td>0.616845</td>\n",
       "      <td>0.002833</td>\n",
       "      <td>1.000000</td>\n",
       "      <td>-97.167139</td>\n",
       "      <td>25.000000</td>\n",
       "      <td>0.425080</td>\n",
       "    </tr>\n",
       "    <tr>\n",
       "      <th>14</th>\n",
       "      <td>15</td>\n",
       "      <td>0.90</td>\n",
       "      <td>0.136737</td>\n",
       "      <td>0.000000</td>\n",
       "      <td>1.111111</td>\n",
       "      <td>0.000</td>\n",
       "      <td>0.167747</td>\n",
       "      <td>0.588333</td>\n",
       "      <td>0.566945</td>\n",
       "      <td>0.000000</td>\n",
       "      <td>1.000000</td>\n",
       "      <td>-100.000000</td>\n",
       "      <td>11.111111</td>\n",
       "      <td>0.212540</td>\n",
       "    </tr>\n",
       "    <tr>\n",
       "      <th>15</th>\n",
       "      <td>16</td>\n",
       "      <td>1.00</td>\n",
       "      <td>0.050071</td>\n",
       "      <td>0.000000</td>\n",
       "      <td>1.000000</td>\n",
       "      <td>0.000</td>\n",
       "      <td>0.100084</td>\n",
       "      <td>0.529500</td>\n",
       "      <td>0.520259</td>\n",
       "      <td>0.000000</td>\n",
       "      <td>1.000000</td>\n",
       "      <td>-100.000000</td>\n",
       "      <td>0.000000</td>\n",
       "      <td>0.000000</td>\n",
       "    </tr>\n",
       "  </tbody>\n",
       "</table>\n",
       "</div>"
      ],
      "text/plain": [
       "    group  cumulative_data_fraction  lower_threshold      lift  \\\n",
       "0       1                      0.01         0.923595  1.888574   \n",
       "1       2                      0.02         0.916553  1.888574   \n",
       "2       3                      0.03         0.911360  1.888574   \n",
       "3       4                      0.04         0.906142  1.888574   \n",
       "4       5                      0.05         0.901839  1.888574   \n",
       "5       6                      0.10         0.880081  1.888574   \n",
       "6       7                      0.15         0.856779  1.888574   \n",
       "7       8                      0.20         0.831935  1.888574   \n",
       "8       9                      0.30         0.762401  1.862134   \n",
       "9      10                      0.40         0.670473  1.773371   \n",
       "10     11                      0.50         0.546995  1.507082   \n",
       "11     12                      0.60         0.399843  0.842304   \n",
       "12     13                      0.70         0.278277  0.209632   \n",
       "13     14                      0.80         0.199466  0.028329   \n",
       "14     15                      0.90         0.136737  0.000000   \n",
       "15     16                      1.00         0.050071  0.000000   \n",
       "\n",
       "    cumulative_lift  response_rate     score  cumulative_response_rate  \\\n",
       "0          1.888574          1.000  0.930600                  1.000000   \n",
       "1          1.888574          1.000  0.919929                  1.000000   \n",
       "2          1.888574          1.000  0.914022                  1.000000   \n",
       "3          1.888574          1.000  0.908410                  1.000000   \n",
       "4          1.888574          1.000  0.904092                  1.000000   \n",
       "5          1.888574          1.000  0.891377                  1.000000   \n",
       "6          1.888574          1.000  0.869029                  1.000000   \n",
       "7          1.888574          1.000  0.844569                  1.000000   \n",
       "8          1.879761          0.986  0.799150                  0.995333   \n",
       "9          1.853163          0.939  0.719392                  0.981250   \n",
       "10         1.783947          0.798  0.610859                  0.944600   \n",
       "11         1.627007          0.446  0.473206                  0.861500   \n",
       "12         1.424524          0.111  0.336218                  0.754286   \n",
       "13         1.250000          0.015  0.235742                  0.661875   \n",
       "14         1.111111          0.000  0.167747                  0.588333   \n",
       "15         1.000000          0.000  0.100084                  0.529500   \n",
       "\n",
       "    cumulative_score  capture_rate  cumulative_capture_rate        gain  \\\n",
       "0           0.930600      0.018886                 0.018886   88.857413   \n",
       "1           0.925264      0.018886                 0.037771   88.857413   \n",
       "2           0.921517      0.018886                 0.056657   88.857413   \n",
       "3           0.918240      0.018886                 0.075543   88.857413   \n",
       "4           0.915410      0.018886                 0.094429   88.857413   \n",
       "5           0.903393      0.094429                 0.188857   88.857413   \n",
       "6           0.891939      0.094429                 0.283286   88.857413   \n",
       "7           0.880096      0.094429                 0.377715   88.857413   \n",
       "8           0.853114      0.186213                 0.563928   86.213409   \n",
       "9           0.819684      0.177337                 0.741265   77.337110   \n",
       "10          0.777919      0.150708                 0.891974   50.708215   \n",
       "11          0.727133      0.084230                 0.976204  -15.769594   \n",
       "12          0.671288      0.020963                 0.997167  -79.036827   \n",
       "13          0.616845      0.002833                 1.000000  -97.167139   \n",
       "14          0.566945      0.000000                 1.000000 -100.000000   \n",
       "15          0.520259      0.000000                 1.000000 -100.000000   \n",
       "\n",
       "    cumulative_gain  kolmogorov_smirnov  \n",
       "0         88.857413            0.018886  \n",
       "1         88.857413            0.037771  \n",
       "2         88.857413            0.056657  \n",
       "3         88.857413            0.075543  \n",
       "4         88.857413            0.094429  \n",
       "5         88.857413            0.188857  \n",
       "6         88.857413            0.283286  \n",
       "7         88.857413            0.377715  \n",
       "8         87.976078            0.560953  \n",
       "9         85.316336            0.725325  \n",
       "10        78.394712            0.833100  \n",
       "11        62.700661            0.799583  \n",
       "12        42.452448            0.631599  \n",
       "13        25.000000            0.425080  \n",
       "14        11.111111            0.212540  \n",
       "15         0.000000            0.000000  "
      ]
     },
     "metadata": {},
     "output_type": "display_data"
    },
    {
     "name": "stdout",
     "output_type": "stream",
     "text": [
      "\n",
      "\n",
      "ModelMetricsBinomialGLM: stackedensemble\n",
      "** Reported on cross-validation data. **\n",
      "\n",
      "MSE: 0.18661557352618857\n",
      "RMSE: 0.4319902470266992\n",
      "LogLoss: 0.5512241215350508\n",
      "Null degrees of freedom: 9999\n",
      "Residual degrees of freedom: 9983\n",
      "Null deviance: 13829.717313823481\n",
      "Residual deviance: 11024.482430701017\n",
      "AIC: 11058.482430701017\n",
      "AUC: 0.7902437986631464\n",
      "AUCPR: 0.8069752600221667\n",
      "Gini: 0.5804875973262928\n",
      "\n",
      "Confusion Matrix (Act/Pred) for max f1 @ threshold = 0.33704084273153234: \n"
     ]
    },
    {
     "data": {
      "text/html": [
       "<div>\n",
       "<style scoped>\n",
       "    .dataframe tbody tr th:only-of-type {\n",
       "        vertical-align: middle;\n",
       "    }\n",
       "\n",
       "    .dataframe tbody tr th {\n",
       "        vertical-align: top;\n",
       "    }\n",
       "\n",
       "    .dataframe thead th {\n",
       "        text-align: right;\n",
       "    }\n",
       "</style>\n",
       "<table border=\"1\" class=\"dataframe\">\n",
       "  <thead>\n",
       "    <tr style=\"text-align: right;\">\n",
       "      <th></th>\n",
       "      <th></th>\n",
       "      <th>0</th>\n",
       "      <th>1</th>\n",
       "      <th>Error</th>\n",
       "      <th>Rate</th>\n",
       "    </tr>\n",
       "  </thead>\n",
       "  <tbody>\n",
       "    <tr>\n",
       "      <th>0</th>\n",
       "      <td>0</td>\n",
       "      <td>2203.0</td>\n",
       "      <td>2502.0</td>\n",
       "      <td>0.5318</td>\n",
       "      <td>(2502.0/4705.0)</td>\n",
       "    </tr>\n",
       "    <tr>\n",
       "      <th>1</th>\n",
       "      <td>1</td>\n",
       "      <td>611.0</td>\n",
       "      <td>4684.0</td>\n",
       "      <td>0.1154</td>\n",
       "      <td>(611.0/5295.0)</td>\n",
       "    </tr>\n",
       "    <tr>\n",
       "      <th>2</th>\n",
       "      <td>Total</td>\n",
       "      <td>2814.0</td>\n",
       "      <td>7186.0</td>\n",
       "      <td>0.3113</td>\n",
       "      <td>(3113.0/10000.0)</td>\n",
       "    </tr>\n",
       "  </tbody>\n",
       "</table>\n",
       "</div>"
      ],
      "text/plain": [
       "               0       1   Error               Rate\n",
       "0      0  2203.0  2502.0  0.5318    (2502.0/4705.0)\n",
       "1      1   611.0  4684.0  0.1154     (611.0/5295.0)\n",
       "2  Total  2814.0  7186.0  0.3113   (3113.0/10000.0)"
      ]
     },
     "metadata": {},
     "output_type": "display_data"
    },
    {
     "name": "stdout",
     "output_type": "stream",
     "text": [
      "\n",
      "Maximum Metrics: Maximum metrics at their respective thresholds\n"
     ]
    },
    {
     "data": {
      "text/html": [
       "<div>\n",
       "<style scoped>\n",
       "    .dataframe tbody tr th:only-of-type {\n",
       "        vertical-align: middle;\n",
       "    }\n",
       "\n",
       "    .dataframe tbody tr th {\n",
       "        vertical-align: top;\n",
       "    }\n",
       "\n",
       "    .dataframe thead th {\n",
       "        text-align: right;\n",
       "    }\n",
       "</style>\n",
       "<table border=\"1\" class=\"dataframe\">\n",
       "  <thead>\n",
       "    <tr style=\"text-align: right;\">\n",
       "      <th></th>\n",
       "      <th>metric</th>\n",
       "      <th>threshold</th>\n",
       "      <th>value</th>\n",
       "      <th>idx</th>\n",
       "    </tr>\n",
       "  </thead>\n",
       "  <tbody>\n",
       "    <tr>\n",
       "      <th>0</th>\n",
       "      <td>max f1</td>\n",
       "      <td>0.337041</td>\n",
       "      <td>0.750581</td>\n",
       "      <td>278.0</td>\n",
       "    </tr>\n",
       "    <tr>\n",
       "      <th>1</th>\n",
       "      <td>max f2</td>\n",
       "      <td>0.152971</td>\n",
       "      <td>0.860254</td>\n",
       "      <td>358.0</td>\n",
       "    </tr>\n",
       "    <tr>\n",
       "      <th>2</th>\n",
       "      <td>max f0point5</td>\n",
       "      <td>0.613299</td>\n",
       "      <td>0.742574</td>\n",
       "      <td>156.0</td>\n",
       "    </tr>\n",
       "    <tr>\n",
       "      <th>3</th>\n",
       "      <td>max accuracy</td>\n",
       "      <td>0.530999</td>\n",
       "      <td>0.715600</td>\n",
       "      <td>190.0</td>\n",
       "    </tr>\n",
       "    <tr>\n",
       "      <th>4</th>\n",
       "      <td>max precision</td>\n",
       "      <td>0.940130</td>\n",
       "      <td>1.000000</td>\n",
       "      <td>0.0</td>\n",
       "    </tr>\n",
       "    <tr>\n",
       "      <th>5</th>\n",
       "      <td>max recall</td>\n",
       "      <td>0.076442</td>\n",
       "      <td>1.000000</td>\n",
       "      <td>392.0</td>\n",
       "    </tr>\n",
       "    <tr>\n",
       "      <th>6</th>\n",
       "      <td>max specificity</td>\n",
       "      <td>0.940130</td>\n",
       "      <td>1.000000</td>\n",
       "      <td>0.0</td>\n",
       "    </tr>\n",
       "    <tr>\n",
       "      <th>7</th>\n",
       "      <td>max absolute_mcc</td>\n",
       "      <td>0.536765</td>\n",
       "      <td>0.431126</td>\n",
       "      <td>188.0</td>\n",
       "    </tr>\n",
       "    <tr>\n",
       "      <th>8</th>\n",
       "      <td>max min_per_class_accuracy</td>\n",
       "      <td>0.528279</td>\n",
       "      <td>0.714559</td>\n",
       "      <td>191.0</td>\n",
       "    </tr>\n",
       "    <tr>\n",
       "      <th>9</th>\n",
       "      <td>max mean_per_class_accuracy</td>\n",
       "      <td>0.536765</td>\n",
       "      <td>0.715933</td>\n",
       "      <td>188.0</td>\n",
       "    </tr>\n",
       "    <tr>\n",
       "      <th>10</th>\n",
       "      <td>max tns</td>\n",
       "      <td>0.940130</td>\n",
       "      <td>4705.000000</td>\n",
       "      <td>0.0</td>\n",
       "    </tr>\n",
       "    <tr>\n",
       "      <th>11</th>\n",
       "      <td>max fns</td>\n",
       "      <td>0.940130</td>\n",
       "      <td>5287.000000</td>\n",
       "      <td>0.0</td>\n",
       "    </tr>\n",
       "    <tr>\n",
       "      <th>12</th>\n",
       "      <td>max fps</td>\n",
       "      <td>0.054754</td>\n",
       "      <td>4705.000000</td>\n",
       "      <td>399.0</td>\n",
       "    </tr>\n",
       "    <tr>\n",
       "      <th>13</th>\n",
       "      <td>max tps</td>\n",
       "      <td>0.076442</td>\n",
       "      <td>5295.000000</td>\n",
       "      <td>392.0</td>\n",
       "    </tr>\n",
       "    <tr>\n",
       "      <th>14</th>\n",
       "      <td>max tnr</td>\n",
       "      <td>0.940130</td>\n",
       "      <td>1.000000</td>\n",
       "      <td>0.0</td>\n",
       "    </tr>\n",
       "    <tr>\n",
       "      <th>15</th>\n",
       "      <td>max fnr</td>\n",
       "      <td>0.940130</td>\n",
       "      <td>0.998489</td>\n",
       "      <td>0.0</td>\n",
       "    </tr>\n",
       "    <tr>\n",
       "      <th>16</th>\n",
       "      <td>max fpr</td>\n",
       "      <td>0.054754</td>\n",
       "      <td>1.000000</td>\n",
       "      <td>399.0</td>\n",
       "    </tr>\n",
       "    <tr>\n",
       "      <th>17</th>\n",
       "      <td>max tpr</td>\n",
       "      <td>0.076442</td>\n",
       "      <td>1.000000</td>\n",
       "      <td>392.0</td>\n",
       "    </tr>\n",
       "  </tbody>\n",
       "</table>\n",
       "</div>"
      ],
      "text/plain": [
       "                         metric  threshold        value    idx\n",
       "0                        max f1   0.337041     0.750581  278.0\n",
       "1                        max f2   0.152971     0.860254  358.0\n",
       "2                  max f0point5   0.613299     0.742574  156.0\n",
       "3                  max accuracy   0.530999     0.715600  190.0\n",
       "4                 max precision   0.940130     1.000000    0.0\n",
       "5                    max recall   0.076442     1.000000  392.0\n",
       "6               max specificity   0.940130     1.000000    0.0\n",
       "7              max absolute_mcc   0.536765     0.431126  188.0\n",
       "8    max min_per_class_accuracy   0.528279     0.714559  191.0\n",
       "9   max mean_per_class_accuracy   0.536765     0.715933  188.0\n",
       "10                      max tns   0.940130  4705.000000    0.0\n",
       "11                      max fns   0.940130  5287.000000    0.0\n",
       "12                      max fps   0.054754  4705.000000  399.0\n",
       "13                      max tps   0.076442  5295.000000  392.0\n",
       "14                      max tnr   0.940130     1.000000    0.0\n",
       "15                      max fnr   0.940130     0.998489    0.0\n",
       "16                      max fpr   0.054754     1.000000  399.0\n",
       "17                      max tpr   0.076442     1.000000  392.0"
      ]
     },
     "metadata": {},
     "output_type": "display_data"
    },
    {
     "name": "stdout",
     "output_type": "stream",
     "text": [
      "\n",
      "Gains/Lift Table: Avg response rate: 52,95 %, avg score: 52,94 %\n"
     ]
    },
    {
     "data": {
      "text/html": [
       "<div>\n",
       "<style scoped>\n",
       "    .dataframe tbody tr th:only-of-type {\n",
       "        vertical-align: middle;\n",
       "    }\n",
       "\n",
       "    .dataframe tbody tr th {\n",
       "        vertical-align: top;\n",
       "    }\n",
       "\n",
       "    .dataframe thead th {\n",
       "        text-align: right;\n",
       "    }\n",
       "</style>\n",
       "<table border=\"1\" class=\"dataframe\">\n",
       "  <thead>\n",
       "    <tr style=\"text-align: right;\">\n",
       "      <th></th>\n",
       "      <th>group</th>\n",
       "      <th>cumulative_data_fraction</th>\n",
       "      <th>lower_threshold</th>\n",
       "      <th>lift</th>\n",
       "      <th>cumulative_lift</th>\n",
       "      <th>response_rate</th>\n",
       "      <th>score</th>\n",
       "      <th>cumulative_response_rate</th>\n",
       "      <th>cumulative_score</th>\n",
       "      <th>capture_rate</th>\n",
       "      <th>cumulative_capture_rate</th>\n",
       "      <th>gain</th>\n",
       "      <th>cumulative_gain</th>\n",
       "      <th>kolmogorov_smirnov</th>\n",
       "    </tr>\n",
       "  </thead>\n",
       "  <tbody>\n",
       "    <tr>\n",
       "      <th>0</th>\n",
       "      <td>1</td>\n",
       "      <td>0.01</td>\n",
       "      <td>0.920560</td>\n",
       "      <td>1.850803</td>\n",
       "      <td>1.850803</td>\n",
       "      <td>0.980</td>\n",
       "      <td>0.928210</td>\n",
       "      <td>0.980000</td>\n",
       "      <td>0.928210</td>\n",
       "      <td>0.018508</td>\n",
       "      <td>0.018508</td>\n",
       "      <td>85.080264</td>\n",
       "      <td>85.080264</td>\n",
       "      <td>0.018083</td>\n",
       "    </tr>\n",
       "    <tr>\n",
       "      <th>1</th>\n",
       "      <td>2</td>\n",
       "      <td>0.02</td>\n",
       "      <td>0.912361</td>\n",
       "      <td>1.756374</td>\n",
       "      <td>1.803588</td>\n",
       "      <td>0.930</td>\n",
       "      <td>0.916118</td>\n",
       "      <td>0.955000</td>\n",
       "      <td>0.922164</td>\n",
       "      <td>0.017564</td>\n",
       "      <td>0.036072</td>\n",
       "      <td>75.637394</td>\n",
       "      <td>80.358829</td>\n",
       "      <td>0.034159</td>\n",
       "    </tr>\n",
       "    <tr>\n",
       "      <th>2</th>\n",
       "      <td>3</td>\n",
       "      <td>0.03</td>\n",
       "      <td>0.905350</td>\n",
       "      <td>1.775260</td>\n",
       "      <td>1.794145</td>\n",
       "      <td>0.940</td>\n",
       "      <td>0.908945</td>\n",
       "      <td>0.950000</td>\n",
       "      <td>0.917758</td>\n",
       "      <td>0.017753</td>\n",
       "      <td>0.053824</td>\n",
       "      <td>77.525968</td>\n",
       "      <td>79.414542</td>\n",
       "      <td>0.050636</td>\n",
       "    </tr>\n",
       "    <tr>\n",
       "      <th>3</th>\n",
       "      <td>4</td>\n",
       "      <td>0.04</td>\n",
       "      <td>0.898991</td>\n",
       "      <td>1.737488</td>\n",
       "      <td>1.779981</td>\n",
       "      <td>0.920</td>\n",
       "      <td>0.902074</td>\n",
       "      <td>0.942500</td>\n",
       "      <td>0.913837</td>\n",
       "      <td>0.017375</td>\n",
       "      <td>0.071199</td>\n",
       "      <td>73.748820</td>\n",
       "      <td>77.998111</td>\n",
       "      <td>0.066311</td>\n",
       "    </tr>\n",
       "    <tr>\n",
       "      <th>4</th>\n",
       "      <td>5</td>\n",
       "      <td>0.05</td>\n",
       "      <td>0.892740</td>\n",
       "      <td>1.775260</td>\n",
       "      <td>1.779037</td>\n",
       "      <td>0.940</td>\n",
       "      <td>0.895804</td>\n",
       "      <td>0.942000</td>\n",
       "      <td>0.910230</td>\n",
       "      <td>0.017753</td>\n",
       "      <td>0.088952</td>\n",
       "      <td>77.525968</td>\n",
       "      <td>77.903683</td>\n",
       "      <td>0.082788</td>\n",
       "    </tr>\n",
       "    <tr>\n",
       "      <th>5</th>\n",
       "      <td>6</td>\n",
       "      <td>0.10</td>\n",
       "      <td>0.864714</td>\n",
       "      <td>1.699717</td>\n",
       "      <td>1.739377</td>\n",
       "      <td>0.900</td>\n",
       "      <td>0.878660</td>\n",
       "      <td>0.921000</td>\n",
       "      <td>0.894445</td>\n",
       "      <td>0.084986</td>\n",
       "      <td>0.173938</td>\n",
       "      <td>69.971671</td>\n",
       "      <td>73.937677</td>\n",
       "      <td>0.157147</td>\n",
       "    </tr>\n",
       "    <tr>\n",
       "      <th>6</th>\n",
       "      <td>7</td>\n",
       "      <td>0.15</td>\n",
       "      <td>0.834663</td>\n",
       "      <td>1.654391</td>\n",
       "      <td>1.711048</td>\n",
       "      <td>0.876</td>\n",
       "      <td>0.849126</td>\n",
       "      <td>0.906000</td>\n",
       "      <td>0.879339</td>\n",
       "      <td>0.082720</td>\n",
       "      <td>0.256657</td>\n",
       "      <td>65.439093</td>\n",
       "      <td>71.104816</td>\n",
       "      <td>0.226689</td>\n",
       "    </tr>\n",
       "    <tr>\n",
       "      <th>7</th>\n",
       "      <td>8</td>\n",
       "      <td>0.20</td>\n",
       "      <td>0.798887</td>\n",
       "      <td>1.529745</td>\n",
       "      <td>1.665722</td>\n",
       "      <td>0.810</td>\n",
       "      <td>0.817116</td>\n",
       "      <td>0.882000</td>\n",
       "      <td>0.863783</td>\n",
       "      <td>0.076487</td>\n",
       "      <td>0.333144</td>\n",
       "      <td>52.974504</td>\n",
       "      <td>66.572238</td>\n",
       "      <td>0.282985</td>\n",
       "    </tr>\n",
       "    <tr>\n",
       "      <th>8</th>\n",
       "      <td>9</td>\n",
       "      <td>0.30</td>\n",
       "      <td>0.724121</td>\n",
       "      <td>1.395656</td>\n",
       "      <td>1.575700</td>\n",
       "      <td>0.739</td>\n",
       "      <td>0.762121</td>\n",
       "      <td>0.834333</td>\n",
       "      <td>0.829896</td>\n",
       "      <td>0.139566</td>\n",
       "      <td>0.472710</td>\n",
       "      <td>39.565628</td>\n",
       "      <td>57.570035</td>\n",
       "      <td>0.367078</td>\n",
       "    </tr>\n",
       "    <tr>\n",
       "      <th>9</th>\n",
       "      <td>10</td>\n",
       "      <td>0.40</td>\n",
       "      <td>0.631622</td>\n",
       "      <td>1.223796</td>\n",
       "      <td>1.487724</td>\n",
       "      <td>0.648</td>\n",
       "      <td>0.680591</td>\n",
       "      <td>0.787750</td>\n",
       "      <td>0.792570</td>\n",
       "      <td>0.122380</td>\n",
       "      <td>0.595090</td>\n",
       "      <td>22.379603</td>\n",
       "      <td>48.772427</td>\n",
       "      <td>0.414643</td>\n",
       "    </tr>\n",
       "    <tr>\n",
       "      <th>10</th>\n",
       "      <td>11</td>\n",
       "      <td>0.50</td>\n",
       "      <td>0.538345</td>\n",
       "      <td>1.074599</td>\n",
       "      <td>1.405099</td>\n",
       "      <td>0.569</td>\n",
       "      <td>0.585041</td>\n",
       "      <td>0.744000</td>\n",
       "      <td>0.751064</td>\n",
       "      <td>0.107460</td>\n",
       "      <td>0.702550</td>\n",
       "      <td>7.459868</td>\n",
       "      <td>40.509915</td>\n",
       "      <td>0.430499</td>\n",
       "    </tr>\n",
       "    <tr>\n",
       "      <th>11</th>\n",
       "      <td>12</td>\n",
       "      <td>0.60</td>\n",
       "      <td>0.444887</td>\n",
       "      <td>0.870633</td>\n",
       "      <td>1.316021</td>\n",
       "      <td>0.461</td>\n",
       "      <td>0.492046</td>\n",
       "      <td>0.696833</td>\n",
       "      <td>0.707894</td>\n",
       "      <td>0.087063</td>\n",
       "      <td>0.789613</td>\n",
       "      <td>-12.936733</td>\n",
       "      <td>31.602140</td>\n",
       "      <td>0.403003</td>\n",
       "    </tr>\n",
       "    <tr>\n",
       "      <th>12</th>\n",
       "      <td>13</td>\n",
       "      <td>0.70</td>\n",
       "      <td>0.351997</td>\n",
       "      <td>0.789424</td>\n",
       "      <td>1.240793</td>\n",
       "      <td>0.418</td>\n",
       "      <td>0.397568</td>\n",
       "      <td>0.657000</td>\n",
       "      <td>0.663562</td>\n",
       "      <td>0.078942</td>\n",
       "      <td>0.868555</td>\n",
       "      <td>-21.057602</td>\n",
       "      <td>24.079320</td>\n",
       "      <td>0.358247</td>\n",
       "    </tr>\n",
       "    <tr>\n",
       "      <th>13</th>\n",
       "      <td>14</td>\n",
       "      <td>0.80</td>\n",
       "      <td>0.264002</td>\n",
       "      <td>0.649669</td>\n",
       "      <td>1.166903</td>\n",
       "      <td>0.344</td>\n",
       "      <td>0.306909</td>\n",
       "      <td>0.617875</td>\n",
       "      <td>0.618980</td>\n",
       "      <td>0.064967</td>\n",
       "      <td>0.933522</td>\n",
       "      <td>-35.033050</td>\n",
       "      <td>16.690274</td>\n",
       "      <td>0.283788</td>\n",
       "    </tr>\n",
       "    <tr>\n",
       "      <th>14</th>\n",
       "      <td>15</td>\n",
       "      <td>0.90</td>\n",
       "      <td>0.174691</td>\n",
       "      <td>0.457035</td>\n",
       "      <td>1.088029</td>\n",
       "      <td>0.242</td>\n",
       "      <td>0.220937</td>\n",
       "      <td>0.576111</td>\n",
       "      <td>0.574753</td>\n",
       "      <td>0.045703</td>\n",
       "      <td>0.979226</td>\n",
       "      <td>-54.296506</td>\n",
       "      <td>8.802854</td>\n",
       "      <td>0.168386</td>\n",
       "    </tr>\n",
       "    <tr>\n",
       "      <th>15</th>\n",
       "      <td>16</td>\n",
       "      <td>1.00</td>\n",
       "      <td>0.052680</td>\n",
       "      <td>0.207743</td>\n",
       "      <td>1.000000</td>\n",
       "      <td>0.110</td>\n",
       "      <td>0.121060</td>\n",
       "      <td>0.529500</td>\n",
       "      <td>0.529384</td>\n",
       "      <td>0.020774</td>\n",
       "      <td>1.000000</td>\n",
       "      <td>-79.225685</td>\n",
       "      <td>0.000000</td>\n",
       "      <td>0.000000</td>\n",
       "    </tr>\n",
       "  </tbody>\n",
       "</table>\n",
       "</div>"
      ],
      "text/plain": [
       "    group  cumulative_data_fraction  lower_threshold      lift  \\\n",
       "0       1                      0.01         0.920560  1.850803   \n",
       "1       2                      0.02         0.912361  1.756374   \n",
       "2       3                      0.03         0.905350  1.775260   \n",
       "3       4                      0.04         0.898991  1.737488   \n",
       "4       5                      0.05         0.892740  1.775260   \n",
       "5       6                      0.10         0.864714  1.699717   \n",
       "6       7                      0.15         0.834663  1.654391   \n",
       "7       8                      0.20         0.798887  1.529745   \n",
       "8       9                      0.30         0.724121  1.395656   \n",
       "9      10                      0.40         0.631622  1.223796   \n",
       "10     11                      0.50         0.538345  1.074599   \n",
       "11     12                      0.60         0.444887  0.870633   \n",
       "12     13                      0.70         0.351997  0.789424   \n",
       "13     14                      0.80         0.264002  0.649669   \n",
       "14     15                      0.90         0.174691  0.457035   \n",
       "15     16                      1.00         0.052680  0.207743   \n",
       "\n",
       "    cumulative_lift  response_rate     score  cumulative_response_rate  \\\n",
       "0          1.850803          0.980  0.928210                  0.980000   \n",
       "1          1.803588          0.930  0.916118                  0.955000   \n",
       "2          1.794145          0.940  0.908945                  0.950000   \n",
       "3          1.779981          0.920  0.902074                  0.942500   \n",
       "4          1.779037          0.940  0.895804                  0.942000   \n",
       "5          1.739377          0.900  0.878660                  0.921000   \n",
       "6          1.711048          0.876  0.849126                  0.906000   \n",
       "7          1.665722          0.810  0.817116                  0.882000   \n",
       "8          1.575700          0.739  0.762121                  0.834333   \n",
       "9          1.487724          0.648  0.680591                  0.787750   \n",
       "10         1.405099          0.569  0.585041                  0.744000   \n",
       "11         1.316021          0.461  0.492046                  0.696833   \n",
       "12         1.240793          0.418  0.397568                  0.657000   \n",
       "13         1.166903          0.344  0.306909                  0.617875   \n",
       "14         1.088029          0.242  0.220937                  0.576111   \n",
       "15         1.000000          0.110  0.121060                  0.529500   \n",
       "\n",
       "    cumulative_score  capture_rate  cumulative_capture_rate       gain  \\\n",
       "0           0.928210      0.018508                 0.018508  85.080264   \n",
       "1           0.922164      0.017564                 0.036072  75.637394   \n",
       "2           0.917758      0.017753                 0.053824  77.525968   \n",
       "3           0.913837      0.017375                 0.071199  73.748820   \n",
       "4           0.910230      0.017753                 0.088952  77.525968   \n",
       "5           0.894445      0.084986                 0.173938  69.971671   \n",
       "6           0.879339      0.082720                 0.256657  65.439093   \n",
       "7           0.863783      0.076487                 0.333144  52.974504   \n",
       "8           0.829896      0.139566                 0.472710  39.565628   \n",
       "9           0.792570      0.122380                 0.595090  22.379603   \n",
       "10          0.751064      0.107460                 0.702550   7.459868   \n",
       "11          0.707894      0.087063                 0.789613 -12.936733   \n",
       "12          0.663562      0.078942                 0.868555 -21.057602   \n",
       "13          0.618980      0.064967                 0.933522 -35.033050   \n",
       "14          0.574753      0.045703                 0.979226 -54.296506   \n",
       "15          0.529384      0.020774                 1.000000 -79.225685   \n",
       "\n",
       "    cumulative_gain  kolmogorov_smirnov  \n",
       "0         85.080264            0.018083  \n",
       "1         80.358829            0.034159  \n",
       "2         79.414542            0.050636  \n",
       "3         77.998111            0.066311  \n",
       "4         77.903683            0.082788  \n",
       "5         73.937677            0.157147  \n",
       "6         71.104816            0.226689  \n",
       "7         66.572238            0.282985  \n",
       "8         57.570035            0.367078  \n",
       "9         48.772427            0.414643  \n",
       "10        40.509915            0.430499  \n",
       "11        31.602140            0.403003  \n",
       "12        24.079320            0.358247  \n",
       "13        16.690274            0.283788  \n",
       "14         8.802854            0.168386  \n",
       "15         0.000000            0.000000  "
      ]
     },
     "metadata": {},
     "output_type": "display_data"
    },
    {
     "name": "stdout",
     "output_type": "stream",
     "text": [
      "\n"
     ]
    },
    {
     "data": {
      "text/plain": []
     },
     "execution_count": 66,
     "metadata": {},
     "output_type": "execute_result"
    }
   ],
   "source": [
    "aml.leader  # mejor modelo"
   ]
  },
  {
   "cell_type": "code",
   "execution_count": 67,
   "metadata": {},
   "outputs": [
    {
     "name": "stdout",
     "output_type": "stream",
     "text": [
      "stackedensemble prediction progress: |████████████████████████████████████| 100%\n"
     ]
    },
    {
     "data": {
      "text/html": [
       "<table>\n",
       "<thead>\n",
       "<tr><th style=\"text-align: right;\">  predict</th><th style=\"text-align: right;\">      p0</th><th style=\"text-align: right;\">      p1</th></tr>\n",
       "</thead>\n",
       "<tbody>\n",
       "<tr><td style=\"text-align: right;\">        0</td><td style=\"text-align: right;\">0.74623 </td><td style=\"text-align: right;\">0.25377 </td></tr>\n",
       "<tr><td style=\"text-align: right;\">        0</td><td style=\"text-align: right;\">0.752628</td><td style=\"text-align: right;\">0.247372</td></tr>\n",
       "<tr><td style=\"text-align: right;\">        1</td><td style=\"text-align: right;\">0.553923</td><td style=\"text-align: right;\">0.446077</td></tr>\n",
       "<tr><td style=\"text-align: right;\">        1</td><td style=\"text-align: right;\">0.380897</td><td style=\"text-align: right;\">0.619103</td></tr>\n",
       "<tr><td style=\"text-align: right;\">        0</td><td style=\"text-align: right;\">0.682455</td><td style=\"text-align: right;\">0.317545</td></tr>\n",
       "<tr><td style=\"text-align: right;\">        1</td><td style=\"text-align: right;\">0.251892</td><td style=\"text-align: right;\">0.748108</td></tr>\n",
       "<tr><td style=\"text-align: right;\">        1</td><td style=\"text-align: right;\">0.278103</td><td style=\"text-align: right;\">0.721897</td></tr>\n",
       "<tr><td style=\"text-align: right;\">        1</td><td style=\"text-align: right;\">0.644376</td><td style=\"text-align: right;\">0.355624</td></tr>\n",
       "<tr><td style=\"text-align: right;\">        1</td><td style=\"text-align: right;\">0.584955</td><td style=\"text-align: right;\">0.415045</td></tr>\n",
       "<tr><td style=\"text-align: right;\">        0</td><td style=\"text-align: right;\">0.826659</td><td style=\"text-align: right;\">0.173341</td></tr>\n",
       "</tbody>\n",
       "</table>"
      ]
     },
     "metadata": {},
     "output_type": "display_data"
    },
    {
     "data": {
      "text/plain": []
     },
     "execution_count": 67,
     "metadata": {},
     "output_type": "execute_result"
    }
   ],
   "source": [
    "pred=aml.leader.predict(test)\n",
    "\n",
    "pred"
   ]
  },
  {
   "cell_type": "code",
   "execution_count": 68,
   "metadata": {
    "scrolled": true
   },
   "outputs": [
    {
     "data": {
      "text/html": [
       "<table>\n",
       "<thead>\n",
       "<tr><th style=\"text-align: right;\">  response</th><th style=\"text-align: right;\">      x1</th><th style=\"text-align: right;\">       x2</th><th style=\"text-align: right;\">       x3</th><th style=\"text-align: right;\">      x4</th><th style=\"text-align: right;\">        x5</th><th style=\"text-align: right;\">      x6</th><th style=\"text-align: right;\">        x7</th><th style=\"text-align: right;\">       x8</th><th style=\"text-align: right;\">     x9</th><th style=\"text-align: right;\">     x10</th><th style=\"text-align: right;\">        x11</th><th style=\"text-align: right;\">       x12</th><th style=\"text-align: right;\">    x13</th><th style=\"text-align: right;\">     x14</th><th style=\"text-align: right;\">       x15</th><th style=\"text-align: right;\">      x16</th><th style=\"text-align: right;\">    x17</th><th style=\"text-align: right;\">     x18</th><th style=\"text-align: right;\">        x19</th><th style=\"text-align: right;\">       x20</th><th style=\"text-align: right;\">    x21</th><th style=\"text-align: right;\">     x22</th><th style=\"text-align: right;\">     x23</th><th style=\"text-align: right;\">     x24</th><th style=\"text-align: right;\">     x25</th><th style=\"text-align: right;\">     x26</th><th style=\"text-align: right;\">     x27</th><th style=\"text-align: right;\">     x28</th></tr>\n",
       "</thead>\n",
       "<tbody>\n",
       "<tr><td style=\"text-align: right;\">         0</td><td style=\"text-align: right;\">0.623878</td><td style=\"text-align: right;\"> 0.459659</td><td style=\"text-align: right;\">-0.316512</td><td style=\"text-align: right;\">1.55701 </td><td style=\"text-align: right;\"> 0.644784 </td><td style=\"text-align: right;\">0.455929</td><td style=\"text-align: right;\">-2.24983  </td><td style=\"text-align: right;\">-0.361949</td><td style=\"text-align: right;\">0      </td><td style=\"text-align: right;\">0.832978</td><td style=\"text-align: right;\"> 1.41147   </td><td style=\"text-align: right;\"> 1.52846  </td><td style=\"text-align: right;\">0      </td><td style=\"text-align: right;\">0.722857</td><td style=\"text-align: right;\"> 1.00964  </td><td style=\"text-align: right;\"> 0.999539</td><td style=\"text-align: right;\">0      </td><td style=\"text-align: right;\">1.19099 </td><td style=\"text-align: right;\"> 0.81404   </td><td style=\"text-align: right;\">-0.879803 </td><td style=\"text-align: right;\">3.10196</td><td style=\"text-align: right;\">0.583344</td><td style=\"text-align: right;\">0.790246</td><td style=\"text-align: right;\">1.04087 </td><td style=\"text-align: right;\">0.848858</td><td style=\"text-align: right;\">0.229702</td><td style=\"text-align: right;\">0.65594 </td><td style=\"text-align: right;\">0.677857</td></tr>\n",
       "<tr><td style=\"text-align: right;\">         0</td><td style=\"text-align: right;\">1.68204 </td><td style=\"text-align: right;\"> 0.774251</td><td style=\"text-align: right;\"> 1.32875 </td><td style=\"text-align: right;\">0.234729</td><td style=\"text-align: right;\">-0.55783  </td><td style=\"text-align: right;\">0.442921</td><td style=\"text-align: right;\">-0.0832048</td><td style=\"text-align: right;\"> 1.08119 </td><td style=\"text-align: right;\">2.17308</td><td style=\"text-align: right;\">1.14585 </td><td style=\"text-align: right;\"> 0.16228   </td><td style=\"text-align: right;\">-0.268187 </td><td style=\"text-align: right;\">0      </td><td style=\"text-align: right;\">1.21407 </td><td style=\"text-align: right;\"> 0.194966 </td><td style=\"text-align: right;\">-1.15627 </td><td style=\"text-align: right;\">2.54822</td><td style=\"text-align: right;\">1.01915 </td><td style=\"text-align: right;\">-0.759163  </td><td style=\"text-align: right;\"> 0.136347 </td><td style=\"text-align: right;\">0      </td><td style=\"text-align: right;\">0.94183 </td><td style=\"text-align: right;\">0.941976</td><td style=\"text-align: right;\">0.98816 </td><td style=\"text-align: right;\">0.86435 </td><td style=\"text-align: right;\">0.835132</td><td style=\"text-align: right;\">0.767871</td><td style=\"text-align: right;\">0.833013</td></tr>\n",
       "<tr><td style=\"text-align: right;\">         1</td><td style=\"text-align: right;\">1.09403 </td><td style=\"text-align: right;\">-0.88734 </td><td style=\"text-align: right;\"> 0.949229</td><td style=\"text-align: right;\">0.410261</td><td style=\"text-align: right;\">-1.55868  </td><td style=\"text-align: right;\">0.523352</td><td style=\"text-align: right;\"> 0.131675 </td><td style=\"text-align: right;\"> 0.304513</td><td style=\"text-align: right;\">0      </td><td style=\"text-align: right;\">1.11916 </td><td style=\"text-align: right;\"> 1.09383   </td><td style=\"text-align: right;\">-0.396352 </td><td style=\"text-align: right;\">2.21487</td><td style=\"text-align: right;\">0.6289  </td><td style=\"text-align: right;\"> 0.628245 </td><td style=\"text-align: right;\"> 1.45775 </td><td style=\"text-align: right;\">0      </td><td style=\"text-align: right;\">0.523082</td><td style=\"text-align: right;\"> 0.508394  </td><td style=\"text-align: right;\"> 0.988137 </td><td style=\"text-align: right;\">0      </td><td style=\"text-align: right;\">0.929989</td><td style=\"text-align: right;\">0.973742</td><td style=\"text-align: right;\">0.989141</td><td style=\"text-align: right;\">0.780519</td><td style=\"text-align: right;\">0.749821</td><td style=\"text-align: right;\">0.887545</td><td style=\"text-align: right;\">0.925278</td></tr>\n",
       "<tr><td style=\"text-align: right;\">         0</td><td style=\"text-align: right;\">1.33871 </td><td style=\"text-align: right;\">-0.899027</td><td style=\"text-align: right;\">-1.25534 </td><td style=\"text-align: right;\">0.884285</td><td style=\"text-align: right;\">-0.747925 </td><td style=\"text-align: right;\">0.547445</td><td style=\"text-align: right;\">-0.79518  </td><td style=\"text-align: right;\"> 0.174235</td><td style=\"text-align: right;\">2.17308</td><td style=\"text-align: right;\">0.771663</td><td style=\"text-align: right;\">-0.31855   </td><td style=\"text-align: right;\"> 1.02356  </td><td style=\"text-align: right;\">2.21487</td><td style=\"text-align: right;\">0.408495</td><td style=\"text-align: right;\">-1.1431   </td><td style=\"text-align: right;\"> 0.139699</td><td style=\"text-align: right;\">0      </td><td style=\"text-align: right;\">1.29395 </td><td style=\"text-align: right;\">-1.34131   </td><td style=\"text-align: right;\"> 1.61685  </td><td style=\"text-align: right;\">0      </td><td style=\"text-align: right;\">0.79204 </td><td style=\"text-align: right;\">0.76921 </td><td style=\"text-align: right;\">0.984082</td><td style=\"text-align: right;\">1.06928 </td><td style=\"text-align: right;\">0.700852</td><td style=\"text-align: right;\">0.83083 </td><td style=\"text-align: right;\">0.71671 </td></tr>\n",
       "<tr><td style=\"text-align: right;\">         0</td><td style=\"text-align: right;\">0.699095</td><td style=\"text-align: right;\"> 1.43363 </td><td style=\"text-align: right;\">-1.72253 </td><td style=\"text-align: right;\">0.650113</td><td style=\"text-align: right;\">-0.167574 </td><td style=\"text-align: right;\">0.967464</td><td style=\"text-align: right;\"> 0.737696 </td><td style=\"text-align: right;\">-0.886391</td><td style=\"text-align: right;\">2.17308</td><td style=\"text-align: right;\">1.66797 </td><td style=\"text-align: right;\"> 0.446892  </td><td style=\"text-align: right;\"> 0.851008 </td><td style=\"text-align: right;\">0      </td><td style=\"text-align: right;\">0.59641 </td><td style=\"text-align: right;\"> 0.156736 </td><td style=\"text-align: right;\"> 0.340513</td><td style=\"text-align: right;\">0      </td><td style=\"text-align: right;\">0.694684</td><td style=\"text-align: right;\">-0.00046069</td><td style=\"text-align: right;\">-1.14949  </td><td style=\"text-align: right;\">3.10196</td><td style=\"text-align: right;\">0.714182</td><td style=\"text-align: right;\">0.839843</td><td style=\"text-align: right;\">0.984067</td><td style=\"text-align: right;\">0.917766</td><td style=\"text-align: right;\">0.388553</td><td style=\"text-align: right;\">0.91664 </td><td style=\"text-align: right;\">0.886331</td></tr>\n",
       "<tr><td style=\"text-align: right;\">         1</td><td style=\"text-align: right;\">0.842208</td><td style=\"text-align: right;\">-0.144202</td><td style=\"text-align: right;\">-1.702   </td><td style=\"text-align: right;\">0.685875</td><td style=\"text-align: right;\"> 0.544338 </td><td style=\"text-align: right;\">0.578774</td><td style=\"text-align: right;\">-0.221837 </td><td style=\"text-align: right;\">-0.586474</td><td style=\"text-align: right;\">1.08654</td><td style=\"text-align: right;\">0.909401</td><td style=\"text-align: right;\"> 2.81316   </td><td style=\"text-align: right;\">-0.0706666</td><td style=\"text-align: right;\">0      </td><td style=\"text-align: right;\">1.54986 </td><td style=\"text-align: right;\">-0.85182  </td><td style=\"text-align: right;\"> 1.58811 </td><td style=\"text-align: right;\">0      </td><td style=\"text-align: right;\">1.14986 </td><td style=\"text-align: right;\"> 0.590011  </td><td style=\"text-align: right;\"> 0.0597691</td><td style=\"text-align: right;\">0      </td><td style=\"text-align: right;\">0.872279</td><td style=\"text-align: right;\">0.684341</td><td style=\"text-align: right;\">0.99032 </td><td style=\"text-align: right;\">0.510151</td><td style=\"text-align: right;\">0.720446</td><td style=\"text-align: right;\">0.555454</td><td style=\"text-align: right;\">0.535795</td></tr>\n",
       "<tr><td style=\"text-align: right;\">         1</td><td style=\"text-align: right;\">0.456242</td><td style=\"text-align: right;\"> 1.74043 </td><td style=\"text-align: right;\"> 0.258427</td><td style=\"text-align: right;\">1.45223 </td><td style=\"text-align: right;\">-0.0513728</td><td style=\"text-align: right;\">0.675328</td><td style=\"text-align: right;\">-0.797161 </td><td style=\"text-align: right;\">-1.34763 </td><td style=\"text-align: right;\">2.17308</td><td style=\"text-align: right;\">0.56858 </td><td style=\"text-align: right;\">-0.482712  </td><td style=\"text-align: right;\">-1.73738  </td><td style=\"text-align: right;\">0      </td><td style=\"text-align: right;\">0.539333</td><td style=\"text-align: right;\"> 1.17621  </td><td style=\"text-align: right;\"> 1.06666 </td><td style=\"text-align: right;\">0      </td><td style=\"text-align: right;\">0.980687</td><td style=\"text-align: right;\">-0.125384  </td><td style=\"text-align: right;\"> 0.0869597</td><td style=\"text-align: right;\">3.10196</td><td style=\"text-align: right;\">0.994118</td><td style=\"text-align: right;\">0.960552</td><td style=\"text-align: right;\">1.00353 </td><td style=\"text-align: right;\">0.57609 </td><td style=\"text-align: right;\">0.876509</td><td style=\"text-align: right;\">0.85138 </td><td style=\"text-align: right;\">0.801164</td></tr>\n",
       "<tr><td style=\"text-align: right;\">         0</td><td style=\"text-align: right;\">0.933712</td><td style=\"text-align: right;\"> 1.35084 </td><td style=\"text-align: right;\"> 0.773338</td><td style=\"text-align: right;\">0.532638</td><td style=\"text-align: right;\">-0.679537 </td><td style=\"text-align: right;\">0.718017</td><td style=\"text-align: right;\"> 0.745618 </td><td style=\"text-align: right;\">-1.4962  </td><td style=\"text-align: right;\">1.08654</td><td style=\"text-align: right;\">0.274218</td><td style=\"text-align: right;\"> 1.07537   </td><td style=\"text-align: right;\"> 1.56341  </td><td style=\"text-align: right;\">0      </td><td style=\"text-align: right;\">0.39146 </td><td style=\"text-align: right;\">-0.59422  </td><td style=\"text-align: right;\"> 0.170209</td><td style=\"text-align: right;\">2.54822</td><td style=\"text-align: right;\">0.573711</td><td style=\"text-align: right;\"> 2.12157   </td><td style=\"text-align: right;\"> 0.256763 </td><td style=\"text-align: right;\">0      </td><td style=\"text-align: right;\">0.625972</td><td style=\"text-align: right;\">0.773067</td><td style=\"text-align: right;\">0.987348</td><td style=\"text-align: right;\">0.674946</td><td style=\"text-align: right;\">0.829309</td><td style=\"text-align: right;\">0.645423</td><td style=\"text-align: right;\">0.597715</td></tr>\n",
       "<tr><td style=\"text-align: right;\">         0</td><td style=\"text-align: right;\">0.7335  </td><td style=\"text-align: right;\">-0.998372</td><td style=\"text-align: right;\">-1.68702 </td><td style=\"text-align: right;\">0.951169</td><td style=\"text-align: right;\">-0.591779 </td><td style=\"text-align: right;\">1.14912 </td><td style=\"text-align: right;\">-0.942724 </td><td style=\"text-align: right;\">-0.424039</td><td style=\"text-align: right;\">2.17308</td><td style=\"text-align: right;\">1.04185 </td><td style=\"text-align: right;\"> 1.10063   </td><td style=\"text-align: right;\"> 1.27434  </td><td style=\"text-align: right;\">0      </td><td style=\"text-align: right;\">0.713549</td><td style=\"text-align: right;\"> 0.0201984</td><td style=\"text-align: right;\"> 0.343287</td><td style=\"text-align: right;\">2.54822</td><td style=\"text-align: right;\">1.44706 </td><td style=\"text-align: right;\"> 0.165271  </td><td style=\"text-align: right;\"> 1.40599  </td><td style=\"text-align: right;\">0      </td><td style=\"text-align: right;\">0.798081</td><td style=\"text-align: right;\">0.852638</td><td style=\"text-align: right;\">0.990337</td><td style=\"text-align: right;\">0.799596</td><td style=\"text-align: right;\">0.918739</td><td style=\"text-align: right;\">1.27283 </td><td style=\"text-align: right;\">1.07795 </td></tr>\n",
       "<tr><td style=\"text-align: right;\">         0</td><td style=\"text-align: right;\">0.968118</td><td style=\"text-align: right;\"> 1.719   </td><td style=\"text-align: right;\"> 0.030934</td><td style=\"text-align: right;\">1.80122 </td><td style=\"text-align: right;\">-0.867323 </td><td style=\"text-align: right;\">0.631357</td><td style=\"text-align: right;\">-0.810034 </td><td style=\"text-align: right;\"> 1.20648 </td><td style=\"text-align: right;\">0      </td><td style=\"text-align: right;\">0.88699 </td><td style=\"text-align: right;\"> 0.00103165</td><td style=\"text-align: right;\"> 1.57395  </td><td style=\"text-align: right;\">0      </td><td style=\"text-align: right;\">1.02721 </td><td style=\"text-align: right;\"> 0.512643 </td><td style=\"text-align: right;\"> 0.381009</td><td style=\"text-align: right;\">2.54822</td><td style=\"text-align: right;\">1.08511 </td><td style=\"text-align: right;\"> 0.54837   </td><td style=\"text-align: right;\">-0.86704  </td><td style=\"text-align: right;\">3.10196</td><td style=\"text-align: right;\">0.844315</td><td style=\"text-align: right;\">1.03113 </td><td style=\"text-align: right;\">1.32327 </td><td style=\"text-align: right;\">1.11639 </td><td style=\"text-align: right;\">0.728902</td><td style=\"text-align: right;\">0.805447</td><td style=\"text-align: right;\">1.19234 </td></tr>\n",
       "</tbody>\n",
       "</table>"
      ]
     },
     "metadata": {},
     "output_type": "display_data"
    },
    {
     "data": {
      "text/plain": []
     },
     "execution_count": 68,
     "metadata": {},
     "output_type": "execute_result"
    }
   ],
   "source": [
    "test"
   ]
  },
  {
   "cell_type": "markdown",
   "metadata": {},
   "source": [
    "# Stacking\n",
    "\n",
    "\n",
    "![stacking](images/stacking.png)"
   ]
  },
  {
   "cell_type": "code",
   "execution_count": 69,
   "metadata": {},
   "outputs": [
    {
     "data": {
      "text/html": [
       "<div>\n",
       "<style scoped>\n",
       "    .dataframe tbody tr th:only-of-type {\n",
       "        vertical-align: middle;\n",
       "    }\n",
       "\n",
       "    .dataframe tbody tr th {\n",
       "        vertical-align: top;\n",
       "    }\n",
       "\n",
       "    .dataframe thead th {\n",
       "        text-align: right;\n",
       "    }\n",
       "</style>\n",
       "<table border=\"1\" class=\"dataframe\">\n",
       "  <thead>\n",
       "    <tr style=\"text-align: right;\">\n",
       "      <th></th>\n",
       "      <th>Unnamed: 0</th>\n",
       "      <th>carat</th>\n",
       "      <th>cut</th>\n",
       "      <th>color</th>\n",
       "      <th>clarity</th>\n",
       "      <th>depth</th>\n",
       "      <th>table</th>\n",
       "      <th>price</th>\n",
       "      <th>x</th>\n",
       "      <th>y</th>\n",
       "      <th>z</th>\n",
       "    </tr>\n",
       "  </thead>\n",
       "  <tbody>\n",
       "    <tr>\n",
       "      <th>0</th>\n",
       "      <td>1</td>\n",
       "      <td>0.23</td>\n",
       "      <td>Ideal</td>\n",
       "      <td>E</td>\n",
       "      <td>SI2</td>\n",
       "      <td>61.5</td>\n",
       "      <td>55.0</td>\n",
       "      <td>326</td>\n",
       "      <td>3.95</td>\n",
       "      <td>3.98</td>\n",
       "      <td>2.43</td>\n",
       "    </tr>\n",
       "    <tr>\n",
       "      <th>1</th>\n",
       "      <td>2</td>\n",
       "      <td>0.21</td>\n",
       "      <td>Premium</td>\n",
       "      <td>E</td>\n",
       "      <td>SI1</td>\n",
       "      <td>59.8</td>\n",
       "      <td>61.0</td>\n",
       "      <td>326</td>\n",
       "      <td>3.89</td>\n",
       "      <td>3.84</td>\n",
       "      <td>2.31</td>\n",
       "    </tr>\n",
       "    <tr>\n",
       "      <th>2</th>\n",
       "      <td>3</td>\n",
       "      <td>0.23</td>\n",
       "      <td>Good</td>\n",
       "      <td>E</td>\n",
       "      <td>VS1</td>\n",
       "      <td>56.9</td>\n",
       "      <td>65.0</td>\n",
       "      <td>327</td>\n",
       "      <td>4.05</td>\n",
       "      <td>4.07</td>\n",
       "      <td>2.31</td>\n",
       "    </tr>\n",
       "    <tr>\n",
       "      <th>3</th>\n",
       "      <td>4</td>\n",
       "      <td>0.29</td>\n",
       "      <td>Premium</td>\n",
       "      <td>I</td>\n",
       "      <td>VS2</td>\n",
       "      <td>62.4</td>\n",
       "      <td>58.0</td>\n",
       "      <td>334</td>\n",
       "      <td>4.20</td>\n",
       "      <td>4.23</td>\n",
       "      <td>2.63</td>\n",
       "    </tr>\n",
       "    <tr>\n",
       "      <th>4</th>\n",
       "      <td>5</td>\n",
       "      <td>0.31</td>\n",
       "      <td>Good</td>\n",
       "      <td>J</td>\n",
       "      <td>SI2</td>\n",
       "      <td>63.3</td>\n",
       "      <td>58.0</td>\n",
       "      <td>335</td>\n",
       "      <td>4.34</td>\n",
       "      <td>4.35</td>\n",
       "      <td>2.75</td>\n",
       "    </tr>\n",
       "  </tbody>\n",
       "</table>\n",
       "</div>"
      ],
      "text/plain": [
       "   Unnamed: 0  carat      cut color clarity  depth  table  price     x     y  \\\n",
       "0           1   0.23    Ideal     E     SI2   61.5   55.0    326  3.95  3.98   \n",
       "1           2   0.21  Premium     E     SI1   59.8   61.0    326  3.89  3.84   \n",
       "2           3   0.23     Good     E     VS1   56.9   65.0    327  4.05  4.07   \n",
       "3           4   0.29  Premium     I     VS2   62.4   58.0    334  4.20  4.23   \n",
       "4           5   0.31     Good     J     SI2   63.3   58.0    335  4.34  4.35   \n",
       "\n",
       "      z  \n",
       "0  2.43  \n",
       "1  2.31  \n",
       "2  2.31  \n",
       "3  2.63  \n",
       "4  2.75  "
      ]
     },
     "execution_count": 69,
     "metadata": {},
     "output_type": "execute_result"
    }
   ],
   "source": [
    "df=pd.read_csv('../data/diamonds.csv')\n",
    "\n",
    "df.head()"
   ]
  },
  {
   "cell_type": "code",
   "execution_count": 70,
   "metadata": {},
   "outputs": [
    {
     "data": {
      "text/html": [
       "<div>\n",
       "<style scoped>\n",
       "    .dataframe tbody tr th:only-of-type {\n",
       "        vertical-align: middle;\n",
       "    }\n",
       "\n",
       "    .dataframe tbody tr th {\n",
       "        vertical-align: top;\n",
       "    }\n",
       "\n",
       "    .dataframe thead th {\n",
       "        text-align: right;\n",
       "    }\n",
       "</style>\n",
       "<table border=\"1\" class=\"dataframe\">\n",
       "  <thead>\n",
       "    <tr style=\"text-align: right;\">\n",
       "      <th></th>\n",
       "      <th>carat</th>\n",
       "      <th>depth</th>\n",
       "      <th>table</th>\n",
       "      <th>price</th>\n",
       "      <th>x</th>\n",
       "      <th>y</th>\n",
       "      <th>z</th>\n",
       "    </tr>\n",
       "  </thead>\n",
       "  <tbody>\n",
       "    <tr>\n",
       "      <th>0</th>\n",
       "      <td>0.23</td>\n",
       "      <td>61.5</td>\n",
       "      <td>55.0</td>\n",
       "      <td>326</td>\n",
       "      <td>3.95</td>\n",
       "      <td>3.98</td>\n",
       "      <td>2.43</td>\n",
       "    </tr>\n",
       "    <tr>\n",
       "      <th>1</th>\n",
       "      <td>0.21</td>\n",
       "      <td>59.8</td>\n",
       "      <td>61.0</td>\n",
       "      <td>326</td>\n",
       "      <td>3.89</td>\n",
       "      <td>3.84</td>\n",
       "      <td>2.31</td>\n",
       "    </tr>\n",
       "    <tr>\n",
       "      <th>2</th>\n",
       "      <td>0.23</td>\n",
       "      <td>56.9</td>\n",
       "      <td>65.0</td>\n",
       "      <td>327</td>\n",
       "      <td>4.05</td>\n",
       "      <td>4.07</td>\n",
       "      <td>2.31</td>\n",
       "    </tr>\n",
       "    <tr>\n",
       "      <th>3</th>\n",
       "      <td>0.29</td>\n",
       "      <td>62.4</td>\n",
       "      <td>58.0</td>\n",
       "      <td>334</td>\n",
       "      <td>4.20</td>\n",
       "      <td>4.23</td>\n",
       "      <td>2.63</td>\n",
       "    </tr>\n",
       "    <tr>\n",
       "      <th>4</th>\n",
       "      <td>0.31</td>\n",
       "      <td>63.3</td>\n",
       "      <td>58.0</td>\n",
       "      <td>335</td>\n",
       "      <td>4.34</td>\n",
       "      <td>4.35</td>\n",
       "      <td>2.75</td>\n",
       "    </tr>\n",
       "  </tbody>\n",
       "</table>\n",
       "</div>"
      ],
      "text/plain": [
       "   carat  depth  table  price     x     y     z\n",
       "0   0.23   61.5   55.0    326  3.95  3.98  2.43\n",
       "1   0.21   59.8   61.0    326  3.89  3.84  2.31\n",
       "2   0.23   56.9   65.0    327  4.05  4.07  2.31\n",
       "3   0.29   62.4   58.0    334  4.20  4.23  2.63\n",
       "4   0.31   63.3   58.0    335  4.34  4.35  2.75"
      ]
     },
     "execution_count": 70,
     "metadata": {},
     "output_type": "execute_result"
    }
   ],
   "source": [
    "df=df._get_numeric_data().drop('Unnamed: 0', axis=1)\n",
    "\n",
    "df.head()"
   ]
  },
  {
   "cell_type": "code",
   "execution_count": 71,
   "metadata": {},
   "outputs": [],
   "source": [
    "X=df.drop('price', axis=1)\n",
    "\n",
    "y=df.price"
   ]
  },
  {
   "cell_type": "code",
   "execution_count": 72,
   "metadata": {},
   "outputs": [],
   "source": [
    "X_train, X_temp, y_train, y_temp = tts(X, y,  test_size=0.5)"
   ]
  },
  {
   "cell_type": "code",
   "execution_count": 73,
   "metadata": {},
   "outputs": [],
   "source": [
    "X_meta, X_test, y_meta, y_test = tts(X_temp, y_temp,  test_size=0.5)"
   ]
  },
  {
   "cell_type": "code",
   "execution_count": 74,
   "metadata": {},
   "outputs": [
    {
     "data": {
      "text/html": [
       "<div>\n",
       "<style scoped>\n",
       "    .dataframe tbody tr th:only-of-type {\n",
       "        vertical-align: middle;\n",
       "    }\n",
       "\n",
       "    .dataframe tbody tr th {\n",
       "        vertical-align: top;\n",
       "    }\n",
       "\n",
       "    .dataframe thead th {\n",
       "        text-align: right;\n",
       "    }\n",
       "</style>\n",
       "<table border=\"1\" class=\"dataframe\">\n",
       "  <thead>\n",
       "    <tr style=\"text-align: right;\">\n",
       "      <th></th>\n",
       "      <th>xgbr</th>\n",
       "      <th>lgbmr</th>\n",
       "      <th>ctr</th>\n",
       "      <th>gbr</th>\n",
       "    </tr>\n",
       "  </thead>\n",
       "  <tbody>\n",
       "    <tr>\n",
       "      <th>0</th>\n",
       "      <td>2200.387939</td>\n",
       "      <td>2191.302345</td>\n",
       "      <td>2020.738376</td>\n",
       "      <td>2199.327150</td>\n",
       "    </tr>\n",
       "    <tr>\n",
       "      <th>1</th>\n",
       "      <td>1821.041626</td>\n",
       "      <td>1837.008415</td>\n",
       "      <td>1832.870185</td>\n",
       "      <td>1835.009041</td>\n",
       "    </tr>\n",
       "    <tr>\n",
       "      <th>2</th>\n",
       "      <td>6106.757324</td>\n",
       "      <td>6287.769135</td>\n",
       "      <td>6430.429267</td>\n",
       "      <td>6487.529966</td>\n",
       "    </tr>\n",
       "    <tr>\n",
       "      <th>3</th>\n",
       "      <td>1268.558472</td>\n",
       "      <td>1348.959256</td>\n",
       "      <td>1306.813757</td>\n",
       "      <td>1418.246961</td>\n",
       "    </tr>\n",
       "    <tr>\n",
       "      <th>4</th>\n",
       "      <td>6048.844238</td>\n",
       "      <td>5962.340321</td>\n",
       "      <td>6159.930339</td>\n",
       "      <td>5771.342135</td>\n",
       "    </tr>\n",
       "  </tbody>\n",
       "</table>\n",
       "</div>"
      ],
      "text/plain": [
       "          xgbr        lgbmr          ctr          gbr\n",
       "0  2200.387939  2191.302345  2020.738376  2199.327150\n",
       "1  1821.041626  1837.008415  1832.870185  1835.009041\n",
       "2  6106.757324  6287.769135  6430.429267  6487.529966\n",
       "3  1268.558472  1348.959256  1306.813757  1418.246961\n",
       "4  6048.844238  5962.340321  6159.930339  5771.342135"
      ]
     },
     "execution_count": 74,
     "metadata": {},
     "output_type": "execute_result"
    }
   ],
   "source": [
    "n_df=pd.DataFrame()\n",
    "\n",
    "# predicciones de los modelos\n",
    "\n",
    "n_df['xgbr']=xgbr.fit(X_train, y_train).predict(X_meta)\n",
    "n_df['lgbmr']=lgbmr.fit(X_train, y_train).predict(X_meta)\n",
    "n_df['ctr']=ctr.fit(X_train, y_train).predict(X_meta)\n",
    "n_df['gbr']=gbr.fit(X_train, y_train).predict(X_meta)\n",
    "#mas\n",
    "\n",
    "n_df.head()"
   ]
  },
  {
   "cell_type": "code",
   "execution_count": 75,
   "metadata": {},
   "outputs": [],
   "source": [
    "from sklearn.linear_model import LinearRegression as LinReg"
   ]
  },
  {
   "cell_type": "code",
   "execution_count": 76,
   "metadata": {},
   "outputs": [
    {
     "data": {
      "text/plain": [
       "LinearRegression(copy_X=True, fit_intercept=True, n_jobs=None, normalize=False)"
      ]
     },
     "execution_count": 76,
     "metadata": {},
     "output_type": "execute_result"
    }
   ],
   "source": [
    "linreg=LinReg()\n",
    "\n",
    "linreg.fit(n_df.values, y_meta)   # datos del df de predicciones y el target original (!!!!!dimensiones)"
   ]
  },
  {
   "cell_type": "code",
   "execution_count": 77,
   "metadata": {},
   "outputs": [],
   "source": [
    "# Fase de testeo, solo predict\n",
    "\n",
    "n_df['xgbr']=xgbr.predict(X_test)\n",
    "n_df['lgbmr']=lgbmr.predict(X_test)\n",
    "n_df['ctr']=ctr.predict(X_test)\n",
    "n_df['gbr']=gbr.predict(X_test)"
   ]
  },
  {
   "cell_type": "code",
   "execution_count": 93,
   "metadata": {},
   "outputs": [
    {
     "data": {
      "text/plain": [
       "0.878760639274756"
      ]
     },
     "execution_count": 93,
     "metadata": {},
     "output_type": "execute_result"
    }
   ],
   "source": [
    "xgbr.score(X_meta, y_meta)"
   ]
  },
  {
   "cell_type": "code",
   "execution_count": 94,
   "metadata": {},
   "outputs": [
    {
     "data": {
      "text/plain": [
       "0.8841616516874843"
      ]
     },
     "execution_count": 94,
     "metadata": {},
     "output_type": "execute_result"
    }
   ],
   "source": [
    "lgbmr.score(X_meta, y_meta)"
   ]
  },
  {
   "cell_type": "code",
   "execution_count": 95,
   "metadata": {},
   "outputs": [
    {
     "data": {
      "text/plain": [
       "0.8834585098897341"
      ]
     },
     "execution_count": 95,
     "metadata": {},
     "output_type": "execute_result"
    }
   ],
   "source": [
    "ctr.score(X_meta, y_meta)"
   ]
  },
  {
   "cell_type": "code",
   "execution_count": 96,
   "metadata": {},
   "outputs": [
    {
     "data": {
      "text/plain": [
       "0.8843039121463758"
      ]
     },
     "execution_count": 96,
     "metadata": {},
     "output_type": "execute_result"
    }
   ],
   "source": [
    "gbr.score(X_meta, y_meta)"
   ]
  },
  {
   "cell_type": "code",
   "execution_count": 78,
   "metadata": {},
   "outputs": [
    {
     "data": {
      "text/plain": [
       "array([6112.50417152,  978.59125865, 5745.80910359, ...,  990.51871705,\n",
       "        681.59555078,  917.01501253])"
      ]
     },
     "execution_count": 78,
     "metadata": {},
     "output_type": "execute_result"
    }
   ],
   "source": [
    "# prediccion final\n",
    "\n",
    "linreg.predict(n_df.values)"
   ]
  },
  {
   "cell_type": "code",
   "execution_count": 79,
   "metadata": {},
   "outputs": [
    {
     "data": {
      "text/plain": [
       "0.8882802298386543"
      ]
     },
     "execution_count": 79,
     "metadata": {},
     "output_type": "execute_result"
    }
   ],
   "source": [
    "linreg.score(n_df.values, y_test)"
   ]
  },
  {
   "cell_type": "markdown",
   "metadata": {},
   "source": [
    "#### mlxtend"
   ]
  },
  {
   "cell_type": "code",
   "execution_count": 80,
   "metadata": {},
   "outputs": [],
   "source": [
    "from mlxtend.regressor import StackingRegressor\n",
    "\n",
    "import warnings\n",
    "warnings.simplefilter('ignore')"
   ]
  },
  {
   "cell_type": "code",
   "execution_count": 81,
   "metadata": {},
   "outputs": [],
   "source": [
    "metamodelo=StackingRegressor(regressors=[xgbr, lgbmr, ctr, gbr], meta_regressor=linreg)"
   ]
  },
  {
   "cell_type": "code",
   "execution_count": 82,
   "metadata": {},
   "outputs": [
    {
     "data": {
      "text/plain": [
       "StackingRegressor(meta_regressor=LinearRegression(copy_X=True,\n",
       "                                                  fit_intercept=True,\n",
       "                                                  n_jobs=None,\n",
       "                                                  normalize=False),\n",
       "                  refit=True,\n",
       "                  regressors=[XGBRegressor(base_score=0.5, booster='gbtree',\n",
       "                                           colsample_bylevel=1,\n",
       "                                           colsample_bynode=1,\n",
       "                                           colsample_bytree=1, gamma=0,\n",
       "                                           gpu_id=-1, importance_type='gain',\n",
       "                                           interaction_constraints='',\n",
       "                                           learning_rate=0.300000012,\n",
       "                                           max_delta_step=0, max...\n",
       "                                                        max_leaf_nodes=None,\n",
       "                                                        min_impurity_decrease=0.0,\n",
       "                                                        min_impurity_split=None,\n",
       "                                                        min_samples_leaf=1,\n",
       "                                                        min_samples_split=2,\n",
       "                                                        min_weight_fraction_leaf=0.0,\n",
       "                                                        n_estimators=100,\n",
       "                                                        n_iter_no_change=None,\n",
       "                                                        presort='deprecated',\n",
       "                                                        random_state=None,\n",
       "                                                        subsample=1.0,\n",
       "                                                        tol=0.0001,\n",
       "                                                        validation_fraction=0.1,\n",
       "                                                        verbose=0,\n",
       "                                                        warm_start=False)],\n",
       "                  store_train_meta_features=False,\n",
       "                  use_features_in_secondary=False, verbose=0)"
      ]
     },
     "execution_count": 82,
     "metadata": {},
     "output_type": "execute_result"
    }
   ],
   "source": [
    "metamodelo.fit(X_train, y_train)"
   ]
  },
  {
   "cell_type": "code",
   "execution_count": 83,
   "metadata": {},
   "outputs": [
    {
     "data": {
      "text/plain": [
       "0.8646996619641478"
      ]
     },
     "execution_count": 83,
     "metadata": {},
     "output_type": "execute_result"
    }
   ],
   "source": [
    "metamodelo.score(X_test, y_test)  # R2"
   ]
  },
  {
   "cell_type": "code",
   "execution_count": 84,
   "metadata": {},
   "outputs": [
    {
     "name": "stdout",
     "output_type": "stream",
     "text": [
      "0.8822393761020454\n",
      "0.8864235043397974\n",
      "0.8864728042221086\n",
      "0.8866154763073368\n"
     ]
    }
   ],
   "source": [
    "print(xgbr.score(X_test, y_test))\n",
    "print(lgbmr.score(X_test, y_test))\n",
    "print(ctr.score(X_test, y_test))\n",
    "print(gbr.score(X_test, y_test))"
   ]
  },
  {
   "cell_type": "code",
   "execution_count": null,
   "metadata": {},
   "outputs": [],
   "source": []
  }
 ],
 "metadata": {
  "kernelspec": {
   "display_name": "Python 3",
   "language": "python",
   "name": "python3"
  },
  "language_info": {
   "codemirror_mode": {
    "name": "ipython",
    "version": 3
   },
   "file_extension": ".py",
   "mimetype": "text/x-python",
   "name": "python",
   "nbconvert_exporter": "python",
   "pygments_lexer": "ipython3",
   "version": "3.7.10"
  },
  "varInspector": {
   "cols": {
    "lenName": 16,
    "lenType": 16,
    "lenVar": 40
   },
   "kernels_config": {
    "python": {
     "delete_cmd_postfix": "",
     "delete_cmd_prefix": "del ",
     "library": "var_list.py",
     "varRefreshCmd": "print(var_dic_list())"
    },
    "r": {
     "delete_cmd_postfix": ") ",
     "delete_cmd_prefix": "rm(",
     "library": "var_list.r",
     "varRefreshCmd": "cat(var_dic_list()) "
    }
   },
   "types_to_exclude": [
    "module",
    "function",
    "builtin_function_or_method",
    "instance",
    "_Feature"
   ],
   "window_display": false
  }
 },
 "nbformat": 4,
 "nbformat_minor": 2
}
