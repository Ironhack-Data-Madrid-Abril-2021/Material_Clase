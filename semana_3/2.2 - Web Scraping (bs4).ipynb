{
 "cells": [
  {
   "cell_type": "markdown",
   "metadata": {},
   "source": [
    "# 2.2 - Web Scraping (bs4)"
   ]
  },
  {
   "cell_type": "markdown",
   "metadata": {},
   "source": [
    "**[BeautifulSoup](https://www.crummy.com/software/BeautifulSoup/bs4/doc/)**."
   ]
  },
  {
   "cell_type": "code",
   "execution_count": null,
   "metadata": {},
   "outputs": [],
   "source": [
    "!pip install beautifulsoup4"
   ]
  },
  {
   "cell_type": "code",
   "execution_count": 1,
   "metadata": {},
   "outputs": [],
   "source": [
    "import requests as req\n",
    "\n",
    "from bs4 import BeautifulSoup as bs"
   ]
  },
  {
   "cell_type": "markdown",
   "metadata": {},
   "source": [
    "### Ejemplos Wikipedia\n",
    "\n",
    "**[Países europeos según esperanza de vida](https://en.wikipedia.org/wiki/List_of_European_countries_by_life_expectancy)**"
   ]
  },
  {
   "cell_type": "code",
   "execution_count": 2,
   "metadata": {},
   "outputs": [],
   "source": [
    "url='https://en.wikipedia.org/wiki/List_of_European_countries_by_life_expectancy'"
   ]
  },
  {
   "cell_type": "code",
   "execution_count": 3,
   "metadata": {},
   "outputs": [
    {
     "data": {
      "text/plain": [
       "b'<!DOCTYPE html>\\n<html class=\"client-nojs\" lang=\"en\" dir=\"ltr\">\\n<head>\\n<meta charset=\"UTF-8\"/>\\n<title>List of European countries by life expectancy - Wikipedia</title>\\n<script>document.documentElement.className=\"client-js\";RLCONF={\"wgBreakFrames\":!1,\"wgSeparatorTransformTable\":[\"\",\"\"],\"wgDigitTransformTable\":[\"\",\"\"],\"wgDefaultDateFormat\":\"dmy\",\"wgMonthNames\":[\"\",\"January\",\"February\",\"March\",\"April\",\"May\",\"June\",\"July\",\"August\",\"September\",\"October\",\"November\",\"December\"],\"wgRequestId\":\"6b5ce1f3-6d13-4e06-a29c-89a556c46119\",\"wgCSPNonce\":!1,\"wgCanonicalNamespace\":\"\",\"wgCanonicalSpecialPageName\":!1,\"wgNamespaceNumber\":0,\"wgPageName\":\"List_of_European_countries_by_life_expectancy\",\"wgTitle\":\"List of European countries by life expectancy\",\"wgCurRevisionId\":1008355918,\"wgRevisionId\":1008355918,\"wgArticleId\":22175559,\"wgIsArticle\":!0,\"wgIsRedirect\":!1,\"wgAction\":\"view\",\"wgUserName\":null,\"wgUserGroups\":[\"*\"],\"wgCategories\":[\"Articles with short description\",\"Short description is different from '"
      ]
     },
     "execution_count": 3,
     "metadata": {},
     "output_type": "execute_result"
    }
   ],
   "source": [
    "# usar requests para extraer el html\n",
    "\n",
    "html=req.get(url).content\n",
    "\n",
    "html[:1000]"
   ]
  },
  {
   "cell_type": "code",
   "execution_count": 5,
   "metadata": {
    "scrolled": false
   },
   "outputs": [
    {
     "data": {
      "text/plain": [
       "bs4.BeautifulSoup"
      ]
     },
     "execution_count": 5,
     "metadata": {},
     "output_type": "execute_result"
    }
   ],
   "source": [
    "# bs4 para el manejo del html\n",
    "\n",
    "soup=bs(html, 'html.parser')\n",
    "\n",
    "type(soup)"
   ]
  },
  {
   "cell_type": "code",
   "execution_count": 7,
   "metadata": {},
   "outputs": [
    {
     "data": {
      "text/plain": [
       "bs4.element.Tag"
      ]
     },
     "execution_count": 7,
     "metadata": {},
     "output_type": "execute_result"
    }
   ],
   "source": [
    "# sacamos la tabla\n",
    "\n",
    "tabla=soup.find('table')\n",
    "\n",
    "type(tabla)"
   ]
  },
  {
   "cell_type": "code",
   "execution_count": 18,
   "metadata": {},
   "outputs": [
    {
     "data": {
      "text/plain": [
       "[['Rank',\n",
       "  '',\n",
       "  'Country',\n",
       "  'Life expectancy[1]',\n",
       "  '',\n",
       "  'Influenza vaccination rate, people aged 65 and over, 2016 (%)[2]'],\n",
       " ['1', '', '\\xa0Monaco[3]', '', '89.4'],\n",
       " ['2', '', '\\xa0San Marino[4]', '', '83.4']]"
      ]
     },
     "execution_count": 18,
     "metadata": {},
     "output_type": "execute_result"
    }
   ],
   "source": [
    "# extraccion de filas\n",
    "\n",
    "filas=tabla.find_all('tr')\n",
    "\n",
    "filas=[f.text.strip().split('\\n') for f in filas]\n",
    "\n",
    "filas[:3]"
   ]
  },
  {
   "cell_type": "code",
   "execution_count": 35,
   "metadata": {},
   "outputs": [
    {
     "data": {
      "text/plain": [
       "[['Rank',\n",
       "  'Country',\n",
       "  'Life expectancy[1]',\n",
       "  'Influenza vaccination rate, people aged 65 and over, 2016 (%)[2]'],\n",
       " ['1', 'Monaco[3]', '89.4'],\n",
       " ['2', 'San Marino[4]', '83.4']]"
      ]
     },
     "execution_count": 35,
     "metadata": {},
     "output_type": "execute_result"
    }
   ],
   "source": [
    "# minima limpieza\n",
    "\n",
    "final=[]\n",
    "\n",
    "for e in filas:\n",
    "    tmp=[]\n",
    "    for st in e:\n",
    "        if st!='':\n",
    "            tmp.append(st.replace('\\xa0', ''))\n",
    "            \n",
    "    final.append(tmp)\n",
    "    \n",
    "final[:3]"
   ]
  },
  {
   "cell_type": "code",
   "execution_count": 36,
   "metadata": {
    "scrolled": true
   },
   "outputs": [
    {
     "data": {
      "text/html": [
       "<div>\n",
       "<style scoped>\n",
       "    .dataframe tbody tr th:only-of-type {\n",
       "        vertical-align: middle;\n",
       "    }\n",
       "\n",
       "    .dataframe tbody tr th {\n",
       "        vertical-align: top;\n",
       "    }\n",
       "\n",
       "    .dataframe thead th {\n",
       "        text-align: right;\n",
       "    }\n",
       "</style>\n",
       "<table border=\"1\" class=\"dataframe\">\n",
       "  <thead>\n",
       "    <tr style=\"text-align: right;\">\n",
       "      <th></th>\n",
       "      <th>Rank</th>\n",
       "      <th>Country</th>\n",
       "      <th>Life expectancy[1]</th>\n",
       "      <th>Influenza vaccination rate, people aged 65 and over, 2016 (%)[2]</th>\n",
       "    </tr>\n",
       "  </thead>\n",
       "  <tbody>\n",
       "    <tr>\n",
       "      <th>0</th>\n",
       "      <td>1</td>\n",
       "      <td>Monaco[3]</td>\n",
       "      <td>89.4</td>\n",
       "      <td>None</td>\n",
       "    </tr>\n",
       "    <tr>\n",
       "      <th>1</th>\n",
       "      <td>2</td>\n",
       "      <td>San Marino[4]</td>\n",
       "      <td>83.4</td>\n",
       "      <td>None</td>\n",
       "    </tr>\n",
       "    <tr>\n",
       "      <th>2</th>\n",
       "      <td>3</td>\n",
       "      <td>Switzerland</td>\n",
       "      <td>83.0</td>\n",
       "      <td>None</td>\n",
       "    </tr>\n",
       "    <tr>\n",
       "      <th>3</th>\n",
       "      <td>4</td>\n",
       "      <td>Spain</td>\n",
       "      <td>82.8</td>\n",
       "      <td>56%</td>\n",
       "    </tr>\n",
       "    <tr>\n",
       "      <th>4</th>\n",
       "      <td>5</td>\n",
       "      <td>Liechtenstein</td>\n",
       "      <td>82.7</td>\n",
       "      <td>28%</td>\n",
       "    </tr>\n",
       "  </tbody>\n",
       "</table>\n",
       "</div>"
      ],
      "text/plain": [
       "  Rank        Country Life expectancy[1]  \\\n",
       "0    1      Monaco[3]               89.4   \n",
       "1    2  San Marino[4]               83.4   \n",
       "2    3    Switzerland               83.0   \n",
       "3    4          Spain               82.8   \n",
       "4    5  Liechtenstein               82.7   \n",
       "\n",
       "  Influenza vaccination rate, people aged 65 and over, 2016 (%)[2]  \n",
       "0                                               None                \n",
       "1                                               None                \n",
       "2                                               None                \n",
       "3                                                56%                \n",
       "4                                                28%                "
      ]
     },
     "execution_count": 36,
     "metadata": {},
     "output_type": "execute_result"
    }
   ],
   "source": [
    "import pandas as pd\n",
    "\n",
    "col_names=final[0]\n",
    "\n",
    "data=final[1:]\n",
    "\n",
    "df=pd.DataFrame(data, columns=col_names)\n",
    "\n",
    "df.head()"
   ]
  },
  {
   "cell_type": "markdown",
   "metadata": {},
   "source": [
    "$$$$\n",
    "\n",
    "**[Medallero Barcelona'92](https://es.wikipedia.org/wiki/Juegos_Ol%C3%ADmpicos_de_Barcelona_1992)**"
   ]
  },
  {
   "cell_type": "code",
   "execution_count": 37,
   "metadata": {},
   "outputs": [],
   "source": [
    "url='https://es.wikipedia.org/wiki/Juegos_Ol%C3%ADmpicos_de_Barcelona_1992'"
   ]
  },
  {
   "cell_type": "code",
   "execution_count": 38,
   "metadata": {},
   "outputs": [],
   "source": [
    "response=req.get(url)"
   ]
  },
  {
   "cell_type": "code",
   "execution_count": 39,
   "metadata": {},
   "outputs": [
    {
     "data": {
      "text/plain": [
       "bs4.BeautifulSoup"
      ]
     },
     "execution_count": 39,
     "metadata": {},
     "output_type": "execute_result"
    }
   ],
   "source": [
    "data=response.text    # no importa text o content, bs4 lo reconoce igual\n",
    "\n",
    "soup=bs(data, 'html.parser')\n",
    "\n",
    "type(soup)"
   ]
  },
  {
   "cell_type": "code",
   "execution_count": 40,
   "metadata": {},
   "outputs": [],
   "source": [
    "# todas las tablas\n",
    "\n",
    "tablas=soup.find_all('table')\n",
    "\n",
    "ultima=tablas[-1]"
   ]
  },
  {
   "cell_type": "code",
   "execution_count": 41,
   "metadata": {},
   "outputs": [
    {
     "data": {
      "text/plain": [
       "<a href=\"/wiki/Control_de_autoridades\" title=\"Control de autoridades\">Control de autoridades</a>"
      ]
     },
     "execution_count": 41,
     "metadata": {},
     "output_type": "execute_result"
    }
   ],
   "source": [
    "# miramos un elemento de la tabla\n",
    "\n",
    "elem=ultima.find('a')\n",
    "\n",
    "elem"
   ]
  },
  {
   "cell_type": "code",
   "execution_count": 42,
   "metadata": {},
   "outputs": [
    {
     "data": {
      "text/plain": [
       "'Control de autoridades'"
      ]
     },
     "execution_count": 42,
     "metadata": {},
     "output_type": "execute_result"
    }
   ],
   "source": [
    "elem.text    # contenido de la caja"
   ]
  },
  {
   "cell_type": "code",
   "execution_count": 46,
   "metadata": {},
   "outputs": [
    {
     "name": "stdout",
     "output_type": "stream",
     "text": [
      "None\n"
     ]
    }
   ],
   "source": [
    "print(elem.content)"
   ]
  },
  {
   "cell_type": "code",
   "execution_count": 47,
   "metadata": {},
   "outputs": [
    {
     "data": {
      "text/plain": [
       "['Control de autoridades']"
      ]
     },
     "execution_count": 47,
     "metadata": {},
     "output_type": "execute_result"
    }
   ],
   "source": [
    "elem.contents # contenido de la caja como lista"
   ]
  },
  {
   "cell_type": "code",
   "execution_count": 48,
   "metadata": {},
   "outputs": [
    {
     "data": {
      "text/plain": [
       "{'href': '/wiki/Control_de_autoridades', 'title': 'Control de autoridades'}"
      ]
     },
     "execution_count": 48,
     "metadata": {},
     "output_type": "execute_result"
    }
   ],
   "source": [
    "elem.attrs   # pegatinas en la tapa de la caja"
   ]
  },
  {
   "cell_type": "code",
   "execution_count": 49,
   "metadata": {},
   "outputs": [
    {
     "data": {
      "text/plain": [
       "'/wiki/Control_de_autoridades'"
      ]
     },
     "execution_count": 49,
     "metadata": {},
     "output_type": "execute_result"
    }
   ],
   "source": [
    "elem.attrs['href']"
   ]
  },
  {
   "cell_type": "code",
   "execution_count": 50,
   "metadata": {},
   "outputs": [],
   "source": [
    "medallero=tablas[-4]"
   ]
  },
  {
   "cell_type": "code",
   "execution_count": 67,
   "metadata": {},
   "outputs": [
    {
     "data": {
      "text/plain": [
       "[{'nombre': 'Equipo Unificado', 'oros': '45', 'platas': '38', 'bronces': '29'},\n",
       " {'nombre': 'Estados Unidos', 'oros': '37', 'platas': '34', 'bronces': '37'},\n",
       " {'nombre': 'Alemania', 'oros': '33', 'platas': '21', 'bronces': '28'},\n",
       " {'nombre': 'China', 'oros': '16', 'platas': '22', 'bronces': '16'},\n",
       " {'nombre': 'Cuba', 'oros': '14', 'platas': '6', 'bronces': '11'},\n",
       " {'nombre': 'España', 'oros': '13', 'platas': '7', 'bronces': '2'},\n",
       " {'nombre': 'Corea del Sur', 'oros': '12', 'platas': '5', 'bronces': '12'},\n",
       " {'nombre': 'Hungría', 'oros': '11', 'platas': '12', 'bronces': '7'},\n",
       " {'nombre': 'Francia', 'oros': '8', 'platas': '5', 'bronces': '16'},\n",
       " {'nombre': 'Australia', 'oros': '7', 'platas': '9', 'bronces': '11'}]"
      ]
     },
     "execution_count": 67,
     "metadata": {},
     "output_type": "execute_result"
    }
   ],
   "source": [
    "med_paises=[]\n",
    "\n",
    "\n",
    "for f in medallero.find_all('tr'):   # lista de las filas de la tabla\n",
    "    \n",
    "    fila=[e for e in f.find_all('td')] # elementos dentero de la fila de la tabla\n",
    "    \n",
    "    if len(fila)>0:\n",
    "        \n",
    "        pais={'nombre':fila[1].find('a').text.strip(),\n",
    "              'oros':fila[2].text,\n",
    "              'platas':fila[3].text,\n",
    "              'bronces':fila[4].text}\n",
    "        \n",
    "        med_paises.append(pais)\n",
    "        \n",
    "med_paises"
   ]
  },
  {
   "cell_type": "code",
   "execution_count": 68,
   "metadata": {},
   "outputs": [
    {
     "data": {
      "text/html": [
       "<div>\n",
       "<style scoped>\n",
       "    .dataframe tbody tr th:only-of-type {\n",
       "        vertical-align: middle;\n",
       "    }\n",
       "\n",
       "    .dataframe tbody tr th {\n",
       "        vertical-align: top;\n",
       "    }\n",
       "\n",
       "    .dataframe thead th {\n",
       "        text-align: right;\n",
       "    }\n",
       "</style>\n",
       "<table border=\"1\" class=\"dataframe\">\n",
       "  <thead>\n",
       "    <tr style=\"text-align: right;\">\n",
       "      <th></th>\n",
       "      <th>nombre</th>\n",
       "      <th>oros</th>\n",
       "      <th>platas</th>\n",
       "      <th>bronces</th>\n",
       "    </tr>\n",
       "  </thead>\n",
       "  <tbody>\n",
       "    <tr>\n",
       "      <th>0</th>\n",
       "      <td>Equipo Unificado</td>\n",
       "      <td>45</td>\n",
       "      <td>38</td>\n",
       "      <td>29</td>\n",
       "    </tr>\n",
       "    <tr>\n",
       "      <th>1</th>\n",
       "      <td>Estados Unidos</td>\n",
       "      <td>37</td>\n",
       "      <td>34</td>\n",
       "      <td>37</td>\n",
       "    </tr>\n",
       "    <tr>\n",
       "      <th>2</th>\n",
       "      <td>Alemania</td>\n",
       "      <td>33</td>\n",
       "      <td>21</td>\n",
       "      <td>28</td>\n",
       "    </tr>\n",
       "    <tr>\n",
       "      <th>3</th>\n",
       "      <td>China</td>\n",
       "      <td>16</td>\n",
       "      <td>22</td>\n",
       "      <td>16</td>\n",
       "    </tr>\n",
       "    <tr>\n",
       "      <th>4</th>\n",
       "      <td>Cuba</td>\n",
       "      <td>14</td>\n",
       "      <td>6</td>\n",
       "      <td>11</td>\n",
       "    </tr>\n",
       "    <tr>\n",
       "      <th>5</th>\n",
       "      <td>España</td>\n",
       "      <td>13</td>\n",
       "      <td>7</td>\n",
       "      <td>2</td>\n",
       "    </tr>\n",
       "    <tr>\n",
       "      <th>6</th>\n",
       "      <td>Corea del Sur</td>\n",
       "      <td>12</td>\n",
       "      <td>5</td>\n",
       "      <td>12</td>\n",
       "    </tr>\n",
       "    <tr>\n",
       "      <th>7</th>\n",
       "      <td>Hungría</td>\n",
       "      <td>11</td>\n",
       "      <td>12</td>\n",
       "      <td>7</td>\n",
       "    </tr>\n",
       "    <tr>\n",
       "      <th>8</th>\n",
       "      <td>Francia</td>\n",
       "      <td>8</td>\n",
       "      <td>5</td>\n",
       "      <td>16</td>\n",
       "    </tr>\n",
       "    <tr>\n",
       "      <th>9</th>\n",
       "      <td>Australia</td>\n",
       "      <td>7</td>\n",
       "      <td>9</td>\n",
       "      <td>11</td>\n",
       "    </tr>\n",
       "  </tbody>\n",
       "</table>\n",
       "</div>"
      ],
      "text/plain": [
       "             nombre oros platas bronces\n",
       "0  Equipo Unificado   45     38      29\n",
       "1    Estados Unidos   37     34      37\n",
       "2          Alemania   33     21      28\n",
       "3             China   16     22      16\n",
       "4              Cuba   14      6      11\n",
       "5            España   13      7       2\n",
       "6     Corea del Sur   12      5      12\n",
       "7           Hungría   11     12       7\n",
       "8           Francia    8      5      16\n",
       "9         Australia    7      9      11"
      ]
     },
     "execution_count": 68,
     "metadata": {},
     "output_type": "execute_result"
    }
   ],
   "source": [
    "df=pd.DataFrame(med_paises)\n",
    "\n",
    "df"
   ]
  },
  {
   "cell_type": "markdown",
   "metadata": {},
   "source": [
    "### Ejemplo geolocalización por IP\n",
    "\n",
    "https://tools.keycdn.com/geo"
   ]
  },
  {
   "cell_type": "markdown",
   "metadata": {},
   "source": [
    "**¿Dónde estoy?**"
   ]
  },
  {
   "cell_type": "code",
   "execution_count": 69,
   "metadata": {},
   "outputs": [],
   "source": [
    "url='https://tools.keycdn.com/geo'"
   ]
  },
  {
   "cell_type": "code",
   "execution_count": 70,
   "metadata": {},
   "outputs": [],
   "source": [
    "html=req.get(url).content\n",
    "\n",
    "soup=bs(html, 'html.parser')"
   ]
  },
  {
   "cell_type": "code",
   "execution_count": 71,
   "metadata": {},
   "outputs": [
    {
     "data": {
      "text/plain": [
       "<div class=\"mt-4\" id=\"geoResult\">\n",
       "<div class=\"bg-light medium rounded p-3\">\n",
       "<p class=\"small text-uppercase text-muted font-weight-semi-bold line-height-headings mb-2\">Location</p> <dl class=\"row mb-0\">\n",
       "<dt class=\"col-4\">Country</dt><dd class=\"col-8 text-monospace\">Spain (ES)</dd><dt class=\"col-4\">Continent</dt><dd class=\"col-8 text-monospace\">Europe (EU)</dd><dt class=\"col-4\">Coordinates</dt><dd class=\"col-8 text-monospace\">40.4172 (lat) / -3.684 (long)</dd><dt class=\"col-4\">Time</dt><dd class=\"col-8 text-monospace\">2021-05-11 11:31:52 (Europe/Madrid)</dd> </dl>\n",
       "<p class=\"small text-uppercase text-muted font-weight-semi-bold line-height-headings mt-4 mb-2\">Network</p>\n",
       "<dl class=\"row mb-0\">\n",
       "<dt class=\"col-4\">IP address</dt><dd class=\"col-8 text-monospace\">2.136.118.159</dd><dt class=\"col-4\">Hostname</dt><dd class=\"col-8 text-monospace\">159.red-2-136-118.staticip.rima-tde.net</dd><dt class=\"col-4\">Provider</dt><dd class=\"col-8 text-monospace\">Telefonica De Espana</dd><dt class=\"col-4\">ASN</dt><dd class=\"col-8 text-monospace\">3352</dd> </dl>\n",
       "</div>\n",
       "<div class=\"mapael mt-4\" id=\"geoMap\">\n",
       "<div class=\"map position-relative\"></div>\n",
       "</div>\n",
       "</div>"
      ]
     },
     "execution_count": 71,
     "metadata": {},
     "output_type": "execute_result"
    }
   ],
   "source": [
    "soup.find('div', {'id': 'geoResult'})"
   ]
  },
  {
   "cell_type": "code",
   "execution_count": 72,
   "metadata": {},
   "outputs": [
    {
     "data": {
      "text/plain": [
       "['Spain (ES)',\n",
       " 'Europe (EU)',\n",
       " '40.4172 (lat) / -3.684 (long)',\n",
       " '2021-05-11 11:31:52 (Europe/Madrid)',\n",
       " '2.136.118.159',\n",
       " '159.red-2-136-118.staticip.rima-tde.net',\n",
       " 'Telefonica De Espana',\n",
       " '3352']"
      ]
     },
     "execution_count": 72,
     "metadata": {},
     "output_type": "execute_result"
    }
   ],
   "source": [
    "tabla=soup.find('div', {'id': 'geoResult'})\n",
    "\n",
    "mi_conexion=[e.text for e in tabla.find_all('dd', {'class': 'col-8 text-monospace'})]\n",
    "\n",
    "mi_conexion"
   ]
  },
  {
   "cell_type": "markdown",
   "metadata": {},
   "source": [
    "**Búsqueda según IP**\n",
    "\n",
    "https://tools.keycdn.com/geo?host=137.255.90.7"
   ]
  },
  {
   "cell_type": "code",
   "execution_count": 73,
   "metadata": {},
   "outputs": [],
   "source": [
    "ip='137.255.90.7'\n",
    "\n",
    "url=f'https://tools.keycdn.com/geo?host={ip}'"
   ]
  },
  {
   "cell_type": "code",
   "execution_count": 74,
   "metadata": {},
   "outputs": [],
   "source": [
    "html=req.get(url).content\n",
    "\n",
    "soup=bs(html, 'html.parser')"
   ]
  },
  {
   "cell_type": "code",
   "execution_count": 75,
   "metadata": {},
   "outputs": [
    {
     "data": {
      "text/plain": [
       "['Benin (BJ)',\n",
       " 'Africa (AF)',\n",
       " '9.5 (lat) / 2.25 (long)',\n",
       " '2021-05-11 10:37:18 (Africa/Porto-Novo)',\n",
       " '137.255.90.7',\n",
       " '137.255.90.7',\n",
       " 'Office des Postes et telecommunications du Benin',\n",
       " '28683']"
      ]
     },
     "execution_count": 75,
     "metadata": {},
     "output_type": "execute_result"
    }
   ],
   "source": [
    "[e.text for e in soup.find_all('dd', {'class': 'col-8 text-monospace'})]"
   ]
  },
  {
   "cell_type": "markdown",
   "metadata": {},
   "source": [
    "### Ejemplo terremotos (EMSC)\n",
    "\n",
    "https://www.emsc-csem.org/Earthquake/"
   ]
  },
  {
   "cell_type": "code",
   "execution_count": 76,
   "metadata": {},
   "outputs": [],
   "source": [
    "url='https://www.emsc-csem.org/Earthquake/'"
   ]
  },
  {
   "cell_type": "code",
   "execution_count": 77,
   "metadata": {},
   "outputs": [],
   "source": [
    "html=req.get(url).content\n",
    "\n",
    "soup=bs(html, 'html.parser')"
   ]
  },
  {
   "cell_type": "code",
   "execution_count": 79,
   "metadata": {},
   "outputs": [
    {
     "data": {
      "text/plain": [
       "[<td class=\"tabev0\"></td>,\n",
       " <td class=\"tabev0\"></td>,\n",
       " <td class=\"tabev0\"></td>,\n",
       " <td class=\"tabev6\"><b><i style=\"display:none;\">earthquake</i><a href=\"/Earthquake/earthquake.php?id=982889\">2021-05-11   09:21:15.5</a></b><i class=\"ago\" id=\"ago0\">18min ago</i></td>,\n",
       " <td class=\"tabev1\">16.31 </td>,\n",
       " <td class=\"tabev2\">S  </td>,\n",
       " <td class=\"tabev1\">177.67 </td>,\n",
       " <td class=\"tabev2\">W  </td>,\n",
       " <td class=\"tabev3\">40</td>,\n",
       " <td class=\"tabev5\" id=\"magtyp0\">mb</td>,\n",
       " <td class=\"tabev2\">4.8</td>,\n",
       " <td class=\"tb_region\" id=\"reg0\"> FIJI REGION</td>,\n",
       " <td class=\"comment updatetimeno\" id=\"upd0\" style=\"text-align:right;\">2021-05-11 09:36</td>]"
      ]
     },
     "execution_count": 79,
     "metadata": {},
     "output_type": "execute_result"
    }
   ],
   "source": [
    "tabla=soup.select('#tbody tr')  # selectores de css\n",
    "\n",
    "elem=tabla[0].select('td')\n",
    "\n",
    "elem"
   ]
  },
  {
   "cell_type": "code",
   "execution_count": 80,
   "metadata": {},
   "outputs": [],
   "source": [
    "terremoto={\n",
    "    'date': elem[3].find('a').text,\n",
    "    'region': elem[-2].text,\n",
    "    'lat': elem[4].text + elem[5].text,\n",
    "    'lng': elem[6].text + elem[7].text\n",
    "}"
   ]
  },
  {
   "cell_type": "code",
   "execution_count": 81,
   "metadata": {},
   "outputs": [
    {
     "data": {
      "text/plain": [
       "{'date': '2021-05-11\\xa0\\xa0\\xa009:21:15.5',\n",
       " 'region': '\\xa0FIJI REGION',\n",
       " 'lat': '16.31\\xa0S\\xa0\\xa0',\n",
       " 'lng': '177.67\\xa0W\\xa0\\xa0'}"
      ]
     },
     "execution_count": 81,
     "metadata": {},
     "output_type": "execute_result"
    }
   ],
   "source": [
    "terremoto"
   ]
  },
  {
   "cell_type": "code",
   "execution_count": null,
   "metadata": {},
   "outputs": [],
   "source": [
    "# problema de codificacion\n",
    "\n",
    "!pip install unidecode"
   ]
  },
  {
   "cell_type": "code",
   "execution_count": 83,
   "metadata": {},
   "outputs": [
    {
     "data": {
      "text/plain": [
       "{'date': '2021-05-11   09:21:15.5',\n",
       " 'region': 'FIJI REGION',\n",
       " 'lat': '16.31 S',\n",
       " 'lng': '177.67 W'}"
      ]
     },
     "execution_count": 83,
     "metadata": {},
     "output_type": "execute_result"
    }
   ],
   "source": [
    "import unidecode\n",
    "\n",
    "terremoto={k:unidecode.unidecode(v).strip() for k,v in terremoto.items()}\n",
    "\n",
    "terremoto"
   ]
  },
  {
   "cell_type": "code",
   "execution_count": 84,
   "metadata": {},
   "outputs": [
    {
     "data": {
      "text/plain": [
       "[<a href=\"/Earthquake/earthquake.php?id=982889\">2021-05-11   09:21:15.5</a>,\n",
       " <a href=\"/Earthquake/earthquake.php?id=982886\">2021-05-11   08:54:52.8</a>,\n",
       " <a href=\"/Earthquake/earthquake.php?id=982885\">2021-05-11   08:52:20.9</a>,\n",
       " <a href=\"/Earthquake/earthquake.php?id=982883\">2021-05-11   08:47:40.0</a>,\n",
       " <a href=\"/Earthquake/earthquake.php?id=982884\">2021-05-11   08:43:47.0</a>,\n",
       " <a href=\"/Earthquake/earthquake.php?id=982879\">2021-05-11   08:25:40.3</a>,\n",
       " <a href=\"/Earthquake/earthquake.php?id=982878\">2021-05-11   08:21:25.5</a>,\n",
       " <a href=\"/Earthquake/earthquake.php?id=982875\">2021-05-11   08:02:36.7</a>,\n",
       " <a href=\"/Earthquake/earthquake.php?id=982872\">2021-05-11   07:50:21.0</a>,\n",
       " <a href=\"/Earthquake/earthquake.php?id=982882\">2021-05-11   07:25:52.4</a>,\n",
       " <a href=\"https://www.emsc-csem.org/Earthquake/Testimonies/comments.php?id=982835\" onmouseout=\"info_b2('notshow','');\" onmouseover=\"info_b2('show','See the &lt;b&gt;10 testimonies&lt;/b&gt; for this earthquake');\"><span class=\"\" style=\"vertical-align:middle;\">10</span></a>,\n",
       " <a href=\"/Earthquake/earthquake.php?id=982835\">2021-05-11   07:10:13.3</a>,\n",
       " <a href=\"/Earthquake/earthquake.php?id=982834\">2021-05-11   06:55:41.0</a>,\n",
       " <a href=\"/Earthquake/earthquake.php?id=982874\">2021-05-11   06:35:03.3</a>,\n",
       " <a href=\"/Earthquake/earthquake.php?id=982833\">2021-05-11   06:33:17.5</a>,\n",
       " <a href=\"/Earthquake/earthquake.php?id=982830\">2021-05-11   06:28:02.0</a>,\n",
       " <a href=\"/Earthquake/earthquake.php?id=982826\">2021-05-11   06:19:43.1</a>,\n",
       " <a href=\"/Earthquake/earthquake.php?id=982828\">2021-05-11   06:19:24.6</a>,\n",
       " <a href=\"/Earthquake/earthquake.php?id=982829\">2021-05-11   06:17:47.6</a>,\n",
       " <a href=\"/Earthquake/earthquake.php?id=982831\">2021-05-11   06:15:38.2</a>,\n",
       " <a href=\"https://www.emsc-csem.org/Earthquake/Testimonies/comments.php?id=982824\" onmouseout=\"info_b2('notshow','');\" onmouseover=\"info_b2('show','See the &lt;b&gt;2 testimonies&lt;/b&gt; for this earthquake');\"><span class=\"\" style=\"vertical-align:middle;\">2</span></a>,\n",
       " <a href=\"/Earthquake/earthquake.php?id=982824\">2021-05-11   06:08:30.0</a>,\n",
       " <a href=\"/Earthquake/earthquake.php?id=982823\">2021-05-11   05:55:13.7</a>,\n",
       " <a href=\"/Earthquake/earthquake.php?id=982821\">2021-05-11   05:31:59.1</a>,\n",
       " <a href=\"/Earthquake/earthquake.php?id=982817\">2021-05-11   05:19:02.0</a>,\n",
       " <a href=\"/Earthquake/earthquake.php?id=982818\">2021-05-11   05:16:38.6</a>,\n",
       " <a href=\"/Earthquake/earthquake.php?id=982816\">2021-05-11   05:14:46.8</a>,\n",
       " <a href=\"https://www.emsc-csem.org/Earthquake/Testimonies/comments.php?id=982813\" onmouseout=\"info_b2('notshow','');\" onmouseover=\"info_b2('show','See the &lt;b&gt;2 testimonies&lt;/b&gt; for this earthquake');\"><span class=\"\" style=\"vertical-align:middle;\">2</span></a>,\n",
       " <a href=\"/Earthquake/earthquake.php?id=982813\">2021-05-11   05:12:13.0</a>,\n",
       " <a href=\"/Earthquake/earthquake.php?id=982811\">2021-05-11   05:05:46.3</a>,\n",
       " <a href=\"/Earthquake/earthquake.php?id=982873\">2021-05-11   05:02:24.9</a>,\n",
       " <a href=\"/Earthquake/earthquake.php?id=982819\">2021-05-11   04:59:39.6</a>,\n",
       " <a href=\"/Earthquake/earthquake.php?id=982812\">2021-05-11   04:59:21.0</a>,\n",
       " <a href=\"/Earthquake/earthquake.php?id=982815\">2021-05-11   04:53:05.8</a>,\n",
       " <a href=\"/Earthquake/earthquake.php?id=982810\">2021-05-11   04:47:39.3</a>,\n",
       " <a href=\"/Earthquake/earthquake.php?id=982820\">2021-05-11   04:40:52.4</a>,\n",
       " <a href=\"https://www.emsc-csem.org/Earthquake/Testimonies/comments.php?id=982782\" onmouseout=\"info_b2('notshow','');\" onmouseover=\"info_b2('show','See the &lt;b&gt;testimony&lt;/b&gt; for this earthquake');\"><span class=\"\" style=\"vertical-align:middle;\">1</span></a>,\n",
       " <a href=\"/Earthquake/earthquake.php?id=982782\">2021-05-11   04:37:12.1</a>,\n",
       " <a href=\"/Earthquake/earthquake.php?id=982775\">2021-05-11   04:11:56.4</a>,\n",
       " <a href=\"/Earthquake/earthquake.php?id=982776\">2021-05-11   04:07:30.0</a>,\n",
       " <a href=\"/Earthquake/earthquake.php?id=982772\">2021-05-11   03:52:24.1</a>,\n",
       " <a href=\"https://www.emsc-csem.org/Earthquake/Testimonies/comments.php?id=982769\" onmouseout=\"info_b2('notshow','');\" onmouseover=\"info_b2('show','See the &lt;b&gt;4 testimonies&lt;/b&gt; for this earthquake');\"><span class=\"\" style=\"vertical-align:middle;\">4</span></a>,\n",
       " <a href=\"/Earthquake/earthquake.php?id=982769\">2021-05-11   03:43:48.0</a>,\n",
       " <a href=\"/Earthquake/earthquake.php?id=982768\">2021-05-11   03:27:21.1</a>,\n",
       " <a href=\"/Earthquake/earthquake.php?id=982770\">2021-05-11   03:27:17.1</a>,\n",
       " <a href=\"/Earthquake/earthquake.php?id=982767\">2021-05-11   03:15:37.2</a>,\n",
       " <a href=\"/Earthquake/earthquake.php?id=982764\">2021-05-11   03:01:53.5</a>,\n",
       " <a href=\"/Earthquake/earthquake.php?id=982766\">2021-05-11   02:56:56.1</a>,\n",
       " <a href=\"/Earthquake/earthquake.php?id=982765\">2021-05-11   02:56:20.0</a>,\n",
       " <a href=\"/Earthquake/earthquake.php?id=982771\">2021-05-11   02:40:10.2</a>,\n",
       " <a href=\"/Earthquake/earthquake.php?id=982757\">2021-05-11   02:37:44.2</a>,\n",
       " <a href=\"/Earthquake/earthquake.php?id=982759\">2021-05-11   02:35:31.3</a>,\n",
       " <a href=\"/Earthquake/earthquake.php?id=982762\">2021-05-11   02:34:30.0</a>,\n",
       " <a href=\"/Earthquake/earthquake.php?id=982755\">2021-05-11   02:21:33.0</a>,\n",
       " <a href=\"/Earthquake/earthquake.php?id=982756\">2021-05-11   02:18:51.0</a>]"
      ]
     },
     "execution_count": 84,
     "metadata": {},
     "output_type": "execute_result"
    }
   ],
   "source": [
    "soup.select('#tbody tr td a') # multiseleccion, hacia adentro"
   ]
  },
  {
   "cell_type": "markdown",
   "metadata": {},
   "source": [
    "### Ejemplo LinkedIn\n",
    "\n",
    "https://www.linkedin.com/jobs/search/?f_E=4&f_TPR=r2592000&geoId=105646813&keywords=data%20analyst&location=Espa%C3%B1a&start=25"
   ]
  },
  {
   "cell_type": "code",
   "execution_count": 85,
   "metadata": {},
   "outputs": [],
   "source": [
    "def linkedin_search(keywords, num_pages, country, n_secs, exp):\n",
    "    \n",
    "    URL='https://www.linkedin.com/jobs/search/'\n",
    "    \n",
    "    data=[]\n",
    "    \n",
    "    for i in range(num_pages):\n",
    "        \n",
    "        scrape_url=''.join([URL,                    # url principal\n",
    "                           '?keywords=', keywords,  # palabras claves de busqueda\n",
    "                           f'&location={country}',  # pais\n",
    "                           f'&f_TPR={n_secs}',      # numero de segundos atras\n",
    "                           f'&f_E={exp}',           # experiencia\n",
    "                           f'&start={i*25}'\n",
    "                           ])\n",
    "        \n",
    "        \n",
    "        html=req.get(scrape_url)\n",
    "        \n",
    "        soup=bs(html.text, 'html.parser')\n",
    "        \n",
    "        for card in soup.select('div.result-card__contents'):\n",
    "            \n",
    "            try:\n",
    "                comp_link=card.select('a', class_='result-card__subtitle-link job-result-card__subtitle-link')[0].attrs['href']\n",
    "            except:\n",
    "                comp_link=''\n",
    "                \n",
    "            title=card.findChild('h3', recursive=False)\n",
    "            company=card.findChild('h4', recursive=False)\n",
    "            location=card.findChild('span', recursive=True, attrs={'class': 'job-result-card__location'})\n",
    "            datetime=card.findChild('time', recursive=True).attrs['datetime']\n",
    "            \n",
    "            try:\n",
    "                desc=card.select('p')[0].text\n",
    "            except:\n",
    "                desc=None\n",
    "                \n",
    "                \n",
    "            data.append({'title': title.string,\n",
    "                        'country': country,\n",
    "                        'location': location.string,\n",
    "                        'date': datetime,\n",
    "                        'description': desc,\n",
    "                        'company_link': comp_link,\n",
    "                        'experience': exp,\n",
    "                        'keywords': keywords})\n",
    "            \n",
    "            \n",
    "    return pd.DataFrame(data)\n",
    "            \n",
    "            "
   ]
  },
  {
   "cell_type": "code",
   "execution_count": 86,
   "metadata": {},
   "outputs": [
    {
     "data": {
      "text/html": [
       "<div>\n",
       "<style scoped>\n",
       "    .dataframe tbody tr th:only-of-type {\n",
       "        vertical-align: middle;\n",
       "    }\n",
       "\n",
       "    .dataframe tbody tr th {\n",
       "        vertical-align: top;\n",
       "    }\n",
       "\n",
       "    .dataframe thead th {\n",
       "        text-align: right;\n",
       "    }\n",
       "</style>\n",
       "<table border=\"1\" class=\"dataframe\">\n",
       "  <thead>\n",
       "    <tr style=\"text-align: right;\">\n",
       "      <th></th>\n",
       "      <th>title</th>\n",
       "      <th>country</th>\n",
       "      <th>location</th>\n",
       "      <th>date</th>\n",
       "      <th>description</th>\n",
       "      <th>company_link</th>\n",
       "      <th>experience</th>\n",
       "      <th>keywords</th>\n",
       "    </tr>\n",
       "  </thead>\n",
       "  <tbody>\n",
       "    <tr>\n",
       "      <th>0</th>\n",
       "      <td>Data Scientist - IA</td>\n",
       "      <td>españa</td>\n",
       "      <td>Greater Madrid Metropolitan Area</td>\n",
       "      <td>2021-05-11</td>\n",
       "      <td>En artyco ofrecemos una propuesta de valor dat...</td>\n",
       "      <td>https://es.linkedin.com/company/artyco-the-dat...</td>\n",
       "      <td>3</td>\n",
       "      <td>data</td>\n",
       "    </tr>\n",
       "    <tr>\n",
       "      <th>1</th>\n",
       "      <td>Científico de datos - Navegación Web</td>\n",
       "      <td>españa</td>\n",
       "      <td>Madrid, Community of Madrid, Spain</td>\n",
       "      <td>2021-04-27</td>\n",
       "      <td>Crear análisis predictivos teniendo presente l...</td>\n",
       "      <td>https://es.linkedin.com/company/elcorteingles?...</td>\n",
       "      <td>3</td>\n",
       "      <td>data</td>\n",
       "    </tr>\n",
       "    <tr>\n",
       "      <th>2</th>\n",
       "      <td>Data Scientist</td>\n",
       "      <td>españa</td>\n",
       "      <td>Madrid, Community of Madrid, Spain</td>\n",
       "      <td>2021-05-10</td>\n",
       "      <td>1 or 2 years of experience as Data Scientist o...</td>\n",
       "      <td>https://es.linkedin.com/company/axactorspain?t...</td>\n",
       "      <td>3</td>\n",
       "      <td>data</td>\n",
       "    </tr>\n",
       "    <tr>\n",
       "      <th>3</th>\n",
       "      <td>Data Analyst</td>\n",
       "      <td>españa</td>\n",
       "      <td>Barcelona, Catalonia, Spain</td>\n",
       "      <td>2021-05-11</td>\n",
       "      <td>Extensive knowledge and experience with report...</td>\n",
       "      <td>https://www.linkedin.com/company/raytheonprofe...</td>\n",
       "      <td>3</td>\n",
       "      <td>data</td>\n",
       "    </tr>\n",
       "    <tr>\n",
       "      <th>4</th>\n",
       "      <td>Data Miner</td>\n",
       "      <td>españa</td>\n",
       "      <td>Madrid, Community of Madrid, Spain</td>\n",
       "      <td>2021-05-04</td>\n",
       "      <td>Solid critical thinking, analytical and creati...</td>\n",
       "      <td>https://es.linkedin.com/company/villarroel-&amp;-h...</td>\n",
       "      <td>3</td>\n",
       "      <td>data</td>\n",
       "    </tr>\n",
       "    <tr>\n",
       "      <th>...</th>\n",
       "      <td>...</td>\n",
       "      <td>...</td>\n",
       "      <td>...</td>\n",
       "      <td>...</td>\n",
       "      <td>...</td>\n",
       "      <td>...</td>\n",
       "      <td>...</td>\n",
       "      <td>...</td>\n",
       "    </tr>\n",
       "    <tr>\n",
       "      <th>67</th>\n",
       "      <td>Associate Data Research Analyst</td>\n",
       "      <td>españa</td>\n",
       "      <td>Community of Madrid, Spain</td>\n",
       "      <td>2021-05-10</td>\n",
       "      <td>You will be collaborating with cross functiona...</td>\n",
       "      <td></td>\n",
       "      <td>3</td>\n",
       "      <td>data</td>\n",
       "    </tr>\n",
       "    <tr>\n",
       "      <th>68</th>\n",
       "      <td>Data Analyst (Tarragona)</td>\n",
       "      <td>españa</td>\n",
       "      <td>Greater Tarragona Area</td>\n",
       "      <td>2021-05-06</td>\n",
       "      <td>Empresa conocida situada en Tarragona busca in...</td>\n",
       "      <td>https://es.linkedin.com/company/first-talent-b...</td>\n",
       "      <td>3</td>\n",
       "      <td>data</td>\n",
       "    </tr>\n",
       "    <tr>\n",
       "      <th>69</th>\n",
       "      <td>Técnico/a Gestión de Datos (Data Management)</td>\n",
       "      <td>españa</td>\n",
       "      <td>Vacarisses, Catalonia, Spain</td>\n",
       "      <td>2021-04-28</td>\n",
       "      <td>Integrado en el Departamento de Diseño, formar...</td>\n",
       "      <td>https://es.linkedin.com/company/manpowergroup-...</td>\n",
       "      <td>3</td>\n",
       "      <td>data</td>\n",
       "    </tr>\n",
       "    <tr>\n",
       "      <th>70</th>\n",
       "      <td>Data Scientist- Analista- Programador BI</td>\n",
       "      <td>españa</td>\n",
       "      <td>Canary Islands, Spain</td>\n",
       "      <td>2021-05-07</td>\n",
       "      <td>Buscamos una persona que se incorpore a nuestr...</td>\n",
       "      <td>https://es.linkedin.com/company/grupo-disa?trk...</td>\n",
       "      <td>3</td>\n",
       "      <td>data</td>\n",
       "    </tr>\n",
       "    <tr>\n",
       "      <th>71</th>\n",
       "      <td>Data Scientist</td>\n",
       "      <td>españa</td>\n",
       "      <td>Madrid, Community of Madrid, Spain</td>\n",
       "      <td>2021-05-05</td>\n",
       "      <td>FutuRS es un nuevo concepto de salud en el que...</td>\n",
       "      <td>https://es.linkedin.com/company/futurshealth?t...</td>\n",
       "      <td>3</td>\n",
       "      <td>data</td>\n",
       "    </tr>\n",
       "  </tbody>\n",
       "</table>\n",
       "<p>72 rows × 8 columns</p>\n",
       "</div>"
      ],
      "text/plain": [
       "                                             title country  \\\n",
       "0                              Data Scientist - IA  españa   \n",
       "1             Científico de datos - Navegación Web  españa   \n",
       "2                                   Data Scientist  españa   \n",
       "3                                     Data Analyst  españa   \n",
       "4                                       Data Miner  españa   \n",
       "..                                             ...     ...   \n",
       "67                 Associate Data Research Analyst  españa   \n",
       "68                        Data Analyst (Tarragona)  españa   \n",
       "69  Técnico/a Gestión de Datos (Data Management)    españa   \n",
       "70        Data Scientist- Analista- Programador BI  españa   \n",
       "71                                  Data Scientist  españa   \n",
       "\n",
       "                              location        date  \\\n",
       "0     Greater Madrid Metropolitan Area  2021-05-11   \n",
       "1   Madrid, Community of Madrid, Spain  2021-04-27   \n",
       "2   Madrid, Community of Madrid, Spain  2021-05-10   \n",
       "3          Barcelona, Catalonia, Spain  2021-05-11   \n",
       "4   Madrid, Community of Madrid, Spain  2021-05-04   \n",
       "..                                 ...         ...   \n",
       "67          Community of Madrid, Spain  2021-05-10   \n",
       "68              Greater Tarragona Area  2021-05-06   \n",
       "69        Vacarisses, Catalonia, Spain  2021-04-28   \n",
       "70               Canary Islands, Spain  2021-05-07   \n",
       "71  Madrid, Community of Madrid, Spain  2021-05-05   \n",
       "\n",
       "                                          description  \\\n",
       "0   En artyco ofrecemos una propuesta de valor dat...   \n",
       "1   Crear análisis predictivos teniendo presente l...   \n",
       "2   1 or 2 years of experience as Data Scientist o...   \n",
       "3   Extensive knowledge and experience with report...   \n",
       "4   Solid critical thinking, analytical and creati...   \n",
       "..                                                ...   \n",
       "67  You will be collaborating with cross functiona...   \n",
       "68  Empresa conocida situada en Tarragona busca in...   \n",
       "69  Integrado en el Departamento de Diseño, formar...   \n",
       "70  Buscamos una persona que se incorpore a nuestr...   \n",
       "71  FutuRS es un nuevo concepto de salud en el que...   \n",
       "\n",
       "                                         company_link  experience keywords  \n",
       "0   https://es.linkedin.com/company/artyco-the-dat...           3     data  \n",
       "1   https://es.linkedin.com/company/elcorteingles?...           3     data  \n",
       "2   https://es.linkedin.com/company/axactorspain?t...           3     data  \n",
       "3   https://www.linkedin.com/company/raytheonprofe...           3     data  \n",
       "4   https://es.linkedin.com/company/villarroel-&-h...           3     data  \n",
       "..                                                ...         ...      ...  \n",
       "67                                                              3     data  \n",
       "68  https://es.linkedin.com/company/first-talent-b...           3     data  \n",
       "69  https://es.linkedin.com/company/manpowergroup-...           3     data  \n",
       "70  https://es.linkedin.com/company/grupo-disa?trk...           3     data  \n",
       "71  https://es.linkedin.com/company/futurshealth?t...           3     data  \n",
       "\n",
       "[72 rows x 8 columns]"
      ]
     },
     "execution_count": 86,
     "metadata": {},
     "output_type": "execute_result"
    }
   ],
   "source": [
    "linkedin_search('data', 3, 'españa', 30000, 3)"
   ]
  },
  {
   "cell_type": "code",
   "execution_count": null,
   "metadata": {},
   "outputs": [],
   "source": []
  }
 ],
 "metadata": {
  "kernelspec": {
   "display_name": "Python 3",
   "language": "python",
   "name": "python3"
  },
  "language_info": {
   "codemirror_mode": {
    "name": "ipython",
    "version": 3
   },
   "file_extension": ".py",
   "mimetype": "text/x-python",
   "name": "python",
   "nbconvert_exporter": "python",
   "pygments_lexer": "ipython3",
   "version": "3.7.10"
  },
  "varInspector": {
   "cols": {
    "lenName": 16,
    "lenType": 16,
    "lenVar": 40
   },
   "kernels_config": {
    "python": {
     "delete_cmd_postfix": "",
     "delete_cmd_prefix": "del ",
     "library": "var_list.py",
     "varRefreshCmd": "print(var_dic_list())"
    },
    "r": {
     "delete_cmd_postfix": ") ",
     "delete_cmd_prefix": "rm(",
     "library": "var_list.r",
     "varRefreshCmd": "cat(var_dic_list()) "
    }
   },
   "types_to_exclude": [
    "module",
    "function",
    "builtin_function_or_method",
    "instance",
    "_Feature"
   ],
   "window_display": false
  }
 },
 "nbformat": 4,
 "nbformat_minor": 4
}
