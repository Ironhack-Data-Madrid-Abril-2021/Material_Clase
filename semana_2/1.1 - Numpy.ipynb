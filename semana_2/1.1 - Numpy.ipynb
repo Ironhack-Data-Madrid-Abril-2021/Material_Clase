{
 "cells": [
  {
   "cell_type": "markdown",
   "metadata": {},
   "source": [
    "# 1.1 - Numpy (numerical python)\n",
    "\n",
    "**[Documentación](https://numpy.org/doc/stable/)**\n",
    "\n",
    "**[Código fuente](https://github.com/numpy/numpy)**\n",
    "\n",
    "\n",
    "**array**"
   ]
  },
  {
   "cell_type": "code",
   "execution_count": 1,
   "metadata": {},
   "outputs": [],
   "source": [
    "import numpy as np"
   ]
  },
  {
   "cell_type": "code",
   "execution_count": 2,
   "metadata": {},
   "outputs": [
    {
     "data": {
      "text/plain": [
       "array(4)"
      ]
     },
     "execution_count": 2,
     "metadata": {},
     "output_type": "execute_result"
    }
   ],
   "source": [
    "# numero\n",
    "\n",
    "np.array(4)"
   ]
  },
  {
   "cell_type": "code",
   "execution_count": 3,
   "metadata": {},
   "outputs": [
    {
     "data": {
      "text/plain": [
       "numpy.ndarray"
      ]
     },
     "execution_count": 3,
     "metadata": {},
     "output_type": "execute_result"
    }
   ],
   "source": [
    "type(np.array(4))"
   ]
  },
  {
   "cell_type": "code",
   "execution_count": 4,
   "metadata": {},
   "outputs": [
    {
     "data": {
      "text/plain": [
       "array([0.39087568, 0.58438466, 0.71728971, 0.82207942, 0.28360302])"
      ]
     },
     "execution_count": 4,
     "metadata": {},
     "output_type": "execute_result"
    }
   ],
   "source": [
    "# vector, tensor rango 1\n",
    "\n",
    "vector=np.random.random(5)  # numeros aleatorios distribuidos uniformemente entre 0 y 1\n",
    "\n",
    "vector"
   ]
  },
  {
   "cell_type": "code",
   "execution_count": 5,
   "metadata": {},
   "outputs": [
    {
     "data": {
      "text/plain": [
       "numpy.ndarray"
      ]
     },
     "execution_count": 5,
     "metadata": {},
     "output_type": "execute_result"
    }
   ],
   "source": [
    "type(vector)"
   ]
  },
  {
   "cell_type": "code",
   "execution_count": 6,
   "metadata": {},
   "outputs": [
    {
     "data": {
      "text/plain": [
       "array([[0.56488447, 0.16140527, 0.54472031, 0.59629863],\n",
       "       [0.63465687, 0.90296233, 0.24712042, 0.66350727],\n",
       "       [0.29874605, 0.32513906, 0.64137632, 0.7803085 ],\n",
       "       [0.04622637, 0.24694567, 0.15733062, 0.79776454],\n",
       "       [0.85365999, 0.61579458, 0.52270898, 0.43416907],\n",
       "       [0.50536542, 0.31546537, 0.70723496, 0.71645647],\n",
       "       [0.15316182, 0.47679814, 0.70358688, 0.0773134 ],\n",
       "       [0.96595738, 0.63569536, 0.05475948, 0.60318807],\n",
       "       [0.66396912, 0.74214045, 0.77915619, 0.23141047],\n",
       "       [0.76666809, 0.59622007, 0.95767534, 0.9946334 ]])"
      ]
     },
     "execution_count": 6,
     "metadata": {},
     "output_type": "execute_result"
    }
   ],
   "source": [
    "# matriz\n",
    "\n",
    "matriz=np.random.random((10, 4))   # 10 filas 4 columnas\n",
    "\n",
    "matriz"
   ]
  },
  {
   "cell_type": "code",
   "execution_count": 7,
   "metadata": {},
   "outputs": [
    {
     "data": {
      "text/plain": [
       "(10, 4)"
      ]
     },
     "execution_count": 7,
     "metadata": {},
     "output_type": "execute_result"
    }
   ],
   "source": [
    "matriz.shape  # dimensiones"
   ]
  },
  {
   "cell_type": "code",
   "execution_count": 8,
   "metadata": {},
   "outputs": [
    {
     "data": {
      "text/plain": [
       "40"
      ]
     },
     "execution_count": 8,
     "metadata": {},
     "output_type": "execute_result"
    }
   ],
   "source": [
    "matriz.size   # numero de elemento total"
   ]
  },
  {
   "cell_type": "code",
   "execution_count": 9,
   "metadata": {},
   "outputs": [
    {
     "data": {
      "text/plain": [
       "10"
      ]
     },
     "execution_count": 9,
     "metadata": {},
     "output_type": "execute_result"
    }
   ],
   "source": [
    "len(matriz)"
   ]
  },
  {
   "cell_type": "code",
   "execution_count": 10,
   "metadata": {},
   "outputs": [
    {
     "data": {
      "text/plain": [
       "numpy.ndarray"
      ]
     },
     "execution_count": 10,
     "metadata": {},
     "output_type": "execute_result"
    }
   ],
   "source": [
    "type(matriz)"
   ]
  },
  {
   "cell_type": "code",
   "execution_count": 11,
   "metadata": {},
   "outputs": [
    {
     "data": {
      "text/plain": [
       "array([[[0.39170183, 0.42922052],\n",
       "        [0.88567204, 0.84931746],\n",
       "        [0.85673788, 0.54755016]],\n",
       "\n",
       "       [[0.57731338, 0.88084626],\n",
       "        [0.48932963, 0.26364854],\n",
       "        [0.36934452, 0.94976123]],\n",
       "\n",
       "       [[0.0811413 , 0.36530884],\n",
       "        [0.54498896, 0.31655962],\n",
       "        [0.02854464, 0.15424567]]])"
      ]
     },
     "execution_count": 11,
     "metadata": {},
     "output_type": "execute_result"
    }
   ],
   "source": [
    "cubo=np.random.random((3, 3, 2))\n",
    "\n",
    "cubo"
   ]
  },
  {
   "cell_type": "code",
   "execution_count": 12,
   "metadata": {},
   "outputs": [
    {
     "data": {
      "text/plain": [
       "(3, 3, 2)"
      ]
     },
     "execution_count": 12,
     "metadata": {},
     "output_type": "execute_result"
    }
   ],
   "source": [
    "cubo.shape"
   ]
  },
  {
   "cell_type": "code",
   "execution_count": 13,
   "metadata": {},
   "outputs": [
    {
     "data": {
      "text/plain": [
       "array([[[[0.32234787, 0.90037284],\n",
       "         [0.68094157, 0.06417996],\n",
       "         [0.1065627 , 0.10022161],\n",
       "         [0.38037995, 0.80381974]],\n",
       "\n",
       "        [[0.49122975, 0.28477027],\n",
       "         [0.1943764 , 0.13677492],\n",
       "         [0.87450573, 0.80941916],\n",
       "         [0.50339148, 0.06685415]],\n",
       "\n",
       "        [[0.96498074, 0.04954361],\n",
       "         [0.55824068, 0.09924602],\n",
       "         [0.60781039, 0.97191225],\n",
       "         [0.37083795, 0.5264092 ]]],\n",
       "\n",
       "\n",
       "       [[[0.53822168, 0.13553258],\n",
       "         [0.4695039 , 0.50549595],\n",
       "         [0.55585065, 0.24795924],\n",
       "         [0.62287478, 0.23486481]],\n",
       "\n",
       "        [[0.21022933, 0.69844097],\n",
       "         [0.2051862 , 0.72610105],\n",
       "         [0.70827   , 0.7918871 ],\n",
       "         [0.72096461, 0.9168798 ]],\n",
       "\n",
       "        [[0.87797331, 0.76154227],\n",
       "         [0.16863157, 0.83453338],\n",
       "         [0.99764126, 0.55033328],\n",
       "         [0.92543869, 0.08389561]]]])"
      ]
     },
     "execution_count": 13,
     "metadata": {},
     "output_type": "execute_result"
    }
   ],
   "source": [
    "# tensor de rango 4\n",
    "\n",
    "tensor=np.random.random((2, 3, 4, 2))\n",
    "\n",
    "tensor"
   ]
  },
  {
   "cell_type": "code",
   "execution_count": 14,
   "metadata": {},
   "outputs": [
    {
     "data": {
      "text/plain": [
       "(2, 3, 4, 2)"
      ]
     },
     "execution_count": 14,
     "metadata": {},
     "output_type": "execute_result"
    }
   ],
   "source": [
    "tensor.shape"
   ]
  },
  {
   "cell_type": "code",
   "execution_count": 15,
   "metadata": {},
   "outputs": [
    {
     "data": {
      "text/plain": [
       "array([[[0.32234787, 0.90037284],\n",
       "        [0.68094157, 0.06417996],\n",
       "        [0.1065627 , 0.10022161],\n",
       "        [0.38037995, 0.80381974]],\n",
       "\n",
       "       [[0.49122975, 0.28477027],\n",
       "        [0.1943764 , 0.13677492],\n",
       "        [0.87450573, 0.80941916],\n",
       "        [0.50339148, 0.06685415]],\n",
       "\n",
       "       [[0.96498074, 0.04954361],\n",
       "        [0.55824068, 0.09924602],\n",
       "        [0.60781039, 0.97191225],\n",
       "        [0.37083795, 0.5264092 ]]])"
      ]
     },
     "execution_count": 15,
     "metadata": {},
     "output_type": "execute_result"
    }
   ],
   "source": [
    "tensor[0]"
   ]
  },
  {
   "cell_type": "code",
   "execution_count": 16,
   "metadata": {},
   "outputs": [
    {
     "data": {
      "text/plain": [
       "(4, 2)"
      ]
     },
     "execution_count": 16,
     "metadata": {},
     "output_type": "execute_result"
    }
   ],
   "source": [
    "tensor[0][2].shape"
   ]
  },
  {
   "cell_type": "code",
   "execution_count": 17,
   "metadata": {},
   "outputs": [
    {
     "data": {
      "text/plain": [
       "array([[0.96498074, 0.04954361],\n",
       "       [0.55824068, 0.09924602],\n",
       "       [0.60781039, 0.97191225],\n",
       "       [0.37083795, 0.5264092 ]])"
      ]
     },
     "execution_count": 17,
     "metadata": {},
     "output_type": "execute_result"
    }
   ],
   "source": [
    "tensor[0][2]"
   ]
  },
  {
   "cell_type": "code",
   "execution_count": 18,
   "metadata": {},
   "outputs": [
    {
     "data": {
      "text/plain": [
       "array([2, 3, 4])"
      ]
     },
     "execution_count": 18,
     "metadata": {},
     "output_type": "execute_result"
    }
   ],
   "source": [
    "lst=[2,3,4]\n",
    "\n",
    "array=np.array(lst)\n",
    "\n",
    "array"
   ]
  },
  {
   "cell_type": "code",
   "execution_count": 19,
   "metadata": {},
   "outputs": [
    {
     "ename": "AttributeError",
     "evalue": "'list' object has no attribute 'shape'",
     "output_type": "error",
     "traceback": [
      "\u001b[0;31m---------------------------------------------------------------------------\u001b[0m",
      "\u001b[0;31mAttributeError\u001b[0m                            Traceback (most recent call last)",
      "\u001b[0;32m<ipython-input-19-a701b61c25e9>\u001b[0m in \u001b[0;36m<module>\u001b[0;34m\u001b[0m\n\u001b[0;32m----> 1\u001b[0;31m \u001b[0mlst\u001b[0m\u001b[0;34m.\u001b[0m\u001b[0mshape\u001b[0m\u001b[0;34m\u001b[0m\u001b[0;34m\u001b[0m\u001b[0m\n\u001b[0m",
      "\u001b[0;31mAttributeError\u001b[0m: 'list' object has no attribute 'shape'"
     ]
    }
   ],
   "source": [
    "lst.shape"
   ]
  },
  {
   "cell_type": "code",
   "execution_count": 21,
   "metadata": {},
   "outputs": [
    {
     "data": {
      "text/plain": [
       "(3,)"
      ]
     },
     "execution_count": 21,
     "metadata": {},
     "output_type": "execute_result"
    }
   ],
   "source": [
    "array.shape"
   ]
  },
  {
   "cell_type": "code",
   "execution_count": 22,
   "metadata": {},
   "outputs": [
    {
     "name": "stdout",
     "output_type": "stream",
     "text": [
      "2\n",
      "3\n",
      "4\n"
     ]
    }
   ],
   "source": [
    "for e in array:\n",
    "    print(e)"
   ]
  },
  {
   "cell_type": "code",
   "execution_count": 23,
   "metadata": {},
   "outputs": [
    {
     "ename": "AttributeError",
     "evalue": "'numpy.ndarray' object has no attribute 'pop'",
     "output_type": "error",
     "traceback": [
      "\u001b[0;31m---------------------------------------------------------------------------\u001b[0m",
      "\u001b[0;31mAttributeError\u001b[0m                            Traceback (most recent call last)",
      "\u001b[0;32m<ipython-input-23-de138bd139ef>\u001b[0m in \u001b[0;36m<module>\u001b[0;34m\u001b[0m\n\u001b[0;32m----> 1\u001b[0;31m \u001b[0marray\u001b[0m\u001b[0;34m.\u001b[0m\u001b[0mpop\u001b[0m\u001b[0;34m(\u001b[0m\u001b[0;34m)\u001b[0m\u001b[0;34m\u001b[0m\u001b[0;34m\u001b[0m\u001b[0m\n\u001b[0m",
      "\u001b[0;31mAttributeError\u001b[0m: 'numpy.ndarray' object has no attribute 'pop'"
     ]
    }
   ],
   "source": [
    "array.pop()"
   ]
  },
  {
   "cell_type": "code",
   "execution_count": 24,
   "metadata": {},
   "outputs": [
    {
     "data": {
      "text/plain": [
       "array([[2, 3, 4],\n",
       "       [4, 7, 8]])"
      ]
     },
     "execution_count": 24,
     "metadata": {},
     "output_type": "execute_result"
    }
   ],
   "source": [
    "lst_lst=[[2,3,4], [4,7,8]]\n",
    "\n",
    "array=np.array(lst_lst)\n",
    "\n",
    "array"
   ]
  },
  {
   "cell_type": "code",
   "execution_count": 25,
   "metadata": {},
   "outputs": [
    {
     "data": {
      "text/plain": [
       "(2, 3)"
      ]
     },
     "execution_count": 25,
     "metadata": {},
     "output_type": "execute_result"
    }
   ],
   "source": [
    "array.shape"
   ]
  },
  {
   "cell_type": "markdown",
   "metadata": {},
   "source": [
    "**Operaciones matematicas**"
   ]
  },
  {
   "cell_type": "code",
   "execution_count": 26,
   "metadata": {},
   "outputs": [
    {
     "data": {
      "text/plain": [
       "array([[0.56488447, 0.16140527, 0.54472031, 0.59629863],\n",
       "       [0.63465687, 0.90296233, 0.24712042, 0.66350727],\n",
       "       [0.29874605, 0.32513906, 0.64137632, 0.7803085 ],\n",
       "       [0.04622637, 0.24694567, 0.15733062, 0.79776454],\n",
       "       [0.85365999, 0.61579458, 0.52270898, 0.43416907],\n",
       "       [0.50536542, 0.31546537, 0.70723496, 0.71645647],\n",
       "       [0.15316182, 0.47679814, 0.70358688, 0.0773134 ],\n",
       "       [0.96595738, 0.63569536, 0.05475948, 0.60318807],\n",
       "       [0.66396912, 0.74214045, 0.77915619, 0.23141047],\n",
       "       [0.76666809, 0.59622007, 0.95767534, 0.9946334 ]])"
      ]
     },
     "execution_count": 26,
     "metadata": {},
     "output_type": "execute_result"
    }
   ],
   "source": [
    "matriz"
   ]
  },
  {
   "cell_type": "code",
   "execution_count": 27,
   "metadata": {},
   "outputs": [
    {
     "data": {
      "text/plain": [
       "21.682581179972246"
      ]
     },
     "execution_count": 27,
     "metadata": {},
     "output_type": "execute_result"
    }
   ],
   "source": [
    "matriz.sum()  # suma de todos los elementos"
   ]
  },
  {
   "cell_type": "code",
   "execution_count": 28,
   "metadata": {},
   "outputs": [
    {
     "data": {
      "text/plain": [
       "21.682581179972246"
      ]
     },
     "execution_count": 28,
     "metadata": {},
     "output_type": "execute_result"
    }
   ],
   "source": [
    "np.sum(matriz)"
   ]
  },
  {
   "cell_type": "code",
   "execution_count": 29,
   "metadata": {},
   "outputs": [
    {
     "data": {
      "text/plain": [
       "array([5.45329557, 5.01856629, 5.3156695 , 5.89504982])"
      ]
     },
     "execution_count": 29,
     "metadata": {},
     "output_type": "execute_result"
    }
   ],
   "source": [
    "matriz.sum(axis=0)  # suma por columnas"
   ]
  },
  {
   "cell_type": "code",
   "execution_count": 30,
   "metadata": {},
   "outputs": [
    {
     "data": {
      "text/plain": [
       "array([1.86730867, 2.4482469 , 2.04556993, 1.24826718, 2.42633262,\n",
       "       2.24452223, 1.41086024, 2.25960029, 2.41667623, 3.31519689])"
      ]
     },
     "execution_count": 30,
     "metadata": {},
     "output_type": "execute_result"
    }
   ],
   "source": [
    "matriz.sum(axis=1)  # suma por filas"
   ]
  },
  {
   "cell_type": "code",
   "execution_count": 31,
   "metadata": {},
   "outputs": [
    {
     "ename": "AxisError",
     "evalue": "axis 2 is out of bounds for array of dimension 2",
     "output_type": "error",
     "traceback": [
      "\u001b[0;31m---------------------------------------------------------------------------\u001b[0m",
      "\u001b[0;31mAxisError\u001b[0m                                 Traceback (most recent call last)",
      "\u001b[0;32m<ipython-input-31-ae82d12aa3f7>\u001b[0m in \u001b[0;36m<module>\u001b[0;34m\u001b[0m\n\u001b[0;32m----> 1\u001b[0;31m \u001b[0mmatriz\u001b[0m\u001b[0;34m.\u001b[0m\u001b[0msum\u001b[0m\u001b[0;34m(\u001b[0m\u001b[0maxis\u001b[0m\u001b[0;34m=\u001b[0m\u001b[0;36m2\u001b[0m\u001b[0;34m)\u001b[0m\u001b[0;34m\u001b[0m\u001b[0;34m\u001b[0m\u001b[0m\n\u001b[0m",
      "\u001b[0;32m~/anaconda3/lib/python3.8/site-packages/numpy/core/_methods.py\u001b[0m in \u001b[0;36m_sum\u001b[0;34m(a, axis, dtype, out, keepdims, initial, where)\u001b[0m\n\u001b[1;32m     45\u001b[0m def _sum(a, axis=None, dtype=None, out=None, keepdims=False,\n\u001b[1;32m     46\u001b[0m          initial=_NoValue, where=True):\n\u001b[0;32m---> 47\u001b[0;31m     \u001b[0;32mreturn\u001b[0m \u001b[0mumr_sum\u001b[0m\u001b[0;34m(\u001b[0m\u001b[0ma\u001b[0m\u001b[0;34m,\u001b[0m \u001b[0maxis\u001b[0m\u001b[0;34m,\u001b[0m \u001b[0mdtype\u001b[0m\u001b[0;34m,\u001b[0m \u001b[0mout\u001b[0m\u001b[0;34m,\u001b[0m \u001b[0mkeepdims\u001b[0m\u001b[0;34m,\u001b[0m \u001b[0minitial\u001b[0m\u001b[0;34m,\u001b[0m \u001b[0mwhere\u001b[0m\u001b[0;34m)\u001b[0m\u001b[0;34m\u001b[0m\u001b[0;34m\u001b[0m\u001b[0m\n\u001b[0m\u001b[1;32m     48\u001b[0m \u001b[0;34m\u001b[0m\u001b[0m\n\u001b[1;32m     49\u001b[0m def _prod(a, axis=None, dtype=None, out=None, keepdims=False,\n",
      "\u001b[0;31mAxisError\u001b[0m: axis 2 is out of bounds for array of dimension 2"
     ]
    }
   ],
   "source": [
    "matriz.sum(axis=2) "
   ]
  },
  {
   "cell_type": "code",
   "execution_count": 32,
   "metadata": {},
   "outputs": [
    {
     "data": {
      "text/plain": [
       "array([[0.82092235, 1.7349895 , 1.40428804],\n",
       "       [1.45815964, 0.75297817, 1.31910575],\n",
       "       [0.44645013, 0.86154858, 0.18279031]])"
      ]
     },
     "execution_count": 32,
     "metadata": {},
     "output_type": "execute_result"
    }
   ],
   "source": [
    "cubo.sum(axis=2)  # por capas"
   ]
  },
  {
   "cell_type": "code",
   "execution_count": 33,
   "metadata": {},
   "outputs": [
    {
     "data": {
      "text/plain": [
       "array([[2.13411175, 1.82608813],\n",
       "       [1.43598753, 2.09425603],\n",
       "       [0.6546749 , 0.83611413]])"
      ]
     },
     "execution_count": 33,
     "metadata": {},
     "output_type": "execute_result"
    }
   ],
   "source": [
    "cubo.sum(axis=1)  # por columnas"
   ]
  },
  {
   "cell_type": "code",
   "execution_count": 34,
   "metadata": {},
   "outputs": [
    {
     "data": {
      "text/plain": [
       "array([[1.0501565 , 1.67537561],\n",
       "       [1.91999063, 1.42952562],\n",
       "       [1.25462704, 1.65155705]])"
      ]
     },
     "execution_count": 34,
     "metadata": {},
     "output_type": "execute_result"
    }
   ],
   "source": [
    "cubo.sum(axis=0)  # por filas"
   ]
  },
  {
   "cell_type": "code",
   "execution_count": 35,
   "metadata": {},
   "outputs": [
    {
     "data": {
      "text/plain": [
       "array([[[0.39170183, 0.42922052],\n",
       "        [0.88567204, 0.84931746],\n",
       "        [0.85673788, 0.54755016]],\n",
       "\n",
       "       [[0.57731338, 0.88084626],\n",
       "        [0.48932963, 0.26364854],\n",
       "        [0.36934452, 0.94976123]],\n",
       "\n",
       "       [[0.0811413 , 0.36530884],\n",
       "        [0.54498896, 0.31655962],\n",
       "        [0.02854464, 0.15424567]]])"
      ]
     },
     "execution_count": 35,
     "metadata": {},
     "output_type": "execute_result"
    }
   ],
   "source": [
    "cubo"
   ]
  },
  {
   "cell_type": "code",
   "execution_count": 36,
   "metadata": {},
   "outputs": [
    {
     "data": {
      "text/plain": [
       "array([[0.56488447, 0.16140527, 0.54472031, 0.59629863],\n",
       "       [0.63465687, 0.90296233, 0.24712042, 0.66350727],\n",
       "       [0.29874605, 0.32513906, 0.64137632, 0.7803085 ],\n",
       "       [0.04622637, 0.24694567, 0.15733062, 0.79776454],\n",
       "       [0.85365999, 0.61579458, 0.52270898, 0.43416907],\n",
       "       [0.50536542, 0.31546537, 0.70723496, 0.71645647],\n",
       "       [0.15316182, 0.47679814, 0.70358688, 0.0773134 ],\n",
       "       [0.96595738, 0.63569536, 0.05475948, 0.60318807],\n",
       "       [0.66396912, 0.74214045, 0.77915619, 0.23141047],\n",
       "       [0.76666809, 0.59622007, 0.95767534, 0.9946334 ]])"
      ]
     },
     "execution_count": 36,
     "metadata": {},
     "output_type": "execute_result"
    }
   ],
   "source": [
    "matriz"
   ]
  },
  {
   "cell_type": "code",
   "execution_count": 37,
   "metadata": {},
   "outputs": [
    {
     "data": {
      "text/plain": [
       "0.046226365410877324"
      ]
     },
     "execution_count": 37,
     "metadata": {},
     "output_type": "execute_result"
    }
   ],
   "source": [
    "matriz.min()   # minimo absoluto"
   ]
  },
  {
   "cell_type": "code",
   "execution_count": 38,
   "metadata": {},
   "outputs": [
    {
     "data": {
      "text/plain": [
       "array([0.04622637, 0.16140527, 0.05475948, 0.0773134 ])"
      ]
     },
     "execution_count": 38,
     "metadata": {},
     "output_type": "execute_result"
    }
   ],
   "source": [
    "matriz.min(axis=0)"
   ]
  },
  {
   "cell_type": "code",
   "execution_count": 39,
   "metadata": {},
   "outputs": [
    {
     "data": {
      "text/plain": [
       "array([0.96595738, 0.90296233, 0.95767534, 0.9946334 ])"
      ]
     },
     "execution_count": 39,
     "metadata": {},
     "output_type": "execute_result"
    }
   ],
   "source": [
    "matriz.max(axis=0)  # maximo por columna"
   ]
  },
  {
   "cell_type": "code",
   "execution_count": 40,
   "metadata": {},
   "outputs": [
    {
     "data": {
      "text/plain": [
       "0.5420645294993062"
      ]
     },
     "execution_count": 40,
     "metadata": {},
     "output_type": "execute_result"
    }
   ],
   "source": [
    "matriz.mean()   # media de todos los elementos"
   ]
  },
  {
   "cell_type": "code",
   "execution_count": 41,
   "metadata": {},
   "outputs": [
    {
     "data": {
      "text/plain": [
       "array([0.54532956, 0.50185663, 0.53156695, 0.58950498])"
      ]
     },
     "execution_count": 41,
     "metadata": {},
     "output_type": "execute_result"
    }
   ],
   "source": [
    "matriz.mean(axis=0)"
   ]
  },
  {
   "cell_type": "code",
   "execution_count": 42,
   "metadata": {},
   "outputs": [
    {
     "data": {
      "text/plain": [
       "0.5997433510674395"
      ]
     },
     "execution_count": 42,
     "metadata": {},
     "output_type": "execute_result"
    }
   ],
   "source": [
    "np.median(matriz)"
   ]
  },
  {
   "cell_type": "code",
   "execution_count": 43,
   "metadata": {},
   "outputs": [
    {
     "ename": "AttributeError",
     "evalue": "'numpy.ndarray' object has no attribute 'median'",
     "output_type": "error",
     "traceback": [
      "\u001b[0;31m---------------------------------------------------------------------------\u001b[0m",
      "\u001b[0;31mAttributeError\u001b[0m                            Traceback (most recent call last)",
      "\u001b[0;32m<ipython-input-43-c395c4645d22>\u001b[0m in \u001b[0;36m<module>\u001b[0;34m\u001b[0m\n\u001b[0;32m----> 1\u001b[0;31m \u001b[0mmatriz\u001b[0m\u001b[0;34m.\u001b[0m\u001b[0mmedian\u001b[0m\u001b[0;34m(\u001b[0m\u001b[0;34m)\u001b[0m\u001b[0;34m\u001b[0m\u001b[0;34m\u001b[0m\u001b[0m\n\u001b[0m",
      "\u001b[0;31mAttributeError\u001b[0m: 'numpy.ndarray' object has no attribute 'median'"
     ]
    }
   ],
   "source": [
    "matriz.median()"
   ]
  },
  {
   "cell_type": "code",
   "execution_count": 44,
   "metadata": {},
   "outputs": [
    {
     "data": {
      "text/plain": [
       "array([0.59977067, 0.5365091 , 0.59304832, 0.63334767])"
      ]
     },
     "execution_count": 44,
     "metadata": {},
     "output_type": "execute_result"
    }
   ],
   "source": [
    "np.median(matriz, axis=0)"
   ]
  },
  {
   "cell_type": "code",
   "execution_count": 45,
   "metadata": {},
   "outputs": [
    {
     "data": {
      "text/plain": [
       "0.2645223260626935"
      ]
     },
     "execution_count": 45,
     "metadata": {},
     "output_type": "execute_result"
    }
   ],
   "source": [
    "matriz.std()  # desviacion estandar"
   ]
  },
  {
   "cell_type": "code",
   "execution_count": 46,
   "metadata": {},
   "outputs": [
    {
     "data": {
      "text/plain": [
       "array([0.28438062, 0.22492369, 0.27639401, 0.26085141])"
      ]
     },
     "execution_count": 46,
     "metadata": {},
     "output_type": "execute_result"
    }
   ],
   "source": [
    "matriz.std(axis=0) "
   ]
  },
  {
   "cell_type": "code",
   "execution_count": 47,
   "metadata": {},
   "outputs": [
    {
     "data": {
      "text/plain": [
       "0.06997206098561794"
      ]
     },
     "execution_count": 47,
     "metadata": {},
     "output_type": "execute_result"
    }
   ],
   "source": [
    "matriz.var()"
   ]
  },
  {
   "cell_type": "code",
   "execution_count": 48,
   "metadata": {},
   "outputs": [
    {
     "data": {
      "text/plain": [
       "0.2645223260626935"
      ]
     },
     "execution_count": 48,
     "metadata": {},
     "output_type": "execute_result"
    }
   ],
   "source": [
    "matriz.var() ** 0.5"
   ]
  },
  {
   "cell_type": "code",
   "execution_count": 49,
   "metadata": {},
   "outputs": [],
   "source": [
    "v1=matriz[0]"
   ]
  },
  {
   "cell_type": "code",
   "execution_count": 50,
   "metadata": {},
   "outputs": [],
   "source": [
    "v2=matriz[1]"
   ]
  },
  {
   "cell_type": "code",
   "execution_count": 51,
   "metadata": {},
   "outputs": [
    {
     "data": {
      "text/plain": [
       "(array([0.56488447, 0.16140527, 0.54472031, 0.59629863]),\n",
       " array([0.63465687, 0.90296233, 0.24712042, 0.66350727]))"
      ]
     },
     "execution_count": 51,
     "metadata": {},
     "output_type": "execute_result"
    }
   ],
   "source": [
    "v1, v2"
   ]
  },
  {
   "cell_type": "code",
   "execution_count": 52,
   "metadata": {},
   "outputs": [
    {
     "data": {
      "text/plain": [
       "array([1.19954134, 1.06436759, 0.79184073, 1.25980591])"
      ]
     },
     "execution_count": 52,
     "metadata": {},
     "output_type": "execute_result"
    }
   ],
   "source": [
    "np.add(v1, v2)  # suma de vectores, elemento a elemento (element wise)"
   ]
  },
  {
   "cell_type": "code",
   "execution_count": 53,
   "metadata": {},
   "outputs": [
    {
     "data": {
      "text/plain": [
       "array([-0.0697724 , -0.74155706,  0.29759988, -0.06720864])"
      ]
     },
     "execution_count": 53,
     "metadata": {},
     "output_type": "execute_result"
    }
   ],
   "source": [
    "np.subtract(v1, v2)  # resta de vectores"
   ]
  },
  {
   "cell_type": "code",
   "execution_count": 54,
   "metadata": {},
   "outputs": [
    {
     "data": {
      "text/plain": [
       "5.821986800821896e-15"
      ]
     },
     "execution_count": 54,
     "metadata": {},
     "output_type": "execute_result"
    }
   ],
   "source": [
    "np.prod(matriz)"
   ]
  },
  {
   "cell_type": "code",
   "execution_count": 55,
   "metadata": {},
   "outputs": [
    {
     "data": {
      "text/plain": [
       "1000.0"
      ]
     },
     "execution_count": 55,
     "metadata": {},
     "output_type": "execute_result"
    }
   ],
   "source": [
    "1e3    # notacion cientifica"
   ]
  },
  {
   "cell_type": "code",
   "execution_count": 56,
   "metadata": {},
   "outputs": [
    {
     "data": {
      "text/plain": [
       "0.001"
      ]
     },
     "execution_count": 56,
     "metadata": {},
     "output_type": "execute_result"
    }
   ],
   "source": [
    "1e-3"
   ]
  },
  {
   "cell_type": "code",
   "execution_count": 57,
   "metadata": {},
   "outputs": [
    {
     "data": {
      "text/plain": [
       "array([0.35850781, 0.14574287, 0.13461151, 0.39564848])"
      ]
     },
     "execution_count": 57,
     "metadata": {},
     "output_type": "execute_result"
    }
   ],
   "source": [
    "np.multiply(v1, v2)  # producto elemento a elemento"
   ]
  },
  {
   "cell_type": "code",
   "execution_count": 58,
   "metadata": {},
   "outputs": [
    {
     "data": {
      "text/plain": [
       "1.0345106759154332"
      ]
     },
     "execution_count": 58,
     "metadata": {},
     "output_type": "execute_result"
    }
   ],
   "source": [
    "np.dot(v1, v2)   # producto escalar"
   ]
  },
  {
   "cell_type": "code",
   "execution_count": 59,
   "metadata": {},
   "outputs": [
    {
     "data": {
      "text/plain": [
       "array([-0.45197538,  0.206116  ,  0.40763243])"
      ]
     },
     "execution_count": 59,
     "metadata": {},
     "output_type": "execute_result"
    }
   ],
   "source": [
    "np.cross(v1[:3], v2[:3])    # producto vectorial, producto aspa"
   ]
  },
  {
   "cell_type": "code",
   "execution_count": 60,
   "metadata": {},
   "outputs": [
    {
     "data": {
      "text/plain": [
       "array([[0.56488447, 0.63465687, 0.29874605, 0.04622637, 0.85365999,\n",
       "        0.50536542, 0.15316182, 0.96595738, 0.66396912, 0.76666809],\n",
       "       [0.16140527, 0.90296233, 0.32513906, 0.24694567, 0.61579458,\n",
       "        0.31546537, 0.47679814, 0.63569536, 0.74214045, 0.59622007],\n",
       "       [0.54472031, 0.24712042, 0.64137632, 0.15733062, 0.52270898,\n",
       "        0.70723496, 0.70358688, 0.05475948, 0.77915619, 0.95767534],\n",
       "       [0.59629863, 0.66350727, 0.7803085 , 0.79776454, 0.43416907,\n",
       "        0.71645647, 0.0773134 , 0.60318807, 0.23141047, 0.9946334 ]])"
      ]
     },
     "execution_count": 60,
     "metadata": {},
     "output_type": "execute_result"
    }
   ],
   "source": [
    "matriz.T   # matriz traspuesta"
   ]
  },
  {
   "cell_type": "code",
   "execution_count": 61,
   "metadata": {},
   "outputs": [
    {
     "data": {
      "text/plain": [
       "array([[0.56488447, 0.63465687, 0.29874605, 0.04622637, 0.85365999,\n",
       "        0.50536542, 0.15316182, 0.96595738, 0.66396912, 0.76666809],\n",
       "       [0.16140527, 0.90296233, 0.32513906, 0.24694567, 0.61579458,\n",
       "        0.31546537, 0.47679814, 0.63569536, 0.74214045, 0.59622007],\n",
       "       [0.54472031, 0.24712042, 0.64137632, 0.15733062, 0.52270898,\n",
       "        0.70723496, 0.70358688, 0.05475948, 0.77915619, 0.95767534],\n",
       "       [0.59629863, 0.66350727, 0.7803085 , 0.79776454, 0.43416907,\n",
       "        0.71645647, 0.0773134 , 0.60318807, 0.23141047, 0.9946334 ]])"
      ]
     },
     "execution_count": 61,
     "metadata": {},
     "output_type": "execute_result"
    }
   ],
   "source": [
    "matriz.transpose()"
   ]
  },
  {
   "cell_type": "code",
   "execution_count": 62,
   "metadata": {},
   "outputs": [
    {
     "data": {
      "text/plain": [
       "array([[0.99743839, 1.03451068, 1.03590376, 0.62737797, 1.12523637,\n",
       "        1.14885811, 0.5928364 , 1.03776772, 1.05726317, 1.64407569],\n",
       "       [1.03451068, 1.71944072, 1.15942711, 0.8205227 , 1.51506689,\n",
       "        1.25573327, 0.75290465, 1.60081231, 1.43760537, 1.92154306],\n",
       "       [1.03590376, 1.15942711, 1.21520955, 0.8175122 , 1.1292854 ,\n",
       "        1.26620687, 0.71237446, 1.00105956, 1.11996089, 1.81324467],\n",
       "       [0.62737797, 0.8205227 , 0.8175122 , 0.72430022, 0.62013221,\n",
       "        0.78409729, 0.297197  , 0.69145231, 0.52115744, 1.12682914],\n",
       "       [1.12523637, 1.51506689, 1.1292854 , 0.62013221, 1.5696658 ,\n",
       "        1.30641341, 0.82569609, 1.5065658 , 1.53155314, 1.95404751],\n",
       "       [1.14885811, 1.25573327, 1.26620687, 0.78409729, 1.30641341,\n",
       "        1.36840378, 0.78080892, 1.15958715, 1.28650868, 1.96544734],\n",
       "       [0.5928364 , 0.75290465, 0.71237446, 0.297197  , 0.82569609,\n",
       "        0.78080892, 0.75180687, 0.53620873, 1.02164111, 1.15240719],\n",
       "       [1.03776772, 1.60081231, 1.00105956, 0.69145231, 1.5065658 ,\n",
       "        1.15958715, 0.53620873, 1.70401671, 1.29539134, 1.77197583],\n",
       "       [1.05726317, 1.43760537, 1.11996089, 0.52115744, 1.53155314,\n",
       "        1.28650868, 1.02164111, 1.29539134, 1.65226261, 1.92787021],\n",
       "       [1.64407569, 1.92154306, 1.81324467, 1.12682914, 1.95404751,\n",
       "        1.96544734, 1.15240719, 1.77197583, 1.92787021, 2.84969597]])"
      ]
     },
     "execution_count": 62,
     "metadata": {},
     "output_type": "execute_result"
    }
   ],
   "source": [
    "np.matmul(matriz, matriz.T)    # producto matricial"
   ]
  },
  {
   "cell_type": "code",
   "execution_count": 63,
   "metadata": {},
   "outputs": [
    {
     "data": {
      "text/plain": [
       "array([[0.99743839, 1.03451068, 1.03590376, 0.62737797, 1.12523637,\n",
       "        1.14885811, 0.5928364 , 1.03776772, 1.05726317, 1.64407569],\n",
       "       [1.03451068, 1.71944072, 1.15942711, 0.8205227 , 1.51506689,\n",
       "        1.25573327, 0.75290465, 1.60081231, 1.43760537, 1.92154306],\n",
       "       [1.03590376, 1.15942711, 1.21520955, 0.8175122 , 1.1292854 ,\n",
       "        1.26620687, 0.71237446, 1.00105956, 1.11996089, 1.81324467],\n",
       "       [0.62737797, 0.8205227 , 0.8175122 , 0.72430022, 0.62013221,\n",
       "        0.78409729, 0.297197  , 0.69145231, 0.52115744, 1.12682914],\n",
       "       [1.12523637, 1.51506689, 1.1292854 , 0.62013221, 1.5696658 ,\n",
       "        1.30641341, 0.82569609, 1.5065658 , 1.53155314, 1.95404751],\n",
       "       [1.14885811, 1.25573327, 1.26620687, 0.78409729, 1.30641341,\n",
       "        1.36840378, 0.78080892, 1.15958715, 1.28650868, 1.96544734],\n",
       "       [0.5928364 , 0.75290465, 0.71237446, 0.297197  , 0.82569609,\n",
       "        0.78080892, 0.75180687, 0.53620873, 1.02164111, 1.15240719],\n",
       "       [1.03776772, 1.60081231, 1.00105956, 0.69145231, 1.5065658 ,\n",
       "        1.15958715, 0.53620873, 1.70401671, 1.29539134, 1.77197583],\n",
       "       [1.05726317, 1.43760537, 1.11996089, 0.52115744, 1.53155314,\n",
       "        1.28650868, 1.02164111, 1.29539134, 1.65226261, 1.92787021],\n",
       "       [1.64407569, 1.92154306, 1.81324467, 1.12682914, 1.95404751,\n",
       "        1.96544734, 1.15240719, 1.77197583, 1.92787021, 2.84969597]])"
      ]
     },
     "execution_count": 63,
     "metadata": {},
     "output_type": "execute_result"
    }
   ],
   "source": [
    "np.dot(matriz, matriz.T) "
   ]
  },
  {
   "cell_type": "code",
   "execution_count": 64,
   "metadata": {},
   "outputs": [
    {
     "data": {
      "text/plain": [
       "(10, 10)"
      ]
     },
     "execution_count": 64,
     "metadata": {},
     "output_type": "execute_result"
    }
   ],
   "source": [
    "np.dot(matriz, matriz.T).shape"
   ]
  },
  {
   "cell_type": "code",
   "execution_count": 65,
   "metadata": {},
   "outputs": [
    {
     "data": {
      "text/plain": [
       "21.682581179972246"
      ]
     },
     "execution_count": 65,
     "metadata": {},
     "output_type": "execute_result"
    }
   ],
   "source": [
    "matriz.cumsum()[-1]    # suma acumulada, sumatorio"
   ]
  },
  {
   "cell_type": "code",
   "execution_count": 66,
   "metadata": {},
   "outputs": [
    {
     "data": {
      "text/plain": [
       "5.821986800821896e-15"
      ]
     },
     "execution_count": 66,
     "metadata": {},
     "output_type": "execute_result"
    }
   ],
   "source": [
    "matriz.cumprod()[-1]   # producto acumulado, productorio"
   ]
  },
  {
   "cell_type": "code",
   "execution_count": 67,
   "metadata": {},
   "outputs": [
    {
     "data": {
      "text/plain": [
       "float"
      ]
     },
     "execution_count": 67,
     "metadata": {},
     "output_type": "execute_result"
    }
   ],
   "source": [
    "type(np.inf)   # el infinito"
   ]
  },
  {
   "cell_type": "markdown",
   "metadata": {},
   "source": [
    "**Dimensiones**"
   ]
  },
  {
   "cell_type": "code",
   "execution_count": 68,
   "metadata": {},
   "outputs": [
    {
     "data": {
      "text/plain": [
       "(10, 4)"
      ]
     },
     "execution_count": 68,
     "metadata": {},
     "output_type": "execute_result"
    }
   ],
   "source": [
    "matriz.shape"
   ]
  },
  {
   "cell_type": "code",
   "execution_count": 69,
   "metadata": {},
   "outputs": [
    {
     "data": {
      "text/plain": [
       "(4, 10)"
      ]
     },
     "execution_count": 69,
     "metadata": {},
     "output_type": "execute_result"
    }
   ],
   "source": [
    "matriz.T.shape"
   ]
  },
  {
   "cell_type": "code",
   "execution_count": 70,
   "metadata": {},
   "outputs": [
    {
     "data": {
      "text/plain": [
       "array([0.56488447, 0.16140527, 0.54472031, 0.59629863, 0.63465687,\n",
       "       0.90296233, 0.24712042, 0.66350727, 0.29874605, 0.32513906,\n",
       "       0.64137632, 0.7803085 , 0.04622637, 0.24694567, 0.15733062,\n",
       "       0.79776454, 0.85365999, 0.61579458, 0.52270898, 0.43416907,\n",
       "       0.50536542, 0.31546537, 0.70723496, 0.71645647, 0.15316182,\n",
       "       0.47679814, 0.70358688, 0.0773134 , 0.96595738, 0.63569536,\n",
       "       0.05475948, 0.60318807, 0.66396912, 0.74214045, 0.77915619,\n",
       "       0.23141047, 0.76666809, 0.59622007, 0.95767534, 0.9946334 ])"
      ]
     },
     "execution_count": 70,
     "metadata": {},
     "output_type": "execute_result"
    }
   ],
   "source": [
    "matriz.reshape((40, ))    # redimensionar a proposito, con las dimensiones"
   ]
  },
  {
   "cell_type": "code",
   "execution_count": 71,
   "metadata": {},
   "outputs": [
    {
     "data": {
      "text/plain": [
       "array([0.56488447, 0.16140527, 0.54472031, 0.59629863, 0.63465687,\n",
       "       0.90296233, 0.24712042, 0.66350727, 0.29874605, 0.32513906,\n",
       "       0.64137632, 0.7803085 , 0.04622637, 0.24694567, 0.15733062,\n",
       "       0.79776454, 0.85365999, 0.61579458, 0.52270898, 0.43416907,\n",
       "       0.50536542, 0.31546537, 0.70723496, 0.71645647, 0.15316182,\n",
       "       0.47679814, 0.70358688, 0.0773134 , 0.96595738, 0.63569536,\n",
       "       0.05475948, 0.60318807, 0.66396912, 0.74214045, 0.77915619,\n",
       "       0.23141047, 0.76666809, 0.59622007, 0.95767534, 0.9946334 ])"
      ]
     },
     "execution_count": 71,
     "metadata": {},
     "output_type": "execute_result"
    }
   ],
   "source": [
    "matriz.flatten()    # aplanar la matriz, convertir en lista"
   ]
  },
  {
   "cell_type": "code",
   "execution_count": 72,
   "metadata": {},
   "outputs": [
    {
     "data": {
      "text/plain": [
       "array([[0.56488447, 0.16140527],\n",
       "       [0.54472031, 0.59629863],\n",
       "       [0.63465687, 0.90296233],\n",
       "       [0.24712042, 0.66350727],\n",
       "       [0.29874605, 0.32513906],\n",
       "       [0.64137632, 0.7803085 ],\n",
       "       [0.04622637, 0.24694567],\n",
       "       [0.15733062, 0.79776454],\n",
       "       [0.85365999, 0.61579458],\n",
       "       [0.52270898, 0.43416907],\n",
       "       [0.50536542, 0.31546537],\n",
       "       [0.70723496, 0.71645647],\n",
       "       [0.15316182, 0.47679814],\n",
       "       [0.70358688, 0.0773134 ],\n",
       "       [0.96595738, 0.63569536],\n",
       "       [0.05475948, 0.60318807],\n",
       "       [0.66396912, 0.74214045],\n",
       "       [0.77915619, 0.23141047],\n",
       "       [0.76666809, 0.59622007],\n",
       "       [0.95767534, 0.9946334 ]])"
      ]
     },
     "execution_count": 72,
     "metadata": {},
     "output_type": "execute_result"
    }
   ],
   "source": [
    "matriz.reshape((20, 2))"
   ]
  },
  {
   "cell_type": "code",
   "execution_count": 73,
   "metadata": {},
   "outputs": [
    {
     "data": {
      "text/plain": [
       "array([[0.04370967, 0.66948833, 0.61062024],\n",
       "       [0.49635795, 0.94415394, 0.85984226],\n",
       "       [0.77928242, 0.44368142, 0.55852551],\n",
       "       [0.15948875, 0.78451053, 0.14099423],\n",
       "       [0.98430749, 0.38323413, 0.98068504],\n",
       "       [0.69123445, 0.67135661, 0.33326616],\n",
       "       [0.37398047, 0.99614935, 0.42474268],\n",
       "       [0.93305891, 0.90758006, 0.04412411],\n",
       "       [0.83186516, 0.5704741 , 0.86322272],\n",
       "       [0.55765097, 0.63724047, 0.00725724],\n",
       "       [0.10212181, 0.09940909, 0.80584864],\n",
       "       [0.71427913, 0.82486653, 0.32691777],\n",
       "       [0.05750261, 0.21790622, 0.63429055],\n",
       "       [0.9023375 , 0.05564282, 0.70522701],\n",
       "       [0.98310556, 0.78333359, 0.53491334],\n",
       "       [0.26775636, 0.90533115, 0.15175889],\n",
       "       [0.46825046, 0.63572374, 0.6343884 ],\n",
       "       [0.43491027, 0.19129017, 0.51607149],\n",
       "       [0.96125742, 0.52133437, 0.75540719],\n",
       "       [0.31115172, 0.40388959, 0.37306146]])"
      ]
     },
     "execution_count": 73,
     "metadata": {},
     "output_type": "execute_result"
    }
   ],
   "source": [
    "matriz=np.random.random((20, 3))   # matriz de 20x3 con numeros entere 0 y 1\n",
    "\n",
    "matriz"
   ]
  },
  {
   "cell_type": "code",
   "execution_count": 74,
   "metadata": {},
   "outputs": [
    {
     "data": {
      "text/plain": [
       "array([[[0.04370967, 0.66948833, 0.61062024, 0.49635795, 0.94415394,\n",
       "         0.85984226, 0.77928242, 0.44368142, 0.55852551, 0.15948875],\n",
       "        [0.78451053, 0.14099423, 0.98430749, 0.38323413, 0.98068504,\n",
       "         0.69123445, 0.67135661, 0.33326616, 0.37398047, 0.99614935]],\n",
       "\n",
       "       [[0.42474268, 0.93305891, 0.90758006, 0.04412411, 0.83186516,\n",
       "         0.5704741 , 0.86322272, 0.55765097, 0.63724047, 0.00725724],\n",
       "        [0.10212181, 0.09940909, 0.80584864, 0.71427913, 0.82486653,\n",
       "         0.32691777, 0.05750261, 0.21790622, 0.63429055, 0.9023375 ]],\n",
       "\n",
       "       [[0.05564282, 0.70522701, 0.98310556, 0.78333359, 0.53491334,\n",
       "         0.26775636, 0.90533115, 0.15175889, 0.46825046, 0.63572374],\n",
       "        [0.6343884 , 0.43491027, 0.19129017, 0.51607149, 0.96125742,\n",
       "         0.52133437, 0.75540719, 0.31115172, 0.40388959, 0.37306146]]])"
      ]
     },
     "execution_count": 74,
     "metadata": {},
     "output_type": "execute_result"
    }
   ],
   "source": [
    "matriz.reshape((3, 2, 10))"
   ]
  },
  {
   "cell_type": "code",
   "execution_count": null,
   "metadata": {},
   "outputs": [],
   "source": []
  }
 ],
 "metadata": {
  "kernelspec": {
   "display_name": "clase",
   "language": "python",
   "name": "clase"
  },
  "language_info": {
   "codemirror_mode": {
    "name": "ipython",
    "version": 3
   },
   "file_extension": ".py",
   "mimetype": "text/x-python",
   "name": "python",
   "nbconvert_exporter": "python",
   "pygments_lexer": "ipython3",
   "version": "3.7.9"
  },
  "varInspector": {
   "cols": {
    "lenName": 16,
    "lenType": 16,
    "lenVar": 40
   },
   "kernels_config": {
    "python": {
     "delete_cmd_postfix": "",
     "delete_cmd_prefix": "del ",
     "library": "var_list.py",
     "varRefreshCmd": "print(var_dic_list())"
    },
    "r": {
     "delete_cmd_postfix": ") ",
     "delete_cmd_prefix": "rm(",
     "library": "var_list.r",
     "varRefreshCmd": "cat(var_dic_list()) "
    }
   },
   "types_to_exclude": [
    "module",
    "function",
    "builtin_function_or_method",
    "instance",
    "_Feature"
   ],
   "window_display": false
  }
 },
 "nbformat": 4,
 "nbformat_minor": 4
}
