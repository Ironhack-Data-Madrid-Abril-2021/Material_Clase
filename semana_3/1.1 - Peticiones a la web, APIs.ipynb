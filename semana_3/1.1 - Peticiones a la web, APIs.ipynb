{
 "cells": [
  {
   "cell_type": "markdown",
   "metadata": {},
   "source": [
    "# 1.1 - Peticiones a la web, APIs\n",
    "\n",
    "\n",
    "Una api (interfaz de programación de aplicaciones) es un código que permite que dos programas de software se comuniquen entre sí.\n",
    "\n",
    "La api define la forma correcta para que un desarrollador escriba un programa que solicite servicios de un sistema operativo u otra aplicación. Las api se implementan mediante llamadas a funciones. La sintaxis requerida se describe en la documentación de la api a la que se llama, y cada una es diferente.\n",
    "\n",
    "Las api se componen de dos elementos relacionados. La primera es una especificación que describe cómo se intercambia la información entre programas, hecha en forma de una solicitud de procesamiento y una devolución de los datos necesarios. El segundo es una interfaz de software escrita según esa especificación y publicada de alguna manera para su uso. Se dice que el software que quiere acceder a las características y capacidades de la API la llama, y se dice que el software que crea la API la publica.\n",
    "\n",
    "De manera general, usaremos las api para obtener información.\n",
    "\n",
    "https://github.com/public-apis/public-apis\n",
    "\n",
    "https://github.com/n0shake/Public-APIs"
   ]
  },
  {
   "cell_type": "markdown",
   "metadata": {},
   "source": [
    "### Realizando una petición a la web (GET)\n",
    "\n",
    "Usaremos la librería [requests](https://docs.python-requests.org/en/master/) para realizar peticiones a la web."
   ]
  },
  {
   "cell_type": "code",
   "execution_count": null,
   "metadata": {},
   "outputs": [],
   "source": [
    "!pip install requests"
   ]
  },
  {
   "cell_type": "code",
   "execution_count": 3,
   "metadata": {},
   "outputs": [],
   "source": [
    "import requests "
   ]
  },
  {
   "cell_type": "code",
   "execution_count": 2,
   "metadata": {},
   "outputs": [],
   "source": [
    "url='https://www.google.es'"
   ]
  },
  {
   "cell_type": "code",
   "execution_count": 4,
   "metadata": {},
   "outputs": [
    {
     "data": {
      "text/plain": [
       "<Response [200]>"
      ]
     },
     "execution_count": 4,
     "metadata": {},
     "output_type": "execute_result"
    }
   ],
   "source": [
    "requests.get(url)  # realiza la peticion GET"
   ]
  },
  {
   "cell_type": "markdown",
   "metadata": {},
   "source": [
    "https://es.wikipedia.org/wiki/Anexo:C%C3%B3digos_de_estado_HTTP"
   ]
  },
  {
   "cell_type": "markdown",
   "metadata": {},
   "source": [
    "### API de [Anime](https://jikan.moe/)"
   ]
  },
  {
   "cell_type": "code",
   "execution_count": 5,
   "metadata": {},
   "outputs": [],
   "source": [
    "BASE_URL='https://api.jikan.moe/v3/search/anime?q='"
   ]
  },
  {
   "cell_type": "code",
   "execution_count": 6,
   "metadata": {},
   "outputs": [],
   "source": [
    "busqueda='koukaku kidotai'"
   ]
  },
  {
   "cell_type": "code",
   "execution_count": 7,
   "metadata": {},
   "outputs": [
    {
     "data": {
      "text/plain": [
       "<Response [200]>"
      ]
     },
     "execution_count": 7,
     "metadata": {},
     "output_type": "execute_result"
    }
   ],
   "source": [
    "requests.get(BASE_URL+busqueda)"
   ]
  },
  {
   "cell_type": "code",
   "execution_count": 21,
   "metadata": {},
   "outputs": [
    {
     "data": {
      "text/plain": [
       "'https://myanimelist.net/anime/43/Koukaku_Kidoutai'"
      ]
     },
     "execution_count": 21,
     "metadata": {},
     "output_type": "execute_result"
    }
   ],
   "source": [
    "requests.get(BASE_URL+busqueda).json()['results'][0]['url']"
   ]
  },
  {
   "cell_type": "markdown",
   "metadata": {},
   "source": [
    "### [PokeAPI](https://pokeapi.co/)"
   ]
  },
  {
   "cell_type": "code",
   "execution_count": 22,
   "metadata": {},
   "outputs": [],
   "source": [
    "BASE_URL='https://pokeapi.co/api/v2/'"
   ]
  },
  {
   "cell_type": "code",
   "execution_count": 23,
   "metadata": {},
   "outputs": [],
   "source": [
    "pokemon='pokemon/25'   # endpoint"
   ]
  },
  {
   "cell_type": "code",
   "execution_count": 30,
   "metadata": {},
   "outputs": [
    {
     "data": {
      "text/plain": [
       "'https://pokeapi.co/api/v2/pokemon/25'"
      ]
     },
     "execution_count": 30,
     "metadata": {},
     "output_type": "execute_result"
    }
   ],
   "source": [
    "BASE_URL+pokemon"
   ]
  },
  {
   "cell_type": "code",
   "execution_count": 24,
   "metadata": {},
   "outputs": [
    {
     "data": {
      "text/plain": [
       "<Response [200]>"
      ]
     },
     "execution_count": 24,
     "metadata": {},
     "output_type": "execute_result"
    }
   ],
   "source": [
    "requests.get(BASE_URL+pokemon)"
   ]
  },
  {
   "cell_type": "code",
   "execution_count": 29,
   "metadata": {
    "scrolled": false
   },
   "outputs": [
    {
     "data": {
      "text/plain": [
       "'pikachu'"
      ]
     },
     "execution_count": 29,
     "metadata": {},
     "output_type": "execute_result"
    }
   ],
   "source": [
    "requests.get(BASE_URL+pokemon).json()['forms'][0]['name']"
   ]
  },
  {
   "cell_type": "code",
   "execution_count": 37,
   "metadata": {},
   "outputs": [
    {
     "data": {
      "text/plain": [
       "{'count': 1118,\n",
       " 'next': 'https://pokeapi.co/api/v2/pokemon?offset=4&limit=3',\n",
       " 'previous': 'https://pokeapi.co/api/v2/pokemon?offset=0&limit=1',\n",
       " 'results': [{'name': 'ivysaur',\n",
       "   'url': 'https://pokeapi.co/api/v2/pokemon/2/'},\n",
       "  {'name': 'venusaur', 'url': 'https://pokeapi.co/api/v2/pokemon/3/'},\n",
       "  {'name': 'charmander', 'url': 'https://pokeapi.co/api/v2/pokemon/4/'}]}"
      ]
     },
     "execution_count": 37,
     "metadata": {},
     "output_type": "execute_result"
    }
   ],
   "source": [
    "# la url puede tener parametros (?param1=valor1&param2=....)\n",
    "\n",
    "query={'limit':3, 'offset':1}\n",
    "\n",
    "res_poke=requests.get(BASE_URL+'pokemon', params=query)\n",
    "\n",
    "res_poke.json()"
   ]
  },
  {
   "cell_type": "markdown",
   "metadata": {},
   "source": [
    "### [ISS](https://wheretheiss.at/w/developer) API"
   ]
  },
  {
   "cell_type": "code",
   "execution_count": 38,
   "metadata": {
    "scrolled": false
   },
   "outputs": [],
   "source": [
    "URL='https://api.wheretheiss.at/v1/satellites/25544'"
   ]
  },
  {
   "cell_type": "code",
   "execution_count": 44,
   "metadata": {},
   "outputs": [
    {
     "name": "stdout",
     "output_type": "stream",
     "text": [
      "Help on Response in module requests.models object:\n",
      "\n",
      "class Response(builtins.object)\n",
      " |  The :class:`Response <Response>` object, which contains a\n",
      " |  server's response to an HTTP request.\n",
      " |  \n",
      " |  Methods defined here:\n",
      " |  \n",
      " |  __bool__(self)\n",
      " |      Returns True if :attr:`status_code` is less than 400.\n",
      " |      \n",
      " |      This attribute checks if the status code of the response is between\n",
      " |      400 and 600 to see if there was a client error or a server error. If\n",
      " |      the status code, is between 200 and 400, this will return True. This\n",
      " |      is **not** a check to see if the response code is ``200 OK``.\n",
      " |  \n",
      " |  __enter__(self)\n",
      " |  \n",
      " |  __exit__(self, *args)\n",
      " |  \n",
      " |  __getstate__(self)\n",
      " |  \n",
      " |  __init__(self)\n",
      " |      Initialize self.  See help(type(self)) for accurate signature.\n",
      " |  \n",
      " |  __iter__(self)\n",
      " |      Allows you to use a response as an iterator.\n",
      " |  \n",
      " |  __nonzero__(self)\n",
      " |      Returns True if :attr:`status_code` is less than 400.\n",
      " |      \n",
      " |      This attribute checks if the status code of the response is between\n",
      " |      400 and 600 to see if there was a client error or a server error. If\n",
      " |      the status code, is between 200 and 400, this will return True. This\n",
      " |      is **not** a check to see if the response code is ``200 OK``.\n",
      " |  \n",
      " |  __repr__(self)\n",
      " |      Return repr(self).\n",
      " |  \n",
      " |  __setstate__(self, state)\n",
      " |  \n",
      " |  close(self)\n",
      " |      Releases the connection back to the pool. Once this method has been\n",
      " |      called the underlying ``raw`` object must not be accessed again.\n",
      " |      \n",
      " |      *Note: Should not normally need to be called explicitly.*\n",
      " |  \n",
      " |  iter_content(self, chunk_size=1, decode_unicode=False)\n",
      " |      Iterates over the response data.  When stream=True is set on the\n",
      " |      request, this avoids reading the content at once into memory for\n",
      " |      large responses.  The chunk size is the number of bytes it should\n",
      " |      read into memory.  This is not necessarily the length of each item\n",
      " |      returned as decoding can take place.\n",
      " |      \n",
      " |      chunk_size must be of type int or None. A value of None will\n",
      " |      function differently depending on the value of `stream`.\n",
      " |      stream=True will read data as it arrives in whatever size the\n",
      " |      chunks are received. If stream=False, data is returned as\n",
      " |      a single chunk.\n",
      " |      \n",
      " |      If decode_unicode is True, content will be decoded using the best\n",
      " |      available encoding based on the response.\n",
      " |  \n",
      " |  iter_lines(self, chunk_size=512, decode_unicode=False, delimiter=None)\n",
      " |      Iterates over the response data, one line at a time.  When\n",
      " |      stream=True is set on the request, this avoids reading the\n",
      " |      content at once into memory for large responses.\n",
      " |      \n",
      " |      .. note:: This method is not reentrant safe.\n",
      " |  \n",
      " |  json(self, **kwargs)\n",
      " |      Returns the json-encoded content of a response, if any.\n",
      " |      \n",
      " |      :param \\*\\*kwargs: Optional arguments that ``json.loads`` takes.\n",
      " |      :raises ValueError: If the response body does not contain valid json.\n",
      " |  \n",
      " |  raise_for_status(self)\n",
      " |      Raises :class:`HTTPError`, if one occurred.\n",
      " |  \n",
      " |  ----------------------------------------------------------------------\n",
      " |  Data descriptors defined here:\n",
      " |  \n",
      " |  __dict__\n",
      " |      dictionary for instance variables (if defined)\n",
      " |  \n",
      " |  __weakref__\n",
      " |      list of weak references to the object (if defined)\n",
      " |  \n",
      " |  apparent_encoding\n",
      " |      The apparent encoding, provided by the chardet library.\n",
      " |  \n",
      " |  content\n",
      " |      Content of the response, in bytes.\n",
      " |  \n",
      " |  is_permanent_redirect\n",
      " |      True if this Response one of the permanent versions of redirect.\n",
      " |  \n",
      " |  is_redirect\n",
      " |      True if this Response is a well-formed HTTP redirect that could have\n",
      " |      been processed automatically (by :meth:`Session.resolve_redirects`).\n",
      " |  \n",
      " |  links\n",
      " |      Returns the parsed header links of the response, if any.\n",
      " |  \n",
      " |  next\n",
      " |      Returns a PreparedRequest for the next request in a redirect chain, if there is one.\n",
      " |  \n",
      " |  ok\n",
      " |      Returns True if :attr:`status_code` is less than 400, False if not.\n",
      " |      \n",
      " |      This attribute checks if the status code of the response is between\n",
      " |      400 and 600 to see if there was a client error or a server error. If\n",
      " |      the status code is between 200 and 400, this will return True. This\n",
      " |      is **not** a check to see if the response code is ``200 OK``.\n",
      " |  \n",
      " |  text\n",
      " |      Content of the response, in unicode.\n",
      " |      \n",
      " |      If Response.encoding is None, encoding will be guessed using\n",
      " |      ``chardet``.\n",
      " |      \n",
      " |      The encoding of the response content is determined based solely on HTTP\n",
      " |      headers, following RFC 2616 to the letter. If you can take advantage of\n",
      " |      non-HTTP knowledge to make a better guess at the encoding, you should\n",
      " |      set ``r.encoding`` appropriately before accessing this property.\n",
      " |  \n",
      " |  ----------------------------------------------------------------------\n",
      " |  Data and other attributes defined here:\n",
      " |  \n",
      " |  __attrs__ = ['_content', 'status_code', 'headers', 'url', 'history', '...\n",
      "\n"
     ]
    }
   ],
   "source": [
    "res_iss=requests.get(URL)\n",
    "\n",
    "help(res_iss)"
   ]
  },
  {
   "cell_type": "code",
   "execution_count": 45,
   "metadata": {},
   "outputs": [
    {
     "data": {
      "text/plain": [
       "{'Date': 'Mon, 10 May 2021 08:41:31 GMT', 'Server': 'Apache/2.2.22 (Ubuntu)', 'X-Powered-By': 'PHP/5.3.10-1ubuntu3.26', 'X-Rate-Limit-Limit': '350', 'X-Rate-Limit-Remaining': '348', 'X-Rate-Limit-Interval': '5 minutes', 'Access-Control-Allow-Origin': '*', 'X-Apache-Time': 'D=19216', 'Cache-Control': 'max-age=0, no-cache', 'Content-Length': '312', 'Keep-Alive': 'timeout=15, max=100', 'Connection': 'Keep-Alive', 'Content-Type': 'application/json'}"
      ]
     },
     "execution_count": 45,
     "metadata": {},
     "output_type": "execute_result"
    }
   ],
   "source": [
    "res_iss.headers"
   ]
  },
  {
   "cell_type": "code",
   "execution_count": 46,
   "metadata": {},
   "outputs": [
    {
     "data": {
      "text/plain": [
       "{'name': 'iss',\n",
       " 'id': 25544,\n",
       " 'latitude': 49.277031315048,\n",
       " 'longitude': -75.020289073611,\n",
       " 'altitude': 426.31544508676,\n",
       " 'velocity': 27580.169492975,\n",
       " 'visibility': 'daylight',\n",
       " 'footprint': 4539.4550574019,\n",
       " 'timestamp': 1620636091,\n",
       " 'daynum': 2459344.8621644,\n",
       " 'solar_lat': 17.719842148724,\n",
       " 'solar_lon': 48.727813190711,\n",
       " 'units': 'kilometers'}"
      ]
     },
     "execution_count": 46,
     "metadata": {},
     "output_type": "execute_result"
    }
   ],
   "source": [
    "res_iss.json()"
   ]
  },
  {
   "cell_type": "code",
   "execution_count": 47,
   "metadata": {},
   "outputs": [
    {
     "name": "stdout",
     "output_type": "stream",
     "text": [
      "0\n",
      "1\n",
      "2\n",
      "3\n",
      "4\n",
      "5\n",
      "6\n",
      "7\n",
      "8\n",
      "9\n",
      "10\n",
      "11\n",
      "12\n",
      "13\n",
      "14\n",
      "15\n",
      "16\n",
      "17\n",
      "18\n",
      "19\n",
      "20\n",
      "21\n",
      "22\n",
      "23\n",
      "24\n",
      "25\n",
      "26\n",
      "27\n",
      "28\n",
      "29\n"
     ]
    }
   ],
   "source": [
    "import time\n",
    "\n",
    "posiciones=[]\n",
    "\n",
    "for i in range(30):\n",
    "    print(i)\n",
    "    \n",
    "    res_iss=requests.get(URL)\n",
    "    data=res_iss.json()\n",
    "    \n",
    "    posiciones.append(data)\n",
    "    \n",
    "    time.sleep(0.5)    # duermete medio segundo"
   ]
  },
  {
   "cell_type": "code",
   "execution_count": 48,
   "metadata": {},
   "outputs": [
    {
     "data": {
      "text/html": [
       "<div>\n",
       "<style scoped>\n",
       "    .dataframe tbody tr th:only-of-type {\n",
       "        vertical-align: middle;\n",
       "    }\n",
       "\n",
       "    .dataframe tbody tr th {\n",
       "        vertical-align: top;\n",
       "    }\n",
       "\n",
       "    .dataframe thead th {\n",
       "        text-align: right;\n",
       "    }\n",
       "</style>\n",
       "<table border=\"1\" class=\"dataframe\">\n",
       "  <thead>\n",
       "    <tr style=\"text-align: right;\">\n",
       "      <th></th>\n",
       "      <th>name</th>\n",
       "      <th>id</th>\n",
       "      <th>latitude</th>\n",
       "      <th>longitude</th>\n",
       "      <th>altitude</th>\n",
       "      <th>velocity</th>\n",
       "      <th>visibility</th>\n",
       "      <th>footprint</th>\n",
       "      <th>timestamp</th>\n",
       "      <th>daynum</th>\n",
       "      <th>solar_lat</th>\n",
       "      <th>solar_lon</th>\n",
       "      <th>units</th>\n",
       "    </tr>\n",
       "  </thead>\n",
       "  <tbody>\n",
       "    <tr>\n",
       "      <th>0</th>\n",
       "      <td>iss</td>\n",
       "      <td>25544</td>\n",
       "      <td>46.974759</td>\n",
       "      <td>-66.814640</td>\n",
       "      <td>425.955336</td>\n",
       "      <td>27579.741076</td>\n",
       "      <td>daylight</td>\n",
       "      <td>4537.638285</td>\n",
       "      <td>1620636187</td>\n",
       "      <td>2.459345e+06</td>\n",
       "      <td>17.720131</td>\n",
       "      <td>48.327804</td>\n",
       "      <td>kilometers</td>\n",
       "    </tr>\n",
       "    <tr>\n",
       "      <th>1</th>\n",
       "      <td>iss</td>\n",
       "      <td>25544</td>\n",
       "      <td>46.947482</td>\n",
       "      <td>-66.733276</td>\n",
       "      <td>425.950779</td>\n",
       "      <td>27579.737096</td>\n",
       "      <td>daylight</td>\n",
       "      <td>4537.615287</td>\n",
       "      <td>1620636188</td>\n",
       "      <td>2.459345e+06</td>\n",
       "      <td>17.720134</td>\n",
       "      <td>48.323637</td>\n",
       "      <td>kilometers</td>\n",
       "    </tr>\n",
       "    <tr>\n",
       "      <th>2</th>\n",
       "      <td>iss</td>\n",
       "      <td>25544</td>\n",
       "      <td>46.920142</td>\n",
       "      <td>-66.652002</td>\n",
       "      <td>425.946206</td>\n",
       "      <td>27579.733124</td>\n",
       "      <td>daylight</td>\n",
       "      <td>4537.592211</td>\n",
       "      <td>1620636189</td>\n",
       "      <td>2.459345e+06</td>\n",
       "      <td>17.720137</td>\n",
       "      <td>48.319470</td>\n",
       "      <td>kilometers</td>\n",
       "    </tr>\n",
       "    <tr>\n",
       "      <th>3</th>\n",
       "      <td>iss</td>\n",
       "      <td>25544</td>\n",
       "      <td>46.892739</td>\n",
       "      <td>-66.570816</td>\n",
       "      <td>425.941618</td>\n",
       "      <td>27579.729161</td>\n",
       "      <td>daylight</td>\n",
       "      <td>4537.569058</td>\n",
       "      <td>1620636190</td>\n",
       "      <td>2.459345e+06</td>\n",
       "      <td>17.720140</td>\n",
       "      <td>48.315304</td>\n",
       "      <td>kilometers</td>\n",
       "    </tr>\n",
       "    <tr>\n",
       "      <th>4</th>\n",
       "      <td>iss</td>\n",
       "      <td>25544</td>\n",
       "      <td>46.865272</td>\n",
       "      <td>-66.489716</td>\n",
       "      <td>425.937014</td>\n",
       "      <td>27579.725207</td>\n",
       "      <td>daylight</td>\n",
       "      <td>4537.545826</td>\n",
       "      <td>1620636191</td>\n",
       "      <td>2.459345e+06</td>\n",
       "      <td>17.720143</td>\n",
       "      <td>48.311137</td>\n",
       "      <td>kilometers</td>\n",
       "    </tr>\n",
       "    <tr>\n",
       "      <th>5</th>\n",
       "      <td>iss</td>\n",
       "      <td>25544</td>\n",
       "      <td>46.837741</td>\n",
       "      <td>-66.408703</td>\n",
       "      <td>425.932396</td>\n",
       "      <td>27579.721262</td>\n",
       "      <td>daylight</td>\n",
       "      <td>4537.522518</td>\n",
       "      <td>1620636192</td>\n",
       "      <td>2.459345e+06</td>\n",
       "      <td>17.720146</td>\n",
       "      <td>48.306970</td>\n",
       "      <td>kilometers</td>\n",
       "    </tr>\n",
       "    <tr>\n",
       "      <th>6</th>\n",
       "      <td>iss</td>\n",
       "      <td>25544</td>\n",
       "      <td>46.810147</td>\n",
       "      <td>-66.327777</td>\n",
       "      <td>425.927761</td>\n",
       "      <td>27579.717325</td>\n",
       "      <td>daylight</td>\n",
       "      <td>4537.499132</td>\n",
       "      <td>1620636193</td>\n",
       "      <td>2.459345e+06</td>\n",
       "      <td>17.720149</td>\n",
       "      <td>48.302803</td>\n",
       "      <td>kilometers</td>\n",
       "    </tr>\n",
       "    <tr>\n",
       "      <th>7</th>\n",
       "      <td>iss</td>\n",
       "      <td>25544</td>\n",
       "      <td>46.782490</td>\n",
       "      <td>-66.246938</td>\n",
       "      <td>425.923112</td>\n",
       "      <td>27579.713396</td>\n",
       "      <td>daylight</td>\n",
       "      <td>4537.475669</td>\n",
       "      <td>1620636194</td>\n",
       "      <td>2.459345e+06</td>\n",
       "      <td>17.720152</td>\n",
       "      <td>48.298637</td>\n",
       "      <td>kilometers</td>\n",
       "    </tr>\n",
       "    <tr>\n",
       "      <th>8</th>\n",
       "      <td>iss</td>\n",
       "      <td>25544</td>\n",
       "      <td>46.754769</td>\n",
       "      <td>-66.166183</td>\n",
       "      <td>425.918447</td>\n",
       "      <td>27579.709475</td>\n",
       "      <td>daylight</td>\n",
       "      <td>4537.452128</td>\n",
       "      <td>1620636195</td>\n",
       "      <td>2.459345e+06</td>\n",
       "      <td>17.720155</td>\n",
       "      <td>48.294470</td>\n",
       "      <td>kilometers</td>\n",
       "    </tr>\n",
       "    <tr>\n",
       "      <th>9</th>\n",
       "      <td>iss</td>\n",
       "      <td>25544</td>\n",
       "      <td>46.726986</td>\n",
       "      <td>-66.085518</td>\n",
       "      <td>425.913768</td>\n",
       "      <td>27579.705563</td>\n",
       "      <td>daylight</td>\n",
       "      <td>4537.428511</td>\n",
       "      <td>1620636196</td>\n",
       "      <td>2.459345e+06</td>\n",
       "      <td>17.720158</td>\n",
       "      <td>48.290303</td>\n",
       "      <td>kilometers</td>\n",
       "    </tr>\n",
       "    <tr>\n",
       "      <th>10</th>\n",
       "      <td>iss</td>\n",
       "      <td>25544</td>\n",
       "      <td>46.699139</td>\n",
       "      <td>-66.004941</td>\n",
       "      <td>425.909073</td>\n",
       "      <td>27579.701660</td>\n",
       "      <td>daylight</td>\n",
       "      <td>4537.404818</td>\n",
       "      <td>1620636197</td>\n",
       "      <td>2.459345e+06</td>\n",
       "      <td>17.720161</td>\n",
       "      <td>48.286136</td>\n",
       "      <td>kilometers</td>\n",
       "    </tr>\n",
       "    <tr>\n",
       "      <th>11</th>\n",
       "      <td>iss</td>\n",
       "      <td>25544</td>\n",
       "      <td>46.671231</td>\n",
       "      <td>-65.924450</td>\n",
       "      <td>425.904363</td>\n",
       "      <td>27579.697764</td>\n",
       "      <td>daylight</td>\n",
       "      <td>4537.381048</td>\n",
       "      <td>1620636198</td>\n",
       "      <td>2.459345e+06</td>\n",
       "      <td>17.720164</td>\n",
       "      <td>48.281969</td>\n",
       "      <td>kilometers</td>\n",
       "    </tr>\n",
       "    <tr>\n",
       "      <th>12</th>\n",
       "      <td>iss</td>\n",
       "      <td>25544</td>\n",
       "      <td>46.643259</td>\n",
       "      <td>-65.844047</td>\n",
       "      <td>425.899638</td>\n",
       "      <td>27579.693877</td>\n",
       "      <td>daylight</td>\n",
       "      <td>4537.357203</td>\n",
       "      <td>1620636199</td>\n",
       "      <td>2.459345e+06</td>\n",
       "      <td>17.720167</td>\n",
       "      <td>48.277803</td>\n",
       "      <td>kilometers</td>\n",
       "    </tr>\n",
       "    <tr>\n",
       "      <th>13</th>\n",
       "      <td>iss</td>\n",
       "      <td>25544</td>\n",
       "      <td>46.587129</td>\n",
       "      <td>-65.683501</td>\n",
       "      <td>425.890143</td>\n",
       "      <td>27579.686127</td>\n",
       "      <td>daylight</td>\n",
       "      <td>4537.309284</td>\n",
       "      <td>1620636201</td>\n",
       "      <td>2.459345e+06</td>\n",
       "      <td>17.720173</td>\n",
       "      <td>48.269469</td>\n",
       "      <td>kilometers</td>\n",
       "    </tr>\n",
       "    <tr>\n",
       "      <th>14</th>\n",
       "      <td>iss</td>\n",
       "      <td>25544</td>\n",
       "      <td>46.558970</td>\n",
       "      <td>-65.603359</td>\n",
       "      <td>425.885373</td>\n",
       "      <td>27579.682264</td>\n",
       "      <td>daylight</td>\n",
       "      <td>4537.285211</td>\n",
       "      <td>1620636202</td>\n",
       "      <td>2.459345e+06</td>\n",
       "      <td>17.720176</td>\n",
       "      <td>48.265302</td>\n",
       "      <td>kilometers</td>\n",
       "    </tr>\n",
       "    <tr>\n",
       "      <th>15</th>\n",
       "      <td>iss</td>\n",
       "      <td>25544</td>\n",
       "      <td>46.530748</td>\n",
       "      <td>-65.523301</td>\n",
       "      <td>425.880588</td>\n",
       "      <td>27579.678409</td>\n",
       "      <td>daylight</td>\n",
       "      <td>4537.261062</td>\n",
       "      <td>1620636203</td>\n",
       "      <td>2.459345e+06</td>\n",
       "      <td>17.720179</td>\n",
       "      <td>48.261136</td>\n",
       "      <td>kilometers</td>\n",
       "    </tr>\n",
       "    <tr>\n",
       "      <th>16</th>\n",
       "      <td>iss</td>\n",
       "      <td>25544</td>\n",
       "      <td>46.502466</td>\n",
       "      <td>-65.443334</td>\n",
       "      <td>425.875788</td>\n",
       "      <td>27579.674563</td>\n",
       "      <td>daylight</td>\n",
       "      <td>4537.236838</td>\n",
       "      <td>1620636204</td>\n",
       "      <td>2.459345e+06</td>\n",
       "      <td>17.720182</td>\n",
       "      <td>48.256969</td>\n",
       "      <td>kilometers</td>\n",
       "    </tr>\n",
       "    <tr>\n",
       "      <th>17</th>\n",
       "      <td>iss</td>\n",
       "      <td>25544</td>\n",
       "      <td>46.474121</td>\n",
       "      <td>-65.363453</td>\n",
       "      <td>425.870973</td>\n",
       "      <td>27579.670724</td>\n",
       "      <td>daylight</td>\n",
       "      <td>4537.212540</td>\n",
       "      <td>1620636205</td>\n",
       "      <td>2.459345e+06</td>\n",
       "      <td>17.720185</td>\n",
       "      <td>48.252802</td>\n",
       "      <td>kilometers</td>\n",
       "    </tr>\n",
       "    <tr>\n",
       "      <th>18</th>\n",
       "      <td>iss</td>\n",
       "      <td>25544</td>\n",
       "      <td>46.445715</td>\n",
       "      <td>-65.283660</td>\n",
       "      <td>425.866144</td>\n",
       "      <td>27579.666893</td>\n",
       "      <td>daylight</td>\n",
       "      <td>4537.188167</td>\n",
       "      <td>1620636206</td>\n",
       "      <td>2.459345e+06</td>\n",
       "      <td>17.720188</td>\n",
       "      <td>48.248635</td>\n",
       "      <td>kilometers</td>\n",
       "    </tr>\n",
       "    <tr>\n",
       "      <th>19</th>\n",
       "      <td>iss</td>\n",
       "      <td>25544</td>\n",
       "      <td>46.417247</td>\n",
       "      <td>-65.203954</td>\n",
       "      <td>425.861300</td>\n",
       "      <td>27579.663070</td>\n",
       "      <td>daylight</td>\n",
       "      <td>4537.163720</td>\n",
       "      <td>1620636207</td>\n",
       "      <td>2.459345e+06</td>\n",
       "      <td>17.720191</td>\n",
       "      <td>48.244469</td>\n",
       "      <td>kilometers</td>\n",
       "    </tr>\n",
       "    <tr>\n",
       "      <th>20</th>\n",
       "      <td>iss</td>\n",
       "      <td>25544</td>\n",
       "      <td>46.388717</td>\n",
       "      <td>-65.124335</td>\n",
       "      <td>425.856441</td>\n",
       "      <td>27579.659254</td>\n",
       "      <td>daylight</td>\n",
       "      <td>4537.139198</td>\n",
       "      <td>1620636208</td>\n",
       "      <td>2.459345e+06</td>\n",
       "      <td>17.720194</td>\n",
       "      <td>48.240302</td>\n",
       "      <td>kilometers</td>\n",
       "    </tr>\n",
       "    <tr>\n",
       "      <th>21</th>\n",
       "      <td>iss</td>\n",
       "      <td>25544</td>\n",
       "      <td>46.360126</td>\n",
       "      <td>-65.044804</td>\n",
       "      <td>425.851568</td>\n",
       "      <td>27579.655447</td>\n",
       "      <td>daylight</td>\n",
       "      <td>4537.114602</td>\n",
       "      <td>1620636209</td>\n",
       "      <td>2.459345e+06</td>\n",
       "      <td>17.720197</td>\n",
       "      <td>48.236135</td>\n",
       "      <td>kilometers</td>\n",
       "    </tr>\n",
       "    <tr>\n",
       "      <th>22</th>\n",
       "      <td>iss</td>\n",
       "      <td>25544</td>\n",
       "      <td>46.331473</td>\n",
       "      <td>-64.965357</td>\n",
       "      <td>425.846680</td>\n",
       "      <td>27579.651647</td>\n",
       "      <td>daylight</td>\n",
       "      <td>4537.089931</td>\n",
       "      <td>1620636210</td>\n",
       "      <td>2.459345e+06</td>\n",
       "      <td>17.720200</td>\n",
       "      <td>48.231968</td>\n",
       "      <td>kilometers</td>\n",
       "    </tr>\n",
       "    <tr>\n",
       "      <th>23</th>\n",
       "      <td>iss</td>\n",
       "      <td>25544</td>\n",
       "      <td>46.302760</td>\n",
       "      <td>-64.886000</td>\n",
       "      <td>425.841777</td>\n",
       "      <td>27579.647855</td>\n",
       "      <td>daylight</td>\n",
       "      <td>4537.065187</td>\n",
       "      <td>1620636211</td>\n",
       "      <td>2.459345e+06</td>\n",
       "      <td>17.720203</td>\n",
       "      <td>48.227801</td>\n",
       "      <td>kilometers</td>\n",
       "    </tr>\n",
       "    <tr>\n",
       "      <th>24</th>\n",
       "      <td>iss</td>\n",
       "      <td>25544</td>\n",
       "      <td>46.273986</td>\n",
       "      <td>-64.806730</td>\n",
       "      <td>425.836860</td>\n",
       "      <td>27579.644070</td>\n",
       "      <td>daylight</td>\n",
       "      <td>4537.040370</td>\n",
       "      <td>1620636212</td>\n",
       "      <td>2.459345e+06</td>\n",
       "      <td>17.720206</td>\n",
       "      <td>48.223635</td>\n",
       "      <td>kilometers</td>\n",
       "    </tr>\n",
       "    <tr>\n",
       "      <th>25</th>\n",
       "      <td>iss</td>\n",
       "      <td>25544</td>\n",
       "      <td>46.245151</td>\n",
       "      <td>-64.727548</td>\n",
       "      <td>425.831928</td>\n",
       "      <td>27579.640294</td>\n",
       "      <td>daylight</td>\n",
       "      <td>4537.015480</td>\n",
       "      <td>1620636213</td>\n",
       "      <td>2.459345e+06</td>\n",
       "      <td>17.720209</td>\n",
       "      <td>48.219468</td>\n",
       "      <td>kilometers</td>\n",
       "    </tr>\n",
       "    <tr>\n",
       "      <th>26</th>\n",
       "      <td>iss</td>\n",
       "      <td>25544</td>\n",
       "      <td>46.216255</td>\n",
       "      <td>-64.648453</td>\n",
       "      <td>425.826982</td>\n",
       "      <td>27579.636524</td>\n",
       "      <td>daylight</td>\n",
       "      <td>4536.990516</td>\n",
       "      <td>1620636214</td>\n",
       "      <td>2.459345e+06</td>\n",
       "      <td>17.720212</td>\n",
       "      <td>48.215301</td>\n",
       "      <td>kilometers</td>\n",
       "    </tr>\n",
       "    <tr>\n",
       "      <th>27</th>\n",
       "      <td>iss</td>\n",
       "      <td>25544</td>\n",
       "      <td>46.158281</td>\n",
       "      <td>-64.490525</td>\n",
       "      <td>425.817047</td>\n",
       "      <td>27579.629008</td>\n",
       "      <td>daylight</td>\n",
       "      <td>4536.940371</td>\n",
       "      <td>1620636216</td>\n",
       "      <td>2.459345e+06</td>\n",
       "      <td>17.720218</td>\n",
       "      <td>48.206968</td>\n",
       "      <td>kilometers</td>\n",
       "    </tr>\n",
       "    <tr>\n",
       "      <th>28</th>\n",
       "      <td>iss</td>\n",
       "      <td>25544</td>\n",
       "      <td>46.129204</td>\n",
       "      <td>-64.411692</td>\n",
       "      <td>425.812058</td>\n",
       "      <td>27579.625261</td>\n",
       "      <td>daylight</td>\n",
       "      <td>4536.915189</td>\n",
       "      <td>1620636217</td>\n",
       "      <td>2.459345e+06</td>\n",
       "      <td>17.720221</td>\n",
       "      <td>48.202801</td>\n",
       "      <td>kilometers</td>\n",
       "    </tr>\n",
       "    <tr>\n",
       "      <th>29</th>\n",
       "      <td>iss</td>\n",
       "      <td>25544</td>\n",
       "      <td>46.100065</td>\n",
       "      <td>-64.332943</td>\n",
       "      <td>425.807054</td>\n",
       "      <td>27579.621521</td>\n",
       "      <td>daylight</td>\n",
       "      <td>4536.889934</td>\n",
       "      <td>1620636218</td>\n",
       "      <td>2.459345e+06</td>\n",
       "      <td>17.720224</td>\n",
       "      <td>48.198634</td>\n",
       "      <td>kilometers</td>\n",
       "    </tr>\n",
       "  </tbody>\n",
       "</table>\n",
       "</div>"
      ],
      "text/plain": [
       "   name     id   latitude  longitude    altitude      velocity visibility  \\\n",
       "0   iss  25544  46.974759 -66.814640  425.955336  27579.741076   daylight   \n",
       "1   iss  25544  46.947482 -66.733276  425.950779  27579.737096   daylight   \n",
       "2   iss  25544  46.920142 -66.652002  425.946206  27579.733124   daylight   \n",
       "3   iss  25544  46.892739 -66.570816  425.941618  27579.729161   daylight   \n",
       "4   iss  25544  46.865272 -66.489716  425.937014  27579.725207   daylight   \n",
       "5   iss  25544  46.837741 -66.408703  425.932396  27579.721262   daylight   \n",
       "6   iss  25544  46.810147 -66.327777  425.927761  27579.717325   daylight   \n",
       "7   iss  25544  46.782490 -66.246938  425.923112  27579.713396   daylight   \n",
       "8   iss  25544  46.754769 -66.166183  425.918447  27579.709475   daylight   \n",
       "9   iss  25544  46.726986 -66.085518  425.913768  27579.705563   daylight   \n",
       "10  iss  25544  46.699139 -66.004941  425.909073  27579.701660   daylight   \n",
       "11  iss  25544  46.671231 -65.924450  425.904363  27579.697764   daylight   \n",
       "12  iss  25544  46.643259 -65.844047  425.899638  27579.693877   daylight   \n",
       "13  iss  25544  46.587129 -65.683501  425.890143  27579.686127   daylight   \n",
       "14  iss  25544  46.558970 -65.603359  425.885373  27579.682264   daylight   \n",
       "15  iss  25544  46.530748 -65.523301  425.880588  27579.678409   daylight   \n",
       "16  iss  25544  46.502466 -65.443334  425.875788  27579.674563   daylight   \n",
       "17  iss  25544  46.474121 -65.363453  425.870973  27579.670724   daylight   \n",
       "18  iss  25544  46.445715 -65.283660  425.866144  27579.666893   daylight   \n",
       "19  iss  25544  46.417247 -65.203954  425.861300  27579.663070   daylight   \n",
       "20  iss  25544  46.388717 -65.124335  425.856441  27579.659254   daylight   \n",
       "21  iss  25544  46.360126 -65.044804  425.851568  27579.655447   daylight   \n",
       "22  iss  25544  46.331473 -64.965357  425.846680  27579.651647   daylight   \n",
       "23  iss  25544  46.302760 -64.886000  425.841777  27579.647855   daylight   \n",
       "24  iss  25544  46.273986 -64.806730  425.836860  27579.644070   daylight   \n",
       "25  iss  25544  46.245151 -64.727548  425.831928  27579.640294   daylight   \n",
       "26  iss  25544  46.216255 -64.648453  425.826982  27579.636524   daylight   \n",
       "27  iss  25544  46.158281 -64.490525  425.817047  27579.629008   daylight   \n",
       "28  iss  25544  46.129204 -64.411692  425.812058  27579.625261   daylight   \n",
       "29  iss  25544  46.100065 -64.332943  425.807054  27579.621521   daylight   \n",
       "\n",
       "      footprint   timestamp        daynum  solar_lat  solar_lon       units  \n",
       "0   4537.638285  1620636187  2.459345e+06  17.720131  48.327804  kilometers  \n",
       "1   4537.615287  1620636188  2.459345e+06  17.720134  48.323637  kilometers  \n",
       "2   4537.592211  1620636189  2.459345e+06  17.720137  48.319470  kilometers  \n",
       "3   4537.569058  1620636190  2.459345e+06  17.720140  48.315304  kilometers  \n",
       "4   4537.545826  1620636191  2.459345e+06  17.720143  48.311137  kilometers  \n",
       "5   4537.522518  1620636192  2.459345e+06  17.720146  48.306970  kilometers  \n",
       "6   4537.499132  1620636193  2.459345e+06  17.720149  48.302803  kilometers  \n",
       "7   4537.475669  1620636194  2.459345e+06  17.720152  48.298637  kilometers  \n",
       "8   4537.452128  1620636195  2.459345e+06  17.720155  48.294470  kilometers  \n",
       "9   4537.428511  1620636196  2.459345e+06  17.720158  48.290303  kilometers  \n",
       "10  4537.404818  1620636197  2.459345e+06  17.720161  48.286136  kilometers  \n",
       "11  4537.381048  1620636198  2.459345e+06  17.720164  48.281969  kilometers  \n",
       "12  4537.357203  1620636199  2.459345e+06  17.720167  48.277803  kilometers  \n",
       "13  4537.309284  1620636201  2.459345e+06  17.720173  48.269469  kilometers  \n",
       "14  4537.285211  1620636202  2.459345e+06  17.720176  48.265302  kilometers  \n",
       "15  4537.261062  1620636203  2.459345e+06  17.720179  48.261136  kilometers  \n",
       "16  4537.236838  1620636204  2.459345e+06  17.720182  48.256969  kilometers  \n",
       "17  4537.212540  1620636205  2.459345e+06  17.720185  48.252802  kilometers  \n",
       "18  4537.188167  1620636206  2.459345e+06  17.720188  48.248635  kilometers  \n",
       "19  4537.163720  1620636207  2.459345e+06  17.720191  48.244469  kilometers  \n",
       "20  4537.139198  1620636208  2.459345e+06  17.720194  48.240302  kilometers  \n",
       "21  4537.114602  1620636209  2.459345e+06  17.720197  48.236135  kilometers  \n",
       "22  4537.089931  1620636210  2.459345e+06  17.720200  48.231968  kilometers  \n",
       "23  4537.065187  1620636211  2.459345e+06  17.720203  48.227801  kilometers  \n",
       "24  4537.040370  1620636212  2.459345e+06  17.720206  48.223635  kilometers  \n",
       "25  4537.015480  1620636213  2.459345e+06  17.720209  48.219468  kilometers  \n",
       "26  4536.990516  1620636214  2.459345e+06  17.720212  48.215301  kilometers  \n",
       "27  4536.940371  1620636216  2.459345e+06  17.720218  48.206968  kilometers  \n",
       "28  4536.915189  1620636217  2.459345e+06  17.720221  48.202801  kilometers  \n",
       "29  4536.889934  1620636218  2.459345e+06  17.720224  48.198634  kilometers  "
      ]
     },
     "execution_count": 48,
     "metadata": {},
     "output_type": "execute_result"
    }
   ],
   "source": [
    "import pandas as pd\n",
    "\n",
    "pd.DataFrame(posiciones)"
   ]
  },
  {
   "cell_type": "markdown",
   "metadata": {},
   "source": [
    "### [GitHub](https://docs.github.com/en/rest) API"
   ]
  },
  {
   "cell_type": "code",
   "execution_count": 49,
   "metadata": {},
   "outputs": [],
   "source": [
    "URL_BASE='https://api.github.com/'"
   ]
  },
  {
   "cell_type": "code",
   "execution_count": 50,
   "metadata": {},
   "outputs": [],
   "source": [
    "eventos='events'"
   ]
  },
  {
   "cell_type": "code",
   "execution_count": 51,
   "metadata": {},
   "outputs": [],
   "source": [
    "res_git=requests.get(URL_BASE+eventos)"
   ]
  },
  {
   "cell_type": "code",
   "execution_count": 52,
   "metadata": {},
   "outputs": [
    {
     "data": {
      "text/plain": [
       "requests.models.Response"
      ]
     },
     "execution_count": 52,
     "metadata": {},
     "output_type": "execute_result"
    }
   ],
   "source": [
    "type(res_git)"
   ]
  },
  {
   "cell_type": "code",
   "execution_count": 54,
   "metadata": {},
   "outputs": [
    {
     "data": {
      "text/plain": [
       "bytes"
      ]
     },
     "execution_count": 54,
     "metadata": {},
     "output_type": "execute_result"
    }
   ],
   "source": [
    "type(res_git.content)"
   ]
  },
  {
   "cell_type": "code",
   "execution_count": 58,
   "metadata": {
    "scrolled": false
   },
   "outputs": [
    {
     "data": {
      "text/plain": [
       "'https://api.github.com/repos/RamboYoung007700/references'"
      ]
     },
     "execution_count": 58,
     "metadata": {},
     "output_type": "execute_result"
    }
   ],
   "source": [
    "res_git.json()[5]['repo']['url']"
   ]
  },
  {
   "cell_type": "code",
   "execution_count": 59,
   "metadata": {},
   "outputs": [
    {
     "data": {
      "text/html": [
       "<div>\n",
       "<style scoped>\n",
       "    .dataframe tbody tr th:only-of-type {\n",
       "        vertical-align: middle;\n",
       "    }\n",
       "\n",
       "    .dataframe tbody tr th {\n",
       "        vertical-align: top;\n",
       "    }\n",
       "\n",
       "    .dataframe thead th {\n",
       "        text-align: right;\n",
       "    }\n",
       "</style>\n",
       "<table border=\"1\" class=\"dataframe\">\n",
       "  <thead>\n",
       "    <tr style=\"text-align: right;\">\n",
       "      <th></th>\n",
       "      <th>id</th>\n",
       "      <th>type</th>\n",
       "      <th>actor</th>\n",
       "      <th>repo</th>\n",
       "      <th>payload</th>\n",
       "      <th>public</th>\n",
       "      <th>created_at</th>\n",
       "      <th>org</th>\n",
       "    </tr>\n",
       "  </thead>\n",
       "  <tbody>\n",
       "    <tr>\n",
       "      <th>0</th>\n",
       "      <td>16280549323</td>\n",
       "      <td>PullRequestEvent</td>\n",
       "      <td>{'id': 49699333, 'login': 'dependabot[bot]', '...</td>\n",
       "      <td>{'id': 262051130, 'name': 'eclipse/tanglemktpl...</td>\n",
       "      <td>{'action': 'opened', 'number': 14, 'pull_reque...</td>\n",
       "      <td>True</td>\n",
       "      <td>2021-05-10T08:41:55Z</td>\n",
       "      <td>{'id': 56974, 'login': 'eclipse', 'gravatar_id...</td>\n",
       "    </tr>\n",
       "    <tr>\n",
       "      <th>1</th>\n",
       "      <td>16280549303</td>\n",
       "      <td>PullRequestEvent</td>\n",
       "      <td>{'id': 49699333, 'login': 'dependabot[bot]', '...</td>\n",
       "      <td>{'id': 203113628, 'name': 'Githugk/vue-learnin...</td>\n",
       "      <td>{'action': 'closed', 'number': 13, 'pull_reque...</td>\n",
       "      <td>True</td>\n",
       "      <td>2021-05-10T08:41:55Z</td>\n",
       "      <td>NaN</td>\n",
       "    </tr>\n",
       "    <tr>\n",
       "      <th>2</th>\n",
       "      <td>16280549297</td>\n",
       "      <td>PushEvent</td>\n",
       "      <td>{'id': 54328862, 'login': 'NatPombubpa', 'disp...</td>\n",
       "      <td>{'id': 365719667, 'name': 'natpombubpa-lab/nat...</td>\n",
       "      <td>{'push_id': 7079917003, 'size': 1, 'distinct_s...</td>\n",
       "      <td>True</td>\n",
       "      <td>2021-05-10T08:41:55Z</td>\n",
       "      <td>{'id': 74434910, 'login': 'natpombubpa-lab', '...</td>\n",
       "    </tr>\n",
       "    <tr>\n",
       "      <th>3</th>\n",
       "      <td>16280549310</td>\n",
       "      <td>IssuesEvent</td>\n",
       "      <td>{'id': 31182578, 'login': 'OSN-DEV', 'display_...</td>\n",
       "      <td>{'id': 365899526, 'name': 'OSN-DEV/MyNotepad',...</td>\n",
       "      <td>{'action': 'closed', 'issue': {'url': 'https:/...</td>\n",
       "      <td>True</td>\n",
       "      <td>2021-05-10T08:41:55Z</td>\n",
       "      <td>NaN</td>\n",
       "    </tr>\n",
       "    <tr>\n",
       "      <th>4</th>\n",
       "      <td>16280549295</td>\n",
       "      <td>DeleteEvent</td>\n",
       "      <td>{'id': 49699333, 'login': 'dependabot[bot]', '...</td>\n",
       "      <td>{'id': 327092761, 'name': 'joshuaellis/joshell...</td>\n",
       "      <td>{'ref': 'dependabot/npm_and_yarn/dotenv-9.0.1'...</td>\n",
       "      <td>True</td>\n",
       "      <td>2021-05-10T08:41:55Z</td>\n",
       "      <td>NaN</td>\n",
       "    </tr>\n",
       "  </tbody>\n",
       "</table>\n",
       "</div>"
      ],
      "text/plain": [
       "            id              type  \\\n",
       "0  16280549323  PullRequestEvent   \n",
       "1  16280549303  PullRequestEvent   \n",
       "2  16280549297         PushEvent   \n",
       "3  16280549310       IssuesEvent   \n",
       "4  16280549295       DeleteEvent   \n",
       "\n",
       "                                               actor  \\\n",
       "0  {'id': 49699333, 'login': 'dependabot[bot]', '...   \n",
       "1  {'id': 49699333, 'login': 'dependabot[bot]', '...   \n",
       "2  {'id': 54328862, 'login': 'NatPombubpa', 'disp...   \n",
       "3  {'id': 31182578, 'login': 'OSN-DEV', 'display_...   \n",
       "4  {'id': 49699333, 'login': 'dependabot[bot]', '...   \n",
       "\n",
       "                                                repo  \\\n",
       "0  {'id': 262051130, 'name': 'eclipse/tanglemktpl...   \n",
       "1  {'id': 203113628, 'name': 'Githugk/vue-learnin...   \n",
       "2  {'id': 365719667, 'name': 'natpombubpa-lab/nat...   \n",
       "3  {'id': 365899526, 'name': 'OSN-DEV/MyNotepad',...   \n",
       "4  {'id': 327092761, 'name': 'joshuaellis/joshell...   \n",
       "\n",
       "                                             payload  public  \\\n",
       "0  {'action': 'opened', 'number': 14, 'pull_reque...    True   \n",
       "1  {'action': 'closed', 'number': 13, 'pull_reque...    True   \n",
       "2  {'push_id': 7079917003, 'size': 1, 'distinct_s...    True   \n",
       "3  {'action': 'closed', 'issue': {'url': 'https:/...    True   \n",
       "4  {'ref': 'dependabot/npm_and_yarn/dotenv-9.0.1'...    True   \n",
       "\n",
       "             created_at                                                org  \n",
       "0  2021-05-10T08:41:55Z  {'id': 56974, 'login': 'eclipse', 'gravatar_id...  \n",
       "1  2021-05-10T08:41:55Z                                                NaN  \n",
       "2  2021-05-10T08:41:55Z  {'id': 74434910, 'login': 'natpombubpa-lab', '...  \n",
       "3  2021-05-10T08:41:55Z                                                NaN  \n",
       "4  2021-05-10T08:41:55Z                                                NaN  "
      ]
     },
     "execution_count": 59,
     "metadata": {},
     "output_type": "execute_result"
    }
   ],
   "source": [
    "pd.DataFrame(res_git.json()).head()"
   ]
  },
  {
   "cell_type": "code",
   "execution_count": 60,
   "metadata": {},
   "outputs": [
    {
     "data": {
      "text/html": [
       "<div>\n",
       "<style scoped>\n",
       "    .dataframe tbody tr th:only-of-type {\n",
       "        vertical-align: middle;\n",
       "    }\n",
       "\n",
       "    .dataframe tbody tr th {\n",
       "        vertical-align: top;\n",
       "    }\n",
       "\n",
       "    .dataframe thead th {\n",
       "        text-align: right;\n",
       "    }\n",
       "</style>\n",
       "<table border=\"1\" class=\"dataframe\">\n",
       "  <thead>\n",
       "    <tr style=\"text-align: right;\">\n",
       "      <th></th>\n",
       "      <th>id</th>\n",
       "      <th>type</th>\n",
       "      <th>public</th>\n",
       "      <th>created_at</th>\n",
       "      <th>actor.id</th>\n",
       "      <th>actor.login</th>\n",
       "      <th>actor.display_login</th>\n",
       "      <th>actor.gravatar_id</th>\n",
       "      <th>actor.url</th>\n",
       "      <th>actor.avatar_url</th>\n",
       "      <th>...</th>\n",
       "      <th>payload.pull_request.merged_by.following_url</th>\n",
       "      <th>payload.pull_request.merged_by.gists_url</th>\n",
       "      <th>payload.pull_request.merged_by.starred_url</th>\n",
       "      <th>payload.pull_request.merged_by.subscriptions_url</th>\n",
       "      <th>payload.pull_request.merged_by.organizations_url</th>\n",
       "      <th>payload.pull_request.merged_by.repos_url</th>\n",
       "      <th>payload.pull_request.merged_by.events_url</th>\n",
       "      <th>payload.pull_request.merged_by.received_events_url</th>\n",
       "      <th>payload.pull_request.merged_by.type</th>\n",
       "      <th>payload.pull_request.merged_by.site_admin</th>\n",
       "    </tr>\n",
       "  </thead>\n",
       "  <tbody>\n",
       "    <tr>\n",
       "      <th>0</th>\n",
       "      <td>16280549323</td>\n",
       "      <td>PullRequestEvent</td>\n",
       "      <td>True</td>\n",
       "      <td>2021-05-10T08:41:55Z</td>\n",
       "      <td>49699333</td>\n",
       "      <td>dependabot[bot]</td>\n",
       "      <td>dependabot</td>\n",
       "      <td></td>\n",
       "      <td>https://api.github.com/users/dependabot[bot]</td>\n",
       "      <td>https://avatars.githubusercontent.com/u/49699333?</td>\n",
       "      <td>...</td>\n",
       "      <td>NaN</td>\n",
       "      <td>NaN</td>\n",
       "      <td>NaN</td>\n",
       "      <td>NaN</td>\n",
       "      <td>NaN</td>\n",
       "      <td>NaN</td>\n",
       "      <td>NaN</td>\n",
       "      <td>NaN</td>\n",
       "      <td>NaN</td>\n",
       "      <td>NaN</td>\n",
       "    </tr>\n",
       "    <tr>\n",
       "      <th>1</th>\n",
       "      <td>16280549303</td>\n",
       "      <td>PullRequestEvent</td>\n",
       "      <td>True</td>\n",
       "      <td>2021-05-10T08:41:55Z</td>\n",
       "      <td>49699333</td>\n",
       "      <td>dependabot[bot]</td>\n",
       "      <td>dependabot</td>\n",
       "      <td></td>\n",
       "      <td>https://api.github.com/users/dependabot[bot]</td>\n",
       "      <td>https://avatars.githubusercontent.com/u/49699333?</td>\n",
       "      <td>...</td>\n",
       "      <td>NaN</td>\n",
       "      <td>NaN</td>\n",
       "      <td>NaN</td>\n",
       "      <td>NaN</td>\n",
       "      <td>NaN</td>\n",
       "      <td>NaN</td>\n",
       "      <td>NaN</td>\n",
       "      <td>NaN</td>\n",
       "      <td>NaN</td>\n",
       "      <td>NaN</td>\n",
       "    </tr>\n",
       "    <tr>\n",
       "      <th>2</th>\n",
       "      <td>16280549297</td>\n",
       "      <td>PushEvent</td>\n",
       "      <td>True</td>\n",
       "      <td>2021-05-10T08:41:55Z</td>\n",
       "      <td>54328862</td>\n",
       "      <td>NatPombubpa</td>\n",
       "      <td>NatPombubpa</td>\n",
       "      <td></td>\n",
       "      <td>https://api.github.com/users/NatPombubpa</td>\n",
       "      <td>https://avatars.githubusercontent.com/u/54328862?</td>\n",
       "      <td>...</td>\n",
       "      <td>NaN</td>\n",
       "      <td>NaN</td>\n",
       "      <td>NaN</td>\n",
       "      <td>NaN</td>\n",
       "      <td>NaN</td>\n",
       "      <td>NaN</td>\n",
       "      <td>NaN</td>\n",
       "      <td>NaN</td>\n",
       "      <td>NaN</td>\n",
       "      <td>NaN</td>\n",
       "    </tr>\n",
       "    <tr>\n",
       "      <th>3</th>\n",
       "      <td>16280549310</td>\n",
       "      <td>IssuesEvent</td>\n",
       "      <td>True</td>\n",
       "      <td>2021-05-10T08:41:55Z</td>\n",
       "      <td>31182578</td>\n",
       "      <td>OSN-DEV</td>\n",
       "      <td>OSN-DEV</td>\n",
       "      <td></td>\n",
       "      <td>https://api.github.com/users/OSN-DEV</td>\n",
       "      <td>https://avatars.githubusercontent.com/u/31182578?</td>\n",
       "      <td>...</td>\n",
       "      <td>NaN</td>\n",
       "      <td>NaN</td>\n",
       "      <td>NaN</td>\n",
       "      <td>NaN</td>\n",
       "      <td>NaN</td>\n",
       "      <td>NaN</td>\n",
       "      <td>NaN</td>\n",
       "      <td>NaN</td>\n",
       "      <td>NaN</td>\n",
       "      <td>NaN</td>\n",
       "    </tr>\n",
       "    <tr>\n",
       "      <th>4</th>\n",
       "      <td>16280549295</td>\n",
       "      <td>DeleteEvent</td>\n",
       "      <td>True</td>\n",
       "      <td>2021-05-10T08:41:55Z</td>\n",
       "      <td>49699333</td>\n",
       "      <td>dependabot[bot]</td>\n",
       "      <td>dependabot</td>\n",
       "      <td></td>\n",
       "      <td>https://api.github.com/users/dependabot[bot]</td>\n",
       "      <td>https://avatars.githubusercontent.com/u/49699333?</td>\n",
       "      <td>...</td>\n",
       "      <td>NaN</td>\n",
       "      <td>NaN</td>\n",
       "      <td>NaN</td>\n",
       "      <td>NaN</td>\n",
       "      <td>NaN</td>\n",
       "      <td>NaN</td>\n",
       "      <td>NaN</td>\n",
       "      <td>NaN</td>\n",
       "      <td>NaN</td>\n",
       "      <td>NaN</td>\n",
       "    </tr>\n",
       "  </tbody>\n",
       "</table>\n",
       "<p>5 rows × 443 columns</p>\n",
       "</div>"
      ],
      "text/plain": [
       "            id              type  public            created_at  actor.id  \\\n",
       "0  16280549323  PullRequestEvent    True  2021-05-10T08:41:55Z  49699333   \n",
       "1  16280549303  PullRequestEvent    True  2021-05-10T08:41:55Z  49699333   \n",
       "2  16280549297         PushEvent    True  2021-05-10T08:41:55Z  54328862   \n",
       "3  16280549310       IssuesEvent    True  2021-05-10T08:41:55Z  31182578   \n",
       "4  16280549295       DeleteEvent    True  2021-05-10T08:41:55Z  49699333   \n",
       "\n",
       "       actor.login actor.display_login actor.gravatar_id  \\\n",
       "0  dependabot[bot]          dependabot                     \n",
       "1  dependabot[bot]          dependabot                     \n",
       "2      NatPombubpa         NatPombubpa                     \n",
       "3          OSN-DEV             OSN-DEV                     \n",
       "4  dependabot[bot]          dependabot                     \n",
       "\n",
       "                                      actor.url  \\\n",
       "0  https://api.github.com/users/dependabot[bot]   \n",
       "1  https://api.github.com/users/dependabot[bot]   \n",
       "2      https://api.github.com/users/NatPombubpa   \n",
       "3          https://api.github.com/users/OSN-DEV   \n",
       "4  https://api.github.com/users/dependabot[bot]   \n",
       "\n",
       "                                    actor.avatar_url  ...  \\\n",
       "0  https://avatars.githubusercontent.com/u/49699333?  ...   \n",
       "1  https://avatars.githubusercontent.com/u/49699333?  ...   \n",
       "2  https://avatars.githubusercontent.com/u/54328862?  ...   \n",
       "3  https://avatars.githubusercontent.com/u/31182578?  ...   \n",
       "4  https://avatars.githubusercontent.com/u/49699333?  ...   \n",
       "\n",
       "   payload.pull_request.merged_by.following_url  \\\n",
       "0                                           NaN   \n",
       "1                                           NaN   \n",
       "2                                           NaN   \n",
       "3                                           NaN   \n",
       "4                                           NaN   \n",
       "\n",
       "  payload.pull_request.merged_by.gists_url  \\\n",
       "0                                      NaN   \n",
       "1                                      NaN   \n",
       "2                                      NaN   \n",
       "3                                      NaN   \n",
       "4                                      NaN   \n",
       "\n",
       "  payload.pull_request.merged_by.starred_url  \\\n",
       "0                                        NaN   \n",
       "1                                        NaN   \n",
       "2                                        NaN   \n",
       "3                                        NaN   \n",
       "4                                        NaN   \n",
       "\n",
       "  payload.pull_request.merged_by.subscriptions_url  \\\n",
       "0                                              NaN   \n",
       "1                                              NaN   \n",
       "2                                              NaN   \n",
       "3                                              NaN   \n",
       "4                                              NaN   \n",
       "\n",
       "   payload.pull_request.merged_by.organizations_url  \\\n",
       "0                                               NaN   \n",
       "1                                               NaN   \n",
       "2                                               NaN   \n",
       "3                                               NaN   \n",
       "4                                               NaN   \n",
       "\n",
       "  payload.pull_request.merged_by.repos_url  \\\n",
       "0                                      NaN   \n",
       "1                                      NaN   \n",
       "2                                      NaN   \n",
       "3                                      NaN   \n",
       "4                                      NaN   \n",
       "\n",
       "   payload.pull_request.merged_by.events_url  \\\n",
       "0                                        NaN   \n",
       "1                                        NaN   \n",
       "2                                        NaN   \n",
       "3                                        NaN   \n",
       "4                                        NaN   \n",
       "\n",
       "  payload.pull_request.merged_by.received_events_url  \\\n",
       "0                                                NaN   \n",
       "1                                                NaN   \n",
       "2                                                NaN   \n",
       "3                                                NaN   \n",
       "4                                                NaN   \n",
       "\n",
       "  payload.pull_request.merged_by.type  \\\n",
       "0                                 NaN   \n",
       "1                                 NaN   \n",
       "2                                 NaN   \n",
       "3                                 NaN   \n",
       "4                                 NaN   \n",
       "\n",
       "  payload.pull_request.merged_by.site_admin  \n",
       "0                                       NaN  \n",
       "1                                       NaN  \n",
       "2                                       NaN  \n",
       "3                                       NaN  \n",
       "4                                       NaN  \n",
       "\n",
       "[5 rows x 443 columns]"
      ]
     },
     "execution_count": 60,
     "metadata": {},
     "output_type": "execute_result"
    }
   ],
   "source": [
    "pd.json_normalize(res_git.json()).head()"
   ]
  },
  {
   "cell_type": "markdown",
   "metadata": {},
   "source": [
    "### [Kaggle](https://www.kaggle.com/docs/api) API\n",
    "\n",
    "Para usar la API de Kaggle, primero tenemos que registrarnos en la página\n",
    "\n",
    "Al pedir el token, se descargará un archivo llamado `kaggla.json`, el cual tendremos que guardar en la carpeta oculta `.kaggle`. \n",
    "\n",
    "Para ocultar el token del resto de usuarios se escribe algo como: `chmod 600 /Users/iudh/.kaggle/kaggle.json` en la terminal."
   ]
  },
  {
   "cell_type": "code",
   "execution_count": null,
   "metadata": {},
   "outputs": [],
   "source": [
    "!pip install kaggle"
   ]
  },
  {
   "cell_type": "code",
   "execution_count": 61,
   "metadata": {},
   "outputs": [],
   "source": [
    "import kaggle"
   ]
  },
  {
   "cell_type": "code",
   "execution_count": 62,
   "metadata": {},
   "outputs": [],
   "source": [
    "from kaggle.api.kaggle_api_extended import KaggleApi\n",
    "\n",
    "api=KaggleApi()\n",
    "api.authenticate()"
   ]
  },
  {
   "cell_type": "code",
   "execution_count": 63,
   "metadata": {},
   "outputs": [],
   "source": [
    "api.dataset_download_files('kazanova/sentiment140', path='./')"
   ]
  },
  {
   "cell_type": "code",
   "execution_count": 64,
   "metadata": {},
   "outputs": [],
   "source": [
    "import zipfile\n",
    "\n",
    "with zipfile.ZipFile('sentiment140.zip', 'r') as zipref:\n",
    "    zipref.extractall('')"
   ]
  },
  {
   "cell_type": "code",
   "execution_count": 65,
   "metadata": {},
   "outputs": [
    {
     "data": {
      "text/html": [
       "<div>\n",
       "<style scoped>\n",
       "    .dataframe tbody tr th:only-of-type {\n",
       "        vertical-align: middle;\n",
       "    }\n",
       "\n",
       "    .dataframe tbody tr th {\n",
       "        vertical-align: top;\n",
       "    }\n",
       "\n",
       "    .dataframe thead th {\n",
       "        text-align: right;\n",
       "    }\n",
       "</style>\n",
       "<table border=\"1\" class=\"dataframe\">\n",
       "  <thead>\n",
       "    <tr style=\"text-align: right;\">\n",
       "      <th></th>\n",
       "      <th>0</th>\n",
       "      <th>1467810369</th>\n",
       "      <th>Mon Apr 06 22:19:45 PDT 2009</th>\n",
       "      <th>NO_QUERY</th>\n",
       "      <th>_TheSpecialOne_</th>\n",
       "      <th>@switchfoot http://twitpic.com/2y1zl - Awww, that's a bummer.  You shoulda got David Carr of Third Day to do it. ;D</th>\n",
       "    </tr>\n",
       "  </thead>\n",
       "  <tbody>\n",
       "    <tr>\n",
       "      <th>0</th>\n",
       "      <td>0</td>\n",
       "      <td>1467810672</td>\n",
       "      <td>Mon Apr 06 22:19:49 PDT 2009</td>\n",
       "      <td>NO_QUERY</td>\n",
       "      <td>scotthamilton</td>\n",
       "      <td>is upset that he can't update his Facebook by ...</td>\n",
       "    </tr>\n",
       "    <tr>\n",
       "      <th>1</th>\n",
       "      <td>0</td>\n",
       "      <td>1467810917</td>\n",
       "      <td>Mon Apr 06 22:19:53 PDT 2009</td>\n",
       "      <td>NO_QUERY</td>\n",
       "      <td>mattycus</td>\n",
       "      <td>@Kenichan I dived many times for the ball. Man...</td>\n",
       "    </tr>\n",
       "    <tr>\n",
       "      <th>2</th>\n",
       "      <td>0</td>\n",
       "      <td>1467811184</td>\n",
       "      <td>Mon Apr 06 22:19:57 PDT 2009</td>\n",
       "      <td>NO_QUERY</td>\n",
       "      <td>ElleCTF</td>\n",
       "      <td>my whole body feels itchy and like its on fire</td>\n",
       "    </tr>\n",
       "    <tr>\n",
       "      <th>3</th>\n",
       "      <td>0</td>\n",
       "      <td>1467811193</td>\n",
       "      <td>Mon Apr 06 22:19:57 PDT 2009</td>\n",
       "      <td>NO_QUERY</td>\n",
       "      <td>Karoli</td>\n",
       "      <td>@nationwideclass no, it's not behaving at all....</td>\n",
       "    </tr>\n",
       "    <tr>\n",
       "      <th>4</th>\n",
       "      <td>0</td>\n",
       "      <td>1467811372</td>\n",
       "      <td>Mon Apr 06 22:20:00 PDT 2009</td>\n",
       "      <td>NO_QUERY</td>\n",
       "      <td>joy_wolf</td>\n",
       "      <td>@Kwesidei not the whole crew</td>\n",
       "    </tr>\n",
       "  </tbody>\n",
       "</table>\n",
       "</div>"
      ],
      "text/plain": [
       "   0  1467810369  Mon Apr 06 22:19:45 PDT 2009  NO_QUERY _TheSpecialOne_  \\\n",
       "0  0  1467810672  Mon Apr 06 22:19:49 PDT 2009  NO_QUERY   scotthamilton   \n",
       "1  0  1467810917  Mon Apr 06 22:19:53 PDT 2009  NO_QUERY        mattycus   \n",
       "2  0  1467811184  Mon Apr 06 22:19:57 PDT 2009  NO_QUERY         ElleCTF   \n",
       "3  0  1467811193  Mon Apr 06 22:19:57 PDT 2009  NO_QUERY          Karoli   \n",
       "4  0  1467811372  Mon Apr 06 22:20:00 PDT 2009  NO_QUERY        joy_wolf   \n",
       "\n",
       "  @switchfoot http://twitpic.com/2y1zl - Awww, that's a bummer.  You shoulda got David Carr of Third Day to do it. ;D  \n",
       "0  is upset that he can't update his Facebook by ...                                                                   \n",
       "1  @Kenichan I dived many times for the ball. Man...                                                                   \n",
       "2    my whole body feels itchy and like its on fire                                                                    \n",
       "3  @nationwideclass no, it's not behaving at all....                                                                   \n",
       "4                      @Kwesidei not the whole crew                                                                    "
      ]
     },
     "execution_count": 65,
     "metadata": {},
     "output_type": "execute_result"
    }
   ],
   "source": [
    "import glob\n",
    "\n",
    "pd.read_csv(glob.glob('*.csv')[0], encoding='ISO-8859-1').head()"
   ]
  },
  {
   "cell_type": "markdown",
   "metadata": {},
   "source": [
    "### [Nasa](https://api.nasa.gov/) API"
   ]
  },
  {
   "cell_type": "code",
   "execution_count": 66,
   "metadata": {},
   "outputs": [],
   "source": [
    "BASE_URL='https://api.nasa.gov/'\n",
    "\n",
    "fotos_marte='mars-photos/api/v1/rovers/curiosity/photos?sol=1000&api_key=DEMO_KEY'\n",
    "\n",
    "res_nasa=requests.get(BASE_URL+fotos_marte)"
   ]
  },
  {
   "cell_type": "code",
   "execution_count": 70,
   "metadata": {},
   "outputs": [],
   "source": [
    "foto_url=res_nasa.json()['photos'][0]['img_src']"
   ]
  },
  {
   "cell_type": "code",
   "execution_count": 71,
   "metadata": {},
   "outputs": [
    {
     "data": {
      "text/html": [
       "<img src=\"http://mars.jpl.nasa.gov/msl-raw-images/proj/msl/redops/ods/surface/sol/01000/opgs/edr/fcam/FLB_486265257EDR_F0481570FHAZ00323M_.JPG\"/>"
      ],
      "text/plain": [
       "<IPython.core.display.Image object>"
      ]
     },
     "metadata": {},
     "output_type": "display_data"
    }
   ],
   "source": [
    "from IPython.display import Image\n",
    "\n",
    "display(Image(url=foto_url))"
   ]
  },
  {
   "cell_type": "code",
   "execution_count": 72,
   "metadata": {},
   "outputs": [],
   "source": [
    "foto_del_dia='planetary/apod?api_key=DEMO_KEY'"
   ]
  },
  {
   "cell_type": "code",
   "execution_count": 73,
   "metadata": {},
   "outputs": [],
   "source": [
    "res_nasa=requests.get(BASE_URL+foto_del_dia)"
   ]
  },
  {
   "cell_type": "code",
   "execution_count": 75,
   "metadata": {},
   "outputs": [
    {
     "data": {
      "text/plain": [
       "'https://apod.nasa.gov/apod/image/2105/M35_CFHT_960.jpg'"
      ]
     },
     "execution_count": 75,
     "metadata": {},
     "output_type": "execute_result"
    }
   ],
   "source": [
    "res_nasa.json()['url']"
   ]
  },
  {
   "cell_type": "code",
   "execution_count": 76,
   "metadata": {},
   "outputs": [
    {
     "data": {
      "text/html": [
       "<img src=\"https://apod.nasa.gov/apod/image/2105/M35_CFHT_960.jpg\"/>"
      ],
      "text/plain": [
       "<IPython.core.display.Image object>"
      ]
     },
     "metadata": {},
     "output_type": "display_data"
    }
   ],
   "source": [
    "display(Image(url=res_nasa.json()['url']))"
   ]
  },
  {
   "cell_type": "markdown",
   "metadata": {},
   "source": [
    "### Twitter API, ejemplo\n",
    "\n",
    "**https://developer.twitter.com/en/apply-for-access.html**\n",
    "    \n",
    "**http://docs.tweepy.org/en/latest/**\n",
    "\n",
    "```python\n",
    "import tweepy\n",
    "\n",
    "API_KEY='apikey'\n",
    "API_SECRET='apisecret'\n",
    "ACCESS_TOKEN='tu_token'\n",
    "TOKEN_SECRET='tu_tokensecret'\n",
    "\n",
    "auth=tweepy.OAuthHandler(API_KEY, API_SECRET)\n",
    "auth.set_access_token(ACCESS_TOKEN, TOKEN_SECRET)\n",
    "\n",
    "api=tweepy.API(auth)\n",
    "\n",
    "\n",
    "def get_followers(user, count=100):\n",
    "    results=api.followers(user, count=count)\n",
    "    followers=[pd.Series(foll._json) for foll in results]\n",
    "    df=pd.DataFrame(followers)\n",
    "    return df\n",
    "\n",
    "\n",
    "ironhack=get_followers('ironhack')\n",
    "ironhack.head()\n",
    "```"
   ]
  }
 ],
 "metadata": {
  "kernelspec": {
   "display_name": "Python 3",
   "language": "python",
   "name": "python3"
  },
  "language_info": {
   "codemirror_mode": {
    "name": "ipython",
    "version": 3
   },
   "file_extension": ".py",
   "mimetype": "text/x-python",
   "name": "python",
   "nbconvert_exporter": "python",
   "pygments_lexer": "ipython3",
   "version": "3.7.10"
  },
  "varInspector": {
   "cols": {
    "lenName": 16,
    "lenType": 16,
    "lenVar": 40
   },
   "kernels_config": {
    "python": {
     "delete_cmd_postfix": "",
     "delete_cmd_prefix": "del ",
     "library": "var_list.py",
     "varRefreshCmd": "print(var_dic_list())"
    },
    "r": {
     "delete_cmd_postfix": ") ",
     "delete_cmd_prefix": "rm(",
     "library": "var_list.r",
     "varRefreshCmd": "cat(var_dic_list()) "
    }
   },
   "types_to_exclude": [
    "module",
    "function",
    "builtin_function_or_method",
    "instance",
    "_Feature"
   ],
   "window_display": false
  }
 },
 "nbformat": 4,
 "nbformat_minor": 4
}
