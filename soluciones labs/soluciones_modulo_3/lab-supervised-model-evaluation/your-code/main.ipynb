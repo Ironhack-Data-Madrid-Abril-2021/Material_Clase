{
 "cells": [
  {
   "cell_type": "markdown",
   "metadata": {},
   "source": [
    "# Supervised Learning Model Evaluation Lab\n",
    "\n",
    "Complete the exercises below to solidify your knowledge and understanding of supervised learning model evaluation."
   ]
  },
  {
   "cell_type": "code",
   "execution_count": 1,
   "metadata": {},
   "outputs": [],
   "source": [
    "import pandas as pd"
   ]
  },
  {
   "cell_type": "markdown",
   "metadata": {},
   "source": [
    "## Regression Model Evaluation"
   ]
  },
  {
   "cell_type": "code",
   "execution_count": 2,
   "metadata": {},
   "outputs": [],
   "source": [
    "from sklearn.datasets import load_boston\n",
    "\n",
    "data = load_boston()\n",
    "\n",
    "X = pd.DataFrame(data[\"data\"], columns=data[\"feature_names\"])\n",
    "y = pd.DataFrame(data[\"target\"], columns=['MEDV'])\n",
    "\n",
    "data = pd.concat([X, y], axis=1)"
   ]
  },
  {
   "cell_type": "markdown",
   "metadata": {},
   "source": [
    "## 1. Split this data set into training (80%) and testing (20%) sets.\n",
    "\n",
    "The `MEDV` field represents the median value of owner-occupied homes (in $1000's) and is the target variable that we will want to predict."
   ]
  },
  {
   "cell_type": "code",
   "execution_count": 3,
   "metadata": {},
   "outputs": [],
   "source": [
    "from sklearn.model_selection import train_test_split\n",
    "X_train, X_test, y_train, y_test=train_test_split(X, y, test_size=0.2)"
   ]
  },
  {
   "cell_type": "markdown",
   "metadata": {},
   "source": [
    "## 2. Train a `LinearRegression` model on this data set and generate predictions on both the training and the testing set."
   ]
  },
  {
   "cell_type": "code",
   "execution_count": 4,
   "metadata": {},
   "outputs": [],
   "source": [
    "from sklearn.linear_model import LinearRegression\n",
    "\n",
    "linreg=LinearRegression()\n",
    "linreg.fit(X_train, y_train)\n",
    "\n",
    "\n",
    "y_pred_train=linreg.predict(X_train)\n",
    "y_pred_test=linreg.predict(X_test)\n"
   ]
  },
  {
   "cell_type": "markdown",
   "metadata": {},
   "source": [
    "## 3. Calculate and print R-squared for both the training and the testing set."
   ]
  },
  {
   "cell_type": "code",
   "execution_count": 5,
   "metadata": {},
   "outputs": [
    {
     "name": "stdout",
     "output_type": "stream",
     "text": [
      "R2 on train set: 0.7611943828704106\n",
      "R2 on test set : 0.6311761582479132\n"
     ]
    }
   ],
   "source": [
    "from sklearn.metrics import r2_score\n",
    "\n",
    "r2_train = r2_score(y_train, y_pred_train)  \n",
    "r2_test = r2_score(y_test, y_pred_test)  \n",
    "\n",
    "print ('R2 on train set: {}'.format(r2_train))\n",
    "print ('R2 on test set : {}'.format(r2_test))"
   ]
  },
  {
   "cell_type": "markdown",
   "metadata": {},
   "source": [
    "## 4. Calculate and print mean squared error for both the training and the testing set."
   ]
  },
  {
   "cell_type": "code",
   "execution_count": 6,
   "metadata": {},
   "outputs": [
    {
     "name": "stdout",
     "output_type": "stream",
     "text": [
      "MSE on train set: 20.504221686718683\n",
      "MSE on test set : 28.940099519941832\n"
     ]
    }
   ],
   "source": [
    "from sklearn.metrics import mean_squared_error\n",
    "\n",
    "mse_train = mean_squared_error(y_train, y_pred_train)\n",
    "mse_test = mean_squared_error(y_test, y_pred_test)\n",
    "\n",
    "print ('MSE on train set: {}'.format(mse_train))\n",
    "print ('MSE on test set : {}'.format(mse_test))"
   ]
  },
  {
   "cell_type": "markdown",
   "metadata": {},
   "source": [
    "## 5. Calculate and print mean absolute error for both the training and the testing set."
   ]
  },
  {
   "cell_type": "code",
   "execution_count": 7,
   "metadata": {},
   "outputs": [
    {
     "name": "stdout",
     "output_type": "stream",
     "text": [
      "MAE on train set: 3.227416365468166\n",
      "MAE on test set : 3.259720236399047\n"
     ]
    }
   ],
   "source": [
    "from sklearn.metrics import mean_absolute_error\n",
    "\n",
    "mae_train = mean_absolute_error(y_train, y_pred_train)\n",
    "mae_test = mean_absolute_error(y_test, y_pred_test)\n",
    "\n",
    "print ('MAE on train set: {}'.format(mae_train))\n",
    "print ('MAE on test set : {}'.format(mae_test))"
   ]
  },
  {
   "cell_type": "markdown",
   "metadata": {},
   "source": [
    "## Classification Model Evaluation"
   ]
  },
  {
   "cell_type": "code",
   "execution_count": 8,
   "metadata": {},
   "outputs": [],
   "source": [
    "from sklearn.datasets import load_iris\n",
    "\n",
    "data = load_iris()\n",
    "\n",
    "X = pd.DataFrame(data[\"data\"], columns=data[\"feature_names\"])\n",
    "y = pd.DataFrame(data[\"target\"], columns=[\"class\"])\n",
    "\n",
    "data = pd.concat([X, y], axis=1)"
   ]
  },
  {
   "cell_type": "markdown",
   "metadata": {},
   "source": [
    "## 6. Split this data set into training (80%) and testing (20%) sets.\n",
    "\n",
    "The `class` field represents the type of flower and is the target variable that we will want to predict."
   ]
  },
  {
   "cell_type": "code",
   "execution_count": 9,
   "metadata": {},
   "outputs": [],
   "source": [
    "X_train, X_test, y_train, y_test=train_test_split(X, y, test_size=0.2)"
   ]
  },
  {
   "cell_type": "markdown",
   "metadata": {},
   "source": [
    "## 7. Train a `LogisticRegression` model on this data set and generate predictions on both the training and the testing set."
   ]
  },
  {
   "cell_type": "code",
   "execution_count": 10,
   "metadata": {},
   "outputs": [],
   "source": [
    "from sklearn.linear_model import LogisticRegression\n",
    "import warnings\n",
    "warnings.simplefilter(\"ignore\")\n",
    "\n",
    "logreg=LogisticRegression()\n",
    "logreg.fit(X_train, y_train)\n",
    "\n",
    "\n",
    "y_pred_train=logreg.predict(X_train)\n",
    "y_pred_test=logreg.predict(X_test)"
   ]
  },
  {
   "cell_type": "markdown",
   "metadata": {},
   "source": [
    "## 8. Calculate and print the accuracy score for both the training and the testing set."
   ]
  },
  {
   "cell_type": "code",
   "execution_count": 11,
   "metadata": {},
   "outputs": [
    {
     "name": "stdout",
     "output_type": "stream",
     "text": [
      "Accuracy on train set: 0.95\n",
      "Accuracy on test set : 0.9666666666666667\n"
     ]
    }
   ],
   "source": [
    "from sklearn.metrics import accuracy_score\n",
    "\n",
    "acc_train = accuracy_score(y_train, y_pred_train)\n",
    "acc_test = accuracy_score(y_test, y_pred_test)\n",
    "\n",
    "\n",
    "print ('Accuracy on train set: {}'.format(acc_train))\n",
    "print ('Accuracy on test set : {}'.format(acc_test))"
   ]
  },
  {
   "cell_type": "markdown",
   "metadata": {},
   "source": [
    "## 9. Calculate and print the balanced accuracy score for both the training and the testing set."
   ]
  },
  {
   "cell_type": "code",
   "execution_count": 12,
   "metadata": {},
   "outputs": [
    {
     "name": "stdout",
     "output_type": "stream",
     "text": [
      "Balanced accuracy on train set: 0.9459459459459459\n",
      "Balanced accuracy on test set : 0.9743589743589745\n"
     ]
    }
   ],
   "source": [
    "from sklearn.metrics import balanced_accuracy_score\n",
    "\n",
    "b_acc_train = balanced_accuracy_score(y_train, y_pred_train)\n",
    "b_acc_test = balanced_accuracy_score(y_test, y_pred_test)\n",
    "\n",
    "\n",
    "print ('Balanced accuracy on train set: {}'.format(b_acc_train))\n",
    "print ('Balanced accuracy on test set : {}'.format(b_acc_test))"
   ]
  },
  {
   "cell_type": "markdown",
   "metadata": {},
   "source": [
    "## 10. Calculate and print the precision score for both the training and the testing set."
   ]
  },
  {
   "cell_type": "code",
   "execution_count": 13,
   "metadata": {},
   "outputs": [
    {
     "name": "stdout",
     "output_type": "stream",
     "text": [
      "Precision score on train set: 0.9574468085106383\n",
      "Precision score on test set : 0.9666666666666667\n"
     ]
    }
   ],
   "source": [
    "from sklearn.metrics import precision_score, recall_score, f1_score\n",
    "\n",
    "ps_train = precision_score(y_train, y_pred_train, average='macro')\n",
    "ps_test = precision_score(y_test, y_pred_test, average='macro')\n",
    "\n",
    "\n",
    "print ('Precision score on train set: {}'.format(ps_train))\n",
    "print ('Precision score on test set : {}'.format(ps_test))"
   ]
  },
  {
   "cell_type": "markdown",
   "metadata": {},
   "source": [
    "## 11. Calculate and print the recall score for both the training and the testing set."
   ]
  },
  {
   "cell_type": "code",
   "execution_count": 14,
   "metadata": {},
   "outputs": [
    {
     "name": "stdout",
     "output_type": "stream",
     "text": [
      "Recall score on train set: 0.9459459459459459\n",
      "Recall score on test set : 0.9743589743589745\n"
     ]
    }
   ],
   "source": [
    "rec_train = recall_score(y_train, y_pred_train, average='macro')\n",
    "rec_test = recall_score(y_test, y_pred_test, average='macro')\n",
    "\n",
    "\n",
    "print ('Recall score on train set: {}'.format(rec_train))\n",
    "print ('Recall score on test set : {}'.format(rec_test))"
   ]
  },
  {
   "cell_type": "markdown",
   "metadata": {},
   "source": [
    "## 12. Calculate and print the F1 score for both the training and the testing set."
   ]
  },
  {
   "cell_type": "code",
   "execution_count": 15,
   "metadata": {},
   "outputs": [
    {
     "name": "stdout",
     "output_type": "stream",
     "text": [
      "F1 score on train set: 0.9478609625668449\n",
      "F1 score on test set : 0.9691228070175439\n"
     ]
    }
   ],
   "source": [
    "f1_train = f1_score(y_train, y_pred_train, average='macro')\n",
    "f1_test = f1_score(y_test, y_pred_test, average='macro')\n",
    "\n",
    "\n",
    "print ('F1 score on train set: {}'.format(f1_train))\n",
    "print ('F1 score on test set : {}'.format(f1_test))"
   ]
  },
  {
   "cell_type": "markdown",
   "metadata": {},
   "source": [
    "## 13. Generate confusion matrices for both the training and the testing set."
   ]
  },
  {
   "cell_type": "code",
   "execution_count": 16,
   "metadata": {},
   "outputs": [
    {
     "name": "stdout",
     "output_type": "stream",
     "text": [
      "[[42  0  0]\n",
      " [ 0 31  6]\n",
      " [ 0  0 41]]\n"
     ]
    },
    {
     "data": {
      "image/png": "[encoded data removed]",
      "text/plain": [
       "<Figure size 432x288 with 2 Axes>"
      ]
     },
     "metadata": {
      "needs_background": "light"
     },
     "output_type": "display_data"
    }
   ],
   "source": [
    "from sklearn.metrics import confusion_matrix\n",
    "import matplotlib.pyplot as plt\n",
    "%matplotlib inline\n",
    "import seaborn as sns\n",
    "\n",
    "# train\n",
    "conf_m_train = confusion_matrix(y_train, y_pred_train)\n",
    "print (conf_m_train)\n",
    "\n",
    "\n",
    "plt.title('Confusion M train')\n",
    "plt.ylabel('Truth')\n",
    "plt.xlabel('Predicted')\n",
    "sns.heatmap(conf_m_train/sum(sum(conf_m_train)), annot=True)\n",
    "plt.show();"
   ]
  },
  {
   "cell_type": "code",
   "execution_count": 17,
   "metadata": {},
   "outputs": [
    {
     "name": "stdout",
     "output_type": "stream",
     "text": [
      "[[ 8  0  0]\n",
      " [ 0 12  1]\n",
      " [ 0  0  9]]\n"
     ]
    },
    {
     "data": {
      "image/png": "[encoded data removed]",
      "text/plain": [
       "<Figure size 432x288 with 2 Axes>"
      ]
     },
     "metadata": {
      "needs_background": "light"
     },
     "output_type": "display_data"
    }
   ],
   "source": [
    "# test\n",
    "conf_m_test = confusion_matrix(y_test, y_pred_test)\n",
    "print (conf_m_test)\n",
    "\n",
    "\n",
    "sns.heatmap(conf_m_test/sum(sum(conf_m_test)), annot=True)\n",
    "plt.title('Confusion M test')\n",
    "plt.ylabel('Truth')\n",
    "plt.xlabel('Predicted')\n",
    "plt.show();"
   ]
  },
  {
   "cell_type": "markdown",
   "metadata": {},
   "source": [
    "## Bonus: For each of the data sets in this lab, try training with some of the other models you have learned about, recalculate the evaluation metrics, and compare to determine which models perform best on each data set."
   ]
  },
  {
   "cell_type": "markdown",
   "metadata": {},
   "source": [
    "# Regression H2O (Boston)\n",
    "\n",
    "**1º**"
   ]
  },
  {
   "cell_type": "code",
   "execution_count": 18,
   "metadata": {},
   "outputs": [
    {
     "name": "stdout",
     "output_type": "stream",
     "text": [
      "Checking whether there is an H2O instance running at http://localhost:54321 ..... not found.\n",
      "Attempting to start a local H2O server...\n",
      "  Java Version: openjdk version \"1.8.0_222\"; OpenJDK Runtime Environment (build 1.8.0_222-8u222-b10-1ubuntu1~18.04.1-b10); OpenJDK 64-Bit Server VM (build 25.222-b10, mixed mode)\n",
      "  Starting server from /home/iudh/.local/lib/python3.7/site-packages/h2o/backend/bin/h2o.jar\n",
      "  Ice root: /tmp/tmpigtvbtrz\n",
      "  JVM stdout: /tmp/tmpigtvbtrz/h2o_iudh_started_from_python.out\n",
      "  JVM stderr: /tmp/tmpigtvbtrz/h2o_iudh_started_from_python.err\n",
      "  Server is running at http://127.0.0.1:54321\n",
      "Connecting to H2O server at http://127.0.0.1:54321 ... successful.\n"
     ]
    },
    {
     "data": {
      "text/html": [
       "<div style=\"overflow:auto\"><table style=\"width:50%\"><tr><td>H2O cluster uptime:</td>\n",
       "<td>08 secs</td></tr>\n",
       "<tr><td>H2O cluster timezone:</td>\n",
       "<td>Europe/Madrid</td></tr>\n",
       "<tr><td>H2O data parsing timezone:</td>\n",
       "<td>UTC</td></tr>\n",
       "<tr><td>H2O cluster version:</td>\n",
       "<td>3.26.0.1</td></tr>\n",
       "<tr><td>H2O cluster version age:</td>\n",
       "<td>17 days </td></tr>\n",
       "<tr><td>H2O cluster name:</td>\n",
       "<td>H2O_from_python_iudh_6rolv8</td></tr>\n",
       "<tr><td>H2O cluster total nodes:</td>\n",
       "<td>1</td></tr>\n",
       "<tr><td>H2O cluster free memory:</td>\n",
       "<td>1.064 Gb</td></tr>\n",
       "<tr><td>H2O cluster total cores:</td>\n",
       "<td>4</td></tr>\n",
       "<tr><td>H2O cluster allowed cores:</td>\n",
       "<td>4</td></tr>\n",
       "<tr><td>H2O cluster status:</td>\n",
       "<td>accepting new members, healthy</td></tr>\n",
       "<tr><td>H2O connection url:</td>\n",
       "<td>http://127.0.0.1:54321</td></tr>\n",
       "<tr><td>H2O connection proxy:</td>\n",
       "<td>None</td></tr>\n",
       "<tr><td>H2O internal security:</td>\n",
       "<td>False</td></tr>\n",
       "<tr><td>H2O API Extensions:</td>\n",
       "<td>Amazon S3, XGBoost, Algos, AutoML, Core V3, Core V4</td></tr>\n",
       "<tr><td>Python version:</td>\n",
       "<td>3.7.2 final</td></tr></table></div>"
      ],
      "text/plain": [
       "--------------------------  ---------------------------------------------------\n",
       "H2O cluster uptime:         08 secs\n",
       "H2O cluster timezone:       Europe/Madrid\n",
       "H2O data parsing timezone:  UTC\n",
       "H2O cluster version:        3.26.0.1\n",
       "H2O cluster version age:    17 days\n",
       "H2O cluster name:           H2O_from_python_iudh_6rolv8\n",
       "H2O cluster total nodes:    1\n",
       "H2O cluster free memory:    1.064 Gb\n",
       "H2O cluster total cores:    4\n",
       "H2O cluster allowed cores:  4\n",
       "H2O cluster status:         accepting new members, healthy\n",
       "H2O connection url:         http://127.0.0.1:54321\n",
       "H2O connection proxy:\n",
       "H2O internal security:      False\n",
       "H2O API Extensions:         Amazon S3, XGBoost, Algos, AutoML, Core V3, Core V4\n",
       "Python version:             3.7.2 final\n",
       "--------------------------  ---------------------------------------------------"
      ]
     },
     "metadata": {},
     "output_type": "display_data"
    }
   ],
   "source": [
    "import h2o\n",
    "from h2o.estimators.glm import H2OGeneralizedLinearEstimator\n",
    "from h2o.estimators.gbm import H2OGradientBoostingEstimator\n",
    "h2o.init()"
   ]
  },
  {
   "cell_type": "code",
   "execution_count": 19,
   "metadata": {},
   "outputs": [],
   "source": [
    "data = load_boston()\n",
    "\n",
    "X = pd.DataFrame(data['data'], columns=data['feature_names'])\n",
    "y = pd.DataFrame(data['target'], columns=['MEDV'])\n",
    "\n",
    "data = pd.concat([X, y], axis=1)"
   ]
  },
  {
   "cell_type": "code",
   "execution_count": 20,
   "metadata": {},
   "outputs": [
    {
     "name": "stdout",
     "output_type": "stream",
     "text": [
      "Parse progress: |█████████████████████████████████████████████████████████| 100%\n"
     ]
    }
   ],
   "source": [
    "data = h2o.H2OFrame(data)"
   ]
  },
  {
   "cell_type": "code",
   "execution_count": 21,
   "metadata": {},
   "outputs": [],
   "source": [
    "train, valid, test = data.split_frame(ratios=[0.6,0.2], seed=1234)\n",
    "response = 'MEDV'"
   ]
  },
  {
   "cell_type": "code",
   "execution_count": 22,
   "metadata": {},
   "outputs": [
    {
     "name": "stdout",
     "output_type": "stream",
     "text": [
      "Number rows train: 311, rows validation: 103, rows test: 92\n"
     ]
    },
    {
     "data": {
      "text/html": [
       "<table>\n",
       "<thead>\n",
       "<tr><th style=\"text-align: right;\">   CRIM</th><th style=\"text-align: right;\">  ZN</th><th style=\"text-align: right;\">  INDUS</th><th style=\"text-align: right;\">  CHAS</th><th style=\"text-align: right;\">  NOX</th><th style=\"text-align: right;\">   RM</th><th style=\"text-align: right;\">  AGE</th><th style=\"text-align: right;\">   DIS</th><th style=\"text-align: right;\">  RAD</th><th style=\"text-align: right;\">  TAX</th><th style=\"text-align: right;\">  PTRATIO</th><th style=\"text-align: right;\">     B</th><th style=\"text-align: right;\">  LSTAT</th><th style=\"text-align: right;\">  MEDV</th></tr>\n",
       "</thead>\n",
       "<tbody>\n",
       "<tr><td style=\"text-align: right;\">0.02731</td><td style=\"text-align: right;\"> 0  </td><td style=\"text-align: right;\">   7.07</td><td style=\"text-align: right;\">     0</td><td style=\"text-align: right;\">0.469</td><td style=\"text-align: right;\">6.421</td><td style=\"text-align: right;\"> 78.9</td><td style=\"text-align: right;\">4.9671</td><td style=\"text-align: right;\">    2</td><td style=\"text-align: right;\">  242</td><td style=\"text-align: right;\">     17.8</td><td style=\"text-align: right;\">396.9 </td><td style=\"text-align: right;\">   9.14</td><td style=\"text-align: right;\">  21.6</td></tr>\n",
       "<tr><td style=\"text-align: right;\">0.06905</td><td style=\"text-align: right;\"> 0  </td><td style=\"text-align: right;\">   2.18</td><td style=\"text-align: right;\">     0</td><td style=\"text-align: right;\">0.458</td><td style=\"text-align: right;\">7.147</td><td style=\"text-align: right;\"> 54.2</td><td style=\"text-align: right;\">6.0622</td><td style=\"text-align: right;\">    3</td><td style=\"text-align: right;\">  222</td><td style=\"text-align: right;\">     18.7</td><td style=\"text-align: right;\">396.9 </td><td style=\"text-align: right;\">   5.33</td><td style=\"text-align: right;\">  36.2</td></tr>\n",
       "<tr><td style=\"text-align: right;\">0.02985</td><td style=\"text-align: right;\"> 0  </td><td style=\"text-align: right;\">   2.18</td><td style=\"text-align: right;\">     0</td><td style=\"text-align: right;\">0.458</td><td style=\"text-align: right;\">6.43 </td><td style=\"text-align: right;\"> 58.7</td><td style=\"text-align: right;\">6.0622</td><td style=\"text-align: right;\">    3</td><td style=\"text-align: right;\">  222</td><td style=\"text-align: right;\">     18.7</td><td style=\"text-align: right;\">394.12</td><td style=\"text-align: right;\">   5.21</td><td style=\"text-align: right;\">  28.7</td></tr>\n",
       "<tr><td style=\"text-align: right;\">0.08829</td><td style=\"text-align: right;\">12.5</td><td style=\"text-align: right;\">   7.87</td><td style=\"text-align: right;\">     0</td><td style=\"text-align: right;\">0.524</td><td style=\"text-align: right;\">6.012</td><td style=\"text-align: right;\"> 66.6</td><td style=\"text-align: right;\">5.5605</td><td style=\"text-align: right;\">    5</td><td style=\"text-align: right;\">  311</td><td style=\"text-align: right;\">     15.2</td><td style=\"text-align: right;\">395.6 </td><td style=\"text-align: right;\">  12.43</td><td style=\"text-align: right;\">  22.9</td></tr>\n",
       "<tr><td style=\"text-align: right;\">0.14455</td><td style=\"text-align: right;\">12.5</td><td style=\"text-align: right;\">   7.87</td><td style=\"text-align: right;\">     0</td><td style=\"text-align: right;\">0.524</td><td style=\"text-align: right;\">6.172</td><td style=\"text-align: right;\"> 96.1</td><td style=\"text-align: right;\">5.9505</td><td style=\"text-align: right;\">    5</td><td style=\"text-align: right;\">  311</td><td style=\"text-align: right;\">     15.2</td><td style=\"text-align: right;\">396.9 </td><td style=\"text-align: right;\">  19.15</td><td style=\"text-align: right;\">  27.1</td></tr>\n",
       "<tr><td style=\"text-align: right;\">0.21124</td><td style=\"text-align: right;\">12.5</td><td style=\"text-align: right;\">   7.87</td><td style=\"text-align: right;\">     0</td><td style=\"text-align: right;\">0.524</td><td style=\"text-align: right;\">5.631</td><td style=\"text-align: right;\">100  </td><td style=\"text-align: right;\">6.0821</td><td style=\"text-align: right;\">    5</td><td style=\"text-align: right;\">  311</td><td style=\"text-align: right;\">     15.2</td><td style=\"text-align: right;\">386.63</td><td style=\"text-align: right;\">  29.93</td><td style=\"text-align: right;\">  16.5</td></tr>\n",
       "<tr><td style=\"text-align: right;\">0.22489</td><td style=\"text-align: right;\">12.5</td><td style=\"text-align: right;\">   7.87</td><td style=\"text-align: right;\">     0</td><td style=\"text-align: right;\">0.524</td><td style=\"text-align: right;\">6.377</td><td style=\"text-align: right;\"> 94.3</td><td style=\"text-align: right;\">6.3467</td><td style=\"text-align: right;\">    5</td><td style=\"text-align: right;\">  311</td><td style=\"text-align: right;\">     15.2</td><td style=\"text-align: right;\">392.52</td><td style=\"text-align: right;\">  20.45</td><td style=\"text-align: right;\">  15  </td></tr>\n",
       "<tr><td style=\"text-align: right;\">0.11747</td><td style=\"text-align: right;\">12.5</td><td style=\"text-align: right;\">   7.87</td><td style=\"text-align: right;\">     0</td><td style=\"text-align: right;\">0.524</td><td style=\"text-align: right;\">6.009</td><td style=\"text-align: right;\"> 82.9</td><td style=\"text-align: right;\">6.2267</td><td style=\"text-align: right;\">    5</td><td style=\"text-align: right;\">  311</td><td style=\"text-align: right;\">     15.2</td><td style=\"text-align: right;\">396.9 </td><td style=\"text-align: right;\">  13.27</td><td style=\"text-align: right;\">  18.9</td></tr>\n",
       "<tr><td style=\"text-align: right;\">0.09378</td><td style=\"text-align: right;\">12.5</td><td style=\"text-align: right;\">   7.87</td><td style=\"text-align: right;\">     0</td><td style=\"text-align: right;\">0.524</td><td style=\"text-align: right;\">5.889</td><td style=\"text-align: right;\"> 39  </td><td style=\"text-align: right;\">5.4509</td><td style=\"text-align: right;\">    5</td><td style=\"text-align: right;\">  311</td><td style=\"text-align: right;\">     15.2</td><td style=\"text-align: right;\">390.5 </td><td style=\"text-align: right;\">  15.71</td><td style=\"text-align: right;\">  21.7</td></tr>\n",
       "<tr><td style=\"text-align: right;\">0.62976</td><td style=\"text-align: right;\"> 0  </td><td style=\"text-align: right;\">   8.14</td><td style=\"text-align: right;\">     0</td><td style=\"text-align: right;\">0.538</td><td style=\"text-align: right;\">5.949</td><td style=\"text-align: right;\"> 61.8</td><td style=\"text-align: right;\">4.7075</td><td style=\"text-align: right;\">    4</td><td style=\"text-align: right;\">  307</td><td style=\"text-align: right;\">     21  </td><td style=\"text-align: right;\">396.9 </td><td style=\"text-align: right;\">   8.26</td><td style=\"text-align: right;\">  20.4</td></tr>\n",
       "</tbody>\n",
       "</table>"
      ]
     },
     "metadata": {},
     "output_type": "display_data"
    },
    {
     "name": "stdout",
     "output_type": "stream",
     "text": [
      "\n"
     ]
    }
   ],
   "source": [
    "print('Number rows train: {}, rows validation: {}, rows test: {}'.format(train.shape[0], \n",
    "                                                                         valid.shape[0], \n",
    "                                                                         test.shape[0]))\n",
    "print(train)"
   ]
  },
  {
   "cell_type": "code",
   "execution_count": 23,
   "metadata": {},
   "outputs": [
    {
     "name": "stdout",
     "output_type": "stream",
     "text": [
      "Training...\n",
      "gbm Model Build progress: |███████████████████████████████████████████████| 100%\n"
     ]
    }
   ],
   "source": [
    "print('Training...')\n",
    "# train\n",
    "predictors = data.columns[:-1]\n",
    "gbm = H2OGradientBoostingEstimator(\n",
    "    stopping_metric = \"rmse\",\n",
    "    categorical_encoding=\"label_encoder\",\n",
    "    max_depth = 5,\n",
    "    ntrees = 4000,\n",
    "    learn_rate = 0.01,\n",
    "    stopping_rounds = 20,\n",
    "    col_sample_rate = 0.7,\n",
    "    sample_rate = 0.7,\n",
    "    seed = 1234,\n",
    ")\n",
    "gbm.train(x=predictors, y=response, training_frame=train, validation_frame=valid)"
   ]
  },
  {
   "cell_type": "code",
   "execution_count": 24,
   "metadata": {},
   "outputs": [
    {
     "name": "stdout",
     "output_type": "stream",
     "text": [
      "\n",
      "ModelMetricsRegression: gbm\n",
      "** Reported on test data. **\n",
      "\n",
      "MSE: 15.5705504534084\n",
      "RMSE: 3.945953681102757\n",
      "MAE: 2.50245519997647\n",
      "RMSLE: 0.1524995458955082\n",
      "Mean Residual Deviance: 15.5705504534084\n",
      "\n"
     ]
    }
   ],
   "source": [
    "perf = gbm.model_performance(test)\n",
    "print (perf)"
   ]
  },
  {
   "cell_type": "markdown",
   "metadata": {},
   "source": [
    "Much better than sklearn.\n",
    "\n",
    "\n",
    "**2º**"
   ]
  },
  {
   "cell_type": "code",
   "execution_count": 25,
   "metadata": {},
   "outputs": [
    {
     "name": "stdout",
     "output_type": "stream",
     "text": [
      "Training...\n",
      "glm Model Build progress: |███████████████████████████████████████████████| 100%\n",
      "\n",
      "ModelMetricsRegressionGLM: glm\n",
      "** Reported on test data. **\n",
      "\n",
      "MSE: 32.075886180907524\n",
      "RMSE: 5.663557731753736\n",
      "MAE: 3.611900808720695\n",
      "RMSLE: 0.22173103305002775\n",
      "R^2: 0.6404399732282234\n",
      "Mean Residual Deviance: 32.07588618090753\n",
      "Null degrees of freedom: 91\n",
      "Residual degrees of freedom: 78\n",
      "Null deviance: 8247.706286215467\n",
      "Residual deviance: 2950.9815286434928\n",
      "AIC: NaN\n",
      "\n"
     ]
    }
   ],
   "source": [
    "print('Training...')\n",
    "# train\n",
    "predictors = data.columns[:-1]\n",
    "glm = H2OGeneralizedLinearEstimator(max_iterations=1000,\n",
    "                                    beta_epsilon=0.01,\n",
    "                                    solver='IRLSM',\n",
    "                                    standardize=True,\n",
    "                                    family='tweedie',\n",
    "                                    alpha=0.51,\n",
    "                                    Lambda=0.0001)\n",
    "    \n",
    "glm.train(x=predictors, y=response, training_frame=train, validation_frame=valid)\n",
    "perf = glm.model_performance(test)\n",
    "print (perf)"
   ]
  },
  {
   "cell_type": "markdown",
   "metadata": {},
   "source": [
    "That one is not better."
   ]
  },
  {
   "cell_type": "markdown",
   "metadata": {},
   "source": [
    "# Classification H2O (Iris)\n",
    "\n",
    "**1º**"
   ]
  },
  {
   "cell_type": "code",
   "execution_count": 26,
   "metadata": {},
   "outputs": [],
   "source": [
    "from h2o.estimators.random_forest import H2ORandomForestEstimator\n",
    "from h2o.estimators.deeplearning import H2ODeepLearningEstimator\n",
    "from h2o.automl import H2OAutoML"
   ]
  },
  {
   "cell_type": "code",
   "execution_count": 27,
   "metadata": {},
   "outputs": [
    {
     "data": {
      "text/plain": [
       "'Virginica'"
      ]
     },
     "execution_count": 27,
     "metadata": {},
     "output_type": "execute_result"
    }
   ],
   "source": [
    "def names(s):\n",
    "    if s==0: return 'Setosa'\n",
    "    if s==1: return 'Versicolour'\n",
    "    if s==2: return 'Virginica'\n",
    "\n",
    "names(2)"
   ]
  },
  {
   "cell_type": "code",
   "execution_count": 28,
   "metadata": {},
   "outputs": [
    {
     "name": "stdout",
     "output_type": "stream",
     "text": [
      "150\n"
     ]
    }
   ],
   "source": [
    "data = load_iris()\n",
    "\n",
    "X = pd.DataFrame(data['data'], columns=data['feature_names'])\n",
    "y = pd.DataFrame(data['target'], columns=['class'])#.apply(lambda x: names(x))\n",
    "\n",
    "print (len(y))\n",
    "\n",
    "data = pd.concat([X, y], axis=1)"
   ]
  },
  {
   "cell_type": "code",
   "execution_count": 29,
   "metadata": {},
   "outputs": [
    {
     "name": "stdout",
     "output_type": "stream",
     "text": [
      "Parse progress: |█████████████████████████████████████████████████████████| 100%\n"
     ]
    },
    {
     "data": {
      "text/html": [
       "<table>\n",
       "<thead>\n",
       "<tr><th style=\"text-align: right;\">  sepal length (cm)</th><th style=\"text-align: right;\">  sepal width (cm)</th><th style=\"text-align: right;\">  petal length (cm)</th><th style=\"text-align: right;\">  petal width (cm)</th><th style=\"text-align: right;\">  class</th></tr>\n",
       "</thead>\n",
       "<tbody>\n",
       "<tr><td style=\"text-align: right;\">                5.1</td><td style=\"text-align: right;\">               3.5</td><td style=\"text-align: right;\">                1.4</td><td style=\"text-align: right;\">               0.2</td><td style=\"text-align: right;\">      0</td></tr>\n",
       "<tr><td style=\"text-align: right;\">                4.9</td><td style=\"text-align: right;\">               3  </td><td style=\"text-align: right;\">                1.4</td><td style=\"text-align: right;\">               0.2</td><td style=\"text-align: right;\">      0</td></tr>\n",
       "<tr><td style=\"text-align: right;\">                4.7</td><td style=\"text-align: right;\">               3.2</td><td style=\"text-align: right;\">                1.3</td><td style=\"text-align: right;\">               0.2</td><td style=\"text-align: right;\">      0</td></tr>\n",
       "<tr><td style=\"text-align: right;\">                4.6</td><td style=\"text-align: right;\">               3.1</td><td style=\"text-align: right;\">                1.5</td><td style=\"text-align: right;\">               0.2</td><td style=\"text-align: right;\">      0</td></tr>\n",
       "<tr><td style=\"text-align: right;\">                5  </td><td style=\"text-align: right;\">               3.6</td><td style=\"text-align: right;\">                1.4</td><td style=\"text-align: right;\">               0.2</td><td style=\"text-align: right;\">      0</td></tr>\n",
       "<tr><td style=\"text-align: right;\">                5.4</td><td style=\"text-align: right;\">               3.9</td><td style=\"text-align: right;\">                1.7</td><td style=\"text-align: right;\">               0.4</td><td style=\"text-align: right;\">      0</td></tr>\n",
       "<tr><td style=\"text-align: right;\">                4.6</td><td style=\"text-align: right;\">               3.4</td><td style=\"text-align: right;\">                1.4</td><td style=\"text-align: right;\">               0.3</td><td style=\"text-align: right;\">      0</td></tr>\n",
       "<tr><td style=\"text-align: right;\">                5  </td><td style=\"text-align: right;\">               3.4</td><td style=\"text-align: right;\">                1.5</td><td style=\"text-align: right;\">               0.2</td><td style=\"text-align: right;\">      0</td></tr>\n",
       "<tr><td style=\"text-align: right;\">                4.4</td><td style=\"text-align: right;\">               2.9</td><td style=\"text-align: right;\">                1.4</td><td style=\"text-align: right;\">               0.2</td><td style=\"text-align: right;\">      0</td></tr>\n",
       "<tr><td style=\"text-align: right;\">                4.9</td><td style=\"text-align: right;\">               3.1</td><td style=\"text-align: right;\">                1.5</td><td style=\"text-align: right;\">               0.1</td><td style=\"text-align: right;\">      0</td></tr>\n",
       "</tbody>\n",
       "</table>"
      ]
     },
     "metadata": {},
     "output_type": "display_data"
    },
    {
     "data": {
      "text/plain": []
     },
     "metadata": {},
     "output_type": "display_data"
    }
   ],
   "source": [
    "data = h2o.H2OFrame(data)\n",
    "display(data)"
   ]
  },
  {
   "cell_type": "code",
   "execution_count": 30,
   "metadata": {},
   "outputs": [],
   "source": [
    "train, valid, test = data.split_frame(ratios=[0.6,0.2], seed=1234)\n",
    "response = 'class'"
   ]
  },
  {
   "cell_type": "code",
   "execution_count": 31,
   "metadata": {},
   "outputs": [
    {
     "name": "stdout",
     "output_type": "stream",
     "text": [
      "Number rows train: 95, rows validation: 28, rows test: 27\n"
     ]
    },
    {
     "data": {
      "text/html": [
       "<table>\n",
       "<thead>\n",
       "<tr><th style=\"text-align: right;\">  sepal length (cm)</th><th style=\"text-align: right;\">  sepal width (cm)</th><th style=\"text-align: right;\">  petal length (cm)</th><th style=\"text-align: right;\">  petal width (cm)</th><th style=\"text-align: right;\">  class</th></tr>\n",
       "</thead>\n",
       "<tbody>\n",
       "<tr><td style=\"text-align: right;\">                4.9</td><td style=\"text-align: right;\">               3  </td><td style=\"text-align: right;\">                1.4</td><td style=\"text-align: right;\">               0.2</td><td style=\"text-align: right;\">      0</td></tr>\n",
       "<tr><td style=\"text-align: right;\">                5  </td><td style=\"text-align: right;\">               3.6</td><td style=\"text-align: right;\">                1.4</td><td style=\"text-align: right;\">               0.2</td><td style=\"text-align: right;\">      0</td></tr>\n",
       "<tr><td style=\"text-align: right;\">                5.4</td><td style=\"text-align: right;\">               3.9</td><td style=\"text-align: right;\">                1.7</td><td style=\"text-align: right;\">               0.4</td><td style=\"text-align: right;\">      0</td></tr>\n",
       "<tr><td style=\"text-align: right;\">                4.6</td><td style=\"text-align: right;\">               3.4</td><td style=\"text-align: right;\">                1.4</td><td style=\"text-align: right;\">               0.3</td><td style=\"text-align: right;\">      0</td></tr>\n",
       "<tr><td style=\"text-align: right;\">                5  </td><td style=\"text-align: right;\">               3.4</td><td style=\"text-align: right;\">                1.5</td><td style=\"text-align: right;\">               0.2</td><td style=\"text-align: right;\">      0</td></tr>\n",
       "<tr><td style=\"text-align: right;\">                4.4</td><td style=\"text-align: right;\">               2.9</td><td style=\"text-align: right;\">                1.4</td><td style=\"text-align: right;\">               0.2</td><td style=\"text-align: right;\">      0</td></tr>\n",
       "<tr><td style=\"text-align: right;\">                5.4</td><td style=\"text-align: right;\">               3.7</td><td style=\"text-align: right;\">                1.5</td><td style=\"text-align: right;\">               0.2</td><td style=\"text-align: right;\">      0</td></tr>\n",
       "<tr><td style=\"text-align: right;\">                4.8</td><td style=\"text-align: right;\">               3.4</td><td style=\"text-align: right;\">                1.6</td><td style=\"text-align: right;\">               0.2</td><td style=\"text-align: right;\">      0</td></tr>\n",
       "<tr><td style=\"text-align: right;\">                4.8</td><td style=\"text-align: right;\">               3  </td><td style=\"text-align: right;\">                1.4</td><td style=\"text-align: right;\">               0.1</td><td style=\"text-align: right;\">      0</td></tr>\n",
       "<tr><td style=\"text-align: right;\">                4.3</td><td style=\"text-align: right;\">               3  </td><td style=\"text-align: right;\">                1.1</td><td style=\"text-align: right;\">               0.1</td><td style=\"text-align: right;\">      0</td></tr>\n",
       "</tbody>\n",
       "</table>"
      ]
     },
     "metadata": {},
     "output_type": "display_data"
    },
    {
     "name": "stdout",
     "output_type": "stream",
     "text": [
      "\n"
     ]
    }
   ],
   "source": [
    "print('Number rows train: {}, rows validation: {}, rows test: {}'.format(train.shape[0], \n",
    "                                                                         valid.shape[0], \n",
    "                                                                         test.shape[0]))\n",
    "print(train)"
   ]
  },
  {
   "cell_type": "code",
   "execution_count": 32,
   "metadata": {},
   "outputs": [
    {
     "name": "stdout",
     "output_type": "stream",
     "text": [
      "Training...\n",
      "AutoML progress: |████████████████████████████████████████████████████████| 100%\n",
      "\n",
      "ModelMetricsRegression: xgboost\n",
      "** Reported on test data. **\n",
      "\n",
      "MSE: 0.03392172338062136\n",
      "RMSE: 0.18417850955152548\n",
      "MAE: 0.07963284408604657\n",
      "RMSLE: 0.07824396664167489\n",
      "Mean Residual Deviance: 0.03392172338062136\n",
      "\n"
     ]
    }
   ],
   "source": [
    "print('Training...')\n",
    "# train\n",
    "predictors = data.columns[:-1]\n",
    "\n",
    "cls = H2OAutoML(max_runtime_secs= 1200,max_models= 10, \n",
    "                seed= 7,nfolds= 10)\n",
    "\n",
    "cls.train(x=predictors, y=response, training_frame=train, \n",
    "          validation_frame=valid)\n",
    "\n",
    "perf = cls.leader.model_performance(test)\n",
    "print (perf)"
   ]
  },
  {
   "cell_type": "code",
   "execution_count": null,
   "metadata": {},
   "outputs": [],
   "source": []
  }
 ],
 "metadata": {
  "kernelspec": {
   "display_name": "Python 3",
   "language": "python",
   "name": "python3"
  },
  "language_info": {
   "codemirror_mode": {
    "name": "ipython",
    "version": 3
   },
   "file_extension": ".py",
   "mimetype": "text/x-python",
   "name": "python",
   "nbconvert_exporter": "python",
   "pygments_lexer": "ipython3",
   "version": "3.7.2"
  }
 },
 "nbformat": 4,
 "nbformat_minor": 2
}
