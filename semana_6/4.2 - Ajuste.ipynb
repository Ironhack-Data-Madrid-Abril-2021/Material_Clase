{
 "cells": [
  {
   "cell_type": "markdown",
   "metadata": {},
   "source": [
    "# 4.2 - Ajuste\n",
    "\n",
    "### GridSearching  -  CrossValidation\n",
    "\n",
    "\n",
    "![grid](images/grid.png)\n",
    "\n",
    "![cv](images/cv.ppm)"
   ]
  },
  {
   "cell_type": "code",
   "execution_count": 1,
   "metadata": {},
   "outputs": [],
   "source": [
    "import warnings\n",
    "warnings.simplefilter('ignore')\n",
    "import numpy as np\n",
    "\n",
    "\n",
    "from sklearn.datasets import make_circles, load_boston\n",
    "from sklearn.model_selection import train_test_split as tts\n",
    "\n",
    "from sklearn.ensemble import RandomForestRegressor as RFR\n",
    "from sklearn.ensemble import RandomForestClassifier as RFC\n",
    "\n",
    "from sklearn.model_selection import GridSearchCV\n",
    "from sklearn.model_selection import RandomizedSearchCV\n",
    "\n",
    "\n",
    "def grid(modelo, param, cv=5):\n",
    "    grid=GridSearchCV(modelo, param, cv=cv, \n",
    "                      iid=True, return_train_score=True, n_jobs=-1)\n",
    "    \n",
    "    grid.fit(X_train, y_train)\n",
    "    \n",
    "    print('Acierto test: {:.2f}'.format(grid.score(X_test, y_test)))\n",
    "    print('Acierto train: {:.2f}'.format(grid.score(X_train, y_train)))\n",
    "    print('Mejores parametros: {}'.format(grid.best_params_))\n",
    "    print('Mejor acierto cv: {:.2f}'.format(grid.best_score_))\n",
    "    \n",
    "    return grid.best_estimator_.fit(X_train, y_train)"
   ]
  },
  {
   "cell_type": "code",
   "execution_count": 2,
   "metadata": {},
   "outputs": [],
   "source": [
    "X=load_boston().data\n",
    "y=load_boston().target"
   ]
  },
  {
   "cell_type": "code",
   "execution_count": 3,
   "metadata": {},
   "outputs": [],
   "source": [
    "X_train, X_test, y_train, y_test = tts(X, y, test_size=.2)"
   ]
  },
  {
   "cell_type": "code",
   "execution_count": 4,
   "metadata": {},
   "outputs": [
    {
     "name": "stdout",
     "output_type": "stream",
     "text": [
      "0.9805067883705321 0.8627950205076776\n"
     ]
    }
   ],
   "source": [
    "rfr=RFR()\n",
    "rfr.fit(X_train, y_train)\n",
    "\n",
    "train_score=rfr.score(X_train, y_train)    # R2\n",
    "test_score=rfr.score(X_test, y_test)\n",
    "\n",
    "print (train_score, test_score)"
   ]
  },
  {
   "cell_type": "code",
   "execution_count": 5,
   "metadata": {},
   "outputs": [],
   "source": [
    "param={'max_leaf_nodes':[5,10,20], 'n_estimators':[10,50,100,500]}"
   ]
  },
  {
   "cell_type": "code",
   "execution_count": 6,
   "metadata": {},
   "outputs": [
    {
     "name": "stdout",
     "output_type": "stream",
     "text": [
      "Acierto test: 0.85\n",
      "Acierto train: 0.94\n",
      "Mejores parametros: {'max_leaf_nodes': 20, 'n_estimators': 100}\n",
      "Mejor acierto cv: 0.84\n"
     ]
    },
    {
     "data": {
      "text/plain": [
       "RandomForestRegressor(max_leaf_nodes=20)"
      ]
     },
     "execution_count": 6,
     "metadata": {},
     "output_type": "execute_result"
    }
   ],
   "source": [
    "grid(rfr, param)"
   ]
  },
  {
   "cell_type": "code",
   "execution_count": 7,
   "metadata": {},
   "outputs": [
    {
     "name": "stdout",
     "output_type": "stream",
     "text": [
      "Acierto test: 0.85\n",
      "Acierto train: 0.94\n",
      "Mejores parametros: {'max_leaf_nodes': 20, 'n_estimators': 100}\n",
      "Mejor acierto cv: 0.84\n"
     ]
    }
   ],
   "source": [
    "modelo=grid(rfr, param)"
   ]
  },
  {
   "cell_type": "code",
   "execution_count": 8,
   "metadata": {},
   "outputs": [
    {
     "data": {
      "text/plain": [
       "array([21.76904993, 13.02344738, 16.11744351, 21.20108478, 13.63258983,\n",
       "       21.47985416, 24.19450145, 34.25638274, 14.7634611 , 15.83674864,\n",
       "       43.66362495, 14.80908008, 20.6412614 , 46.71039293, 20.93542187,\n",
       "       24.61976969, 15.30165552, 22.0790548 , 22.05733524, 10.55604913,\n",
       "       37.9406276 , 25.95304486, 17.00409035, 22.26004423, 21.06756865,\n",
       "       21.06565354, 20.51831028, 22.36744618, 23.958185  , 18.84297156,\n",
       "       23.82259252, 20.61438739,  9.1665539 , 23.75917489, 33.98957384,\n",
       "       22.54948094, 42.26212465, 19.46947959, 35.01891974, 25.24061286,\n",
       "       18.39064385, 20.86696326, 18.42886595, 13.80769635, 21.24083031,\n",
       "       15.24133859, 22.23753421, 36.38275761, 21.11055093, 33.7210833 ,\n",
       "       14.10410364, 21.56223673, 27.50905093, 13.5897193 , 26.69928771,\n",
       "       19.76659112, 11.14330102, 16.89946225, 46.5604031 , 21.5925718 ,\n",
       "       24.13780004, 27.23313132, 16.07478178, 22.5018508 , 23.68252203,\n",
       "       47.87186643, 20.41917692, 20.63719411, 15.32476495, 20.38736825,\n",
       "        9.1665539 , 12.23545257, 14.41412683, 33.96800789, 20.52358187,\n",
       "       17.08231545, 21.1119447 , 11.85722475, 20.78546195, 22.28300778,\n",
       "       21.69777971, 23.76775564, 20.49478795, 20.26116497, 17.9632436 ,\n",
       "       20.79626912, 20.56844851, 10.15594457, 16.13014071, 11.56386102,\n",
       "       19.21626058, 13.78758576, 14.11035873, 16.19150153, 20.67976037,\n",
       "       31.34291328, 33.55067557, 16.10198015, 11.24452468, 23.73252513,\n",
       "       28.11505715, 31.66172607])"
      ]
     },
     "execution_count": 8,
     "metadata": {},
     "output_type": "execute_result"
    }
   ],
   "source": [
    "modelo.predict(X_test)"
   ]
  },
  {
   "cell_type": "code",
   "execution_count": 9,
   "metadata": {},
   "outputs": [
    {
     "data": {
      "text/plain": [
       "0.8559998697092164"
      ]
     },
     "execution_count": 9,
     "metadata": {},
     "output_type": "execute_result"
    }
   ],
   "source": [
    "modelo.score(X_test, y_test)"
   ]
  },
  {
   "cell_type": "markdown",
   "metadata": {},
   "source": [
    "### Random GridSearching"
   ]
  },
  {
   "cell_type": "code",
   "execution_count": 10,
   "metadata": {},
   "outputs": [],
   "source": [
    "X, y = make_circles(noise=0.2, factor=0.5, random_state=1)"
   ]
  },
  {
   "cell_type": "code",
   "execution_count": 11,
   "metadata": {},
   "outputs": [
    {
     "data": {
      "text/plain": [
       "array([[-0.38289117, -0.09084004],\n",
       "       [-0.02096229, -0.47787416],\n",
       "       [-0.39611596, -1.28942694],\n",
       "       [-0.61813018, -0.06383715],\n",
       "       [ 0.70347838, -0.18703837],\n",
       "       [-0.45970463,  0.69477465],\n",
       "       [-0.45091682, -0.71570524],\n",
       "       [-0.45562004, -0.13406016],\n",
       "       [-0.26513904,  0.40812871],\n",
       "       [-0.15474648,  0.41406973]])"
      ]
     },
     "execution_count": 11,
     "metadata": {},
     "output_type": "execute_result"
    }
   ],
   "source": [
    "X[:10]"
   ]
  },
  {
   "cell_type": "code",
   "execution_count": 12,
   "metadata": {},
   "outputs": [
    {
     "data": {
      "text/plain": [
       "array([1, 1, 0, 1, 1, 0, 0, 1, 1, 1])"
      ]
     },
     "execution_count": 12,
     "metadata": {},
     "output_type": "execute_result"
    }
   ],
   "source": [
    "y[:10]"
   ]
  },
  {
   "cell_type": "code",
   "execution_count": 13,
   "metadata": {},
   "outputs": [],
   "source": [
    "n_estimators=[int(x) for x in np.linspace(200, 2000, 10)]\n",
    "\n",
    "max_features=['auto', 'sqrt']\n",
    "\n",
    "min_samples_split=[2, 5, 10]\n",
    "\n",
    "bootstrap=[True, False]"
   ]
  },
  {
   "cell_type": "code",
   "execution_count": 14,
   "metadata": {},
   "outputs": [],
   "source": [
    "random_grid={'n_estimators': n_estimators,\n",
    "             'max_features': max_features,\n",
    "             'min_samples_split':min_samples_split,\n",
    "             'bootstrap': bootstrap}"
   ]
  },
  {
   "cell_type": "code",
   "execution_count": 15,
   "metadata": {},
   "outputs": [],
   "source": [
    "rfc=RFC()"
   ]
  },
  {
   "cell_type": "code",
   "execution_count": 16,
   "metadata": {},
   "outputs": [],
   "source": [
    "rf_random=RandomizedSearchCV(estimator=rfc, \n",
    "                             param_distributions=random_grid,\n",
    "                             n_iter=100,\n",
    "                             cv=3,\n",
    "                             verbose=10,\n",
    "                             n_jobs=-1, \n",
    "                             scoring='roc_auc')"
   ]
  },
  {
   "cell_type": "code",
   "execution_count": 17,
   "metadata": {},
   "outputs": [
    {
     "name": "stdout",
     "output_type": "stream",
     "text": [
      "Fitting 3 folds for each of 100 candidates, totalling 300 fits\n"
     ]
    },
    {
     "name": "stderr",
     "output_type": "stream",
     "text": [
      "[Parallel(n_jobs=-1)]: Using backend LokyBackend with 4 concurrent workers.\n",
      "[Parallel(n_jobs=-1)]: Done   5 tasks      | elapsed:    3.6s\n",
      "[Parallel(n_jobs=-1)]: Done  10 tasks      | elapsed:    4.9s\n",
      "[Parallel(n_jobs=-1)]: Done  17 tasks      | elapsed:    9.5s\n",
      "[Parallel(n_jobs=-1)]: Done  24 tasks      | elapsed:   13.1s\n",
      "[Parallel(n_jobs=-1)]: Done  33 tasks      | elapsed:   19.1s\n",
      "[Parallel(n_jobs=-1)]: Done  42 tasks      | elapsed:   23.7s\n",
      "[Parallel(n_jobs=-1)]: Done  53 tasks      | elapsed:   30.2s\n",
      "[Parallel(n_jobs=-1)]: Done  64 tasks      | elapsed:   35.9s\n",
      "[Parallel(n_jobs=-1)]: Done  77 tasks      | elapsed:   42.5s\n",
      "[Parallel(n_jobs=-1)]: Done  90 tasks      | elapsed:   50.5s\n",
      "[Parallel(n_jobs=-1)]: Done 105 tasks      | elapsed:  1.0min\n",
      "[Parallel(n_jobs=-1)]: Done 120 tasks      | elapsed:  1.1min\n",
      "[Parallel(n_jobs=-1)]: Done 137 tasks      | elapsed:  1.3min\n",
      "[Parallel(n_jobs=-1)]: Done 154 tasks      | elapsed:  1.5min\n",
      "[Parallel(n_jobs=-1)]: Done 173 tasks      | elapsed:  1.7min\n",
      "[Parallel(n_jobs=-1)]: Done 192 tasks      | elapsed:  1.9min\n",
      "[Parallel(n_jobs=-1)]: Done 213 tasks      | elapsed:  2.2min\n",
      "[Parallel(n_jobs=-1)]: Done 234 tasks      | elapsed:  2.5min\n",
      "[Parallel(n_jobs=-1)]: Done 257 tasks      | elapsed:  2.8min\n",
      "[Parallel(n_jobs=-1)]: Done 280 tasks      | elapsed:  3.0min\n",
      "[Parallel(n_jobs=-1)]: Done 300 out of 300 | elapsed:  3.3min finished\n"
     ]
    },
    {
     "data": {
      "text/plain": [
       "RandomizedSearchCV(cv=3, estimator=RandomForestClassifier(), n_iter=100,\n",
       "                   n_jobs=-1,\n",
       "                   param_distributions={'bootstrap': [True, False],\n",
       "                                        'max_features': ['auto', 'sqrt'],\n",
       "                                        'min_samples_split': [2, 5, 10],\n",
       "                                        'n_estimators': [200, 400, 600, 800,\n",
       "                                                         1000, 1200, 1400, 1600,\n",
       "                                                         1800, 2000]},\n",
       "                   scoring='roc_auc', verbose=10)"
      ]
     },
     "execution_count": 17,
     "metadata": {},
     "output_type": "execute_result"
    }
   ],
   "source": [
    "rf_random.fit(X, y)"
   ]
  },
  {
   "cell_type": "code",
   "execution_count": 18,
   "metadata": {},
   "outputs": [
    {
     "data": {
      "text/plain": [
       "RandomForestClassifier(n_estimators=200)"
      ]
     },
     "execution_count": 18,
     "metadata": {},
     "output_type": "execute_result"
    }
   ],
   "source": [
    "rf_random.best_estimator_#.fit()"
   ]
  },
  {
   "cell_type": "code",
   "execution_count": 19,
   "metadata": {},
   "outputs": [
    {
     "data": {
      "text/plain": [
       "0.8864619377162629"
      ]
     },
     "execution_count": 19,
     "metadata": {},
     "output_type": "execute_result"
    }
   ],
   "source": [
    "rf_random.best_score_"
   ]
  },
  {
   "cell_type": "code",
   "execution_count": 20,
   "metadata": {},
   "outputs": [
    {
     "data": {
      "text/plain": [
       "{'n_estimators': 200,\n",
       " 'min_samples_split': 2,\n",
       " 'max_features': 'auto',\n",
       " 'bootstrap': True}"
      ]
     },
     "execution_count": 20,
     "metadata": {},
     "output_type": "execute_result"
    }
   ],
   "source": [
    "rf_random.best_params_"
   ]
  },
  {
   "cell_type": "code",
   "execution_count": 21,
   "metadata": {},
   "outputs": [
    {
     "data": {
      "text/plain": [
       "{'mean_fit_time': array([3.29632664, 1.21592935, 1.00628885, 0.78121932, 2.2064139 ,\n",
       "        2.16841825, 2.43814937, 2.42733057, 1.48365005, 1.9943103 ,\n",
       "        2.88278532, 4.81002204, 1.93234984, 0.4856228 , 3.62025499,\n",
       "        1.80220135, 1.09579452, 1.93177001, 0.48106734, 0.98533312,\n",
       "        2.59269373, 4.83750629, 1.08859793, 2.37498339, 0.36183103,\n",
       "        1.89881587, 3.37632632, 2.3793668 , 2.07435258, 2.04367137,\n",
       "        3.66384395, 4.02165   , 2.70456092, 0.99010865, 1.4645404 ,\n",
       "        0.37290494, 3.51318502, 0.38018489, 1.580966  , 3.4999427 ,\n",
       "        0.99811935, 3.66811625, 1.48873266, 1.01684173, 5.02591554,\n",
       "        2.98087144, 0.48450605, 1.09915312, 3.25797621, 4.87166874,\n",
       "        0.72331993, 4.88487069, 0.98319507, 0.37506938, 1.94839223,\n",
       "        2.2239    , 1.49408786, 1.4847331 , 3.40440416, 3.46738625,\n",
       "        4.91334112, 1.81122828, 3.86154691, 3.89834785, 0.49174809,\n",
       "        3.78325407, 3.97196261, 3.44392633, 2.42267267, 1.10031843,\n",
       "        1.48454603, 3.43580333, 4.01348074, 2.62755378, 1.91145833,\n",
       "        2.64789891, 2.5426987 , 3.01256188, 3.03974501, 2.15425634,\n",
       "        1.92486501, 3.56399361, 3.03429468, 3.81022851, 3.89449771,\n",
       "        3.36103312, 0.74563766, 1.46169639, 0.50619046, 0.35388931,\n",
       "        2.94255201, 2.98284435, 2.46156136, 3.01601752, 4.52186608,\n",
       "        3.92110348, 1.499933  , 1.83544   , 3.01873533, 4.0478433 ]),\n",
       " 'std_fit_time': array([0.03390282, 0.03372532, 0.00917283, 0.01108271, 0.05085427,\n",
       "        0.01665636, 0.03841212, 0.01820913, 0.00962936, 0.02552474,\n",
       "        0.01084928, 0.05588879, 0.0218996 , 0.0087994 , 0.03703262,\n",
       "        0.00213104, 0.01015139, 0.02360427, 0.01072385, 0.01041107,\n",
       "        0.03000123, 0.04072258, 0.01830627, 0.01309243, 0.00549938,\n",
       "        0.02420177, 0.04646662, 0.15722286, 0.09700781, 0.02227725,\n",
       "        0.07571036, 0.11772194, 0.04830189, 0.01890566, 0.00667147,\n",
       "        0.00928183, 0.03526401, 0.00100162, 0.06965807, 0.07881165,\n",
       "        0.03581598, 0.03827923, 0.01097827, 0.01726018, 0.04673592,\n",
       "        0.06344069, 0.02421168, 0.00506857, 0.04192856, 0.04798896,\n",
       "        0.01383482, 0.01583748, 0.01316661, 0.0079199 , 0.0137868 ,\n",
       "        0.03515878, 0.01416046, 0.01489626, 0.02700759, 0.01603971,\n",
       "        0.04527026, 0.00785317, 0.04309439, 0.03404379, 0.00502861,\n",
       "        0.17331221, 0.03552872, 0.0476938 , 0.01575454, 0.0220749 ,\n",
       "        0.0230667 , 0.03595314, 0.07406869, 0.03028746, 0.00859153,\n",
       "        0.01774938, 0.0086519 , 0.07278996, 0.0019161 , 0.17988816,\n",
       "        0.00545834, 0.02973564, 0.04613626, 0.03503284, 0.03059646,\n",
       "        0.02799579, 0.01449026, 0.0205782 , 0.01735282, 0.03675428,\n",
       "        0.01209937, 0.0633719 , 0.0218037 , 0.0129862 , 0.04840979,\n",
       "        0.03069692, 0.00057144, 0.0128248 , 0.04251994, 0.14250205]),\n",
       " 'mean_score_time': array([0.21080478, 0.11089635, 0.07036233, 0.06784813, 0.18916273,\n",
       "        0.21092081, 0.1689504 , 0.17805465, 0.08796414, 0.1431373 ,\n",
       "        0.25693766, 0.33930182, 0.13858644, 0.03490265, 0.34859641,\n",
       "        0.15973528, 0.10566656, 0.12841932, 0.03569126, 0.06410893,\n",
       "        0.2315073 , 0.31574464, 0.09968177, 0.16530935, 0.03917464,\n",
       "        0.13727665, 0.23884964, 0.24457065, 0.193271  , 0.12595201,\n",
       "        0.34358144, 0.2580514 , 0.24870531, 0.07451963, 0.14444542,\n",
       "        0.03986565, 0.23995463, 0.03634405, 0.14379128, 0.30544225,\n",
       "        0.0799396 , 0.35386276, 0.11066063, 0.06837638, 0.33622066,\n",
       "        0.19688193, 0.0384179 , 0.09701705, 0.29716237, 0.33168968,\n",
       "        0.06558275, 0.33323797, 0.07621066, 0.02940575, 0.12884339,\n",
       "        0.19479434, 0.09448457, 0.13833992, 0.21371349, 0.2373093 ,\n",
       "        0.32573326, 0.20992096, 0.29916867, 0.26684475, 0.03622778,\n",
       "        0.35803064, 0.3407077 , 0.23923437, 0.18027735, 0.1052324 ,\n",
       "        0.13418333, 0.32576934, 0.26553726, 0.24439796, 0.1773603 ,\n",
       "        0.23168683, 0.18442567, 0.27428365, 0.27270206, 0.19904462,\n",
       "        0.161714  , 0.24174937, 0.30599928, 0.3417116 , 0.29249859,\n",
       "        0.30228098, 0.06510886, 0.09344983, 0.03319685, 0.02891564,\n",
       "        0.26950097, 0.18537768, 0.1691734 , 0.20685538, 0.29512668,\n",
       "        0.26665918, 0.14035169, 0.15091856, 0.25597755, 0.25379928]),\n",
       " 'std_score_time': array([0.00723318, 0.0196276 , 0.00724323, 0.00504998, 0.00941252,\n",
       "        0.0060624 , 0.00468816, 0.00719807, 0.00492935, 0.00106323,\n",
       "        0.00974973, 0.01406478, 0.00548754, 0.00255616, 0.02243588,\n",
       "        0.00809297, 0.00982981, 0.00724135, 0.00617221, 0.00622406,\n",
       "        0.00384252, 0.00343871, 0.00918489, 0.0100903 , 0.0017753 ,\n",
       "        0.0022753 , 0.02149496, 0.03391022, 0.02850157, 0.01518563,\n",
       "        0.02764092, 0.02707464, 0.00559984, 0.0050069 , 0.00965304,\n",
       "        0.00050362, 0.00688773, 0.00615972, 0.00664995, 0.013174  ,\n",
       "        0.01322258, 0.02183447, 0.02213211, 0.01008702, 0.01101858,\n",
       "        0.00156324, 0.00197532, 0.00878317, 0.00457802, 0.0082592 ,\n",
       "        0.00931706, 0.00689238, 0.01204707, 0.0017039 , 0.0018976 ,\n",
       "        0.00700455, 0.00750587, 0.0039673 , 0.03248866, 0.01237009,\n",
       "        0.00642633, 0.03493264, 0.05870141, 0.01110578, 0.00589807,\n",
       "        0.00327511, 0.00905251, 0.00670837, 0.00348472, 0.00453748,\n",
       "        0.00489605, 0.01129955, 0.0130429 , 0.01504306, 0.00874538,\n",
       "        0.00663686, 0.0219996 , 0.0056648 , 0.05146493, 0.00617085,\n",
       "        0.00990673, 0.00715573, 0.04311986, 0.01383998, 0.01510831,\n",
       "        0.01141147, 0.00920435, 0.00975247, 0.00722103, 0.00708029,\n",
       "        0.00449643, 0.01371301, 0.00390068, 0.00712105, 0.01037883,\n",
       "        0.00639129, 0.00745878, 0.02034763, 0.00558018, 0.02008957]),\n",
       " 'param_n_estimators': masked_array(data=[1200, 600, 400, 400, 1200, 1200, 1000, 1000, 600, 800,\n",
       "                    1600, 2000, 800, 200, 2000, 1000, 600, 800, 200, 400,\n",
       "                    1400, 2000, 600, 1000, 200, 800, 1400, 1200, 1000, 800,\n",
       "                    2000, 1600, 1400, 400, 800, 200, 1400, 200, 800, 1800,\n",
       "                    400, 2000, 600, 400, 2000, 1200, 200, 600, 1800, 2000,\n",
       "                    400, 2000, 400, 200, 800, 1200, 600, 800, 1400, 1400,\n",
       "                    2000, 1000, 1600, 1600, 200, 2000, 2000, 1400, 1000,\n",
       "                    600, 800, 1800, 1600, 1400, 1000, 1400, 1000, 1600,\n",
       "                    1800, 1200, 1000, 1400, 1600, 2000, 1600, 1800, 400,\n",
       "                    600, 200, 200, 1600, 1200, 1000, 1200, 1800, 1600, 800,\n",
       "                    1000, 1600, 1800],\n",
       "              mask=[False, False, False, False, False, False, False, False,\n",
       "                    False, False, False, False, False, False, False, False,\n",
       "                    False, False, False, False, False, False, False, False,\n",
       "                    False, False, False, False, False, False, False, False,\n",
       "                    False, False, False, False, False, False, False, False,\n",
       "                    False, False, False, False, False, False, False, False,\n",
       "                    False, False, False, False, False, False, False, False,\n",
       "                    False, False, False, False, False, False, False, False,\n",
       "                    False, False, False, False, False, False, False, False,\n",
       "                    False, False, False, False, False, False, False, False,\n",
       "                    False, False, False, False, False, False, False, False,\n",
       "                    False, False, False, False, False, False, False, False,\n",
       "                    False, False, False, False],\n",
       "        fill_value='?',\n",
       "             dtype=object),\n",
       " 'param_min_samples_split': masked_array(data=[2, 2, 10, 10, 5, 2, 5, 2, 2, 2, 5, 5, 5, 5, 10, 10, 5,\n",
       "                    5, 10, 5, 2, 2, 5, 10, 5, 10, 10, 5, 5, 2, 2, 2, 10, 2,\n",
       "                    2, 2, 5, 2, 5, 5, 5, 10, 5, 2, 10, 5, 2, 2, 2, 10, 5,\n",
       "                    2, 10, 10, 10, 2, 5, 5, 5, 2, 5, 2, 10, 5, 10, 2, 5, 2,\n",
       "                    2, 10, 2, 2, 2, 5, 2, 2, 10, 10, 10, 10, 5, 10, 2, 5,\n",
       "                    5, 5, 2, 10, 5, 5, 10, 2, 5, 10, 2, 10, 10, 10, 2, 10],\n",
       "              mask=[False, False, False, False, False, False, False, False,\n",
       "                    False, False, False, False, False, False, False, False,\n",
       "                    False, False, False, False, False, False, False, False,\n",
       "                    False, False, False, False, False, False, False, False,\n",
       "                    False, False, False, False, False, False, False, False,\n",
       "                    False, False, False, False, False, False, False, False,\n",
       "                    False, False, False, False, False, False, False, False,\n",
       "                    False, False, False, False, False, False, False, False,\n",
       "                    False, False, False, False, False, False, False, False,\n",
       "                    False, False, False, False, False, False, False, False,\n",
       "                    False, False, False, False, False, False, False, False,\n",
       "                    False, False, False, False, False, False, False, False,\n",
       "                    False, False, False, False],\n",
       "        fill_value='?',\n",
       "             dtype=object),\n",
       " 'param_max_features': masked_array(data=['sqrt', 'auto', 'auto', 'sqrt', 'sqrt', 'sqrt', 'sqrt',\n",
       "                    'sqrt', 'auto', 'sqrt', 'auto', 'auto', 'sqrt', 'sqrt',\n",
       "                    'auto', 'sqrt', 'auto', 'auto', 'auto', 'sqrt', 'auto',\n",
       "                    'sqrt', 'sqrt', 'sqrt', 'auto', 'sqrt', 'auto', 'auto',\n",
       "                    'auto', 'auto', 'sqrt', 'auto', 'sqrt', 'auto', 'sqrt',\n",
       "                    'sqrt', 'sqrt', 'auto', 'sqrt', 'sqrt', 'auto', 'sqrt',\n",
       "                    'auto', 'sqrt', 'sqrt', 'sqrt', 'auto', 'sqrt', 'sqrt',\n",
       "                    'auto', 'auto', 'auto', 'sqrt', 'sqrt', 'auto', 'auto',\n",
       "                    'sqrt', 'auto', 'auto', 'sqrt', 'sqrt', 'auto', 'auto',\n",
       "                    'sqrt', 'sqrt', 'auto', 'auto', 'auto', 'auto', 'auto',\n",
       "                    'auto', 'auto', 'sqrt', 'sqrt', 'sqrt', 'sqrt', 'auto',\n",
       "                    'auto', 'auto', 'sqrt', 'sqrt', 'sqrt', 'sqrt', 'sqrt',\n",
       "                    'auto', 'auto', 'auto', 'auto', 'auto', 'sqrt', 'sqrt',\n",
       "                    'auto', 'auto', 'sqrt', 'sqrt', 'sqrt', 'sqrt', 'auto',\n",
       "                    'auto', 'auto'],\n",
       "              mask=[False, False, False, False, False, False, False, False,\n",
       "                    False, False, False, False, False, False, False, False,\n",
       "                    False, False, False, False, False, False, False, False,\n",
       "                    False, False, False, False, False, False, False, False,\n",
       "                    False, False, False, False, False, False, False, False,\n",
       "                    False, False, False, False, False, False, False, False,\n",
       "                    False, False, False, False, False, False, False, False,\n",
       "                    False, False, False, False, False, False, False, False,\n",
       "                    False, False, False, False, False, False, False, False,\n",
       "                    False, False, False, False, False, False, False, False,\n",
       "                    False, False, False, False, False, False, False, False,\n",
       "                    False, False, False, False, False, False, False, False,\n",
       "                    False, False, False, False],\n",
       "        fill_value='?',\n",
       "             dtype=object),\n",
       " 'param_bootstrap': masked_array(data=[True, False, True, False, False, False, True, True,\n",
       "                    True, True, False, True, True, True, False, False,\n",
       "                    False, True, True, True, False, True, False, True,\n",
       "                    False, True, True, False, False, True, False, True,\n",
       "                    False, True, False, False, True, False, False, False,\n",
       "                    True, False, True, True, True, True, True, False,\n",
       "                    False, True, False, True, True, False, True, False,\n",
       "                    True, False, True, True, True, False, True, True, True,\n",
       "                    False, False, True, True, False, False, False, True,\n",
       "                    False, False, False, True, False, False, False, False,\n",
       "                    True, False, False, True, False, False, True, True,\n",
       "                    False, False, True, True, True, True, True, False,\n",
       "                    False, False, True],\n",
       "              mask=[False, False, False, False, False, False, False, False,\n",
       "                    False, False, False, False, False, False, False, False,\n",
       "                    False, False, False, False, False, False, False, False,\n",
       "                    False, False, False, False, False, False, False, False,\n",
       "                    False, False, False, False, False, False, False, False,\n",
       "                    False, False, False, False, False, False, False, False,\n",
       "                    False, False, False, False, False, False, False, False,\n",
       "                    False, False, False, False, False, False, False, False,\n",
       "                    False, False, False, False, False, False, False, False,\n",
       "                    False, False, False, False, False, False, False, False,\n",
       "                    False, False, False, False, False, False, False, False,\n",
       "                    False, False, False, False, False, False, False, False,\n",
       "                    False, False, False, False],\n",
       "        fill_value='?',\n",
       "             dtype=object),\n",
       " 'params': [{'n_estimators': 1200,\n",
       "   'min_samples_split': 2,\n",
       "   'max_features': 'sqrt',\n",
       "   'bootstrap': True},\n",
       "  {'n_estimators': 600,\n",
       "   'min_samples_split': 2,\n",
       "   'max_features': 'auto',\n",
       "   'bootstrap': False},\n",
       "  {'n_estimators': 400,\n",
       "   'min_samples_split': 10,\n",
       "   'max_features': 'auto',\n",
       "   'bootstrap': True},\n",
       "  {'n_estimators': 400,\n",
       "   'min_samples_split': 10,\n",
       "   'max_features': 'sqrt',\n",
       "   'bootstrap': False},\n",
       "  {'n_estimators': 1200,\n",
       "   'min_samples_split': 5,\n",
       "   'max_features': 'sqrt',\n",
       "   'bootstrap': False},\n",
       "  {'n_estimators': 1200,\n",
       "   'min_samples_split': 2,\n",
       "   'max_features': 'sqrt',\n",
       "   'bootstrap': False},\n",
       "  {'n_estimators': 1000,\n",
       "   'min_samples_split': 5,\n",
       "   'max_features': 'sqrt',\n",
       "   'bootstrap': True},\n",
       "  {'n_estimators': 1000,\n",
       "   'min_samples_split': 2,\n",
       "   'max_features': 'sqrt',\n",
       "   'bootstrap': True},\n",
       "  {'n_estimators': 600,\n",
       "   'min_samples_split': 2,\n",
       "   'max_features': 'auto',\n",
       "   'bootstrap': True},\n",
       "  {'n_estimators': 800,\n",
       "   'min_samples_split': 2,\n",
       "   'max_features': 'sqrt',\n",
       "   'bootstrap': True},\n",
       "  {'n_estimators': 1600,\n",
       "   'min_samples_split': 5,\n",
       "   'max_features': 'auto',\n",
       "   'bootstrap': False},\n",
       "  {'n_estimators': 2000,\n",
       "   'min_samples_split': 5,\n",
       "   'max_features': 'auto',\n",
       "   'bootstrap': True},\n",
       "  {'n_estimators': 800,\n",
       "   'min_samples_split': 5,\n",
       "   'max_features': 'sqrt',\n",
       "   'bootstrap': True},\n",
       "  {'n_estimators': 200,\n",
       "   'min_samples_split': 5,\n",
       "   'max_features': 'sqrt',\n",
       "   'bootstrap': True},\n",
       "  {'n_estimators': 2000,\n",
       "   'min_samples_split': 10,\n",
       "   'max_features': 'auto',\n",
       "   'bootstrap': False},\n",
       "  {'n_estimators': 1000,\n",
       "   'min_samples_split': 10,\n",
       "   'max_features': 'sqrt',\n",
       "   'bootstrap': False},\n",
       "  {'n_estimators': 600,\n",
       "   'min_samples_split': 5,\n",
       "   'max_features': 'auto',\n",
       "   'bootstrap': False},\n",
       "  {'n_estimators': 800,\n",
       "   'min_samples_split': 5,\n",
       "   'max_features': 'auto',\n",
       "   'bootstrap': True},\n",
       "  {'n_estimators': 200,\n",
       "   'min_samples_split': 10,\n",
       "   'max_features': 'auto',\n",
       "   'bootstrap': True},\n",
       "  {'n_estimators': 400,\n",
       "   'min_samples_split': 5,\n",
       "   'max_features': 'sqrt',\n",
       "   'bootstrap': True},\n",
       "  {'n_estimators': 1400,\n",
       "   'min_samples_split': 2,\n",
       "   'max_features': 'auto',\n",
       "   'bootstrap': False},\n",
       "  {'n_estimators': 2000,\n",
       "   'min_samples_split': 2,\n",
       "   'max_features': 'sqrt',\n",
       "   'bootstrap': True},\n",
       "  {'n_estimators': 600,\n",
       "   'min_samples_split': 5,\n",
       "   'max_features': 'sqrt',\n",
       "   'bootstrap': False},\n",
       "  {'n_estimators': 1000,\n",
       "   'min_samples_split': 10,\n",
       "   'max_features': 'sqrt',\n",
       "   'bootstrap': True},\n",
       "  {'n_estimators': 200,\n",
       "   'min_samples_split': 5,\n",
       "   'max_features': 'auto',\n",
       "   'bootstrap': False},\n",
       "  {'n_estimators': 800,\n",
       "   'min_samples_split': 10,\n",
       "   'max_features': 'sqrt',\n",
       "   'bootstrap': True},\n",
       "  {'n_estimators': 1400,\n",
       "   'min_samples_split': 10,\n",
       "   'max_features': 'auto',\n",
       "   'bootstrap': True},\n",
       "  {'n_estimators': 1200,\n",
       "   'min_samples_split': 5,\n",
       "   'max_features': 'auto',\n",
       "   'bootstrap': False},\n",
       "  {'n_estimators': 1000,\n",
       "   'min_samples_split': 5,\n",
       "   'max_features': 'auto',\n",
       "   'bootstrap': False},\n",
       "  {'n_estimators': 800,\n",
       "   'min_samples_split': 2,\n",
       "   'max_features': 'auto',\n",
       "   'bootstrap': True},\n",
       "  {'n_estimators': 2000,\n",
       "   'min_samples_split': 2,\n",
       "   'max_features': 'sqrt',\n",
       "   'bootstrap': False},\n",
       "  {'n_estimators': 1600,\n",
       "   'min_samples_split': 2,\n",
       "   'max_features': 'auto',\n",
       "   'bootstrap': True},\n",
       "  {'n_estimators': 1400,\n",
       "   'min_samples_split': 10,\n",
       "   'max_features': 'sqrt',\n",
       "   'bootstrap': False},\n",
       "  {'n_estimators': 400,\n",
       "   'min_samples_split': 2,\n",
       "   'max_features': 'auto',\n",
       "   'bootstrap': True},\n",
       "  {'n_estimators': 800,\n",
       "   'min_samples_split': 2,\n",
       "   'max_features': 'sqrt',\n",
       "   'bootstrap': False},\n",
       "  {'n_estimators': 200,\n",
       "   'min_samples_split': 2,\n",
       "   'max_features': 'sqrt',\n",
       "   'bootstrap': False},\n",
       "  {'n_estimators': 1400,\n",
       "   'min_samples_split': 5,\n",
       "   'max_features': 'sqrt',\n",
       "   'bootstrap': True},\n",
       "  {'n_estimators': 200,\n",
       "   'min_samples_split': 2,\n",
       "   'max_features': 'auto',\n",
       "   'bootstrap': False},\n",
       "  {'n_estimators': 800,\n",
       "   'min_samples_split': 5,\n",
       "   'max_features': 'sqrt',\n",
       "   'bootstrap': False},\n",
       "  {'n_estimators': 1800,\n",
       "   'min_samples_split': 5,\n",
       "   'max_features': 'sqrt',\n",
       "   'bootstrap': False},\n",
       "  {'n_estimators': 400,\n",
       "   'min_samples_split': 5,\n",
       "   'max_features': 'auto',\n",
       "   'bootstrap': True},\n",
       "  {'n_estimators': 2000,\n",
       "   'min_samples_split': 10,\n",
       "   'max_features': 'sqrt',\n",
       "   'bootstrap': False},\n",
       "  {'n_estimators': 600,\n",
       "   'min_samples_split': 5,\n",
       "   'max_features': 'auto',\n",
       "   'bootstrap': True},\n",
       "  {'n_estimators': 400,\n",
       "   'min_samples_split': 2,\n",
       "   'max_features': 'sqrt',\n",
       "   'bootstrap': True},\n",
       "  {'n_estimators': 2000,\n",
       "   'min_samples_split': 10,\n",
       "   'max_features': 'sqrt',\n",
       "   'bootstrap': True},\n",
       "  {'n_estimators': 1200,\n",
       "   'min_samples_split': 5,\n",
       "   'max_features': 'sqrt',\n",
       "   'bootstrap': True},\n",
       "  {'n_estimators': 200,\n",
       "   'min_samples_split': 2,\n",
       "   'max_features': 'auto',\n",
       "   'bootstrap': True},\n",
       "  {'n_estimators': 600,\n",
       "   'min_samples_split': 2,\n",
       "   'max_features': 'sqrt',\n",
       "   'bootstrap': False},\n",
       "  {'n_estimators': 1800,\n",
       "   'min_samples_split': 2,\n",
       "   'max_features': 'sqrt',\n",
       "   'bootstrap': False},\n",
       "  {'n_estimators': 2000,\n",
       "   'min_samples_split': 10,\n",
       "   'max_features': 'auto',\n",
       "   'bootstrap': True},\n",
       "  {'n_estimators': 400,\n",
       "   'min_samples_split': 5,\n",
       "   'max_features': 'auto',\n",
       "   'bootstrap': False},\n",
       "  {'n_estimators': 2000,\n",
       "   'min_samples_split': 2,\n",
       "   'max_features': 'auto',\n",
       "   'bootstrap': True},\n",
       "  {'n_estimators': 400,\n",
       "   'min_samples_split': 10,\n",
       "   'max_features': 'sqrt',\n",
       "   'bootstrap': True},\n",
       "  {'n_estimators': 200,\n",
       "   'min_samples_split': 10,\n",
       "   'max_features': 'sqrt',\n",
       "   'bootstrap': False},\n",
       "  {'n_estimators': 800,\n",
       "   'min_samples_split': 10,\n",
       "   'max_features': 'auto',\n",
       "   'bootstrap': True},\n",
       "  {'n_estimators': 1200,\n",
       "   'min_samples_split': 2,\n",
       "   'max_features': 'auto',\n",
       "   'bootstrap': False},\n",
       "  {'n_estimators': 600,\n",
       "   'min_samples_split': 5,\n",
       "   'max_features': 'sqrt',\n",
       "   'bootstrap': True},\n",
       "  {'n_estimators': 800,\n",
       "   'min_samples_split': 5,\n",
       "   'max_features': 'auto',\n",
       "   'bootstrap': False},\n",
       "  {'n_estimators': 1400,\n",
       "   'min_samples_split': 5,\n",
       "   'max_features': 'auto',\n",
       "   'bootstrap': True},\n",
       "  {'n_estimators': 1400,\n",
       "   'min_samples_split': 2,\n",
       "   'max_features': 'sqrt',\n",
       "   'bootstrap': True},\n",
       "  {'n_estimators': 2000,\n",
       "   'min_samples_split': 5,\n",
       "   'max_features': 'sqrt',\n",
       "   'bootstrap': True},\n",
       "  {'n_estimators': 1000,\n",
       "   'min_samples_split': 2,\n",
       "   'max_features': 'auto',\n",
       "   'bootstrap': False},\n",
       "  {'n_estimators': 1600,\n",
       "   'min_samples_split': 10,\n",
       "   'max_features': 'auto',\n",
       "   'bootstrap': True},\n",
       "  {'n_estimators': 1600,\n",
       "   'min_samples_split': 5,\n",
       "   'max_features': 'sqrt',\n",
       "   'bootstrap': True},\n",
       "  {'n_estimators': 200,\n",
       "   'min_samples_split': 10,\n",
       "   'max_features': 'sqrt',\n",
       "   'bootstrap': True},\n",
       "  {'n_estimators': 2000,\n",
       "   'min_samples_split': 2,\n",
       "   'max_features': 'auto',\n",
       "   'bootstrap': False},\n",
       "  {'n_estimators': 2000,\n",
       "   'min_samples_split': 5,\n",
       "   'max_features': 'auto',\n",
       "   'bootstrap': False},\n",
       "  {'n_estimators': 1400,\n",
       "   'min_samples_split': 2,\n",
       "   'max_features': 'auto',\n",
       "   'bootstrap': True},\n",
       "  {'n_estimators': 1000,\n",
       "   'min_samples_split': 2,\n",
       "   'max_features': 'auto',\n",
       "   'bootstrap': True},\n",
       "  {'n_estimators': 600,\n",
       "   'min_samples_split': 10,\n",
       "   'max_features': 'auto',\n",
       "   'bootstrap': False},\n",
       "  {'n_estimators': 800,\n",
       "   'min_samples_split': 2,\n",
       "   'max_features': 'auto',\n",
       "   'bootstrap': False},\n",
       "  {'n_estimators': 1800,\n",
       "   'min_samples_split': 2,\n",
       "   'max_features': 'auto',\n",
       "   'bootstrap': False},\n",
       "  {'n_estimators': 1600,\n",
       "   'min_samples_split': 2,\n",
       "   'max_features': 'sqrt',\n",
       "   'bootstrap': True},\n",
       "  {'n_estimators': 1400,\n",
       "   'min_samples_split': 5,\n",
       "   'max_features': 'sqrt',\n",
       "   'bootstrap': False},\n",
       "  {'n_estimators': 1000,\n",
       "   'min_samples_split': 2,\n",
       "   'max_features': 'sqrt',\n",
       "   'bootstrap': False},\n",
       "  {'n_estimators': 1400,\n",
       "   'min_samples_split': 2,\n",
       "   'max_features': 'sqrt',\n",
       "   'bootstrap': False},\n",
       "  {'n_estimators': 1000,\n",
       "   'min_samples_split': 10,\n",
       "   'max_features': 'auto',\n",
       "   'bootstrap': True},\n",
       "  {'n_estimators': 1600,\n",
       "   'min_samples_split': 10,\n",
       "   'max_features': 'auto',\n",
       "   'bootstrap': False},\n",
       "  {'n_estimators': 1800,\n",
       "   'min_samples_split': 10,\n",
       "   'max_features': 'auto',\n",
       "   'bootstrap': False},\n",
       "  {'n_estimators': 1200,\n",
       "   'min_samples_split': 10,\n",
       "   'max_features': 'sqrt',\n",
       "   'bootstrap': False},\n",
       "  {'n_estimators': 1000,\n",
       "   'min_samples_split': 5,\n",
       "   'max_features': 'sqrt',\n",
       "   'bootstrap': False},\n",
       "  {'n_estimators': 1400,\n",
       "   'min_samples_split': 10,\n",
       "   'max_features': 'sqrt',\n",
       "   'bootstrap': True},\n",
       "  {'n_estimators': 1600,\n",
       "   'min_samples_split': 2,\n",
       "   'max_features': 'sqrt',\n",
       "   'bootstrap': False},\n",
       "  {'n_estimators': 2000,\n",
       "   'min_samples_split': 5,\n",
       "   'max_features': 'sqrt',\n",
       "   'bootstrap': False},\n",
       "  {'n_estimators': 1600,\n",
       "   'min_samples_split': 5,\n",
       "   'max_features': 'auto',\n",
       "   'bootstrap': True},\n",
       "  {'n_estimators': 1800,\n",
       "   'min_samples_split': 5,\n",
       "   'max_features': 'auto',\n",
       "   'bootstrap': False},\n",
       "  {'n_estimators': 400,\n",
       "   'min_samples_split': 2,\n",
       "   'max_features': 'auto',\n",
       "   'bootstrap': False},\n",
       "  {'n_estimators': 600,\n",
       "   'min_samples_split': 10,\n",
       "   'max_features': 'auto',\n",
       "   'bootstrap': True},\n",
       "  {'n_estimators': 200,\n",
       "   'min_samples_split': 5,\n",
       "   'max_features': 'auto',\n",
       "   'bootstrap': True},\n",
       "  {'n_estimators': 200,\n",
       "   'min_samples_split': 5,\n",
       "   'max_features': 'sqrt',\n",
       "   'bootstrap': False},\n",
       "  {'n_estimators': 1600,\n",
       "   'min_samples_split': 10,\n",
       "   'max_features': 'sqrt',\n",
       "   'bootstrap': False},\n",
       "  {'n_estimators': 1200,\n",
       "   'min_samples_split': 2,\n",
       "   'max_features': 'auto',\n",
       "   'bootstrap': True},\n",
       "  {'n_estimators': 1000,\n",
       "   'min_samples_split': 5,\n",
       "   'max_features': 'auto',\n",
       "   'bootstrap': True},\n",
       "  {'n_estimators': 1200,\n",
       "   'min_samples_split': 10,\n",
       "   'max_features': 'sqrt',\n",
       "   'bootstrap': True},\n",
       "  {'n_estimators': 1800,\n",
       "   'min_samples_split': 2,\n",
       "   'max_features': 'sqrt',\n",
       "   'bootstrap': True},\n",
       "  {'n_estimators': 1600,\n",
       "   'min_samples_split': 10,\n",
       "   'max_features': 'sqrt',\n",
       "   'bootstrap': True},\n",
       "  {'n_estimators': 800,\n",
       "   'min_samples_split': 10,\n",
       "   'max_features': 'sqrt',\n",
       "   'bootstrap': False},\n",
       "  {'n_estimators': 1000,\n",
       "   'min_samples_split': 10,\n",
       "   'max_features': 'auto',\n",
       "   'bootstrap': False},\n",
       "  {'n_estimators': 1600,\n",
       "   'min_samples_split': 2,\n",
       "   'max_features': 'auto',\n",
       "   'bootstrap': False},\n",
       "  {'n_estimators': 1800,\n",
       "   'min_samples_split': 10,\n",
       "   'max_features': 'auto',\n",
       "   'bootstrap': True}],\n",
       " 'split0_test_score': array([0.82698962, 0.81487889, 0.77854671, 0.80449827, 0.80449827,\n",
       "        0.81141869, 0.79930796, 0.83391003, 0.82698962, 0.82698962,\n",
       "        0.80449827, 0.79584775, 0.78200692, 0.79584775, 0.78719723,\n",
       "        0.78719723, 0.80449827, 0.79930796, 0.80968858, 0.80968858,\n",
       "        0.80795848, 0.82698962, 0.80795848, 0.79584775, 0.80449827,\n",
       "        0.77854671, 0.79930796, 0.81141869, 0.81141869, 0.83044983,\n",
       "        0.80968858, 0.82698962, 0.78892734, 0.83737024, 0.80795848,\n",
       "        0.816609  , 0.79584775, 0.79930796, 0.81141869, 0.80103806,\n",
       "        0.79238754, 0.78719723, 0.80622837, 0.83044983, 0.79930796,\n",
       "        0.79238754, 0.83217993, 0.81487889, 0.80795848, 0.79584775,\n",
       "        0.81141869, 0.83044983, 0.79930796, 0.78200692, 0.79584775,\n",
       "        0.80795848, 0.79238754, 0.81141869, 0.80622837, 0.83044983,\n",
       "        0.79930796, 0.81141869, 0.79584775, 0.79584775, 0.80968858,\n",
       "        0.80795848, 0.80449827, 0.83044983, 0.82698962, 0.79065744,\n",
       "        0.81141869, 0.80622837, 0.82352941, 0.80795848, 0.80968858,\n",
       "        0.80795848, 0.79930796, 0.78719723, 0.78892734, 0.78719723,\n",
       "        0.81141869, 0.79584775, 0.81141869, 0.80795848, 0.79584775,\n",
       "        0.80449827, 0.81487889, 0.79238754, 0.79238754, 0.78719723,\n",
       "        0.78719723, 0.82352941, 0.78892734, 0.79930796, 0.82698962,\n",
       "        0.79238754, 0.79065744, 0.79065744, 0.80968858, 0.79584775]),\n",
       " 'split1_test_score': array([0.86948529, 0.84742647, 0.86397059, 0.81985294, 0.82169118,\n",
       "        0.84558824, 0.86029412, 0.87867647, 0.86580882, 0.86764706,\n",
       "        0.82169118, 0.85661765, 0.84191176, 0.85294118, 0.81433824,\n",
       "        0.81433824, 0.81433824, 0.83823529, 0.86764706, 0.86397059,\n",
       "        0.84558824, 0.86764706, 0.81801471, 0.86397059, 0.81801471,\n",
       "        0.86029412, 0.86764706, 0.82169118, 0.81433824, 0.87867647,\n",
       "        0.84375   , 0.86764706, 0.81433824, 0.87867647, 0.84558824,\n",
       "        0.84375   , 0.85661765, 0.84558824, 0.82169118, 0.82169118,\n",
       "        0.85294118, 0.81433824, 0.86397059, 0.87683824, 0.85294118,\n",
       "        0.84191176, 0.89338235, 0.84191176, 0.84558824, 0.86029412,\n",
       "        0.81066176, 0.88051471, 0.86764706, 0.81066176, 0.86764706,\n",
       "        0.84742647, 0.86764706, 0.82720588, 0.86397059, 0.86948529,\n",
       "        0.85294118, 0.84558824, 0.86764706, 0.84558824, 0.86397059,\n",
       "        0.84558824, 0.82169118, 0.875     , 0.86764706, 0.81433824,\n",
       "        0.84558824, 0.84558824, 0.87132353, 0.82169118, 0.84007353,\n",
       "        0.84558824, 0.86397059, 0.81433824, 0.81433824, 0.81433824,\n",
       "        0.82169118, 0.86764706, 0.84926471, 0.82169118, 0.84558824,\n",
       "        0.82720588, 0.84558824, 0.87132353, 0.875     , 0.83088235,\n",
       "        0.81066176, 0.87132353, 0.84926471, 0.86397059, 0.86397059,\n",
       "        0.86397059, 0.81433824, 0.81433824, 0.84558824, 0.86029412]),\n",
       " 'split2_test_score': array([0.9375    , 0.88602941, 0.96323529, 0.92463235, 0.92279412,\n",
       "        0.88602941, 0.95220588, 0.94117647, 0.94669118, 0.94852941,\n",
       "        0.92647059, 0.95220588, 0.95220588, 0.95220588, 0.92647059,\n",
       "        0.92647059, 0.93382353, 0.95588235, 0.95955882, 0.95220588,\n",
       "        0.88602941, 0.94669118, 0.92279412, 0.95588235, 0.92279412,\n",
       "        0.96323529, 0.95955882, 0.92647059, 0.92279412, 0.92647059,\n",
       "        0.88602941, 0.94485294, 0.92279412, 0.93382353, 0.88602941,\n",
       "        0.88419118, 0.95220588, 0.89154412, 0.93382353, 0.92647059,\n",
       "        0.95220588, 0.92279412, 0.96323529, 0.94117647, 0.95955882,\n",
       "        0.95220588, 0.93382353, 0.88602941, 0.88602941, 0.95955882,\n",
       "        0.93014706, 0.9375    , 0.96323529, 0.92279412, 0.95955882,\n",
       "        0.88602941, 0.95220588, 0.92647059, 0.95588235, 0.94117647,\n",
       "        0.95220588, 0.88602941, 0.96323529, 0.95955882, 0.95955882,\n",
       "        0.88602941, 0.92647059, 0.94852941, 0.94485294, 0.92279412,\n",
       "        0.88602941, 0.88970588, 0.94117647, 0.92279412, 0.88970588,\n",
       "        0.88970588, 0.96323529, 0.92279412, 0.92279412, 0.92647059,\n",
       "        0.92647059, 0.96323529, 0.88786765, 0.92279412, 0.95220588,\n",
       "        0.92647059, 0.88970588, 0.96691176, 0.95588235, 0.91911765,\n",
       "        0.92647059, 0.94852941, 0.95220588, 0.96323529, 0.94485294,\n",
       "        0.95955882, 0.92279412, 0.92647059, 0.88602941, 0.95955882]),\n",
       " 'mean_test_score': array([0.87799164, 0.84944493, 0.8685842 , 0.84966119, 0.84966119,\n",
       "        0.84767878, 0.87060265, 0.88458766, 0.87982987, 0.88105536,\n",
       "        0.85088668, 0.86822376, 0.85870819, 0.86699827, 0.84266869,\n",
       "        0.84266869, 0.85088668, 0.8644752 , 0.87896482, 0.87528835,\n",
       "        0.84652537, 0.88044262, 0.8495891 , 0.87190023, 0.8484357 ,\n",
       "        0.86735871, 0.87550461, 0.85319348, 0.84951701, 0.8785323 ,\n",
       "        0.84648933, 0.87982987, 0.8420199 , 0.88329008, 0.84652537,\n",
       "        0.84818339, 0.86822376, 0.8454801 , 0.85564446, 0.84973328,\n",
       "        0.86584487, 0.84144319, 0.87781142, 0.88282151, 0.87060265,\n",
       "        0.8621684 , 0.88646194, 0.84760669, 0.84652537, 0.87190023,\n",
       "        0.8507425 , 0.88282151, 0.8767301 , 0.8384876 , 0.87435121,\n",
       "        0.84713812, 0.87074683, 0.85503172, 0.87536044, 0.88037053,\n",
       "        0.86815167, 0.84767878, 0.8755767 , 0.86699827, 0.87773933,\n",
       "        0.84652537, 0.85088668, 0.88465975, 0.87982987, 0.8425966 ,\n",
       "        0.84767878, 0.84717416, 0.87867647, 0.85081459, 0.84648933,\n",
       "        0.84775087, 0.87550461, 0.84144319, 0.8420199 , 0.84266869,\n",
       "        0.85319348, 0.8755767 , 0.84951701, 0.85081459, 0.86454729,\n",
       "        0.85272491, 0.85005767, 0.87687428, 0.8744233 , 0.84573241,\n",
       "        0.84144319, 0.88112745, 0.86346597, 0.87550461, 0.87860438,\n",
       "        0.87197232, 0.8425966 , 0.84382209, 0.84710208, 0.87190023]),\n",
       " 'std_test_score': array([0.04551487, 0.02908212, 0.07546934, 0.05338195, 0.05218696,\n",
       "        0.03049555, 0.06284448, 0.04399037, 0.04986353, 0.05051612,\n",
       "        0.05390482, 0.06435833, 0.07049119, 0.06460221, 0.06028393,\n",
       "        0.06028393, 0.05878263, 0.06655967, 0.06170544, 0.05873025,\n",
       "        0.03187921, 0.04969849, 0.05192631, 0.06557402, 0.0528681 ,\n",
       "        0.0755641 , 0.06565765, 0.05198417, 0.05182844, 0.03920044,\n",
       "        0.03122615, 0.04888256, 0.05805046, 0.0395118 , 0.03187921,\n",
       "        0.02776783, 0.06435833, 0.03765533, 0.05543979, 0.05491265,\n",
       "        0.06588047, 0.05858121, 0.06484068, 0.04540152, 0.06660346,\n",
       "        0.06679932, 0.04178337, 0.02932488, 0.03187921, 0.06733674,\n",
       "        0.05614835, 0.04373348, 0.06723054, 0.06075067, 0.06700268,\n",
       "        0.03187298, 0.06528237, 0.05092441, 0.06162453, 0.04585458,\n",
       "        0.06334016, 0.03049555, 0.06856533, 0.06852796, 0.06195405,\n",
       "        0.03187921, 0.05390482, 0.0486873 , 0.04888256, 0.05752638,\n",
       "        0.03049555, 0.034098  , 0.04830981, 0.05120505, 0.03298044,\n",
       "        0.03340826, 0.06741819, 0.05858121, 0.05805046, 0.06028393,\n",
       "        0.05198417, 0.06856533, 0.03121067, 0.05120505, 0.06522551,\n",
       "        0.05296368, 0.03071103, 0.07135724, 0.06674772, 0.05487041,\n",
       "        0.06088179, 0.05149976, 0.06741033, 0.06741819, 0.04921756,\n",
       "        0.06848153, 0.05752638, 0.05923555, 0.03118439, 0.06733674]),\n",
       " 'rank_test_score': array([ 18,  70,  39,  65,  65,  74,  37,   3,  11,   8,  57,  40,  51,\n",
       "         44,  90,  90,  57,  48,  14,  29,  84,   9,  67,  33,  71,  43,\n",
       "         25,  54,  68,  17,  85,  11,  96,   4,  81,  72,  40,  88,  52,\n",
       "         64,  46,  98,  19,   5,  37,  50,   1,  77,  81,  33,  62,   5,\n",
       "         22, 100,  31,  79,  36,  53,  28,  10,  42,  74,  23,  44,  20,\n",
       "         81,  57,   2,  11,  93,  74,  78,  15,  60,  86,  73,  25,  98,\n",
       "         95,  90,  54,  23,  68,  60,  47,  56,  63,  21,  30,  87,  97,\n",
       "          7,  49,  25,  16,  32,  93,  89,  80,  33], dtype=int32)}"
      ]
     },
     "execution_count": 21,
     "metadata": {},
     "output_type": "execute_result"
    }
   ],
   "source": [
    "rf_random.cv_results_"
   ]
  },
  {
   "cell_type": "markdown",
   "metadata": {},
   "source": [
    "### HyperOpt (GridSearching bayesiano)"
   ]
  },
  {
   "cell_type": "code",
   "execution_count": 22,
   "metadata": {},
   "outputs": [],
   "source": [
    "#!pip install hyperopt\n",
    "\n",
    "import pandas as pd\n",
    "from pandas.plotting import scatter_matrix\n",
    "\n",
    "import statsmodels.api as sm\n",
    "from statsmodels.formula.api import ols\n",
    "\n",
    "import xgboost as xgb\n",
    "from sklearn.ensemble import RandomForestRegressor as RFR\n",
    "from sklearn.linear_model import LinearRegression as LinReg\n",
    "\n",
    "from sklearn.metrics import mean_squared_error as mse\n",
    "from sklearn.model_selection import train_test_split as tts"
   ]
  },
  {
   "cell_type": "code",
   "execution_count": 23,
   "metadata": {},
   "outputs": [
    {
     "data": {
      "text/html": [
       "<div>\n",
       "<style scoped>\n",
       "    .dataframe tbody tr th:only-of-type {\n",
       "        vertical-align: middle;\n",
       "    }\n",
       "\n",
       "    .dataframe tbody tr th {\n",
       "        vertical-align: top;\n",
       "    }\n",
       "\n",
       "    .dataframe thead th {\n",
       "        text-align: right;\n",
       "    }\n",
       "</style>\n",
       "<table border=\"1\" class=\"dataframe\">\n",
       "  <thead>\n",
       "    <tr style=\"text-align: right;\">\n",
       "      <th></th>\n",
       "      <th>carat</th>\n",
       "      <th>cut</th>\n",
       "      <th>color</th>\n",
       "      <th>clarity</th>\n",
       "      <th>depth</th>\n",
       "      <th>table</th>\n",
       "      <th>price</th>\n",
       "      <th>x</th>\n",
       "      <th>y</th>\n",
       "      <th>z</th>\n",
       "    </tr>\n",
       "  </thead>\n",
       "  <tbody>\n",
       "    <tr>\n",
       "      <th>0</th>\n",
       "      <td>1.21</td>\n",
       "      <td>Premium</td>\n",
       "      <td>J</td>\n",
       "      <td>VS2</td>\n",
       "      <td>62.4</td>\n",
       "      <td>58.0</td>\n",
       "      <td>4268</td>\n",
       "      <td>6.83</td>\n",
       "      <td>6.79</td>\n",
       "      <td>4.25</td>\n",
       "    </tr>\n",
       "    <tr>\n",
       "      <th>1</th>\n",
       "      <td>0.32</td>\n",
       "      <td>Very Good</td>\n",
       "      <td>H</td>\n",
       "      <td>VS2</td>\n",
       "      <td>63.0</td>\n",
       "      <td>57.0</td>\n",
       "      <td>505</td>\n",
       "      <td>4.35</td>\n",
       "      <td>4.38</td>\n",
       "      <td>2.75</td>\n",
       "    </tr>\n",
       "    <tr>\n",
       "      <th>2</th>\n",
       "      <td>0.71</td>\n",
       "      <td>Fair</td>\n",
       "      <td>G</td>\n",
       "      <td>VS1</td>\n",
       "      <td>65.5</td>\n",
       "      <td>55.0</td>\n",
       "      <td>2686</td>\n",
       "      <td>5.62</td>\n",
       "      <td>5.53</td>\n",
       "      <td>3.65</td>\n",
       "    </tr>\n",
       "    <tr>\n",
       "      <th>3</th>\n",
       "      <td>0.41</td>\n",
       "      <td>Good</td>\n",
       "      <td>D</td>\n",
       "      <td>SI1</td>\n",
       "      <td>63.8</td>\n",
       "      <td>56.0</td>\n",
       "      <td>738</td>\n",
       "      <td>4.68</td>\n",
       "      <td>4.72</td>\n",
       "      <td>3.00</td>\n",
       "    </tr>\n",
       "    <tr>\n",
       "      <th>4</th>\n",
       "      <td>1.02</td>\n",
       "      <td>Ideal</td>\n",
       "      <td>G</td>\n",
       "      <td>SI1</td>\n",
       "      <td>60.5</td>\n",
       "      <td>59.0</td>\n",
       "      <td>4882</td>\n",
       "      <td>6.55</td>\n",
       "      <td>6.51</td>\n",
       "      <td>3.95</td>\n",
       "    </tr>\n",
       "  </tbody>\n",
       "</table>\n",
       "</div>"
      ],
      "text/plain": [
       "   carat        cut color clarity  depth  table  price     x     y     z\n",
       "0   1.21    Premium     J     VS2   62.4   58.0   4268  6.83  6.79  4.25\n",
       "1   0.32  Very Good     H     VS2   63.0   57.0    505  4.35  4.38  2.75\n",
       "2   0.71       Fair     G     VS1   65.5   55.0   2686  5.62  5.53  3.65\n",
       "3   0.41       Good     D     SI1   63.8   56.0    738  4.68  4.72  3.00\n",
       "4   1.02      Ideal     G     SI1   60.5   59.0   4882  6.55  6.51  3.95"
      ]
     },
     "execution_count": 23,
     "metadata": {},
     "output_type": "execute_result"
    }
   ],
   "source": [
    "df=pd.read_csv('../data/diamonds_train.csv')\n",
    "\n",
    "df.head()"
   ]
  },
  {
   "cell_type": "code",
   "execution_count": 24,
   "metadata": {},
   "outputs": [
    {
     "data": {
      "text/plain": [
       "(40455, 10)"
      ]
     },
     "execution_count": 24,
     "metadata": {},
     "output_type": "execute_result"
    }
   ],
   "source": [
    "df.shape"
   ]
  },
  {
   "cell_type": "code",
   "execution_count": 25,
   "metadata": {},
   "outputs": [
    {
     "data": {
      "text/plain": [
       "array(['Premium', 'Very Good', 'Fair', 'Good', 'Ideal'], dtype=object)"
      ]
     },
     "execution_count": 25,
     "metadata": {},
     "output_type": "execute_result"
    }
   ],
   "source": [
    "df.cut.unique()"
   ]
  },
  {
   "cell_type": "code",
   "execution_count": 26,
   "metadata": {},
   "outputs": [
    {
     "data": {
      "text/plain": [
       "array(['J', 'H', 'G', 'D', 'F', 'E', 'I'], dtype=object)"
      ]
     },
     "execution_count": 26,
     "metadata": {},
     "output_type": "execute_result"
    }
   ],
   "source": [
    "df.color.unique()"
   ]
  },
  {
   "cell_type": "code",
   "execution_count": 27,
   "metadata": {},
   "outputs": [
    {
     "data": {
      "text/plain": [
       "array(['VS2', 'VS1', 'SI1', 'SI2', 'IF', 'VVS1', 'VVS2', 'I1'],\n",
       "      dtype=object)"
      ]
     },
     "execution_count": 27,
     "metadata": {},
     "output_type": "execute_result"
    }
   ],
   "source": [
    "df.clarity.unique()"
   ]
  },
  {
   "cell_type": "code",
   "execution_count": 28,
   "metadata": {},
   "outputs": [
    {
     "data": {
      "image/png": "[encoded data removed]",
      "text/plain": [
       "<Figure size 1080x1080 with 49 Axes>"
      ]
     },
     "metadata": {
      "needs_background": "light"
     },
     "output_type": "display_data"
    }
   ],
   "source": [
    "%matplotlib inline \n",
    "scatter_matrix(df, figsize=(15, 15));"
   ]
  },
  {
   "cell_type": "code",
   "execution_count": 29,
   "metadata": {},
   "outputs": [],
   "source": [
    "X=df.drop('price', axis=1)\n",
    "\n",
    "y=df.price"
   ]
  },
  {
   "cell_type": "code",
   "execution_count": 30,
   "metadata": {},
   "outputs": [
    {
     "data": {
      "text/html": [
       "<div>\n",
       "<style scoped>\n",
       "    .dataframe tbody tr th:only-of-type {\n",
       "        vertical-align: middle;\n",
       "    }\n",
       "\n",
       "    .dataframe tbody tr th {\n",
       "        vertical-align: top;\n",
       "    }\n",
       "\n",
       "    .dataframe thead th {\n",
       "        text-align: right;\n",
       "    }\n",
       "</style>\n",
       "<table border=\"1\" class=\"dataframe\">\n",
       "  <thead>\n",
       "    <tr style=\"text-align: right;\">\n",
       "      <th></th>\n",
       "      <th>carat</th>\n",
       "      <th>cut</th>\n",
       "      <th>color</th>\n",
       "      <th>clarity</th>\n",
       "      <th>depth</th>\n",
       "      <th>table</th>\n",
       "      <th>x</th>\n",
       "      <th>y</th>\n",
       "      <th>z</th>\n",
       "    </tr>\n",
       "  </thead>\n",
       "  <tbody>\n",
       "    <tr>\n",
       "      <th>0</th>\n",
       "      <td>1.21</td>\n",
       "      <td>Premium</td>\n",
       "      <td>J</td>\n",
       "      <td>VS2</td>\n",
       "      <td>62.4</td>\n",
       "      <td>58.0</td>\n",
       "      <td>6.83</td>\n",
       "      <td>6.79</td>\n",
       "      <td>4.25</td>\n",
       "    </tr>\n",
       "    <tr>\n",
       "      <th>1</th>\n",
       "      <td>0.32</td>\n",
       "      <td>Very Good</td>\n",
       "      <td>H</td>\n",
       "      <td>VS2</td>\n",
       "      <td>63.0</td>\n",
       "      <td>57.0</td>\n",
       "      <td>4.35</td>\n",
       "      <td>4.38</td>\n",
       "      <td>2.75</td>\n",
       "    </tr>\n",
       "    <tr>\n",
       "      <th>2</th>\n",
       "      <td>0.71</td>\n",
       "      <td>Fair</td>\n",
       "      <td>G</td>\n",
       "      <td>VS1</td>\n",
       "      <td>65.5</td>\n",
       "      <td>55.0</td>\n",
       "      <td>5.62</td>\n",
       "      <td>5.53</td>\n",
       "      <td>3.65</td>\n",
       "    </tr>\n",
       "    <tr>\n",
       "      <th>3</th>\n",
       "      <td>0.41</td>\n",
       "      <td>Good</td>\n",
       "      <td>D</td>\n",
       "      <td>SI1</td>\n",
       "      <td>63.8</td>\n",
       "      <td>56.0</td>\n",
       "      <td>4.68</td>\n",
       "      <td>4.72</td>\n",
       "      <td>3.00</td>\n",
       "    </tr>\n",
       "    <tr>\n",
       "      <th>4</th>\n",
       "      <td>1.02</td>\n",
       "      <td>Ideal</td>\n",
       "      <td>G</td>\n",
       "      <td>SI1</td>\n",
       "      <td>60.5</td>\n",
       "      <td>59.0</td>\n",
       "      <td>6.55</td>\n",
       "      <td>6.51</td>\n",
       "      <td>3.95</td>\n",
       "    </tr>\n",
       "  </tbody>\n",
       "</table>\n",
       "</div>"
      ],
      "text/plain": [
       "   carat        cut color clarity  depth  table     x     y     z\n",
       "0   1.21    Premium     J     VS2   62.4   58.0  6.83  6.79  4.25\n",
       "1   0.32  Very Good     H     VS2   63.0   57.0  4.35  4.38  2.75\n",
       "2   0.71       Fair     G     VS1   65.5   55.0  5.62  5.53  3.65\n",
       "3   0.41       Good     D     SI1   63.8   56.0  4.68  4.72  3.00\n",
       "4   1.02      Ideal     G     SI1   60.5   59.0  6.55  6.51  3.95"
      ]
     },
     "execution_count": 30,
     "metadata": {},
     "output_type": "execute_result"
    }
   ],
   "source": [
    "X.head()"
   ]
  },
  {
   "cell_type": "code",
   "execution_count": 31,
   "metadata": {},
   "outputs": [
    {
     "data": {
      "text/html": [
       "<table class=\"simpletable\">\n",
       "<caption>OLS Regression Results</caption>\n",
       "<tr>\n",
       "  <th>Dep. Variable:</th>          <td>price</td>      <th>  R-squared:         </th>  <td>   0.860</td>  \n",
       "</tr>\n",
       "<tr>\n",
       "  <th>Model:</th>                   <td>OLS</td>       <th>  Adj. R-squared:    </th>  <td>   0.860</td>  \n",
       "</tr>\n",
       "<tr>\n",
       "  <th>Method:</th>             <td>Least Squares</td>  <th>  F-statistic:       </th>  <td>4.136e+04</td> \n",
       "</tr>\n",
       "<tr>\n",
       "  <th>Date:</th>             <td>Thu, 03 Jun 2021</td> <th>  Prob (F-statistic):</th>   <td>  0.00</td>   \n",
       "</tr>\n",
       "<tr>\n",
       "  <th>Time:</th>                 <td>13:56:49</td>     <th>  Log-Likelihood:    </th> <td>-3.5311e+05</td>\n",
       "</tr>\n",
       "<tr>\n",
       "  <th>No. Observations:</th>      <td> 40455</td>      <th>  AIC:               </th>  <td>7.062e+05</td> \n",
       "</tr>\n",
       "<tr>\n",
       "  <th>Df Residuals:</th>          <td> 40448</td>      <th>  BIC:               </th>  <td>7.063e+05</td> \n",
       "</tr>\n",
       "<tr>\n",
       "  <th>Df Model:</th>              <td>     6</td>      <th>                     </th>      <td> </td>     \n",
       "</tr>\n",
       "<tr>\n",
       "  <th>Covariance Type:</th>      <td>nonrobust</td>    <th>                     </th>      <td> </td>     \n",
       "</tr>\n",
       "</table>\n",
       "<table class=\"simpletable\">\n",
       "<tr>\n",
       "    <td></td>       <th>coef</th>     <th>std err</th>      <th>t</th>      <th>P>|t|</th>  <th>[0.025</th>    <th>0.975]</th>  \n",
       "</tr>\n",
       "<tr>\n",
       "  <th>const</th> <td> 2.152e+04</td> <td>  576.435</td> <td>   37.339</td> <td> 0.000</td> <td> 2.04e+04</td> <td> 2.27e+04</td>\n",
       "</tr>\n",
       "<tr>\n",
       "  <th>carat</th> <td> 1.067e+04</td> <td>   73.530</td> <td>  145.064</td> <td> 0.000</td> <td> 1.05e+04</td> <td> 1.08e+04</td>\n",
       "</tr>\n",
       "<tr>\n",
       "  <th>depth</th> <td> -214.5839</td> <td>    7.619</td> <td>  -28.166</td> <td> 0.000</td> <td> -229.516</td> <td> -199.651</td>\n",
       "</tr>\n",
       "<tr>\n",
       "  <th>table</th> <td> -101.8176</td> <td>    3.555</td> <td>  -28.639</td> <td> 0.000</td> <td> -108.786</td> <td>  -94.849</td>\n",
       "</tr>\n",
       "<tr>\n",
       "  <th>x</th>     <td>-1343.8074</td> <td>   62.684</td> <td>  -21.438</td> <td> 0.000</td> <td>-1466.669</td> <td>-1220.946</td>\n",
       "</tr>\n",
       "<tr>\n",
       "  <th>y</th>     <td>   42.9796</td> <td>   29.273</td> <td>    1.468</td> <td> 0.142</td> <td>  -14.396</td> <td>  100.355</td>\n",
       "</tr>\n",
       "<tr>\n",
       "  <th>z</th>     <td>  126.9522</td> <td>   88.089</td> <td>    1.441</td> <td> 0.150</td> <td>  -45.705</td> <td>  299.609</td>\n",
       "</tr>\n",
       "</table>\n",
       "<table class=\"simpletable\">\n",
       "<tr>\n",
       "  <th>Omnibus:</th>       <td>10240.714</td> <th>  Durbin-Watson:     </th>  <td>   2.004</td> \n",
       "</tr>\n",
       "<tr>\n",
       "  <th>Prob(Omnibus):</th>  <td> 0.000</td>   <th>  Jarque-Bera (JB):  </th> <td>241364.592</td>\n",
       "</tr>\n",
       "<tr>\n",
       "  <th>Skew:</th>           <td> 0.670</td>   <th>  Prob(JB):          </th>  <td>    0.00</td> \n",
       "</tr>\n",
       "<tr>\n",
       "  <th>Kurtosis:</th>       <td>14.891</td>   <th>  Cond. No.          </th>  <td>6.62e+03</td> \n",
       "</tr>\n",
       "</table><br/><br/>Notes:<br/>[1] Standard Errors assume that the covariance matrix of the errors is correctly specified.<br/>[2] The condition number is large, 6.62e+03. This might indicate that there are<br/>strong multicollinearity or other numerical problems."
      ],
      "text/plain": [
       "<class 'statsmodels.iolib.summary.Summary'>\n",
       "\"\"\"\n",
       "                            OLS Regression Results                            \n",
       "==============================================================================\n",
       "Dep. Variable:                  price   R-squared:                       0.860\n",
       "Model:                            OLS   Adj. R-squared:                  0.860\n",
       "Method:                 Least Squares   F-statistic:                 4.136e+04\n",
       "Date:                Thu, 03 Jun 2021   Prob (F-statistic):               0.00\n",
       "Time:                        13:56:49   Log-Likelihood:            -3.5311e+05\n",
       "No. Observations:               40455   AIC:                         7.062e+05\n",
       "Df Residuals:                   40448   BIC:                         7.063e+05\n",
       "Df Model:                           6                                         \n",
       "Covariance Type:            nonrobust                                         \n",
       "==============================================================================\n",
       "                 coef    std err          t      P>|t|      [0.025      0.975]\n",
       "------------------------------------------------------------------------------\n",
       "const       2.152e+04    576.435     37.339      0.000    2.04e+04    2.27e+04\n",
       "carat       1.067e+04     73.530    145.064      0.000    1.05e+04    1.08e+04\n",
       "depth       -214.5839      7.619    -28.166      0.000    -229.516    -199.651\n",
       "table       -101.8176      3.555    -28.639      0.000    -108.786     -94.849\n",
       "x          -1343.8074     62.684    -21.438      0.000   -1466.669   -1220.946\n",
       "y             42.9796     29.273      1.468      0.142     -14.396     100.355\n",
       "z            126.9522     88.089      1.441      0.150     -45.705     299.609\n",
       "==============================================================================\n",
       "Omnibus:                    10240.714   Durbin-Watson:                   2.004\n",
       "Prob(Omnibus):                  0.000   Jarque-Bera (JB):           241364.592\n",
       "Skew:                           0.670   Prob(JB):                         0.00\n",
       "Kurtosis:                      14.891   Cond. No.                     6.62e+03\n",
       "==============================================================================\n",
       "\n",
       "Notes:\n",
       "[1] Standard Errors assume that the covariance matrix of the errors is correctly specified.\n",
       "[2] The condition number is large, 6.62e+03. This might indicate that there are\n",
       "strong multicollinearity or other numerical problems.\n",
       "\"\"\""
      ]
     },
     "execution_count": 31,
     "metadata": {},
     "output_type": "execute_result"
    }
   ],
   "source": [
    "x=sm.add_constant(X._get_numeric_data())\n",
    "\n",
    "modelo=sm.OLS(y, x).fit()\n",
    "\n",
    "modelo.summary()"
   ]
  },
  {
   "cell_type": "code",
   "execution_count": 32,
   "metadata": {},
   "outputs": [],
   "source": [
    "X=X.drop(columns=['y', 'z'])"
   ]
  },
  {
   "cell_type": "code",
   "execution_count": 33,
   "metadata": {},
   "outputs": [
    {
     "data": {
      "text/html": [
       "<div>\n",
       "<style scoped>\n",
       "    .dataframe tbody tr th:only-of-type {\n",
       "        vertical-align: middle;\n",
       "    }\n",
       "\n",
       "    .dataframe tbody tr th {\n",
       "        vertical-align: top;\n",
       "    }\n",
       "\n",
       "    .dataframe thead th {\n",
       "        text-align: right;\n",
       "    }\n",
       "</style>\n",
       "<table border=\"1\" class=\"dataframe\">\n",
       "  <thead>\n",
       "    <tr style=\"text-align: right;\">\n",
       "      <th></th>\n",
       "      <th>carat</th>\n",
       "      <th>cut</th>\n",
       "      <th>color</th>\n",
       "      <th>clarity</th>\n",
       "      <th>depth</th>\n",
       "      <th>table</th>\n",
       "      <th>x</th>\n",
       "    </tr>\n",
       "  </thead>\n",
       "  <tbody>\n",
       "    <tr>\n",
       "      <th>0</th>\n",
       "      <td>1.21</td>\n",
       "      <td>Premium</td>\n",
       "      <td>J</td>\n",
       "      <td>VS2</td>\n",
       "      <td>62.4</td>\n",
       "      <td>58.0</td>\n",
       "      <td>6.83</td>\n",
       "    </tr>\n",
       "    <tr>\n",
       "      <th>1</th>\n",
       "      <td>0.32</td>\n",
       "      <td>Very Good</td>\n",
       "      <td>H</td>\n",
       "      <td>VS2</td>\n",
       "      <td>63.0</td>\n",
       "      <td>57.0</td>\n",
       "      <td>4.35</td>\n",
       "    </tr>\n",
       "    <tr>\n",
       "      <th>2</th>\n",
       "      <td>0.71</td>\n",
       "      <td>Fair</td>\n",
       "      <td>G</td>\n",
       "      <td>VS1</td>\n",
       "      <td>65.5</td>\n",
       "      <td>55.0</td>\n",
       "      <td>5.62</td>\n",
       "    </tr>\n",
       "    <tr>\n",
       "      <th>3</th>\n",
       "      <td>0.41</td>\n",
       "      <td>Good</td>\n",
       "      <td>D</td>\n",
       "      <td>SI1</td>\n",
       "      <td>63.8</td>\n",
       "      <td>56.0</td>\n",
       "      <td>4.68</td>\n",
       "    </tr>\n",
       "    <tr>\n",
       "      <th>4</th>\n",
       "      <td>1.02</td>\n",
       "      <td>Ideal</td>\n",
       "      <td>G</td>\n",
       "      <td>SI1</td>\n",
       "      <td>60.5</td>\n",
       "      <td>59.0</td>\n",
       "      <td>6.55</td>\n",
       "    </tr>\n",
       "  </tbody>\n",
       "</table>\n",
       "</div>"
      ],
      "text/plain": [
       "   carat        cut color clarity  depth  table     x\n",
       "0   1.21    Premium     J     VS2   62.4   58.0  6.83\n",
       "1   0.32  Very Good     H     VS2   63.0   57.0  4.35\n",
       "2   0.71       Fair     G     VS1   65.5   55.0  5.62\n",
       "3   0.41       Good     D     SI1   63.8   56.0  4.68\n",
       "4   1.02      Ideal     G     SI1   60.5   59.0  6.55"
      ]
     },
     "execution_count": 33,
     "metadata": {},
     "output_type": "execute_result"
    }
   ],
   "source": [
    "X.head()"
   ]
  },
  {
   "cell_type": "code",
   "execution_count": 34,
   "metadata": {},
   "outputs": [],
   "source": [
    "clarity={'I1':0, 'SI2':1, 'SI1':2, 'VS2':3, 'VS1':4, 'VVS2':5, 'VVS1':6, 'IF':7}\n",
    "\n",
    "cut={'Fair':0, 'Good':1, 'Very Good':2, 'Premium':3, 'Ideal':4}\n",
    "\n",
    "color={'J':0, 'I':1, 'H':2, 'G':3, 'F':4, 'E':5, 'D':6}"
   ]
  },
  {
   "cell_type": "code",
   "execution_count": 35,
   "metadata": {},
   "outputs": [],
   "source": [
    "def label(s, dic):\n",
    "    return dic[s]"
   ]
  },
  {
   "cell_type": "code",
   "execution_count": 36,
   "metadata": {},
   "outputs": [],
   "source": [
    "X.clarity=X.clarity.apply(lambda x: label(x, clarity))\n",
    "\n",
    "X.cut=X.cut.apply(lambda x: label(x, cut))\n",
    "\n",
    "X.color=X.color.apply(lambda x: label(x, color))"
   ]
  },
  {
   "cell_type": "code",
   "execution_count": 37,
   "metadata": {},
   "outputs": [
    {
     "data": {
      "text/html": [
       "<div>\n",
       "<style scoped>\n",
       "    .dataframe tbody tr th:only-of-type {\n",
       "        vertical-align: middle;\n",
       "    }\n",
       "\n",
       "    .dataframe tbody tr th {\n",
       "        vertical-align: top;\n",
       "    }\n",
       "\n",
       "    .dataframe thead th {\n",
       "        text-align: right;\n",
       "    }\n",
       "</style>\n",
       "<table border=\"1\" class=\"dataframe\">\n",
       "  <thead>\n",
       "    <tr style=\"text-align: right;\">\n",
       "      <th></th>\n",
       "      <th>carat</th>\n",
       "      <th>cut</th>\n",
       "      <th>color</th>\n",
       "      <th>clarity</th>\n",
       "      <th>depth</th>\n",
       "      <th>table</th>\n",
       "      <th>x</th>\n",
       "    </tr>\n",
       "  </thead>\n",
       "  <tbody>\n",
       "    <tr>\n",
       "      <th>0</th>\n",
       "      <td>1.21</td>\n",
       "      <td>3</td>\n",
       "      <td>0</td>\n",
       "      <td>3</td>\n",
       "      <td>62.4</td>\n",
       "      <td>58.0</td>\n",
       "      <td>6.83</td>\n",
       "    </tr>\n",
       "    <tr>\n",
       "      <th>1</th>\n",
       "      <td>0.32</td>\n",
       "      <td>2</td>\n",
       "      <td>2</td>\n",
       "      <td>3</td>\n",
       "      <td>63.0</td>\n",
       "      <td>57.0</td>\n",
       "      <td>4.35</td>\n",
       "    </tr>\n",
       "    <tr>\n",
       "      <th>2</th>\n",
       "      <td>0.71</td>\n",
       "      <td>0</td>\n",
       "      <td>3</td>\n",
       "      <td>4</td>\n",
       "      <td>65.5</td>\n",
       "      <td>55.0</td>\n",
       "      <td>5.62</td>\n",
       "    </tr>\n",
       "    <tr>\n",
       "      <th>3</th>\n",
       "      <td>0.41</td>\n",
       "      <td>1</td>\n",
       "      <td>6</td>\n",
       "      <td>2</td>\n",
       "      <td>63.8</td>\n",
       "      <td>56.0</td>\n",
       "      <td>4.68</td>\n",
       "    </tr>\n",
       "    <tr>\n",
       "      <th>4</th>\n",
       "      <td>1.02</td>\n",
       "      <td>4</td>\n",
       "      <td>3</td>\n",
       "      <td>2</td>\n",
       "      <td>60.5</td>\n",
       "      <td>59.0</td>\n",
       "      <td>6.55</td>\n",
       "    </tr>\n",
       "  </tbody>\n",
       "</table>\n",
       "</div>"
      ],
      "text/plain": [
       "   carat  cut  color  clarity  depth  table     x\n",
       "0   1.21    3      0        3   62.4   58.0  6.83\n",
       "1   0.32    2      2        3   63.0   57.0  4.35\n",
       "2   0.71    0      3        4   65.5   55.0  5.62\n",
       "3   0.41    1      6        2   63.8   56.0  4.68\n",
       "4   1.02    4      3        2   60.5   59.0  6.55"
      ]
     },
     "execution_count": 37,
     "metadata": {},
     "output_type": "execute_result"
    }
   ],
   "source": [
    "X.head()"
   ]
  },
  {
   "cell_type": "code",
   "execution_count": 38,
   "metadata": {},
   "outputs": [],
   "source": [
    "X_train, X_test, y_train, y_test = tts(X, y)"
   ]
  },
  {
   "cell_type": "code",
   "execution_count": 39,
   "metadata": {},
   "outputs": [
    {
     "data": {
      "text/plain": [
       "544.2241644858307"
      ]
     },
     "execution_count": 39,
     "metadata": {},
     "output_type": "execute_result"
    }
   ],
   "source": [
    "xgbr=xgb.XGBRegressor()\n",
    "\n",
    "xgbr.fit(X_train, y_train)\n",
    "\n",
    "xgbr_pred=xgbr.predict(X_test)\n",
    "\n",
    "mse(xgbr_pred, y_test)**0.5"
   ]
  },
  {
   "cell_type": "code",
   "execution_count": 40,
   "metadata": {},
   "outputs": [
    {
     "data": {
      "text/plain": [
       "18823"
      ]
     },
     "execution_count": 40,
     "metadata": {},
     "output_type": "execute_result"
    }
   ],
   "source": [
    "y.max()"
   ]
  },
  {
   "cell_type": "code",
   "execution_count": 41,
   "metadata": {},
   "outputs": [
    {
     "data": {
      "text/plain": [
       "326"
      ]
     },
     "execution_count": 41,
     "metadata": {},
     "output_type": "execute_result"
    }
   ],
   "source": [
    "y.min()"
   ]
  },
  {
   "cell_type": "code",
   "execution_count": 42,
   "metadata": {},
   "outputs": [
    {
     "data": {
      "text/plain": [
       "556.73887425967"
      ]
     },
     "execution_count": 42,
     "metadata": {},
     "output_type": "execute_result"
    }
   ],
   "source": [
    "rfr=RFR()\n",
    "\n",
    "rfr.fit(X_train, y_train)\n",
    "\n",
    "rfr_pred=rfr.predict(X_test)\n",
    "\n",
    "mse(rfr_pred, y_test)**0.5"
   ]
  },
  {
   "cell_type": "code",
   "execution_count": 43,
   "metadata": {},
   "outputs": [
    {
     "data": {
      "text/plain": [
       "1217.6608037974863"
      ]
     },
     "execution_count": 43,
     "metadata": {},
     "output_type": "execute_result"
    }
   ],
   "source": [
    "linreg=LinReg()\n",
    "\n",
    "linreg.fit(X_train, y_train)\n",
    "\n",
    "linreg_pred=linreg.predict(X_test)\n",
    "\n",
    "mse(linreg_pred, y_test)**0.5"
   ]
  },
  {
   "cell_type": "code",
   "execution_count": 44,
   "metadata": {},
   "outputs": [
    {
     "data": {
      "text/html": [
       "<div>\n",
       "<style scoped>\n",
       "    .dataframe tbody tr th:only-of-type {\n",
       "        vertical-align: middle;\n",
       "    }\n",
       "\n",
       "    .dataframe tbody tr th {\n",
       "        vertical-align: top;\n",
       "    }\n",
       "\n",
       "    .dataframe thead th {\n",
       "        text-align: right;\n",
       "    }\n",
       "</style>\n",
       "<table border=\"1\" class=\"dataframe\">\n",
       "  <thead>\n",
       "    <tr style=\"text-align: right;\">\n",
       "      <th></th>\n",
       "      <th>carat</th>\n",
       "      <th>cut</th>\n",
       "      <th>color</th>\n",
       "      <th>clarity</th>\n",
       "      <th>depth</th>\n",
       "      <th>table</th>\n",
       "      <th>price</th>\n",
       "      <th>x</th>\n",
       "      <th>y</th>\n",
       "      <th>z</th>\n",
       "    </tr>\n",
       "  </thead>\n",
       "  <tbody>\n",
       "    <tr>\n",
       "      <th>0</th>\n",
       "      <td>1.21</td>\n",
       "      <td>Premium</td>\n",
       "      <td>J</td>\n",
       "      <td>VS2</td>\n",
       "      <td>62.4</td>\n",
       "      <td>58.0</td>\n",
       "      <td>4268</td>\n",
       "      <td>6.83</td>\n",
       "      <td>6.79</td>\n",
       "      <td>4.25</td>\n",
       "    </tr>\n",
       "    <tr>\n",
       "      <th>1</th>\n",
       "      <td>0.32</td>\n",
       "      <td>Very Good</td>\n",
       "      <td>H</td>\n",
       "      <td>VS2</td>\n",
       "      <td>63.0</td>\n",
       "      <td>57.0</td>\n",
       "      <td>505</td>\n",
       "      <td>4.35</td>\n",
       "      <td>4.38</td>\n",
       "      <td>2.75</td>\n",
       "    </tr>\n",
       "    <tr>\n",
       "      <th>2</th>\n",
       "      <td>0.71</td>\n",
       "      <td>Fair</td>\n",
       "      <td>G</td>\n",
       "      <td>VS1</td>\n",
       "      <td>65.5</td>\n",
       "      <td>55.0</td>\n",
       "      <td>2686</td>\n",
       "      <td>5.62</td>\n",
       "      <td>5.53</td>\n",
       "      <td>3.65</td>\n",
       "    </tr>\n",
       "    <tr>\n",
       "      <th>3</th>\n",
       "      <td>0.41</td>\n",
       "      <td>Good</td>\n",
       "      <td>D</td>\n",
       "      <td>SI1</td>\n",
       "      <td>63.8</td>\n",
       "      <td>56.0</td>\n",
       "      <td>738</td>\n",
       "      <td>4.68</td>\n",
       "      <td>4.72</td>\n",
       "      <td>3.00</td>\n",
       "    </tr>\n",
       "    <tr>\n",
       "      <th>4</th>\n",
       "      <td>1.02</td>\n",
       "      <td>Ideal</td>\n",
       "      <td>G</td>\n",
       "      <td>SI1</td>\n",
       "      <td>60.5</td>\n",
       "      <td>59.0</td>\n",
       "      <td>4882</td>\n",
       "      <td>6.55</td>\n",
       "      <td>6.51</td>\n",
       "      <td>3.95</td>\n",
       "    </tr>\n",
       "  </tbody>\n",
       "</table>\n",
       "</div>"
      ],
      "text/plain": [
       "   carat        cut color clarity  depth  table  price     x     y     z\n",
       "0   1.21    Premium     J     VS2   62.4   58.0   4268  6.83  6.79  4.25\n",
       "1   0.32  Very Good     H     VS2   63.0   57.0    505  4.35  4.38  2.75\n",
       "2   0.71       Fair     G     VS1   65.5   55.0   2686  5.62  5.53  3.65\n",
       "3   0.41       Good     D     SI1   63.8   56.0    738  4.68  4.72  3.00\n",
       "4   1.02      Ideal     G     SI1   60.5   59.0   4882  6.55  6.51  3.95"
      ]
     },
     "execution_count": 44,
     "metadata": {},
     "output_type": "execute_result"
    }
   ],
   "source": [
    "df.head()"
   ]
  },
  {
   "cell_type": "code",
   "execution_count": 45,
   "metadata": {},
   "outputs": [],
   "source": [
    "from sklearn.preprocessing import StandardScaler"
   ]
  },
  {
   "cell_type": "code",
   "execution_count": 46,
   "metadata": {},
   "outputs": [],
   "source": [
    "X=df.drop('price', axis=1)\n",
    "\n",
    "y=df.price"
   ]
  },
  {
   "cell_type": "code",
   "execution_count": 47,
   "metadata": {},
   "outputs": [
    {
     "data": {
      "text/html": [
       "<div>\n",
       "<style scoped>\n",
       "    .dataframe tbody tr th:only-of-type {\n",
       "        vertical-align: middle;\n",
       "    }\n",
       "\n",
       "    .dataframe tbody tr th {\n",
       "        vertical-align: top;\n",
       "    }\n",
       "\n",
       "    .dataframe thead th {\n",
       "        text-align: right;\n",
       "    }\n",
       "</style>\n",
       "<table border=\"1\" class=\"dataframe\">\n",
       "  <thead>\n",
       "    <tr style=\"text-align: right;\">\n",
       "      <th></th>\n",
       "      <th>carat</th>\n",
       "      <th>depth</th>\n",
       "      <th>table</th>\n",
       "      <th>x</th>\n",
       "      <th>y</th>\n",
       "      <th>z</th>\n",
       "    </tr>\n",
       "  </thead>\n",
       "  <tbody>\n",
       "    <tr>\n",
       "      <th>0</th>\n",
       "      <td>0.867006</td>\n",
       "      <td>0.452019</td>\n",
       "      <td>0.247981</td>\n",
       "      <td>0.978807</td>\n",
       "      <td>0.921985</td>\n",
       "      <td>1.022657</td>\n",
       "    </tr>\n",
       "    <tr>\n",
       "      <th>1</th>\n",
       "      <td>-1.004557</td>\n",
       "      <td>0.871099</td>\n",
       "      <td>-0.199745</td>\n",
       "      <td>-1.226738</td>\n",
       "      <td>-1.179816</td>\n",
       "      <td>-1.129259</td>\n",
       "    </tr>\n",
       "    <tr>\n",
       "      <th>2</th>\n",
       "      <td>-0.184434</td>\n",
       "      <td>2.617265</td>\n",
       "      <td>-1.095198</td>\n",
       "      <td>-0.097286</td>\n",
       "      <td>-0.176882</td>\n",
       "      <td>0.161891</td>\n",
       "    </tr>\n",
       "    <tr>\n",
       "      <th>3</th>\n",
       "      <td>-0.815298</td>\n",
       "      <td>1.429872</td>\n",
       "      <td>-0.647472</td>\n",
       "      <td>-0.933258</td>\n",
       "      <td>-0.883296</td>\n",
       "      <td>-0.770607</td>\n",
       "    </tr>\n",
       "    <tr>\n",
       "      <th>4</th>\n",
       "      <td>0.467458</td>\n",
       "      <td>-0.875068</td>\n",
       "      <td>0.695707</td>\n",
       "      <td>0.729794</td>\n",
       "      <td>0.677793</td>\n",
       "      <td>0.592274</td>\n",
       "    </tr>\n",
       "  </tbody>\n",
       "</table>\n",
       "</div>"
      ],
      "text/plain": [
       "      carat     depth     table         x         y         z\n",
       "0  0.867006  0.452019  0.247981  0.978807  0.921985  1.022657\n",
       "1 -1.004557  0.871099 -0.199745 -1.226738 -1.179816 -1.129259\n",
       "2 -0.184434  2.617265 -1.095198 -0.097286 -0.176882  0.161891\n",
       "3 -0.815298  1.429872 -0.647472 -0.933258 -0.883296 -0.770607\n",
       "4  0.467458 -0.875068  0.695707  0.729794  0.677793  0.592274"
      ]
     },
     "execution_count": 47,
     "metadata": {},
     "output_type": "execute_result"
    }
   ],
   "source": [
    "X_s=pd.DataFrame(StandardScaler().fit_transform(X._get_numeric_data()), columns=X._get_numeric_data().columns)\n",
    "\n",
    "X_s.head()"
   ]
  },
  {
   "cell_type": "code",
   "execution_count": 48,
   "metadata": {},
   "outputs": [
    {
     "data": {
      "text/html": [
       "<div>\n",
       "<style scoped>\n",
       "    .dataframe tbody tr th:only-of-type {\n",
       "        vertical-align: middle;\n",
       "    }\n",
       "\n",
       "    .dataframe tbody tr th {\n",
       "        vertical-align: top;\n",
       "    }\n",
       "\n",
       "    .dataframe thead th {\n",
       "        text-align: right;\n",
       "    }\n",
       "</style>\n",
       "<table border=\"1\" class=\"dataframe\">\n",
       "  <thead>\n",
       "    <tr style=\"text-align: right;\">\n",
       "      <th></th>\n",
       "      <th>carat</th>\n",
       "      <th>depth</th>\n",
       "      <th>table</th>\n",
       "      <th>x</th>\n",
       "      <th>y</th>\n",
       "      <th>z</th>\n",
       "      <th>clarity</th>\n",
       "      <th>cut</th>\n",
       "      <th>color</th>\n",
       "    </tr>\n",
       "  </thead>\n",
       "  <tbody>\n",
       "    <tr>\n",
       "      <th>0</th>\n",
       "      <td>0.867006</td>\n",
       "      <td>0.452019</td>\n",
       "      <td>0.247981</td>\n",
       "      <td>0.978807</td>\n",
       "      <td>0.921985</td>\n",
       "      <td>1.022657</td>\n",
       "      <td>3</td>\n",
       "      <td>5</td>\n",
       "      <td>0</td>\n",
       "    </tr>\n",
       "    <tr>\n",
       "      <th>1</th>\n",
       "      <td>-1.004557</td>\n",
       "      <td>0.871099</td>\n",
       "      <td>-0.199745</td>\n",
       "      <td>-1.226738</td>\n",
       "      <td>-1.179816</td>\n",
       "      <td>-1.129259</td>\n",
       "      <td>3</td>\n",
       "      <td>2</td>\n",
       "      <td>4</td>\n",
       "    </tr>\n",
       "    <tr>\n",
       "      <th>2</th>\n",
       "      <td>-0.184434</td>\n",
       "      <td>2.617265</td>\n",
       "      <td>-1.095198</td>\n",
       "      <td>-0.097286</td>\n",
       "      <td>-0.176882</td>\n",
       "      <td>0.161891</td>\n",
       "      <td>6</td>\n",
       "      <td>0</td>\n",
       "      <td>6</td>\n",
       "    </tr>\n",
       "    <tr>\n",
       "      <th>3</th>\n",
       "      <td>-0.815298</td>\n",
       "      <td>1.429872</td>\n",
       "      <td>-0.647472</td>\n",
       "      <td>-0.933258</td>\n",
       "      <td>-0.883296</td>\n",
       "      <td>-0.770607</td>\n",
       "      <td>2</td>\n",
       "      <td>1</td>\n",
       "      <td>15</td>\n",
       "    </tr>\n",
       "    <tr>\n",
       "      <th>4</th>\n",
       "      <td>0.467458</td>\n",
       "      <td>-0.875068</td>\n",
       "      <td>0.695707</td>\n",
       "      <td>0.729794</td>\n",
       "      <td>0.677793</td>\n",
       "      <td>0.592274</td>\n",
       "      <td>2</td>\n",
       "      <td>8</td>\n",
       "      <td>6</td>\n",
       "    </tr>\n",
       "  </tbody>\n",
       "</table>\n",
       "</div>"
      ],
      "text/plain": [
       "      carat     depth     table         x         y         z  clarity  cut  \\\n",
       "0  0.867006  0.452019  0.247981  0.978807  0.921985  1.022657        3    5   \n",
       "1 -1.004557  0.871099 -0.199745 -1.226738 -1.179816 -1.129259        3    2   \n",
       "2 -0.184434  2.617265 -1.095198 -0.097286 -0.176882  0.161891        6    0   \n",
       "3 -0.815298  1.429872 -0.647472 -0.933258 -0.883296 -0.770607        2    1   \n",
       "4  0.467458 -0.875068  0.695707  0.729794  0.677793  0.592274        2    8   \n",
       "\n",
       "   color  \n",
       "0      0  \n",
       "1      4  \n",
       "2      6  \n",
       "3     15  \n",
       "4      6  "
      ]
     },
     "execution_count": 48,
     "metadata": {},
     "output_type": "execute_result"
    }
   ],
   "source": [
    "clarity={'I1':0, 'SI2':1, 'SI1':2, 'VS2':3, 'VS1':6, 'VVS2':8, 'VVS1':10, 'IF':14}\n",
    "\n",
    "cut={'Fair':0, 'Good':1, 'Very Good':2, 'Premium':5, 'Ideal':8}\n",
    "\n",
    "color={'J':0, 'I':1, 'H':4, 'G':6, 'F':10, 'E':12, 'D':15}\n",
    "\n",
    "X_s['clarity']=X.clarity.apply(lambda x: label(x, clarity))\n",
    "\n",
    "X_s['cut']=X.cut.apply(lambda x: label(x, cut))\n",
    "\n",
    "X_s['color']=X.color.apply(lambda x: label(x, color))\n",
    "\n",
    "X_s.head()"
   ]
  },
  {
   "cell_type": "code",
   "execution_count": 49,
   "metadata": {},
   "outputs": [],
   "source": [
    "X_train, X_test, y_train, y_test = tts(X_s, y)"
   ]
  },
  {
   "cell_type": "code",
   "execution_count": 50,
   "metadata": {},
   "outputs": [
    {
     "data": {
      "text/plain": [
       "529.9004075313584"
      ]
     },
     "execution_count": 50,
     "metadata": {},
     "output_type": "execute_result"
    }
   ],
   "source": [
    "xgbr=xgb.XGBRegressor()\n",
    "\n",
    "xgbr.fit(X_train, y_train)\n",
    "\n",
    "xgbr_pred=xgbr.predict(X_test)\n",
    "\n",
    "mse(xgbr_pred, y_test)**0.5"
   ]
  },
  {
   "cell_type": "code",
   "execution_count": 51,
   "metadata": {},
   "outputs": [],
   "source": [
    "# gridsearching bayesiano\n",
    "\n",
    "from hyperopt import fmin, hp, tpe, Trials, space_eval, STATUS_OK\n",
    "from hyperopt.pyll import scope as ho_scope\n",
    "from hyperopt.pyll.stochastic import sample as ho_sample"
   ]
  },
  {
   "cell_type": "code",
   "execution_count": 52,
   "metadata": {},
   "outputs": [],
   "source": [
    "space={\n",
    "    \n",
    "    'n_estimators': hp.quniform('n_estimators', 10, 1000, 25), # uniforme discreta de 10 a 1000 en saltos de 25\n",
    "    \n",
    "    'learning_rate': hp.uniform('learning_rate', 0.0001, 1.0), # uniforme continua entre 0.0001 y 1\n",
    "    \n",
    "    'gamma': hp.uniform('x_gamma', 0.1, 0.5)\n",
    "}"
   ]
  },
  {
   "cell_type": "code",
   "execution_count": 53,
   "metadata": {},
   "outputs": [],
   "source": [
    "def objetivo(space):\n",
    "    \n",
    "    modelo=xgb.XGBRegressor(n_estimators=int(space['n_estimators']),\n",
    "                            learning_rate=space['learning_rate'],\n",
    "                            gamma=space['gamma'],\n",
    "                            objective='reg:squarederror'\n",
    "                           )\n",
    "    \n",
    "    eval_set=[(X_train, y_train), (X_test, y_test)]\n",
    "    \n",
    "    modelo.fit(X_train, y_train, eval_set=eval_set, eval_metric='rmse', verbose=False)\n",
    "    \n",
    "    y_pred=modelo.predict(X_test)\n",
    "    \n",
    "    rmse=mse(y_test, y_pred)**0.5\n",
    "    \n",
    "    return {'loss': rmse, 'status': STATUS_OK}"
   ]
  },
  {
   "cell_type": "code",
   "execution_count": 54,
   "metadata": {},
   "outputs": [
    {
     "name": "stdout",
     "output_type": "stream",
     "text": [
      "100%|██████████| 10/10 [10:33<00:00, 63.31s/trial, best loss: 516.4962170494787]\n"
     ]
    },
    {
     "data": {
      "text/plain": [
       "{'learning_rate': 0.08060831107510294,\n",
       " 'n_estimators': 850.0,\n",
       " 'x_gamma': 0.15726071873945277}"
      ]
     },
     "execution_count": 54,
     "metadata": {},
     "output_type": "execute_result"
    }
   ],
   "source": [
    "mejor=fmin(fn=objetivo, space=space, algo=tpe.suggest, max_evals=10, trials=Trials())\n",
    "\n",
    "mejor"
   ]
  },
  {
   "cell_type": "code",
   "execution_count": 55,
   "metadata": {},
   "outputs": [],
   "source": [
    "modelo=xgb.XGBRegressor(n_estimators=int(mejor['n_estimators']), \n",
    "                       learning_rate=mejor['learning_rate'], \n",
    "                       gamma=mejor['x_gamma'],\n",
    "                       objective='reg:squarederror')"
   ]
  },
  {
   "cell_type": "code",
   "execution_count": 56,
   "metadata": {},
   "outputs": [
    {
     "data": {
      "text/plain": [
       "XGBRegressor(base_score=0.5, booster='gbtree', colsample_bylevel=1,\n",
       "             colsample_bynode=1, colsample_bytree=1, gamma=0.15726071873945277,\n",
       "             gpu_id=-1, importance_type='gain', interaction_constraints='',\n",
       "             learning_rate=0.08060831107510294, max_delta_step=0, max_depth=6,\n",
       "             min_child_weight=1, missing=nan, monotone_constraints='()',\n",
       "             n_estimators=850, n_jobs=0, num_parallel_tree=1, random_state=0,\n",
       "             reg_alpha=0, reg_lambda=1, scale_pos_weight=1, subsample=1,\n",
       "             tree_method='exact', validate_parameters=1, verbosity=None)"
      ]
     },
     "execution_count": 56,
     "metadata": {},
     "output_type": "execute_result"
    }
   ],
   "source": [
    "modelo.fit(X_train, y_train)"
   ]
  },
  {
   "cell_type": "code",
   "execution_count": 57,
   "metadata": {},
   "outputs": [
    {
     "data": {
      "text/plain": [
       "516.4962170494787"
      ]
     },
     "execution_count": 57,
     "metadata": {},
     "output_type": "execute_result"
    }
   ],
   "source": [
    "y_pred=modelo.predict(X_test)\n",
    "\n",
    "mse(y_test, y_pred)**0.5"
   ]
  },
  {
   "cell_type": "markdown",
   "metadata": {},
   "source": [
    "https://docs.scipy.org/doc/scipy/reference/generated/scipy.stats.boxcox.html"
   ]
  },
  {
   "cell_type": "code",
   "execution_count": 58,
   "metadata": {},
   "outputs": [],
   "source": [
    "import h2o\n",
    "from h2o.automl import H2OAutoML"
   ]
  },
  {
   "cell_type": "code",
   "execution_count": null,
   "metadata": {},
   "outputs": [],
   "source": [
    "h2o.init()"
   ]
  },
  {
   "cell_type": "code",
   "execution_count": null,
   "metadata": {},
   "outputs": [],
   "source": [
    "df=h2o.import_file('../data/diamonds_train.csv')"
   ]
  },
  {
   "cell_type": "code",
   "execution_count": null,
   "metadata": {},
   "outputs": [],
   "source": [
    "X=df.columns\n",
    "y='price'\n",
    "X.remove(y)"
   ]
  },
  {
   "cell_type": "code",
   "execution_count": null,
   "metadata": {},
   "outputs": [],
   "source": [
    "df[y]=df[y].asfactor()"
   ]
  },
  {
   "cell_type": "code",
   "execution_count": null,
   "metadata": {},
   "outputs": [],
   "source": [
    "# 20 modelos\n",
    "\n",
    "aml=H2OAutoML(max_models=3, seed=1)\n",
    "\n",
    "aml.train(x=X, y=y, training_frame=df)"
   ]
  },
  {
   "cell_type": "code",
   "execution_count": null,
   "metadata": {},
   "outputs": [],
   "source": [
    "lb=aml.leaderboard\n",
    "\n",
    "lb.head(rows=lb.nrows)"
   ]
  },
  {
   "cell_type": "code",
   "execution_count": null,
   "metadata": {},
   "outputs": [],
   "source": [
    "aml.leader  # mejor modelo"
   ]
  },
  {
   "cell_type": "code",
   "execution_count": null,
   "metadata": {},
   "outputs": [],
   "source": [
    "pred=aml.leader.predict(X)\n",
    "\n",
    "pred"
   ]
  },
  {
   "cell_type": "code",
   "execution_count": null,
   "metadata": {},
   "outputs": [],
   "source": []
  }
 ],
 "metadata": {
  "kernelspec": {
   "display_name": "clase",
   "language": "python",
   "name": "clase"
  },
  "language_info": {
   "codemirror_mode": {
    "name": "ipython",
    "version": 3
   },
   "file_extension": ".py",
   "mimetype": "text/x-python",
   "name": "python",
   "nbconvert_exporter": "python",
   "pygments_lexer": "ipython3",
   "version": "3.7.10"
  },
  "varInspector": {
   "cols": {
    "lenName": 16,
    "lenType": 16,
    "lenVar": 40
   },
   "kernels_config": {
    "python": {
     "delete_cmd_postfix": "",
     "delete_cmd_prefix": "del ",
     "library": "var_list.py",
     "varRefreshCmd": "print(var_dic_list())"
    },
    "r": {
     "delete_cmd_postfix": ") ",
     "delete_cmd_prefix": "rm(",
     "library": "var_list.r",
     "varRefreshCmd": "cat(var_dic_list()) "
    }
   },
   "types_to_exclude": [
    "module",
    "function",
    "builtin_function_or_method",
    "instance",
    "_Feature"
   ],
   "window_display": false
  }
 },
 "nbformat": 4,
 "nbformat_minor": 4
}
