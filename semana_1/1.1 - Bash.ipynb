{
 "cells": [
  {
   "cell_type": "markdown",
   "metadata": {},
   "source": [
    "# 1.1 - Bash\n",
    "\n",
    "https://es.wikipedia.org/wiki/Bash"
   ]
  },
  {
   "cell_type": "markdown",
   "metadata": {},
   "source": [
    "También existe **Zsh**, otra forma de terminal:\n",
    "https://github.com/ohmyzsh/ohmyzsh/wiki/Installing-ZSH"
   ]
  },
  {
   "cell_type": "markdown",
   "metadata": {},
   "source": [
    "<div style=\"page-break-after: always; visibility: hidden\">\n",
    "\\pagebreak\n",
    "</div>"
   ]
  },
  {
   "cell_type": "markdown",
   "metadata": {},
   "source": [
    "### Tabla de contenidos:\n",
    "\n",
    "* **Intro**\n",
    "* **Conceptos básicos:**\n",
    "    + Comandos básicos\n",
    "    + Crear, editar, explorar\n",
    "    + Bucles, condicionales y funciones\n",
    "    + Creacion de alias\n",
    "* **Resumen**\n",
    "* **Más material:**\n",
    "    + Ejemplos\n",
    "    + Referencias"
   ]
  },
  {
   "cell_type": "markdown",
   "metadata": {},
   "source": [
    "### + Intro"
   ]
  },
  {
   "cell_type": "markdown",
   "metadata": {},
   "source": [
    "**GUI**: Graphical User Interface: interacción usuario-máquina a través de gráficos, iconos, imágenes, textos.  \n",
    "**CLI**: Command Line Interface: interacción usuario-máquina a través de comandos de texto."
   ]
  },
  {
   "cell_type": "markdown",
   "metadata": {},
   "source": [
    "CLIs:\n",
    " * Mac, Linux: UNIX shell  \n",
    " * Windows: Git-Bash"
   ]
  },
  {
   "cell_type": "markdown",
   "metadata": {},
   "source": [
    "*Sinónimos* de CLI:\n",
    " * shell\n",
    " * consola\n",
    " * terminal"
   ]
  },
  {
   "cell_type": "markdown",
   "metadata": {},
   "source": [
    "Una terminal es útil para:\n",
    " * Conexiones SSH (Secure Shell): SSH es un protocolo criptográfico para operar de manera segura en redes inseguras.\n",
    " * Crear pequeños programas. \n",
    " * Administrar servidores.\n",
    " * Pretender ser un buen programador.\n",
    " * Disfrutar de permisos de administrador. (¡Con cuidado!)"
   ]
  },
  {
   "cell_type": "markdown",
   "metadata": {},
   "source": [
    "### + Conceptos básicos"
   ]
  },
  {
   "cell_type": "markdown",
   "metadata": {},
   "source": [
    "#### Comandos básicos"
   ]
  },
  {
   "cell_type": "markdown",
   "metadata": {},
   "source": [
    "La sintaxis general para los comandos de bash es: `comando [opciones] [argumentos]`  \n",
    "¡Algunos comandos NECESITAN opciones y/o argumentos!"
   ]
  },
  {
   "cell_type": "markdown",
   "metadata": {},
   "source": [
    "Puedes usar la tecla `<TAB>` para autocompletar."
   ]
  },
  {
   "cell_type": "markdown",
   "metadata": {},
   "source": [
    "`bash --version`: version de bash"
   ]
  },
  {
   "cell_type": "markdown",
   "metadata": {},
   "source": [
    "`man`: manual, ayuda"
   ]
  },
  {
   "cell_type": "markdown",
   "metadata": {},
   "source": [
    "`--help`: también es ayuda"
   ]
  },
  {
   "cell_type": "markdown",
   "metadata": {},
   "source": [
    "`pwd`: imprime el directorio actual"
   ]
  },
  {
   "cell_type": "markdown",
   "metadata": {},
   "source": [
    "`clear`: limpia la terminal"
   ]
  },
  {
   "cell_type": "markdown",
   "metadata": {},
   "source": [
    "`tput reset`: también limpia la terminal"
   ]
  },
  {
   "cell_type": "markdown",
   "metadata": {},
   "source": [
    "`echo`: imprime por pantalla"
   ]
  },
  {
   "cell_type": "markdown",
   "metadata": {},
   "source": [
    "`date`: fecha"
   ]
  },
  {
   "cell_type": "markdown",
   "metadata": {},
   "source": [
    "`cal`: calendario"
   ]
  },
  {
   "cell_type": "markdown",
   "metadata": {},
   "source": [
    "`cd`: cambio a directorio raiz\n",
    "\n",
    "`cd [argumento]`: cambio de directorio, entrar\n",
    "\n",
    "`cd ..`: cambio de directorio, atrás"
   ]
  },
  {
   "cell_type": "markdown",
   "metadata": {},
   "source": [
    "`ls`: listado de directorios\n",
    "\n",
    "`ls -a`: todos los archivos\n",
    "\n",
    "`ls -l`: listado largo\n",
    "\n",
    "`ls -al`: ambos\n",
    "\n",
    "`ls -als`: ambos con nº de elementos"
   ]
  },
  {
   "cell_type": "markdown",
   "metadata": {},
   "source": [
    "#### Crear, editar, explorar"
   ]
  },
  {
   "cell_type": "markdown",
   "metadata": {},
   "source": [
    "`mkdir`: crear directorio"
   ]
  },
  {
   "cell_type": "markdown",
   "metadata": {},
   "source": [
    "`touch`: crea un archivo en blanco "
   ]
  },
  {
   "cell_type": "markdown",
   "metadata": {},
   "source": [
    "`>>`: añade a un archivo"
   ]
  },
  {
   "cell_type": "markdown",
   "metadata": {},
   "source": [
    "`>`: inserta en un archivo (¡Cuidado!, borra todo el contenido del archivo)"
   ]
  },
  {
   "cell_type": "markdown",
   "metadata": {},
   "source": [
    "`cat`: mira el contenido del archivo"
   ]
  },
  {
   "cell_type": "markdown",
   "metadata": {},
   "source": [
    "`head`: mira la cabeza del archivo"
   ]
  },
  {
   "cell_type": "markdown",
   "metadata": {},
   "source": [
    "`tail`: mira la cola del archivo"
   ]
  },
  {
   "cell_type": "markdown",
   "metadata": {},
   "source": [
    "`nano`: edita el contenido del archivo"
   ]
  },
  {
   "cell_type": "markdown",
   "metadata": {},
   "source": [
    "`wc`: cuenta lineas/palabras/caracteres "
   ]
  },
  {
   "cell_type": "markdown",
   "metadata": {},
   "source": [
    "`mv`: mueve o renombra archivo"
   ]
  },
  {
   "cell_type": "markdown",
   "metadata": {},
   "source": [
    "`cp`: copiar archivo"
   ]
  },
  {
   "cell_type": "markdown",
   "metadata": {},
   "source": [
    "`rm`: borra archivo"
   ]
  },
  {
   "cell_type": "markdown",
   "metadata": {},
   "source": [
    "`rm -r`: borra directorio"
   ]
  },
  {
   "cell_type": "markdown",
   "metadata": {},
   "source": [
    "`find`: encuentra archivos"
   ]
  },
  {
   "cell_type": "markdown",
   "metadata": {},
   "source": [
    "`grep`: encuentra en el texto"
   ]
  },
  {
   "cell_type": "markdown",
   "metadata": {},
   "source": [
    "`|`: calcula segun el resultado de otro comando"
   ]
  },
  {
   "cell_type": "markdown",
   "metadata": {},
   "source": [
    "`age=31`: crear variable"
   ]
  },
  {
   "cell_type": "markdown",
   "metadata": {},
   "source": [
    "`$`: acceder a variable"
   ]
  },
  {
   "cell_type": "markdown",
   "metadata": {},
   "source": [
    "`history`: muestra el historico de comandos ejecutados"
   ]
  },
  {
   "cell_type": "markdown",
   "metadata": {},
   "source": [
    "`top` and `htop`: muestra el uso de RAM y CPU"
   ]
  },
  {
   "cell_type": "markdown",
   "metadata": {},
   "source": [
    "`Ctrl+R`: pra encontrar comandos anteriores"
   ]
  },
  {
   "cell_type": "markdown",
   "metadata": {},
   "source": [
    "#### Bucles, condicionales y funciones"
   ]
  },
  {
   "cell_type": "markdown",
   "metadata": {},
   "source": [
    "''\n",
    "\n",
    "`for i in 1 2 3  \n",
    "do\n",
    "echo $i\n",
    "done`"
   ]
  },
  {
   "cell_type": "markdown",
   "metadata": {},
   "source": [
    "*start-stop-step*\n",
    "\n",
    "`for i in {0..10..2}       \n",
    "do\n",
    "echo $i\n",
    "done`\n"
   ]
  },
  {
   "cell_type": "markdown",
   "metadata": {},
   "source": [
    "*bucle infinito*\n",
    "\n",
    "`for (( ; ; ))     \n",
    "do\n",
    "echo 1\n",
    "done`"
   ]
  },
  {
   "cell_type": "markdown",
   "metadata": {},
   "source": [
    "*while*\n",
    "\n",
    "`total=1`\n",
    "\n",
    "`while [ $total -le 3 ]`\n",
    "\n",
    "`do`\n",
    "\n",
    "`total=$(($total + 1))`\n",
    "\n",
    "`done`\n",
    "\n",
    "`echo 'bucle acabado'`\n",
    "\n",
    "`echo $total`"
   ]
  },
  {
   "cell_type": "markdown",
   "metadata": {},
   "source": [
    "*condicional*\n",
    "\n",
    "`a=1`\n",
    "\n",
    "`if [ $a -le 3 ]`\n",
    "\n",
    "`then`\n",
    "\n",
    "`echo 'pequeño'`\n",
    "\n",
    "`else `\n",
    "\n",
    "`echo 'grande'`\n",
    "\n",
    "`fi`"
   ]
  },
  {
   "cell_type": "markdown",
   "metadata": {},
   "source": [
    "*funcion*\n",
    "\n",
    "`funcion() {\n",
    "echo 'estoy en la funcion'\n",
    "}`\n",
    "\n",
    "\n",
    "`funcion`"
   ]
  },
  {
   "cell_type": "markdown",
   "metadata": {},
   "source": [
    "#### Creacion de alias"
   ]
  },
  {
   "cell_type": "markdown",
   "metadata": {},
   "source": [
    "Los alias son atajos para comandos frecuentes:\n",
    "\n",
    "En linux: abre `.bashrc` en tu directorio raíz y añade un comando alias:  \n",
    "`alias iron='cd/home/ironhack; source activate ironhack'`  \n",
    "**La terminal se tiene que reiniciar**"
   ]
  },
  {
   "cell_type": "markdown",
   "metadata": {},
   "source": [
    "<div style=\"page-break-after: always; visibility: hidden\">\n",
    "\\pagebreak\n",
    "</div>"
   ]
  },
  {
   "cell_type": "markdown",
   "metadata": {},
   "source": [
    "### + Resumen"
   ]
  },
  {
   "cell_type": "markdown",
   "metadata": {},
   "source": [
    " * Comandos de Bash \n",
    " * Directorios y listado\n",
    " * Archivos, lectura y escritura\n",
    " * Bubles, condicionales y bucles\n",
    " * Alias"
   ]
  },
  {
   "cell_type": "markdown",
   "metadata": {},
   "source": [
    "### + Más material"
   ]
  },
  {
   "cell_type": "markdown",
   "metadata": {},
   "source": [
    "#### Ejemplos"
   ]
  },
  {
   "cell_type": "markdown",
   "metadata": {},
   "source": [
    "**Crear directorio, archivo de texto, rellenar y borrar**"
   ]
  },
  {
   "cell_type": "markdown",
   "metadata": {},
   "source": [
    "`mkdir A`         # crea directorio\n",
    "\n",
    "`ls`              # comprobacion\n",
    "\n",
    "`touch hola.txt`  # crea archivo\n",
    "\n",
    "`ls`              # comprobacion\n",
    "\n",
    "`echo 'hola'`     # print, muestra por terminal\n",
    "\n",
    "`echo 3`\n",
    "\n",
    "`echo 'hola que tal, como estas?' >> hola.txt`     # escribe sobre el archivo hola.txt\n",
    "\n",
    "`cat hola.txt`                                     # lee el archivo\n",
    "\n",
    "`grep 'hola' hola.txt`                             # busca patron en el archivo\n",
    "\n",
    "`rm -rf hola.txt`          # borra archivo\n",
    "\n",
    "`ls`                       # comprobacion \n",
    "\n",
    "`rm -rf A`                 # borra directorio\n",
    "\n",
    "`ls`                      # comprobacion"
   ]
  },
  {
   "cell_type": "markdown",
   "metadata": {},
   "source": [
    "**Con bucle y función**"
   ]
  },
  {
   "cell_type": "markdown",
   "metadata": {},
   "source": [
    "`funcion() {\n",
    "echo 'estoy en la funcion'\n",
    "}`                              # define funcion\n",
    "\n",
    "\n",
    "\n",
    "`total=10`    # variable\n",
    "\n",
    "`while [ $total -ge 4 ]`   # inicio bucle\n",
    "\n",
    "`do` \n",
    "\n",
    "`funcion`  # llamada a funcion\n",
    "\n",
    "`total=$(($total - 1))`    # actualiza variable\n",
    "\n",
    "`done`     # fin de bucle\n",
    "\n",
    "`echo 'bucle acabado'`   # imprime por terminal\n",
    "\n",
    "`funcion`   # llamada a funcion\n",
    "\n",
    "`echo 'fin'`     # imprime por terminal"
   ]
  },
  {
   "cell_type": "markdown",
   "metadata": {},
   "source": [
    "#### Referencias"
   ]
  },
  {
   "cell_type": "markdown",
   "metadata": {},
   "source": [
    "**Manual:**\n",
    "\n",
    "https://www.gnu.org/savannah-checkouts/gnu/bash/manual/bash.html"
   ]
  },
  {
   "cell_type": "markdown",
   "metadata": {},
   "source": [
    "**Cheat Sheets:**\n",
    "\n",
    "![bash1](images/bash_cheat_sheet.png)"
   ]
  },
  {
   "cell_type": "markdown",
   "metadata": {},
   "source": [
    "### Juegos en bash:\n",
    "\n",
    "[Aventura gráfica Terminus](https://web.mit.edu/mprat/Public/web/Terminus/Web/main.html)\n",
    "\n",
    "[The Command Line Murders](https://github.com/veltman/clmystery)"
   ]
  }
 ],
 "metadata": {
  "kernelspec": {
   "display_name": "Python 3",
   "language": "python",
   "name": "python3"
  },
  "language_info": {
   "codemirror_mode": {
    "name": "ipython",
    "version": 3
   },
   "file_extension": ".py",
   "mimetype": "text/x-python",
   "name": "python",
   "nbconvert_exporter": "python",
   "pygments_lexer": "ipython3",
   "version": "3.8.3"
  },
  "varInspector": {
   "cols": {
    "lenName": 16,
    "lenType": 16,
    "lenVar": 40
   },
   "kernels_config": {
    "python": {
     "delete_cmd_postfix": "",
     "delete_cmd_prefix": "del ",
     "library": "var_list.py",
     "varRefreshCmd": "print(var_dic_list())"
    },
    "r": {
     "delete_cmd_postfix": ") ",
     "delete_cmd_prefix": "rm(",
     "library": "var_list.r",
     "varRefreshCmd": "cat(var_dic_list()) "
    }
   },
   "types_to_exclude": [
    "module",
    "function",
    "builtin_function_or_method",
    "instance",
    "_Feature"
   ],
   "window_display": false
  }
 },
 "nbformat": 4,
 "nbformat_minor": 4
}
