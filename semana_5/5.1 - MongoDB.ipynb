{
 "cells": [
  {
   "cell_type": "markdown",
   "id": "296c3fa2",
   "metadata": {},
   "source": [
    "# 5.1 - MongoDB\n",
    "\n",
    "https://docs.mongodb.com/manual/administration/install-community/\n",
    "\n",
    "MongoDB es una base de datos orientada a documentos. Esto quiere decir que en lugar de guardar los datos en registros, guarda los datos en documentos. Estos documentos son almacenados en BSON, que es una representación binaria de JSON.\n",
    "\n",
    "Una de las diferencias más importantes con respecto a las bases de datos relacionales, es que no es necesario seguir un esquema. Los documentos de una misma colección, concepto similar a una tabla de una base de datos relacional, pueden tener esquemas diferentes.\n"
   ]
  },
  {
   "cell_type": "code",
   "execution_count": 1,
   "id": "d686b82b",
   "metadata": {},
   "outputs": [
    {
     "name": "stdout",
     "output_type": "stream",
     "text": [
      "Requirement already satisfied: pymongo in /Users/iudh/opt/anaconda3/envs/clase/lib/python3.7/site-packages (3.11.0)\r\n"
     ]
    }
   ],
   "source": [
    "!pip install pymongo"
   ]
  },
  {
   "cell_type": "code",
   "execution_count": 2,
   "id": "b53f90eb",
   "metadata": {},
   "outputs": [],
   "source": [
    "import pymongo  # importa toda la libreria"
   ]
  },
  {
   "cell_type": "code",
   "execution_count": 3,
   "id": "87c2662e",
   "metadata": {},
   "outputs": [],
   "source": [
    "cliente=pymongo.MongoClient()  # llamar a la clase MongoClient\n",
    "\n",
    "db=cliente.nueva_db            # crear una base de datos"
   ]
  },
  {
   "cell_type": "code",
   "execution_count": 4,
   "id": "882a8427",
   "metadata": {},
   "outputs": [
    {
     "data": {
      "text/plain": [
       "['admin',\n",
       " 'comp',\n",
       " 'companies',\n",
       " 'config',\n",
       " 'earthquake',\n",
       " 'geo_attack',\n",
       " 'linkedin',\n",
       " 'local',\n",
       " 'supply']"
      ]
     },
     "execution_count": 4,
     "metadata": {},
     "output_type": "execute_result"
    }
   ],
   "source": [
    "cliente.list_database_names()"
   ]
  },
  {
   "cell_type": "code",
   "execution_count": 5,
   "id": "ae026dc9",
   "metadata": {},
   "outputs": [],
   "source": [
    "colec=db.n_coleccion   # crea coleccion"
   ]
  },
  {
   "cell_type": "code",
   "execution_count": 6,
   "id": "af4151db",
   "metadata": {},
   "outputs": [
    {
     "data": {
      "text/plain": [
       "[]"
      ]
     },
     "execution_count": 6,
     "metadata": {},
     "output_type": "execute_result"
    }
   ],
   "source": [
    "db.list_collection_names()"
   ]
  },
  {
   "cell_type": "code",
   "execution_count": 7,
   "id": "bc989056",
   "metadata": {},
   "outputs": [
    {
     "data": {
      "text/plain": [
       "<pymongo.results.InsertOneResult at 0x10af820a0>"
      ]
     },
     "execution_count": 7,
     "metadata": {},
     "output_type": "execute_result"
    }
   ],
   "source": [
    "dictio={'nombre':' Juan', 'edad':25}\n",
    "\n",
    "colec.insert_one(dictio)  # inserta elemento"
   ]
  },
  {
   "cell_type": "code",
   "execution_count": 8,
   "id": "85c8002d",
   "metadata": {},
   "outputs": [
    {
     "data": {
      "text/plain": [
       "['admin',\n",
       " 'comp',\n",
       " 'companies',\n",
       " 'config',\n",
       " 'earthquake',\n",
       " 'geo_attack',\n",
       " 'linkedin',\n",
       " 'local',\n",
       " 'nueva_db',\n",
       " 'supply']"
      ]
     },
     "execution_count": 8,
     "metadata": {},
     "output_type": "execute_result"
    }
   ],
   "source": [
    "cliente.list_database_names()"
   ]
  },
  {
   "cell_type": "code",
   "execution_count": 9,
   "id": "6afb0b69",
   "metadata": {},
   "outputs": [
    {
     "data": {
      "text/plain": [
       "['n_coleccion']"
      ]
     },
     "execution_count": 9,
     "metadata": {},
     "output_type": "execute_result"
    }
   ],
   "source": [
    "db.list_collection_names()"
   ]
  },
  {
   "cell_type": "code",
   "execution_count": 10,
   "id": "f4320811",
   "metadata": {},
   "outputs": [
    {
     "data": {
      "text/plain": [
       "<pymongo.results.InsertManyResult at 0x10af8e960>"
      ]
     },
     "execution_count": 10,
     "metadata": {},
     "output_type": "execute_result"
    }
   ],
   "source": [
    "colec.insert_many([\n",
    "    {'nombre':'Ana', 'edad':45},\n",
    "    {'saludo':'hola pero que pashhhaa', 'altura':50, 'tiempo':50}\n",
    "])\n",
    "\n",
    "# inserta varios"
   ]
  },
  {
   "cell_type": "code",
   "execution_count": 11,
   "id": "812407c3",
   "metadata": {},
   "outputs": [
    {
     "data": {
      "text/plain": [
       "<pymongo.results.InsertOneResult at 0x10af8e7d0>"
      ]
     },
     "execution_count": 11,
     "metadata": {},
     "output_type": "execute_result"
    }
   ],
   "source": [
    "colec.insert_one({'id':0, 'nombre':'Maria', 'edad':45})"
   ]
  },
  {
   "cell_type": "code",
   "execution_count": 12,
   "id": "0dcf515f",
   "metadata": {},
   "outputs": [
    {
     "data": {
      "text/plain": [
       "<pymongo.results.InsertOneResult at 0x10af8ef00>"
      ]
     },
     "execution_count": 12,
     "metadata": {},
     "output_type": "execute_result"
    }
   ],
   "source": [
    "colec.insert_one({'_id':0, 'nombre':'Pepe', 'edad':45}) # cambia id"
   ]
  },
  {
   "cell_type": "code",
   "execution_count": 13,
   "id": "51f1daf9",
   "metadata": {},
   "outputs": [
    {
     "data": {
      "text/plain": [
       "[{'_id': ObjectId('60b0ac64a7b5a8307a3c1764'), 'nombre': ' Juan', 'edad': 25},\n",
       " {'_id': ObjectId('60b0ac64a7b5a8307a3c1765'), 'nombre': 'Ana', 'edad': 45},\n",
       " {'_id': ObjectId('60b0ac64a7b5a8307a3c1766'),\n",
       "  'saludo': 'hola pero que pashhhaa',\n",
       "  'altura': 50,\n",
       "  'tiempo': 50},\n",
       " {'_id': ObjectId('60b0ac64a7b5a8307a3c1767'),\n",
       "  'id': 0,\n",
       "  'nombre': 'Maria',\n",
       "  'edad': 45},\n",
       " {'_id': 0, 'nombre': 'Pepe', 'edad': 45}]"
      ]
     },
     "execution_count": 13,
     "metadata": {},
     "output_type": "execute_result"
    }
   ],
   "source": [
    "list(colec.find())   # encuentra todo"
   ]
  },
  {
   "cell_type": "code",
   "execution_count": 14,
   "id": "45b50423",
   "metadata": {},
   "outputs": [
    {
     "data": {
      "text/plain": [
       "[{'_id': ObjectId('60b0ac64a7b5a8307a3c1764'), 'nombre': ' Juan', 'edad': 25},\n",
       " {'_id': ObjectId('60b0ac64a7b5a8307a3c1765'), 'nombre': 'Ana', 'edad': 45}]"
      ]
     },
     "execution_count": 14,
     "metadata": {},
     "output_type": "execute_result"
    }
   ],
   "source": [
    "list(colec.find().limit(2)) # todo con 2 de limite"
   ]
  },
  {
   "cell_type": "code",
   "execution_count": 15,
   "id": "20e41237",
   "metadata": {},
   "outputs": [
    {
     "data": {
      "text/plain": [
       "[{'_id': ObjectId('60b0ac64a7b5a8307a3c1764'), 'nombre': ' Juan', 'edad': 25}]"
      ]
     },
     "execution_count": 15,
     "metadata": {},
     "output_type": "execute_result"
    }
   ],
   "source": [
    "list(colec.find({'edad':25}))  # elemento con edad=25"
   ]
  },
  {
   "cell_type": "code",
   "execution_count": 16,
   "id": "308bdc0f",
   "metadata": {},
   "outputs": [
    {
     "data": {
      "text/plain": [
       "[{'_id': ObjectId('60b0ac64a7b5a8307a3c1764'), 'nombre': ' Juan', 'edad': 25},\n",
       " {'_id': ObjectId('60b0ac64a7b5a8307a3c1765'), 'nombre': 'Ana', 'edad': 45},\n",
       " {'_id': ObjectId('60b0ac64a7b5a8307a3c1767'),\n",
       "  'id': 0,\n",
       "  'nombre': 'Maria',\n",
       "  'edad': 45},\n",
       " {'_id': 0, 'nombre': 'Pepe', 'edad': 45}]"
      ]
     },
     "execution_count": 16,
     "metadata": {},
     "output_type": "execute_result"
    }
   ],
   "source": [
    "list(colec.find({'edad': {'$gte': 25}}))  # elemento con edad>=25"
   ]
  },
  {
   "cell_type": "code",
   "execution_count": 17,
   "id": "38d60c9f",
   "metadata": {},
   "outputs": [
    {
     "data": {
      "text/plain": [
       "[{'_id': ObjectId('60b0ac64a7b5a8307a3c1765'), 'nombre': 'Ana', 'edad': 45},\n",
       " {'_id': ObjectId('60b0ac64a7b5a8307a3c1767'),\n",
       "  'id': 0,\n",
       "  'nombre': 'Maria',\n",
       "  'edad': 45},\n",
       " {'_id': 0, 'nombre': 'Pepe', 'edad': 45}]"
      ]
     },
     "execution_count": 17,
     "metadata": {},
     "output_type": "execute_result"
    }
   ],
   "source": [
    "list(colec.find({'edad': {'$gt': 25}}))  # elemento con edad>25"
   ]
  },
  {
   "cell_type": "code",
   "execution_count": 18,
   "id": "52107153",
   "metadata": {},
   "outputs": [
    {
     "data": {
      "text/plain": [
       "[{'_id': ObjectId('60b0ac64a7b5a8307a3c1765'), 'nombre': 'Ana', 'edad': 45},\n",
       " {'_id': ObjectId('60b0ac64a7b5a8307a3c1767'),\n",
       "  'id': 0,\n",
       "  'nombre': 'Maria',\n",
       "  'edad': 45},\n",
       " {'_id': 0, 'nombre': 'Pepe', 'edad': 45},\n",
       " {'_id': ObjectId('60b0ac64a7b5a8307a3c1764'), 'nombre': ' Juan', 'edad': 25},\n",
       " {'_id': ObjectId('60b0ac64a7b5a8307a3c1766'),\n",
       "  'saludo': 'hola pero que pashhhaa',\n",
       "  'altura': 50,\n",
       "  'tiempo': 50}]"
      ]
     },
     "execution_count": 18,
     "metadata": {},
     "output_type": "execute_result"
    }
   ],
   "source": [
    "list(colec.find().sort('edad', -1))   # ordenado por las edad descendente -1"
   ]
  },
  {
   "cell_type": "code",
   "execution_count": 19,
   "id": "dbfc33db",
   "metadata": {},
   "outputs": [
    {
     "data": {
      "text/plain": [
       "<pymongo.results.DeleteResult at 0x10af9b410>"
      ]
     },
     "execution_count": 19,
     "metadata": {},
     "output_type": "execute_result"
    }
   ],
   "source": [
    "colec.delete_one({'_id':0})  # borrar un elemento"
   ]
  },
  {
   "cell_type": "code",
   "execution_count": 20,
   "id": "b2294eb5",
   "metadata": {},
   "outputs": [
    {
     "data": {
      "text/plain": [
       "[{'_id': ObjectId('60b0ac64a7b5a8307a3c1764'), 'nombre': ' Juan', 'edad': 25},\n",
       " {'_id': ObjectId('60b0ac64a7b5a8307a3c1765'), 'nombre': 'Ana', 'edad': 45},\n",
       " {'_id': ObjectId('60b0ac64a7b5a8307a3c1766'),\n",
       "  'saludo': 'hola pero que pashhhaa',\n",
       "  'altura': 50,\n",
       "  'tiempo': 50},\n",
       " {'_id': ObjectId('60b0ac64a7b5a8307a3c1767'),\n",
       "  'id': 0,\n",
       "  'nombre': 'Maria',\n",
       "  'edad': 45}]"
      ]
     },
     "execution_count": 20,
     "metadata": {},
     "output_type": "execute_result"
    }
   ],
   "source": [
    "list(colec.find())"
   ]
  },
  {
   "cell_type": "code",
   "execution_count": 21,
   "id": "347ac0ff",
   "metadata": {},
   "outputs": [
    {
     "data": {
      "text/plain": [
       "<pymongo.results.UpdateResult at 0x10afab5a0>"
      ]
     },
     "execution_count": 21,
     "metadata": {},
     "output_type": "execute_result"
    }
   ],
   "source": [
    "colec.update_one({'nombre':'Maria', 'id':0}, {'$set': {'nombre': 'Maria Alejandra'}})  # actualizar uno"
   ]
  },
  {
   "cell_type": "code",
   "execution_count": 22,
   "id": "18f2b6d7",
   "metadata": {},
   "outputs": [
    {
     "data": {
      "text/plain": [
       "[{'_id': ObjectId('60b0ac64a7b5a8307a3c1764'), 'nombre': ' Juan', 'edad': 25},\n",
       " {'_id': ObjectId('60b0ac64a7b5a8307a3c1765'), 'nombre': 'Ana', 'edad': 45},\n",
       " {'_id': ObjectId('60b0ac64a7b5a8307a3c1766'),\n",
       "  'saludo': 'hola pero que pashhhaa',\n",
       "  'altura': 50,\n",
       "  'tiempo': 50},\n",
       " {'_id': ObjectId('60b0ac64a7b5a8307a3c1767'),\n",
       "  'id': 0,\n",
       "  'nombre': 'Maria Alejandra',\n",
       "  'edad': 45}]"
      ]
     },
     "execution_count": 22,
     "metadata": {},
     "output_type": "execute_result"
    }
   ],
   "source": [
    "list(colec.find())"
   ]
  },
  {
   "cell_type": "code",
   "execution_count": 23,
   "id": "834043b6",
   "metadata": {},
   "outputs": [],
   "source": [
    "colec.drop()   # elimina coleccion "
   ]
  },
  {
   "cell_type": "code",
   "execution_count": 24,
   "id": "39053424",
   "metadata": {},
   "outputs": [
    {
     "data": {
      "text/plain": [
       "[]"
      ]
     },
     "execution_count": 24,
     "metadata": {},
     "output_type": "execute_result"
    }
   ],
   "source": [
    "db.list_collection_names()"
   ]
  },
  {
   "cell_type": "markdown",
   "id": "3a5a081e",
   "metadata": {},
   "source": [
    "### Geoqueries"
   ]
  },
  {
   "cell_type": "code",
   "execution_count": 25,
   "id": "fc1ac2f4",
   "metadata": {},
   "outputs": [],
   "source": [
    "cliente=pymongo.MongoClient('mongodb://localhost:27017')  # cliente , la conexion por defecto"
   ]
  },
  {
   "cell_type": "code",
   "execution_count": 26,
   "id": "fda7a05e",
   "metadata": {},
   "outputs": [],
   "source": [
    "db=cliente.companies   # llamada a la base de datos"
   ]
  },
  {
   "cell_type": "code",
   "execution_count": 27,
   "id": "4b6ea2d9",
   "metadata": {},
   "outputs": [],
   "source": [
    "al_menos_1_ofi=db.companies.find({'offices': {'$not': {'$size':0}}},\n",
    "                                 {'name':1, '_id':0, 'offices':1})\n",
    "\n",
    "\n",
    "# devuelve aquellos elemento con oficinas distintas de cero\n",
    "# solo el nombre y oficinas"
   ]
  },
  {
   "cell_type": "code",
   "execution_count": 28,
   "id": "f6b1b78d",
   "metadata": {},
   "outputs": [
    {
     "data": {
      "text/html": [
       "<div>\n",
       "<style scoped>\n",
       "    .dataframe tbody tr th:only-of-type {\n",
       "        vertical-align: middle;\n",
       "    }\n",
       "\n",
       "    .dataframe tbody tr th {\n",
       "        vertical-align: top;\n",
       "    }\n",
       "\n",
       "    .dataframe thead th {\n",
       "        text-align: right;\n",
       "    }\n",
       "</style>\n",
       "<table border=\"1\" class=\"dataframe\">\n",
       "  <thead>\n",
       "    <tr style=\"text-align: right;\">\n",
       "      <th></th>\n",
       "      <th>name</th>\n",
       "      <th>offices</th>\n",
       "    </tr>\n",
       "  </thead>\n",
       "  <tbody>\n",
       "    <tr>\n",
       "      <th>0</th>\n",
       "      <td>Wetpaint</td>\n",
       "      <td>[{'description': '', 'address1': '710 - 2nd Av...</td>\n",
       "    </tr>\n",
       "    <tr>\n",
       "      <th>1</th>\n",
       "      <td>AdventNet</td>\n",
       "      <td>[{'description': 'Headquarters', 'address1': '...</td>\n",
       "    </tr>\n",
       "    <tr>\n",
       "      <th>2</th>\n",
       "      <td>Zoho</td>\n",
       "      <td>[{'description': 'Headquarters', 'address1': '...</td>\n",
       "    </tr>\n",
       "    <tr>\n",
       "      <th>3</th>\n",
       "      <td>Digg</td>\n",
       "      <td>[{'description': None, 'address1': '135 Missis...</td>\n",
       "    </tr>\n",
       "    <tr>\n",
       "      <th>4</th>\n",
       "      <td>Facebook</td>\n",
       "      <td>[{'description': 'Headquarters', 'address1': '...</td>\n",
       "    </tr>\n",
       "  </tbody>\n",
       "</table>\n",
       "</div>"
      ],
      "text/plain": [
       "        name                                            offices\n",
       "0   Wetpaint  [{'description': '', 'address1': '710 - 2nd Av...\n",
       "1  AdventNet  [{'description': 'Headquarters', 'address1': '...\n",
       "2       Zoho  [{'description': 'Headquarters', 'address1': '...\n",
       "3       Digg  [{'description': None, 'address1': '135 Missis...\n",
       "4   Facebook  [{'description': 'Headquarters', 'address1': '..."
      ]
     },
     "execution_count": 28,
     "metadata": {},
     "output_type": "execute_result"
    }
   ],
   "source": [
    "import pandas as pd\n",
    "\n",
    "df=pd.DataFrame(al_menos_1_ofi)\n",
    "df.head()"
   ]
  },
  {
   "cell_type": "code",
   "execution_count": 29,
   "id": "ee97f297",
   "metadata": {},
   "outputs": [],
   "source": [
    "df=df.dropna()"
   ]
  },
  {
   "cell_type": "code",
   "execution_count": 30,
   "id": "a1483034",
   "metadata": {},
   "outputs": [
    {
     "name": "stdout",
     "output_type": "stream",
     "text": [
      "              0                 1\n",
      "0   description                  \n",
      "1      address1  710 - 2nd Avenue\n",
      "2      address2        Suite 1100\n",
      "3      zip_code             98104\n",
      "4          city           Seattle\n",
      "5    state_code                WA\n",
      "6  country_code               USA\n",
      "7      latitude         47.603122\n",
      "8     longitude       -122.333253\n",
      "              0                     1\n",
      "0   description                      \n",
      "1      address1  270 Lafayette Street\n",
      "2      address2             Suite 505\n",
      "3      zip_code                 10012\n",
      "4          city              New York\n",
      "5    state_code                    NY\n",
      "6  country_code                   USA\n",
      "7      latitude             40.723731\n",
      "8     longitude            -73.996431\n"
     ]
    }
   ],
   "source": [
    "for i in range(len(df.offices[0])):\n",
    "    print (pd.DataFrame(df.offices[0][i].items()))"
   ]
  },
  {
   "cell_type": "code",
   "execution_count": 31,
   "id": "cfe2dbad",
   "metadata": {},
   "outputs": [
    {
     "data": {
      "text/plain": [
       "0          description              address1    address...\n",
       "1            description          address1   address2 z...\n",
       "2            description         address1   address2 zi...\n",
       "3          description            address1 address2 zip...\n",
       "4            description          address1 address2 zip...\n",
       "                               ...                        \n",
       "13739      description       address1 address2 zip_code...\n",
       "13740         description               address1     ad...\n",
       "13741      description       address1 address2 zip_code...\n",
       "13742      description address1 address2 zip_code      ...\n",
       "13743      description                       address1  ...\n",
       "Name: offices, Length: 13744, dtype: object"
      ]
     },
     "execution_count": 31,
     "metadata": {},
     "output_type": "execute_result"
    }
   ],
   "source": [
    "jsnn=df.offices.apply(lambda x: pd.json_normalize(x))\n",
    "\n",
    "jsnn"
   ]
  },
  {
   "cell_type": "code",
   "execution_count": 32,
   "id": "ca153d3d",
   "metadata": {},
   "outputs": [
    {
     "data": {
      "text/html": [
       "<div>\n",
       "<style scoped>\n",
       "    .dataframe tbody tr th:only-of-type {\n",
       "        vertical-align: middle;\n",
       "    }\n",
       "\n",
       "    .dataframe tbody tr th {\n",
       "        vertical-align: top;\n",
       "    }\n",
       "\n",
       "    .dataframe thead th {\n",
       "        text-align: right;\n",
       "    }\n",
       "</style>\n",
       "<table border=\"1\" class=\"dataframe\">\n",
       "  <thead>\n",
       "    <tr style=\"text-align: right;\">\n",
       "      <th></th>\n",
       "      <th>description</th>\n",
       "      <th>address1</th>\n",
       "      <th>address2</th>\n",
       "      <th>zip_code</th>\n",
       "      <th>city</th>\n",
       "      <th>state_code</th>\n",
       "      <th>country_code</th>\n",
       "      <th>latitude</th>\n",
       "      <th>longitude</th>\n",
       "    </tr>\n",
       "  </thead>\n",
       "  <tbody>\n",
       "    <tr>\n",
       "      <th>0</th>\n",
       "      <td></td>\n",
       "      <td>710 - 2nd Avenue</td>\n",
       "      <td>Suite 1100</td>\n",
       "      <td>98104</td>\n",
       "      <td>Seattle</td>\n",
       "      <td>WA</td>\n",
       "      <td>USA</td>\n",
       "      <td>47.603122</td>\n",
       "      <td>-122.333253</td>\n",
       "    </tr>\n",
       "    <tr>\n",
       "      <th>1</th>\n",
       "      <td></td>\n",
       "      <td>270 Lafayette Street</td>\n",
       "      <td>Suite 505</td>\n",
       "      <td>10012</td>\n",
       "      <td>New York</td>\n",
       "      <td>NY</td>\n",
       "      <td>USA</td>\n",
       "      <td>40.723731</td>\n",
       "      <td>-73.996431</td>\n",
       "    </tr>\n",
       "  </tbody>\n",
       "</table>\n",
       "</div>"
      ],
      "text/plain": [
       "  description              address1    address2 zip_code      city state_code  \\\n",
       "0                  710 - 2nd Avenue  Suite 1100    98104   Seattle         WA   \n",
       "1              270 Lafayette Street   Suite 505    10012  New York         NY   \n",
       "\n",
       "  country_code   latitude   longitude  \n",
       "0          USA  47.603122 -122.333253  \n",
       "1          USA  40.723731  -73.996431  "
      ]
     },
     "metadata": {},
     "output_type": "display_data"
    }
   ],
   "source": [
    "display(jsnn[0])"
   ]
  },
  {
   "cell_type": "code",
   "execution_count": 33,
   "id": "9981bc6a",
   "metadata": {},
   "outputs": [
    {
     "data": {
      "text/html": [
       "<div>\n",
       "<style scoped>\n",
       "    .dataframe tbody tr th:only-of-type {\n",
       "        vertical-align: middle;\n",
       "    }\n",
       "\n",
       "    .dataframe tbody tr th {\n",
       "        vertical-align: top;\n",
       "    }\n",
       "\n",
       "    .dataframe thead th {\n",
       "        text-align: right;\n",
       "    }\n",
       "</style>\n",
       "<table border=\"1\" class=\"dataframe\">\n",
       "  <thead>\n",
       "    <tr style=\"text-align: right;\">\n",
       "      <th></th>\n",
       "      <th>description</th>\n",
       "      <th>address1</th>\n",
       "      <th>address2</th>\n",
       "      <th>zip_code</th>\n",
       "      <th>city</th>\n",
       "      <th>state_code</th>\n",
       "      <th>country_code</th>\n",
       "      <th>latitude</th>\n",
       "      <th>longitude</th>\n",
       "    </tr>\n",
       "  </thead>\n",
       "  <tbody>\n",
       "    <tr>\n",
       "      <th>0</th>\n",
       "      <td></td>\n",
       "      <td>710 - 2nd Avenue</td>\n",
       "      <td>Suite 1100</td>\n",
       "      <td>98104</td>\n",
       "      <td>Seattle</td>\n",
       "      <td>WA</td>\n",
       "      <td>USA</td>\n",
       "      <td>47.603122</td>\n",
       "      <td>-122.333253</td>\n",
       "    </tr>\n",
       "    <tr>\n",
       "      <th>1</th>\n",
       "      <td></td>\n",
       "      <td>270 Lafayette Street</td>\n",
       "      <td>Suite 505</td>\n",
       "      <td>10012</td>\n",
       "      <td>New York</td>\n",
       "      <td>NY</td>\n",
       "      <td>USA</td>\n",
       "      <td>40.723731</td>\n",
       "      <td>-73.996431</td>\n",
       "    </tr>\n",
       "    <tr>\n",
       "      <th>2</th>\n",
       "      <td>Headquarters</td>\n",
       "      <td>4900 Hopyard Rd.</td>\n",
       "      <td>Suite 310</td>\n",
       "      <td>94588</td>\n",
       "      <td>Pleasanton</td>\n",
       "      <td>CA</td>\n",
       "      <td>USA</td>\n",
       "      <td>37.692934</td>\n",
       "      <td>-121.904945</td>\n",
       "    </tr>\n",
       "    <tr>\n",
       "      <th>3</th>\n",
       "      <td>Headquarters</td>\n",
       "      <td>4900 Hopyard Rd</td>\n",
       "      <td>Suite 310</td>\n",
       "      <td>94588</td>\n",
       "      <td>Pleasanton</td>\n",
       "      <td>CA</td>\n",
       "      <td>USA</td>\n",
       "      <td>37.692934</td>\n",
       "      <td>-121.904945</td>\n",
       "    </tr>\n",
       "    <tr>\n",
       "      <th>4</th>\n",
       "      <td>None</td>\n",
       "      <td>135 Mississippi St</td>\n",
       "      <td></td>\n",
       "      <td>94107</td>\n",
       "      <td>San Francisco</td>\n",
       "      <td>CA</td>\n",
       "      <td>USA</td>\n",
       "      <td>37.764726</td>\n",
       "      <td>-122.394523</td>\n",
       "    </tr>\n",
       "    <tr>\n",
       "      <th>...</th>\n",
       "      <td>...</td>\n",
       "      <td>...</td>\n",
       "      <td>...</td>\n",
       "      <td>...</td>\n",
       "      <td>...</td>\n",
       "      <td>...</td>\n",
       "      <td>...</td>\n",
       "      <td>...</td>\n",
       "      <td>...</td>\n",
       "    </tr>\n",
       "    <tr>\n",
       "      <th>1267</th>\n",
       "      <td>Headquarters</td>\n",
       "      <td>112 Broadway St.</td>\n",
       "      <td>Suite B</td>\n",
       "      <td>27701</td>\n",
       "      <td>Durham</td>\n",
       "      <td>NC</td>\n",
       "      <td>USA</td>\n",
       "      <td>35.996157</td>\n",
       "      <td>-78.902115</td>\n",
       "    </tr>\n",
       "    <tr>\n",
       "      <th>1268</th>\n",
       "      <td>Mailing Address</td>\n",
       "      <td>P.O. Box 1411</td>\n",
       "      <td></td>\n",
       "      <td>27702</td>\n",
       "      <td>Durham</td>\n",
       "      <td>NC</td>\n",
       "      <td>USA</td>\n",
       "      <td>35.993900</td>\n",
       "      <td>-78.898600</td>\n",
       "    </tr>\n",
       "    <tr>\n",
       "      <th>1269</th>\n",
       "      <td>Shoeboxed Australia</td>\n",
       "      <td>101/65 Hume St</td>\n",
       "      <td></td>\n",
       "      <td>2065</td>\n",
       "      <td>Crows Nest</td>\n",
       "      <td>None</td>\n",
       "      <td>AUS</td>\n",
       "      <td>NaN</td>\n",
       "      <td>NaN</td>\n",
       "    </tr>\n",
       "    <tr>\n",
       "      <th>1270</th>\n",
       "      <td>None</td>\n",
       "      <td>2180a Dwight Way</td>\n",
       "      <td>None</td>\n",
       "      <td>94704</td>\n",
       "      <td>Berkeley</td>\n",
       "      <td>CA</td>\n",
       "      <td>USA</td>\n",
       "      <td>37.864221</td>\n",
       "      <td>-122.265466</td>\n",
       "    </tr>\n",
       "    <tr>\n",
       "      <th>1271</th>\n",
       "      <td>None</td>\n",
       "      <td></td>\n",
       "      <td>None</td>\n",
       "      <td>10001</td>\n",
       "      <td></td>\n",
       "      <td>NY</td>\n",
       "      <td>USA</td>\n",
       "      <td>40.750800</td>\n",
       "      <td>-73.996122</td>\n",
       "    </tr>\n",
       "  </tbody>\n",
       "</table>\n",
       "<p>1272 rows × 9 columns</p>\n",
       "</div>"
      ],
      "text/plain": [
       "              description              address1    address2 zip_code  \\\n",
       "0                              710 - 2nd Avenue  Suite 1100    98104   \n",
       "1                          270 Lafayette Street   Suite 505    10012   \n",
       "2            Headquarters      4900 Hopyard Rd.   Suite 310    94588   \n",
       "3            Headquarters       4900 Hopyard Rd   Suite 310    94588   \n",
       "4                    None    135 Mississippi St                94107   \n",
       "...                   ...                   ...         ...      ...   \n",
       "1267         Headquarters      112 Broadway St.     Suite B    27701   \n",
       "1268      Mailing Address         P.O. Box 1411                27702   \n",
       "1269  Shoeboxed Australia        101/65 Hume St                 2065   \n",
       "1270                 None      2180a Dwight Way        None    94704   \n",
       "1271                 None                              None    10001   \n",
       "\n",
       "               city state_code country_code   latitude   longitude  \n",
       "0           Seattle         WA          USA  47.603122 -122.333253  \n",
       "1          New York         NY          USA  40.723731  -73.996431  \n",
       "2        Pleasanton         CA          USA  37.692934 -121.904945  \n",
       "3        Pleasanton         CA          USA  37.692934 -121.904945  \n",
       "4     San Francisco         CA          USA  37.764726 -122.394523  \n",
       "...             ...        ...          ...        ...         ...  \n",
       "1267         Durham         NC          USA  35.996157  -78.902115  \n",
       "1268         Durham         NC          USA  35.993900  -78.898600  \n",
       "1269     Crows Nest       None          AUS        NaN         NaN  \n",
       "1270       Berkeley         CA          USA  37.864221 -122.265466  \n",
       "1271                        NY          USA  40.750800  -73.996122  \n",
       "\n",
       "[1272 rows x 9 columns]"
      ]
     },
     "execution_count": 33,
     "metadata": {},
     "output_type": "execute_result"
    }
   ],
   "source": [
    "df_n=pd.DataFrame()\n",
    "for i in range(1000):\n",
    "    df_n=df_n.append(pd.json_normalize(df.offices[i]), ignore_index=True)\n",
    "\n",
    "df_n"
   ]
  },
  {
   "cell_type": "code",
   "execution_count": 34,
   "id": "79428353",
   "metadata": {},
   "outputs": [],
   "source": [
    "# extrae la primera oficina\n",
    "\n",
    "def get_first(data):\n",
    "    data=data['offices']\n",
    "    \n",
    "    principal=None\n",
    "    \n",
    "    \n",
    "    if data[0]['latitude'] and data[0]['longitude']:\n",
    "        # esto ya es una geoquery (geopoint)\n",
    "        principal={\n",
    "            'type':'Point',\n",
    "            'coordinates':[data[0]['longitude'],\n",
    "                           data[0]['latitude']]\n",
    "        }\n",
    "        \n",
    "    return {'totalOffices': len(data), \n",
    "            'lat': data[0]['latitude'],\n",
    "            'lng': data[0]['longitude'],\n",
    "            'principal': principal}"
   ]
  },
  {
   "cell_type": "code",
   "execution_count": 35,
   "id": "479d9e52",
   "metadata": {},
   "outputs": [],
   "source": [
    "first_office=df[['offices']].apply(get_first, result_type='expand', axis=1)"
   ]
  },
  {
   "cell_type": "code",
   "execution_count": 36,
   "id": "06e2a013",
   "metadata": {},
   "outputs": [
    {
     "data": {
      "text/html": [
       "<div>\n",
       "<style scoped>\n",
       "    .dataframe tbody tr th:only-of-type {\n",
       "        vertical-align: middle;\n",
       "    }\n",
       "\n",
       "    .dataframe tbody tr th {\n",
       "        vertical-align: top;\n",
       "    }\n",
       "\n",
       "    .dataframe thead th {\n",
       "        text-align: right;\n",
       "    }\n",
       "</style>\n",
       "<table border=\"1\" class=\"dataframe\">\n",
       "  <thead>\n",
       "    <tr style=\"text-align: right;\">\n",
       "      <th></th>\n",
       "      <th>totalOffices</th>\n",
       "      <th>lat</th>\n",
       "      <th>lng</th>\n",
       "      <th>principal</th>\n",
       "    </tr>\n",
       "  </thead>\n",
       "  <tbody>\n",
       "    <tr>\n",
       "      <th>0</th>\n",
       "      <td>2.0</td>\n",
       "      <td>47.603122</td>\n",
       "      <td>-122.333253</td>\n",
       "      <td>{'type': 'Point', 'coordinates': [-122.333253,...</td>\n",
       "    </tr>\n",
       "    <tr>\n",
       "      <th>1</th>\n",
       "      <td>1.0</td>\n",
       "      <td>37.692934</td>\n",
       "      <td>-121.904945</td>\n",
       "      <td>{'type': 'Point', 'coordinates': [-121.904945,...</td>\n",
       "    </tr>\n",
       "    <tr>\n",
       "      <th>2</th>\n",
       "      <td>1.0</td>\n",
       "      <td>37.692934</td>\n",
       "      <td>-121.904945</td>\n",
       "      <td>{'type': 'Point', 'coordinates': [-121.904945,...</td>\n",
       "    </tr>\n",
       "    <tr>\n",
       "      <th>3</th>\n",
       "      <td>1.0</td>\n",
       "      <td>37.764726</td>\n",
       "      <td>-122.394523</td>\n",
       "      <td>{'type': 'Point', 'coordinates': [-122.394523,...</td>\n",
       "    </tr>\n",
       "    <tr>\n",
       "      <th>4</th>\n",
       "      <td>3.0</td>\n",
       "      <td>37.416050</td>\n",
       "      <td>-122.151801</td>\n",
       "      <td>{'type': 'Point', 'coordinates': [-122.151801,...</td>\n",
       "    </tr>\n",
       "  </tbody>\n",
       "</table>\n",
       "</div>"
      ],
      "text/plain": [
       "   totalOffices        lat         lng  \\\n",
       "0           2.0  47.603122 -122.333253   \n",
       "1           1.0  37.692934 -121.904945   \n",
       "2           1.0  37.692934 -121.904945   \n",
       "3           1.0  37.764726 -122.394523   \n",
       "4           3.0  37.416050 -122.151801   \n",
       "\n",
       "                                           principal  \n",
       "0  {'type': 'Point', 'coordinates': [-122.333253,...  \n",
       "1  {'type': 'Point', 'coordinates': [-121.904945,...  \n",
       "2  {'type': 'Point', 'coordinates': [-121.904945,...  \n",
       "3  {'type': 'Point', 'coordinates': [-122.394523,...  \n",
       "4  {'type': 'Point', 'coordinates': [-122.151801,...  "
      ]
     },
     "execution_count": 36,
     "metadata": {},
     "output_type": "execute_result"
    }
   ],
   "source": [
    "first_office.head()"
   ]
  },
  {
   "cell_type": "code",
   "execution_count": 37,
   "id": "7908dfad",
   "metadata": {},
   "outputs": [
    {
     "data": {
      "text/html": [
       "<div>\n",
       "<style scoped>\n",
       "    .dataframe tbody tr th:only-of-type {\n",
       "        vertical-align: middle;\n",
       "    }\n",
       "\n",
       "    .dataframe tbody tr th {\n",
       "        vertical-align: top;\n",
       "    }\n",
       "\n",
       "    .dataframe thead th {\n",
       "        text-align: right;\n",
       "    }\n",
       "</style>\n",
       "<table border=\"1\" class=\"dataframe\">\n",
       "  <thead>\n",
       "    <tr style=\"text-align: right;\">\n",
       "      <th></th>\n",
       "      <th>name</th>\n",
       "      <th>totalOffices</th>\n",
       "      <th>lat</th>\n",
       "      <th>lng</th>\n",
       "      <th>principal</th>\n",
       "    </tr>\n",
       "  </thead>\n",
       "  <tbody>\n",
       "    <tr>\n",
       "      <th>0</th>\n",
       "      <td>Wetpaint</td>\n",
       "      <td>2.0</td>\n",
       "      <td>47.603122</td>\n",
       "      <td>-122.333253</td>\n",
       "      <td>{'type': 'Point', 'coordinates': [-122.333253,...</td>\n",
       "    </tr>\n",
       "    <tr>\n",
       "      <th>1</th>\n",
       "      <td>AdventNet</td>\n",
       "      <td>1.0</td>\n",
       "      <td>37.692934</td>\n",
       "      <td>-121.904945</td>\n",
       "      <td>{'type': 'Point', 'coordinates': [-121.904945,...</td>\n",
       "    </tr>\n",
       "    <tr>\n",
       "      <th>2</th>\n",
       "      <td>Zoho</td>\n",
       "      <td>1.0</td>\n",
       "      <td>37.692934</td>\n",
       "      <td>-121.904945</td>\n",
       "      <td>{'type': 'Point', 'coordinates': [-121.904945,...</td>\n",
       "    </tr>\n",
       "    <tr>\n",
       "      <th>3</th>\n",
       "      <td>Digg</td>\n",
       "      <td>1.0</td>\n",
       "      <td>37.764726</td>\n",
       "      <td>-122.394523</td>\n",
       "      <td>{'type': 'Point', 'coordinates': [-122.394523,...</td>\n",
       "    </tr>\n",
       "    <tr>\n",
       "      <th>4</th>\n",
       "      <td>Facebook</td>\n",
       "      <td>3.0</td>\n",
       "      <td>37.416050</td>\n",
       "      <td>-122.151801</td>\n",
       "      <td>{'type': 'Point', 'coordinates': [-122.151801,...</td>\n",
       "    </tr>\n",
       "  </tbody>\n",
       "</table>\n",
       "</div>"
      ],
      "text/plain": [
       "        name  totalOffices        lat         lng  \\\n",
       "0   Wetpaint           2.0  47.603122 -122.333253   \n",
       "1  AdventNet           1.0  37.692934 -121.904945   \n",
       "2       Zoho           1.0  37.692934 -121.904945   \n",
       "3       Digg           1.0  37.764726 -122.394523   \n",
       "4   Facebook           3.0  37.416050 -122.151801   \n",
       "\n",
       "                                           principal  \n",
       "0  {'type': 'Point', 'coordinates': [-122.333253,...  \n",
       "1  {'type': 'Point', 'coordinates': [-121.904945,...  \n",
       "2  {'type': 'Point', 'coordinates': [-121.904945,...  \n",
       "3  {'type': 'Point', 'coordinates': [-122.394523,...  \n",
       "4  {'type': 'Point', 'coordinates': [-122.151801,...  "
      ]
     },
     "execution_count": 37,
     "metadata": {},
     "output_type": "execute_result"
    }
   ],
   "source": [
    "first_office=first_office.dropna()\n",
    "\n",
    "\n",
    "df=pd.concat([df, first_office], axis=1).drop(columns=['offices']) # solo para el nombre\n",
    "\n",
    "df.head()"
   ]
  },
  {
   "cell_type": "code",
   "execution_count": 38,
   "id": "e4b7c626",
   "metadata": {},
   "outputs": [],
   "source": [
    "df=df.dropna()"
   ]
  },
  {
   "cell_type": "code",
   "execution_count": 39,
   "id": "a935b2c1",
   "metadata": {},
   "outputs": [],
   "source": [
    "df.to_json('../data/oficinas.json')    # guarda a json"
   ]
  },
  {
   "cell_type": "code",
   "execution_count": 42,
   "id": "5e564955",
   "metadata": {},
   "outputs": [
    {
     "data": {
      "text/plain": [
       "<pymongo.results.InsertManyResult at 0x13f6c85a0>"
      ]
     },
     "execution_count": 42,
     "metadata": {},
     "output_type": "execute_result"
    }
   ],
   "source": [
    "db.first_office.insert_many(df.to_dict('records'))  # inserta en mongo"
   ]
  },
  {
   "cell_type": "code",
   "execution_count": 43,
   "id": "9dcbc426",
   "metadata": {},
   "outputs": [
    {
     "data": {
      "text/plain": [
       "'principal_2dsphere'"
      ]
     },
     "execution_count": 43,
     "metadata": {},
     "output_type": "execute_result"
    }
   ],
   "source": [
    "# crear index 2d\n",
    "\n",
    "db.first_office.create_index([('principal', '2dsphere')])"
   ]
  },
  {
   "cell_type": "code",
   "execution_count": 44,
   "id": "1f8e6245",
   "metadata": {},
   "outputs": [],
   "source": [
    "# encuentra los elementos dentro de cierto radio, hace geoquery\n",
    "\n",
    "def find_near(geopoint, radio=1000):\n",
    "    \n",
    "    return db.first_office.find({'principal':{\n",
    "        '$near': {'$geometry': geopoint, '$maxDistance':radio}\n",
    "    }})"
   ]
  },
  {
   "cell_type": "code",
   "execution_count": 45,
   "id": "f1889823",
   "metadata": {},
   "outputs": [
    {
     "name": "stderr",
     "output_type": "stream",
     "text": [
      "/Users/iudh/opt/anaconda3/envs/clase/lib/python3.7/site-packages/ipykernel_launcher.py:7: DeprecationWarning: count is deprecated. Use Collection.count_documents instead.\n",
      "  import sys\n"
     ]
    },
    {
     "data": {
      "text/plain": [
       "556"
      ]
     },
     "execution_count": 45,
     "metadata": {},
     "output_type": "execute_result"
    }
   ],
   "source": [
    "# ejemplo\n",
    "\n",
    "park_avenue={'type': 'Point', 'coordinates':[-73.987308, 40.738935]}  # geopoint\n",
    "\n",
    "radio=10000  # radio de busqueda\n",
    "\n",
    "n_ofi=find_near(park_avenue, radio).count()\n",
    "\n",
    "n_ofi"
   ]
  },
  {
   "cell_type": "code",
   "execution_count": 46,
   "id": "7c15673c",
   "metadata": {},
   "outputs": [
    {
     "data": {
      "text/html": [
       "<div>\n",
       "<style scoped>\n",
       "    .dataframe tbody tr th:only-of-type {\n",
       "        vertical-align: middle;\n",
       "    }\n",
       "\n",
       "    .dataframe tbody tr th {\n",
       "        vertical-align: top;\n",
       "    }\n",
       "\n",
       "    .dataframe thead th {\n",
       "        text-align: right;\n",
       "    }\n",
       "</style>\n",
       "<table border=\"1\" class=\"dataframe\">\n",
       "  <thead>\n",
       "    <tr style=\"text-align: right;\">\n",
       "      <th></th>\n",
       "      <th>_id</th>\n",
       "      <th>name</th>\n",
       "      <th>totalOffices</th>\n",
       "      <th>lat</th>\n",
       "      <th>lng</th>\n",
       "      <th>principal</th>\n",
       "    </tr>\n",
       "  </thead>\n",
       "  <tbody>\n",
       "    <tr>\n",
       "      <th>0</th>\n",
       "      <td>60b0ac97a7b5a8307a3c5ab1</td>\n",
       "      <td>SpaBooker</td>\n",
       "      <td>1.0</td>\n",
       "      <td>40.738567</td>\n",
       "      <td>-73.987199</td>\n",
       "      <td>{'type': 'Point', 'coordinates': [-73.987199, ...</td>\n",
       "    </tr>\n",
       "    <tr>\n",
       "      <th>1</th>\n",
       "      <td>60b0ac97a7b5a8307a3c4889</td>\n",
       "      <td>HealthiNation</td>\n",
       "      <td>1.0</td>\n",
       "      <td>40.739341</td>\n",
       "      <td>-73.988357</td>\n",
       "      <td>{'type': 'Point', 'coordinates': [-73.988357, ...</td>\n",
       "    </tr>\n",
       "    <tr>\n",
       "      <th>2</th>\n",
       "      <td>60b0ac97a7b5a8307a3c4471</td>\n",
       "      <td>Special Ops Media</td>\n",
       "      <td>1.0</td>\n",
       "      <td>40.737721</td>\n",
       "      <td>-73.987725</td>\n",
       "      <td>{'type': 'Point', 'coordinates': [-73.987725, ...</td>\n",
       "    </tr>\n",
       "    <tr>\n",
       "      <th>3</th>\n",
       "      <td>60b0ac97a7b5a8307a3c6103</td>\n",
       "      <td>Mashable</td>\n",
       "      <td>1.0</td>\n",
       "      <td>40.740154</td>\n",
       "      <td>-73.986742</td>\n",
       "      <td>{'type': 'Point', 'coordinates': [-73.9867417,...</td>\n",
       "    </tr>\n",
       "    <tr>\n",
       "      <th>4</th>\n",
       "      <td>60b0ac97a7b5a8307a3c5208</td>\n",
       "      <td>Return Path</td>\n",
       "      <td>1.0</td>\n",
       "      <td>40.740207</td>\n",
       "      <td>-73.987002</td>\n",
       "      <td>{'type': 'Point', 'coordinates': [-73.987002, ...</td>\n",
       "    </tr>\n",
       "  </tbody>\n",
       "</table>\n",
       "</div>"
      ],
      "text/plain": [
       "                        _id               name  totalOffices        lat  \\\n",
       "0  60b0ac97a7b5a8307a3c5ab1          SpaBooker           1.0  40.738567   \n",
       "1  60b0ac97a7b5a8307a3c4889      HealthiNation           1.0  40.739341   \n",
       "2  60b0ac97a7b5a8307a3c4471  Special Ops Media           1.0  40.737721   \n",
       "3  60b0ac97a7b5a8307a3c6103           Mashable           1.0  40.740154   \n",
       "4  60b0ac97a7b5a8307a3c5208        Return Path           1.0  40.740207   \n",
       "\n",
       "         lng                                          principal  \n",
       "0 -73.987199  {'type': 'Point', 'coordinates': [-73.987199, ...  \n",
       "1 -73.988357  {'type': 'Point', 'coordinates': [-73.988357, ...  \n",
       "2 -73.987725  {'type': 'Point', 'coordinates': [-73.987725, ...  \n",
       "3 -73.986742  {'type': 'Point', 'coordinates': [-73.9867417,...  \n",
       "4 -73.987002  {'type': 'Point', 'coordinates': [-73.987002, ...  "
      ]
     },
     "execution_count": 46,
     "metadata": {},
     "output_type": "execute_result"
    }
   ],
   "source": [
    "pd.DataFrame(find_near(park_avenue, radio)).head()"
   ]
  },
  {
   "cell_type": "code",
   "execution_count": 47,
   "id": "2d246b8d",
   "metadata": {},
   "outputs": [],
   "source": [
    "def find_near(lst_lat_lng, radio=1000):\n",
    "    \n",
    "    return db.first_office.find({'principal':{\n",
    "        '$near': {'$geometry': {'type': 'Point', 'coordinates':lst_lat_lng}, \n",
    "                  '$maxDistance':radio}\n",
    "    }})"
   ]
  },
  {
   "cell_type": "code",
   "execution_count": 50,
   "id": "ebb3a121",
   "metadata": {},
   "outputs": [
    {
     "data": {
      "text/html": [
       "<div>\n",
       "<style scoped>\n",
       "    .dataframe tbody tr th:only-of-type {\n",
       "        vertical-align: middle;\n",
       "    }\n",
       "\n",
       "    .dataframe tbody tr th {\n",
       "        vertical-align: top;\n",
       "    }\n",
       "\n",
       "    .dataframe thead th {\n",
       "        text-align: right;\n",
       "    }\n",
       "</style>\n",
       "<table border=\"1\" class=\"dataframe\">\n",
       "  <thead>\n",
       "    <tr style=\"text-align: right;\">\n",
       "      <th></th>\n",
       "      <th>_id</th>\n",
       "      <th>name</th>\n",
       "      <th>totalOffices</th>\n",
       "      <th>lat</th>\n",
       "      <th>lng</th>\n",
       "      <th>principal</th>\n",
       "    </tr>\n",
       "  </thead>\n",
       "  <tbody>\n",
       "    <tr>\n",
       "      <th>0</th>\n",
       "      <td>60b0ac97a7b5a8307a3c5ab1</td>\n",
       "      <td>SpaBooker</td>\n",
       "      <td>1.0</td>\n",
       "      <td>40.738567</td>\n",
       "      <td>-73.987199</td>\n",
       "      <td>{'type': 'Point', 'coordinates': [-73.987199, ...</td>\n",
       "    </tr>\n",
       "    <tr>\n",
       "      <th>1</th>\n",
       "      <td>60b0ac97a7b5a8307a3c4889</td>\n",
       "      <td>HealthiNation</td>\n",
       "      <td>1.0</td>\n",
       "      <td>40.739341</td>\n",
       "      <td>-73.988357</td>\n",
       "      <td>{'type': 'Point', 'coordinates': [-73.988357, ...</td>\n",
       "    </tr>\n",
       "    <tr>\n",
       "      <th>2</th>\n",
       "      <td>60b0ac97a7b5a8307a3c4471</td>\n",
       "      <td>Special Ops Media</td>\n",
       "      <td>1.0</td>\n",
       "      <td>40.737721</td>\n",
       "      <td>-73.987725</td>\n",
       "      <td>{'type': 'Point', 'coordinates': [-73.987725, ...</td>\n",
       "    </tr>\n",
       "    <tr>\n",
       "      <th>3</th>\n",
       "      <td>60b0ac97a7b5a8307a3c6103</td>\n",
       "      <td>Mashable</td>\n",
       "      <td>1.0</td>\n",
       "      <td>40.740154</td>\n",
       "      <td>-73.986742</td>\n",
       "      <td>{'type': 'Point', 'coordinates': [-73.9867417,...</td>\n",
       "    </tr>\n",
       "    <tr>\n",
       "      <th>4</th>\n",
       "      <td>60b0ac97a7b5a8307a3c5208</td>\n",
       "      <td>Return Path</td>\n",
       "      <td>1.0</td>\n",
       "      <td>40.740207</td>\n",
       "      <td>-73.987002</td>\n",
       "      <td>{'type': 'Point', 'coordinates': [-73.987002, ...</td>\n",
       "    </tr>\n",
       "  </tbody>\n",
       "</table>\n",
       "</div>"
      ],
      "text/plain": [
       "                        _id               name  totalOffices        lat  \\\n",
       "0  60b0ac97a7b5a8307a3c5ab1          SpaBooker           1.0  40.738567   \n",
       "1  60b0ac97a7b5a8307a3c4889      HealthiNation           1.0  40.739341   \n",
       "2  60b0ac97a7b5a8307a3c4471  Special Ops Media           1.0  40.737721   \n",
       "3  60b0ac97a7b5a8307a3c6103           Mashable           1.0  40.740154   \n",
       "4  60b0ac97a7b5a8307a3c5208        Return Path           1.0  40.740207   \n",
       "\n",
       "         lng                                          principal  \n",
       "0 -73.987199  {'type': 'Point', 'coordinates': [-73.987199, ...  \n",
       "1 -73.988357  {'type': 'Point', 'coordinates': [-73.988357, ...  \n",
       "2 -73.987725  {'type': 'Point', 'coordinates': [-73.987725, ...  \n",
       "3 -73.986742  {'type': 'Point', 'coordinates': [-73.9867417,...  \n",
       "4 -73.987002  {'type': 'Point', 'coordinates': [-73.987002, ...  "
      ]
     },
     "execution_count": 50,
     "metadata": {},
     "output_type": "execute_result"
    }
   ],
   "source": [
    "pd.DataFrame(find_near([-73.987308, 40.738935])).head()"
   ]
  },
  {
   "cell_type": "code",
   "execution_count": null,
   "id": "958eb501",
   "metadata": {},
   "outputs": [],
   "source": [
    "db.first_office.drop()"
   ]
  },
  {
   "cell_type": "code",
   "execution_count": null,
   "id": "0f5f4495",
   "metadata": {},
   "outputs": [],
   "source": []
  }
 ],
 "metadata": {
  "kernelspec": {
   "display_name": "clase",
   "language": "python",
   "name": "clase"
  },
  "language_info": {
   "codemirror_mode": {
    "name": "ipython",
    "version": 3
   },
   "file_extension": ".py",
   "mimetype": "text/x-python",
   "name": "python",
   "nbconvert_exporter": "python",
   "pygments_lexer": "ipython3",
   "version": "3.7.10"
  },
  "varInspector": {
   "cols": {
    "lenName": 16,
    "lenType": 16,
    "lenVar": 40
   },
   "kernels_config": {
    "python": {
     "delete_cmd_postfix": "",
     "delete_cmd_prefix": "del ",
     "library": "var_list.py",
     "varRefreshCmd": "print(var_dic_list())"
    },
    "r": {
     "delete_cmd_postfix": ") ",
     "delete_cmd_prefix": "rm(",
     "library": "var_list.r",
     "varRefreshCmd": "cat(var_dic_list()) "
    }
   },
   "types_to_exclude": [
    "module",
    "function",
    "builtin_function_or_method",
    "instance",
    "_Feature"
   ],
   "window_display": false
  }
 },
 "nbformat": 4,
 "nbformat_minor": 5
}
