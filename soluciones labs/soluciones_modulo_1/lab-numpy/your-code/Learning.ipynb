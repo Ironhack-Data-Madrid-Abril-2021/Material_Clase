{
 "cells": [
  {
   "cell_type": "markdown",
   "metadata": {},
   "source": [
    "# Introduction to Numpy\n",
    "\n",
    "Lesson Goals\n",
    "\n",
    "    Learn about Numpy data structures.\n",
    "    Extract data from Numpy arrays.\n",
    "    Convert other Python data structures to Numpy arrays.\n",
    "    Perform basic mathematical functions on arrays and elements.\n",
    "\n",
    "Introduction\n",
    "\n",
    "Many of the libraries you will use to perform data analysis in Python, as well as many of the mathematical functions you'll use, will involve working with Numpy. Numpy (short for Numerical Python) is used for numeric computing and includes support for multi-dimensional arrays and matrices along with a variety of mathematical functions to apply to them. In this lesson, we will learn about Numpy's primary data structures and how to apply some basic math functions to them.\n",
    "Importing Numpy\n",
    "\n",
    "In order to use Numpy, you must first import it. It is common to also alias it to np using the as keyword so that you don't have to spell out \"numpy\" every time you want to call one of its methods. "
   ]
  },
  {
   "cell_type": "code",
   "execution_count": 1,
   "metadata": {},
   "outputs": [],
   "source": [
    "import numpy as np"
   ]
  },
  {
   "cell_type": "markdown",
   "metadata": {},
   "source": [
    "Once the library has been imported, it is ready to use.\n",
    "Numpy Arrays\n",
    "\n",
    "The basic data structures in Numpy are arrays, which can be used to represent tabular data. You can think of arrays as lists of lists, where all the elements of a list are of the same type (typically numeric since the reason you use Numpy is to do numeric computing). A matrix is just a two-dimensional array.\n",
    "\n",
    "The size of an array is the total number of elements in every list. The shape of an array is the size of the array along each dimension (e.g. number of rows and number of columns for a two-dimensional array). Let's create a two dimensional 10 x 4 array containing random numbers and calculate the shape and size of the array using the shape and size methods. "
   ]
  },
  {
   "cell_type": "code",
   "execution_count": 2,
   "metadata": {},
   "outputs": [
    {
     "name": "stdout",
     "output_type": "stream",
     "text": [
      "[[0.7454181  0.6264548  0.55680768 0.09265799]\n",
      " [0.86551166 0.16665282 0.52777333 0.9607564 ]\n",
      " [0.02759385 0.33886371 0.00130226 0.5048217 ]\n",
      " [0.01118704 0.02041743 0.8517884  0.92741658]\n",
      " [0.2588613  0.76271326 0.78971973 0.33704139]\n",
      " [0.40207664 0.48127777 0.58111077 0.78871395]\n",
      " [0.20789402 0.40241238 0.22027924 0.84520704]\n",
      " [0.60760389 0.60720084 0.03226332 0.51061707]\n",
      " [0.45899181 0.67272535 0.39912446 0.90092901]\n",
      " [0.66408416 0.76936411 0.23099436 0.20443871]]\n"
     ]
    }
   ],
   "source": [
    "a = np.random.random((10,4))\n",
    "print(a)"
   ]
  },
  {
   "cell_type": "code",
   "execution_count": 3,
   "metadata": {},
   "outputs": [
    {
     "name": "stdout",
     "output_type": "stream",
     "text": [
      "(10, 4)\n",
      "40\n"
     ]
    }
   ],
   "source": [
    "print(a.shape)\n",
    "print(a.size)"
   ]
  },
  {
   "cell_type": "markdown",
   "metadata": {},
   "source": [
    "As you can see, the array has a shape of 10 x 4 (just as we specified) and the total number of elements in the array is 40.\n",
    "\n",
    "Now that we have seen an example of a basic two-dimensional array (a matrix), let's learn about how creating arrays with more dimensions than two works in Numpy. Let's build a three-dimensional array of random numbers and see what that looks like."
   ]
  },
  {
   "cell_type": "code",
   "execution_count": 4,
   "metadata": {},
   "outputs": [
    {
     "name": "stdout",
     "output_type": "stream",
     "text": [
      "[[[0.58615633 0.23029211 0.56391826]\n",
      "  [0.55842817 0.67057053 0.25047113]]\n",
      "\n",
      " [[0.8252124  0.37463546 0.28652342]\n",
      "  [0.72188825 0.42848948 0.69567816]]\n",
      "\n",
      " [[0.55017748 0.86994334 0.19403444]\n",
      "  [0.70195685 0.64593199 0.69314794]]\n",
      "\n",
      " [[0.58680604 0.44701862 0.81384818]\n",
      "  [0.28155912 0.12848998 0.02404093]]\n",
      "\n",
      " [[0.07972219 0.28409489 0.16002088]\n",
      "  [0.51728844 0.55874111 0.59358025]]]\n"
     ]
    }
   ],
   "source": [
    "b = np.random.random((5,2,3))\n",
    "print(b)"
   ]
  },
  {
   "cell_type": "markdown",
   "metadata": {},
   "source": [
    "This created an array with five groups of 2 x 3 matrices. Let's see what happens if we pass four dimensions."
   ]
  },
  {
   "cell_type": "code",
   "execution_count": 5,
   "metadata": {},
   "outputs": [
    {
     "name": "stdout",
     "output_type": "stream",
     "text": [
      "[[[[0.10435603 0.33964495 0.78070374 0.05694797 0.4615027 ]\n",
      "   [0.01249393 0.01045173 0.70506115 0.73759791 0.79525957]\n",
      "   [0.84101294 0.42813927 0.01949549 0.24258518 0.03320001]\n",
      "   [0.90366433 0.33773876 0.02348868 0.37909198 0.80234439]]\n",
      "\n",
      "  [[0.23794693 0.05076687 0.6384237  0.70165421 0.99322192]\n",
      "   [0.1303115  0.68735812 0.99261499 0.40798406 0.50096881]\n",
      "   [0.61471085 0.87350267 0.32639371 0.00312349 0.22981534]\n",
      "   [0.36161069 0.87300582 0.27851529 0.62270584 0.26584262]]\n",
      "\n",
      "  [[0.21081974 0.89030868 0.56793416 0.38302276 0.35228488]\n",
      "   [0.90881415 0.67421737 0.59704191 0.16881323 0.49036516]\n",
      "   [0.12375724 0.99356255 0.2645368  0.31213082 0.38655586]\n",
      "   [0.38791552 0.02575711 0.38248978 0.61696799 0.87205749]]]\n",
      "\n",
      "\n",
      " [[[0.37644431 0.34213191 0.82584882 0.28033123 0.29585822]\n",
      "   [0.14634241 0.95401721 0.41398691 0.61551781 0.39718778]\n",
      "   [0.88174979 0.29557646 0.83782719 0.73812217 0.88945972]\n",
      "   [0.66418741 0.38902472 0.71810144 0.57293837 0.5366336 ]]\n",
      "\n",
      "  [[0.03665232 0.78776045 0.45707644 0.03376912 0.24233624]\n",
      "   [0.43091079 0.54962657 0.41855543 0.4065874  0.2342752 ]\n",
      "   [0.15559522 0.54025464 0.52278153 0.67873457 0.16108126]\n",
      "   [0.06872867 0.06082853 0.63877687 0.77860076 0.15502691]]\n",
      "\n",
      "  [[0.99362552 0.82442674 0.3684576  0.59135025 0.78939394]\n",
      "   [0.11160062 0.50721264 0.38202577 0.02227592 0.89220834]\n",
      "   [0.53077343 0.03426231 0.63269317 0.75278199 0.7730049 ]\n",
      "   [0.09281781 0.19233473 0.19274501 0.03437361 0.36507059]]]]\n"
     ]
    }
   ],
   "source": [
    "c = np.random.random((2,3,4,5))\n",
    "print(c)"
   ]
  },
  {
   "cell_type": "markdown",
   "metadata": {},
   "source": [
    "This time, we got two groups of three 4 x 5 matrices.\n",
    "\n",
    "\n",
    "# Extracting Data from Arrays\n",
    "\n",
    "Extracting elements from arrays works just like it does for other Python data structures. We just need to reference the indexes of the values we want to extract. Below are some examples of how to reference specific rows, columns, and values in a two dimensional array."
   ]
  },
  {
   "cell_type": "code",
   "execution_count": 6,
   "metadata": {},
   "outputs": [
    {
     "name": "stdout",
     "output_type": "stream",
     "text": [
      "[0.7454181  0.6264548  0.55680768 0.09265799]\n"
     ]
    }
   ],
   "source": [
    "# First row of matrix a\n",
    "print(a[0])"
   ]
  },
  {
   "cell_type": "code",
   "execution_count": 7,
   "metadata": {},
   "outputs": [
    {
     "name": "stdout",
     "output_type": "stream",
     "text": [
      "[0.7454181  0.86551166 0.02759385 0.01118704 0.2588613  0.40207664\n",
      " 0.20789402 0.60760389 0.45899181 0.66408416]\n"
     ]
    }
   ],
   "source": [
    "# First column of matrix a\n",
    "print(a[:,0])"
   ]
  },
  {
   "cell_type": "code",
   "execution_count": 8,
   "metadata": {},
   "outputs": [
    {
     "name": "stdout",
     "output_type": "stream",
     "text": [
      "0.7897197293507984\n"
     ]
    }
   ],
   "source": [
    "# Value in the fifth row and third column of matrix a\n",
    "print(a[4,2])"
   ]
  },
  {
   "cell_type": "markdown",
   "metadata": {},
   "source": [
    "What about arrays that have more than two dimensions? You just pass a list of indexes for the values you want, and it will return the corresponding dimensions or values."
   ]
  },
  {
   "cell_type": "code",
   "execution_count": 9,
   "metadata": {},
   "outputs": [
    {
     "name": "stdout",
     "output_type": "stream",
     "text": [
      "[[[0.10435603 0.33964495 0.78070374 0.05694797 0.4615027 ]\n",
      "  [0.01249393 0.01045173 0.70506115 0.73759791 0.79525957]\n",
      "  [0.84101294 0.42813927 0.01949549 0.24258518 0.03320001]\n",
      "  [0.90366433 0.33773876 0.02348868 0.37909198 0.80234439]]\n",
      "\n",
      " [[0.23794693 0.05076687 0.6384237  0.70165421 0.99322192]\n",
      "  [0.1303115  0.68735812 0.99261499 0.40798406 0.50096881]\n",
      "  [0.61471085 0.87350267 0.32639371 0.00312349 0.22981534]\n",
      "  [0.36161069 0.87300582 0.27851529 0.62270584 0.26584262]]\n",
      "\n",
      " [[0.21081974 0.89030868 0.56793416 0.38302276 0.35228488]\n",
      "  [0.90881415 0.67421737 0.59704191 0.16881323 0.49036516]\n",
      "  [0.12375724 0.99356255 0.2645368  0.31213082 0.38655586]\n",
      "  [0.38791552 0.02575711 0.38248978 0.61696799 0.87205749]]]\n"
     ]
    }
   ],
   "source": [
    "# First group of array c\n",
    "print(c[0])"
   ]
  },
  {
   "cell_type": "code",
   "execution_count": 10,
   "metadata": {},
   "outputs": [
    {
     "name": "stdout",
     "output_type": "stream",
     "text": [
      "[[0.23794693 0.05076687 0.6384237  0.70165421 0.99322192]\n",
      " [0.1303115  0.68735812 0.99261499 0.40798406 0.50096881]\n",
      " [0.61471085 0.87350267 0.32639371 0.00312349 0.22981534]\n",
      " [0.36161069 0.87300582 0.27851529 0.62270584 0.26584262]]\n"
     ]
    }
   ],
   "source": [
    "# Second subgroup of the first group\n",
    "print(c[0,1])"
   ]
  },
  {
   "cell_type": "code",
   "execution_count": 11,
   "metadata": {},
   "outputs": [
    {
     "name": "stdout",
     "output_type": "stream",
     "text": [
      "[0.61471085 0.87350267 0.32639371 0.00312349 0.22981534]\n"
     ]
    }
   ],
   "source": [
    "# Third row of the second subgroup\n",
    "print(c[0,1,2])"
   ]
  },
  {
   "cell_type": "code",
   "execution_count": 12,
   "metadata": {},
   "outputs": [
    {
     "name": "stdout",
     "output_type": "stream",
     "text": [
      "[0.70165421 0.40798406 0.00312349 0.62270584]\n"
     ]
    }
   ],
   "source": [
    "# Fourth column of the second subgroup\n",
    "print(c[0,1,:,3])"
   ]
  },
  {
   "cell_type": "code",
   "execution_count": 13,
   "metadata": {},
   "outputs": [
    {
     "name": "stdout",
     "output_type": "stream",
     "text": [
      "0.0031234912340785126\n"
     ]
    }
   ],
   "source": [
    "# Value in the third row and fourth column of the second subgroup\n",
    "print(c[0,1,2,3])"
   ]
  },
  {
   "cell_type": "markdown",
   "metadata": {},
   "source": [
    "# Converting Other Data Structures to Arrays\n",
    "\n",
    "If you have data in another type of data structure and you would like to convert it to an array so that you can take advantage of Numpy's mathematical functions, you can convert them using the array() method as follows. "
   ]
  },
  {
   "cell_type": "code",
   "execution_count": 14,
   "metadata": {},
   "outputs": [
    {
     "name": "stdout",
     "output_type": "stream",
     "text": [
      "[[1 2 3]\n",
      " [4 5 6]\n",
      " [7 8 9]]\n"
     ]
    }
   ],
   "source": [
    "lst_lst = [[1,2,3],[4,5,6],[7,8,9]]\n",
    "d = np.array(lst_lst)\n",
    "print(d)"
   ]
  },
  {
   "cell_type": "markdown",
   "metadata": {},
   "source": [
    "This works the same way whether you have a list of lists, a list of tuples, a tuple of lists, or a tuple of tuples.\n",
    "\n",
    "\n",
    "\n",
    "\n",
    "# Numpy Math Functions\n",
    "\n",
    "Now that we know how to create and navigate arrays, let's take a look at how to perform mathematical calculations on them.\n",
    "\n",
    "One of the most common (and useful) functions is np.sum, which lets you obtain the sum of any elements you select from an array. "
   ]
  },
  {
   "cell_type": "code",
   "execution_count": 15,
   "metadata": {},
   "outputs": [
    {
     "name": "stdout",
     "output_type": "stream",
     "text": [
      "19.36106835210032\n"
     ]
    }
   ],
   "source": [
    "# Sum of all elements in matrix a\n",
    "print(np.sum(a))"
   ]
  },
  {
   "cell_type": "code",
   "execution_count": 16,
   "metadata": {},
   "outputs": [
    {
     "name": "stdout",
     "output_type": "stream",
     "text": [
      "[4.24922247 4.84808247 4.19116356 6.07259985]\n"
     ]
    }
   ],
   "source": [
    "# Sum of each column in matrix a\n",
    "print(np.sum(a, axis=0))"
   ]
  },
  {
   "cell_type": "code",
   "execution_count": 17,
   "metadata": {},
   "outputs": [
    {
     "name": "stdout",
     "output_type": "stream",
     "text": [
      "[2.02133856 2.52069422 0.87258152 1.81080946 2.14833568 2.25317913\n",
      " 1.67579268 1.75768512 2.43177063 1.86888134]\n"
     ]
    }
   ],
   "source": [
    "# Sum of each row in matrix a\n",
    "print(np.sum(a, axis=1))"
   ]
  },
  {
   "cell_type": "code",
   "execution_count": 18,
   "metadata": {},
   "outputs": [
    {
     "data": {
      "text/plain": [
       "6.192263715464242"
      ]
     },
     "execution_count": 18,
     "metadata": {},
     "output_type": "execute_result"
    }
   ],
   "source": [
    "# Sum of all the elements in the first two groups of array b\n",
    "np.sum(b[:2])"
   ]
  },
  {
   "cell_type": "markdown",
   "metadata": {},
   "source": [
    "The np.mean function works the same way and is also very useful. "
   ]
  },
  {
   "cell_type": "code",
   "execution_count": 19,
   "metadata": {},
   "outputs": [
    {
     "name": "stdout",
     "output_type": "stream",
     "text": [
      "0.48402670880250803\n"
     ]
    }
   ],
   "source": [
    "# Mean of all elements in matrix a\n",
    "print(np.mean(a))"
   ]
  },
  {
   "cell_type": "code",
   "execution_count": 20,
   "metadata": {},
   "outputs": [
    {
     "name": "stdout",
     "output_type": "stream",
     "text": [
      "[0.42492225 0.48480825 0.41911636 0.60725998]\n"
     ]
    }
   ],
   "source": [
    "# Mean of each column in matrix a\n",
    "print(np.mean(a, axis=0))"
   ]
  },
  {
   "cell_type": "code",
   "execution_count": 21,
   "metadata": {},
   "outputs": [
    {
     "name": "stdout",
     "output_type": "stream",
     "text": [
      "[0.50533464 0.63017356 0.21814538 0.45270236 0.53708392 0.56329478\n",
      " 0.41894817 0.43942128 0.60794266 0.46722034]\n"
     ]
    }
   ],
   "source": [
    "# Mean of each row in matrix a\n",
    "print(np.mean(a, axis=1))"
   ]
  },
  {
   "cell_type": "code",
   "execution_count": 22,
   "metadata": {},
   "outputs": [
    {
     "data": {
      "text/plain": [
       "0.5160219762886868"
      ]
     },
     "execution_count": 22,
     "metadata": {},
     "output_type": "execute_result"
    }
   ],
   "source": [
    "# Mean of all the elements in the first two groups of array b\n",
    "np.mean(b[:2])"
   ]
  },
  {
   "cell_type": "markdown",
   "metadata": {},
   "source": [
    "In addition to letting you perform calculations on individual arrays, Numpy also lets you perform calculations between arrays. For example, let's select two of the subarrays from array c to illustrate how this works."
   ]
  },
  {
   "cell_type": "code",
   "execution_count": 23,
   "metadata": {},
   "outputs": [
    {
     "name": "stdout",
     "output_type": "stream",
     "text": [
      "[[0.10435603 0.33964495 0.78070374 0.05694797 0.4615027 ]\n",
      " [0.01249393 0.01045173 0.70506115 0.73759791 0.79525957]\n",
      " [0.84101294 0.42813927 0.01949549 0.24258518 0.03320001]\n",
      " [0.90366433 0.33773876 0.02348868 0.37909198 0.80234439]]\n"
     ]
    }
   ],
   "source": [
    "x = c[0,0]\n",
    "print(x)"
   ]
  },
  {
   "cell_type": "code",
   "execution_count": 24,
   "metadata": {},
   "outputs": [
    {
     "name": "stdout",
     "output_type": "stream",
     "text": [
      "[[0.23794693 0.05076687 0.6384237  0.70165421 0.99322192]\n",
      " [0.1303115  0.68735812 0.99261499 0.40798406 0.50096881]\n",
      " [0.61471085 0.87350267 0.32639371 0.00312349 0.22981534]\n",
      " [0.36161069 0.87300582 0.27851529 0.62270584 0.26584262]]\n"
     ]
    }
   ],
   "source": [
    "y = c[0,1]\n",
    "print(y)"
   ]
  },
  {
   "cell_type": "markdown",
   "metadata": {},
   "source": [
    "We can now add, subtract, multiply, and divide the two arrays."
   ]
  },
  {
   "cell_type": "code",
   "execution_count": 25,
   "metadata": {},
   "outputs": [
    {
     "name": "stdout",
     "output_type": "stream",
     "text": [
      "[[0.34230296 0.39041182 1.41912744 0.75860217 1.45472462]\n",
      " [0.14280543 0.69780985 1.69767614 1.14558197 1.29622838]\n",
      " [1.45572379 1.30164194 0.3458892  0.24570867 0.26301535]\n",
      " [1.26527502 1.21074459 0.30200397 1.00179782 1.06818701]]\n"
     ]
    }
   ],
   "source": [
    "# Add elements of x and y together\n",
    "print(np.add(x, y))"
   ]
  },
  {
   "cell_type": "code",
   "execution_count": 26,
   "metadata": {},
   "outputs": [
    {
     "name": "stdout",
     "output_type": "stream",
     "text": [
      "[[ 0.1335909  -0.28887808 -0.14228004  0.64470624  0.53171923]\n",
      " [ 0.11781757  0.67690639  0.28755384 -0.32961385 -0.29429076]\n",
      " [-0.22630209  0.4453634   0.30689822 -0.23946169  0.19661534]\n",
      " [-0.54205363  0.53526706  0.25502661  0.24361386 -0.53650177]]\n"
     ]
    }
   ],
   "source": [
    "# Subtract elements of x from elements of y\n",
    "print(np.subtract(y, x))"
   ]
  },
  {
   "cell_type": "code",
   "execution_count": 27,
   "metadata": {},
   "outputs": [
    {
     "name": "stdout",
     "output_type": "stream",
     "text": [
      "[[0.0248312  0.01724271 0.49841977 0.03995778 0.4583746 ]\n",
      " [0.0016281  0.00718408 0.69985427 0.30092819 0.39840024]\n",
      " [0.51697978 0.3739808  0.0063632  0.00075771 0.00762987]\n",
      " [0.32677468 0.29484791 0.00654196 0.23606279 0.21329734]]\n"
     ]
    }
   ],
   "source": [
    "# Multiply elements of x and y together\n",
    "print(np.multiply(x, y))"
   ]
  },
  {
   "cell_type": "code",
   "execution_count": 28,
   "metadata": {},
   "outputs": [
    {
     "name": "stdout",
     "output_type": "stream",
     "text": [
      "[[2.28014553e+00 1.49470407e-01 8.17754116e-01 1.23209701e+01\n",
      "  2.15214760e+00]\n",
      " [1.04299858e+01 6.57650372e+01 1.40784241e+00 5.53125293e-01\n",
      "  6.29943771e-01]\n",
      " [7.30917229e-01 2.04023019e+00 1.67420134e+01 1.28758535e-02\n",
      "  6.92214751e+00]\n",
      " [4.00160418e-01 2.58485528e+00 1.18574268e+01 1.64262467e+00\n",
      "  3.31332313e-01]]\n"
     ]
    }
   ],
   "source": [
    "# Divide elements of y by elements of x\n",
    "print(np.divide(y, x))"
   ]
  },
  {
   "cell_type": "markdown",
   "metadata": {},
   "source": [
    "This is only the tip of the iceberg. Numpy has many more functions, which you can and should explore. You can read more about them in the [Numpy documentation](https://docs.scipy.org/doc/numpy-1.13.0/reference/routines.math.html). "
   ]
  },
  {
   "cell_type": "code",
   "execution_count": null,
   "metadata": {},
   "outputs": [],
   "source": []
  }
 ],
 "metadata": {
  "kernelspec": {
   "display_name": "Python 3",
   "language": "python",
   "name": "python3"
  },
  "language_info": {
   "codemirror_mode": {
    "name": "ipython",
    "version": 3
   },
   "file_extension": ".py",
   "mimetype": "text/x-python",
   "name": "python",
   "nbconvert_exporter": "python",
   "pygments_lexer": "ipython3",
   "version": "3.7.2"
  }
 },
 "nbformat": 4,
 "nbformat_minor": 2
}
