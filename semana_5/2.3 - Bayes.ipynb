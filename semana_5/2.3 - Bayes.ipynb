{
 "cells": [
  {
   "cell_type": "markdown",
   "metadata": {},
   "source": [
    "# 2.3 - Bayes\n",
    "\n",
    "https://en.wikipedia.org/wiki/Thomas_Bayes\n"
   ]
  },
  {
   "cell_type": "markdown",
   "metadata": {},
   "source": [
    "\n",
    "$$A \\cap B = B \\cap A$$\n",
    "\n",
    "\n",
    "$$P(A \\cap B) = P(B \\cap A)$$\n",
    "\n",
    "\n",
    "$$P(A|B) = \\frac{P(A \\cap B)}{P(B)}$$\n",
    "\n",
    "\n",
    "\n",
    "\n",
    "### Regla de Bayes\n",
    "\n",
    "$$P(A|B) = \\frac{P(B|A)P(A)}{P(B)}$$\n",
    "\n",
    "\n",
    "donde:\n",
    "\n",
    "+ $P(A|B) :=$ A posteriori\n",
    "+ $P(A) :=$ A priori\n",
    "+ $P(B|A) :=$ Verosimilitud (likelihood)\n",
    "+ $P(B) :=$ Marginal de B\n",
    "\n",
    "\n",
    "En realidad:\n",
    "$$P(B) = \\sum_{\\Omega} P(B|A)P(A)$$\n"
   ]
  },
  {
   "cell_type": "markdown",
   "metadata": {},
   "source": [
    "### Ejemplo: Seguro de coche segun color\n",
    "\n",
    "**Eventos**\n",
    "\n",
    "+ $A: =$ Accidente de coche\n",
    "+ $B: =$ Color del coche (rojo, por ejemplo)\n",
    "\n",
    "\n",
    "**¿Que es cada cosa?**\n",
    "\n",
    "+ $P(A|B) :=$ ¿Prob de tener un accidente si mi coche es rojo? (lo que buscamos)\n",
    "+ $P(A) :=$ Prob de accidente (proporcion de coches accidentados en todo el parque movil)\n",
    "+ $P(B|A) :=$ Si ya he tenido un accidente, ¿cual es la prob de que mi coche sea rojo? (proporcion de coches rojos entre los accidentados)\n",
    "+ $P(B) :=$ Prob de coche rojo (proporcion de coches rojos en todo el parque movil)\n",
    "\n",
    "\n",
    "\n",
    "\n",
    "**Supongamos...**\n",
    " \n",
    "+ $P(A) = 0.1$ \n",
    "+ $P(B|A) = 0.3$ \n",
    "+ $P(B) = 0.2$\n",
    "\n",
    "\n",
    "**Entonces..**"
   ]
  },
  {
   "cell_type": "code",
   "execution_count": 1,
   "metadata": {},
   "outputs": [
    {
     "name": "stdout",
     "output_type": "stream",
     "text": [
      "P(A|B) = 0.15\n"
     ]
    }
   ],
   "source": [
    "print('P(A|B) = {}'.format(0.3 * 0.1 / 0.2)) "
   ]
  },
  {
   "cell_type": "markdown",
   "metadata": {},
   "source": [
    "**Conclusion**\n",
    "\n",
    "La prob de tener un accidente si mi coche es rojo es de 0.15\n",
    "\n",
    "...pero es extensible a distribuciones..\n",
    "\n",
    "### Interpretación diacrónica de la regla de Bayes\n",
    "\n",
    "**Supongamos..**\n",
    "\n",
    "+ $A: =$ H (hipótesis)\n",
    "+ $B: =$ D (datos)\n",
    "\n",
    "Entonces:\n",
    "\n",
    "\n",
    "$$P(H|D) = \\frac{P(D|H)P(H)}{P(D)}$$\n",
    "\n",
    "¿Que es $P(D)$?\n",
    "\n",
    "$$P(D) = \\sum_{\\Omega} P(D|H)P(H)$$\n",
    "\n",
    "\n",
    "**Solucion**\n",
    "\n",
    "Se tienen dos hipótesis, H0 y H1:\n",
    "\n",
    "$$\\frac{P(H_1|D) = \\frac{P(D|H_1)P(H_1)}{P(D)}}{P(H_0|D) = \\frac{P(D|H_0)P(H_0)}{P(D)}}$$\n",
    "\n",
    "\n",
    "$$\\frac{P(H_1|D)}{P(H_0|D)} = \\frac{P(D|H_1)P(H_1)}{P(D|H_0)P(H_0)}$$\n",
    "\n",
    "\n",
    "Desde aqui solo hay que obtener ese cociente y ver si es mayor o menor que 1."
   ]
  },
  {
   "cell_type": "markdown",
   "metadata": {},
   "source": [
    "### Ejercicios"
   ]
  },
  {
   "cell_type": "markdown",
   "metadata": {},
   "source": [
    "#### 1. Problema de las cajas de galletas\n",
    "\n",
    "Supongamos que se tienen dos cajas de galletas. Una de ellas contiene 30 galletas de vainilla y 10 galletas de chocolate. La otra caja contiene 20 galletas de cada. Se saca aleatoriamente una galleta y es de vainilla. ¿Cuál es la probabilidad de que la galleta venga de la primera caja?"
   ]
  },
  {
   "cell_type": "code",
   "execution_count": 2,
   "metadata": {},
   "outputs": [],
   "source": [
    "import pandas as pd\n",
    "import numpy as np\n",
    "import matplotlib.pyplot as plt"
   ]
  },
  {
   "cell_type": "code",
   "execution_count": 3,
   "metadata": {},
   "outputs": [],
   "source": [
    "def bayes(priori, verosimilitud):                    # regla de Bayes\n",
    "    \n",
    "    marginal=sum(np.multiply(priori, verosimilitud))\n",
    "    posteriori=np.divide(np.multiply(priori, verosimilitud), marginal)\n",
    "    \n",
    "    return posteriori"
   ]
  },
  {
   "cell_type": "code",
   "execution_count": 4,
   "metadata": {},
   "outputs": [],
   "source": [
    "prioris=[1/2, 1/2]         # caja de galletas\n",
    "\n",
    "v_vainilla=[3/4, 2/4]      # verosimilitud vainilla\n",
    "v_chocolate=[1/4, 2/4]     # verosimilitud chocolate"
   ]
  },
  {
   "cell_type": "code",
   "execution_count": 5,
   "metadata": {},
   "outputs": [
    {
     "data": {
      "text/plain": [
       "0.6"
      ]
     },
     "execution_count": 5,
     "metadata": {},
     "output_type": "execute_result"
    }
   ],
   "source": [
    "bayes(prioris, v_vainilla)[0]"
   ]
  },
  {
   "cell_type": "markdown",
   "metadata": {},
   "source": [
    "**0.6 => 60% de probabilidad de que venga de la caja de galletas 1.**"
   ]
  },
  {
   "cell_type": "markdown",
   "metadata": {},
   "source": [
    "¿Cuál es la probabilidad de que la galleta venga de la segunda caja?"
   ]
  },
  {
   "cell_type": "code",
   "execution_count": 6,
   "metadata": {},
   "outputs": [
    {
     "data": {
      "text/plain": [
       "0.4"
      ]
     },
     "execution_count": 6,
     "metadata": {},
     "output_type": "execute_result"
    }
   ],
   "source": [
    "bayes(prioris, v_vainilla)[1]"
   ]
  },
  {
   "cell_type": "code",
   "execution_count": 7,
   "metadata": {},
   "outputs": [
    {
     "data": {
      "text/plain": [
       "0.4"
      ]
     },
     "execution_count": 7,
     "metadata": {},
     "output_type": "execute_result"
    }
   ],
   "source": [
    "1-bayes(prioris, v_vainilla)[0]"
   ]
  },
  {
   "cell_type": "markdown",
   "metadata": {},
   "source": [
    "**0.4 => 40% de probabilidad de que venga de la caja de galletas 2.**"
   ]
  },
  {
   "cell_type": "markdown",
   "metadata": {},
   "source": [
    "¿Que ocurriría si la galleta hubiera sido de chocolate?, ¿cuales serían las probabilidades?"
   ]
  },
  {
   "cell_type": "code",
   "execution_count": 8,
   "metadata": {},
   "outputs": [
    {
     "data": {
      "text/plain": [
       "array([0.33333333, 0.66666667])"
      ]
     },
     "execution_count": 8,
     "metadata": {},
     "output_type": "execute_result"
    }
   ],
   "source": [
    "bayes(prioris, v_chocolate)"
   ]
  },
  {
   "cell_type": "markdown",
   "metadata": {},
   "source": [
    "**0.333 => 33.3% de probabilidad de que venga de la caja de galletas 1.**\n",
    "\n",
    "**0.667 => 66.7% de probabilidad de que venga de la caja de galletas 2.**"
   ]
  },
  {
   "cell_type": "markdown",
   "metadata": {},
   "source": [
    "#### 2. Problema de los M&Ms\n",
    "Supongamos que tenemos dos bolsas de M&Ms:\n",
    "\n",
    "En la **Bolsa 1**, la mezcla de colores es:\n",
    "* Marron - 30%\n",
    "* Amarillo - 20%\n",
    "* Rojo - 20%\n",
    "* Verde - 10%\n",
    "* Naranja - 10%\n",
    "* Mandarina - 10%\n",
    "\n",
    "\n",
    "En la **Bolsa 2**, la mezcla de colores es:\n",
    "* Azul - 24%\n",
    "* Verde 20%\n",
    "* Naranja - 16%\n",
    "* Amarillo - 14%\n",
    "* Rojo - 13%\n",
    "* Marron - 13%\n",
    "\n",
    "Sin saber cual es cual, se cogen aleatoriamente dos M&Ms, uno de cada bolsa. Uno es amarillo y uno verde. ¿Cuál es la probabilidad de que el amarillo venga de la bolsa 1?\n",
    "\n",
    "**Tip:** Se necesitan cruzar las verosimilitudes."
   ]
  },
  {
   "cell_type": "code",
   "execution_count": 9,
   "metadata": {},
   "outputs": [],
   "source": [
    "prioris=[1/2, 1/2]         # bolsas\n",
    "\n",
    "v_marron=[0.3, 0.13]       # verosimilitud marron\n",
    "v_amarillo=[0.2, 0.14]     # verosimilitud amarillo\n",
    "v_rojo=[0.2, 0.13]         # verosimilitud rojo\n",
    "v_verde=[0.1, 0.2]         # verosimilitud verde\n",
    "v_naranja=[0.1, 0.16]      # verosimilitud naranja\n",
    "v_mandarina=[0.1, 0]       # verosimilitud mandarina\n",
    "v_azul=[0, 0.24]           # verosimilitud azul"
   ]
  },
  {
   "cell_type": "code",
   "execution_count": 10,
   "metadata": {},
   "outputs": [
    {
     "data": {
      "text/plain": [
       "0.7407407407407408"
      ]
     },
     "execution_count": 10,
     "metadata": {},
     "output_type": "execute_result"
    }
   ],
   "source": [
    "bayes(prioris, [v_amarillo[0]*v_verde[1], v_amarillo[1]*v_verde[0]])[0]"
   ]
  },
  {
   "cell_type": "markdown",
   "metadata": {},
   "source": [
    "**0.7407 => 74.1% de probabilidad de que la amarilla venga de la bolsa 1.**\n",
    "\n",
    "¿Cuál es la probabilidad de que el amarillo venga de la bolsa 2?"
   ]
  },
  {
   "cell_type": "code",
   "execution_count": 11,
   "metadata": {},
   "outputs": [
    {
     "data": {
      "text/plain": [
       "0.25925925925925924"
      ]
     },
     "execution_count": 11,
     "metadata": {},
     "output_type": "execute_result"
    }
   ],
   "source": [
    "bayes(prioris, [v_amarillo[0]*v_verde[1], v_amarillo[1]*v_verde[0]])[1]"
   ]
  },
  {
   "cell_type": "markdown",
   "metadata": {},
   "source": [
    "**0.259 => 25.9% de probabilidad de que la amarilla venga de la bolsa 2.**"
   ]
  },
  {
   "cell_type": "markdown",
   "metadata": {},
   "source": [
    "¿Cuales son las probabilidades del M&M verde?\n",
    "\n",
    "Las probabilidades de la verde son las complementarias de cada una, es decir, la probabilidad de que la verde venga de la bolsa 1 es 0.259 y la probabilidad de que la verde venga de la bolsa 2 es 0.7407."
   ]
  },
  {
   "cell_type": "markdown",
   "metadata": {},
   "source": [
    "#### 3. Problema Monty Hall\n",
    "\n",
    "[La paradoja en la que cae el 90% de la gente...](https://www.youtube.com/watch?v=1BpTBzDQuRE)\n",
    "\n",
    "\n",
    "Supongamos ser el concursante en el concurso de television Let's Make a Deal. El presentador, llamado Monty Hall nos presenta tres puertas, la Puerta A, la Puerta B y la Puerta C. Él nos dice que que detrás de una de esas puertas hay un coche deportivo, y si escogemos la correcta nos lo llevaremos.\n",
    "\n",
    "Seleccionamos la Puerta A, pero Monty lo pone un poco más interesante. Abre la Puerta B y detrás de ella no está el coche, hay una cabra. Nos pregunta si queremos cambiar de puerta o seguir con la puerta que ya habiamos elegido.\n",
    "\n",
    "Dada está información, ¿Cuál es la probabilidad de ganar el coche si permanecemos con la Puerta A?. Y si cambiamos a la puerta C, ¿cuál sería?\n"
   ]
  },
  {
   "cell_type": "code",
   "execution_count": 12,
   "metadata": {},
   "outputs": [],
   "source": [
    "prioris=[1/3, 1/3, 1/3]         # puertas\n",
    "\n",
    "v_premio=[0, 1/2, 1]            # verosimilitud del premio"
   ]
  },
  {
   "cell_type": "code",
   "execution_count": 13,
   "metadata": {},
   "outputs": [
    {
     "data": {
      "text/plain": [
       "0.3333333333333333"
      ]
     },
     "execution_count": 13,
     "metadata": {},
     "output_type": "execute_result"
    }
   ],
   "source": [
    "bayes(prioris, v_premio)[1]"
   ]
  },
  {
   "cell_type": "markdown",
   "metadata": {},
   "source": [
    "**si no se cambia de puerta la probabilidad es 1/3**"
   ]
  },
  {
   "cell_type": "code",
   "execution_count": 14,
   "metadata": {},
   "outputs": [
    {
     "data": {
      "text/plain": [
       "0.6666666666666666"
      ]
     },
     "execution_count": 14,
     "metadata": {},
     "output_type": "execute_result"
    }
   ],
   "source": [
    "bayes(prioris, v_premio)[2]"
   ]
  },
  {
   "cell_type": "markdown",
   "metadata": {},
   "source": [
    "**si se cambia de puerta la probabilidad es 2/3**"
   ]
  },
  {
   "cell_type": "code",
   "execution_count": 15,
   "metadata": {},
   "outputs": [
    {
     "data": {
      "text/plain": [
       "array([0.        , 0.33333333, 0.66666667])"
      ]
     },
     "execution_count": 15,
     "metadata": {},
     "output_type": "execute_result"
    }
   ],
   "source": [
    "bayes(prioris, v_premio)"
   ]
  },
  {
   "cell_type": "code",
   "execution_count": null,
   "metadata": {},
   "outputs": [],
   "source": []
  }
 ],
 "metadata": {
  "finalized": {
   "timestamp": 1621925312836,
   "trusted": false
  },
  "kernelspec": {
   "display_name": "clase",
   "language": "python",
   "name": "clase"
  },
  "language_info": {
   "codemirror_mode": {
    "name": "ipython",
    "version": 3
   },
   "file_extension": ".py",
   "mimetype": "text/x-python",
   "name": "python",
   "nbconvert_exporter": "python",
   "pygments_lexer": "ipython3",
   "version": "3.7.10"
  },
  "varInspector": {
   "cols": {
    "lenName": 16,
    "lenType": 16,
    "lenVar": 40
   },
   "kernels_config": {
    "python": {
     "delete_cmd_postfix": "",
     "delete_cmd_prefix": "del ",
     "library": "var_list.py",
     "varRefreshCmd": "print(var_dic_list())"
    },
    "r": {
     "delete_cmd_postfix": ") ",
     "delete_cmd_prefix": "rm(",
     "library": "var_list.r",
     "varRefreshCmd": "cat(var_dic_list()) "
    }
   },
   "types_to_exclude": [
    "module",
    "function",
    "builtin_function_or_method",
    "instance",
    "_Feature"
   ],
   "window_display": false
  }
 },
 "nbformat": 4,
 "nbformat_minor": 4
}
