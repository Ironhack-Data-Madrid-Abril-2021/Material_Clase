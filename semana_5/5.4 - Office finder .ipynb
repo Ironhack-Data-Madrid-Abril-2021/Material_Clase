{
 "cells": [
  {
   "cell_type": "markdown",
   "metadata": {},
   "source": [
    "# 5.4- Office finder \n",
    "\n",
    "#### Encontramos tu oficina"
   ]
  },
  {
   "cell_type": "code",
   "execution_count": null,
   "metadata": {},
   "outputs": [],
   "source": [
    "import pymongo\n",
    "\n",
    "import pandas as pd\n",
    "\n",
    "import re\n",
    "\n",
    "import folium"
   ]
  },
  {
   "cell_type": "code",
   "execution_count": null,
   "metadata": {},
   "outputs": [],
   "source": [
    "# conexion a mongo\n",
    "\n",
    "cliente=pymongo.MongoClient()\n",
    "\n",
    "db=cliente.companies"
   ]
  },
  {
   "cell_type": "code",
   "execution_count": null,
   "metadata": {},
   "outputs": [],
   "source": [
    "def data():    # funcion para realizar query a mongoDB\n",
    "    query=db.companies.find({'$and':[{'$or': [{'category_code':'games_video'},\n",
    "                                               {'category_code':'software'},\n",
    "                                               {'category_code':'web'},\n",
    "                                               {'category_code':'mobile'},\n",
    "                                               {'category_code':'photo_video'},\n",
    "                                               {'category_code':'ecommerce'},\n",
    "                                               {'category_code':'search'},\n",
    "                                               {'category_code':'network_hosting'}]},\n",
    "                             {'founded_year': {'$gte':1999}},\n",
    "                             {'offices': {'$ne':[]}}, \n",
    "                             {'offices.latitude': {'$ne':[]}},\n",
    "                             {'offices.longitude': {'$ne':[]}},\n",
    "                             {'offices.latitude': {'$ne':None}},\n",
    "                             {'offices.longitude': {'$ne':None}},         \n",
    "                             {'deadpooled_year':None},\n",
    "                             {'number_of_employees': {'$ne':None}},\n",
    "                             {'total_money_raised': {'$ne':None}}]},\n",
    "\n",
    "                             {'name':1, '_id':0, 'offices.latitude':1, 'offices.longitude':1, \n",
    "                              'founded_year':1, 'category_code':1, 'number_of_employees':1,\n",
    "                              'total_money_raised':1})\n",
    "\n",
    "\n",
    "    df=pd.json_normalize(data=query, record_path='offices',\n",
    "                      meta=['category_code', 'name', 'number_of_employees',\n",
    "                            'founded_year', 'total_money_raised'])\n",
    "    \n",
    "    df.insert(2, 'geo_loc', pd.Series(list(range(len(df)))))\n",
    "    df['geo_loc']=df.apply(lambda x: [x['longitude'], x['latitude']], axis=1)\n",
    "    \n",
    "    return df"
   ]
  },
  {
   "cell_type": "code",
   "execution_count": null,
   "metadata": {},
   "outputs": [],
   "source": [
    "data().head()"
   ]
  },
  {
   "cell_type": "code",
   "execution_count": null,
   "metadata": {},
   "outputs": [],
   "source": [
    "def exchange(df):\n",
    "    res=[]\n",
    "    number=1\n",
    "    symbol=1\n",
    "    \n",
    "    for e in df:\n",
    "        if e[-1]=='k': number=1e3\n",
    "        elif e[-1]=='M': number=1e6\n",
    "        elif e[-1]=='B': number=1e9\n",
    "            \n",
    "        if e[0]=='£': symbol=1.3\n",
    "        elif e[0]=='€' : symbol=1.12\n",
    "            \n",
    "        n_df=re.findall('[0-9.]+', e)\n",
    "        \n",
    "        res.append(int(float(n_df[0])*number*symbol))\n",
    "        \n",
    "    return res"
   ]
  },
  {
   "cell_type": "code",
   "execution_count": null,
   "metadata": {},
   "outputs": [],
   "source": [
    "def classifying(date, employees):\n",
    "    \n",
    "    company_class=[]\n",
    "    \n",
    "    for i in range(len(date)):\n",
    "        \n",
    "        if date[i]>=2008 and employees[i]<100:\n",
    "            company_class.append('StartUp')\n",
    "            \n",
    "        else:\n",
    "            company_class.append('Big')\n",
    "            \n",
    "    return company_class"
   ]
  },
  {
   "cell_type": "code",
   "execution_count": null,
   "metadata": {},
   "outputs": [],
   "source": [
    "df=data()\n",
    "\n",
    "len(df)"
   ]
  },
  {
   "cell_type": "code",
   "execution_count": null,
   "metadata": {},
   "outputs": [],
   "source": [
    "df['n_total_money']=exchange(df.total_money_raised)\n",
    "\n",
    "df['company_class']=classifying(df.founded_year, df.number_of_employees)\n",
    "\n",
    "df.head()"
   ]
  },
  {
   "cell_type": "code",
   "execution_count": null,
   "metadata": {},
   "outputs": [],
   "source": [
    "db.geoloc.insert_many(df.to_dict('records'))"
   ]
  },
  {
   "cell_type": "code",
   "execution_count": null,
   "metadata": {},
   "outputs": [],
   "source": [
    "db.geoloc.create_index([('geo_loc', '2dsphere')])"
   ]
  },
  {
   "cell_type": "code",
   "execution_count": null,
   "metadata": {},
   "outputs": [],
   "source": [
    "# geolocalizacion\n",
    "\n",
    "def geoquery(df):\n",
    "    \n",
    "    list_money_mean=[]\n",
    "    sb_ratio=[]\n",
    "    n_companies=[]\n",
    "    \n",
    "    for i in range(len(df)):\n",
    "        \n",
    "        q=list(\n",
    "            db.geoloc.find(\n",
    "                {'geo_loc': {'$near':{'$geometry':{\n",
    "                    'type':'Point',\n",
    "                    'coordinates':[df.longitude[i], df.latitude[i]]\n",
    "                },\n",
    "                                     '$maxDistance':1000}}}\n",
    "            )\n",
    "        )\n",
    "        \n",
    "        l=len(q)\n",
    "        \n",
    "        money_mean=sum([q[j]['n_total_money'] for j in range(l)])/l\n",
    "        \n",
    "        list_money_mean.append(money_mean)\n",
    "        \n",
    "        big=sum([q[k]['company_class'].count('Big') if q[k]['company_class'].count('Big')!=0 else 1 for k in range(l)])\n",
    "        start=sum([q[k]['company_class'].count('StartUp') for k in range(l)])\n",
    "        \n",
    "        sb_ratio.append(start/big)\n",
    "        \n",
    "        n_companies.append(l)\n",
    "        \n",
    "    df['around_companies']=n_companies\n",
    "\n",
    "    df['money_density']=list_money_mean\n",
    "\n",
    "    df['sb_ratio']=sb_ratio\n",
    "        \n",
    "    return df"
   ]
  },
  {
   "cell_type": "code",
   "execution_count": null,
   "metadata": {},
   "outputs": [],
   "source": [
    "def geomap(df, zoom_start=1.5):\n",
    "\n",
    "    df.index=range(len(df)) \n",
    "\n",
    "    mapa=folium.Map(location=[0, 0],\n",
    "                tiles='openstreetmap', zoom_start=zoom_start)\n",
    "\n",
    "    for i in range(1, len(df)):\n",
    "\n",
    "        folium.CircleMarker([float(df.latitude[i]), float(df.longitude[i])], popup=str(df.name[i]), \n",
    "                             radius=1, icon=folium.Icon()).add_to(mapa)\n",
    "\n",
    "    mapa.save('images/geomap.html')\n",
    "    \n",
    "    \n",
    "    return mapa"
   ]
  },
  {
   "cell_type": "code",
   "execution_count": null,
   "metadata": {},
   "outputs": [],
   "source": [
    "df=geoquery(df)\n",
    "\n",
    "df.head()"
   ]
  },
  {
   "cell_type": "code",
   "execution_count": null,
   "metadata": {},
   "outputs": [],
   "source": [
    "df.describe()"
   ]
  },
  {
   "cell_type": "code",
   "execution_count": null,
   "metadata": {},
   "outputs": [],
   "source": [
    "mapa=geomap(df.loc[:1000])\n",
    "\n",
    "mapa"
   ]
  },
  {
   "cell_type": "code",
   "execution_count": null,
   "metadata": {},
   "outputs": [],
   "source": [
    "print('Compañias alrededor>=10, sb_ratio>0.45, densidad monetaria>1.000.000$')\n",
    "\n",
    "data=df[(df.around_companies>=10) & (df.sb_ratio>0.45) & (df.money_density>1e6)]\n",
    "\n",
    "mapa2=geomap(data)\n",
    "\n",
    "mapa2"
   ]
  },
  {
   "cell_type": "code",
   "execution_count": null,
   "metadata": {},
   "outputs": [],
   "source": [
    "print('Compañias alrededor>=70, sb_ratio>0.25, densidad monetaria>10.000.000$')\n",
    "\n",
    "data=df[(df.around_companies>=70) & (df.sb_ratio>0.25) & (df.money_density>1e7)]\n",
    "\n",
    "mapa3=geomap(data)\n",
    "\n",
    "mapa3"
   ]
  },
  {
   "cell_type": "code",
   "execution_count": null,
   "metadata": {},
   "outputs": [],
   "source": []
  },
  {
   "cell_type": "code",
   "execution_count": null,
   "metadata": {},
   "outputs": [],
   "source": []
  }
 ],
 "metadata": {
  "kernelspec": {
   "display_name": "clase",
   "language": "python",
   "name": "clase"
  },
  "language_info": {
   "codemirror_mode": {
    "name": "ipython",
    "version": 3
   },
   "file_extension": ".py",
   "mimetype": "text/x-python",
   "name": "python",
   "nbconvert_exporter": "python",
   "pygments_lexer": "ipython3",
   "version": "3.7.10"
  },
  "varInspector": {
   "cols": {
    "lenName": 16,
    "lenType": 16,
    "lenVar": 40
   },
   "kernels_config": {
    "python": {
     "delete_cmd_postfix": "",
     "delete_cmd_prefix": "del ",
     "library": "var_list.py",
     "varRefreshCmd": "print(var_dic_list())"
    },
    "r": {
     "delete_cmd_postfix": ") ",
     "delete_cmd_prefix": "rm(",
     "library": "var_list.r",
     "varRefreshCmd": "cat(var_dic_list()) "
    }
   },
   "types_to_exclude": [
    "module",
    "function",
    "builtin_function_or_method",
    "instance",
    "_Feature"
   ],
   "window_display": false
  }
 },
 "nbformat": 4,
 "nbformat_minor": 2
}
