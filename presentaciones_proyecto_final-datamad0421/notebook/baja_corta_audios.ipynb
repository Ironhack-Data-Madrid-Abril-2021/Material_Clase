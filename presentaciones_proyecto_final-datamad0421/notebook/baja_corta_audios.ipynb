{
 "cells": [
  {
   "cell_type": "code",
   "execution_count": 33,
   "metadata": {},
   "outputs": [
    {
     "name": "stdout",
     "output_type": "stream",
     "text": [
      "[youtube] hu1_b6aLtyM: Downloading webpage\n",
      "[download] Destination: Dreams _ Fleetwood Mac _ funk cover ft. Elise Trouw-hu1_b6aLtyM.m4a\n",
      "[download] 100% of 5.55MiB in 00:0059MiB/s ETA 00:006\n",
      "[ffmpeg] Correcting container in \"Dreams _ Fleetwood Mac _ funk cover ft. Elise Trouw-hu1_b6aLtyM.m4a\"\n",
      "[ffmpeg] Destination: Dreams _ Fleetwood Mac _ funk cover ft. Elise Trouw-hu1_b6aLtyM.mp3\n",
      "Deleting original file Dreams _ Fleetwood Mac _ funk cover ft. Elise Trouw-hu1_b6aLtyM.m4a (pass -k to keep)\n"
     ]
    }
   ],
   "source": [
    "#Función para descargar la canción\n",
    "from __future__ import unicode_literals\n",
    "import youtube_dl\n",
    "\n",
    "\n",
    "ydl_opts = {\n",
    "    'format': 'bestaudio/best',\n",
    "    'postprocessors': [{\n",
    "        'key': 'FFmpegExtractAudio',\n",
    "        'preferredcodec': 'mp3',\n",
    "        'preferredquality': '192',\n",
    "    }],\n",
    "}\n",
    "\n",
    "\n",
    "\n",
    "with youtube_dl.YoutubeDL(ydl_opts) as ydl:\n",
    "    ydl.download(['https://www.youtube.com/watch?v=hu1_b6aLtyM&ab_channel=ScaryPockets'])"
   ]
  },
  {
   "cell_type": "code",
   "execution_count": 2,
   "metadata": {},
   "outputs": [],
   "source": [
    "#Función de Fer para cortar el audio \n",
    "from pydub import AudioSegment\n",
    "\n",
    "def cutting_audio(file_path, startMin, startSec, endMin, endSec):\n",
    "    # Time to miliseconds\n",
    "    startTime = startMin*60*1000+startSec*1000\n",
    "    endTime = endMin*60*1000+endSec*1000\n",
    "    \n",
    "    # Opening file and extracting segment\n",
    "    song = AudioSegment.from_mp3(file_path)\n",
    "    extract = song[startTime:endTime]\n",
    "    \n",
    "    # Saving -- choose you path\n",
    "    the_file = extract.export(file_path, format=\"mp3\")\n",
    "    return the_file"
   ]
  },
  {
   "cell_type": "markdown",
   "metadata": {},
   "source": [
    "Edita el nombre del alumno si estás descargando las canciones en la misma carpeta donde está el notebook para que pille el path. O ponlo a tu gusto."
   ]
  },
  {
   "cell_type": "code",
   "execution_count": 34,
   "metadata": {},
   "outputs": [],
   "source": [
    "file_path = \"Ati.mp3\""
   ]
  },
  {
   "cell_type": "code",
   "execution_count": 35,
   "metadata": {},
   "outputs": [],
   "source": [
    "#Variable de minutos y segundo para cuando llamemos a la función\n",
    "startMin = 0\n",
    "startSec = 17\n",
    "endMin = 0\n",
    "endSec = 37"
   ]
  },
  {
   "cell_type": "code",
   "execution_count": 36,
   "metadata": {},
   "outputs": [
    {
     "data": {
      "text/plain": [
       "<_io.BufferedRandom name='Ati.mp3'>"
      ]
     },
     "execution_count": 36,
     "metadata": {},
     "output_type": "execute_result"
    }
   ],
   "source": [
    "#Llamamos a la función que corta el audio y nos envía el archivo a la carpeta que queremos\n",
    "\n",
    "cutting_audio(file_path, startMin, startSec, endMin, endSec)"
   ]
  },
  {
   "cell_type": "code",
   "execution_count": null,
   "metadata": {},
   "outputs": [],
   "source": []
  }
 ],
 "metadata": {
  "kernelspec": {
   "display_name": "clase",
   "language": "python",
   "name": "clase"
  },
  "language_info": {
   "codemirror_mode": {
    "name": "ipython",
    "version": 3
   },
   "file_extension": ".py",
   "mimetype": "text/x-python",
   "name": "python",
   "nbconvert_exporter": "python",
   "pygments_lexer": "ipython3",
   "version": "3.8.8"
  },
  "toc": {
   "base_numbering": 1,
   "nav_menu": {},
   "number_sections": true,
   "sideBar": true,
   "skip_h1_title": true,
   "title_cell": "Table of Contents",
   "title_sidebar": "Contents",
   "toc_cell": false,
   "toc_position": {},
   "toc_section_display": true,
   "toc_window_display": false
  }
 },
 "nbformat": 4,
 "nbformat_minor": 4
}
