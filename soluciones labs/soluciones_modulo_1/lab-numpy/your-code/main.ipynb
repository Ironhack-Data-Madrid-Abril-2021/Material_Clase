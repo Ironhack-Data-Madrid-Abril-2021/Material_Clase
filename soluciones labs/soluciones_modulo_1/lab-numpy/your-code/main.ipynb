{
 "cells": [
  {
   "cell_type": "markdown",
   "metadata": {},
   "source": [
    "# Intro to Numpy"
   ]
  },
  {
   "cell_type": "markdown",
   "metadata": {},
   "source": [
    "# 1. Import the NUMPY package under the name np."
   ]
  },
  {
   "cell_type": "code",
   "execution_count": 1,
   "metadata": {},
   "outputs": [],
   "source": [
    "import numpy as np"
   ]
  },
  {
   "cell_type": "markdown",
   "metadata": {},
   "source": [
    "# 2. Print the NUMPY version and the configuration."
   ]
  },
  {
   "cell_type": "code",
   "execution_count": 2,
   "metadata": {},
   "outputs": [
    {
     "name": "stdout",
     "output_type": "stream",
     "text": [
      "1.16.2\n"
     ]
    }
   ],
   "source": [
    "print(np.version.version)"
   ]
  },
  {
   "cell_type": "markdown",
   "metadata": {},
   "source": [
    "# 3. Generate a 2x3x5 3-dimensional array with random values. Assign the array to variable \"a\"\n",
    "Challenge: there are at least three easy ways that use numpy to generate random arrays. How many ways can you find?"
   ]
  },
  {
   "cell_type": "code",
   "execution_count": 3,
   "metadata": {},
   "outputs": [],
   "source": [
    "a=np.random.random((2, 3, 5))\n",
    "a1=np.random.rand(2, 3, 5)\n",
    "a2=np.random.randint(10 ,size=(2, 3, 5))\n",
    "a3=np.random.sample((2, 3, 5))"
   ]
  },
  {
   "cell_type": "markdown",
   "metadata": {},
   "source": [
    "# 4. Print a."
   ]
  },
  {
   "cell_type": "code",
   "execution_count": 4,
   "metadata": {},
   "outputs": [
    {
     "name": "stdout",
     "output_type": "stream",
     "text": [
      "[[[0.92908285 0.08738185 0.63700285 0.85827313 0.70112754]\n",
      "  [0.66479305 0.08173102 0.38185062 0.06250517 0.70014753]\n",
      "  [0.74279749 0.22003722 0.24296835 0.30920813 0.53224183]]\n",
      "\n",
      " [[0.90241464 0.36361518 0.64325267 0.27904856 0.78588251]\n",
      "  [0.65242106 0.0582239  0.11352888 0.433698   0.14107852]\n",
      "  [0.86403796 0.69861859 0.98393144 0.38780823 0.16879465]]]\n",
      "[[[5.53793667e-01 6.49733000e-01 1.81812134e-01 1.46867277e-01\n",
      "   5.13380439e-01]\n",
      "  [5.55523184e-01 4.37292059e-01 3.69436330e-01 6.08076262e-01\n",
      "   1.62386561e-02]\n",
      "  [4.05122559e-02 4.79121528e-02 6.23085281e-02 3.29478130e-02\n",
      "   5.59117224e-01]]\n",
      "\n",
      " [[9.96843468e-01 5.02034762e-01 1.02186681e-01 3.07545382e-01\n",
      "   1.00483833e-01]\n",
      "  [5.41361219e-01 9.53404701e-01 2.68010120e-01 1.62658500e-01\n",
      "   5.02712362e-01]\n",
      "  [7.27075828e-01 4.42592725e-01 8.40544140e-01 6.22823620e-01\n",
      "   7.23973855e-04]]]\n",
      "[[[2 9 2 6 3]\n",
      "  [0 5 4 1 0]\n",
      "  [3 2 7 2 4]]\n",
      "\n",
      " [[2 0 8 9 4]\n",
      "  [6 9 4 9 1]\n",
      "  [5 8 0 6 1]]]\n",
      "[[[0.93491192 0.29560842 0.12990755 0.73823351 0.8151247 ]\n",
      "  [0.71195556 0.06127209 0.20512193 0.02456092 0.16858655]\n",
      "  [0.2999375  0.53521881 0.50665269 0.40679134 0.28610667]]\n",
      "\n",
      " [[0.57456258 0.93036907 0.6612495  0.15645997 0.25912047]\n",
      "  [0.03828785 0.70431175 0.09423695 0.97267857 0.9483573 ]\n",
      "  [0.23925524 0.6158202  0.52984237 0.59051407 0.69120909]]]\n"
     ]
    }
   ],
   "source": [
    "print (a)       # elementos aleatorios entre 0 y 1\n",
    "print (a1)      # elementos aleatorios entre 0 y 1\n",
    "print (a2)      # elementos aleatorios enteros entre 0 y 10\n",
    "print (a3)      # elementos aleatorios entre 0 y 1"
   ]
  },
  {
   "cell_type": "markdown",
   "metadata": {},
   "source": [
    "# 5. Create a 5x2x3 3-dimensional array with all values equaling 1.\n",
    "Assign the array to variable \"b\""
   ]
  },
  {
   "cell_type": "code",
   "execution_count": 5,
   "metadata": {},
   "outputs": [],
   "source": [
    "b=np.ones((5, 2, 3))"
   ]
  },
  {
   "cell_type": "markdown",
   "metadata": {},
   "source": [
    "# 6. Print b."
   ]
  },
  {
   "cell_type": "code",
   "execution_count": 6,
   "metadata": {},
   "outputs": [
    {
     "name": "stdout",
     "output_type": "stream",
     "text": [
      "[[[1. 1. 1.]\n",
      "  [1. 1. 1.]]\n",
      "\n",
      " [[1. 1. 1.]\n",
      "  [1. 1. 1.]]\n",
      "\n",
      " [[1. 1. 1.]\n",
      "  [1. 1. 1.]]\n",
      "\n",
      " [[1. 1. 1.]\n",
      "  [1. 1. 1.]]\n",
      "\n",
      " [[1. 1. 1.]\n",
      "  [1. 1. 1.]]]\n"
     ]
    }
   ],
   "source": [
    "print (b)"
   ]
  },
  {
   "cell_type": "markdown",
   "metadata": {},
   "source": [
    "# 7. Do a and b have the same size? How do you prove that in Python code?"
   ]
  },
  {
   "cell_type": "code",
   "execution_count": 7,
   "metadata": {},
   "outputs": [
    {
     "name": "stdout",
     "output_type": "stream",
     "text": [
      "True\n"
     ]
    }
   ],
   "source": [
    "if a.size==b.size:\n",
    "    print (True)\n",
    "# ambos tienen el mismo tamaño"
   ]
  },
  {
   "cell_type": "markdown",
   "metadata": {},
   "source": [
    "# 8. Are you able to add a and b? Why or why not?"
   ]
  },
  {
   "cell_type": "code",
   "execution_count": 8,
   "metadata": {},
   "outputs": [
    {
     "ename": "ValueError",
     "evalue": "operands could not be broadcast together with shapes (2,3,5) (5,2,3) ",
     "output_type": "error",
     "traceback": [
      "\u001b[0;31m---------------------------------------------------------------------------\u001b[0m",
      "\u001b[0;31mValueError\u001b[0m                                Traceback (most recent call last)",
      "\u001b[0;32m<ipython-input-8-8d8876cd5ecf>\u001b[0m in \u001b[0;36m<module>\u001b[0;34m\u001b[0m\n\u001b[0;32m----> 1\u001b[0;31m \u001b[0mprint\u001b[0m \u001b[0;34m(\u001b[0m\u001b[0mnp\u001b[0m\u001b[0;34m.\u001b[0m\u001b[0madd\u001b[0m\u001b[0;34m(\u001b[0m\u001b[0ma\u001b[0m\u001b[0;34m,\u001b[0m \u001b[0mb\u001b[0m\u001b[0;34m)\u001b[0m\u001b[0;34m)\u001b[0m\u001b[0;34m\u001b[0m\u001b[0;34m\u001b[0m\u001b[0m\n\u001b[0m\u001b[1;32m      2\u001b[0m \u001b[0;31m# no se puede porque a y b no tienen las mismas dimensiones\u001b[0m\u001b[0;34m\u001b[0m\u001b[0;34m\u001b[0m\u001b[0;34m\u001b[0m\u001b[0m\n",
      "\u001b[0;31mValueError\u001b[0m: operands could not be broadcast together with shapes (2,3,5) (5,2,3) "
     ]
    }
   ],
   "source": [
    "print (np.add(a, b))\n",
    "# no se puede porque a y b no tienen las mismas dimensiones"
   ]
  },
  {
   "cell_type": "markdown",
   "metadata": {},
   "source": [
    "# 9. Transpose b so that it has the same structure of a (i.e. become a 2x3x5 array). Assign the transposed array to varialbe \"c\".\n"
   ]
  },
  {
   "cell_type": "code",
   "execution_count": 9,
   "metadata": {},
   "outputs": [
    {
     "name": "stdout",
     "output_type": "stream",
     "text": [
      "(2, 3, 5)\n"
     ]
    }
   ],
   "source": [
    "c=b.transpose(1, 2, 0)\n",
    "print (c.shape)"
   ]
  },
  {
   "cell_type": "markdown",
   "metadata": {},
   "source": [
    "# 10. Try to add a and c. Now it should work. Assign the sum to varialbe \"d\". But why does it work now?"
   ]
  },
  {
   "cell_type": "code",
   "execution_count": 10,
   "metadata": {},
   "outputs": [
    {
     "name": "stdout",
     "output_type": "stream",
     "text": [
      "(2, 3, 5)\n"
     ]
    }
   ],
   "source": [
    "d=np.add(a,c)\n",
    "print (d.shape)\n",
    "# al transponer ya tienen la misma dimension y se pueden sumar"
   ]
  },
  {
   "cell_type": "markdown",
   "metadata": {},
   "source": [
    "# 11. Print a and d. Notice the difference and relation of the two array in terms of the values? Explain."
   ]
  },
  {
   "cell_type": "code",
   "execution_count": 11,
   "metadata": {},
   "outputs": [
    {
     "name": "stdout",
     "output_type": "stream",
     "text": [
      "a\n",
      "[[[0.92908285 0.08738185 0.63700285 0.85827313 0.70112754]\n",
      "  [0.66479305 0.08173102 0.38185062 0.06250517 0.70014753]\n",
      "  [0.74279749 0.22003722 0.24296835 0.30920813 0.53224183]]\n",
      "\n",
      " [[0.90241464 0.36361518 0.64325267 0.27904856 0.78588251]\n",
      "  [0.65242106 0.0582239  0.11352888 0.433698   0.14107852]\n",
      "  [0.86403796 0.69861859 0.98393144 0.38780823 0.16879465]]]\n",
      "\n",
      "\n",
      "d\n",
      "[[[1.92908285 1.08738185 1.63700285 1.85827313 1.70112754]\n",
      "  [1.66479305 1.08173102 1.38185062 1.06250517 1.70014753]\n",
      "  [1.74279749 1.22003722 1.24296835 1.30920813 1.53224183]]\n",
      "\n",
      " [[1.90241464 1.36361518 1.64325267 1.27904856 1.78588251]\n",
      "  [1.65242106 1.0582239  1.11352888 1.433698   1.14107852]\n",
      "  [1.86403796 1.69861859 1.98393144 1.38780823 1.16879465]]]\n"
     ]
    }
   ],
   "source": [
    "print ('a')\n",
    "print (a)\n",
    "print ('')\n",
    "print ('')\n",
    "print ('d')\n",
    "print (d)\n",
    "# se ha sumado 1 a todos los elementos de la matriz a y resulta d"
   ]
  },
  {
   "cell_type": "markdown",
   "metadata": {},
   "source": [
    "# 12. Multiply a and c. Assign the result to e."
   ]
  },
  {
   "cell_type": "code",
   "execution_count": 12,
   "metadata": {},
   "outputs": [
    {
     "name": "stdout",
     "output_type": "stream",
     "text": [
      "[[[0.92908285 0.08738185 0.63700285 0.85827313 0.70112754]\n",
      "  [0.66479305 0.08173102 0.38185062 0.06250517 0.70014753]\n",
      "  [0.74279749 0.22003722 0.24296835 0.30920813 0.53224183]]\n",
      "\n",
      " [[0.90241464 0.36361518 0.64325267 0.27904856 0.78588251]\n",
      "  [0.65242106 0.0582239  0.11352888 0.433698   0.14107852]\n",
      "  [0.86403796 0.69861859 0.98393144 0.38780823 0.16879465]]]\n"
     ]
    }
   ],
   "source": [
    "e=np.multiply(a, c)\n",
    "print (e)"
   ]
  },
  {
   "cell_type": "markdown",
   "metadata": {},
   "source": [
    "# 13. Does e equal to a? Why or why not?"
   ]
  },
  {
   "cell_type": "code",
   "execution_count": 13,
   "metadata": {},
   "outputs": [
    {
     "name": "stdout",
     "output_type": "stream",
     "text": [
      "[[[ True  True  True  True  True]\n",
      "  [ True  True  True  True  True]\n",
      "  [ True  True  True  True  True]]\n",
      "\n",
      " [[ True  True  True  True  True]\n",
      "  [ True  True  True  True  True]\n",
      "  [ True  True  True  True  True]]]\n"
     ]
    }
   ],
   "source": [
    "print (e==a)\n",
    "# la matriz a y la matriz e son iguales porque el producto elemento a elemento es con c, \n",
    "# que es una matriz con todos los elementos igual a  1"
   ]
  },
  {
   "cell_type": "markdown",
   "metadata": {},
   "source": [
    "# 14. Identify the max, min, and mean values in d. Assign those values to variables \"d_max\", \"d_min\", and \"d_mean\""
   ]
  },
  {
   "cell_type": "code",
   "execution_count": 14,
   "metadata": {},
   "outputs": [
    {
     "name": "stdout",
     "output_type": "stream",
     "text": [
      "1.9839314404963921\n",
      "1.058223900064513\n",
      "1.487583446830883\n"
     ]
    }
   ],
   "source": [
    "d_max=np.max(d)\n",
    "d_min=np.min(d)\n",
    "d_mean=np.mean(d)\n",
    "print (d_max)\n",
    "print (d_min)\n",
    "print (d_mean)"
   ]
  },
  {
   "cell_type": "markdown",
   "metadata": {},
   "source": [
    "# 15. Now we want to label the values in d. First create an empty array \"f\" with the same shape (i.e. 2x3x5) as d using `np.empty`.\n"
   ]
  },
  {
   "cell_type": "code",
   "execution_count": 15,
   "metadata": {},
   "outputs": [
    {
     "name": "stdout",
     "output_type": "stream",
     "text": [
      "[[[0.92908285 0.08738185 0.63700285 0.85827313 0.70112754]\n",
      "  [0.66479305 0.08173102 0.38185062 0.06250517 0.70014753]\n",
      "  [0.74279749 0.22003722 0.24296835 0.30920813 0.53224183]]\n",
      "\n",
      " [[0.90241464 0.36361518 0.64325267 0.27904856 0.78588251]\n",
      "  [0.65242106 0.0582239  0.11352888 0.433698   0.14107852]\n",
      "  [0.86403796 0.69861859 0.98393144 0.38780823 0.16879465]]]\n"
     ]
    }
   ],
   "source": [
    "f=np.empty((2, 3, 5))\n",
    "print (f)\n",
    "# empty no significa vacio, significa que no inicializa elementos"
   ]
  },
  {
   "cell_type": "markdown",
   "metadata": {},
   "source": [
    "# 16. Populate the values in f. For each value in d, if it's larger than d_min but smaller than d_mean, assign 25 to the corresponding value in f.\n",
    "If a value in d is larger than d_mean but smaller than d_max, assign 75 to the corresponding value in f.\n",
    "If a value equals to d_mean, assign 50 to the corresponding value in f.\n",
    "Assign 0 to the corresponding value(s) in f for d_min in d.\n",
    "Assign 100 to the corresponding value(s) in f for d_max in d.\n",
    "In the end, f should have only the following values: 0, 25, 50, 75, and 100.\n",
    "Note: you don't have to use Numpy in this question."
   ]
  },
  {
   "cell_type": "code",
   "execution_count": 16,
   "metadata": {},
   "outputs": [
    {
     "name": "stdout",
     "output_type": "stream",
     "text": [
      "[[[ 75.  25.  75.  75.  75.]\n",
      "  [ 75.  25.  25.  25.  75.]\n",
      "  [ 75.  25.  25.  25.  75.]]\n",
      "\n",
      " [[ 75.  25.  75.  25.  75.]\n",
      "  [ 75.   0.  25.  25.  25.]\n",
      "  [ 75.  75. 100.  25.  25.]]]\n"
     ]
    }
   ],
   "source": [
    "for i in range(d.shape[0]):\n",
    "    for j in range(d.shape[1]):\n",
    "        for k in range(d.shape[2]):\n",
    "            if d_min==d[i][j][k]:\n",
    "                f[i][j][k]=0\n",
    "            elif d_min<d[i][j][k] and d[i][j][k]<d_mean:\n",
    "                f[i][j][k]=25\n",
    "            elif d_mean==d[i][j][k]:\n",
    "                f[i][j][k]=50\n",
    "            elif d_mean<d[i][j][k] and d[i][j][k]<d_max:\n",
    "                f[i][j][k]=75\n",
    "            elif d[i][j][k]==d_max:\n",
    "                f[i][j][k]=100\n",
    "\n",
    "#print (d)\n",
    "print (f)\n",
    "# si, correcto"
   ]
  },
  {
   "cell_type": "markdown",
   "metadata": {},
   "source": [
    "# 18. Bonus question: instead of using numbers (i.e. 0, 25, 50, 75, and 100), how to use string values \n",
    "(\"A\", \"B\", \"C\", \"D\", and \"E\") to label the array elements? You are expecting the result to be:"
   ]
  },
  {
   "cell_type": "code",
   "execution_count": 17,
   "metadata": {},
   "outputs": [
    {
     "name": "stdout",
     "output_type": "stream",
     "text": [
      "[[['D' 'B' 'D' 'D' 'D']\n",
      "  ['D' 'B' 'B' 'B' 'D']\n",
      "  ['D' 'B' 'B' 'B' 'D']]\n",
      "\n",
      " [['D' 'B' 'D' 'B' 'D']\n",
      "  ['D' 'A' 'B' 'B' 'B']\n",
      "  ['D' 'D' 'E' 'B' 'B']]]\n"
     ]
    }
   ],
   "source": [
    "\n",
    "f=np.ndarray.astype(f, dtype=str)\n",
    "for i in range(d.shape[0]):\n",
    "    for j in range(d.shape[1]):\n",
    "        for k in range(d.shape[2]):\n",
    "            if d_min==d[i][j][k]:\n",
    "                f[i][j][k]=\"A\"\n",
    "            elif d_min<d[i][j][k] and d[i][j][k]<d_mean:\n",
    "                f[i][j][k]=\"B\"\n",
    "            elif d_mean==d[i][j][k]:\n",
    "                f[i][j][k]=\"C\"\n",
    "            elif d_mean<d[i][j][k] and d[i][j][k]<d_max:\n",
    "                f[i][j][k]=\"D\"\n",
    "            elif d[i][j][k]==d_max:\n",
    "                f[i][j][k]=\"E\"\n",
    "\n",
    "print (f)\n",
    "\n"
   ]
  },
  {
   "cell_type": "code",
   "execution_count": null,
   "metadata": {},
   "outputs": [],
   "source": []
  }
 ],
 "metadata": {
  "kernelspec": {
   "display_name": "Python 3",
   "language": "python",
   "name": "python3"
  },
  "language_info": {
   "codemirror_mode": {
    "name": "ipython",
    "version": 3
   },
   "file_extension": ".py",
   "mimetype": "text/x-python",
   "name": "python",
   "nbconvert_exporter": "python",
   "pygments_lexer": "ipython3",
   "version": "3.7.9"
  },
  "varInspector": {
   "cols": {
    "lenName": 16,
    "lenType": 16,
    "lenVar": 40
   },
   "kernels_config": {
    "python": {
     "delete_cmd_postfix": "",
     "delete_cmd_prefix": "del ",
     "library": "var_list.py",
     "varRefreshCmd": "print(var_dic_list())"
    },
    "r": {
     "delete_cmd_postfix": ") ",
     "delete_cmd_prefix": "rm(",
     "library": "var_list.r",
     "varRefreshCmd": "cat(var_dic_list()) "
    }
   },
   "types_to_exclude": [
    "module",
    "function",
    "builtin_function_or_method",
    "instance",
    "_Feature"
   ],
   "window_display": false
  }
 },
 "nbformat": 4,
 "nbformat_minor": 2
}
