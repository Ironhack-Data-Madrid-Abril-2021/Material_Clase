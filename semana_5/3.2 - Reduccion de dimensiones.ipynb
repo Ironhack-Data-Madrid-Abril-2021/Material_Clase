{
 "cells": [
  {
   "cell_type": "markdown",
   "id": "c3c95002",
   "metadata": {},
   "source": [
    "# 3.2 - Reduccion de dimensiones\n",
    "\n",
    "### PCA  (análisis de componente principal)\n",
    "\n",
    "**PCA** es una transformación lineal usada para reducir dimensiones en los datos.\n",
    "\n",
    "¿Por qué reducir dimensiones?\n",
    "\n",
    "Existen varias razones, entre ellas:\n",
    "+ Mejora de la performance\n",
    "+ Mejor manejo de la dispersión de los datos\n",
    "+ Maldición de las dimensiones (ojo-también existe la bendición)\n",
    "+ etc...\n",
    "\n",
    "\n",
    "Hay dos maneras diferentes de hacer ésta transformación:\n",
    "\n",
    "+ A través de la matriz de correlaciones (dimensiones no homogéneas)\n",
    "+ A través de la matriz de covarianzas (dimensiones homogéneas)\n",
    "\n",
    "Ambas matrices son simétricas y diagonalizables. De hecho, el Teorema Espectral dice que si una matriz es hermítica, cuadrada y de dimensión finita, entonces existe una base de vectores propios donde dicha matriz puede ser representada.\n",
    "Esto quiere decir que podemos cambiar de base para después proyectar, reduciendo las dimensiones e intentando conservar la máxima información en el nuevo subespacio."
   ]
  },
  {
   "cell_type": "markdown",
   "id": "f21d4834",
   "metadata": {},
   "source": [
    "![gio1](images/gioconda.jpeg)\n",
    "![gio2](images/gioconda_lego.png)"
   ]
  },
  {
   "cell_type": "markdown",
   "id": "d9237d55",
   "metadata": {},
   "source": [
    "#### Ejemplo intuitivo"
   ]
  },
  {
   "cell_type": "code",
   "execution_count": 1,
   "id": "7be371c7",
   "metadata": {},
   "outputs": [],
   "source": [
    "import pylab as plt\n",
    "%matplotlib inline"
   ]
  },
  {
   "cell_type": "code",
   "execution_count": 2,
   "id": "918c2dd8",
   "metadata": {},
   "outputs": [
    {
     "data": {
      "image/png": "[encoded data removed]",
      "text/plain": [
       "<Figure size 720x360 with 1 Axes>"
      ]
     },
     "metadata": {
      "needs_background": "light"
     },
     "output_type": "display_data"
    }
   ],
   "source": [
    "plt.figure(figsize=(10, 5))\n",
    "plt.scatter([i for i in range(15)],\n",
    "            [i+1 if i%2==0 else i-1 for i in range(15)])\n",
    "\n",
    "plt.quiver(7, 7, 9, 4, color='r', scale=20)\n",
    "plt.quiver(7, 7, -9, -4, color='r', scale=20)\n",
    "plt.plot(7, 8, marker='$PC1$', ms=30, color='r')\n",
    "\n",
    "plt.quiver(9, 9, -5, 4, color='b', scale=40)\n",
    "plt.quiver(9, 9, 5, -4, color='b', scale=40)\n",
    "plt.plot(8, 12, marker='$PC2$', ms=30, color='b');"
   ]
  },
  {
   "cell_type": "markdown",
   "id": "32fe9a13",
   "metadata": {},
   "source": [
    "Se rota y se proyecta, resultando:"
   ]
  },
  {
   "cell_type": "code",
   "execution_count": 3,
   "id": "d8a43b84",
   "metadata": {},
   "outputs": [
    {
     "data": {
      "image/png": "[encoded data removed]",
      "text/plain": [
       "<Figure size 720x360 with 1 Axes>"
      ]
     },
     "metadata": {
      "needs_background": "light"
     },
     "output_type": "display_data"
    }
   ],
   "source": [
    "plt.figure(figsize=(10, 5))\n",
    "plt.scatter([i for i in range(15)],\n",
    "            [6 for i in range(15)])\n",
    "\n",
    "plt.quiver(7, 6, 7, 0, color='r', scale=20)\n",
    "plt.quiver(7, 6, -7, 0, color='r', scale=20)\n",
    "plt.plot(7, 6.25, marker='$PC1$', ms=30, color='r');"
   ]
  },
  {
   "cell_type": "markdown",
   "id": "7f1d0035",
   "metadata": {},
   "source": [
    "**Combinacion lineal**\n",
    "\n",
    "$v1>$ vector 1\n",
    "\n",
    "$v2>$ vector 2\n",
    "\n",
    "comb lineal = 2·$v1$ - 4·$v2$\n",
    "\n",
    "**Combinacion no lineal**\n",
    "\n",
    "comb no lineal = 2·$v1$·$v2$"
   ]
  },
  {
   "cell_type": "markdown",
   "id": "4c6799d9",
   "metadata": {},
   "source": [
    "##### Resumen PCA\n",
    "\n",
    "+ Normalización de los datos\n",
    "+ Obtener base de vectores propios desde matriz de correlacion o covarianza\n",
    "+ Ordenar los vectores propios de mayor a menor según sus dimensiones en el nuevo subespacio\n",
    "+ Matriz de proyección, con los autovectores seleccionados (W)\n",
    "+ Se transforma X (los datos) según W (matriz de proyección)"
   ]
  },
  {
   "cell_type": "code",
   "execution_count": null,
   "id": "be22e444",
   "metadata": {},
   "outputs": [],
   "source": []
  },
  {
   "cell_type": "code",
   "execution_count": null,
   "id": "9029aba5",
   "metadata": {},
   "outputs": [],
   "source": []
  },
  {
   "cell_type": "code",
   "execution_count": null,
   "id": "c8b0fed4",
   "metadata": {},
   "outputs": [],
   "source": []
  },
  {
   "cell_type": "markdown",
   "id": "14526b4a",
   "metadata": {},
   "source": [
    "#### normalización\n",
    "\n",
    "Recordemos, el primer paso de PCA es la normalización de los datos. \n",
    "\n",
    "Primero, veamos la **estandarización**  ($N(\\mu, \\sigma)$):\n",
    "\n",
    "$$\\frac{x-\\mu}{\\frac{\\sigma}{\\sqrt{n}}}$$"
   ]
  },
  {
   "cell_type": "code",
   "execution_count": null,
   "id": "9ac2461c",
   "metadata": {},
   "outputs": [],
   "source": []
  },
  {
   "cell_type": "markdown",
   "id": "9e378a25",
   "metadata": {},
   "source": [
    "Ahora el **MinMax** :\n",
    "\n",
    "$$\\frac{x-min}{max-min}$$"
   ]
  },
  {
   "cell_type": "code",
   "execution_count": null,
   "id": "c2b84c7d",
   "metadata": {},
   "outputs": [],
   "source": []
  },
  {
   "cell_type": "markdown",
   "id": "cfeff355",
   "metadata": {},
   "source": [
    "Se usa la standarización:"
   ]
  },
  {
   "cell_type": "code",
   "execution_count": null,
   "id": "4c3e9f5b",
   "metadata": {},
   "outputs": [],
   "source": []
  },
  {
   "cell_type": "markdown",
   "id": "a022dc71",
   "metadata": {},
   "source": [
    "Se aplica **PCA**"
   ]
  },
  {
   "cell_type": "code",
   "execution_count": null,
   "id": "12184a2f",
   "metadata": {},
   "outputs": [],
   "source": []
  },
  {
   "cell_type": "code",
   "execution_count": null,
   "id": "8ebe3cf5",
   "metadata": {},
   "outputs": [],
   "source": []
  },
  {
   "cell_type": "code",
   "execution_count": null,
   "id": "eeee2409",
   "metadata": {},
   "outputs": [],
   "source": []
  },
  {
   "cell_type": "code",
   "execution_count": null,
   "id": "8f6f309b",
   "metadata": {},
   "outputs": [],
   "source": []
  },
  {
   "cell_type": "code",
   "execution_count": null,
   "id": "c6cb1d74",
   "metadata": {},
   "outputs": [],
   "source": []
  },
  {
   "cell_type": "markdown",
   "id": "0635f200",
   "metadata": {},
   "source": [
    "### ICA (análisis de componente independiente)\n",
    "\n",
    "Es la generalización de PCA. También es una transformación lineal, pero no requiere que los datos sigan una distribución Normal.\n",
    "\n",
    "\n",
    "### Ejemplo\n",
    "##### Problema de la fiesta:\n",
    "Se intentan separar la voces de una grabación de audio..."
   ]
  },
  {
   "cell_type": "code",
   "execution_count": null,
   "id": "3f7d2392",
   "metadata": {},
   "outputs": [],
   "source": []
  },
  {
   "cell_type": "code",
   "execution_count": null,
   "id": "cf6226ae",
   "metadata": {},
   "outputs": [],
   "source": []
  },
  {
   "cell_type": "code",
   "execution_count": null,
   "id": "2a3d5780",
   "metadata": {},
   "outputs": [],
   "source": []
  },
  {
   "cell_type": "code",
   "execution_count": null,
   "id": "cc44d463",
   "metadata": {},
   "outputs": [],
   "source": []
  },
  {
   "cell_type": "code",
   "execution_count": null,
   "id": "574c0aca",
   "metadata": {},
   "outputs": [],
   "source": []
  },
  {
   "cell_type": "code",
   "execution_count": null,
   "id": "b62c2454",
   "metadata": {},
   "outputs": [],
   "source": []
  },
  {
   "cell_type": "code",
   "execution_count": null,
   "id": "9e5982a7",
   "metadata": {},
   "outputs": [],
   "source": []
  },
  {
   "cell_type": "markdown",
   "id": "784737e7",
   "metadata": {},
   "source": [
    "### UMAP (uniform manifold aprox and projection)\n",
    "\n",
    "Tiene dos pasos:\n",
    "\n",
    "+ KNN con pesos, según topología (grafo)\n",
    "+ Se reduce la dimensión basándose en esa topología\n",
    "\n",
    "https://umap-learn.readthedocs.io/en/latest/"
   ]
  },
  {
   "cell_type": "code",
   "execution_count": null,
   "id": "56ac5ecd",
   "metadata": {},
   "outputs": [],
   "source": []
  },
  {
   "cell_type": "code",
   "execution_count": null,
   "id": "7f139748",
   "metadata": {},
   "outputs": [],
   "source": []
  },
  {
   "cell_type": "code",
   "execution_count": null,
   "id": "866a9f08",
   "metadata": {},
   "outputs": [],
   "source": []
  },
  {
   "cell_type": "code",
   "execution_count": null,
   "id": "0ed87db9",
   "metadata": {},
   "outputs": [],
   "source": []
  },
  {
   "cell_type": "code",
   "execution_count": null,
   "id": "cf9453df",
   "metadata": {},
   "outputs": [],
   "source": []
  },
  {
   "cell_type": "markdown",
   "id": "24a6fc1c",
   "metadata": {},
   "source": [
    "### t-SNE\n",
    "\n",
    "**t-Distributed Stochastic Neighbor Embbeding**\n",
    "\n",
    "Convierte similitudes entre los datos en probabilidad conjunta y trata de minimizar la divergencia _Kullback-Leibler_ (entropía relativa):\n",
    "\n",
    "$$D_{KL}(P|Q)=\\sum P(x)log(\\frac{P(x)}{Q(x)})$$\n",
    "\n",
    "https://scikit-learn.org/stable/auto_examples/manifold/plot_t_sne_perplexity.html"
   ]
  },
  {
   "cell_type": "code",
   "execution_count": null,
   "id": "30f77a8d",
   "metadata": {},
   "outputs": [],
   "source": []
  },
  {
   "cell_type": "code",
   "execution_count": null,
   "id": "4a69d05a",
   "metadata": {},
   "outputs": [],
   "source": []
  },
  {
   "cell_type": "code",
   "execution_count": null,
   "id": "bfcb86b8",
   "metadata": {},
   "outputs": [],
   "source": []
  },
  {
   "cell_type": "code",
   "execution_count": null,
   "id": "dd19d887",
   "metadata": {},
   "outputs": [],
   "source": []
  }
 ],
 "metadata": {
  "kernelspec": {
   "display_name": "clase",
   "language": "python",
   "name": "clase"
  },
  "language_info": {
   "codemirror_mode": {
    "name": "ipython",
    "version": 3
   },
   "file_extension": ".py",
   "mimetype": "text/x-python",
   "name": "python",
   "nbconvert_exporter": "python",
   "pygments_lexer": "ipython3",
   "version": "3.7.10"
  },
  "varInspector": {
   "cols": {
    "lenName": 16,
    "lenType": 16,
    "lenVar": 40
   },
   "kernels_config": {
    "python": {
     "delete_cmd_postfix": "",
     "delete_cmd_prefix": "del ",
     "library": "var_list.py",
     "varRefreshCmd": "print(var_dic_list())"
    },
    "r": {
     "delete_cmd_postfix": ") ",
     "delete_cmd_prefix": "rm(",
     "library": "var_list.r",
     "varRefreshCmd": "cat(var_dic_list()) "
    }
   },
   "types_to_exclude": [
    "module",
    "function",
    "builtin_function_or_method",
    "instance",
    "_Feature"
   ],
   "window_display": false
  }
 },
 "nbformat": 4,
 "nbformat_minor": 5
}
