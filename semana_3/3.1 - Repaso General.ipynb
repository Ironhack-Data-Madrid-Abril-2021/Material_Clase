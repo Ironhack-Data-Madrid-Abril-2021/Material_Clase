{
 "cells": [
  {
   "cell_type": "markdown",
   "id": "42ffc6b9",
   "metadata": {},
   "source": [
    "# 3.1 - Repaso General"
   ]
  },
  {
   "cell_type": "markdown",
   "id": "5c47d946",
   "metadata": {},
   "source": [
    "### Loops"
   ]
  },
  {
   "cell_type": "code",
   "execution_count": 2,
   "id": "c6e8d51e",
   "metadata": {},
   "outputs": [],
   "source": [
    "# iterables , que se puede recorrer\n",
    "\n",
    "lst_str=['fsdf', 'rewtwr', 'treqtqret', 'hola', 'ryebfuwb', 'tegegeg', 'fwjqfgq']\n",
    "\n",
    "lst_lst=[\n",
    "    [1,2,3,4],\n",
    "    ['a', 'r', '5'],\n",
    "    [{'hola':'que tal', 'adios':'hasta luego chato'},\n",
    "    'dentro']\n",
    "]\n",
    "\n",
    "dictio={'a':45, 'b':[1, 3, 5, 6], 'c':'hola', 4:{1:'a', 2:'b'}}\n",
    "\n",
    "string='kwdgfjnowjkgnowergnoweitgno2i45ogin2oinyr'"
   ]
  },
  {
   "cell_type": "code",
   "execution_count": 3,
   "id": "ca1acef3",
   "metadata": {},
   "outputs": [
    {
     "data": {
      "text/plain": [
       "['fsdf', 'rewtwr', 'treqtqret', 'hola', 'ryebfuwb', 'tegegeg', 'fwjqfgq']"
      ]
     },
     "execution_count": 3,
     "metadata": {},
     "output_type": "execute_result"
    }
   ],
   "source": [
    "lst_str"
   ]
  },
  {
   "cell_type": "code",
   "execution_count": 4,
   "id": "c0f3b970",
   "metadata": {},
   "outputs": [
    {
     "data": {
      "text/plain": [
       "[[1, 2, 3, 4],\n",
       " ['a', 'r', '5'],\n",
       " [{'hola': 'que tal', 'adios': 'hasta luego chato'}, 'dentro']]"
      ]
     },
     "execution_count": 4,
     "metadata": {},
     "output_type": "execute_result"
    }
   ],
   "source": [
    "lst_lst"
   ]
  },
  {
   "cell_type": "code",
   "execution_count": 5,
   "id": "0336a761",
   "metadata": {},
   "outputs": [
    {
     "data": {
      "text/plain": [
       "{'a': 45, 'b': [1, 3, 5, 6], 'c': 'hola', 4: {1: 'a', 2: 'b'}}"
      ]
     },
     "execution_count": 5,
     "metadata": {},
     "output_type": "execute_result"
    }
   ],
   "source": [
    "dictio"
   ]
  },
  {
   "cell_type": "code",
   "execution_count": 6,
   "id": "1ab38c8f",
   "metadata": {},
   "outputs": [
    {
     "data": {
      "text/plain": [
       "'kwdgfjnowjkgnowergnoweitgno2i45ogin2oinyr'"
      ]
     },
     "execution_count": 6,
     "metadata": {},
     "output_type": "execute_result"
    }
   ],
   "source": [
    "string"
   ]
  },
  {
   "cell_type": "code",
   "execution_count": 12,
   "id": "95f3b860",
   "metadata": {},
   "outputs": [
    {
     "name": "stdout",
     "output_type": "stream",
     "text": [
      "fsdf\n",
      "rewtwr\n",
      "treqtqret\n",
      "hola\n",
      "ryebfuwb\n",
      "tegegeg\n",
      "fwjqfgq\n"
     ]
    }
   ],
   "source": [
    "# bucle, para recorrer un iterable\n",
    "# bucles for, tienen 3 tipos\n",
    "\n",
    "# 1er tipo: recorrer por indice\n",
    "\n",
    "for indice in range(len(lst_str)):  # recorre la lista por indice y printea cada elemento\n",
    "    print(lst_str[indice])"
   ]
  },
  {
   "cell_type": "code",
   "execution_count": 10,
   "id": "d72b3e86",
   "metadata": {},
   "outputs": [
    {
     "name": "stdout",
     "output_type": "stream",
     "text": [
      "f\n",
      "s\n",
      "d\n",
      "f\n",
      "r\n",
      "e\n",
      "w\n",
      "t\n",
      "w\n",
      "r\n",
      "t\n",
      "r\n",
      "e\n",
      "q\n",
      "t\n",
      "q\n",
      "r\n",
      "e\n",
      "t\n",
      "h\n",
      "o\n",
      "l\n",
      "a\n",
      "r\n",
      "y\n",
      "e\n",
      "b\n",
      "f\n",
      "u\n",
      "w\n",
      "b\n",
      "t\n",
      "e\n",
      "g\n",
      "e\n",
      "g\n",
      "e\n",
      "g\n",
      "f\n",
      "w\n",
      "j\n",
      "q\n",
      "f\n",
      "g\n",
      "q\n"
     ]
    }
   ],
   "source": [
    "# doble bucle sobre el indice \n",
    "\n",
    "for indice in range(len(lst_str)):              # recorre la lista por indice \n",
    "    for letra in range(len(lst_str[indice])):   # recorre la string caracter por caracter por indice\n",
    "        print(lst_str[indice][letra])\n",
    "    "
   ]
  },
  {
   "cell_type": "code",
   "execution_count": 13,
   "id": "82e32ff2",
   "metadata": {},
   "outputs": [
    {
     "name": "stdout",
     "output_type": "stream",
     "text": [
      "fsdf\n",
      "rewtwr\n",
      "treqtqret\n",
      "hola\n",
      "ryebfuwb\n",
      "tegegeg\n",
      "fwjqfgq\n"
     ]
    }
   ],
   "source": [
    "# 2º tipo de bucle, recorrer por elemento\n",
    "\n",
    "for elemento in lst_str:   # NO recorre por indice, recorre por elemento\n",
    "    print(elemento)"
   ]
  },
  {
   "cell_type": "code",
   "execution_count": 14,
   "id": "cae42970",
   "metadata": {},
   "outputs": [
    {
     "name": "stdout",
     "output_type": "stream",
     "text": [
      "f\n",
      "s\n",
      "d\n",
      "f\n",
      "r\n",
      "e\n",
      "w\n",
      "t\n",
      "w\n",
      "r\n",
      "t\n",
      "r\n",
      "e\n",
      "q\n",
      "t\n",
      "q\n",
      "r\n",
      "e\n",
      "t\n",
      "h\n",
      "o\n",
      "l\n",
      "a\n",
      "r\n",
      "y\n",
      "e\n",
      "b\n",
      "f\n",
      "u\n",
      "w\n",
      "b\n",
      "t\n",
      "e\n",
      "g\n",
      "e\n",
      "g\n",
      "e\n",
      "g\n",
      "f\n",
      "w\n",
      "j\n",
      "q\n",
      "f\n",
      "g\n",
      "q\n"
     ]
    }
   ],
   "source": [
    "for elemento in lst_str:   # NO recorre por indice, recorre por elemento\n",
    "    for letra in elemento:\n",
    "        print(letra)"
   ]
  },
  {
   "cell_type": "code",
   "execution_count": 16,
   "id": "788457f5",
   "metadata": {},
   "outputs": [
    {
     "name": "stdout",
     "output_type": "stream",
     "text": [
      "Primera lista:  fsdf Segunda lista:  [1, 2, 3, 4]\n",
      "Primera lista:  rewtwr Segunda lista:  ['a', 'r', '5']\n",
      "Primera lista:  treqtqret Segunda lista:  [{'hola': 'que tal', 'adios': 'hasta luego chato'}, 'dentro']\n"
     ]
    }
   ],
   "source": [
    "# con dos iterables diferentes\n",
    "\n",
    "for indice in range(3):\n",
    "    print('Primera lista: ', lst_str[indice], 'Segunda lista: ', lst_lst[indice])"
   ]
  },
  {
   "cell_type": "code",
   "execution_count": 19,
   "id": "21ac2ce5",
   "metadata": {},
   "outputs": [
    {
     "name": "stdout",
     "output_type": "stream",
     "text": [
      "Indice:  0 ---- Elemento:  fsdf\n",
      "Indice:  1 ---- Elemento:  rewtwr\n",
      "Indice:  2 ---- Elemento:  treqtqret\n",
      "Indice:  3 ---- Elemento:  hola\n",
      "Indice:  4 ---- Elemento:  ryebfuwb\n",
      "Indice:  5 ---- Elemento:  tegegeg\n",
      "Indice:  6 ---- Elemento:  fwjqfgq\n"
     ]
    }
   ],
   "source": [
    "# 3er tipo: las cosas a la vez\n",
    "\n",
    "for indice,elemento in enumerate(lst_str):\n",
    "    print('Indice: ', indice, '---- Elemento: ', elemento)"
   ]
  },
  {
   "cell_type": "code",
   "execution_count": 21,
   "id": "ab7ebb09",
   "metadata": {},
   "outputs": [
    {
     "data": {
      "text/plain": [
       "[(0, 'fsdf'),\n",
       " (1, 'rewtwr'),\n",
       " (2, 'treqtqret'),\n",
       " (3, 'hola'),\n",
       " (4, 'ryebfuwb'),\n",
       " (5, 'tegegeg'),\n",
       " (6, 'fwjqfgq')]"
      ]
     },
     "execution_count": 21,
     "metadata": {},
     "output_type": "execute_result"
    }
   ],
   "source": [
    "list(enumerate(lst_str))"
   ]
  },
  {
   "cell_type": "code",
   "execution_count": 22,
   "id": "f861bd3b",
   "metadata": {},
   "outputs": [
    {
     "data": {
      "text/plain": [
       "dict_keys(['a', 'b', 'c', 4])"
      ]
     },
     "execution_count": 22,
     "metadata": {},
     "output_type": "execute_result"
    }
   ],
   "source": [
    "# con un diccionario\n",
    "\n",
    "dictio.keys()"
   ]
  },
  {
   "cell_type": "code",
   "execution_count": 23,
   "id": "023a4be0",
   "metadata": {},
   "outputs": [
    {
     "data": {
      "text/plain": [
       "dict_values([45, [1, 3, 5, 6], 'hola', {1: 'a', 2: 'b'}])"
      ]
     },
     "execution_count": 23,
     "metadata": {},
     "output_type": "execute_result"
    }
   ],
   "source": [
    "dictio.values()"
   ]
  },
  {
   "cell_type": "code",
   "execution_count": 24,
   "id": "c9b8a1ed",
   "metadata": {},
   "outputs": [
    {
     "data": {
      "text/plain": [
       "dict_items([('a', 45), ('b', [1, 3, 5, 6]), ('c', 'hola'), (4, {1: 'a', 2: 'b'})])"
      ]
     },
     "execution_count": 24,
     "metadata": {},
     "output_type": "execute_result"
    }
   ],
   "source": [
    "dictio.items()"
   ]
  },
  {
   "cell_type": "code",
   "execution_count": 25,
   "id": "a8c4f286",
   "metadata": {},
   "outputs": [
    {
     "name": "stdout",
     "output_type": "stream",
     "text": [
      "a\n",
      "b\n",
      "c\n",
      "4\n"
     ]
    }
   ],
   "source": [
    "for elemento in dictio:  # solo las keys\n",
    "    print(elemento)"
   ]
  },
  {
   "cell_type": "code",
   "execution_count": 26,
   "id": "80dd5f7e",
   "metadata": {},
   "outputs": [
    {
     "name": "stdout",
     "output_type": "stream",
     "text": [
      "a\n",
      "b\n",
      "c\n",
      "4\n"
     ]
    }
   ],
   "source": [
    "for elemento in dictio.keys():  # solo las keys\n",
    "    print(elemento)"
   ]
  },
  {
   "cell_type": "code",
   "execution_count": 27,
   "id": "44025149",
   "metadata": {},
   "outputs": [
    {
     "name": "stdout",
     "output_type": "stream",
     "text": [
      "45\n",
      "[1, 3, 5, 6]\n",
      "hola\n",
      "{1: 'a', 2: 'b'}\n"
     ]
    }
   ],
   "source": [
    "for elemento in dictio:  # accediendo al valor\n",
    "    print(dictio[elemento])"
   ]
  },
  {
   "cell_type": "code",
   "execution_count": 28,
   "id": "e49e2e58",
   "metadata": {},
   "outputs": [
    {
     "name": "stdout",
     "output_type": "stream",
     "text": [
      "45\n",
      "[1, 3, 5, 6]\n",
      "hola\n",
      "{1: 'a', 2: 'b'}\n"
     ]
    }
   ],
   "source": [
    "for elemento in dictio.values():  # solo las keys\n",
    "    print(elemento)"
   ]
  },
  {
   "cell_type": "code",
   "execution_count": 31,
   "id": "cdca1ff4",
   "metadata": {},
   "outputs": [
    {
     "name": "stdout",
     "output_type": "stream",
     "text": [
      "No puedo hacer el loop alegre...\n",
      "1\n",
      "3\n",
      "5\n",
      "6\n",
      "h\n",
      "o\n",
      "l\n",
      "a\n",
      "1\n",
      "2\n"
     ]
    }
   ],
   "source": [
    "# doble bucle\n",
    "\n",
    "for valor in dictio.values():   # vas a recorrer los valores del dictio\n",
    "    \n",
    "    if type(valor)!=int:    # si el tipo de dato del valor es diferente de entero...\n",
    "        \n",
    "        for grupo in valor:  # ...recorre el valor\n",
    "            print(grupo)\n",
    "    \n",
    "    else:   # de otra manera me das feedback\n",
    "        print('No puedo hacer el loop alegre...')\n",
    "        \n",
    "        "
   ]
  },
  {
   "cell_type": "code",
   "execution_count": 32,
   "id": "5861b2dc",
   "metadata": {},
   "outputs": [
    {
     "name": "stdout",
     "output_type": "stream",
     "text": [
      "No puedo hacer el loop alegre...\n",
      "No puedo hacer el loop alegre...\n",
      "No puedo hacer el loop alegre...\n",
      "a\n",
      "b\n"
     ]
    }
   ],
   "source": [
    "# doble bucle, intentando entrar al valor del dictio segunda capa\n",
    "\n",
    "for valor in dictio.values():   # vas a recorrer los valores del dictio\n",
    "    \n",
    "    if type(valor)==dict:    # si el tipo de dato del valor es diferente de entero...\n",
    "        \n",
    "        for key in valor:  # ...recorre el valor\n",
    "            print(valor[key])\n",
    "    \n",
    "    else:   # de otra manera me das feedback\n",
    "        print('No puedo hacer el loop alegre...')\n",
    "        \n",
    "        "
   ]
  },
  {
   "cell_type": "markdown",
   "id": "6dd5fd2f",
   "metadata": {},
   "source": [
    "**while**"
   ]
  },
  {
   "cell_type": "code",
   "execution_count": 33,
   "id": "76ed9180",
   "metadata": {},
   "outputs": [],
   "source": [
    "while True:   # bucle infinito\n",
    "    break     # romper el bucle"
   ]
  },
  {
   "cell_type": "code",
   "execution_count": 37,
   "id": "8e51243e",
   "metadata": {},
   "outputs": [
    {
     "name": "stdout",
     "output_type": "stream",
     "text": [
      "Dentro de bucle...\n",
      "fsdffsdf\n",
      "\n",
      "Contador:  0\n",
      "\n",
      "Dentro de bucle...\n",
      "rewtwrrewtwr\n",
      "\n",
      "Contador:  1\n",
      "\n",
      "Dentro de bucle...\n",
      "treqtqrettreqtqret\n",
      "\n",
      "Contador:  2\n",
      "\n",
      "Dentro de bucle...\n",
      "holahola\n",
      "\n",
      "Contador:  3\n",
      "\n",
      "Dentro de bucle...\n",
      "ryebfuwbryebfuwb\n",
      "\n",
      "Contador:  4\n",
      "\n",
      "Dentro de bucle...\n",
      "tegegegtegegeg\n",
      "\n",
      "Contador:  5\n",
      "\n",
      "Dentro de bucle...\n",
      "fwjqfgqfwjqfgq\n",
      "\n",
      "Contador:  6\n",
      "\n",
      "Se acabo, fuera del bucle\n"
     ]
    }
   ],
   "source": [
    "# con control\n",
    "\n",
    "\n",
    "contador=0\n",
    "\n",
    "while contador<len(lst_str):\n",
    "    print('Dentro de bucle...')\n",
    "    a=lst_str[contador]*2\n",
    "    print(a)\n",
    "    print()\n",
    "    print('Contador: ', contador)\n",
    "    print()\n",
    "    contador += 1  # el contador no se actualiza si no se pone +=1\n",
    "    \n",
    "print('Se acabo, fuera del bucle')"
   ]
  },
  {
   "cell_type": "code",
   "execution_count": 41,
   "id": "6840facd",
   "metadata": {},
   "outputs": [
    {
     "name": "stdout",
     "output_type": "stream",
     "text": [
      "Primer loop\n",
      "Contador : 0\n",
      "Contador : 1\n",
      "Contador : 2\n",
      "Contador : 3\n",
      "Contador : 4\n",
      "Contador : 5\n",
      "Contador : 6\n",
      "Si, el dictio es mas pequeño...\n"
     ]
    }
   ],
   "source": [
    "while 1:\n",
    "    print('Primer loop')\n",
    "    \n",
    "    contador=0\n",
    "    \n",
    "    while contador<7:\n",
    "        print('Contador :', contador)\n",
    "        contador+=1\n",
    "        \n",
    "    if len(dictio)<10:   # si el dictio tiene mas de 10 keys, esto es un bucle infinito\n",
    "        print('Si, el dictio es mas pequeño...')\n",
    "        break\n",
    "    "
   ]
  },
  {
   "cell_type": "code",
   "execution_count": null,
   "id": "d28c024d",
   "metadata": {},
   "outputs": [],
   "source": []
  }
 ],
 "metadata": {
  "kernelspec": {
   "display_name": "clase",
   "language": "python",
   "name": "clase"
  },
  "language_info": {
   "codemirror_mode": {
    "name": "ipython",
    "version": 3
   },
   "file_extension": ".py",
   "mimetype": "text/x-python",
   "name": "python",
   "nbconvert_exporter": "python",
   "pygments_lexer": "ipython3",
   "version": "3.7.10"
  },
  "varInspector": {
   "cols": {
    "lenName": 16,
    "lenType": 16,
    "lenVar": 40
   },
   "kernels_config": {
    "python": {
     "delete_cmd_postfix": "",
     "delete_cmd_prefix": "del ",
     "library": "var_list.py",
     "varRefreshCmd": "print(var_dic_list())"
    },
    "r": {
     "delete_cmd_postfix": ") ",
     "delete_cmd_prefix": "rm(",
     "library": "var_list.r",
     "varRefreshCmd": "cat(var_dic_list()) "
    }
   },
   "types_to_exclude": [
    "module",
    "function",
    "builtin_function_or_method",
    "instance",
    "_Feature"
   ],
   "window_display": false
  }
 },
 "nbformat": 4,
 "nbformat_minor": 5
}
