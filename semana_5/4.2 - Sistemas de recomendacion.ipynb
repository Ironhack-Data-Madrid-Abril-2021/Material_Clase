{
 "cells": [
  {
   "cell_type": "markdown",
   "id": "4cae0d53",
   "metadata": {},
   "source": [
    "# 4.2 - Sistemas de recomendación\n",
    "\n",
    "\n",
    "#### Filtro Colaborativo\n",
    "\n",
    "Técnica utilizada por algunos sistemas recomendadores, los cuales  suelen incluir conjuntos de datos muy grandes. Hay dos tipos de filtros colaborativos:\n",
    "\n",
    "+ Basados en Usuarios (User-based):\n",
    "\n",
    "Se basan en una premisa simple de similitud entre gustos, es decir, en que si una persona A tiene la misma opinión que una persona B sobre un tema, A es más probable que tenga la misma opinión que B en otro tema diferente que la opinión que tendría una persona elegida azar. \n",
    "\n",
    "Tiene ciertos inconvenientes. \n",
    "Requiere evaluaciones previas, sin algunas evaluaciones de usuarios, no se tienen pistas sobre las evaluaciones de los nuevos usuarios.\n",
    "No es una matriz densa, usualmente los usuarios dan su rating sobre algunos items y no sobre toda la base de datos, lo que puede dificultar algunos casos por falta de datos pero puede ayudar ya que no se tiene que hacer los cálculos para todas las combinaciones posibles.\n",
    "Altos costos si los perfiles de usuarios cambian, si los gustos cambian o hay ruido en los datos (ejemplo, 2 personas usan la misma cuenta en el sistema) todo el modelo del sistema debe ser recalculado.\n",
    "\n",
    "+ Basados en Items (Items-based):\n",
    "\n",
    "Buscan la similitud entre elementos, utilizan distribuciones de calificación por artículo, no por usuario, lo que puede ayudar a sobrellevar algunos de los problemas de los modelos User-based. Con más usuarios que elementos, cada elemento tiende a tener más calificaciones que cada usuario, por lo que la calificación promedio de un elemento generalmente no cambia rápidamente. Esto conduce a distribuciones de calificación más estables en el modelo, por lo que no es necesario reconstruir el modelo con tanta frecuencia. Cuando los usuarios consumen y luego califican un artículo, los elementos similares de ese elemento se seleccionan del modelo de sistema existente y se agregan a las recomendaciones del usuario."
   ]
  },
  {
   "cell_type": "markdown",
   "id": "80119efb",
   "metadata": {},
   "source": [
    "### Ejemplo Peliculas (User-based)"
   ]
  },
  {
   "cell_type": "code",
   "execution_count": null,
   "id": "0ac6e2ac",
   "metadata": {},
   "outputs": [],
   "source": []
  },
  {
   "cell_type": "code",
   "execution_count": null,
   "id": "b8e62849",
   "metadata": {},
   "outputs": [],
   "source": []
  },
  {
   "cell_type": "code",
   "execution_count": null,
   "id": "5ea66603",
   "metadata": {},
   "outputs": [],
   "source": []
  },
  {
   "cell_type": "code",
   "execution_count": null,
   "id": "b79f4f6c",
   "metadata": {},
   "outputs": [],
   "source": [
    "def plot(m1, m2):\n",
    "    \n",
    "    x=ratings.T[m1]  # ratings de las peliculas\n",
    "    y=ratings.T[m2]\n",
    "    \n",
    "    n=list(ratings.T.index)  # nombres de los usuarios\n",
    "    \n",
    "    plt.figure(figsize=(10, 5))\n",
    "    \n",
    "    plt.scatter(x, y, s=0) # scatter vacio...para luego poner los nombres\n",
    "    \n",
    "    plt.title('Espacio para {} VS. {}'.format(m1, m2), fontsize=14)\n",
    "    plt.xlabel(m1, fontsize=14)\n",
    "    plt.ylabel(m2, fontsize=14)\n",
    "    \n",
    "    for i,e in enumerate(n):\n",
    "        plt.annotate(e, (x[i], y[i]), fontsize=12)  # se escribe el nombre en las posiciones correspondientes\n",
    "    plt.show();"
   ]
  },
  {
   "cell_type": "code",
   "execution_count": null,
   "id": "d8fb0ef0",
   "metadata": {},
   "outputs": [],
   "source": []
  },
  {
   "cell_type": "code",
   "execution_count": null,
   "id": "c03d8c4d",
   "metadata": {},
   "outputs": [],
   "source": []
  },
  {
   "cell_type": "code",
   "execution_count": null,
   "id": "504612ed",
   "metadata": {},
   "outputs": [],
   "source": []
  },
  {
   "cell_type": "code",
   "execution_count": null,
   "id": "dd00e8c0",
   "metadata": {},
   "outputs": [],
   "source": []
  },
  {
   "cell_type": "markdown",
   "id": "4872c4bc",
   "metadata": {},
   "source": [
    "##### metricas de distancia\n",
    "\n",
    "https://docs.scipy.org/doc/scipy/reference/generated/scipy.spatial.distance.pdist.html\n",
    "\n",
    "https://docs.scipy.org/doc/scipy-0.14.0/reference/generated/scipy.spatial.distance.squareform.html\n",
    "\n",
    "https://docs.scipy.org/doc/scipy-0.14.0/reference/spatial.distance.html"
   ]
  },
  {
   "cell_type": "markdown",
   "id": "e228570d",
   "metadata": {},
   "source": [
    "**euclidea**\n",
    "\n",
    "$$d=\\sqrt{x^2 + y^2}$$\n",
    "\n",
    "$$d=\\sqrt{x_1^2 + x_2^2 + \\ldots + x_n^2}$$"
   ]
  },
  {
   "cell_type": "markdown",
   "id": "c41f49bd",
   "metadata": {},
   "source": [
    "**cityblock - manhattan**\n",
    "\n",
    "$$d=x + y$$"
   ]
  },
  {
   "cell_type": "markdown",
   "id": "2fd9151c",
   "metadata": {},
   "source": [
    "**similitud del coseno**"
   ]
  },
  {
   "cell_type": "code",
   "execution_count": null,
   "id": "ad83fb37",
   "metadata": {},
   "outputs": [],
   "source": [
    "import scipy.spatial.distance as distance\n",
    "import numpy as np\n",
    "import math"
   ]
  },
  {
   "cell_type": "markdown",
   "id": "47dc082a",
   "metadata": {},
   "source": [
    "**producto escalar**\n",
    "\n",
    "$$(1, 2, 3)·(2, 1, 1)= 1·2 + 2·1 + 3·1 =7$$"
   ]
  },
  {
   "cell_type": "code",
   "execution_count": null,
   "id": "26c143e5",
   "metadata": {},
   "outputs": [],
   "source": [
    "def dot(v1, v2):\n",
    "    return sum(map(lambda x: x[0]*x[1], zip(v1,v2)))"
   ]
  },
  {
   "cell_type": "markdown",
   "id": "bc493695",
   "metadata": {},
   "source": [
    "$$\\cos{\\theta}=\\frac{v_{1}·v_{2}}{|v_{1}|·|v_{2}|}$$\n",
    "\n",
    "donde:\n",
    "\n",
    "$|V_{1}|=\\sqrt{x_1^2+x_2^2+x_3^2}$"
   ]
  },
  {
   "cell_type": "code",
   "execution_count": null,
   "id": "cee1ed60",
   "metadata": {},
   "outputs": [],
   "source": [
    "def similitud_coseno(v1, v2):\n",
    "    \n",
    "    prod=dot(v1, v2)\n",
    "    \n",
    "    len1=math.sqrt(dot(v1, v1))\n",
    "    len2=math.sqrt(dot(v2, v2))\n",
    "    \n",
    "    return prod/(len1*len2)"
   ]
  },
  {
   "cell_type": "code",
   "execution_count": null,
   "id": "8c38aafa",
   "metadata": {},
   "outputs": [],
   "source": [
    "def plot_v(v):\n",
    "    origen=(0,0)\n",
    "\n",
    "    plt.quiver(*origen, v[0,0], v[0,1], color=['r'], scale=60)\n",
    "    plt.quiver(*origen, v[1,0], v[1,1], color=['b'], scale=60)\n",
    "    \n",
    "    a=v[0]\n",
    "    b=v[1]\n",
    "    \n",
    "    sim_cos=similitud_coseno(a, b)\n",
    "    sim_euc=distance.euclidean(a, b)\n",
    "    \n",
    "    tit='Coseno: {}, Euclidea: {}'.format(sim_cos.round(2), sim_euc.round(2))\n",
    "    plt.title(tit)\n",
    "    plt.grid()\n",
    "    plt.legend(['A', 'B']);"
   ]
  },
  {
   "cell_type": "code",
   "execution_count": null,
   "id": "c0a40665",
   "metadata": {},
   "outputs": [],
   "source": [
    "plt.figure(figsize=(20,20))\n",
    "\n",
    "# caso 1\n",
    "v=np.array([[0,10], [0, 20]])\n",
    "plt.subplot(2,2,1)\n",
    "plot_v(v)\n",
    "\n",
    "# caso 2\n",
    "v=np.array([[10,10], [0, 20]])\n",
    "plt.subplot(2,2,2)\n",
    "plot_v(v)\n",
    "\n",
    "# caso 3\n",
    "v=np.array([[10,0], [0, 10]])\n",
    "plt.subplot(2,2,3)\n",
    "plot_v(v)\n",
    "\n",
    "# caso 4\n",
    "v=np.array([[0,5], [0, -5]])\n",
    "plt.subplot(2,2,4)\n",
    "plot_v(v)"
   ]
  },
  {
   "cell_type": "markdown",
   "id": "87ad686a",
   "metadata": {},
   "source": [
    "### Generar recomendaciones"
   ]
  },
  {
   "cell_type": "code",
   "execution_count": null,
   "id": "2c4e770b",
   "metadata": {},
   "outputs": [],
   "source": [
    "tom={'Aquaman': 2, \n",
    "     'Avengers: Infinity War':1, \n",
    "     'Black Panther':5,\n",
    "     'Bohemian Rhapsody':5, \n",
    "     'Deadpool 2':2,\n",
    "     'Fantastic Beasts: The Crimes of Grindelwald':3, \n",
    "     'Incredibles 2':3,\n",
    "     'Jurassic World: Fallen Kingdom':4, \n",
    "     'Mission: Impossible – Fallout':3,\n",
    "     'Venom':3}"
   ]
  },
  {
   "cell_type": "code",
   "execution_count": null,
   "id": "4834e942",
   "metadata": {},
   "outputs": [],
   "source": []
  },
  {
   "cell_type": "code",
   "execution_count": null,
   "id": "083d645f",
   "metadata": {},
   "outputs": [],
   "source": []
  },
  {
   "cell_type": "markdown",
   "id": "28a6262e",
   "metadata": {},
   "source": [
    "#### Score de similitud"
   ]
  },
  {
   "cell_type": "code",
   "execution_count": null,
   "id": "4aec498a",
   "metadata": {},
   "outputs": [],
   "source": []
  },
  {
   "cell_type": "code",
   "execution_count": null,
   "id": "4e3abfbb",
   "metadata": {},
   "outputs": [],
   "source": []
  },
  {
   "cell_type": "code",
   "execution_count": null,
   "id": "45cfb2d7",
   "metadata": {},
   "outputs": [],
   "source": []
  },
  {
   "cell_type": "code",
   "execution_count": null,
   "id": "61ffdb1f",
   "metadata": {},
   "outputs": [],
   "source": []
  },
  {
   "cell_type": "code",
   "execution_count": null,
   "id": "e9276178",
   "metadata": {},
   "outputs": [],
   "source": []
  },
  {
   "cell_type": "code",
   "execution_count": null,
   "id": "16577430",
   "metadata": {},
   "outputs": [],
   "source": []
  }
 ],
 "metadata": {
  "kernelspec": {
   "display_name": "clase",
   "language": "python",
   "name": "clase"
  },
  "language_info": {
   "codemirror_mode": {
    "name": "ipython",
    "version": 3
   },
   "file_extension": ".py",
   "mimetype": "text/x-python",
   "name": "python",
   "nbconvert_exporter": "python",
   "pygments_lexer": "ipython3",
   "version": "3.7.10"
  },
  "varInspector": {
   "cols": {
    "lenName": 16,
    "lenType": 16,
    "lenVar": 40
   },
   "kernels_config": {
    "python": {
     "delete_cmd_postfix": "",
     "delete_cmd_prefix": "del ",
     "library": "var_list.py",
     "varRefreshCmd": "print(var_dic_list())"
    },
    "r": {
     "delete_cmd_postfix": ") ",
     "delete_cmd_prefix": "rm(",
     "library": "var_list.r",
     "varRefreshCmd": "cat(var_dic_list()) "
    }
   },
   "types_to_exclude": [
    "module",
    "function",
    "builtin_function_or_method",
    "instance",
    "_Feature"
   ],
   "window_display": false
  }
 },
 "nbformat": 4,
 "nbformat_minor": 5
}
