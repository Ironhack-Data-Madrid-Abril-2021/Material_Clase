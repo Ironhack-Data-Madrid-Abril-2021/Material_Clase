{
 "cells": [
  {
   "cell_type": "markdown",
   "metadata": {},
   "source": [
    "# 4.1 - Lambda"
   ]
  },
  {
   "cell_type": "markdown",
   "metadata": {},
   "source": [
    "**Recordatorio de la estructura de una función:**\n",
    "\n",
    "Partes de una función:\n",
    "- Nombre\n",
    "- Parámetros\n",
    "- Código (acción/operación)\n",
    "- return (ojo, las funciones sin return devuelven `None`)\n",
    "    \n",
    "```python\n",
    "def nombre_funcion(parámetro_1, parámetro_2='valor_por_defecto'):\n",
    "    return acción(parámetro_1, parámetro_2)\n",
    "```\n",
    "\n",
    "\n",
    "O más general:\n",
    "\n",
    "```python\n",
    "def func(*args,**kwargs):\n",
    "    return acción(*args,**kwargs)\n",
    "```"
   ]
  },
  {
   "cell_type": "markdown",
   "metadata": {},
   "source": [
    "**Definición de Lambda**\n",
    "\n",
    "En Python, una función Lambda se refiere a una pequeña función anónima. Las llamamos “funciones anónimas” porque técnicamente carecen de nombre.\n",
    "\n",
    "Al contrario que una función normal, no la definimos con la palabra clave estándar def que utilizamos en python. En su lugar, las funciones Lambda se definen como una línea que ejecuta una sola expresión. Este tipo de funciones pueden tomar cualquier número de argumentos, pero solo pueden tener una expresión.\n",
    "\n",
    "Una de las utilidades principales de las funciones Lambda es la optimización de memoria, no guardando la función una vez utilizada.\n",
    "\n",
    "**Sintaxis de la función Lambda**\n",
    "```python\n",
    "lambda parámetro_1, parámetro_2: action(parámetro_1, parámetro_2)\n",
    "```\n",
    "\n",
    "También puede tener valores por defecto:\n",
    "\n",
    "```python\n",
    "lambda parámetro_1, parámetro_2='valor_por_defecto': action(parámetro_1, parámetro_2)\n",
    "```\n",
    "\n",
    "O más general:\n",
    "\n",
    "```python\n",
    "lambda *args,**kwargs: acción(*args,**kwargs)\n",
    "```"
   ]
  },
  {
   "cell_type": "code",
   "execution_count": null,
   "metadata": {},
   "outputs": [],
   "source": []
  },
  {
   "cell_type": "code",
   "execution_count": null,
   "metadata": {},
   "outputs": [],
   "source": []
  },
  {
   "cell_type": "code",
   "execution_count": null,
   "metadata": {},
   "outputs": [],
   "source": []
  },
  {
   "cell_type": "code",
   "execution_count": null,
   "metadata": {},
   "outputs": [],
   "source": []
  }
 ],
 "metadata": {
  "kernelspec": {
   "display_name": "clase",
   "language": "python",
   "name": "clase"
  },
  "language_info": {
   "codemirror_mode": {
    "name": "ipython",
    "version": 3
   },
   "file_extension": ".py",
   "mimetype": "text/x-python",
   "name": "python",
   "nbconvert_exporter": "python",
   "pygments_lexer": "ipython3",
   "version": "3.7.9"
  },
  "varInspector": {
   "cols": {
    "lenName": 16,
    "lenType": 16,
    "lenVar": 40
   },
   "kernels_config": {
    "python": {
     "delete_cmd_postfix": "",
     "delete_cmd_prefix": "del ",
     "library": "var_list.py",
     "varRefreshCmd": "print(var_dic_list())"
    },
    "r": {
     "delete_cmd_postfix": ") ",
     "delete_cmd_prefix": "rm(",
     "library": "var_list.r",
     "varRefreshCmd": "cat(var_dic_list()) "
    }
   },
   "types_to_exclude": [
    "module",
    "function",
    "builtin_function_or_method",
    "instance",
    "_Feature"
   ],
   "window_display": false
  }
 },
 "nbformat": 4,
 "nbformat_minor": 4
}
