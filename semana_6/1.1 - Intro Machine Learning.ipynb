{
 "cells": [
  {
   "cell_type": "markdown",
   "id": "de952e8e",
   "metadata": {},
   "source": [
    "# 1.1 - Intro Machine Learning\n",
    "\n",
    "\n",
    "![venn_ml](images/venn_ml.png)\n",
    "\n",
    "![ext_sklearn](images/ext_sklearn.jpeg)\n",
    "\n",
    "![sklearn](images/sklearn.png)\n",
    "\n"
   ]
  },
  {
   "cell_type": "markdown",
   "id": "f736f775",
   "metadata": {},
   "source": [
    "### WorkFlow\n",
    "\n",
    "+ Obtener datos\n",
    "+ Definir objetivo\n",
    "+ Limpieza de datos (unidades, outliers, one-hot, etc..)\n",
    "+ Definir modelo (regresión, clasificación, ...)\n",
    "+ Entrenar (hiperparámetros, validación, ...) (**)\n",
    "+ Predecir (testear)\n",
    "+ Evaluar\n",
    "+ Si hay mucho error volver a (**)"
   ]
  },
  {
   "cell_type": "code",
   "execution_count": null,
   "id": "420f49d5",
   "metadata": {},
   "outputs": [],
   "source": [
    "import warnings\n",
    "warnings.simplefilter('ignore')\n",
    "\n",
    "import pandas as pd\n",
    "import numpy as np\n",
    "\n",
    "import pylab as plt\n",
    "import seaborn as sns\n",
    "%matplotlib inline"
   ]
  },
  {
   "cell_type": "code",
   "execution_count": null,
   "id": "c4294e08",
   "metadata": {},
   "outputs": [],
   "source": [
    "# obtener datos\n"
   ]
  },
  {
   "cell_type": "code",
   "execution_count": null,
   "id": "5196df5e",
   "metadata": {},
   "outputs": [],
   "source": []
  },
  {
   "cell_type": "code",
   "execution_count": null,
   "id": "44a9e185",
   "metadata": {},
   "outputs": [],
   "source": []
  },
  {
   "cell_type": "code",
   "execution_count": null,
   "id": "cc757faa",
   "metadata": {},
   "outputs": [],
   "source": [
    "# outliers (3*IQR)\n"
   ]
  },
  {
   "cell_type": "code",
   "execution_count": null,
   "id": "688333fd",
   "metadata": {},
   "outputs": [],
   "source": []
  },
  {
   "cell_type": "code",
   "execution_count": null,
   "id": "6a4e88e0",
   "metadata": {},
   "outputs": [],
   "source": []
  },
  {
   "cell_type": "code",
   "execution_count": null,
   "id": "960de5b0",
   "metadata": {},
   "outputs": [],
   "source": []
  },
  {
   "cell_type": "code",
   "execution_count": null,
   "id": "eadcc3b8",
   "metadata": {},
   "outputs": [],
   "source": []
  },
  {
   "cell_type": "code",
   "execution_count": null,
   "id": "8ff1167b",
   "metadata": {},
   "outputs": [],
   "source": []
  },
  {
   "cell_type": "code",
   "execution_count": null,
   "id": "cb4ed991",
   "metadata": {},
   "outputs": [],
   "source": []
  },
  {
   "cell_type": "code",
   "execution_count": null,
   "id": "e3259818",
   "metadata": {},
   "outputs": [],
   "source": [
    "# reescalado [0, 1]\n"
   ]
  },
  {
   "cell_type": "code",
   "execution_count": null,
   "id": "49529ed6",
   "metadata": {},
   "outputs": [],
   "source": [
    "conversion=['Hispanic','White', 'Black', 'Native',\n",
    "            'Asian', 'Pacific', 'Poverty', 'ChildPoverty',\n",
    "            'Service', 'Office']"
   ]
  },
  {
   "cell_type": "code",
   "execution_count": null,
   "id": "82cb1ad0",
   "metadata": {},
   "outputs": [],
   "source": []
  },
  {
   "cell_type": "code",
   "execution_count": null,
   "id": "00022c6a",
   "metadata": {},
   "outputs": [],
   "source": []
  },
  {
   "cell_type": "code",
   "execution_count": null,
   "id": "ca446557",
   "metadata": {},
   "outputs": [],
   "source": []
  },
  {
   "cell_type": "code",
   "execution_count": null,
   "id": "0e902019",
   "metadata": {},
   "outputs": [],
   "source": [
    "# normalizacion\n",
    "\n"
   ]
  },
  {
   "cell_type": "code",
   "execution_count": null,
   "id": "aa1993f4",
   "metadata": {},
   "outputs": [],
   "source": []
  },
  {
   "cell_type": "code",
   "execution_count": null,
   "id": "9a88c090",
   "metadata": {},
   "outputs": [],
   "source": []
  },
  {
   "cell_type": "code",
   "execution_count": null,
   "id": "ef115950",
   "metadata": {},
   "outputs": [],
   "source": [
    "# one-hot, dummies\n"
   ]
  },
  {
   "cell_type": "code",
   "execution_count": null,
   "id": "a0a5ce39",
   "metadata": {},
   "outputs": [],
   "source": [
    "# shuffling/sampling\n"
   ]
  },
  {
   "cell_type": "code",
   "execution_count": null,
   "id": "a237e554",
   "metadata": {},
   "outputs": [],
   "source": []
  },
  {
   "cell_type": "code",
   "execution_count": null,
   "id": "fe74b7ba",
   "metadata": {},
   "outputs": [],
   "source": []
  },
  {
   "cell_type": "code",
   "execution_count": null,
   "id": "774a9a04",
   "metadata": {},
   "outputs": [],
   "source": [
    "# colinealidad\n",
    "\n"
   ]
  },
  {
   "cell_type": "code",
   "execution_count": null,
   "id": "f9f00f5f",
   "metadata": {},
   "outputs": [],
   "source": [
    "# train_test_split\n",
    "\n"
   ]
  },
  {
   "cell_type": "code",
   "execution_count": null,
   "id": "4dff7b88",
   "metadata": {},
   "outputs": [],
   "source": [
    "#split 80-20\n",
    "\n"
   ]
  },
  {
   "cell_type": "code",
   "execution_count": null,
   "id": "c0b0530d",
   "metadata": {},
   "outputs": [],
   "source": []
  },
  {
   "cell_type": "code",
   "execution_count": null,
   "id": "c7c93f2f",
   "metadata": {},
   "outputs": [],
   "source": []
  },
  {
   "cell_type": "code",
   "execution_count": null,
   "id": "4ad7ca69",
   "metadata": {},
   "outputs": [],
   "source": []
  },
  {
   "cell_type": "code",
   "execution_count": null,
   "id": "37db557a",
   "metadata": {},
   "outputs": [],
   "source": []
  },
  {
   "cell_type": "code",
   "execution_count": null,
   "id": "a630151f",
   "metadata": {},
   "outputs": [],
   "source": []
  },
  {
   "cell_type": "code",
   "execution_count": null,
   "id": "495bb4ef",
   "metadata": {},
   "outputs": [],
   "source": []
  },
  {
   "cell_type": "code",
   "execution_count": null,
   "id": "b4a580c7",
   "metadata": {},
   "outputs": [],
   "source": []
  },
  {
   "cell_type": "code",
   "execution_count": null,
   "id": "728ef5a6",
   "metadata": {},
   "outputs": [],
   "source": []
  },
  {
   "cell_type": "code",
   "execution_count": null,
   "id": "8f701bee",
   "metadata": {},
   "outputs": [],
   "source": []
  },
  {
   "cell_type": "code",
   "execution_count": null,
   "id": "4d452dcd",
   "metadata": {},
   "outputs": [],
   "source": [
    "# modelo\n"
   ]
  },
  {
   "cell_type": "code",
   "execution_count": null,
   "id": "3c4a5590",
   "metadata": {},
   "outputs": [],
   "source": []
  },
  {
   "cell_type": "code",
   "execution_count": null,
   "id": "97173fc7",
   "metadata": {},
   "outputs": [],
   "source": []
  },
  {
   "cell_type": "code",
   "execution_count": null,
   "id": "c5e120fb",
   "metadata": {},
   "outputs": [],
   "source": []
  },
  {
   "cell_type": "code",
   "execution_count": null,
   "id": "7003f9f0",
   "metadata": {},
   "outputs": [],
   "source": []
  },
  {
   "cell_type": "code",
   "execution_count": null,
   "id": "91298ad1",
   "metadata": {},
   "outputs": [],
   "source": []
  },
  {
   "cell_type": "code",
   "execution_count": null,
   "id": "f522f48c",
   "metadata": {},
   "outputs": [],
   "source": [
    "# sin Men Women\n"
   ]
  },
  {
   "cell_type": "code",
   "execution_count": null,
   "id": "3e3e5a97",
   "metadata": {},
   "outputs": [],
   "source": []
  },
  {
   "cell_type": "code",
   "execution_count": null,
   "id": "b6ee977f",
   "metadata": {},
   "outputs": [],
   "source": []
  },
  {
   "cell_type": "code",
   "execution_count": null,
   "id": "3e8d95cd",
   "metadata": {},
   "outputs": [],
   "source": []
  },
  {
   "cell_type": "code",
   "execution_count": null,
   "id": "784873ce",
   "metadata": {},
   "outputs": [],
   "source": []
  },
  {
   "cell_type": "code",
   "execution_count": null,
   "id": "a14449e1",
   "metadata": {},
   "outputs": [],
   "source": []
  },
  {
   "cell_type": "markdown",
   "id": "efd48ee6",
   "metadata": {},
   "source": [
    "### Optimizacion de memoria"
   ]
  },
  {
   "cell_type": "code",
   "execution_count": null,
   "id": "bae65326",
   "metadata": {},
   "outputs": [],
   "source": [
    "import zipfile"
   ]
  },
  {
   "cell_type": "code",
   "execution_count": null,
   "id": "c8935d88",
   "metadata": {},
   "outputs": [],
   "source": []
  },
  {
   "cell_type": "code",
   "execution_count": null,
   "id": "09f1a417",
   "metadata": {},
   "outputs": [],
   "source": []
  },
  {
   "cell_type": "code",
   "execution_count": null,
   "id": "0557ecc3",
   "metadata": {},
   "outputs": [],
   "source": [
    "# optimizacion de memoria\n"
   ]
  },
  {
   "cell_type": "code",
   "execution_count": null,
   "id": "bce04c4b",
   "metadata": {},
   "outputs": [],
   "source": []
  },
  {
   "cell_type": "code",
   "execution_count": null,
   "id": "e9c81c2a",
   "metadata": {},
   "outputs": [],
   "source": []
  },
  {
   "cell_type": "code",
   "execution_count": null,
   "id": "95ebcd7f",
   "metadata": {},
   "outputs": [],
   "source": []
  },
  {
   "cell_type": "code",
   "execution_count": null,
   "id": "dbe97a0d",
   "metadata": {},
   "outputs": [],
   "source": []
  },
  {
   "cell_type": "markdown",
   "id": "51b7457a",
   "metadata": {},
   "source": [
    "**Binning**"
   ]
  },
  {
   "cell_type": "code",
   "execution_count": null,
   "id": "349850c5",
   "metadata": {},
   "outputs": [],
   "source": []
  },
  {
   "cell_type": "code",
   "execution_count": null,
   "id": "c99367bb",
   "metadata": {},
   "outputs": [],
   "source": []
  },
  {
   "cell_type": "code",
   "execution_count": null,
   "id": "73b0ae7b",
   "metadata": {},
   "outputs": [],
   "source": []
  },
  {
   "cell_type": "markdown",
   "id": "fc335eaa",
   "metadata": {},
   "source": [
    "### Seleccion de Caracteristicas"
   ]
  },
  {
   "cell_type": "code",
   "execution_count": null,
   "id": "ba46a8d2",
   "metadata": {},
   "outputs": [],
   "source": []
  },
  {
   "cell_type": "code",
   "execution_count": null,
   "id": "54ff5c53",
   "metadata": {},
   "outputs": [],
   "source": [
    "# Reduccion de dimensiones\n",
    "\n",
    "# Ya vimos PCA, UMAP.."
   ]
  },
  {
   "cell_type": "code",
   "execution_count": null,
   "id": "73a6738c",
   "metadata": {},
   "outputs": [],
   "source": [
    "# colinealidad\n"
   ]
  },
  {
   "cell_type": "code",
   "execution_count": null,
   "id": "6fa15c73",
   "metadata": {},
   "outputs": [],
   "source": [
    "from sklearn.feature_selection import RFE\n",
    "\n",
    "from sklearn.model_selection import train_test_split as tts\n",
    "from sklearn.linear_model import LinearRegression as LinReg\n",
    "from sklearn.tree import DecisionTreeRegressor as DTR"
   ]
  },
  {
   "cell_type": "code",
   "execution_count": null,
   "id": "5e906cc4",
   "metadata": {},
   "outputs": [],
   "source": [
    "features=['Poverty', 'WorkAtHome', 'SelfEmployed', 'Black', \n",
    "          'Native', 'Asian', 'Pacific', 'Hispanic', 'IncomePerCap']\n",
    "\n",
    "target='Unemployment'"
   ]
  },
  {
   "cell_type": "code",
   "execution_count": null,
   "id": "53b58f21",
   "metadata": {},
   "outputs": [],
   "source": []
  },
  {
   "cell_type": "code",
   "execution_count": null,
   "id": "62e3b4e9",
   "metadata": {},
   "outputs": [],
   "source": []
  },
  {
   "cell_type": "code",
   "execution_count": null,
   "id": "007db48c",
   "metadata": {},
   "outputs": [],
   "source": [
    "# recursive feature elimination\n"
   ]
  },
  {
   "cell_type": "code",
   "execution_count": null,
   "id": "160ea497",
   "metadata": {},
   "outputs": [],
   "source": [
    "# entrenar a traves del RFE\n"
   ]
  },
  {
   "cell_type": "code",
   "execution_count": null,
   "id": "20a47215",
   "metadata": {},
   "outputs": [],
   "source": []
  },
  {
   "cell_type": "code",
   "execution_count": null,
   "id": "e515e1b0",
   "metadata": {},
   "outputs": [],
   "source": []
  },
  {
   "cell_type": "code",
   "execution_count": null,
   "id": "b0e2094a",
   "metadata": {},
   "outputs": [],
   "source": [
    "from sklearn.feature_selection import SelectFromModel as SFM\n"
   ]
  },
  {
   "cell_type": "code",
   "execution_count": null,
   "id": "dcb9ec51",
   "metadata": {},
   "outputs": [],
   "source": []
  },
  {
   "cell_type": "code",
   "execution_count": null,
   "id": "bd8f3929",
   "metadata": {},
   "outputs": [],
   "source": []
  },
  {
   "cell_type": "code",
   "execution_count": null,
   "id": "615a8831",
   "metadata": {},
   "outputs": [],
   "source": []
  },
  {
   "cell_type": "code",
   "execution_count": null,
   "id": "d32ee5a9",
   "metadata": {},
   "outputs": [],
   "source": []
  },
  {
   "cell_type": "code",
   "execution_count": null,
   "id": "9da5895f",
   "metadata": {},
   "outputs": [],
   "source": []
  }
 ],
 "metadata": {
  "finalized": {
   "timestamp": 1622443583500,
   "trusted": false
  },
  "kernelspec": {
   "display_name": "clase",
   "language": "python",
   "name": "clase"
  },
  "language_info": {
   "codemirror_mode": {
    "name": "ipython",
    "version": 3
   },
   "file_extension": ".py",
   "mimetype": "text/x-python",
   "name": "python",
   "nbconvert_exporter": "python",
   "pygments_lexer": "ipython3",
   "version": "3.7.10"
  },
  "varInspector": {
   "cols": {
    "lenName": 16,
    "lenType": 16,
    "lenVar": 40
   },
   "kernels_config": {
    "python": {
     "delete_cmd_postfix": "",
     "delete_cmd_prefix": "del ",
     "library": "var_list.py",
     "varRefreshCmd": "print(var_dic_list())"
    },
    "r": {
     "delete_cmd_postfix": ") ",
     "delete_cmd_prefix": "rm(",
     "library": "var_list.r",
     "varRefreshCmd": "cat(var_dic_list()) "
    }
   },
   "types_to_exclude": [
    "module",
    "function",
    "builtin_function_or_method",
    "instance",
    "_Feature"
   ],
   "window_display": false
  }
 },
 "nbformat": 4,
 "nbformat_minor": 5
}
