{
 "cells": [
  {
   "cell_type": "markdown",
   "id": "b76f132d",
   "metadata": {},
   "source": [
    "# 3.1 - Repaso General"
   ]
  },
  {
   "cell_type": "markdown",
   "id": "d00b2228",
   "metadata": {},
   "source": [
    "### Loops"
   ]
  },
  {
   "cell_type": "code",
   "execution_count": 2,
   "id": "ff560c2c",
   "metadata": {},
   "outputs": [],
   "source": [
    "# iterables , que se puede recorrer\n",
    "\n",
    "lst_str=['fsdf', 'rewtwr', 'treqtqret', 'hola', 'ryebfuwb', 'tegegeg', 'fwjqfgq']\n",
    "\n",
    "lst_lst=[\n",
    "    [1,2,3,4],\n",
    "    ['a', 'r', '5'],\n",
    "    [{'hola':'que tal', 'adios':'hasta luego chato'},\n",
    "    'dentro']\n",
    "]\n",
    "\n",
    "dictio={'a':45, 'b':[1, 3, 5, 6], 'c':'hola', 4:{1:'a', 2:'b'}}\n",
    "\n",
    "string='kwdgfjnowjkgnowergnoweitgno2i45ogin2oinyr'"
   ]
  },
  {
   "cell_type": "code",
   "execution_count": 3,
   "id": "1779e231",
   "metadata": {},
   "outputs": [
    {
     "data": {
      "text/plain": [
       "['fsdf', 'rewtwr', 'treqtqret', 'hola', 'ryebfuwb', 'tegegeg', 'fwjqfgq']"
      ]
     },
     "execution_count": 3,
     "metadata": {},
     "output_type": "execute_result"
    }
   ],
   "source": [
    "lst_str"
   ]
  },
  {
   "cell_type": "code",
   "execution_count": 4,
   "id": "1da055e7",
   "metadata": {},
   "outputs": [
    {
     "data": {
      "text/plain": [
       "[[1, 2, 3, 4],\n",
       " ['a', 'r', '5'],\n",
       " [{'hola': 'que tal', 'adios': 'hasta luego chato'}, 'dentro']]"
      ]
     },
     "execution_count": 4,
     "metadata": {},
     "output_type": "execute_result"
    }
   ],
   "source": [
    "lst_lst"
   ]
  },
  {
   "cell_type": "code",
   "execution_count": 5,
   "id": "81a02431",
   "metadata": {},
   "outputs": [
    {
     "data": {
      "text/plain": [
       "{'a': 45, 'b': [1, 3, 5, 6], 'c': 'hola', 4: {1: 'a', 2: 'b'}}"
      ]
     },
     "execution_count": 5,
     "metadata": {},
     "output_type": "execute_result"
    }
   ],
   "source": [
    "dictio"
   ]
  },
  {
   "cell_type": "code",
   "execution_count": 6,
   "id": "82e343b9",
   "metadata": {},
   "outputs": [
    {
     "data": {
      "text/plain": [
       "'kwdgfjnowjkgnowergnoweitgno2i45ogin2oinyr'"
      ]
     },
     "execution_count": 6,
     "metadata": {},
     "output_type": "execute_result"
    }
   ],
   "source": [
    "string"
   ]
  },
  {
   "cell_type": "code",
   "execution_count": 12,
   "id": "fd6ee0cd",
   "metadata": {},
   "outputs": [
    {
     "name": "stdout",
     "output_type": "stream",
     "text": [
      "fsdf\n",
      "rewtwr\n",
      "treqtqret\n",
      "hola\n",
      "ryebfuwb\n",
      "tegegeg\n",
      "fwjqfgq\n"
     ]
    }
   ],
   "source": [
    "# bucle, para recorrer un iterable\n",
    "# bucles for, tienen 3 tipos\n",
    "\n",
    "# 1er tipo: recorrer por indice\n",
    "\n",
    "for indice in range(len(lst_str)):  # recorre la lista por indice y printea cada elemento\n",
    "    print(lst_str[indice])"
   ]
  },
  {
   "cell_type": "code",
   "execution_count": 10,
   "id": "e3d6c9f9",
   "metadata": {},
   "outputs": [
    {
     "name": "stdout",
     "output_type": "stream",
     "text": [
      "f\n",
      "s\n",
      "d\n",
      "f\n",
      "r\n",
      "e\n",
      "w\n",
      "t\n",
      "w\n",
      "r\n",
      "t\n",
      "r\n",
      "e\n",
      "q\n",
      "t\n",
      "q\n",
      "r\n",
      "e\n",
      "t\n",
      "h\n",
      "o\n",
      "l\n",
      "a\n",
      "r\n",
      "y\n",
      "e\n",
      "b\n",
      "f\n",
      "u\n",
      "w\n",
      "b\n",
      "t\n",
      "e\n",
      "g\n",
      "e\n",
      "g\n",
      "e\n",
      "g\n",
      "f\n",
      "w\n",
      "j\n",
      "q\n",
      "f\n",
      "g\n",
      "q\n"
     ]
    }
   ],
   "source": [
    "# doble bucle sobre el indice \n",
    "\n",
    "for indice in range(len(lst_str)):              # recorre la lista por indice \n",
    "    for letra in range(len(lst_str[indice])):   # recorre la string caracter por caracter por indice\n",
    "        print(lst_str[indice][letra])\n",
    "    "
   ]
  },
  {
   "cell_type": "code",
   "execution_count": 13,
   "id": "57ab0375",
   "metadata": {},
   "outputs": [
    {
     "name": "stdout",
     "output_type": "stream",
     "text": [
      "fsdf\n",
      "rewtwr\n",
      "treqtqret\n",
      "hola\n",
      "ryebfuwb\n",
      "tegegeg\n",
      "fwjqfgq\n"
     ]
    }
   ],
   "source": [
    "# 2º tipo de bucle, recorrer por elemento\n",
    "\n",
    "for elemento in lst_str:   # NO recorre por indice, recorre por elemento\n",
    "    print(elemento)"
   ]
  },
  {
   "cell_type": "code",
   "execution_count": 14,
   "id": "c5727260",
   "metadata": {},
   "outputs": [
    {
     "name": "stdout",
     "output_type": "stream",
     "text": [
      "f\n",
      "s\n",
      "d\n",
      "f\n",
      "r\n",
      "e\n",
      "w\n",
      "t\n",
      "w\n",
      "r\n",
      "t\n",
      "r\n",
      "e\n",
      "q\n",
      "t\n",
      "q\n",
      "r\n",
      "e\n",
      "t\n",
      "h\n",
      "o\n",
      "l\n",
      "a\n",
      "r\n",
      "y\n",
      "e\n",
      "b\n",
      "f\n",
      "u\n",
      "w\n",
      "b\n",
      "t\n",
      "e\n",
      "g\n",
      "e\n",
      "g\n",
      "e\n",
      "g\n",
      "f\n",
      "w\n",
      "j\n",
      "q\n",
      "f\n",
      "g\n",
      "q\n"
     ]
    }
   ],
   "source": [
    "for elemento in lst_str:   # NO recorre por indice, recorre por elemento\n",
    "    for letra in elemento:\n",
    "        print(letra)"
   ]
  },
  {
   "cell_type": "code",
   "execution_count": 16,
   "id": "1980f3af",
   "metadata": {},
   "outputs": [
    {
     "name": "stdout",
     "output_type": "stream",
     "text": [
      "Primera lista:  fsdf Segunda lista:  [1, 2, 3, 4]\n",
      "Primera lista:  rewtwr Segunda lista:  ['a', 'r', '5']\n",
      "Primera lista:  treqtqret Segunda lista:  [{'hola': 'que tal', 'adios': 'hasta luego chato'}, 'dentro']\n"
     ]
    }
   ],
   "source": [
    "# con dos iterables diferentes\n",
    "\n",
    "for indice in range(3):\n",
    "    print('Primera lista: ', lst_str[indice], 'Segunda lista: ', lst_lst[indice])"
   ]
  },
  {
   "cell_type": "code",
   "execution_count": 19,
   "id": "d93bc9ed",
   "metadata": {},
   "outputs": [
    {
     "name": "stdout",
     "output_type": "stream",
     "text": [
      "Indice:  0 ---- Elemento:  fsdf\n",
      "Indice:  1 ---- Elemento:  rewtwr\n",
      "Indice:  2 ---- Elemento:  treqtqret\n",
      "Indice:  3 ---- Elemento:  hola\n",
      "Indice:  4 ---- Elemento:  ryebfuwb\n",
      "Indice:  5 ---- Elemento:  tegegeg\n",
      "Indice:  6 ---- Elemento:  fwjqfgq\n"
     ]
    }
   ],
   "source": [
    "# 3er tipo: las cosas a la vez\n",
    "\n",
    "for indice,elemento in enumerate(lst_str):\n",
    "    print('Indice: ', indice, '---- Elemento: ', elemento)"
   ]
  },
  {
   "cell_type": "code",
   "execution_count": 21,
   "id": "5c2c951f",
   "metadata": {},
   "outputs": [
    {
     "data": {
      "text/plain": [
       "[(0, 'fsdf'),\n",
       " (1, 'rewtwr'),\n",
       " (2, 'treqtqret'),\n",
       " (3, 'hola'),\n",
       " (4, 'ryebfuwb'),\n",
       " (5, 'tegegeg'),\n",
       " (6, 'fwjqfgq')]"
      ]
     },
     "execution_count": 21,
     "metadata": {},
     "output_type": "execute_result"
    }
   ],
   "source": [
    "list(enumerate(lst_str))"
   ]
  },
  {
   "cell_type": "code",
   "execution_count": 22,
   "id": "77de6345",
   "metadata": {},
   "outputs": [
    {
     "data": {
      "text/plain": [
       "dict_keys(['a', 'b', 'c', 4])"
      ]
     },
     "execution_count": 22,
     "metadata": {},
     "output_type": "execute_result"
    }
   ],
   "source": [
    "# con un diccionario\n",
    "\n",
    "dictio.keys()"
   ]
  },
  {
   "cell_type": "code",
   "execution_count": 23,
   "id": "e51a64c8",
   "metadata": {},
   "outputs": [
    {
     "data": {
      "text/plain": [
       "dict_values([45, [1, 3, 5, 6], 'hola', {1: 'a', 2: 'b'}])"
      ]
     },
     "execution_count": 23,
     "metadata": {},
     "output_type": "execute_result"
    }
   ],
   "source": [
    "dictio.values()"
   ]
  },
  {
   "cell_type": "code",
   "execution_count": 24,
   "id": "955197ce",
   "metadata": {},
   "outputs": [
    {
     "data": {
      "text/plain": [
       "dict_items([('a', 45), ('b', [1, 3, 5, 6]), ('c', 'hola'), (4, {1: 'a', 2: 'b'})])"
      ]
     },
     "execution_count": 24,
     "metadata": {},
     "output_type": "execute_result"
    }
   ],
   "source": [
    "dictio.items()"
   ]
  },
  {
   "cell_type": "code",
   "execution_count": 25,
   "id": "3e7c8934",
   "metadata": {},
   "outputs": [
    {
     "name": "stdout",
     "output_type": "stream",
     "text": [
      "a\n",
      "b\n",
      "c\n",
      "4\n"
     ]
    }
   ],
   "source": [
    "for elemento in dictio:  # solo las keys\n",
    "    print(elemento)"
   ]
  },
  {
   "cell_type": "code",
   "execution_count": 26,
   "id": "742d73a2",
   "metadata": {},
   "outputs": [
    {
     "name": "stdout",
     "output_type": "stream",
     "text": [
      "a\n",
      "b\n",
      "c\n",
      "4\n"
     ]
    }
   ],
   "source": [
    "for elemento in dictio.keys():  # solo las keys\n",
    "    print(elemento)"
   ]
  },
  {
   "cell_type": "code",
   "execution_count": 27,
   "id": "c1f492f2",
   "metadata": {},
   "outputs": [
    {
     "name": "stdout",
     "output_type": "stream",
     "text": [
      "45\n",
      "[1, 3, 5, 6]\n",
      "hola\n",
      "{1: 'a', 2: 'b'}\n"
     ]
    }
   ],
   "source": [
    "for elemento in dictio:  # accediendo al valor\n",
    "    print(dictio[elemento])"
   ]
  },
  {
   "cell_type": "code",
   "execution_count": 28,
   "id": "32c30fe6",
   "metadata": {},
   "outputs": [
    {
     "name": "stdout",
     "output_type": "stream",
     "text": [
      "45\n",
      "[1, 3, 5, 6]\n",
      "hola\n",
      "{1: 'a', 2: 'b'}\n"
     ]
    }
   ],
   "source": [
    "for elemento in dictio.values():  # solo las keys\n",
    "    print(elemento)"
   ]
  },
  {
   "cell_type": "code",
   "execution_count": 31,
   "id": "987998f5",
   "metadata": {},
   "outputs": [
    {
     "name": "stdout",
     "output_type": "stream",
     "text": [
      "No puedo hacer el loop alegre...\n",
      "1\n",
      "3\n",
      "5\n",
      "6\n",
      "h\n",
      "o\n",
      "l\n",
      "a\n",
      "1\n",
      "2\n"
     ]
    }
   ],
   "source": [
    "# doble bucle\n",
    "\n",
    "for valor in dictio.values():   # vas a recorrer los valores del dictio\n",
    "    \n",
    "    if type(valor)!=int:    # si el tipo de dato del valor es diferente de entero...\n",
    "        \n",
    "        for grupo in valor:  # ...recorre el valor\n",
    "            print(grupo)\n",
    "    \n",
    "    else:   # de otra manera me das feedback\n",
    "        print('No puedo hacer el loop alegre...')\n",
    "        \n",
    "        "
   ]
  },
  {
   "cell_type": "code",
   "execution_count": 32,
   "id": "e23c73ed",
   "metadata": {},
   "outputs": [
    {
     "name": "stdout",
     "output_type": "stream",
     "text": [
      "No puedo hacer el loop alegre...\n",
      "No puedo hacer el loop alegre...\n",
      "No puedo hacer el loop alegre...\n",
      "a\n",
      "b\n"
     ]
    }
   ],
   "source": [
    "# doble bucle, intentando entrar al valor del dictio segunda capa\n",
    "\n",
    "for valor in dictio.values():   # vas a recorrer los valores del dictio\n",
    "    \n",
    "    if type(valor)==dict:    # si el tipo de dato del valor es diferente de entero...\n",
    "        \n",
    "        for key in valor:  # ...recorre el valor\n",
    "            print(valor[key])\n",
    "    \n",
    "    else:   # de otra manera me das feedback\n",
    "        print('No puedo hacer el loop alegre...')\n",
    "        \n",
    "        "
   ]
  },
  {
   "cell_type": "markdown",
   "id": "326057f3",
   "metadata": {},
   "source": [
    "**while**"
   ]
  },
  {
   "cell_type": "code",
   "execution_count": 33,
   "id": "f43d64b9",
   "metadata": {},
   "outputs": [],
   "source": [
    "while True:   # bucle infinito\n",
    "    break     # romper el bucle"
   ]
  },
  {
   "cell_type": "code",
   "execution_count": 37,
   "id": "6ff366f7",
   "metadata": {},
   "outputs": [
    {
     "name": "stdout",
     "output_type": "stream",
     "text": [
      "Dentro de bucle...\n",
      "fsdffsdf\n",
      "\n",
      "Contador:  0\n",
      "\n",
      "Dentro de bucle...\n",
      "rewtwrrewtwr\n",
      "\n",
      "Contador:  1\n",
      "\n",
      "Dentro de bucle...\n",
      "treqtqrettreqtqret\n",
      "\n",
      "Contador:  2\n",
      "\n",
      "Dentro de bucle...\n",
      "holahola\n",
      "\n",
      "Contador:  3\n",
      "\n",
      "Dentro de bucle...\n",
      "ryebfuwbryebfuwb\n",
      "\n",
      "Contador:  4\n",
      "\n",
      "Dentro de bucle...\n",
      "tegegegtegegeg\n",
      "\n",
      "Contador:  5\n",
      "\n",
      "Dentro de bucle...\n",
      "fwjqfgqfwjqfgq\n",
      "\n",
      "Contador:  6\n",
      "\n",
      "Se acabo, fuera del bucle\n"
     ]
    }
   ],
   "source": [
    "# con control\n",
    "\n",
    "\n",
    "contador=0\n",
    "\n",
    "while contador<len(lst_str):\n",
    "    print('Dentro de bucle...')\n",
    "    a=lst_str[contador]*2\n",
    "    print(a)\n",
    "    print()\n",
    "    print('Contador: ', contador)\n",
    "    print()\n",
    "    contador += 1  # el contador no se actualiza si no se pone +=1\n",
    "    \n",
    "print('Se acabo, fuera del bucle')"
   ]
  },
  {
   "cell_type": "code",
   "execution_count": 41,
   "id": "176621c9",
   "metadata": {},
   "outputs": [
    {
     "name": "stdout",
     "output_type": "stream",
     "text": [
      "Primer loop\n",
      "Contador : 0\n",
      "Contador : 1\n",
      "Contador : 2\n",
      "Contador : 3\n",
      "Contador : 4\n",
      "Contador : 5\n",
      "Contador : 6\n",
      "Si, el dictio es mas pequeño...\n"
     ]
    }
   ],
   "source": [
    "while 1:\n",
    "    print('Primer loop')\n",
    "    \n",
    "    contador=0\n",
    "    \n",
    "    while contador<7:\n",
    "        print('Contador :', contador)\n",
    "        contador+=1\n",
    "        \n",
    "    if len(dictio)<10:   # si el dictio tiene mas de 10 keys, esto es un bucle infinito\n",
    "        print('Si, el dictio es mas pequeño...')\n",
    "        break\n",
    "    "
   ]
  },
  {
   "cell_type": "markdown",
   "id": "da00448a",
   "metadata": {},
   "source": [
    "### Lambda\n",
    "\n",
    "https://www.codewars.com/kata/5a2fd38b55519ed98f0000ce/train/python"
   ]
  },
  {
   "cell_type": "code",
   "execution_count": 42,
   "id": "97df1a27",
   "metadata": {},
   "outputs": [],
   "source": [
    "def multi_table(number):\n",
    "    \n",
    "    res=''\n",
    "    \n",
    "    for i in range(10):\n",
    "        res += f'{i+1} * {number} = {number*(i+1)}\\n'\n",
    "        \n",
    "    return res.rstrip('\\n')"
   ]
  },
  {
   "cell_type": "code",
   "execution_count": 45,
   "id": "66b2ed04",
   "metadata": {},
   "outputs": [],
   "source": [
    "# nombre_de_la_funcion = lambda parametro_entrada : return\n",
    "\n",
    "\n",
    "multi_table2 = lambda number: ''.join([f'{i+1} * {number} = {number*(i+1)}\\n' for i in range(10)]).rstrip('\\n')"
   ]
  },
  {
   "cell_type": "code",
   "execution_count": 46,
   "id": "dee1361e",
   "metadata": {},
   "outputs": [
    {
     "data": {
      "text/plain": [
       "True"
      ]
     },
     "execution_count": 46,
     "metadata": {},
     "output_type": "execute_result"
    }
   ],
   "source": [
    "multi_table2(5)=='1 * 5 = 5\\n2 * 5 = 10\\n3 * 5 = 15\\n4 * 5 = 20\\n5 * 5 = 25\\n6 * 5 = 30\\n7 * 5 = 35\\n8 * 5 = 40\\n9 * 5 = 45\\n10 * 5 = 50'"
   ]
  },
  {
   "cell_type": "code",
   "execution_count": 47,
   "id": "6d1cb30a",
   "metadata": {},
   "outputs": [
    {
     "data": {
      "text/plain": [
       "True"
      ]
     },
     "execution_count": 47,
     "metadata": {},
     "output_type": "execute_result"
    }
   ],
   "source": [
    "multi_table2(1)=='1 * 1 = 1\\n2 * 1 = 2\\n3 * 1 = 3\\n4 * 1 = 4\\n5 * 1 = 5\\n6 * 1 = 6\\n7 * 1 = 7\\n8 * 1 = 8\\n9 * 1 = 9\\n10 * 1 = 10'"
   ]
  },
  {
   "cell_type": "markdown",
   "id": "bd6ae796",
   "metadata": {},
   "source": [
    "#### otra\n",
    "\n",
    "https://www.codewars.com/kata/55a70521798b14d4750000a4/train/python"
   ]
  },
  {
   "cell_type": "code",
   "execution_count": 48,
   "id": "ae3b02cd",
   "metadata": {},
   "outputs": [],
   "source": [
    "def greet(name):\n",
    "    return \"Hello, {} how are you doing {}?\".format(name, 'today')"
   ]
  },
  {
   "cell_type": "code",
   "execution_count": 51,
   "id": "dd25363b",
   "metadata": {},
   "outputs": [
    {
     "data": {
      "text/plain": [
       "True"
      ]
     },
     "execution_count": 51,
     "metadata": {},
     "output_type": "execute_result"
    }
   ],
   "source": [
    "greet('Ryan')==\"Hello, Ryan how are you doing today?\""
   ]
  },
  {
   "cell_type": "code",
   "execution_count": 50,
   "id": "a12dc5e5",
   "metadata": {},
   "outputs": [],
   "source": [
    "greet = lambda name: \"Hello, {} how are you doing {}?\".format(name, 'today')"
   ]
  },
  {
   "cell_type": "markdown",
   "id": "ce66780f",
   "metadata": {},
   "source": [
    "### Map, Reduce, Filter"
   ]
  },
  {
   "cell_type": "code",
   "execution_count": 52,
   "id": "a554dfcc",
   "metadata": {},
   "outputs": [],
   "source": [
    "from functools import reduce"
   ]
  },
  {
   "cell_type": "code",
   "execution_count": 53,
   "id": "24e3e869",
   "metadata": {},
   "outputs": [
    {
     "name": "stdout",
     "output_type": "stream",
     "text": [
      "10\n"
     ]
    }
   ],
   "source": [
    "lst=[1, 2, 3, 4]\n",
    "\n",
    "res=0\n",
    "\n",
    "for e in lst:\n",
    "    res+=e\n",
    "    \n",
    "print(res)"
   ]
  },
  {
   "cell_type": "code",
   "execution_count": 54,
   "id": "7a0558d0",
   "metadata": {},
   "outputs": [
    {
     "data": {
      "text/plain": [
       "10"
      ]
     },
     "execution_count": 54,
     "metadata": {},
     "output_type": "execute_result"
    }
   ],
   "source": [
    "sum(lst)"
   ]
  },
  {
   "cell_type": "code",
   "execution_count": 61,
   "id": "9bc08467",
   "metadata": {},
   "outputs": [],
   "source": [
    "def suma(a, b):\n",
    "    return a+b"
   ]
  },
  {
   "cell_type": "code",
   "execution_count": 62,
   "id": "6f516d40",
   "metadata": {},
   "outputs": [
    {
     "data": {
      "text/plain": [
       "10"
      ]
     },
     "execution_count": 62,
     "metadata": {},
     "output_type": "execute_result"
    }
   ],
   "source": [
    "reduce(suma, lst)    # sumatorio"
   ]
  },
  {
   "cell_type": "code",
   "execution_count": 63,
   "id": "bf9c2c87",
   "metadata": {},
   "outputs": [],
   "source": [
    "def producto(a, b):\n",
    "    return a*b"
   ]
  },
  {
   "cell_type": "code",
   "execution_count": 64,
   "id": "e0b6a0fa",
   "metadata": {},
   "outputs": [
    {
     "data": {
      "text/plain": [
       "24"
      ]
     },
     "execution_count": 64,
     "metadata": {},
     "output_type": "execute_result"
    }
   ],
   "source": [
    "reduce(producto, lst)   # productorio"
   ]
  },
  {
   "cell_type": "code",
   "execution_count": 65,
   "id": "a9b6c4d8",
   "metadata": {},
   "outputs": [],
   "source": [
    "def division(a, b):\n",
    "    return a/b"
   ]
  },
  {
   "cell_type": "code",
   "execution_count": 66,
   "id": "1a0bcf52",
   "metadata": {},
   "outputs": [
    {
     "data": {
      "text/plain": [
       "0.041666666666666664"
      ]
     },
     "execution_count": 66,
     "metadata": {},
     "output_type": "execute_result"
    }
   ],
   "source": [
    "reduce(division, lst)"
   ]
  },
  {
   "cell_type": "markdown",
   "id": "46f77cb6",
   "metadata": {},
   "source": [
    "### Filter"
   ]
  },
  {
   "cell_type": "code",
   "execution_count": 67,
   "id": "8319390e",
   "metadata": {},
   "outputs": [],
   "source": [
    "texto='kjwefbqo3igr1o0ig1o0g5n20obino0ibno05gino0948376983495ht95fgh'"
   ]
  },
  {
   "cell_type": "code",
   "execution_count": 68,
   "id": "69665858",
   "metadata": {},
   "outputs": [],
   "source": [
    "def filtar(x):    # si puedes convertir el tipo de dato a entero, devuelve True, si no False\n",
    "    try:\n",
    "        x=int(x)\n",
    "        return True\n",
    "    except:\n",
    "        return False"
   ]
  },
  {
   "cell_type": "code",
   "execution_count": 71,
   "id": "0e9d04ca",
   "metadata": {},
   "outputs": [
    {
     "data": {
      "text/plain": [
       "'31010520005094837698349595'"
      ]
     },
     "execution_count": 71,
     "metadata": {},
     "output_type": "execute_result"
    }
   ],
   "source": [
    "''.join(list(filter(filtar, texto)))"
   ]
  },
  {
   "cell_type": "markdown",
   "id": "92d32859",
   "metadata": {},
   "source": [
    "#### Map, aplicacion matematica"
   ]
  },
  {
   "cell_type": "code",
   "execution_count": 73,
   "id": "b644828c",
   "metadata": {},
   "outputs": [],
   "source": [
    "def convertir(x):\n",
    "    x=str(x)\n",
    "    x=2*x\n",
    "    x+='\\n'\n",
    "    return x"
   ]
  },
  {
   "cell_type": "code",
   "execution_count": 75,
   "id": "93858400",
   "metadata": {},
   "outputs": [
    {
     "data": {
      "text/plain": [
       "['11\\n', '22\\n', '33\\n', '44\\n']"
      ]
     },
     "execution_count": 75,
     "metadata": {},
     "output_type": "execute_result"
    }
   ],
   "source": [
    "list(map(convertir, lst))"
   ]
  },
  {
   "cell_type": "code",
   "execution_count": 77,
   "id": "872c0de6",
   "metadata": {},
   "outputs": [
    {
     "data": {
      "text/html": [
       "<div>\n",
       "<style scoped>\n",
       "    .dataframe tbody tr th:only-of-type {\n",
       "        vertical-align: middle;\n",
       "    }\n",
       "\n",
       "    .dataframe tbody tr th {\n",
       "        vertical-align: top;\n",
       "    }\n",
       "\n",
       "    .dataframe thead th {\n",
       "        text-align: right;\n",
       "    }\n",
       "</style>\n",
       "<table border=\"1\" class=\"dataframe\">\n",
       "  <thead>\n",
       "    <tr style=\"text-align: right;\">\n",
       "      <th></th>\n",
       "      <th>0</th>\n",
       "    </tr>\n",
       "  </thead>\n",
       "  <tbody>\n",
       "    <tr>\n",
       "      <th>0</th>\n",
       "      <td>1</td>\n",
       "    </tr>\n",
       "    <tr>\n",
       "      <th>1</th>\n",
       "      <td>2</td>\n",
       "    </tr>\n",
       "    <tr>\n",
       "      <th>2</th>\n",
       "      <td>3</td>\n",
       "    </tr>\n",
       "    <tr>\n",
       "      <th>3</th>\n",
       "      <td>4</td>\n",
       "    </tr>\n",
       "  </tbody>\n",
       "</table>\n",
       "</div>"
      ],
      "text/plain": [
       "   0\n",
       "0  1\n",
       "1  2\n",
       "2  3\n",
       "3  4"
      ]
     },
     "execution_count": 77,
     "metadata": {},
     "output_type": "execute_result"
    }
   ],
   "source": [
    "import pandas as pd\n",
    "\n",
    "df=pd.DataFrame(lst)\n",
    "\n",
    "df.head()"
   ]
  },
  {
   "cell_type": "code",
   "execution_count": 80,
   "id": "9a71e526",
   "metadata": {},
   "outputs": [
    {
     "data": {
      "text/plain": [
       "0    11\\n\n",
       "1    22\\n\n",
       "2    33\\n\n",
       "3    44\\n\n",
       "Name: 0, dtype: object"
      ]
     },
     "execution_count": 80,
     "metadata": {},
     "output_type": "execute_result"
    }
   ],
   "source": [
    "df[0].apply(convertir)  # el apply de pandas es lo mismo que el map de python"
   ]
  },
  {
   "cell_type": "code",
   "execution_count": 81,
   "id": "8dc95ef8",
   "metadata": {},
   "outputs": [
    {
     "data": {
      "text/plain": [
       "0    11\\n\n",
       "1    22\\n\n",
       "2    33\\n\n",
       "3    44\\n\n",
       "Name: 0, dtype: object"
      ]
     },
     "execution_count": 81,
     "metadata": {},
     "output_type": "execute_result"
    }
   ],
   "source": [
    "df[0].apply(lambda x: 2*str(x)+'\\n')"
   ]
  },
  {
   "cell_type": "markdown",
   "id": "10a05218",
   "metadata": {},
   "source": [
    "## SQL"
   ]
  },
  {
   "cell_type": "code",
   "execution_count": 83,
   "id": "08a06f31",
   "metadata": {},
   "outputs": [
    {
     "name": "stderr",
     "output_type": "stream",
     "text": [
      "2021-05-12 11:13:40,927 [697] WARNING  py.warnings:110: [JupyterRequire] /Users/iudh/opt/anaconda3/envs/clase/lib/python3.7/site-packages/IPython/core/interactiveshell.py:3146: DtypeWarning: Columns (0) have mixed types.Specify dtype option on import or set low_memory=False.\n",
      "  interactivity=interactivity, compiler=compiler, result=result)\n",
      "\n"
     ]
    },
    {
     "data": {
      "text/html": [
       "<div>\n",
       "<style scoped>\n",
       "    .dataframe tbody tr th:only-of-type {\n",
       "        vertical-align: middle;\n",
       "    }\n",
       "\n",
       "    .dataframe tbody tr th {\n",
       "        vertical-align: top;\n",
       "    }\n",
       "\n",
       "    .dataframe thead th {\n",
       "        text-align: right;\n",
       "    }\n",
       "</style>\n",
       "<table border=\"1\" class=\"dataframe\">\n",
       "  <thead>\n",
       "    <tr style=\"text-align: right;\">\n",
       "      <th></th>\n",
       "      <th>brand</th>\n",
       "      <th>color</th>\n",
       "      <th>size</th>\n",
       "      <th>prices</th>\n",
       "      <th>url</th>\n",
       "      <th>ean</th>\n",
       "      <th>upc</th>\n",
       "      <th>id</th>\n",
       "    </tr>\n",
       "  </thead>\n",
       "  <tbody>\n",
       "    <tr>\n",
       "      <th>0</th>\n",
       "      <td>MUK LUKS</td>\n",
       "      <td>Grey</td>\n",
       "      <td>10</td>\n",
       "      <td>47.0</td>\n",
       "      <td>https://i5.walmartimages.com/asr/421de5d5-3a74...</td>\n",
       "      <td>725177540363</td>\n",
       "      <td>033977045743</td>\n",
       "      <td>0</td>\n",
       "    </tr>\n",
       "    <tr>\n",
       "      <th>1</th>\n",
       "      <td>MUK LUKS</td>\n",
       "      <td>Grey</td>\n",
       "      <td>7</td>\n",
       "      <td>47.0</td>\n",
       "      <td>https://i5.walmartimages.com/asr/421de5d5-3a74...</td>\n",
       "      <td>725177540370</td>\n",
       "      <td>033977045743</td>\n",
       "      <td>1</td>\n",
       "    </tr>\n",
       "    <tr>\n",
       "      <th>2</th>\n",
       "      <td>MUK LUKS</td>\n",
       "      <td>Grey</td>\n",
       "      <td>6</td>\n",
       "      <td>47.0</td>\n",
       "      <td>https://i5.walmartimages.com/asr/421de5d5-3a74...</td>\n",
       "      <td>797776092321</td>\n",
       "      <td>033977045743</td>\n",
       "      <td>2</td>\n",
       "    </tr>\n",
       "    <tr>\n",
       "      <th>3</th>\n",
       "      <td>MUK LUKS</td>\n",
       "      <td>Grey</td>\n",
       "      <td>9</td>\n",
       "      <td>47.0</td>\n",
       "      <td>https://i5.walmartimages.com/asr/421de5d5-3a74...</td>\n",
       "      <td>701197194311</td>\n",
       "      <td>033977045743</td>\n",
       "      <td>3</td>\n",
       "    </tr>\n",
       "    <tr>\n",
       "      <th>4</th>\n",
       "      <td>MUK LUKS</td>\n",
       "      <td>Grey</td>\n",
       "      <td>8</td>\n",
       "      <td>47.0</td>\n",
       "      <td>https://i5.walmartimages.com/asr/421de5d5-3a74...</td>\n",
       "      <td>797776110773</td>\n",
       "      <td>033977045743</td>\n",
       "      <td>4</td>\n",
       "    </tr>\n",
       "  </tbody>\n",
       "</table>\n",
       "</div>"
      ],
      "text/plain": [
       "      brand color size  prices  \\\n",
       "0  MUK LUKS  Grey   10    47.0   \n",
       "1  MUK LUKS  Grey    7    47.0   \n",
       "2  MUK LUKS  Grey    6    47.0   \n",
       "3  MUK LUKS  Grey    9    47.0   \n",
       "4  MUK LUKS  Grey    8    47.0   \n",
       "\n",
       "                                                 url           ean  \\\n",
       "0  https://i5.walmartimages.com/asr/421de5d5-3a74...  725177540363   \n",
       "1  https://i5.walmartimages.com/asr/421de5d5-3a74...  725177540370   \n",
       "2  https://i5.walmartimages.com/asr/421de5d5-3a74...  797776092321   \n",
       "3  https://i5.walmartimages.com/asr/421de5d5-3a74...  701197194311   \n",
       "4  https://i5.walmartimages.com/asr/421de5d5-3a74...  797776110773   \n",
       "\n",
       "            upc  id  \n",
       "0  033977045743   0  \n",
       "1  033977045743   1  \n",
       "2  033977045743   2  \n",
       "3  033977045743   3  \n",
       "4  033977045743   4  "
      ]
     },
     "execution_count": 83,
     "metadata": {},
     "output_type": "execute_result"
    }
   ],
   "source": [
    "df=pd.read_csv('../data/shoes.csv')\n",
    "df=df[['brand', 'colors', 'sizes', 'prices.amountMax', 'imageURLs', 'ean', 'upc']]  \n",
    "df=df.dropna().reset_index(drop=True) \n",
    "df.sizes=df.sizes.apply(lambda x: x.split(','))\n",
    "df.colors=df.colors.apply(lambda x: x.split(','))\n",
    "df=df.explode('sizes').reset_index(drop=True)\n",
    "df=df.explode('colors').reset_index(drop=True)\n",
    "\n",
    "codigo=pd.read_csv('../data/upc_corpus.csv')\n",
    "codigo=codigo.dropna().reset_index(drop=True)\n",
    "\n",
    "df.ean=codigo.ean.iloc[0:len(df)]\n",
    "df=df.rename(columns={'colors':'color', 'sizes':'size', 'prices.amountMax': 'prices', 'imageURLs':'url'})\n",
    "\n",
    "df['id']=[i for i in range(len(df))]\n",
    "\n",
    "df.head()"
   ]
  },
  {
   "cell_type": "code",
   "execution_count": 105,
   "id": "8059a694",
   "metadata": {},
   "outputs": [],
   "source": [
    "import mysql.connector as conn"
   ]
  },
  {
   "cell_type": "code",
   "execution_count": 85,
   "id": "403dae2c",
   "metadata": {},
   "outputs": [],
   "source": [
    "# conexion al servidor de sql, para crear base de datos\n",
    "\n",
    "crea_db=conn.connect(host='localhost', user='root', passwd='password')\n",
    "\n",
    "cursor=crea_db.cursor()  # cursor es el objeto de conexion enter python y sql, con el cual podemos hacer queries\n",
    "\n",
    "#queries\n",
    "cursor.execute('drop database if exists nueva_db')  # si existe la base de datos, borrala\n",
    "\n",
    "cursor.execute('create database nueva_db')   # crea la base de datos"
   ]
  },
  {
   "cell_type": "code",
   "execution_count": 86,
   "id": "d394c83b",
   "metadata": {},
   "outputs": [
    {
     "name": "stdout",
     "output_type": "stream",
     "text": [
      "('app',)\n",
      "('Apps',)\n",
      "('information_schema',)\n",
      "('mydb',)\n",
      "('mysql',)\n",
      "('nueva_db',)\n",
      "('performance_schema',)\n",
      "('productos',)\n",
      "('prueba',)\n",
      "('pub',)\n",
      "('publ',)\n",
      "('publications',)\n",
      "('sys',)\n"
     ]
    }
   ],
   "source": [
    "# check\n",
    "\n",
    "cursor.execute('show databases')\n",
    "for x in cursor:\n",
    "    print(x)"
   ]
  },
  {
   "cell_type": "code",
   "execution_count": 106,
   "id": "d51791a6",
   "metadata": {},
   "outputs": [],
   "source": [
    "# conectar a sql, a una db especifica\n",
    "\n",
    "db=conn.connect(host='localhost', user='root', passwd='password', database='nueva_db')\n",
    "\n",
    "cursor=db.cursor()"
   ]
  },
  {
   "cell_type": "code",
   "execution_count": 88,
   "id": "7b9746b1",
   "metadata": {},
   "outputs": [],
   "source": [
    "# crear una tabla\n",
    "\n",
    "cursor.execute('drop table if exists tabla')   # borra la tabla si existe\n",
    "\n",
    "\n",
    "\n",
    "tabla='''\n",
    "        create table tabla(\n",
    "            \n",
    "            id int,\n",
    "            brand varchar(50),\n",
    "            color varchar(50),\n",
    "            size varchar(50),\n",
    "            prices float,\n",
    "            url varchar(10000),\n",
    "            ean varchar(50),\n",
    "            upc varchar(5000)\n",
    "        );\n",
    "'''\n",
    "\n",
    "\n",
    "cursor.execute(tabla)"
   ]
  },
  {
   "cell_type": "code",
   "execution_count": 107,
   "id": "6d66f950",
   "metadata": {},
   "outputs": [
    {
     "name": "stdout",
     "output_type": "stream",
     "text": [
      "('tabla',)\n"
     ]
    }
   ],
   "source": [
    "# check\n",
    "\n",
    "cursor.execute('show tables')\n",
    "for x in cursor:\n",
    "    print(x)"
   ]
  },
  {
   "cell_type": "code",
   "execution_count": 127,
   "id": "8d3dd40b",
   "metadata": {},
   "outputs": [],
   "source": [
    "# query de insercion\n",
    "\n",
    "for i in range(len(df)):\n",
    "    \n",
    "    \n",
    "    insert_query=f\"insert into {'tabla'} ({','.join(df.columns)}) values {tuple(df.iloc[i].values)};\"\n",
    "    \n",
    "    # insert query = insert into nombre_tabla (columnas del dataframe) values (valores de cada fila del dataframe)\n",
    "\n",
    "    cursor.execute(insert_query)\n",
    "    \n",
    "db.commit()  # para guardar la base de datos"
   ]
  },
  {
   "cell_type": "code",
   "execution_count": 110,
   "id": "4544e4c5",
   "metadata": {},
   "outputs": [
    {
     "data": {
      "text/plain": [
       "\"insert into tabla (brand,color,size,prices,url,ean,upc,id) values ('easy street', 'Pewter', '12 WIDE', 54.99, 'https://media.kohlsimg.com/is/image/kohls/2794126_Navy?wid=50&hei=50&op_sharpen=1,https://media.kohlsimg.com/is/image/kohls/2794126_Navy?wid=1000&hei=1000&op_sharpen=1,https://media.kohlsimg.com/is/image/kohls/2794126_Black?wid=50&hei=50&op_sharpen=1,https://media.kohlsimg.com/is/image/kohls/2794126_Black?wid=1000&hei=1000&op_sharpen=1,https://ll-us-i5.wal.co/dfw/63fd9f59-19a7/k2-_29be935d-2f27-4030-949a-59d29ead73e1.v11.jpg-1acb3420601ebe50db1d068b83f74d79afe3744e-optim-500x500.jpg', '999994448700', '889885265397,889885268091,889885264949,889885266745,889885265403,889885268107,889885264956,889885267209,889885266752,889885265410,889885268114,889885264963,889885267216,889885266769,889885265427,889885265878,889885268121,889885264970,889885267223,889885266776,889885265434,889885265885,889885268138,889885264987,889885267230,889885266783,889885267698,889885265441,889885265892,889885268145,889885264994,889885267247,889885266790,889885265458,889885265908,889885268152,889885265007,889885267254,889885266806,889885267711,889885265465,889885265915,889885268169,889885265014,889885267261,889885266813,889885265472,889885268176,889885265021,889885267278,889885266820,889885265489,889885265939,889885268183,889885265038,889885267285,889885266837,889885265496,889885265946,889885268190,889885265045,889885267292,889885266844,889885265502,889885268206,889885265052,889885267308,889885266851,889885265519,889885268213,889885265069,889885266868,889885265533,889885268237,889885265083,889885266882,889885265540,889885268244,889885265090,889885266899,889885265557,889885268251,889885265106,889885266905,889885267803,889885267353,889885265564,889885268268,889885265113,889885266912,889885267360,889885265571,889885268275,889885265120,889885266929,889885267377,889885265588,889885268282,889885265137,889885266936,889885267384,889885265595,889885268299,889885265144,889885266943,889885265601,889885268305,889885265151,889885266950,889885265618,889885268312,889885265168,889885266967,889885265625,889885268329,889885265175,889885266974,889885265632,889885268336,889885265182,889885266981,889885267032,889885265687,889885265236,889885268381,889885267049,889885265694,889885265243,889885268398,889885267056,889885265700,889885265250,889885268404,889885267063,889885265717,889885265267,889885268411,889885267070,889885265724,889885265274,889885268428,889885267087,889885265731,889885265281,889885268435,889885266998,889885265649,889885265199,889885268343,889885267001,889885265656,889885265205,889885268350,889885267018,889885265663,889885265212,889885268367,889885267025,889885265670,889885267476,889885265229,889885268374,889885267674,889885267391,889885267728,889885265861,889885265953', 41187);\""
      ]
     },
     "execution_count": 110,
     "metadata": {},
     "output_type": "execute_result"
    }
   ],
   "source": [
    "insert_query"
   ]
  },
  {
   "cell_type": "code",
   "execution_count": 108,
   "id": "a94bb3aa",
   "metadata": {},
   "outputs": [
    {
     "name": "stdout",
     "output_type": "stream",
     "text": [
      "(0, 'MUK LUKS', 'Grey', '10', 47.0, 'https://i5.walmartimages.com/asr/421de5d5-3a74-4ca2-ae91-a75787f7da41_1.375e3cf74dc82303ce37bdf6a9742610.jpeg?odnHeight=450&odnWidth=450&odnBg=FFFFFF,https://i5.walmartimages.com/asr/202d5a0e-b2aa-4d47-b63c-661fc3f9cd69_1.a61c1848859953067192fb2ce1c4f916.jpeg?odnHeight=450&odnWidth=450&odnBg=FFFFFF,https://i5.walmartimages.com/asr/55a10ffd-de74-406b-8aa5-ae5be3569ee3_1.4b179b9702f0076cdf701afd0e7dcda2.jpeg?odnHeight=450&odnWidth=450&odnBg=FFFFFF,https://i5.walmartimages.com/asr/138e9ecf-fac8-4e9d-946a-7ca33dfa46aa_1.e4211c14f2a6ecf891e3d440402b5f82.jpeg?odnHeight=450&odnWidth=450&odnBg=FFFFFF,https://i5.walmartimages.com/asr/8c6c1ee4-7708-4d45-b48a-b30f974a5f2f_1.857088c50496451990583941d955218d.jpeg?odnHeight=450&odnWidth=450&odnBg=FFFFFF,https://i5.walmartimages.com/asr/a486d1cf-f2b5-49ca-b0f8-3e2db896c51c_1.de1c99ac6fdfcf3dc3ddbd9c1c6c72b1.jpeg?odnHeight=450&odnWidth=450&odnBg=FFFFFF', '725177540363', '033977045743')\n"
     ]
    }
   ],
   "source": [
    "cursor.execute('select * from tabla limit 1')\n",
    "for x in cursor:\n",
    "    print(x)"
   ]
  },
  {
   "cell_type": "code",
   "execution_count": 111,
   "id": "b23f603f",
   "metadata": {
    "scrolled": false
   },
   "outputs": [
    {
     "name": "stdout",
     "output_type": "stream",
     "text": [
      "(0, 'Grey', 0.2127659574468085)\n",
      "(1, 'Grey', 0.14893617021276595)\n",
      "(2, 'Grey', 0.1276595744680851)\n",
      "(3, 'Grey', 0.19148936170212766)\n",
      "(4, 'Grey', 0.1702127659574468)\n"
     ]
    }
   ],
   "source": [
    "cursor.execute('select id, color, size/prices from tabla limit 5')\n",
    "for x in cursor:\n",
    "    print(x)"
   ]
  },
  {
   "cell_type": "code",
   "execution_count": 128,
   "id": "07e2f53e",
   "metadata": {},
   "outputs": [
    {
     "data": {
      "text/html": [
       "<div>\n",
       "<style scoped>\n",
       "    .dataframe tbody tr th:only-of-type {\n",
       "        vertical-align: middle;\n",
       "    }\n",
       "\n",
       "    .dataframe tbody tr th {\n",
       "        vertical-align: top;\n",
       "    }\n",
       "\n",
       "    .dataframe thead th {\n",
       "        text-align: right;\n",
       "    }\n",
       "</style>\n",
       "<table border=\"1\" class=\"dataframe\">\n",
       "  <thead>\n",
       "    <tr style=\"text-align: right;\">\n",
       "      <th></th>\n",
       "      <th>id</th>\n",
       "      <th>color</th>\n",
       "      <th>cosa_rara</th>\n",
       "    </tr>\n",
       "  </thead>\n",
       "  <tbody>\n",
       "    <tr>\n",
       "      <th>0</th>\n",
       "      <td>0</td>\n",
       "      <td>Grey</td>\n",
       "      <td>0.212766</td>\n",
       "    </tr>\n",
       "    <tr>\n",
       "      <th>1</th>\n",
       "      <td>1</td>\n",
       "      <td>Grey</td>\n",
       "      <td>0.148936</td>\n",
       "    </tr>\n",
       "    <tr>\n",
       "      <th>2</th>\n",
       "      <td>2</td>\n",
       "      <td>Grey</td>\n",
       "      <td>0.127660</td>\n",
       "    </tr>\n",
       "    <tr>\n",
       "      <th>3</th>\n",
       "      <td>3</td>\n",
       "      <td>Grey</td>\n",
       "      <td>0.191489</td>\n",
       "    </tr>\n",
       "    <tr>\n",
       "      <th>4</th>\n",
       "      <td>4</td>\n",
       "      <td>Grey</td>\n",
       "      <td>0.170213</td>\n",
       "    </tr>\n",
       "  </tbody>\n",
       "</table>\n",
       "</div>"
      ],
      "text/plain": [
       "   id color  cosa_rara\n",
       "0   0  Grey   0.212766\n",
       "1   1  Grey   0.148936\n",
       "2   2  Grey   0.127660\n",
       "3   3  Grey   0.191489\n",
       "4   4  Grey   0.170213"
      ]
     },
     "execution_count": 128,
     "metadata": {},
     "output_type": "execute_result"
    }
   ],
   "source": [
    "query='select id, color, size/prices as cosa_rara from tabla'\n",
    "\n",
    "data=pd.read_sql(query, db)\n",
    "\n",
    "data.head()"
   ]
  },
  {
   "cell_type": "code",
   "execution_count": null,
   "id": "8a800ce8",
   "metadata": {},
   "outputs": [],
   "source": []
  }
 ],
 "metadata": {
  "kernelspec": {
   "display_name": "clase",
   "language": "python",
   "name": "clase"
  },
  "language_info": {
   "codemirror_mode": {
    "name": "ipython",
    "version": 3
   },
   "file_extension": ".py",
   "mimetype": "text/x-python",
   "name": "python",
   "nbconvert_exporter": "python",
   "pygments_lexer": "ipython3",
   "version": "3.7.10"
  },
  "varInspector": {
   "cols": {
    "lenName": 16,
    "lenType": 16,
    "lenVar": 40
   },
   "kernels_config": {
    "python": {
     "delete_cmd_postfix": "",
     "delete_cmd_prefix": "del ",
     "library": "var_list.py",
     "varRefreshCmd": "print(var_dic_list())"
    },
    "r": {
     "delete_cmd_postfix": ") ",
     "delete_cmd_prefix": "rm(",
     "library": "var_list.r",
     "varRefreshCmd": "cat(var_dic_list()) "
    }
   },
   "types_to_exclude": [
    "module",
    "function",
    "builtin_function_or_method",
    "instance",
    "_Feature"
   ],
   "window_display": false
  }
 },
 "nbformat": 4,
 "nbformat_minor": 5
}
