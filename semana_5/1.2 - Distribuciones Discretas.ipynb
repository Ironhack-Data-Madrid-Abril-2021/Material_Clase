{
 "cells": [
  {
   "cell_type": "markdown",
   "id": "e301be47",
   "metadata": {},
   "source": [
    "# 1.2 - Distribuciones Discretas\n",
    "\n",
    "\n",
    "Una distribución discreta describe la probabilidad de ocurrencia de cada valor de una variable aleatoria discreta. Una variable aleatoria discreta es una variable aleatoria que tiene valores contables, tales como una lista de enteros no negativos. Con una distribución de probabilidad discreta, cada valor posible de la variable aleatoria discreta puede estar asociado con una probabilidad distinta de cero. Por lo tanto, una distribución de probabilidad discreta suele representarse en forma tabular.\n",
    "\n",
    "### Variables aleatorias\n",
    "\n",
    "+ Variable aleatoria: Es aquella cuyo valor es el resultado de un evento aleatorio. Lo que quiere decir que son los resultados que se presentan al azar en cualquier evento o experimento.\n",
    "\n",
    "+ Variable aleatoria discreta: Es aquella que solo toma ciertos valores, frecuentemente enteros, y que resulta principalmente del conteo realizado.\n",
    "\n",
    "+ Variable aleatoria continua: Es aquella que resulta generalmente de la medición y puede tomar cualquier valor dentro de un intervalo dado.\n"
   ]
  },
  {
   "cell_type": "markdown",
   "id": "7681b10c",
   "metadata": {},
   "source": [
    "### Bernoulli\n",
    "\n",
    "https://es.wikipedia.org/wiki/Distribuci%C3%B3n_Bernoulli\n",
    "\n",
    "$$X \\sim Bernoulli(p)$$\n",
    "\n",
    "Se basa en el experiemento de Bernoulli. Solo tiene dos posibles resultados, con probabilidad $p$ y $1-p$.\n",
    "\n",
    "**Ejemplo :** Moneda sesgada.\n",
    "\n",
    "$\\Omega = \\{0, 1\\}$  Espacio muestral, pensando en cara-cruz.\n",
    "\n",
    "Llamamos $p$ a la probabilidad de éxito, que salga cara por ejemplo."
   ]
  },
  {
   "cell_type": "code",
   "execution_count": 1,
   "id": "d0cca82a",
   "metadata": {},
   "outputs": [],
   "source": [
    "p = 0.8"
   ]
  },
  {
   "cell_type": "markdown",
   "id": "9a1c5622",
   "metadata": {},
   "source": [
    "$P(X=1)=p=0.8$\n",
    "\n",
    "$P(X=0)=1-p=0.2$"
   ]
  },
  {
   "cell_type": "code",
   "execution_count": 2,
   "id": "d05ec178",
   "metadata": {},
   "outputs": [],
   "source": [
    "from scipy.stats import bernoulli"
   ]
  },
  {
   "cell_type": "code",
   "execution_count": 3,
   "id": "00e53622",
   "metadata": {},
   "outputs": [],
   "source": [
    "jacob_b=bernoulli(p)"
   ]
  },
  {
   "cell_type": "code",
   "execution_count": 4,
   "id": "47db9cb8",
   "metadata": {},
   "outputs": [
    {
     "data": {
      "text/plain": [
       "<scipy.stats._distn_infrastructure.rv_frozen at 0x11f57bed0>"
      ]
     },
     "execution_count": 4,
     "metadata": {},
     "output_type": "execute_result"
    }
   ],
   "source": [
    "jacob_b"
   ]
  },
  {
   "cell_type": "code",
   "execution_count": 5,
   "id": "160ad7c8",
   "metadata": {},
   "outputs": [
    {
     "data": {
      "text/plain": [
       "array([0])"
      ]
     },
     "execution_count": 5,
     "metadata": {},
     "output_type": "execute_result"
    }
   ],
   "source": [
    "jacob_b.rvs(size=1)  # rvs=random variable sample (muestra aleatoria simple, m.a.s. es castellano)"
   ]
  },
  {
   "cell_type": "code",
   "execution_count": 6,
   "id": "49395ce8",
   "metadata": {},
   "outputs": [
    {
     "data": {
      "text/plain": [
       "array([1, 1, 1, 1, 1, 0, 1, 0, 0, 1, 1, 1, 1, 0, 1, 1, 1, 1, 1, 1, 1, 0,\n",
       "       1, 1, 1, 1, 1, 1, 1, 1, 1, 1, 1, 1, 1, 1, 0, 1, 1, 0, 1, 0, 0, 1,\n",
       "       1, 0, 0, 1, 1, 0, 1, 0, 0, 1, 0, 1, 1, 1, 1, 1, 1, 1, 1, 1, 1, 1,\n",
       "       1, 1, 1, 0, 1, 0, 1, 1, 0, 1, 1, 0, 1, 1, 1, 1, 1, 1, 1, 1, 1, 1,\n",
       "       1, 1, 1, 0, 1, 1, 1, 1, 1, 1, 1, 1])"
      ]
     },
     "execution_count": 6,
     "metadata": {},
     "output_type": "execute_result"
    }
   ],
   "source": [
    "muestra=jacob_b.rvs(size=100) \n",
    "\n",
    "muestra"
   ]
  },
  {
   "cell_type": "code",
   "execution_count": 7,
   "id": "aabdcc12",
   "metadata": {},
   "outputs": [
    {
     "data": {
      "text/plain": [
       "80"
      ]
     },
     "execution_count": 7,
     "metadata": {},
     "output_type": "execute_result"
    }
   ],
   "source": [
    "sum(muestra)"
   ]
  },
  {
   "cell_type": "code",
   "execution_count": 8,
   "id": "ee19b571",
   "metadata": {},
   "outputs": [
    {
     "data": {
      "image/png": "[encoded data removed]",
      "text/plain": [
       "<Figure size 432x288 with 1 Axes>"
      ]
     },
     "metadata": {
      "needs_background": "light"
     },
     "output_type": "display_data"
    }
   ],
   "source": [
    "import seaborn as sns\n",
    "\n",
    "sns.countplot(x=muestra);"
   ]
  },
  {
   "cell_type": "markdown",
   "id": "33e3185d",
   "metadata": {},
   "source": [
    "### Distribución Binomial\n",
    "\n",
    "https://es.wikipedia.org/wiki/Distribuci%C3%B3n_binomial\n",
    "\n",
    "\n",
    "$$X \\sim Binomial(N, p)$$\n",
    "\n",
    "$$P(X=k)={N \\choose k} p^{k}(1-p)^{N-k}$$\n",
    "\n",
    "donde:\n",
    "${N \\choose k} \\equiv \\frac{N!}{k!(N-k)!}$\n",
    "\n",
    "\n",
    "La distribución binomial es una distribución de probabilidad discreta que cuenta el número de éxitos en una secuencia de $N$ ensayos de Bernoulli independientes entre sí con una probabilidad fija $p$ de ocurrencia de éxito entre los ensayos.\n",
    "\n",
    "\n",
    "**Ejemplo :** Lanzamiento de moneda y/o dado.\n",
    "\n",
    "$N$ es el número de lanzamientos.\n",
    "\n",
    "$p$ es la probabilidad de éxito, que salga cara por ejemplo.\n",
    "\n",
    "$\\Omega = \\{0, 1, 2, 3, ..., N-1, N\\}$"
   ]
  },
  {
   "cell_type": "code",
   "execution_count": 9,
   "id": "48dd25d7",
   "metadata": {},
   "outputs": [
    {
     "data": {
      "text/plain": [
       "0.11718750000000014"
      ]
     },
     "execution_count": 9,
     "metadata": {},
     "output_type": "execute_result"
    }
   ],
   "source": [
    "from scipy.stats import binom\n",
    "import matplotlib.pyplot as plt\n",
    "\n",
    "# binom.pmf(k, n, p)   # k=nº de exitos, n=nº de repeticiones, p=probabilidad del evento\n",
    "\n",
    "binom.pmf(3, 10, 0.5)  # ¿Cual es la prob de que salgan tres caras si tiro 10 veces la moneda?"
   ]
  },
  {
   "cell_type": "code",
   "execution_count": 10,
   "id": "993b31d2",
   "metadata": {},
   "outputs": [
    {
     "data": {
      "text/plain": [
       "0.1294102919789899"
      ]
     },
     "execution_count": 10,
     "metadata": {},
     "output_type": "execute_result"
    }
   ],
   "source": [
    "binom.pmf(5, 20, 1/6)  # ¿Cual es la prob de que salgan 5 doses si tiro 20 veces un dado?"
   ]
  },
  {
   "cell_type": "code",
   "execution_count": 11,
   "id": "aa0ccae6",
   "metadata": {},
   "outputs": [
    {
     "data": {
      "text/plain": [
       "0.9999990463256827"
      ]
     },
     "execution_count": 11,
     "metadata": {},
     "output_type": "execute_result"
    },
    {
     "data": {
      "image/png": "[encoded data removed]",
      "text/plain": [
       "<Figure size 432x288 with 1 Axes>"
      ]
     },
     "metadata": {
      "needs_background": "light"
     },
     "output_type": "display_data"
    }
   ],
   "source": [
    "x=[i for i in range(20)]             # numero de exitos\n",
    "y=[binom.pmf(x, 20, 0.5) for x in x] # su probabilidad\n",
    "\n",
    "plt.plot(x, y);\n",
    "sum(y)"
   ]
  },
  {
   "cell_type": "code",
   "execution_count": 12,
   "id": "3d1069b1",
   "metadata": {},
   "outputs": [
    {
     "data": {
      "image/png": "[encoded data removed]",
      "text/plain": [
       "<Figure size 432x288 with 1 Axes>"
      ]
     },
     "metadata": {
      "needs_background": "light"
     },
     "output_type": "display_data"
    }
   ],
   "source": [
    "x=[i for i in range(20)]             # numero de exitos\n",
    "y=[binom.cdf(x, 20, 0.8) for x in x] # su probabilidad\n",
    "\n",
    "plt.plot(x, y);"
   ]
  },
  {
   "cell_type": "code",
   "execution_count": 13,
   "id": "ccfafea9",
   "metadata": {},
   "outputs": [
    {
     "data": {
      "text/plain": [
       "array([5])"
      ]
     },
     "execution_count": 13,
     "metadata": {},
     "output_type": "execute_result"
    }
   ],
   "source": [
    "binom(10, 0.5).rvs(size=1)"
   ]
  },
  {
   "cell_type": "code",
   "execution_count": 14,
   "id": "f4ade3b7",
   "metadata": {},
   "outputs": [
    {
     "data": {
      "text/plain": [
       "array([1, 4, 3, 6, 5, 5, 4, 6, 8, 5])"
      ]
     },
     "execution_count": 14,
     "metadata": {},
     "output_type": "execute_result"
    }
   ],
   "source": [
    "muestra=binom(10, 0.5).rvs(size=500)\n",
    "\n",
    "muestra[:10]"
   ]
  },
  {
   "cell_type": "code",
   "execution_count": 15,
   "id": "7ef19892",
   "metadata": {},
   "outputs": [
    {
     "data": {
      "image/png": "[encoded data removed]",
      "text/plain": [
       "<Figure size 432x288 with 1 Axes>"
      ]
     },
     "metadata": {
      "needs_background": "light"
     },
     "output_type": "display_data"
    }
   ],
   "source": [
    "sns.countplot(x=muestra);"
   ]
  },
  {
   "cell_type": "markdown",
   "id": "2c81b935",
   "metadata": {},
   "source": [
    "**Momentos centrales**\n",
    "\n",
    "https://es.wikipedia.org/wiki/Momento_central"
   ]
  },
  {
   "cell_type": "code",
   "execution_count": 16,
   "id": "7ce2899e",
   "metadata": {},
   "outputs": [
    {
     "data": {
      "text/plain": [
       "(array(3.), array(2.1), array(0.27602622), array(-0.12380952))"
      ]
     },
     "execution_count": 16,
     "metadata": {},
     "output_type": "execute_result"
    }
   ],
   "source": [
    "n=10\n",
    "p=0.3\n",
    "\n",
    "media, var, sime, kurt = binom.stats(n, p, moments='mvsk')\n",
    "\n",
    "media, var, sime, kurt"
   ]
  },
  {
   "cell_type": "markdown",
   "id": "7d104c81",
   "metadata": {},
   "source": [
    "**Aclaración:**\n",
    "\n",
    " * `.rvs`: Devuelve una muestra aleatoria simple\n",
    " * `.pmf`: (probability mass function) Funcion de masa de probabilidad, para distribuciones discretas\n",
    " * `.pdf`: (probability density function) Funcion de densidad de probabilidad, para distribuciones continuas\n",
    " * `.cdf`: (cumulative mass function) Funcion acumulada de probabilidad, para distribuciones discretas y continuas\n",
    " * `.ppf`: (percentile probability function) Inversa de la funcion acumulada, para distribuciones continuas\n"
   ]
  },
  {
   "cell_type": "markdown",
   "id": "f395e572",
   "metadata": {},
   "source": [
    "### Distribución Binomial Negativa\n",
    "\n",
    "https://es.wikipedia.org/wiki/Distribuci%C3%B3n_binomial_negativa\n",
    "\n",
    "\n",
    "$$X \\sim BN(r, p)$$\n",
    "\n",
    "$$P(X=k)={N \\choose k} p^{k}(1-p)^{N-k}$$\n",
    "\n",
    "donde:\n",
    "${N \\choose k} \\equiv \\frac{N!}{k!(N-k)!}$\n",
    "\n",
    "\n",
    "La distribución binomial es una distribución de probabilidad discreta que cuenta el número de éxitos en una secuencia de $N$ ensayos de Bernoulli independientes entre sí con una probabilidad fija $p$ de ocurrencia de éxito entre los ensayos.\n",
    "\n",
    "\n",
    "**Ejemplo :** Lanzamiento de moneda y/o dado.\n",
    "\n",
    "$N$ es el número de lanzamientos.\n",
    "\n",
    "$p$ es la probabilidad de éxito, que salga cara por ejemplo.\n",
    "\n",
    "$\\Omega = \\{0, 1, 2, 3, ..., N-1, N\\}$"
   ]
  },
  {
   "cell_type": "code",
   "execution_count": 17,
   "id": "f4128f10",
   "metadata": {},
   "outputs": [],
   "source": [
    "from scipy.stats import nbinom"
   ]
  },
  {
   "cell_type": "code",
   "execution_count": 18,
   "id": "b9c4825f",
   "metadata": {},
   "outputs": [
    {
     "data": {
      "text/plain": [
       "0.026855468749999993"
      ]
     },
     "execution_count": 18,
     "metadata": {},
     "output_type": "execute_result"
    }
   ],
   "source": [
    "nbinom.pmf(3, 10, 0.5)   # ¿Que prob hay de que la decima tirada corresponda con la tercera cara que sale?"
   ]
  },
  {
   "cell_type": "code",
   "execution_count": 19,
   "id": "751a8047",
   "metadata": {},
   "outputs": [
    {
     "data": {
      "text/plain": [
       "0.046142578125000014"
      ]
     },
     "execution_count": 19,
     "metadata": {},
     "output_type": "execute_result"
    }
   ],
   "source": [
    "nbinom.cdf(3, 10, 0.5)"
   ]
  },
  {
   "cell_type": "code",
   "execution_count": 20,
   "id": "07e80ff1",
   "metadata": {},
   "outputs": [
    {
     "data": {
      "image/png": "[encoded data removed]",
      "text/plain": [
       "<Figure size 432x288 with 1 Axes>"
      ]
     },
     "metadata": {
      "needs_background": "light"
     },
     "output_type": "display_data"
    }
   ],
   "source": [
    "x=[i for i in range(50)]  \n",
    "y=[nbinom.pmf(x, 20, 0.5) for x in x] \n",
    "\n",
    "plt.plot(x, y);"
   ]
  },
  {
   "cell_type": "code",
   "execution_count": 21,
   "id": "acf72b41",
   "metadata": {},
   "outputs": [
    {
     "data": {
      "image/png": "[encoded data removed]",
      "text/plain": [
       "<Figure size 432x288 with 1 Axes>"
      ]
     },
     "metadata": {
      "needs_background": "light"
     },
     "output_type": "display_data"
    }
   ],
   "source": [
    "x=[i for i in range(20)]  \n",
    "y=[nbinom.cdf(x, 20, 0.8) for x in x] \n",
    "\n",
    "plt.plot(x, y);"
   ]
  },
  {
   "cell_type": "code",
   "execution_count": 22,
   "id": "b7f2cea9",
   "metadata": {},
   "outputs": [
    {
     "data": {
      "text/plain": [
       "array([ 7,  6, 12,  8,  8,  8, 23, 16,  4,  5])"
      ]
     },
     "execution_count": 22,
     "metadata": {},
     "output_type": "execute_result"
    }
   ],
   "source": [
    "muestra=nbinom(10, 0.5).rvs(size=500)\n",
    "\n",
    "muestra[:10]"
   ]
  },
  {
   "cell_type": "code",
   "execution_count": 23,
   "id": "98ad729e",
   "metadata": {},
   "outputs": [
    {
     "data": {
      "image/png": "[encoded data removed]",
      "text/plain": [
       "<Figure size 432x288 with 1 Axes>"
      ]
     },
     "metadata": {
      "needs_background": "light"
     },
     "output_type": "display_data"
    }
   ],
   "source": [
    "sns.countplot(x=muestra);"
   ]
  },
  {
   "cell_type": "markdown",
   "id": "ed5c4fea",
   "metadata": {},
   "source": [
    "### Distribución Geométrica\n",
    "\n",
    "https://es.wikipedia.org/wiki/Distribuci%C3%B3n_geom%C3%A9trica\n",
    "\n",
    "\n",
    "$$X \\sim Geom(p)$$\n",
    "\n",
    "$$P(X=k)= p · (1-p)^{k}$$\n",
    "\n",
    "para $k = 0, 1, 2, 3, 4...$\n",
    "\n",
    "\n",
    "La distribución geométrica es un modelo adecuado para aquellos procesos en los que se repiten pruebas hasta la consecución del éxito a resultado deseado y tiene interesantes aplicaciones en los muestreos realizados de esta manera. "
   ]
  },
  {
   "cell_type": "code",
   "execution_count": 24,
   "id": "13ff1455",
   "metadata": {},
   "outputs": [],
   "source": [
    "from scipy.stats import geom"
   ]
  },
  {
   "cell_type": "code",
   "execution_count": 25,
   "id": "42eb5c89",
   "metadata": {},
   "outputs": [
    {
     "data": {
      "text/plain": [
       "0.03125"
      ]
     },
     "execution_count": 25,
     "metadata": {},
     "output_type": "execute_result"
    }
   ],
   "source": [
    "# geom.pmf(k, p)\n",
    "\n",
    "geom.pmf(5, 0.5)   # ¿Cual es la prob de exito en el k-esimo intento?"
   ]
  },
  {
   "cell_type": "code",
   "execution_count": 26,
   "id": "1ada10d7",
   "metadata": {},
   "outputs": [
    {
     "data": {
      "image/png": "[encoded data removed]",
      "text/plain": [
       "<Figure size 432x288 with 1 Axes>"
      ]
     },
     "metadata": {
      "needs_background": "light"
     },
     "output_type": "display_data"
    }
   ],
   "source": [
    "x=[i for i in range(20)]  \n",
    "y=[geom.pmf(x, 0.5) for x in x] \n",
    "\n",
    "plt.plot(x, y);"
   ]
  },
  {
   "cell_type": "code",
   "execution_count": 27,
   "id": "437a15dc",
   "metadata": {},
   "outputs": [
    {
     "data": {
      "image/png": "[encoded data removed]",
      "text/plain": [
       "<Figure size 432x288 with 1 Axes>"
      ]
     },
     "metadata": {
      "needs_background": "light"
     },
     "output_type": "display_data"
    }
   ],
   "source": [
    "x=[i for i in range(20)]  \n",
    "y=[geom.cdf(x, 0.5) for x in x] \n",
    "\n",
    "plt.plot(x, y);"
   ]
  },
  {
   "cell_type": "markdown",
   "id": "f83bd315",
   "metadata": {},
   "source": [
    "### Distribución Uniforme Discreta\n",
    "\n",
    "https://es.wikipedia.org/wiki/Distribuci%C3%B3n_uniforme_discreta\n",
    "\n",
    "$$X \\sim Uniforme(x_{1}, x_{2},..., x_{n})$$\n",
    "\n",
    "$$P(X=k)= \\frac{1}{n}$$\n",
    "\n",
    "para $k = k_{1}, k_{2},..., k_{n}$\n",
    "\n",
    "La distribución uniforme discreta es una distribución de probabilidad discreta que surge en espacios de probabilidad equiprobables, es decir, en situaciones donde de $n$ resultados diferentes, todos tienen la misma probabilidad de ocurrir. "
   ]
  },
  {
   "cell_type": "code",
   "execution_count": 28,
   "id": "6be2d638",
   "metadata": {},
   "outputs": [
    {
     "data": {
      "text/plain": [
       "array([0.125, 0.125, 0.125, 0.   , 0.   ])"
      ]
     },
     "execution_count": 28,
     "metadata": {},
     "output_type": "execute_result"
    }
   ],
   "source": [
    "from scipy.stats import randint\n",
    "\n",
    "randint.pmf([0, 6, 7, 8, 10], 0, 8)   # (elementos, intervalo)"
   ]
  },
  {
   "cell_type": "code",
   "execution_count": 29,
   "id": "cbedc9d8",
   "metadata": {},
   "outputs": [
    {
     "data": {
      "image/png": "[encoded data removed]",
      "text/plain": [
       "<Figure size 432x288 with 1 Axes>"
      ]
     },
     "metadata": {
      "needs_background": "light"
     },
     "output_type": "display_data"
    }
   ],
   "source": [
    "x=[i for i in range(-5, 20)]  \n",
    "y=[randint.pmf(x, 0, 8) for x in x] \n",
    "\n",
    "plt.scatter(x, y);"
   ]
  },
  {
   "cell_type": "code",
   "execution_count": 30,
   "id": "53630267",
   "metadata": {},
   "outputs": [
    {
     "data": {
      "image/png": "[encoded data removed]",
      "text/plain": [
       "<Figure size 432x288 with 1 Axes>"
      ]
     },
     "metadata": {
      "needs_background": "light"
     },
     "output_type": "display_data"
    }
   ],
   "source": [
    "x=[i for i in range(-5, 20)]  \n",
    "y=[randint.cdf(x, 0, 8) for x in x] \n",
    "\n",
    "plt.plot(x, y);"
   ]
  },
  {
   "cell_type": "markdown",
   "id": "d6be3bb5",
   "metadata": {},
   "source": [
    "### Distribución de Poisson (ley de sucesos raros)\n",
    "\n",
    "https://es.wikipedia.org/wiki/Distribuci%C3%B3n_de_Poisson\n",
    "\n",
    "\n",
    "$$X \\sim Poisson(\\lambda)$$\n",
    "\n",
    "$$P(X=k)=\\frac{\\lambda ^{k}e^{-\\lambda }}{k!}$$\n",
    "\n",
    "para $k = 0, 1, 2,..$\n",
    "\n",
    "La distribución de Poisson es una distribución de probabilidad discreta que expresa, a partir de una frecuencia de ocurrencia media, la probabilidad de que ocurra un determinado número de eventos durante cierto período de tiempo. Concretamente, se especializa en la probabilidad de ocurrencia de sucesos con probabilidades muy pequeñas, o sucesos raros. "
   ]
  },
  {
   "cell_type": "code",
   "execution_count": 31,
   "id": "fefa3d9d",
   "metadata": {},
   "outputs": [],
   "source": [
    "from scipy.stats import poisson"
   ]
  },
  {
   "cell_type": "code",
   "execution_count": 32,
   "id": "41da13e7",
   "metadata": {},
   "outputs": [
    {
     "data": {
      "text/plain": [
       "0.24166502466277437"
      ]
     },
     "execution_count": 32,
     "metadata": {},
     "output_type": "execute_result"
    }
   ],
   "source": [
    "# poisson.pmf(x, lambda)   , poisson.pmf(evento, media)\n",
    "\n",
    "poisson.pmf(2, 1.4)"
   ]
  },
  {
   "cell_type": "code",
   "execution_count": 33,
   "id": "61fbdce2",
   "metadata": {},
   "outputs": [
    {
     "data": {
      "image/png": "[encoded data removed]",
      "text/plain": [
       "<Figure size 432x288 with 1 Axes>"
      ]
     },
     "metadata": {
      "needs_background": "light"
     },
     "output_type": "display_data"
    }
   ],
   "source": [
    "x=[i for i in range(20)]  \n",
    "y=[poisson.pmf(x, 1.4) for x in x] \n",
    "\n",
    "plt.plot(x, y);"
   ]
  },
  {
   "cell_type": "code",
   "execution_count": 34,
   "id": "65d1b3f1",
   "metadata": {},
   "outputs": [
    {
     "data": {
      "image/png": "[encoded data removed]",
      "text/plain": [
       "<Figure size 432x288 with 1 Axes>"
      ]
     },
     "metadata": {
      "needs_background": "light"
     },
     "output_type": "display_data"
    }
   ],
   "source": [
    "# comparacion con diferentes medias\n",
    "\n",
    "x=[i for i in range(20)]  \n",
    "y=[poisson.pmf(x, 1.4) for x in x] \n",
    "plt.plot(x, y)\n",
    "\n",
    "y=[poisson.pmf(x, 1) for x in x] \n",
    "plt.plot(x, y)\n",
    "\n",
    "y=[poisson.pmf(x, 2.4) for x in x] \n",
    "plt.plot(x, y)\n",
    "\n",
    "y=[poisson.pmf(x, 5) for x in x] \n",
    "plt.plot(x, y)\n",
    "\n",
    "y=[poisson.pmf(x, 10) for x in x] \n",
    "plt.plot(x, y)\n",
    "plt.show();"
   ]
  },
  {
   "cell_type": "code",
   "execution_count": 35,
   "id": "4c4e933f",
   "metadata": {},
   "outputs": [
    {
     "data": {
      "image/png": "[encoded data removed]",
      "text/plain": [
       "<Figure size 432x288 with 1 Axes>"
      ]
     },
     "metadata": {
      "needs_background": "light"
     },
     "output_type": "display_data"
    }
   ],
   "source": [
    "x=[i for i in range(20)]  \n",
    "y=[poisson.cdf(x, 1.4) for x in x] \n",
    "\n",
    "plt.plot(x, y);"
   ]
  }
 ],
 "metadata": {
  "kernelspec": {
   "display_name": "Python 3",
   "language": "python",
   "name": "python3"
  },
  "language_info": {
   "codemirror_mode": {
    "name": "ipython",
    "version": 3
   },
   "file_extension": ".py",
   "mimetype": "text/x-python",
   "name": "python",
   "nbconvert_exporter": "python",
   "pygments_lexer": "ipython3",
   "version": "3.7.10"
  },
  "varInspector": {
   "cols": {
    "lenName": 16,
    "lenType": 16,
    "lenVar": 40
   },
   "kernels_config": {
    "python": {
     "delete_cmd_postfix": "",
     "delete_cmd_prefix": "del ",
     "library": "var_list.py",
     "varRefreshCmd": "print(var_dic_list())"
    },
    "r": {
     "delete_cmd_postfix": ") ",
     "delete_cmd_prefix": "rm(",
     "library": "var_list.r",
     "varRefreshCmd": "cat(var_dic_list()) "
    }
   },
   "types_to_exclude": [
    "module",
    "function",
    "builtin_function_or_method",
    "instance",
    "_Feature"
   ],
   "window_display": false
  }
 },
 "nbformat": 4,
 "nbformat_minor": 5
}
