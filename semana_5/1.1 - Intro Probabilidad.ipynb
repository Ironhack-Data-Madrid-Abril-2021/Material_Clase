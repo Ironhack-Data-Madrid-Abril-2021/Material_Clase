{
 "cells": [
  {
   "cell_type": "markdown",
   "metadata": {},
   "source": [
    "# 1.1 - Intro Probabilidad"
   ]
  },
  {
   "cell_type": "markdown",
   "metadata": {},
   "source": [
    "### Axiomas de la probabilidad (Kolmogorov)\n",
    "\n",
    "https://es.wikipedia.org/wiki/Axiomas_de_probabilidad\n",
    "\n",
    "**Axioma 1:** La probabilidad de un evento E no puede ser negativa. De hecho, $P(E) \\in [0,1]$.\n",
    "\n",
    "**Axioma 2:** La probabilidad del evento seguro es igual a 1. La probabilidad del evento imposible es igual a 0.\n",
    "\n",
    "**Axioma 3:** Si $E_{1}, E_{2}, ...$ son eventos mutuamente excluyentes, es decir, su intersección es el conjunto vacío, entonces:\n",
    "\n",
    "$$P(E_{1} \\cup E_{2} \\cup ... \\cup E_{n}) = \\sum_{i=1}^{n}{P(E_{i})}$$\n"
   ]
  },
  {
   "cell_type": "markdown",
   "metadata": {},
   "source": [
    "### Espacio muestral\n",
    "\n",
    "* El **espacio muestral** $\\Omega$ de un experimento es el **conjunto** de posibles resultados.\n",
    "* Un evento es un subconjunto del espacio muestral."
   ]
  },
  {
   "cell_type": "markdown",
   "metadata": {},
   "source": [
    "### Experimento aleatorio (experimento de Bernoulli)\n",
    "\n",
    "**Ejemplo:** Lanzar monedas."
   ]
  },
  {
   "cell_type": "markdown",
   "metadata": {},
   "source": [
    "El espacio muestral es $\\Omega = \\{cara, cruz\\}$\n",
    "\n",
    "$P(cara) = \\frac{1}{2} (=0.5 = 50\\%)$\n",
    "\n",
    "$P(cruz) = \\frac{1}{2}$"
   ]
  },
  {
   "cell_type": "code",
   "execution_count": 1,
   "metadata": {},
   "outputs": [],
   "source": [
    "espacio_muestral=['cara', 'cruz']"
   ]
  },
  {
   "cell_type": "code",
   "execution_count": 2,
   "metadata": {},
   "outputs": [
    {
     "data": {
      "text/plain": [
       "['cara',\n",
       " 'cara',\n",
       " 'cara',\n",
       " 'cara',\n",
       " 'cruz',\n",
       " 'cruz',\n",
       " 'cara',\n",
       " 'cara',\n",
       " 'cara',\n",
       " 'cruz']"
      ]
     },
     "execution_count": 2,
     "metadata": {},
     "output_type": "execute_result"
    }
   ],
   "source": [
    "# tiramos 10 veces la moneda\n",
    "\n",
    "import random\n",
    "\n",
    "tiradas=random.choices(espacio_muestral, k=10)\n",
    "tiradas"
   ]
  },
  {
   "cell_type": "code",
   "execution_count": 3,
   "metadata": {},
   "outputs": [
    {
     "data": {
      "text/plain": [
       "0.7"
      ]
     },
     "execution_count": 3,
     "metadata": {},
     "output_type": "execute_result"
    }
   ],
   "source": [
    "frequencia_cara=tiradas.count('cara') / len(tiradas)\n",
    "frequencia_cara"
   ]
  },
  {
   "cell_type": "code",
   "execution_count": 4,
   "metadata": {},
   "outputs": [
    {
     "data": {
      "text/plain": [
       "0.5029"
      ]
     },
     "execution_count": 4,
     "metadata": {},
     "output_type": "execute_result"
    }
   ],
   "source": [
    "# tiramos 10000 veces la moneda\n",
    "\n",
    "tiradas=random.choices(espacio_muestral, k=10000)\n",
    "frequencia_cara=tiradas.count('cara') / len(tiradas)\n",
    "frequencia_cara"
   ]
  },
  {
   "cell_type": "markdown",
   "metadata": {},
   "source": [
    "**Ejemplo:** Lanzar 2 monedas.\n",
    "\n",
    "El espacio muestral es $\\Omega = \\{cara-cara, cara-cruz, cruz-cara, cruz-cruz\\}$\n",
    "\n",
    "$P(2 caras) = \\frac{1}{4}$\n",
    "\n",
    "$P(2 cruces) = \\frac{1}{4}$\n",
    "\n",
    "$P(\\text{una de cada}) = \\frac{1}{2}$\n",
    "\n",
    "$P(\\text{las dos iguales}) = \\frac{1}{2}$\n",
    "\n",
    "$P(\\text{al menos una cara}) = \\frac{3}{4}$"
   ]
  },
  {
   "cell_type": "markdown",
   "metadata": {},
   "source": [
    "  "
   ]
  },
  {
   "cell_type": "markdown",
   "metadata": {},
   "source": [
    "**Ejemplo:** Lanzar un dado."
   ]
  },
  {
   "cell_type": "markdown",
   "metadata": {},
   "source": [
    "El espacio muestral es $\\Omega = \\{1, 2, 3, 4, 5, 6\\}$\n",
    "\n",
    "$P(1) = \\frac{1}{6}$\n",
    "\n",
    "$P(4) = \\frac{1}{6} \\sim 0.16$\n",
    "\n",
    "$P(7) = 0$\n",
    "\n",
    "$P(\\text{mayor que 1}) = \\frac{5}{6}$"
   ]
  },
  {
   "cell_type": "code",
   "execution_count": 5,
   "metadata": {},
   "outputs": [],
   "source": [
    "espacio_muestral=[1, 2, 3, 4, 5, 6]"
   ]
  },
  {
   "cell_type": "code",
   "execution_count": 6,
   "metadata": {},
   "outputs": [
    {
     "data": {
      "text/plain": [
       "[1, 3, 6, 5, 5, 3, 4, 6, 6, 3]"
      ]
     },
     "execution_count": 6,
     "metadata": {},
     "output_type": "execute_result"
    }
   ],
   "source": [
    "tiradas=random.choices(espacio_muestral, k=10)\n",
    "tiradas"
   ]
  },
  {
   "cell_type": "code",
   "execution_count": 7,
   "metadata": {},
   "outputs": [
    {
     "data": {
      "text/plain": [
       "0.0"
      ]
     },
     "execution_count": 7,
     "metadata": {},
     "output_type": "execute_result"
    }
   ],
   "source": [
    "frequencia_dos=tiradas.count(2) / len(tiradas)\n",
    "frequencia_dos"
   ]
  },
  {
   "cell_type": "code",
   "execution_count": 8,
   "metadata": {},
   "outputs": [
    {
     "data": {
      "text/plain": [
       "0.161"
      ]
     },
     "execution_count": 8,
     "metadata": {},
     "output_type": "execute_result"
    }
   ],
   "source": [
    "# tiramos 10000 veces el dado\n",
    "\n",
    "tiradas=random.choices(espacio_muestral, k=10000)\n",
    "\n",
    "frequencia_dos=tiradas.count(2) / len(tiradas)\n",
    "frequencia_dos"
   ]
  },
  {
   "cell_type": "markdown",
   "metadata": {},
   "source": [
    "## Regla de Laplace \n",
    "\n",
    "Si cada posible salida de $\\Omega$ ocurre con la **misma probabilidad**, entonces la probabilidad de cada evento es simplemente:\n",
    "\n",
    "$$P(evento)=\\frac {\\text{numero de salidas en el evento}}{\\text{numero de salidas en el espacio muestral}}$$\n",
    "\n",
    "\n",
    "**Ejemplo:** Lanzar 2 monedas.\n",
    "\n",
    "El espacio muestral es $\\Omega = \\{cara-cara, cara-cruz, cruz-cara, cruz-cruz\\}$\n",
    "\n",
    "$P(\\text{uno de cada}) = \\frac{2}{4}$\n",
    "\n",
    "$P(\\text{ambos el mismo}) = \\frac{2}{4}$"
   ]
  },
  {
   "cell_type": "markdown",
   "metadata": {},
   "source": [
    "## Eventos Compuestos\n",
    "\n",
    "#### Union, interseccion\n",
    "\n",
    "$A$ and $B$ son eventos  \n",
    "\n",
    "$A \\cap B$ (A interseccion B) es otro evento, que ocurre si **ambos** $A$ y $B$ ocurren.\n",
    "\n",
    "$A \\cup B$ (A union B) es otro evento, que ocurre si **cualquiera**  $A$ o $B$ ocurren.\n",
    "\n",
    "\n",
    "**Experimento de ejemplo**: sacar una carta de la baraja\n",
    "\n",
    "\n",
    "$P(rey)=\\frac{4}{40}$\n",
    "\n",
    "$P(oro)=\\frac{10}{40}$\n",
    "\n",
    "$P(rey \\cap oro)=\\frac{1}{40}$\n",
    "\n",
    "$P(rey \\cup oro)=\\frac{13}{40}$\n",
    "\n",
    "$$P(A \\cup B)=P(A)+P(B)-P(A \\cap B)$$"
   ]
  },
  {
   "cell_type": "markdown",
   "metadata": {},
   "source": [
    "## Independencia\n",
    "\n",
    "\n"
   ]
  },
  {
   "cell_type": "markdown",
   "metadata": {},
   "source": [
    "### Evento opuesto/complementario\n",
    "\n",
    "\n",
    "$A$ es un evento\n",
    "\n",
    "$\\overline{A}$ es el evento opuesto o complementario (también llamado $A'$)\n",
    "\n",
    "$P(\\text{no oro})=\\frac{30}{40}$\n",
    "\n",
    "$P(\\text{oro})=\\frac{10}{40}$\n",
    "\n",
    "$$P(\\overline{A}) = 1-P(A)$$"
   ]
  },
  {
   "cell_type": "markdown",
   "metadata": {},
   "source": [
    "## Probabilidad condicional\n",
    "\n",
    "$P(A|B)$ es la probabilidad de que ocurra $A$, sabiendo que $B$ ha ocurrido.\n",
    "\n",
    "Dando respuestas aproximadas:\n",
    " * ¿Cuál es la probabilidad de que un gato sea hembra?\n",
    " * ¿Cuál es la probabilidad de que un gato sea tricolor?\n",
    " * ¿Cuál es la probabilidad de que un gato sea hembra y tricolor?\n",
    " * Si un gato es hembra, ¿cuál es la probabilidad de que sea tricolor?\n",
    " * Si un gato es tricolor, ¿cuál es la probabilidad de que sea hembra?\n",
    " \n",
    " \n",
    " \n",
    "$P(\\text{hembra}) \\sim \\frac{1}{2}$\n",
    "\n",
    "$P(\\text{tricolor}) \\sim \\frac{1}{8}$\n",
    "\n",
    "$P(\\text{tricolor} \\cap \\text{hembra}) \\sim \\text{un poco menos de} \\frac{1}{8}$\n",
    "\n",
    "$P(\\text{tricolor} | \\text{hembra}) \\sim \\frac{1}{4}$\n",
    "\n",
    "$P(\\text{hembra} | \\text{tricolor}) \\sim 0.95$\n",
    "\n",
    "**Definicion formal:**\n",
    "\n",
    "$$P(A|B)=\\frac{P(A \\cap B)}{P(B)}$$\n",
    "\n",
    "$$P(\\text{tricolor} | \\text{hembra})=\\frac{P(\\text{tricolor} \\cap \\text{hembra})}{P(\\text{hembra})}$$\n",
    "\n",
    "$$P(\\text{tricolor} \\cap \\text{hembra}) = P(\\text{hembra}) · P(\\text{tricolor} | \\text{hembra})$$"
   ]
  },
  {
   "cell_type": "markdown",
   "metadata": {},
   "source": [
    "## Eventos independientes\n",
    "\n",
    "Si los eventos son independientes, la probabilidad de que ocurran **todos** ellos es el producto de sus respectivas probabilidades.\n",
    "\n",
    "$A$, $B$ independientes $\\Rightarrow$ $P(A \\cap B)=P(A) · P(B)$\n",
    "\n",
    "\n",
    "**Ejercicio**: ¿Cuál es la probabilidad de lanzar tres veces un dado y que salgan tres 5?\n",
    "\n",
    "$P(\\text{tres 5})=\\frac{1}{6}·\\frac{1}{6}·\\frac{1}{6}=\\frac{1}{216}$\n",
    "\n",
    "\n",
    "**Ejercicio**: Cogemos una carta de la baraja. Cogemos otra. ¿Cuál es la probabilidad de tener 2 ases?\n",
    "\n",
    "$P(\\text{2 ases})=\\frac{1}{10}·\\frac{1}{10}=\\frac{1}{100}$"
   ]
  },
  {
   "cell_type": "markdown",
   "metadata": {},
   "source": [
    "## Eventos dependientes\n",
    "\n",
    "Si los eventos son dependientes, la probabilidad de que ocurran todos ellos **no** es el producto de sus respectivas probabilidades.\n",
    "\n",
    "$A$, $B$ dependientes $\\Rightarrow$ $P(A \\cap B)=P(A) · P(B|A)$\n",
    "\n",
    "**Ejercicio**: Cogemos dos cartas de la baraja pero devolviendolas. ¿Cuál es la probabiliadd de haber cogido 2 ases?\n",
    "\n",
    "$P(\\text{primer as} \\cap \\text{segundo as}) = P(\\text{primer as}) · P(\\text{segundo as} | \\text{primer as})$\n",
    "\n",
    "$P(\\text{2 ases})=\\frac{1}{10}·\\frac{3}{39}=\\frac{1}{130}$\n",
    "\n",
    "\n",
    "**NOTA**: si $A$ no afecta a $B$ (son independientes), entonces $P(B|A)=P(B)$\n"
   ]
  }
 ],
 "metadata": {
  "kernelspec": {
   "display_name": "Python 3",
   "language": "python",
   "name": "python3"
  },
  "language_info": {
   "codemirror_mode": {
    "name": "ipython",
    "version": 3
   },
   "file_extension": ".py",
   "mimetype": "text/x-python",
   "name": "python",
   "nbconvert_exporter": "python",
   "pygments_lexer": "ipython3",
   "version": "3.7.10"
  },
  "varInspector": {
   "cols": {
    "lenName": 16,
    "lenType": 16,
    "lenVar": 40
   },
   "kernels_config": {
    "python": {
     "delete_cmd_postfix": "",
     "delete_cmd_prefix": "del ",
     "library": "var_list.py",
     "varRefreshCmd": "print(var_dic_list())"
    },
    "r": {
     "delete_cmd_postfix": ") ",
     "delete_cmd_prefix": "rm(",
     "library": "var_list.r",
     "varRefreshCmd": "cat(var_dic_list()) "
    }
   },
   "types_to_exclude": [
    "module",
    "function",
    "builtin_function_or_method",
    "instance",
    "_Feature"
   ],
   "window_display": false
  }
 },
 "nbformat": 4,
 "nbformat_minor": 4
}
