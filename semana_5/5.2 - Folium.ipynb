{
 "cells": [
  {
   "cell_type": "markdown",
   "metadata": {},
   "source": [
    "# 5.2- Folium\n",
    "\n",
    "https://python-visualization.github.io/folium/"
   ]
  },
  {
   "cell_type": "code",
   "execution_count": null,
   "metadata": {},
   "outputs": [],
   "source": [
    "!pip install folium"
   ]
  },
  {
   "cell_type": "code",
   "execution_count": null,
   "metadata": {},
   "outputs": [],
   "source": [
    "import folium"
   ]
  },
  {
   "cell_type": "code",
   "execution_count": null,
   "metadata": {},
   "outputs": [],
   "source": [
    "# crear mapa\n",
    "\n",
    "mapa=folium.Map(location=[40.416729, -3.703339],  # la posicion\n",
    "                tiles='openstreetmap',            # tipo de mapa, theme\n",
    "                zoom_start=12)                    # zoom inicial"
   ]
  },
  {
   "cell_type": "code",
   "execution_count": null,
   "metadata": {},
   "outputs": [],
   "source": [
    "# marcador\n",
    "\n",
    "folium.CircleMarker([40.416729, -3.703339],\n",
    "                  radius=10, \n",
    "                  icon=folium.Icon()).add_to(mapa)\n"
   ]
  },
  {
   "cell_type": "code",
   "execution_count": null,
   "metadata": {},
   "outputs": [],
   "source": [
    "# guarda el mapa en html\n",
    "\n",
    "mapa.save('images/madrid.html')"
   ]
  },
  {
   "cell_type": "code",
   "execution_count": null,
   "metadata": {},
   "outputs": [],
   "source": [
    "mapa"
   ]
  },
  {
   "cell_type": "code",
   "execution_count": null,
   "metadata": {},
   "outputs": [],
   "source": [
    "# otro mapa\n",
    "\n",
    "mapa2=folium.Map(location=[40.416729, -3.703339],\n",
    "                tiles='stamentoner',\n",
    "                zoom_start=10)\n",
    "\n",
    "lat=[40.42, 40.40, 40.4123, 40.5423]\n",
    "lng=[-3.71, -3.74, -3.61, -3.72]\n",
    "\n",
    "\n",
    "for i in range(len(lat)):\n",
    "    folium.Marker([lat[i], lng[i]], icon=folium.Icon(color='red')).add_to(mapa2)\n",
    "    \n",
    "mapa2.save('images/madrid2.html')\n",
    "\n",
    "mapa2"
   ]
  },
  {
   "cell_type": "code",
   "execution_count": null,
   "metadata": {},
   "outputs": [],
   "source": [
    "# heatmap\n",
    "\n",
    "import pandas as pd\n",
    "import folium.plugins\n",
    "\n",
    "df=pd.read_json('../data/oficinas.json')\n",
    "\n",
    "mapa3=folium.Map(location=[0, 0],\n",
    "                zoom_start=1.5)\n",
    "\n",
    "data=df[['lat', 'lng']].values\n",
    "\n",
    "mapa3.add_child(folium.plugins.HeatMap(data, radius=15))\n",
    "\n",
    "mapa3.save('images/heatmap.html')\n",
    "\n",
    "mapa3"
   ]
  },
  {
   "cell_type": "code",
   "execution_count": null,
   "metadata": {},
   "outputs": [],
   "source": [
    "# heatmap animado\n",
    "\n",
    "from folium.plugins import HeatMapWithTime as HMWT\n",
    "from folium.plugins import HeatMap as HM\n"
   ]
  },
  {
   "cell_type": "code",
   "execution_count": null,
   "metadata": {},
   "outputs": [],
   "source": [
    "df=pd.read_csv('../data/test_folium.csv')\n",
    "\n",
    "df.head()"
   ]
  },
  {
   "cell_type": "code",
   "execution_count": null,
   "metadata": {},
   "outputs": [],
   "source": [
    "# transformar segun el tiempo\n",
    "\n",
    "df.pickup_datetime=pd.to_datetime(df.pickup_datetime, format='%Y-%m-%d %H:%M:%S')\n",
    "\n",
    "df.head()"
   ]
  },
  {
   "cell_type": "code",
   "execution_count": null,
   "metadata": {},
   "outputs": [],
   "source": [
    "df['month']=df.pickup_datetime.apply(lambda x: x.month)\n",
    "\n",
    "df['week']=df.pickup_datetime.apply(lambda x: x.week)\n",
    "\n",
    "df['day']=df.pickup_datetime.apply(lambda x: x.day)\n",
    "\n",
    "df['hour']=df.pickup_datetime.apply(lambda x: x.hour)\n",
    "\n",
    "df.head()"
   ]
  },
  {
   "cell_type": "code",
   "execution_count": null,
   "metadata": {},
   "outputs": [],
   "source": [
    "def base_mapa(default=[40.732029, -73.988129], zoom=11):\n",
    "    \n",
    "    mapa= folium.Map(location=default, zoom_start=zoom)\n",
    "    \n",
    "    return mapa"
   ]
  },
  {
   "cell_type": "code",
   "execution_count": null,
   "metadata": {},
   "outputs": [],
   "source": [
    "mapa4=base_mapa()"
   ]
  },
  {
   "cell_type": "code",
   "execution_count": null,
   "metadata": {},
   "outputs": [],
   "source": [
    "df['count']=1\n",
    "\n",
    "data=df[['pickup_longitude', \n",
    "            'pickup_latitude', \n",
    "            'count']].groupby(['pickup_longitude', \n",
    "                               'pickup_latitude']).sum().reset_index().values.tolist()"
   ]
  },
  {
   "cell_type": "code",
   "execution_count": null,
   "metadata": {},
   "outputs": [],
   "source": [
    "HM(data=data, radius=8, max_zoom=13).add_to(mapa4)\n",
    "\n",
    "mapa4"
   ]
  },
  {
   "cell_type": "code",
   "execution_count": null,
   "metadata": {},
   "outputs": [],
   "source": [
    "base_map = base_mapa() # crea mapa\n",
    "\n",
    "HM(data=df[['pickup_latitude', \n",
    "                  'pickup_longitude', \n",
    "                  'count']].groupby(['pickup_latitude', \n",
    "                                     'pickup_longitude']).sum().reset_index().values.tolist(), \n",
    "    radius=8, \n",
    "        max_zoom=13).add_to(base_map) # pon los datos en heatmap\n",
    "\n",
    "base_map.save('images/base_heatmap.html')  # guarda\n",
    "\n",
    "base_map   # representa"
   ]
  },
  {
   "cell_type": "code",
   "execution_count": null,
   "metadata": {},
   "outputs": [],
   "source": [
    "df_hour_list = []\n",
    "for hour in df.hour.sort_values().unique():\n",
    "    df_hour_list.append(df.loc[df.hour == hour, \n",
    "                                    ['pickup_latitude', \n",
    "                                     'pickup_longitude', \n",
    "                                     'count']].groupby(['pickup_latitude', \n",
    "                                                        'pickup_longitude']).sum().reset_index().values.tolist())"
   ]
  },
  {
   "cell_type": "code",
   "execution_count": null,
   "metadata": {},
   "outputs": [],
   "source": [
    "base_map = base_mapa(zoom=11) # crea mapa\n",
    "\n",
    "HMWT(df_hour_list, \n",
    "     radius=5, \n",
    "     gradient={0.2: 'blue', 0.4: 'lime', 0.6: 'orange', 1: 'red'}, \n",
    "     min_opacity=0.5, \n",
    "     max_opacity=0.8, \n",
    "     use_local_extrema=True).add_to(base_map) # datos pata heatmap con tiempo\n",
    "\n",
    "base_map.save('images/animated_heatmap.html') # guarda\n",
    "\n",
    "base_map  # representa"
   ]
  },
  {
   "cell_type": "code",
   "execution_count": null,
   "metadata": {},
   "outputs": [],
   "source": []
  }
 ],
 "metadata": {
  "kernelspec": {
   "display_name": "clase",
   "language": "python",
   "name": "clase"
  },
  "language_info": {
   "codemirror_mode": {
    "name": "ipython",
    "version": 3
   },
   "file_extension": ".py",
   "mimetype": "text/x-python",
   "name": "python",
   "nbconvert_exporter": "python",
   "pygments_lexer": "ipython3",
   "version": "3.7.10"
  },
  "varInspector": {
   "cols": {
    "lenName": 16,
    "lenType": 16,
    "lenVar": 40
   },
   "kernels_config": {
    "python": {
     "delete_cmd_postfix": "",
     "delete_cmd_prefix": "del ",
     "library": "var_list.py",
     "varRefreshCmd": "print(var_dic_list())"
    },
    "r": {
     "delete_cmd_postfix": ") ",
     "delete_cmd_prefix": "rm(",
     "library": "var_list.r",
     "varRefreshCmd": "cat(var_dic_list()) "
    }
   },
   "types_to_exclude": [
    "module",
    "function",
    "builtin_function_or_method",
    "instance",
    "_Feature"
   ],
   "window_display": false
  }
 },
 "nbformat": 4,
 "nbformat_minor": 4
}
