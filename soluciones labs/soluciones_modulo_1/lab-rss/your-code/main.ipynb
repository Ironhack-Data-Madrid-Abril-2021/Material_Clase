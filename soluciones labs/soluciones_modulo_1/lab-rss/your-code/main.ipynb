{
 "cells": [
  {
   "cell_type": "markdown",
   "metadata": {},
   "source": [
    "# Working with RSS Feeds Lab\n",
    "\n",
    "Complete the following set of exercises to solidify your knowledge of parsing RSS feeds and extracting information from them."
   ]
  },
  {
   "cell_type": "code",
   "execution_count": 1,
   "metadata": {},
   "outputs": [],
   "source": [
    "import feedparser"
   ]
  },
  {
   "cell_type": "markdown",
   "metadata": {},
   "source": [
    "### 1. Use feedparser to parse the following RSS feed URL."
   ]
  },
  {
   "cell_type": "code",
   "execution_count": 2,
   "metadata": {},
   "outputs": [],
   "source": [
    "url = 'http://feeds.feedburner.com/oreilly/radar/atom'"
   ]
  },
  {
   "cell_type": "code",
   "execution_count": 3,
   "metadata": {},
   "outputs": [
    {
     "name": "stdout",
     "output_type": "stream",
     "text": [
      "<class 'feedparser.FeedParserDict'>\n"
     ]
    }
   ],
   "source": [
    "res=feedparser.parse(url)\n",
    "print (type(res))"
   ]
  },
  {
   "cell_type": "markdown",
   "metadata": {},
   "source": [
    "### 2. Obtain a list of components (keys) that are available for this feed."
   ]
  },
  {
   "cell_type": "code",
   "execution_count": 4,
   "metadata": {},
   "outputs": [
    {
     "name": "stdout",
     "output_type": "stream",
     "text": [
      "['feed', 'entries', 'bozo', 'headers', 'etag', 'updated', 'updated_parsed', 'href', 'status', 'encoding', 'version', 'namespaces']\n"
     ]
    }
   ],
   "source": [
    "list_parse=list(res.keys())\n",
    "print (list_parse)"
   ]
  },
  {
   "cell_type": "markdown",
   "metadata": {},
   "source": [
    "### 3. Obtain a list of components (keys) that are available for the *feed* component of this RSS feed."
   ]
  },
  {
   "cell_type": "code",
   "execution_count": 5,
   "metadata": {},
   "outputs": [
    {
     "name": "stdout",
     "output_type": "stream",
     "text": [
      "[dict_keys(['title', 'title_detail', 'id', 'guidislink', 'link', 'updated', 'updated_parsed', 'subtitle', 'subtitle_detail', 'links', 'authors', 'author_detail', 'author', 'feedburner_info', 'geo_lat', 'geo_long', 'feedburner_emailserviceid', 'feedburner_feedburnerhostname'])]\n"
     ]
    }
   ],
   "source": [
    "list_feed=[res['feed'].keys()]\n",
    "print (list_feed)"
   ]
  },
  {
   "cell_type": "markdown",
   "metadata": {},
   "source": [
    "### 4. Extract and print the feed title, subtitle, author, and link."
   ]
  },
  {
   "cell_type": "code",
   "execution_count": 6,
   "metadata": {},
   "outputs": [
    {
     "name": "stdout",
     "output_type": "stream",
     "text": [
      "All - O'Reilly Media\n",
      "All of our Ideas and Learning material from all of our topics.\n",
      "O'Reilly Media\n",
      "https://www.oreilly.com\n"
     ]
    }
   ],
   "source": [
    "print (res['feed']['title'])\n",
    "print (res['feed']['subtitle'])\n",
    "print (res['feed']['author'])\n",
    "print (res['feed']['link'])"
   ]
  },
  {
   "cell_type": "markdown",
   "metadata": {},
   "source": [
    "### 5. Count the number of entries that are contained in this RSS feed."
   ]
  },
  {
   "cell_type": "code",
   "execution_count": 7,
   "metadata": {},
   "outputs": [
    {
     "name": "stdout",
     "output_type": "stream",
     "text": [
      "60\n"
     ]
    }
   ],
   "source": [
    "print (len(res['entries']))"
   ]
  },
  {
   "cell_type": "markdown",
   "metadata": {},
   "source": [
    "### 6. Obtain a list of components (keys) available for an entry.\n",
    "\n",
    "*Hint: Remember to index first before requesting the keys*"
   ]
  },
  {
   "cell_type": "code",
   "execution_count": 8,
   "metadata": {},
   "outputs": [
    {
     "name": "stdout",
     "output_type": "stream",
     "text": [
      "[dict_keys(['title', 'title_detail', 'updated', 'updated_parsed', 'id', 'guidislink', 'link', 'content', 'summary', 'links', 'authors', 'author_detail', 'author', 'feedburner_origlink'])]\n"
     ]
    }
   ],
   "source": [
    "list_components=[res['entries'][0].keys()]\n",
    "print (list_components)"
   ]
  },
  {
   "cell_type": "markdown",
   "metadata": {},
   "source": [
    "### 7. Extract a list of entry titles."
   ]
  },
  {
   "cell_type": "code",
   "execution_count": 9,
   "metadata": {},
   "outputs": [
    {
     "name": "stdout",
     "output_type": "stream",
     "text": [
      "['Four short links: 8 July 2019', 'Four short links: 5 July 2019', 'Four short links: 4 July 2019', 'Tools for machine learning development', 'New live online training courses', 'Four short links: 3 July 2019', 'Four short links: 2 July 2019', 'Four short links: 1 July 2019', 'RISELab’s AutoPandas hints at automation tech that will change the nature of software development', 'Four short links: 28 June 2019', 'One simple chart: Who is interested in Spark NLP?', 'Four short links: 27 June 2019', 'Four short links: 26 June 2019', 'AI and machine learning will require retraining your entire organization', 'Four short links: 25 June 2019', 'Four short links: 24 June 2019', 'Four short links: 21 June 2019', 'Four short links: 20 June 2019', 'Enabling end-to-end machine learning pipelines in real-world applications', 'Four short links: 19 June 2019', 'What are model governance and model operations?', 'Four short links: 18 June 2019', 'The quest for high-quality data', 'Four short links: 17 June 2019', 'From the trenches with Rebecca Parsons', 'Prioritizing technical debt as if time and money mattered', 'Choices of scale', 'Four short links: 14 June 2019', 'Cultivating production excellence', 'How do we heal?', 'Kubernetes for the impatient', 'Infrastructure first: Because solving complex problems needs more than technology', 'The cloud native elephant in the room', \"Highlights from the O'Reilly Software Architecture Conference in San Jose 2019\", 'Security and deception: Lessons from a professional liar', 'Architect as storyteller', 'Cultivate your personal design heuristics', 'Next Architecture', 'Four short links: 13 June 2019', 'Scaling teams with technology (or is it the other way around?)', 'The SRE I aspire to be', 'Channel into the universe of eventually perfect distributed systems', 'From puzzles to products', \"Highlights from the O'Reilly Velocity Conference in San Jose 2019\", 'Community projects inform enterprise products', 'Four short links: 12 June 2019', 'Four short links: 11 June 2019', 'AI adoption is being fueled by an improved tool ecosystem', 'How to get started with site reliability engineering (SRE)', 'Maximizing paper clips', 'Four short links: 10 June 2019', 'Four short links: 7 June 2019', 'Bringing scalable real-time analytics to the enterprise', 'Four short links: 6 June 2019', 'Four short links: 5 June 2019', 'Four short links: 4 June 2019', 'What’s driving open source software in 2019', 'Reduce toil through better alerting', 'Four short links: 3 June 2019', 'Four short links: 31 May 2019']\n"
     ]
    }
   ],
   "source": [
    "list_titles=[res['entries'][i]['title'] for i in range(len(res['entries']))]\n",
    "print (list_titles)"
   ]
  },
  {
   "cell_type": "markdown",
   "metadata": {},
   "source": [
    "### 8. Calculate the percentage of \"Four short links\" entry titles."
   ]
  },
  {
   "cell_type": "code",
   "execution_count": 10,
   "metadata": {},
   "outputs": [
    {
     "name": "stdout",
     "output_type": "stream",
     "text": [
      "45.0 %\n"
     ]
    }
   ],
   "source": [
    "count=len([i for i in range(len(list_titles)) if 'Four short links' in list_titles[i]])\n",
    "print (count*100/(len(res['entries'])), '%')"
   ]
  },
  {
   "cell_type": "markdown",
   "metadata": {},
   "source": [
    "### 9. Create a Pandas data frame from the feed's entries."
   ]
  },
  {
   "cell_type": "code",
   "execution_count": 11,
   "metadata": {},
   "outputs": [],
   "source": [
    "import pandas as pd"
   ]
  },
  {
   "cell_type": "code",
   "execution_count": 12,
   "metadata": {},
   "outputs": [
    {
     "data": {
      "text/html": [
       "<div>\n",
       "<style scoped>\n",
       "    .dataframe tbody tr th:only-of-type {\n",
       "        vertical-align: middle;\n",
       "    }\n",
       "\n",
       "    .dataframe tbody tr th {\n",
       "        vertical-align: top;\n",
       "    }\n",
       "\n",
       "    .dataframe thead th {\n",
       "        text-align: right;\n",
       "    }\n",
       "</style>\n",
       "<table border=\"1\" class=\"dataframe\">\n",
       "  <thead>\n",
       "    <tr style=\"text-align: right;\">\n",
       "      <th></th>\n",
       "      <th>author</th>\n",
       "      <th>author_detail</th>\n",
       "      <th>authors</th>\n",
       "      <th>content</th>\n",
       "      <th>feedburner_origlink</th>\n",
       "      <th>guidislink</th>\n",
       "      <th>id</th>\n",
       "      <th>link</th>\n",
       "      <th>links</th>\n",
       "      <th>summary</th>\n",
       "      <th>title</th>\n",
       "      <th>title_detail</th>\n",
       "      <th>updated</th>\n",
       "      <th>updated_parsed</th>\n",
       "    </tr>\n",
       "  </thead>\n",
       "  <tbody>\n",
       "    <tr>\n",
       "      <th>0</th>\n",
       "      <td>Nat Torkington</td>\n",
       "      <td>{'name': 'Nat Torkington'}</td>\n",
       "      <td>[{'name': 'Nat Torkington'}]</td>\n",
       "      <td>[{'type': 'text/html', 'language': None, 'base...</td>\n",
       "      <td>https://www.oreilly.com/ideas/four-short-links...</td>\n",
       "      <td>True</td>\n",
       "      <td>tag:www.oreilly.com,2019-07-08:/ideas/four-sho...</td>\n",
       "      <td>http://feedproxy.google.com/~r/oreilly/radar/a...</td>\n",
       "      <td>[{'href': 'http://feedproxy.google.com/~r/orei...</td>\n",
       "      <td>&lt;p&gt;&lt;em&gt;Algorithmic Governance, DevOps Assessme...</td>\n",
       "      <td>Four short links: 8 July 2019</td>\n",
       "      <td>{'type': 'text/plain', 'language': None, 'base...</td>\n",
       "      <td>2019-07-08T10:50:00Z</td>\n",
       "      <td>(2019, 7, 8, 10, 50, 0, 0, 189, 0)</td>\n",
       "    </tr>\n",
       "    <tr>\n",
       "      <th>1</th>\n",
       "      <td>Nat Torkington</td>\n",
       "      <td>{'name': 'Nat Torkington'}</td>\n",
       "      <td>[{'name': 'Nat Torkington'}]</td>\n",
       "      <td>[{'type': 'text/html', 'language': None, 'base...</td>\n",
       "      <td>https://www.oreilly.com/ideas/four-short-links...</td>\n",
       "      <td>True</td>\n",
       "      <td>tag:www.oreilly.com,2019-07-05:/ideas/four-sho...</td>\n",
       "      <td>http://feedproxy.google.com/~r/oreilly/radar/a...</td>\n",
       "      <td>[{'href': 'http://feedproxy.google.com/~r/orei...</td>\n",
       "      <td>&lt;p&gt;&lt;em&gt;Online Not All Bad, Emotional Space, Te...</td>\n",
       "      <td>Four short links: 5 July 2019</td>\n",
       "      <td>{'type': 'text/plain', 'language': None, 'base...</td>\n",
       "      <td>2019-07-05T13:10:00Z</td>\n",
       "      <td>(2019, 7, 5, 13, 10, 0, 4, 186, 0)</td>\n",
       "    </tr>\n",
       "    <tr>\n",
       "      <th>2</th>\n",
       "      <td>Nat Torkington</td>\n",
       "      <td>{'name': 'Nat Torkington'}</td>\n",
       "      <td>[{'name': 'Nat Torkington'}]</td>\n",
       "      <td>[{'type': 'text/html', 'language': None, 'base...</td>\n",
       "      <td>https://www.oreilly.com/ideas/four-short-links...</td>\n",
       "      <td>True</td>\n",
       "      <td>tag:www.oreilly.com,2019-07-04:/ideas/four-sho...</td>\n",
       "      <td>http://feedproxy.google.com/~r/oreilly/radar/a...</td>\n",
       "      <td>[{'href': 'http://feedproxy.google.com/~r/orei...</td>\n",
       "      <td>&lt;p&gt;&lt;em&gt;Debugging AI, Serverless Foundations, Y...</td>\n",
       "      <td>Four short links: 4 July 2019</td>\n",
       "      <td>{'type': 'text/plain', 'language': None, 'base...</td>\n",
       "      <td>2019-07-04T13:50:00Z</td>\n",
       "      <td>(2019, 7, 4, 13, 50, 0, 3, 185, 0)</td>\n",
       "    </tr>\n",
       "    <tr>\n",
       "      <th>3</th>\n",
       "      <td>Jenn Webb</td>\n",
       "      <td>{'name': 'Jenn Webb'}</td>\n",
       "      <td>[{'name': 'Jenn Webb'}]</td>\n",
       "      <td>[{'type': 'text/html', 'language': None, 'base...</td>\n",
       "      <td>https://www.oreilly.com/ideas/tools-for-machin...</td>\n",
       "      <td>True</td>\n",
       "      <td>tag:www.oreilly.com,2019-07-03:/ideas/tools-fo...</td>\n",
       "      <td>http://feedproxy.google.com/~r/oreilly/radar/a...</td>\n",
       "      <td>[{'href': 'http://feedproxy.google.com/~r/orei...</td>\n",
       "      <td>&lt;p&gt;&lt;img src='https://d3ucjech6zwjp8.cloudfront...</td>\n",
       "      <td>Tools for machine learning development</td>\n",
       "      <td>{'type': 'text/plain', 'language': None, 'base...</td>\n",
       "      <td>2019-07-03T13:35:00Z</td>\n",
       "      <td>(2019, 7, 3, 13, 35, 0, 2, 184, 0)</td>\n",
       "    </tr>\n",
       "    <tr>\n",
       "      <th>4</th>\n",
       "      <td>NaN</td>\n",
       "      <td>NaN</td>\n",
       "      <td>NaN</td>\n",
       "      <td>[{'type': 'text/html', 'language': None, 'base...</td>\n",
       "      <td>https://www.oreilly.com/ideas/new-live-online-...</td>\n",
       "      <td>True</td>\n",
       "      <td>tag:www.oreilly.com,2019-07-03:/ideas/new-live...</td>\n",
       "      <td>http://feedproxy.google.com/~r/oreilly/radar/a...</td>\n",
       "      <td>[{'href': 'http://feedproxy.google.com/~r/orei...</td>\n",
       "      <td>&lt;p&gt;&lt;img src='https://d3ucjech6zwjp8.cloudfront...</td>\n",
       "      <td>New live online training courses</td>\n",
       "      <td>{'type': 'text/plain', 'language': None, 'base...</td>\n",
       "      <td>2019-07-03T11:20:00Z</td>\n",
       "      <td>(2019, 7, 3, 11, 20, 0, 2, 184, 0)</td>\n",
       "    </tr>\n",
       "  </tbody>\n",
       "</table>\n",
       "</div>"
      ],
      "text/plain": [
       "           author               author_detail                       authors  \\\n",
       "0  Nat Torkington  {'name': 'Nat Torkington'}  [{'name': 'Nat Torkington'}]   \n",
       "1  Nat Torkington  {'name': 'Nat Torkington'}  [{'name': 'Nat Torkington'}]   \n",
       "2  Nat Torkington  {'name': 'Nat Torkington'}  [{'name': 'Nat Torkington'}]   \n",
       "3       Jenn Webb       {'name': 'Jenn Webb'}       [{'name': 'Jenn Webb'}]   \n",
       "4             NaN                         NaN                           NaN   \n",
       "\n",
       "                                             content  \\\n",
       "0  [{'type': 'text/html', 'language': None, 'base...   \n",
       "1  [{'type': 'text/html', 'language': None, 'base...   \n",
       "2  [{'type': 'text/html', 'language': None, 'base...   \n",
       "3  [{'type': 'text/html', 'language': None, 'base...   \n",
       "4  [{'type': 'text/html', 'language': None, 'base...   \n",
       "\n",
       "                                 feedburner_origlink  guidislink  \\\n",
       "0  https://www.oreilly.com/ideas/four-short-links...        True   \n",
       "1  https://www.oreilly.com/ideas/four-short-links...        True   \n",
       "2  https://www.oreilly.com/ideas/four-short-links...        True   \n",
       "3  https://www.oreilly.com/ideas/tools-for-machin...        True   \n",
       "4  https://www.oreilly.com/ideas/new-live-online-...        True   \n",
       "\n",
       "                                                  id  \\\n",
       "0  tag:www.oreilly.com,2019-07-08:/ideas/four-sho...   \n",
       "1  tag:www.oreilly.com,2019-07-05:/ideas/four-sho...   \n",
       "2  tag:www.oreilly.com,2019-07-04:/ideas/four-sho...   \n",
       "3  tag:www.oreilly.com,2019-07-03:/ideas/tools-fo...   \n",
       "4  tag:www.oreilly.com,2019-07-03:/ideas/new-live...   \n",
       "\n",
       "                                                link  \\\n",
       "0  http://feedproxy.google.com/~r/oreilly/radar/a...   \n",
       "1  http://feedproxy.google.com/~r/oreilly/radar/a...   \n",
       "2  http://feedproxy.google.com/~r/oreilly/radar/a...   \n",
       "3  http://feedproxy.google.com/~r/oreilly/radar/a...   \n",
       "4  http://feedproxy.google.com/~r/oreilly/radar/a...   \n",
       "\n",
       "                                               links  \\\n",
       "0  [{'href': 'http://feedproxy.google.com/~r/orei...   \n",
       "1  [{'href': 'http://feedproxy.google.com/~r/orei...   \n",
       "2  [{'href': 'http://feedproxy.google.com/~r/orei...   \n",
       "3  [{'href': 'http://feedproxy.google.com/~r/orei...   \n",
       "4  [{'href': 'http://feedproxy.google.com/~r/orei...   \n",
       "\n",
       "                                             summary  \\\n",
       "0  <p><em>Algorithmic Governance, DevOps Assessme...   \n",
       "1  <p><em>Online Not All Bad, Emotional Space, Te...   \n",
       "2  <p><em>Debugging AI, Serverless Foundations, Y...   \n",
       "3  <p><img src='https://d3ucjech6zwjp8.cloudfront...   \n",
       "4  <p><img src='https://d3ucjech6zwjp8.cloudfront...   \n",
       "\n",
       "                                    title  \\\n",
       "0           Four short links: 8 July 2019   \n",
       "1           Four short links: 5 July 2019   \n",
       "2           Four short links: 4 July 2019   \n",
       "3  Tools for machine learning development   \n",
       "4        New live online training courses   \n",
       "\n",
       "                                        title_detail               updated  \\\n",
       "0  {'type': 'text/plain', 'language': None, 'base...  2019-07-08T10:50:00Z   \n",
       "1  {'type': 'text/plain', 'language': None, 'base...  2019-07-05T13:10:00Z   \n",
       "2  {'type': 'text/plain', 'language': None, 'base...  2019-07-04T13:50:00Z   \n",
       "3  {'type': 'text/plain', 'language': None, 'base...  2019-07-03T13:35:00Z   \n",
       "4  {'type': 'text/plain', 'language': None, 'base...  2019-07-03T11:20:00Z   \n",
       "\n",
       "                       updated_parsed  \n",
       "0  (2019, 7, 8, 10, 50, 0, 0, 189, 0)  \n",
       "1  (2019, 7, 5, 13, 10, 0, 4, 186, 0)  \n",
       "2  (2019, 7, 4, 13, 50, 0, 3, 185, 0)  \n",
       "3  (2019, 7, 3, 13, 35, 0, 2, 184, 0)  \n",
       "4  (2019, 7, 3, 11, 20, 0, 2, 184, 0)  "
      ]
     },
     "metadata": {},
     "output_type": "display_data"
    }
   ],
   "source": [
    "entry=pd.DataFrame.from_dict(res['entries'])\n",
    "display (entry.head())"
   ]
  },
  {
   "cell_type": "markdown",
   "metadata": {},
   "source": [
    "### 10. Count the number of entries per author and sort them in descending order."
   ]
  },
  {
   "cell_type": "code",
   "execution_count": 13,
   "metadata": {},
   "outputs": [
    {
     "data": {
      "text/plain": [
       "Nat Torkington                           27\n",
       "Ben Lorica                                6\n",
       "Jenn Webb                                 2\n",
       "Ben Lorica, Harish Doddi, David Talby     1\n",
       "Chris Guzikowski                          1\n",
       "Name: author, dtype: int64"
      ]
     },
     "metadata": {},
     "output_type": "display_data"
    }
   ],
   "source": [
    "author=entry['author'].value_counts()\n",
    "display (author.head())"
   ]
  },
  {
   "cell_type": "markdown",
   "metadata": {},
   "source": [
    "### 11. Add a new column to the data frame that contains the length (number of characters) of each entry title. Return a data frame that contains the title, author, and title length of each entry in descending order (longest title length at the top)."
   ]
  },
  {
   "cell_type": "code",
   "execution_count": 14,
   "metadata": {},
   "outputs": [
    {
     "data": {
      "text/html": [
       "<div>\n",
       "<style scoped>\n",
       "    .dataframe tbody tr th:only-of-type {\n",
       "        vertical-align: middle;\n",
       "    }\n",
       "\n",
       "    .dataframe tbody tr th {\n",
       "        vertical-align: top;\n",
       "    }\n",
       "\n",
       "    .dataframe thead th {\n",
       "        text-align: right;\n",
       "    }\n",
       "</style>\n",
       "<table border=\"1\" class=\"dataframe\">\n",
       "  <thead>\n",
       "    <tr style=\"text-align: right;\">\n",
       "      <th></th>\n",
       "      <th>author</th>\n",
       "      <th>author_detail</th>\n",
       "      <th>authors</th>\n",
       "      <th>content</th>\n",
       "      <th>feedburner_origlink</th>\n",
       "      <th>guidislink</th>\n",
       "      <th>id</th>\n",
       "      <th>link</th>\n",
       "      <th>links</th>\n",
       "      <th>summary</th>\n",
       "      <th>title</th>\n",
       "      <th>title_detail</th>\n",
       "      <th>updated</th>\n",
       "      <th>updated_parsed</th>\n",
       "      <th>len_title</th>\n",
       "    </tr>\n",
       "  </thead>\n",
       "  <tbody>\n",
       "    <tr>\n",
       "      <th>0</th>\n",
       "      <td>Nat Torkington</td>\n",
       "      <td>{'name': 'Nat Torkington'}</td>\n",
       "      <td>[{'name': 'Nat Torkington'}]</td>\n",
       "      <td>[{'type': 'text/html', 'language': None, 'base...</td>\n",
       "      <td>https://www.oreilly.com/ideas/four-short-links...</td>\n",
       "      <td>True</td>\n",
       "      <td>tag:www.oreilly.com,2019-07-08:/ideas/four-sho...</td>\n",
       "      <td>http://feedproxy.google.com/~r/oreilly/radar/a...</td>\n",
       "      <td>[{'href': 'http://feedproxy.google.com/~r/orei...</td>\n",
       "      <td>&lt;p&gt;&lt;em&gt;Algorithmic Governance, DevOps Assessme...</td>\n",
       "      <td>Four short links: 8 July 2019</td>\n",
       "      <td>{'type': 'text/plain', 'language': None, 'base...</td>\n",
       "      <td>2019-07-08T10:50:00Z</td>\n",
       "      <td>(2019, 7, 8, 10, 50, 0, 0, 189, 0)</td>\n",
       "      <td>29</td>\n",
       "    </tr>\n",
       "    <tr>\n",
       "      <th>1</th>\n",
       "      <td>Nat Torkington</td>\n",
       "      <td>{'name': 'Nat Torkington'}</td>\n",
       "      <td>[{'name': 'Nat Torkington'}]</td>\n",
       "      <td>[{'type': 'text/html', 'language': None, 'base...</td>\n",
       "      <td>https://www.oreilly.com/ideas/four-short-links...</td>\n",
       "      <td>True</td>\n",
       "      <td>tag:www.oreilly.com,2019-07-05:/ideas/four-sho...</td>\n",
       "      <td>http://feedproxy.google.com/~r/oreilly/radar/a...</td>\n",
       "      <td>[{'href': 'http://feedproxy.google.com/~r/orei...</td>\n",
       "      <td>&lt;p&gt;&lt;em&gt;Online Not All Bad, Emotional Space, Te...</td>\n",
       "      <td>Four short links: 5 July 2019</td>\n",
       "      <td>{'type': 'text/plain', 'language': None, 'base...</td>\n",
       "      <td>2019-07-05T13:10:00Z</td>\n",
       "      <td>(2019, 7, 5, 13, 10, 0, 4, 186, 0)</td>\n",
       "      <td>29</td>\n",
       "    </tr>\n",
       "    <tr>\n",
       "      <th>2</th>\n",
       "      <td>Nat Torkington</td>\n",
       "      <td>{'name': 'Nat Torkington'}</td>\n",
       "      <td>[{'name': 'Nat Torkington'}]</td>\n",
       "      <td>[{'type': 'text/html', 'language': None, 'base...</td>\n",
       "      <td>https://www.oreilly.com/ideas/four-short-links...</td>\n",
       "      <td>True</td>\n",
       "      <td>tag:www.oreilly.com,2019-07-04:/ideas/four-sho...</td>\n",
       "      <td>http://feedproxy.google.com/~r/oreilly/radar/a...</td>\n",
       "      <td>[{'href': 'http://feedproxy.google.com/~r/orei...</td>\n",
       "      <td>&lt;p&gt;&lt;em&gt;Debugging AI, Serverless Foundations, Y...</td>\n",
       "      <td>Four short links: 4 July 2019</td>\n",
       "      <td>{'type': 'text/plain', 'language': None, 'base...</td>\n",
       "      <td>2019-07-04T13:50:00Z</td>\n",
       "      <td>(2019, 7, 4, 13, 50, 0, 3, 185, 0)</td>\n",
       "      <td>29</td>\n",
       "    </tr>\n",
       "    <tr>\n",
       "      <th>3</th>\n",
       "      <td>Jenn Webb</td>\n",
       "      <td>{'name': 'Jenn Webb'}</td>\n",
       "      <td>[{'name': 'Jenn Webb'}]</td>\n",
       "      <td>[{'type': 'text/html', 'language': None, 'base...</td>\n",
       "      <td>https://www.oreilly.com/ideas/tools-for-machin...</td>\n",
       "      <td>True</td>\n",
       "      <td>tag:www.oreilly.com,2019-07-03:/ideas/tools-fo...</td>\n",
       "      <td>http://feedproxy.google.com/~r/oreilly/radar/a...</td>\n",
       "      <td>[{'href': 'http://feedproxy.google.com/~r/orei...</td>\n",
       "      <td>&lt;p&gt;&lt;img src='https://d3ucjech6zwjp8.cloudfront...</td>\n",
       "      <td>Tools for machine learning development</td>\n",
       "      <td>{'type': 'text/plain', 'language': None, 'base...</td>\n",
       "      <td>2019-07-03T13:35:00Z</td>\n",
       "      <td>(2019, 7, 3, 13, 35, 0, 2, 184, 0)</td>\n",
       "      <td>38</td>\n",
       "    </tr>\n",
       "    <tr>\n",
       "      <th>4</th>\n",
       "      <td>NaN</td>\n",
       "      <td>NaN</td>\n",
       "      <td>NaN</td>\n",
       "      <td>[{'type': 'text/html', 'language': None, 'base...</td>\n",
       "      <td>https://www.oreilly.com/ideas/new-live-online-...</td>\n",
       "      <td>True</td>\n",
       "      <td>tag:www.oreilly.com,2019-07-03:/ideas/new-live...</td>\n",
       "      <td>http://feedproxy.google.com/~r/oreilly/radar/a...</td>\n",
       "      <td>[{'href': 'http://feedproxy.google.com/~r/orei...</td>\n",
       "      <td>&lt;p&gt;&lt;img src='https://d3ucjech6zwjp8.cloudfront...</td>\n",
       "      <td>New live online training courses</td>\n",
       "      <td>{'type': 'text/plain', 'language': None, 'base...</td>\n",
       "      <td>2019-07-03T11:20:00Z</td>\n",
       "      <td>(2019, 7, 3, 11, 20, 0, 2, 184, 0)</td>\n",
       "      <td>32</td>\n",
       "    </tr>\n",
       "  </tbody>\n",
       "</table>\n",
       "</div>"
      ],
      "text/plain": [
       "           author               author_detail                       authors  \\\n",
       "0  Nat Torkington  {'name': 'Nat Torkington'}  [{'name': 'Nat Torkington'}]   \n",
       "1  Nat Torkington  {'name': 'Nat Torkington'}  [{'name': 'Nat Torkington'}]   \n",
       "2  Nat Torkington  {'name': 'Nat Torkington'}  [{'name': 'Nat Torkington'}]   \n",
       "3       Jenn Webb       {'name': 'Jenn Webb'}       [{'name': 'Jenn Webb'}]   \n",
       "4             NaN                         NaN                           NaN   \n",
       "\n",
       "                                             content  \\\n",
       "0  [{'type': 'text/html', 'language': None, 'base...   \n",
       "1  [{'type': 'text/html', 'language': None, 'base...   \n",
       "2  [{'type': 'text/html', 'language': None, 'base...   \n",
       "3  [{'type': 'text/html', 'language': None, 'base...   \n",
       "4  [{'type': 'text/html', 'language': None, 'base...   \n",
       "\n",
       "                                 feedburner_origlink  guidislink  \\\n",
       "0  https://www.oreilly.com/ideas/four-short-links...        True   \n",
       "1  https://www.oreilly.com/ideas/four-short-links...        True   \n",
       "2  https://www.oreilly.com/ideas/four-short-links...        True   \n",
       "3  https://www.oreilly.com/ideas/tools-for-machin...        True   \n",
       "4  https://www.oreilly.com/ideas/new-live-online-...        True   \n",
       "\n",
       "                                                  id  \\\n",
       "0  tag:www.oreilly.com,2019-07-08:/ideas/four-sho...   \n",
       "1  tag:www.oreilly.com,2019-07-05:/ideas/four-sho...   \n",
       "2  tag:www.oreilly.com,2019-07-04:/ideas/four-sho...   \n",
       "3  tag:www.oreilly.com,2019-07-03:/ideas/tools-fo...   \n",
       "4  tag:www.oreilly.com,2019-07-03:/ideas/new-live...   \n",
       "\n",
       "                                                link  \\\n",
       "0  http://feedproxy.google.com/~r/oreilly/radar/a...   \n",
       "1  http://feedproxy.google.com/~r/oreilly/radar/a...   \n",
       "2  http://feedproxy.google.com/~r/oreilly/radar/a...   \n",
       "3  http://feedproxy.google.com/~r/oreilly/radar/a...   \n",
       "4  http://feedproxy.google.com/~r/oreilly/radar/a...   \n",
       "\n",
       "                                               links  \\\n",
       "0  [{'href': 'http://feedproxy.google.com/~r/orei...   \n",
       "1  [{'href': 'http://feedproxy.google.com/~r/orei...   \n",
       "2  [{'href': 'http://feedproxy.google.com/~r/orei...   \n",
       "3  [{'href': 'http://feedproxy.google.com/~r/orei...   \n",
       "4  [{'href': 'http://feedproxy.google.com/~r/orei...   \n",
       "\n",
       "                                             summary  \\\n",
       "0  <p><em>Algorithmic Governance, DevOps Assessme...   \n",
       "1  <p><em>Online Not All Bad, Emotional Space, Te...   \n",
       "2  <p><em>Debugging AI, Serverless Foundations, Y...   \n",
       "3  <p><img src='https://d3ucjech6zwjp8.cloudfront...   \n",
       "4  <p><img src='https://d3ucjech6zwjp8.cloudfront...   \n",
       "\n",
       "                                    title  \\\n",
       "0           Four short links: 8 July 2019   \n",
       "1           Four short links: 5 July 2019   \n",
       "2           Four short links: 4 July 2019   \n",
       "3  Tools for machine learning development   \n",
       "4        New live online training courses   \n",
       "\n",
       "                                        title_detail               updated  \\\n",
       "0  {'type': 'text/plain', 'language': None, 'base...  2019-07-08T10:50:00Z   \n",
       "1  {'type': 'text/plain', 'language': None, 'base...  2019-07-05T13:10:00Z   \n",
       "2  {'type': 'text/plain', 'language': None, 'base...  2019-07-04T13:50:00Z   \n",
       "3  {'type': 'text/plain', 'language': None, 'base...  2019-07-03T13:35:00Z   \n",
       "4  {'type': 'text/plain', 'language': None, 'base...  2019-07-03T11:20:00Z   \n",
       "\n",
       "                       updated_parsed  len_title  \n",
       "0  (2019, 7, 8, 10, 50, 0, 0, 189, 0)         29  \n",
       "1  (2019, 7, 5, 13, 10, 0, 4, 186, 0)         29  \n",
       "2  (2019, 7, 4, 13, 50, 0, 3, 185, 0)         29  \n",
       "3  (2019, 7, 3, 13, 35, 0, 2, 184, 0)         38  \n",
       "4  (2019, 7, 3, 11, 20, 0, 2, 184, 0)         32  "
      ]
     },
     "metadata": {},
     "output_type": "display_data"
    }
   ],
   "source": [
    "len_title=[len(entry['title'][i]) for i in range(len(entry))]\n",
    "entry['len_title']=len_title\n",
    "display (entry.head())"
   ]
  },
  {
   "cell_type": "markdown",
   "metadata": {},
   "source": [
    "### 12. Create a list of entry titles whose summary includes the phrase \"machine learning.\""
   ]
  },
  {
   "cell_type": "code",
   "execution_count": 15,
   "metadata": {},
   "outputs": [
    {
     "name": "stdout",
     "output_type": "stream",
     "text": [
      "['Tools for machine learning development', 'New live online training courses', 'RISELab’s AutoPandas hints at automation tech that will change the nature of software development', 'AI and machine learning will require retraining your entire organization', 'Enabling end-to-end machine learning pipelines in real-world applications', 'What are model governance and model operations?', 'The quest for high-quality data', 'AI adoption is being fueled by an improved tool ecosystem', 'Maximizing paper clips', 'Four short links: 6 June 2019', 'What’s driving open source software in 2019']\n"
     ]
    }
   ],
   "source": [
    "ml=[entry['title'][i] for i in range(len(entry)) if 'machine learning' in entry['summary'][i]]\n",
    "print (ml)"
   ]
  },
  {
   "cell_type": "code",
   "execution_count": null,
   "metadata": {},
   "outputs": [],
   "source": []
  }
 ],
 "metadata": {
  "kernelspec": {
   "display_name": "Python 3",
   "language": "python",
   "name": "python3"
  },
  "language_info": {
   "codemirror_mode": {
    "name": "ipython",
    "version": 3
   },
   "file_extension": ".py",
   "mimetype": "text/x-python",
   "name": "python",
   "nbconvert_exporter": "python",
   "pygments_lexer": "ipython3",
   "version": "3.7.2"
  }
 },
 "nbformat": 4,
 "nbformat_minor": 2
}
