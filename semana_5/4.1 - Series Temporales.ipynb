{
 "cells": [
  {
   "cell_type": "markdown",
   "id": "ba2d9c0e",
   "metadata": {},
   "source": [
    "# 4.1 - Series Temporales"
   ]
  },
  {
   "cell_type": "code",
   "execution_count": null,
   "id": "d83b8b2f",
   "metadata": {},
   "outputs": [],
   "source": []
  },
  {
   "cell_type": "code",
   "execution_count": null,
   "id": "f45d1501",
   "metadata": {},
   "outputs": [],
   "source": []
  },
  {
   "cell_type": "code",
   "execution_count": null,
   "id": "f9c87cf2",
   "metadata": {},
   "outputs": [],
   "source": []
  },
  {
   "cell_type": "code",
   "execution_count": null,
   "id": "7d66d474",
   "metadata": {},
   "outputs": [],
   "source": []
  },
  {
   "cell_type": "code",
   "execution_count": null,
   "id": "ec2bb6d3",
   "metadata": {},
   "outputs": [],
   "source": []
  },
  {
   "cell_type": "code",
   "execution_count": null,
   "id": "c0fe351a",
   "metadata": {},
   "outputs": [],
   "source": []
  },
  {
   "cell_type": "code",
   "execution_count": null,
   "id": "a329419d",
   "metadata": {},
   "outputs": [],
   "source": []
  },
  {
   "cell_type": "code",
   "execution_count": null,
   "id": "472fd3f0",
   "metadata": {},
   "outputs": [],
   "source": []
  },
  {
   "cell_type": "code",
   "execution_count": null,
   "id": "5a8429b9",
   "metadata": {},
   "outputs": [],
   "source": []
  },
  {
   "cell_type": "code",
   "execution_count": null,
   "id": "221329cc",
   "metadata": {},
   "outputs": [],
   "source": []
  },
  {
   "cell_type": "markdown",
   "id": "c42d0d0a",
   "metadata": {},
   "source": [
    "### Autoregresión - AR\n",
    "\n",
    "El modelo usa la relación de dependencia del momento actual con $n$ momentos anteriores. Es, en realidad, una regresión lineal.\n",
    "\n",
    "$$y_t = \\beta_0+\\beta_1y_{t-1}+\\beta_2y_{t-2}+\\ldots+\\beta_ny_{t-n}+\\epsilon_t$$\n",
    "\n",
    "Si solamente nos fijamos en el momento anterior, $t-1$, entonces:\n",
    "\n",
    "$$y_t = \\beta_0+\\beta_1y_{t-1}+\\epsilon_t$$\n",
    "\n",
    "Es la llamada Cadena de Markov"
   ]
  },
  {
   "cell_type": "code",
   "execution_count": null,
   "id": "5a716194",
   "metadata": {},
   "outputs": [],
   "source": []
  },
  {
   "cell_type": "code",
   "execution_count": null,
   "id": "0fe976b8",
   "metadata": {},
   "outputs": [],
   "source": []
  },
  {
   "cell_type": "code",
   "execution_count": null,
   "id": "aae9d25c",
   "metadata": {},
   "outputs": [],
   "source": []
  },
  {
   "cell_type": "code",
   "execution_count": null,
   "id": "8415e2a5",
   "metadata": {},
   "outputs": [],
   "source": []
  },
  {
   "cell_type": "code",
   "execution_count": null,
   "id": "f3959432",
   "metadata": {},
   "outputs": [],
   "source": []
  },
  {
   "cell_type": "code",
   "execution_count": null,
   "id": "1c347716",
   "metadata": {},
   "outputs": [],
   "source": []
  },
  {
   "cell_type": "code",
   "execution_count": null,
   "id": "1264a784",
   "metadata": {},
   "outputs": [],
   "source": []
  },
  {
   "cell_type": "code",
   "execution_count": null,
   "id": "a7426fcb",
   "metadata": {},
   "outputs": [],
   "source": []
  },
  {
   "cell_type": "code",
   "execution_count": null,
   "id": "a75317b5",
   "metadata": {},
   "outputs": [],
   "source": []
  },
  {
   "cell_type": "markdown",
   "id": "8d056bc0",
   "metadata": {},
   "source": [
    "### Media Móvil (Moving Average MA)\n",
    "\n",
    "Una manera matemática de expresar la MA puede ser:\n",
    "\n",
    "$$y_t = \\beta_0+\\epsilon_t+\\epsilon_{t-1}\\phi_{t-1}+\\epsilon_{t-2}\\phi_{t-2}+\\ldots+\\epsilon_{t-n}\\phi_{t-n}$$\n",
    "\n",
    "\n",
    "Se usa la relación entre las observaciones y el error residual de la media móvil.\n",
    "\n",
    "Otra es la evidente, la media móvil, se muestra en el gráfico."
   ]
  },
  {
   "cell_type": "code",
   "execution_count": null,
   "id": "2f33bb1a",
   "metadata": {},
   "outputs": [],
   "source": [
    "plt.figure(figsize=(10, 5))\n",
    "\n",
    "plt.plot(dias.values)\n",
    "\n",
    "plt.plot([50, 80],[1000, 1000], color='black')\n",
    "plt.plot([50, 50],[1000, 1100], color='black')\n",
    "plt.plot([50, 80],[1100, 1100], color='black')\n",
    "plt.plot([80, 80],[1000, 1100], color='black')\n",
    "\n",
    "plt.quiver(80, 1050, 1, 0, scale=20, color='r');"
   ]
  },
  {
   "cell_type": "markdown",
   "id": "07de0a5f",
   "metadata": {},
   "source": [
    "### ARMA (AutoRegressive Moving Average)\n",
    "\n",
    "Unión de ambos conceptos.\n",
    "\n",
    "$$y_t = \\beta_0 + \\epsilon_t + \\sum_{i=1}^{n}\\beta_iy_{t-i} + \\sum_{i=1}^{m}\\phi_i\\epsilon_{t-i}$$"
   ]
  },
  {
   "cell_type": "code",
   "execution_count": null,
   "id": "602df919",
   "metadata": {},
   "outputs": [],
   "source": []
  },
  {
   "cell_type": "code",
   "execution_count": null,
   "id": "19e853e2",
   "metadata": {},
   "outputs": [],
   "source": []
  },
  {
   "cell_type": "code",
   "execution_count": null,
   "id": "ddc2ad00",
   "metadata": {},
   "outputs": [],
   "source": []
  },
  {
   "cell_type": "markdown",
   "id": "3217a490",
   "metadata": {},
   "source": [
    "### ARIMA (AutoRegressive Integrated Moving Average)\n",
    "\n",
    "Lo de Integrated trata de hacer la serie temporal estacionaria, similar al concepto de PID."
   ]
  },
  {
   "cell_type": "code",
   "execution_count": null,
   "id": "9f793f18",
   "metadata": {},
   "outputs": [],
   "source": []
  },
  {
   "cell_type": "markdown",
   "id": "de9153a6",
   "metadata": {},
   "source": [
    "### ADF-test (testeo de la estacionaridad)\n",
    "\n",
    "https://www.statsmodels.org/stable/generated/statsmodels.tsa.stattools.adfuller.html"
   ]
  },
  {
   "cell_type": "markdown",
   "id": "9e6192ba",
   "metadata": {},
   "source": [
    "### SARIMA (Seasonal AutoRegressive Integrated Moving Average)\n",
    "Arima por estaciones.\n",
    "\n",
    "### SARIMAX (Seasonal AutoRegressive Integrated Moving Average Exogenous)\n",
    "SARIMA con regresores exógenos."
   ]
  },
  {
   "cell_type": "code",
   "execution_count": null,
   "id": "712f287e",
   "metadata": {},
   "outputs": [],
   "source": []
  },
  {
   "cell_type": "code",
   "execution_count": null,
   "id": "834332d3",
   "metadata": {},
   "outputs": [],
   "source": []
  },
  {
   "cell_type": "markdown",
   "id": "02b88742",
   "metadata": {},
   "source": [
    "## FB-Prophet\n",
    "\n",
    "https://facebook.github.io/prophet/docs/quick_start.html"
   ]
  },
  {
   "cell_type": "code",
   "execution_count": null,
   "id": "96639604",
   "metadata": {},
   "outputs": [],
   "source": []
  },
  {
   "cell_type": "code",
   "execution_count": null,
   "id": "58ac2622",
   "metadata": {},
   "outputs": [],
   "source": []
  },
  {
   "cell_type": "code",
   "execution_count": null,
   "id": "e2fbac48",
   "metadata": {},
   "outputs": [],
   "source": []
  },
  {
   "cell_type": "code",
   "execution_count": null,
   "id": "37c125c9",
   "metadata": {},
   "outputs": [],
   "source": []
  },
  {
   "cell_type": "code",
   "execution_count": null,
   "id": "4b4bfecf",
   "metadata": {},
   "outputs": [],
   "source": []
  },
  {
   "cell_type": "code",
   "execution_count": null,
   "id": "00dc3028",
   "metadata": {},
   "outputs": [],
   "source": []
  },
  {
   "cell_type": "code",
   "execution_count": null,
   "id": "9142d9ef",
   "metadata": {},
   "outputs": [],
   "source": []
  },
  {
   "cell_type": "code",
   "execution_count": null,
   "id": "d4e1bb92",
   "metadata": {},
   "outputs": [],
   "source": []
  },
  {
   "cell_type": "code",
   "execution_count": null,
   "id": "7dbdf35a",
   "metadata": {},
   "outputs": [],
   "source": []
  },
  {
   "cell_type": "code",
   "execution_count": null,
   "id": "c339a391",
   "metadata": {},
   "outputs": [],
   "source": []
  },
  {
   "cell_type": "code",
   "execution_count": null,
   "id": "1381bb22",
   "metadata": {},
   "outputs": [],
   "source": []
  },
  {
   "cell_type": "code",
   "execution_count": null,
   "id": "e265b58d",
   "metadata": {},
   "outputs": [],
   "source": []
  },
  {
   "cell_type": "code",
   "execution_count": null,
   "id": "9cd587de",
   "metadata": {},
   "outputs": [],
   "source": []
  },
  {
   "cell_type": "code",
   "execution_count": null,
   "id": "d551eeec",
   "metadata": {},
   "outputs": [],
   "source": []
  },
  {
   "cell_type": "code",
   "execution_count": null,
   "id": "68eac171",
   "metadata": {},
   "outputs": [],
   "source": []
  },
  {
   "cell_type": "code",
   "execution_count": null,
   "id": "f7eab41c",
   "metadata": {},
   "outputs": [],
   "source": []
  },
  {
   "cell_type": "code",
   "execution_count": null,
   "id": "8d8873fb",
   "metadata": {},
   "outputs": [],
   "source": []
  }
 ],
 "metadata": {
  "kernelspec": {
   "display_name": "clase",
   "language": "python",
   "name": "clase"
  },
  "language_info": {
   "codemirror_mode": {
    "name": "ipython",
    "version": 3
   },
   "file_extension": ".py",
   "mimetype": "text/x-python",
   "name": "python",
   "nbconvert_exporter": "python",
   "pygments_lexer": "ipython3",
   "version": "3.7.10"
  },
  "varInspector": {
   "cols": {
    "lenName": 16,
    "lenType": 16,
    "lenVar": 40
   },
   "kernels_config": {
    "python": {
     "delete_cmd_postfix": "",
     "delete_cmd_prefix": "del ",
     "library": "var_list.py",
     "varRefreshCmd": "print(var_dic_list())"
    },
    "r": {
     "delete_cmd_postfix": ") ",
     "delete_cmd_prefix": "rm(",
     "library": "var_list.r",
     "varRefreshCmd": "cat(var_dic_list()) "
    }
   },
   "types_to_exclude": [
    "module",
    "function",
    "builtin_function_or_method",
    "instance",
    "_Feature"
   ],
   "window_display": false
  }
 },
 "nbformat": 4,
 "nbformat_minor": 5
}
