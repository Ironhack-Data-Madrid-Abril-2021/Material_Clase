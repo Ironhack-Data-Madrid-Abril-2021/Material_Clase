{
 "cells": [
  {
   "cell_type": "markdown",
   "id": "9f3d9711",
   "metadata": {},
   "source": [
    "# Alumnos Random\n",
    "\n",
    "Selección aleatoria de una lista de alumnos."
   ]
  },
  {
   "cell_type": "markdown",
   "id": "5f94a2ca",
   "metadata": {},
   "source": [
    "### Lista de alumnos"
   ]
  },
  {
   "cell_type": "code",
   "execution_count": 1,
   "id": "eb7a911e",
   "metadata": {},
   "outputs": [],
   "source": [
    "alumnos=['Alex', 'Ati', 'Blanca', 'Edu', 'Fran', 'Jaime', 'Mikel', 'Pepe', 'Vicente']"
   ]
  },
  {
   "cell_type": "markdown",
   "id": "fae1c8fd",
   "metadata": {},
   "source": [
    "### Pseudoaleatorio"
   ]
  },
  {
   "cell_type": "code",
   "execution_count": 5,
   "id": "55330267",
   "metadata": {},
   "outputs": [],
   "source": [
    "import random"
   ]
  },
  {
   "cell_type": "code",
   "execution_count": 16,
   "id": "21b86f73",
   "metadata": {},
   "outputs": [
    {
     "data": {
      "text/plain": [
       "'Vicente'"
      ]
     },
     "execution_count": 16,
     "metadata": {},
     "output_type": "execute_result"
    }
   ],
   "source": [
    "random.choice(alumnos)"
   ]
  },
  {
   "cell_type": "markdown",
   "id": "1b92fe47",
   "metadata": {},
   "source": [
    "### Realmente Aleatorio\n",
    "\n",
    "**https://quantum-computing.ibm.com/**"
   ]
  },
  {
   "cell_type": "code",
   "execution_count": null,
   "id": "ec8a19f5",
   "metadata": {},
   "outputs": [],
   "source": [
    "!pip install qiskit\n",
    "!pip install 'qiskit[visualization]'\n",
    "!pip install qiskit-rng"
   ]
  },
  {
   "cell_type": "code",
   "execution_count": 4,
   "id": "d0adff36",
   "metadata": {},
   "outputs": [],
   "source": [
    "from qiskit import IBMQ\n",
    "from qiskit_rng import Generator                        # librerias cuanticas"
   ]
  },
  {
   "cell_type": "code",
   "execution_count": 5,
   "id": "0f996841",
   "metadata": {},
   "outputs": [],
   "source": [
    "token='d3f9eab03deb2fdff110a5a8cccb9924ff7d652cb33b74499de4c274dc426bc0da78634c14f21f97b062fa56103bf814944f9144f54fe75e0f9a7c01469b8e33'"
   ]
  },
  {
   "cell_type": "code",
   "execution_count": 6,
   "id": "1d9fa6b7",
   "metadata": {},
   "outputs": [
    {
     "data": {
      "text/plain": [
       "'Fran'"
      ]
     },
     "execution_count": 6,
     "metadata": {},
     "output_type": "execute_result"
    }
   ],
   "source": [
    "proveedor=IBMQ.enable_account(token)\n",
    "\n",
    "backend=proveedor.backend.ibmq_santiago\n",
    "\n",
    "generador=Generator(backend=backend)\n",
    "\n",
    "output=generador.sample(num_raw_bits=1024).block_until_ready()\n",
    "\n",
    "alumnos[int(output.mermin_correlator)]"
   ]
  },
  {
   "cell_type": "code",
   "execution_count": null,
   "id": "6a738feb",
   "metadata": {},
   "outputs": [],
   "source": []
  }
 ],
 "metadata": {
  "kernelspec": {
   "display_name": "clase",
   "language": "python",
   "name": "clase"
  },
  "language_info": {
   "codemirror_mode": {
    "name": "ipython",
    "version": 3
   },
   "file_extension": ".py",
   "mimetype": "text/x-python",
   "name": "python",
   "nbconvert_exporter": "python",
   "pygments_lexer": "ipython3",
   "version": "3.7.10"
  },
  "varInspector": {
   "cols": {
    "lenName": 16,
    "lenType": 16,
    "lenVar": 40
   },
   "kernels_config": {
    "python": {
     "delete_cmd_postfix": "",
     "delete_cmd_prefix": "del ",
     "library": "var_list.py",
     "varRefreshCmd": "print(var_dic_list())"
    },
    "r": {
     "delete_cmd_postfix": ") ",
     "delete_cmd_prefix": "rm(",
     "library": "var_list.r",
     "varRefreshCmd": "cat(var_dic_list()) "
    }
   },
   "types_to_exclude": [
    "module",
    "function",
    "builtin_function_or_method",
    "instance",
    "_Feature"
   ],
   "window_display": false
  }
 },
 "nbformat": 4,
 "nbformat_minor": 5
}
